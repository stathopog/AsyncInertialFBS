{
 "cells": [
  {
   "cell_type": "markdown",
   "metadata": {},
   "source": [
    "$\\Large{\\textbf{Asynchronous Inertial Forward-Backward Splitting for Load Sharing}}$"
   ]
  },
  {
   "cell_type": "markdown",
   "metadata": {},
   "source": [
    "$\\textbf{Goal}$\n",
    "\n",
    "A collection of $N$ controllable buildings, represented as linear dynamical systems, along with an energy storage \n",
    "system, represented as a one-state linear battery model, cooperate in order to track a signal. The signal corresponds\n",
    "to the deviation of the planned power consumption of the buildings to their real-time consumption in addition to power deviations that are caused by uncontrollable loads. The mix of battery + buildings compensates for the aggregate deviation.  \n",
    "\n",
    "$\\textbf{Problem formulation}$\n",
    "\n",
    "Track power residual signal for $T$ time instants (15 mins intervals) while operating the buildings and the battery within constraints. \n",
    "\n",
    "Can be formulated as\n",
    "\n",
    "\\begin{equation}\n",
    "\\begin{aligned}\n",
    "&{\\text{minimize}} && \\sum_{t=0}^T\\left(\\frac{\\alpha}{2}\\|p^\\mathrm{bess}(t) + \\sum_{i=1}^N(p_i^\\mathrm{cb}(t)-\\hat{p}_i^\\mathrm{cb}(t))-r(t)\\|^2_2 + \\sum_{i=1}^N g^\\mathrm{cb}_i(p^{\\mathrm{cb}}_i,u_i,x_i,y_i) + g^\\mathrm{bess}(p^\\mathrm{bess})\\right)\\enspace,\n",
    "\\end{aligned}\n",
    "\\end{equation}\n",
    "with variables $p^\\mathrm{bess}\\in\\mathbb{R}^T$ denoting the battery's power (generation or consumption), $p_i^\\mathrm{cb}$ the $i^\\mathrm{th}$ building's power consumption and $u_i,x_i,y_i$ being variables local to building $i$.\n",
    "\n",
    "\n",
    "\n",
    "\n"
   ]
  },
  {
   "cell_type": "markdown",
   "metadata": {},
   "source": [
    "The problem comprises three types of terms:\n",
    "* Tracking term $\\frac{\\alpha}{2}\\|p^\\mathrm{bess}(t) + \\sum_{i=1}^N(p_i^\\mathrm{cb}(t)-\\hat{p}_i^\\mathrm{cb}(t))-r(t)\\|^2_2$: The signal $r$ is generated from the coordinator and should be tracked by the buildings and the battery, who can vary their consumption within a zone that is centered around their planned consumption (denoted by $p^{\\mathrm{cb}}_i$ for building $i$) and defined by their operational constraints.\n",
    "* Building (CB) $i$'s objective: \\begin{equation}\n",
    "g^\\mathrm{cb}_i(p^{\\mathrm{cb}}_i,u_i,x_i,y_i) := \\Big\\{\\frac{1}{2}\\|y_i(t)-T_i^\\mathrm{ref}(t)\\|^2_2\n",
    "                                             \\;\\mid\\;(p^{\\mathrm{cb}}_i,u_i,x_i,y_i)\\in\\mathcal{C}^\\mathrm{cb}_i \\Big\\}\\enspace,\n",
    "\\end{equation}\n",
    "where the zones' temperatures $y_i$ have to remain close to a reference $T_i^\\mathrm{ref}$ while respecting operational and comfort constraints encoded in the convex set $\\mathcal{C}^\\mathrm{cb}_i$.\n",
    "* Battery (BESS) objective: \\begin{equation}\n",
    "g^\\mathrm{bess}(p^\\mathrm{bess}) := \\Big\\{\\frac{1}{2}\\sum_{t=1}^T\\|SOC(t)-SOC^\\mathrm{ref}(t)\\|^2_2\n",
    "                                             \\;\\mid\\;p^\\mathrm{bess}\\in\\mathcal{C}^\\mathrm{bess} \\Big\\}\\enspace,\n",
    "\\end{equation}\n",
    "where the battery's state of charge $SOC$ needs to remain close to a reference value $SOC^\\mathrm{ref}$ while respecting power and capacity constraints encoded in the convex set $\\mathcal{C}^\\mathrm{bess}$."
   ]
  },
  {
   "cell_type": "markdown",
   "metadata": {},
   "source": [
    "$\\textbf{Code}$\n",
    "\n",
    "The code is organized in modules. The *battery* and *building* modules parse the data that have been generated in MATLAB. The *agentBESS* and *agentCB* modules contain all the information regarding the buildings in the form of *types* and *functions*. These are standalone entities containing private information. \n",
    "\n",
    "In the algorithm that follows, a *master* module acts as the coordinator. Its responsibility is to enforce the tracking part of the objective as described above.\n",
    "\n",
    "Finally, the *pgm* and *async_inert_pgm* modules are the Proximal Gradient Method versions (synchronous and asynchronous) that solve the optimization problem.\n",
    "\n",
    "The following cells set up the simulation, namely they perform the data parsing and initiate the constructors."
   ]
  },
  {
   "cell_type": "code",
   "execution_count": 1,
   "metadata": {
    "collapsed": false,
    "scrolled": true
   },
   "outputs": [
    {
     "name": "stderr",
     "output_type": "stream",
     "text": [
      "WARNING: using Batteries.Batteries in module AgentsBESS conflicts with an existing identifier.\n",
      "WARNING: using Buildings.Buildings in module AgentsCB conflicts with an existing identifier.\n",
      "WARNING: using Buildings.Buildings in module AgentsCB conflicts with an existing identifier.\n",
      "WARNING: using Batteries.Batteries in module AgentsBESS conflicts with an existing identifier.\n",
      "WARNING: using AgentsCB.AgentsCB in module ProximalGradient conflicts with an existing identifier.\n",
      "WARNING: using AgentsBESS.AgentsBESS in module ProximalGradient conflicts with an existing identifier.\n",
      "WARNING: using Masters.Masters in module ProximalGradient conflicts with an existing identifier.\n",
      "WARNING: using Buildings.Buildings in module AgentsCB conflicts with an existing identifier.\n",
      "WARNING: using Batteries.Batteries in module AgentsBESS conflicts with an existing identifier.\n",
      "WARNING: using AgentsCB.AgentsCB in module AsynchronousProximalGradient conflicts with an existing identifier.\n",
      "WARNING: using AgentsBESS.AgentsBESS in module AsynchronousProximalGradient conflicts with an existing identifier.\n",
      "WARNING: using Masters.Masters in module AsynchronousProximalGradient conflicts with an existing identifier.\n"
     ]
    },
    {
     "data": {
      "text/plain": [
       "1-element Array{Any,1}:\n",
       " #undef"
      ]
     },
     "execution_count": 1,
     "metadata": {},
     "output_type": "execute_result"
    }
   ],
   "source": [
    "###################################################\n",
    "## Packages, initial data parsing and set globals #\n",
    "###################################################\n",
    "\n",
    "# set up state-space models for two agents\n",
    "include(\"building.jl\")\n",
    "using Buildings\n",
    "\n",
    "include(\"battery.jl\")\n",
    "using Batteries\n",
    "\n",
    "include(\"agentBESS.jl\")\n",
    "using AgentsBESS\n",
    "\n",
    "include(\"parseData.jl\")\n",
    "using parseData\n",
    "\n",
    "include(\"agentCB.jl\")\n",
    "using AgentsCB\n",
    "\n",
    "include(\"master.jl\")\n",
    "using Masters\n",
    "\n",
    "include(\"pgm.jl\")\n",
    "using ProximalGradient\n",
    "\n",
    "include(\"async_inert_pgm.jl\")\n",
    "using AsynchronousProximalGradient\n",
    "\n",
    "# general purpose packages\n",
    "using JuMP\n",
    "using Gurobi\n",
    "using ECOS\n",
    "using Distributions\n",
    "using JLD\n",
    "using DataFrames\n",
    "using BenchmarkTools, Compat\n",
    "\n",
    "# global variables\n",
    "const N = 5   # agents\n",
    "const T = 93  # time horizon\n",
    "const δ = 0.01  # cost regularizer\n",
    "const α = 1000.0  # tracking cost regularizer\n",
    "Tref = 22.0  # reference temperature\n",
    "Tend = 600.0  # simulation time in seconds\n",
    "\n",
    "# initialize array of contructors for three (types of) builings and one battery\n",
    "Building = Array{Buildings.Building}(3)\n",
    "Battery = Array{Batteries.Battery}(1)\n",
    "\n",
    "# initialize array of constructors for initial states and disturbance signals\n",
    "x0 = Array{Any}(3)\n",
    "w = Array{Any}(3)\n",
    "ref = Array{Any}(1)\n",
    "\n",
    "# initialize array of constructors for preconditioners\n",
    "Γ_BESS = Array{Any}(1)\n",
    "Γ_CB = Array{Any}(1)"
   ]
  },
  {
   "cell_type": "code",
   "execution_count": 2,
   "metadata": {
    "collapsed": false,
    "scrolled": true
   },
   "outputs": [
    {
     "name": "stdout",
     "output_type": "stream",
     "text": [
      "\n",
      "(15, 5)\n",
      "\n",
      "\n",
      "(54, 18)\n",
      "\n",
      "\n",
      "(57, 19)\n",
      "\n"
     ]
    }
   ],
   "source": [
    "#####################################################\n",
    "## Parsing of signals and building / battery module #\n",
    "#####################################################\n",
    "\n",
    "# parse initial states, disturbance and reference signals and preconditioning matrices\n",
    "x0, w, ref   = parseData.parseSignals(x0, w, ref)\n",
    "Γ_BESS, Γ_CB = parseData.parsePreconditioners(Γ_BESS, Γ_CB)\n",
    "\n",
    "# parse building and battery data\n",
    "building = Buildings.parseBuildings(Building)\n",
    "battery  = Batteries.parseBattery(Battery, N, T);"
   ]
  },
  {
   "cell_type": "code",
   "execution_count": 3,
   "metadata": {
    "collapsed": true,
    "scrolled": true
   },
   "outputs": [],
   "source": [
    "#####################################################\n",
    "## Aggregator CB constuctors                        # \n",
    "#####################################################\n",
    "\n",
    "# initalize consumptions, state-space, constraints and optimization data structures\n",
    "consume, ss, con, data = Array{Any}(1,N), Array{Any}(1,N), Array{Any}(1,N), Array{Any}(1,N)\n",
    "AgentCB = Array{Any}(N)\n",
    "\n",
    "# construct aggregators\n",
    "types = convert(Array,readtable(string(\"data/type\", \".dat\"), separator = ',', header = false))\n",
    "for i in 1:N\n",
    "    consume[i], ss[i], con[i], data[i] =  AgentsCB.setupAggregator(1, building[types[i]], Γ_CB, δ)\n",
    "    AgentCB[i]   = AgentsCB.Aggregator(1, consume[i], ss[i], con[i], data[i])\n",
    "end"
   ]
  },
  {
   "cell_type": "code",
   "execution_count": 4,
   "metadata": {
    "collapsed": false,
    "scrolled": true
   },
   "outputs": [
    {
     "data": {
      "text/plain": [
       "AgentsBESS.BESS"
      ]
     },
     "execution_count": 4,
     "metadata": {},
     "output_type": "execute_result"
    }
   ],
   "source": [
    "##############################################\n",
    "## BESS constructor                          # \n",
    "##############################################\n",
    "\n",
    "# initialize data structure and parameters\n",
    "data   = Array{Any}(1)\n",
    "SOC0   = 0.5*battery.SoCMax\n",
    "SOCref = 0.8*battery.SoCMax\n",
    "AgentBESS = Array{Any}(1)\n",
    "\n",
    "# BESS aggregator (currently one battery)\n",
    "system, data = AgentsBESS.setupBESS(battery, SOC0, SOCref, Γ_BESS)\n",
    "AgentBESS = AgentsBESS.BESS(system, data)\n",
    "typeof(AgentBESS)"
   ]
  },
  {
   "cell_type": "code",
   "execution_count": 5,
   "metadata": {
    "collapsed": false,
    "scrolled": true
   },
   "outputs": [
    {
     "data": {
      "text/plain": [
       "Masters.Master(5, [1.0 1.0 … 0.0 0.0; 0.0 0.0 … 0.0 0.0; … ; 0.0 0.0 … 0.0 0.0; 0.0 0.0 … 1.0 1.0], [1.0 0.0 … 0.0 0.0; 0.0 0.0 … 0.0 0.0; … ; 0.0 0.0 … 0.0 0.0; 0.0 0.0 … 0.0 1.0], [-0.2253, -0.13693, -0.21021, -0.08137, -0.10065, -0.024183, -0.022123, 0.0049664, -0.15601, -0.12624  …  0.031261, 0.0028789, 0.036412, 0.02905, 0.09532, -0.002768, 0.023753, 0.087993, 0.21606, -0.013234], [-0.130526, -0.0426833, -0.115994, 0.0127743, -0.00656897, 0.0698937, 0.0719555, 0.0990496, -0.0619228, -0.032148  …  0.124922, 0.0965801, 0.130181, 0.122883, 0.189206, 0.0911706, 0.117757, 0.182086, 0.310238, 0.0809617])"
      ]
     },
     "execution_count": 5,
     "metadata": {},
     "output_type": "execute_result"
    }
   ],
   "source": [
    "##############################################\n",
    "## Master constructor                        # \n",
    "##############################################\n",
    "\n",
    "# dispatch plan corresponds to the baseline consumption\n",
    "p_CB_hat = zeros(T,N)  # baseline consumption per building\n",
    "p_CB_tot = zeros(T)    # total baseline consumption\n",
    "for i in 1:N\n",
    "    p_CB_hat[:,i] = AgentCB[i].consumption.baseline_electrical\n",
    "    p_CB_tot = p_CB_tot + p_CB_hat[:,i]\n",
    "end\n",
    "\n",
    "# intialize selection matrices\n",
    "S = Array{Any}(1)\n",
    "E = Array{Any}(1)\n",
    "Master = Array{Any}(1)\n",
    "\n",
    "# constructor for the master\n",
    "Master = Masters.setupMaster(S, E, ref, N, p_CB_tot)"
   ]
  },
  {
   "cell_type": "code",
   "execution_count": 6,
   "metadata": {
    "collapsed": true,
    "scrolled": true
   },
   "outputs": [],
   "source": [
    "# night and day times\n",
    "night_times = collect([0:6*4-1; 22*4:24*4-1])\n",
    "day_times = collect(6*4:22*4-1);\n",
    "\n",
    "# initialize model\n",
    "X0 = Array{Any}(N)  # initial state \n",
    "W  = Array{Any}(N)  # exogenous inputs\n",
    "\n",
    "for i in 1:N\n",
    "    if AgentCB[i].system.Nx == 15\n",
    "        X0[i] = x0[1]\n",
    "        W[i] = w[1]\n",
    "    elseif AgentCB[i].system.Nx == 54\n",
    "        X0[i] = x0[2]\n",
    "        W[i] = w[2]\n",
    "    elseif AgentCB[i].system.Nx == 57\n",
    "        X0[i] = x0[3]\n",
    "        W[i] = w[3]\n",
    "    end\n",
    "end"
   ]
  },
  {
   "cell_type": "markdown",
   "metadata": {},
   "source": [
    "$\\textbf{Solve the optimization problem centrally}$\n",
    "\n",
    "The problem is solved centrally using the Gurobi optimizer with JuMP. The optimizers is used for verification of the distributed solution."
   ]
  },
  {
   "cell_type": "code",
   "execution_count": 18,
   "metadata": {
    "collapsed": false,
    "scrolled": true
   },
   "outputs": [
    {
     "name": "stdout",
     "output_type": "stream",
     "text": [
      "Academic license - for non-commercial use only\n",
      "Optimize a model with 59613 rows, 37293 columns and 2008986 nonzeros\n",
      "Model has 13578 quadratic objective terms\n",
      "Coefficient statistics:\n",
      "  Matrix range     [7e-13, 2e+01]\n",
      "  Objective range  [2e-02, 3e+02]\n",
      "  QObjective range [1e-06, 2e+03]\n",
      "  Bounds range     [0e+00, 0e+00]\n",
      "  RHS range        [3e-05, 2e+04]\n",
      "Presolve removed 29669 rows and 651 columns\n",
      "Presolve time: 0.76s\n",
      "Presolved: 29944 rows, 36732 columns, 1941834 nonzeros\n",
      "Presolved model has 13578 quadratic objective terms\n",
      "Ordering time: 0.66s\n",
      "\n",
      "Barrier statistics:\n",
      " Free vars  : 14796\n",
      " AA' NZ     : 2.648e+06\n",
      " Factor NZ  : 3.750e+06 (roughly 60 MBytes of memory)\n",
      " Factor Ops : 5.169e+08 (less than 1 second per iteration)\n",
      " Threads    : 4\n",
      "\n",
      "                  Objective                Residual\n",
      "Iter       Primal          Dual         Primal    Dual     Compl     Time\n",
      "   0   4.29577169e+15 -4.29624351e+15  1.19e+07 1.08e+06  1.09e+09     2s\n",
      "   1   7.98548468e+14 -7.98903037e+14  5.13e+06 4.66e+05  5.27e+08     2s\n",
      "   2   3.49793869e+13 -3.52219868e+13  1.07e+06 9.76e+04  1.35e+08     3s\n",
      "   3   1.87695417e+12 -1.99096831e+12  2.49e+05 2.26e+04  3.36e+07     3s\n",
      "   4   6.76360956e+10 -1.08015736e+11  4.72e+04 4.29e+03  7.07e+06     3s\n",
      "   5   1.25811829e+09 -1.12753274e+10  6.45e+03 5.86e+02  1.12e+06     3s\n",
      "   6   1.06889034e+07 -1.76859716e+09  6.07e+02 5.51e+01  1.29e+05     3s\n",
      "   7   2.92800629e+04 -3.36158844e+08  4.70e+01 4.27e+00  1.56e+04     3s\n",
      "   8  -1.85503094e+03 -5.53707386e+07  2.29e+00 2.08e-01  1.75e+03     4s\n",
      "   9  -2.38298113e+02 -1.79907981e+06  6.42e-02 5.83e-03  5.40e+01     4s\n",
      "  10  -3.45133107e+02 -1.30468067e+06  3.88e-02 3.53e-03  3.99e+01     4s\n",
      "  11  -4.56608167e+02 -3.95567508e+05  9.55e-03 8.68e-04  1.14e+01     4s\n",
      "  12  -5.89841536e+02 -9.77073889e+04  9.09e-04 1.57e-04  2.65e+00     4s\n",
      "  13  -6.98894740e+02 -8.94125577e+03  7.04e-05 1.48e-05  2.24e-01     4s\n",
      "  14  -7.53595200e+02 -1.81219409e+03  6.55e-06 3.70e-06  2.86e-02     4s\n",
      "  15  -7.82144726e+02 -8.73376630e+02  2.08e-07 3.34e-07  2.47e-03     5s\n",
      "  16  -7.87618683e+02 -7.99019731e+02  3.33e-08 4.16e-08  3.08e-04     5s\n",
      "  17  -7.87922735e+02 -7.91651324e+02  8.25e-09 1.34e-08  1.01e-04     5s\n",
      "  18  -7.87972596e+02 -7.89356134e+02  2.79e-09 3.12e-09  3.75e-05     5s\n",
      "  19  -7.87997469e+02 -7.88926703e+02  1.86e-09 8.38e-10  2.53e-05     6s\n",
      "  20  -7.88011732e+02 -7.88384774e+02  9.31e-10 6.77e-10  1.01e-05     6s\n",
      "  21  -7.88020503e+02 -7.88239090e+02  9.40e-10 2.03e-10  5.94e-06     6s\n",
      "  22  -7.88024459e+02 -7.88198760e+02  9.36e-10 2.90e-10  4.73e-06     6s\n",
      "  23  -7.88034500e+02 -7.88071883e+02  1.41e-09 2.58e-10  1.01e-06     6s\n",
      "  24  -7.88037899e+02 -7.88050673e+02  1.30e-09 2.25e-10  3.35e-07     6s\n",
      "  25  -7.88038931e+02 -7.88044656e+02  2.79e-09 1.11e-10  1.51e-07     6s\n",
      "  26  -7.88039643e+02 -7.88041365e+02  2.33e-09 3.87e-10  2.16e-08     7s\n",
      "  27  -7.88039742e+02 -7.88039839e+02  1.53e-09 2.08e-11  1.26e-09     7s\n",
      "  28  -7.88039749e+02 -7.88039753e+02  1.40e-09 7.10e-13  7.70e-11     7s\n",
      "\n",
      "Barrier solved model in 28 iterations and 6.80 seconds\n",
      "Optimal objective -7.88039749e+02\n",
      "\n"
     ]
    },
    {
     "data": {
      "text/plain": [
       "40.407748268"
      ]
     },
     "execution_count": 18,
     "metadata": {},
     "output_type": "execute_result"
    }
   ],
   "source": [
    "##################################################\n",
    "## Solve one optimal control instance centrally  #\n",
    "##################################################\n",
    "\n",
    "t = 0\n",
    "t0 = time_ns() \n",
    "\n",
    "agentModel = Model(solver=GurobiSolver())\n",
    "\n",
    "@variable(agentModel, U[j=1:N,1:AgentCB[j].system.Nu,1:T])  # activation inputs for heating CBs\n",
    "@variable(agentModel, X[j=1:N,1:AgentCB[j].system.Nx,1:T])  # internal states for CBs\n",
    "@variable(agentModel, Y[j=1:N,1:AgentCB[j].system.Ny,1:T])  # temperatures for CBs\n",
    "@variable(agentModel, p_CB[1:T,1:N])                        # total power consumption for CBs\n",
    "@variable(agentModel, p_BESS[1:T])                          # total power consumption for BESS\n",
    "\n",
    "X0  # initial states\n",
    "\n",
    "# dynamics & equality contraints\n",
    "for j = 1:N\n",
    "    for i = 1:AgentCB[j].system.Nx\n",
    "        @constraint(agentModel, X[j,i,1] == (sum(AgentCB[j].system.A[i,l]*X0[j][l] for l = 1:AgentCB[j].system.Nx) + sum(AgentCB[j].system.Bu[i,l]*U[j,l,1] for l = 1:AgentCB[j].system.Nu) + sum(AgentCB[j].system.Bw[i,l]*W[j][l,1] for l = 1:AgentCB[j].system.Nw) ) )\n",
    "    end\n",
    "    for i = 1:AgentCB[j].system.Ny\n",
    "        @constraint(agentModel, Y[j,i,1] == sum(1e-1*AgentCB[j].system.C[i,l]*X[j,l,1] for l = 1:AgentCB[j].system.Nx) )\n",
    "    end\n",
    "end\n",
    "\n",
    "for j = 1:N\n",
    "    for t = 1:T-1\n",
    "        for i = 1:AgentCB[j].system.Nx\n",
    "            @constraint(agentModel, X[j,i,t+1] == (sum(AgentCB[j].system.A[i,l]*X[j,l,t] for l = 1:AgentCB[j].system.Nx) + sum(AgentCB[j].system.Bu[i,l]*U[j,l,t+1] for l = 1:AgentCB[j].system.Nu) + sum(AgentCB[j].system.Bw[i,l]*W[j][l,t+1] for l = 1:AgentCB[j].system.Nw) ) )\n",
    "        end\n",
    "\n",
    "        for i = 1:AgentCB[j].system.Ny\n",
    "            @constraint(agentModel, Y[j,i,t+1] == sum(1e-1*AgentCB[j].system.C[i,l]*X[j,l,t+1] for l = 1:AgentCB[j].system.Nx) )\n",
    "        end\n",
    "\n",
    "        temp = 0\n",
    "        for s = 1:AgentCB[j].system.Nu\n",
    "            temp = temp + U[j,s,t]\n",
    "        end\n",
    "        @constraint(agentModel, p_CB[t,j] == temp/(1000*AgentCB[j].consumption.COP))\n",
    "\n",
    "    end\n",
    "    temp = 0\n",
    "    for s = 1:AgentCB[j].system.Nu\n",
    "        temp = temp + U[j,s,T]\n",
    "    end\n",
    "    @constraint(agentModel, p_CB[T,j] == temp/(1000*AgentCB[j].consumption.COP))\n",
    "end\n",
    "                                \n",
    "# inequality constraints\n",
    "for j = 1:N\n",
    "    for t = 1:T\n",
    "        if (t-1) in night_times\n",
    "            for i = 1:AgentCB[j].system.Ny\n",
    "                @constraint(agentModel, Y[j,i,t] >= 1e-1*AgentCB[j].constraints.outputNightMin[i])\n",
    "                @constraint(agentModel, 1e-1*AgentCB[j].constraints.outputNightMax[i] >= Y[j,i,t])\n",
    "            end\n",
    "        elseif (t-1) in day_times\n",
    "            for i = 1:AgentCB[j].system.Ny\n",
    "                @constraint(agentModel, Y[j,i,t] >= 1e-1*AgentCB[j].constraints.outputDayMin[i])\n",
    "                @constraint(agentModel, 1e-1*AgentCB[j].constraints.outputDayMax[i] >= Y[j,i,t])\n",
    "            end\n",
    "        end\n",
    "\n",
    "        for i = 1:AgentCB[j].system.Nu # for all rows do the following\n",
    "            @constraint(agentModel, 0*AgentCB[j].constraints.inputMin[i] <= U[j,i,t])\n",
    "            @constraint(agentModel, U[j,i,t] <= AgentCB[j].constraints.inputMax[i])\n",
    "        end\n",
    "    end\n",
    "end\n",
    "   \n",
    "v_p_CB = vec(p_CB)  \n",
    "SE = Master.S*Master.E\n",
    "M = [eye(T) SE]\n",
    "\n",
    "for i = 1:T                                \n",
    "    @constraint(agentModel, p_BESS[i] <= AgentBESS.system.pMax)  \n",
    "    @constraint(agentModel, p_BESS[i] >= AgentBESS.system.pMin) \n",
    "    @constraint(agentModel, AgentBESS.system.AA_bess[i]*SOC0 + dot(AgentBESS.system.BB_bess[i,:],p_BESS) <= AgentBESS.system.SoCMax) \n",
    "    @constraint(agentModel, AgentBESS.system.AA_bess[i]*SOC0 + dot(AgentBESS.system.BB_bess[i,:],p_BESS) >= AgentBESS.system.SoCMin)\n",
    "end\n",
    "     \n",
    "obj = 0;                                \n",
    "obj = dot(p_BESS, 0.5*δ*(AgentBESS.system.BB_bess'*AgentBESS.system.BB_bess)*p_BESS) + δ*dot(p_BESS, (AgentBESS.system.BB_bess'*AgentBESS.data.c_bess)) + 0.5*δ*dot(AgentBESS.data.c_bess, AgentBESS.data.c_bess)   \n",
    "obj += dot([p_BESS;v_p_CB], 0.5*α*(M'*M)*[p_BESS;v_p_CB]) - α*dot([p_BESS;v_p_CB], (M'*Master.ϵ_unc)) + 0.5*α*dot(Master.ϵ_unc, Master.ϵ_unc)  \n",
    "                                    \n",
    "for j = 1:N                                    \n",
    "    obj += 0.5*δ*vecdot(p_CB[:,j]-AgentCB[j].consumption.baseline_electrical, p_CB[:,j]-AgentCB[j].consumption.baseline_electrical)\n",
    "    for t = 1:T\n",
    "        for i = 1:AgentCB[j].system.Ny\n",
    "            obj += 0.5*(Y[j,i,t]-1e-1*Tref)*(Y[j,i,t]-1e-1*Tref) \n",
    "        end\n",
    "    end\n",
    "end\n",
    "\n",
    "@objective( agentModel, Min, obj )\n",
    "solve(agentModel)  # solve optimization\n",
    "gc()               # run garbage collector\n",
    "                                \n",
    "t = (time_ns()-t0)/1e9  # time solution"
   ]
  },
  {
   "cell_type": "code",
   "execution_count": 19,
   "metadata": {
    "collapsed": false,
    "scrolled": true
   },
   "outputs": [
    {
     "data": {
      "text/plain": [
       "93×5 Array{Float64,2}:\n",
       " 3.75937e-8   1.69559e-8   3.55072e-8   3.55072e-8   3.75937e-8 \n",
       " 7.41636e-6   1.67198e-8   3.60591e-8   3.60591e-8   7.41636e-6 \n",
       " 0.000463807  3.41548e-6   3.69237e-8   3.69237e-8   0.000463807\n",
       " 0.000692163  3.36132e-5   4.01909e-8   4.01909e-8   0.000692163\n",
       " 0.000892142  4.6815e-5    7.5116e-5    7.5116e-5    0.000892142\n",
       " 0.00141744   8.35675e-5   0.000305381  0.000305381  0.00141744 \n",
       " 0.00197612   0.000131875  0.000461589  0.000461589  0.00197612 \n",
       " 0.00243575   0.000172785  0.000614646  0.000614646  0.00243575 \n",
       " 0.0028567    0.000211764  0.000841738  0.000841738  0.0028567  \n",
       " 0.00327929   0.000249107  0.00109774   0.00109774   0.00327929 \n",
       " 0.00374243   0.000284721  0.00134553   0.00134553   0.00374243 \n",
       " 0.00419117   0.000430584  0.00159556   0.00159556   0.00419117 \n",
       " 0.0045939    0.00056949   0.00183395   0.00183395   0.0045939  \n",
       " ⋮                                                              \n",
       " 0.0163362    0.000883915  0.0080152    0.0080152    0.0163362  \n",
       " 0.0165421    0.000937996  0.00809357   0.00809357   0.0165421  \n",
       " 0.0167405    0.000990531  0.00816897   0.00816897   0.0167405  \n",
       " 0.016938     0.00104186   0.00824508   0.00824508   0.016938   \n",
       " 0.0171418    0.0012529    0.00832814   0.00832814   0.0171418  \n",
       " 0.0173418    0.00143486   0.00882759   0.00882759   0.0173418  \n",
       " 0.0175467    0.00166456   0.00980935   0.00980935   0.0175467  \n",
       " 0.00844681   0.0017121    0.00924039   0.00924039   0.00844681 \n",
       " 0.0132391    0.00185534   0.0115535    0.0115535    0.0132391  \n",
       " 0.0208002    0.00203585   0.0151205    0.0151205    0.0208002  \n",
       " 0.0375939    0.00219787   0.024504     0.024504     0.0375939  \n",
       " 0.0210823    0.00203349   0.0163195    0.0163195    0.0210823  "
      ]
     },
     "execution_count": 19,
     "metadata": {},
     "output_type": "execute_result"
    }
   ],
   "source": [
    "# get optimizers\n",
    "v_p_CB_opt = getvalue(v_p_CB)  # \n",
    "p_BESS_opt = getvalue(p_BESS)\n",
    "p_CB_opt   = getvalue(p_CB)\n",
    "\n",
    "soc = zeros(T)\n",
    "for i = 1:T\n",
    "    soc[i] = AgentBESS.system.AA_bess[i]*SOC0 + getvalue(dot(AgentBESS.system.BB_bess[i,:],p_BESS))\n",
    "end\n",
    "soc\n",
    "p_CB_opt"
   ]
  },
  {
   "cell_type": "code",
   "execution_count": 15,
   "metadata": {
    "collapsed": false
   },
   "outputs": [
    {
     "data": {
      "text/plain": [
       "93×5 Array{Float64,2}:\n",
       " 6.81744e-9   1.51684e-9   6.18653e-9   6.18653e-9   6.81745e-9 \n",
       " 7.3798e-6    3.06491e-9   6.27944e-9   6.27944e-9   7.3798e-6  \n",
       " 0.000463779  3.40206e-6   6.44315e-9   6.44315e-9   0.000463779\n",
       " 0.000692133  3.35973e-5   7.02915e-9   7.02915e-9   0.000692133\n",
       " 0.00089211   4.6791e-5    7.50822e-5   7.50822e-5   0.00089211 \n",
       " 0.00141741   8.35365e-5   0.000305344  0.000305344  0.00141741 \n",
       " 0.00197608   0.000131855  0.000461546  0.000461546  0.00197608 \n",
       " 0.00243571   0.000172756  0.0006146    0.0006146    0.00243571 \n",
       " 0.00285666   0.000211736  0.000841693  0.000841693  0.00285666 \n",
       " 0.00327924   0.000249067  0.00109769   0.00109769   0.00327924 \n",
       " 0.00374239   0.000284599  0.00134547   0.00134547   0.00374239 \n",
       " 0.00419111   0.000430526  0.00159548   0.00159548   0.00419111 \n",
       " 0.00459382   0.00056945   0.00183384   0.00183384   0.00459382 \n",
       " ⋮                                                              \n",
       " 0.0163359    0.000884164  0.00801521   0.00801521   0.0163359  \n",
       " 0.0165418    0.000938084  0.00809355   0.00809355   0.0165418  \n",
       " 0.0167403    0.000990553  0.0081689    0.0081689    0.0167403  \n",
       " 0.0169377    0.001036     0.00824492   0.00824492   0.0169377  \n",
       " 0.0171415    0.00125489   0.00832601   0.00832601   0.0171415  \n",
       " 0.0173414    0.00143523   0.00882803   0.00882803   0.0173414  \n",
       " 0.0175384    0.00166499   0.0097887    0.0097887    0.0175384  \n",
       " 0.00845073   0.0017124    0.00924707   0.00924707   0.00845073 \n",
       " 0.0132401    0.0018556    0.0115547    0.0115547    0.0132401  \n",
       " 0.020797     0.00203607   0.015122     0.015122     0.020797   \n",
       " 0.0376119    0.00219801   0.0245146    0.0245146    0.0376119  \n",
       " 0.0210815    0.00203375   0.0162885    0.0162885    0.0210815  "
      ]
     },
     "execution_count": 15,
     "metadata": {},
     "output_type": "execute_result"
    }
   ],
   "source": [
    "p_CB_opt"
   ]
  },
  {
   "cell_type": "code",
   "execution_count": 173,
   "metadata": {
    "collapsed": false
   },
   "outputs": [
    {
     "data": {
      "text/plain": [
       "CSV.Sink(    CSV.Options:\n",
       "        delim: ','\n",
       "        quotechar: '\"'\n",
       "        escapechar: '\\\\'\n",
       "        null: \"\"\n",
       "        dateformat: dateformat\"yyyy-mm-dd\", IOBuffer(data=UInt8[...], readable=true, writable=true, seekable=true, append=false, size=0, maxsize=Inf, ptr=1, mark=-1), \"p_CB_N5.csv\", 40, true, String[\"x1\", \"x2\", \"x3\", \"x4\", \"x5\", \"x6\", \"x7\", \"x8\"], false)"
      ]
     },
     "execution_count": 173,
     "metadata": {},
     "output_type": "execute_result"
    }
   ],
   "source": [
    "dP = Array{Float64,2}(T,N)\n",
    "for j in 1:N\n",
    "    dP[:,j] = getvalue(p_CB[:,j]) - AgentCB[j].consumption.baseline_electrical\n",
    "end\n",
    "cumdP = cumsum(dP,2)\n",
    "using CSV\n",
    "CSV.write(\"p_CB_N5.csv\", convert(DataFrame,[collect(1:T) cumdP getvalue(p_BESS)+cumdP[:,end] ref]); delim = ',')"
   ]
  },
  {
   "cell_type": "code",
   "execution_count": 174,
   "metadata": {
    "collapsed": false
   },
   "outputs": [
    {
     "data": {
      "text/plain": [
       "CSV.Sink(    CSV.Options:\n",
       "        delim: ','\n",
       "        quotechar: '\"'\n",
       "        escapechar: '\\\\'\n",
       "        null: \"\"\n",
       "        dateformat: dateformat\"yyyy-mm-dd\", IOBuffer(data=UInt8[...], readable=true, writable=true, seekable=true, append=false, size=0, maxsize=Inf, ptr=1, mark=-1), \"SOC_N5.csv\", 15, true, String[\"x1\", \"x2\", \"x3\"], false)"
      ]
     },
     "execution_count": 174,
     "metadata": {},
     "output_type": "execute_result"
    }
   ],
   "source": [
    "CSV.write(\"SOC_N5.csv\", convert(DataFrame,[collect(1:T) soc SOCref*ones(T)]); delim = ',')"
   ]
  },
  {
   "cell_type": "code",
   "execution_count": 175,
   "metadata": {
    "collapsed": false
   },
   "outputs": [
    {
     "data": {
      "text/plain": [
       "CSV.Sink(    CSV.Options:\n",
       "        delim: ','\n",
       "        quotechar: '\"'\n",
       "        escapechar: '\\\\'\n",
       "        null: \"\"\n",
       "        dateformat: dateformat\"yyyy-mm-dd\", IOBuffer(data=UInt8[...], readable=true, writable=true, seekable=true, append=false, size=0, maxsize=Inf, ptr=1, mark=-1), \"TempCBsmall_N5.csv\", 45, true, String[\"x1\", \"x2\", \"x3\", \"x4\", \"x5\", \"x6\", \"x7\", \"x8\", \"x9\"], false)"
      ]
     },
     "execution_count": 175,
     "metadata": {},
     "output_type": "execute_result"
    }
   ],
   "source": [
    "ConTempMinCB, ConTempMaxCB = zeros(T), zeros(T)\n",
    "for t = 1:T\n",
    "    if (t-1) in night_times\n",
    "        ConTempMinCB[t] = AgentCB[2].constraints.outputNightMin[1]\n",
    "        ConTempMaxCB[t] = AgentCB[2].constraints.outputNightMax[1]\n",
    "    elseif (t-1) in day_times\n",
    "        ConTempMinCB[t] = AgentCB[2].constraints.outputDayMin[1]\n",
    "        ConTempMaxCB[t] = AgentCB[2].constraints.outputDayMax[1]\n",
    "    end\n",
    "end\n",
    "\n",
    "slice = vcat([[Y[2,j,t] for t in 1:T] for j in 1:5])\n",
    "TempCBsmall = Array{Float64,2}(T,5)\n",
    "for j in 1:5\n",
    "    TempCBsmall[:,j] = getvalue(slice[j])\n",
    "end\n",
    "\n",
    "CSV.write(\"TempCBsmall_N5.csv\", convert(DataFrame,[collect(1:T) TempCBsmall ConTempMinCB ConTempMaxCB Tref*ones(T)]); delim = ',')"
   ]
  },
  {
   "cell_type": "code",
   "execution_count": 176,
   "metadata": {
    "collapsed": false
   },
   "outputs": [
    {
     "data": {
      "text/plain": [
       "Y: 3 dimensions, 7347 entries:\n",
       " [1, 1, 1] = 21.92601620663377\n",
       " [1, 1, 2] = 21.90056764879163\n",
       " [1, 1, 3] = 21.891281255087048\n",
       " [1, 1, 4] = 21.887788974394958\n",
       " [1, 1, 5] = 21.886458390769626\n",
       " [1, 1, 6] = 21.885960584618076\n",
       " [1, 1, 7] = 21.885754159248652\n",
       " [1, 1, 8] = 21.885632907312743\n",
       " [1, 1, 9] = 21.885522821986616\n",
       " [1, 1,10] = 21.885390703319793\n",
       " [1, 1,11] = 21.88522079204145\n",
       " [1, 1,12] = 21.884989446625056\n",
       " [1, 1,13] = 21.884683570885684\n",
       " [1, 1,14] = 21.884303909977707\n",
       " [1, 1,15] = 21.88384943301731\n",
       " [1, 1,16] = 21.88331764510388\n",
       " [1, 1,17] = 21.882708919992538\n",
       " [1, 1,18] = 21.882020529175108\n",
       " [1, 1,19] = 21.881282000627124\n",
       " [1, 1,20] = 21.880448677142194\n",
       " [1, 1,21] = 21.87954667924427\n",
       " [1, 1,22] = 21.878563902835452\n",
       " [1, 1,23] = 21.87756022082392\n",
       " [1, 1,24] = 21.876374219868374\n",
       " [1, 1,25] = 21.87553269053158\n",
       " [1, 1,26] = 21.873816268444116\n",
       " [1, 1,27] = 21.872351287490588\n",
       " [1, 1,28] = 21.870887937472293\n",
       " [1, 1,29] = 21.86943083803572\n",
       " [1, 1,30] = 21.86794757802776\n",
       " [1, 1,31] = 21.86634280907622\n",
       " [1, 1,32] = 21.864775290433766\n",
       " [1, 1,33] = 21.86308765053291\n",
       " [1, 1,34] = 21.86161202115745\n",
       " [1, 1,35] = 21.859936425149442\n",
       " [1, 1,36] = 21.858293509310474\n",
       " [1, 1,37] = 21.856655735729877\n",
       " [1, 1,38] = 21.854955531614586\n",
       " [1, 1,39] = 21.853170975204655\n",
       " [1, 1,40] = 21.85148526165876\n",
       " [1, 1,41] = 21.8498031615178\n",
       " [1, 1,42] = 21.84813285007254\n",
       " [1, 1,43] = 21.846513357325144\n",
       " [1, 1,44] = 21.84490415974408\n",
       " [1, 1,45] = 21.843492602657204\n",
       " [1, 1,46] = 21.841858023204964\n",
       " [1, 1,47] = 21.84015874227102\n",
       " [1, 1,48] = 21.838769243372184\n",
       " [1, 1,49] = 21.837405164258364\n",
       " [1, 1,50] = 21.835932491221072\n",
       " [1, 1,51] = 21.83474604855187\n",
       " [1, 1,52] = 21.83384932030794\n",
       " [1, 1,53] = 21.832708409444187\n",
       " [1, 1,54] = 21.831437041345275\n",
       " [1, 1,55] = 21.83012303279684\n",
       " [1, 1,56] = 21.828795817912543\n",
       " [1, 1,57] = 21.827464874326253\n",
       " [1, 1,58] = 21.826129995949028\n",
       " [1, 1,59] = 21.824791351094255\n",
       " [1, 1,60] = 21.8234461792109\n",
       " [1, 1,61] = 21.822083846455364\n",
       " [1, 1,62] = 21.820703829232162\n",
       " [1, 1,63] = 21.819320984011075\n",
       " [1, 1,64] = 21.81793499259416\n",
       " [1, 1,65] = 21.81653573201543\n",
       " [1, 1,66] = 21.815126548926838\n",
       " [1, 1,67] = 21.81370714990688\n",
       " [1, 1,68] = 21.81228115378514\n",
       " [1, 1,69] = 21.810866094818216\n",
       " [1, 1,70] = 21.809454074831713\n",
       " [1, 1,71] = 21.808036616970632\n",
       " [1, 1,72] = 21.80660865136259\n",
       " [1, 1,73] = 21.80516772326303\n",
       " [1, 1,74] = 21.803713389431472\n",
       " [1, 1,75] = 21.80224637787954\n",
       " [1, 1,76] = 21.800765982889157\n",
       " [1, 1,77] = 21.79927184183841\n",
       " [1, 1,78] = 21.797764118501725\n",
       " [1, 1,79] = 21.79624345117055\n",
       " [1, 1,80] = 21.79470920838917\n",
       " [1, 1,81] = 21.793162573343036\n",
       " [1, 1,82] = 21.791604109851235\n",
       " [1, 1,83] = 21.79003403629475\n",
       " [1, 1,84] = 21.788453394965305\n",
       " [1, 1,85] = 21.7868631823487\n",
       " [1, 1,86] = 21.785263702716687\n",
       " [1, 1,87] = 21.783654687552733\n",
       " [1, 1,88] = 21.78203756428929\n",
       " [1, 1,89] = 21.780202593509912\n",
       " [1, 1,90] = 21.7791441579744\n",
       " [1, 1,91] = 21.777624695410893\n",
       " [1, 1,92] = 21.775962042491184\n",
       " [1, 1,93] = 21.773483193783214\n",
       " [1, 2, 1] = 21.862636637447075\n",
       " [1, 2, 2] = 21.8164611462276\n",
       " [1, 2, 3] = 21.796165247795233\n",
       " [1, 2, 4] = 21.78326426005178\n",
       " [1, 2, 5] = 21.772601974637105\n",
       " [1, 2, 6] = 21.762714426867866\n",
       " [1, 2, 7] = 21.753153004230825\n",
       " [1, 2, 8] = 21.743775922459164\n",
       " [1, 2, 9] = 21.73452870613684\n",
       " [1, 2,10] = 21.725376177120392\n",
       " [1, 2,11] = 21.71629228157037\n",
       " [1, 2,12] = 21.70726842458521\n",
       " [1, 2,13] = 21.698321752886734\n",
       " [1, 2,14] = 21.689466522902393\n",
       " [1, 2,15] = 21.680705451562016\n",
       " [1, 2,16] = 21.672041448144903\n",
       " [1, 2,17] = 21.663449367572255\n",
       " [1, 2,18] = 21.654948327339117\n",
       " [1, 2,19] = 21.646524323683508\n",
       " [1, 2,20] = 21.638159863263787\n",
       " [1, 2,21] = 21.629989012524685\n",
       " [1, 2,22] = 21.621928475456286\n",
       " [1, 2,23] = 21.614121822453644\n",
       " [1, 2,24] = 21.606537323524478\n",
       " [1, 2,25] = 21.5991865141111\n",
       " [1, 2,26] = 21.59169981626218\n",
       " [1, 2,27] = 21.5849362105105\n",
       " [1, 2,28] = 21.578442772433267\n",
       " [1, 2,29] = 21.572112114116866\n",
       " [1, 2,30] = 21.56594323263228\n",
       " [1, 2,31] = 21.55981582526042\n",
       " [1, 2,32] = 21.55381642721027\n",
       " [1, 2,33] = 21.547832855021003\n",
       " [1, 2,34] = 21.542059220843147\n",
       " [1, 2,35] = 21.53640630459084\n",
       " [1, 2,36] = 21.531207516909728\n",
       " [1, 2,37] = 21.526308739042552\n",
       " [1, 2,38] = 21.52162262611785\n",
       " [1, 2,39] = 21.517167667771467\n",
       " [1, 2,40] = 21.512923545066975\n",
       " [1, 2,41] = 21.508600758256154\n",
       " [1, 2,42] = 21.504255554519244\n",
       " [1, 2,43] = 21.499940143701192\n",
       " [1, 2,44] = 21.495594015737666\n",
       " [1, 2,45] = 21.491307588227155\n",
       " [1, 2,46] = 21.487019423983245\n",
       " [1, 2,47] = 21.4831185506585\n",
       " [1, 2,48] = 21.479355108154536\n",
       " [1, 2,49] = 21.475166676020127\n",
       " [1, 2,50] = 21.470550756879724\n",
       " [1, 2,51] = 21.465831819108267\n",
       " [1, 2,52] = 21.46113158228762\n",
       " [1, 2,53] = 21.456292184441516\n",
       " [1, 2,54] = 21.45146014391236\n",
       " [1, 2,55] = 21.446689349075037\n",
       " [1, 2,56] = 21.441974715721088\n",
       " [1, 2,57] = 21.43730239733356\n",
       " [1, 2,58] = 21.432660619351424\n",
       " [1, 2,59] = 21.428041869291917\n",
       " [1, 2,60] = 21.423437174540183\n",
       " [1, 2,61] = 21.418832703794926\n",
       " [1, 2,62] = 21.414222237031368\n",
       " [1, 2,63] = 21.409604383066334\n",
       " [1, 2,64] = 21.404970384363555\n",
       " [1, 2,65] = 21.400305361912284\n",
       " [1, 2,66] = 21.39560526141655\n",
       " [1, 2,67] = 21.39086910742959\n",
       " [1, 2,68] = 21.386105353635052\n",
       " [1, 2,69] = 21.38133519268328\n",
       " [1, 2,70] = 21.37656819975497\n",
       " [1, 2,71] = 21.371809392502563\n",
       " [1, 2,72] = 21.367061772029885\n",
       " [1, 2,73] = 21.362327373545114\n",
       " [1, 2,74] = 21.35760840590638\n",
       " [1, 2,75] = 21.352907581450648\n",
       " [1, 2,76] = 21.348226397019875\n",
       " [1, 2,77] = 21.343565768678303\n",
       " [1, 2,78] = 21.33892629180705\n",
       " [1, 2,79] = 21.334308485205767\n",
       " [1, 2,80] = 21.32971315976994\n",
       " [1, 2,81] = 21.325139726528505\n",
       " [1, 2,82] = 21.320587562577828\n",
       " [1, 2,83] = 21.316055679533896\n",
       " [1, 2,84] = 21.311543558298233\n",
       " [1, 2,85] = 21.3070507685165\n",
       " [1, 2,86] = 21.30257615351822\n",
       " [1, 2,87] = 21.298117653223237\n",
       " [1, 2,88] = 21.293674155584927\n",
       " [1, 2,89] = 21.289231770175054\n",
       " [1, 2,90] = 21.284925810059825\n",
       " [1, 2,91] = 21.280215836568978\n",
       " [1, 2,92] = 21.275915923040248\n",
       " [1, 2,93] = 21.272340977609037\n",
       " [1, 3, 1] = 21.979282625606455\n",
       " [1, 3, 2] = 21.957858468288407\n",
       " [1, 3, 3] = 21.938576028248473\n",
       " [1, 3, 4] = 21.921080307640203\n",
       " [1, 3, 5] = 21.905078338285502\n",
       " [1, 3, 6] = 21.89032384750763\n",
       " [1, 3, 7] = 21.87660588836\n",
       " [1, 3, 8] = 21.863748302516736\n",
       " [1, 3, 9] = 21.851603899547488\n",
       " [1, 3,10] = 21.840048395258105\n",
       " [1, 3,11] = 21.828976555167497\n",
       " [1, 3,12] = 21.818299418869373\n",
       " [1, 3,13] = 21.80794155692094\n",
       " [1, 3,14] = 21.797839391824823\n",
       " [1, 3,15] = 21.787940680149667\n",
       " [1, 3,16] = 21.77820499410574\n",
       " [1, 3,17] = 21.76858912820201\n",
       " [1, 3,18] = 21.759056339621687\n",
       " [1, 3,19] = 21.749604909763068\n",
       " [1, 3,20] = 21.74017736643979\n",
       " [1, 3,21] = 21.730833176202058\n",
       " [1, 3,22] = 21.721444507685277\n",
       " [1, 3,23] = 21.71215641436633\n",
       " [1, 3,24] = 21.703062014271136\n",
       " [1, 3,25] = 21.69424704294557\n",
       " [1, 3,26] = 21.68562385234961\n",
       " [1, 3,27] = 21.677185890460017\n",
       " [1, 3,28] = 21.668843522057923\n",
       " [1, 3,29] = 21.66052039272443\n",
       " [1, 3,30] = 21.652343106406565\n",
       " [1, 3,31] = 21.64433220077488\n",
       " [1, 3,32] = 21.636501848486205\n",
       " [1, 3,33] = 21.628654788782928\n",
       " [1, 3,34] = 21.620895301715898\n",
       " [1, 3,35] = 21.613276763400496\n",
       " [1, 3,36] = 21.605844064300378\n",
       " [1, 3,37] = 21.598631211053508\n",
       " [1, 3,38] = 21.591661066023455\n",
       " [1, 3,39] = 21.584948148817556\n",
       " [1, 3,40] = 21.57854594588153\n",
       " [1, 3,41] = 21.572377981884983\n",
       " [1, 3,42] = 21.56644163327149\n",
       " [1, 3,43] = 21.56075573424289\n",
       " [1, 3,44] = 21.555200607113065\n",
       " [1, 3,45] = 21.549811208833663\n",
       " [1, 3,46] = 21.54461239320571\n",
       " [1, 3,47] = 21.53964294092501\n",
       " [1, 3,48] = 21.534880599213093\n",
       " [1, 3,49] = 21.530333542859424\n",
       " [1, 3,50] = 21.525973820759607\n",
       " [1, 3,51] = 21.52178032757585\n",
       " [1, 3,52] = 21.5176944828365\n",
       " [1, 3,53] = 21.51359224902251\n",
       " [1, 3,54] = 21.5094205468034\n",
       " [1, 3,55] = 21.505138289013537\n",
       " [1, 3,56] = 21.5007192920377\n",
       " [1, 3,57] = 21.49614651668858\n",
       " [1, 3,58] = 21.491409619196904\n",
       " [1, 3,59] = 21.48650405299957\n",
       " [1, 3,60] = 21.481428548384983\n",
       " [1, 3,61] = 21.47618102062696\n",
       " [1, 3,62] = 21.47075863785042\n",
       " [1, 3,63] = 21.465159092521663\n",
       " [1, 3,64] = 21.459405714665884\n",
       " [1, 3,65] = 21.453512503194588\n",
       " [1, 3,66] = 21.447491432109544\n",
       " [1, 3,67] = 21.441351501558753\n",
       " [1, 3,68] = 21.435101098929106\n",
       " [1, 3,69] = 21.42875369106297\n",
       " [1, 3,70] = 21.42232072189588\n",
       " [1, 3,71] = 21.41581200224292\n",
       " [1, 3,72] = 21.409235990045737\n",
       " [1, 3,73] = 21.402599857961697\n",
       " [1, 3,74] = 21.395909885301748\n",
       " [1, 3,75] = 21.389172233314333\n",
       " [1, 3,76] = 21.382392275545676\n",
       " [1, 3,77] = 21.375574723597506\n",
       " [1, 3,78] = 21.368723807864463\n",
       " [1, 3,79] = 21.36184365064776\n",
       " [1, 3,80] = 21.354936943765566\n",
       " [1, 3,81] = 21.34800666405825\n",
       " [1, 3,82] = 21.341055464482736\n",
       " [1, 3,83] = 21.334085399594667\n",
       " [1, 3,84] = 21.327098357169255\n",
       " [1, 3,85] = 21.32009622659314\n",
       " [1, 3,86] = 21.313080702365117\n",
       " [1, 3,87] = 21.30605266814527\n",
       " [1, 3,88] = 21.29901300628233\n",
       " [1, 3,89] = 21.291974125043833\n",
       " [1, 3,90] = 21.28495557341069\n",
       " [1, 3,91] = 21.277907721966287\n",
       " [1, 3,92] = 21.27066077465612\n",
       " [1, 3,93] = 21.26341288130103\n",
       " [1, 4, 1] = 21.60508220673317\n",
       " [1, 4, 2] = 21.446908861563248\n",
       " [1, 4, 3] = 21.373158526121678\n",
       " [1, 4, 4] = 21.32662468951045\n",
       " [1, 4, 5] = 21.288627747896008\n",
       " [1, 4, 6] = 21.25304015600539\n",
       " [1, 4, 7] = 21.218288379721994\n",
       " [1, 4, 8] = 21.183898929616504\n",
       " [1, 4, 9] = 21.14963337091375\n",
       " [1, 4,10] = 21.115433377496327\n",
       " [1, 4,11] = 21.081287950509186\n",
       " [1, 4,12] = 21.047207345196828\n",
       " [1, 4,13] = 21.01320457417684\n",
       " [1, 4,14] = 20.97930649764799\n",
       " [1, 4,15] = 20.945573112255325\n",
       " [1, 4,16] = 20.912046750687526\n",
       " [1, 4,17] = 20.878620546080086\n",
       " [1, 4,18] = 20.846281779337108\n",
       " [1, 4,19] = 20.814324180531052\n",
       " [1, 4,20] = 20.783206275185986\n",
       " [1, 4,21] = 20.752911531182203\n",
       " [1, 4,22] = 20.72347329008852\n",
       " [1, 4,23] = 20.694056473468986\n",
       " [1, 4,24] = 20.66621131554755\n",
       " [1, 4,25] = 20.639165569365513\n",
       " [1, 4,26] = 20.617823977687713\n",
       " [1, 4,27] = 20.59663831002014\n",
       " [1, 4,28] = 20.575886079597346\n",
       " [1, 4,29] = 20.555543661266814\n",
       " [1, 4,30] = 20.536883414719846\n",
       " [1, 4,31] = 20.521371190825725\n",
       " [1, 4,32] = 20.507911299798465\n",
       " [1, 4,33] = 20.49778087062058\n",
       " [1, 4,34] = 20.48837476347545\n",
       " [1, 4,35] = 20.479847692843624\n",
       " [1, 4,36] = 20.47267167698579\n",
       " [1, 4,37] = 20.46668262889814\n",
       " [1, 4,38] = 20.46176960943889\n",
       " [1, 4,39] = 20.45785864739478\n",
       " [1, 4,40] = 20.454762220632936\n",
       " [1, 4,41] = 20.45295236104545\n",
       " [1, 4,42] = 20.451755815564844\n",
       " [1, 4,43] = 20.45113242002685\n",
       " [1, 4,44] = 20.45162221660131\n",
       " [1, 4,45] = 20.452271437647966\n",
       " [1, 4,46] = 20.4532357895242\n",
       " [1, 4,47] = 20.454713990197654\n",
       " [1, 4,48] = 20.457023444727586\n",
       " [1, 4,49] = 20.459745981980618\n",
       " [1, 4,50] = 20.461847327797972\n",
       " [1, 4,51] = 20.456429294191192\n",
       " [1, 4,52] = 20.443268371509706\n",
       " [1, 4,53] = 20.429089235554933\n",
       " [1, 4,54] = 20.414029830408833\n",
       " [1, 4,55] = 20.39822377496145\n",
       " [1, 4,56] = 20.38201393855542\n",
       " [1, 4,57] = 20.365561207410178\n",
       " [1, 4,58] = 20.348943865662672\n",
       " [1, 4,59] = 20.33221386003572\n",
       " [1, 4,60] = 20.315393105088972\n",
       " [1, 4,61] = 20.298455831375353\n",
       " [1, 4,62] = 20.281426987157122\n",
       " [1, 4,63] = 20.26422281101975\n",
       " [1, 4,64] = 20.246865531126396\n",
       " [1, 4,65] = 20.22935353799668\n",
       " [1, 4,66] = 20.21169034672552\n",
       " [1, 4,67] = 20.193869811623166\n",
       " [1, 4,68] = 20.17591529399569\n",
       " [1, 4,69] = 20.157926445652986\n",
       " [1, 4,70] = 20.139942251895196\n",
       " [1, 4,71] = 20.121980647715073\n",
       " [1, 4,72] = 20.104051921694204\n",
       " [1, 4,73] = 20.086160525859338\n",
       " [1, 4,74] = 20.068315834956113\n",
       " [1, 4,75] = 20.05054419426454\n",
       " [1, 4,76] = 20.032857599034973\n",
       " [1, 4,77] = 20.0152628972918\n",
       " [1, 4,78] = 20.000000296490175\n",
       " [1, 4,79] = 20.000000168115132\n",
       " [1, 4,80] = 20.000000264554807\n",
       " [1, 4,81] = 20.000000273046286\n",
       " [1, 4,82] = 20.000000296541398\n",
       " [1, 4,83] = 20.000000320731875\n",
       " [1, 4,84] = 20.000000354179544\n",
       " [1, 4,85] = 20.000000388560228\n",
       " [1, 4,86] = 20.000000458464058\n",
       " [1, 4,87] = 20.00000055192008\n",
       " [1, 4,88] = 20.000000564768662\n",
       " [1, 4,89] = 19.883941814586176\n",
       " [1, 4,90] = 19.8293036711175\n",
       " [1, 4,91] = 19.796708931957422\n",
       " [1, 4,92] = 19.773146161766697\n",
       " [1, 4,93] = 19.75875907501806\n",
       " [1, 5, 1] = 21.6172764102263\n",
       " [1, 5, 2] = 21.45893794437998\n",
       " [1, 5, 3] = 21.38575308677351\n",
       " [1, 5, 4] = 21.34746134321449\n",
       " [1, 5, 5] = 21.32408215886072\n",
       " [1, 5, 6] = 21.307428655955768\n",
       " [1, 5, 7] = 21.293964728341617\n",
       " [1, 5, 8] = 21.282166510569237\n",
       " [1, 5, 9] = 21.271345623321828\n",
       " [1, 5,10] = 21.261138042400365\n",
       " [1, 5,11] = 21.251357072919628\n",
       " [1, 5,12] = 21.2419245710113\n",
       " [1, 5,13] = 21.23279016402411\n",
       " [1, 5,14] = 21.22390259997944\n",
       " [1, 5,15] = 21.215212918063653\n",
       " [1, 5,16] = 21.206689566395358\n",
       " [1, 5,17] = 21.198279920076\n",
       " [1, 5,18] = 21.18997594282279\n",
       " [1, 5,19] = 21.181816842059742\n",
       " [1, 5,20] = 21.17386489040989\n",
       " [1, 5,21] = 21.166155805272453\n",
       " [1, 5,22] = 21.158555946161158\n",
       " [1, 5,23] = 21.15161453388866\n",
       " [1, 5,24] = 21.144823035392065\n",
       " [1, 5,25] = 21.13828115455569\n",
       " [1, 5,26] = 21.131640627907984\n",
       " [1, 5,27] = 21.125668079858443\n",
       " [1, 5,28] = 21.11993724109193\n",
       " [1, 5,29] = 21.114428752839704\n",
       " [1, 5,30] = 21.10905999831288\n",
       " [1, 5,31] = 21.103376711201054\n",
       " [1, 5,32] = 21.097733163722094\n",
       " [1, 5,33] = 21.091833397109575\n",
       " [1, 5,34] = 21.08657610166418\n",
       " [1, 5,35] = 21.082180197700314\n",
       " [1, 5,36] = 21.07811450307189\n",
       " [1, 5,37] = 21.074153234203482\n",
       " [1, 5,38] = 21.070299922497593\n",
       " [1, 5,39] = 21.066465280917747\n",
       " [1, 5,40] = 21.062382159199384\n",
       " [1, 5,41] = 21.057818182132195\n",
       " [1, 5,42] = 21.05323213301754\n",
       " [1, 5,43] = 21.048642129153215\n",
       " [1, 5,44] = 21.04378573084173\n",
       " [1, 5,45] = 21.03916879539259\n",
       " [1, 5,46] = 21.035193532828007\n",
       " [1, 5,47] = 21.031262817043775\n",
       " [1, 5,48] = 21.026276181209795\n",
       " [1, 5,49] = 21.02060808312559\n",
       " [1, 5,50] = 21.014401065518793\n",
       " [1, 5,51] = 21.008825890411707\n",
       " [1, 5,52] = 21.00375269547274\n",
       " [1, 5,53] = 20.998015408820383\n",
       " [1, 5,54] = 20.992080830215105\n",
       " [1, 5,55] = 20.98623741647789\n",
       " [1, 5,56] = 20.980533278396123\n",
       " [1, 5,57] = 20.974943829832405\n",
       " [1, 5,58] = 20.96943422389531\n",
       " [1, 5,59] = 20.963967977605332\n",
       " [1, 5,60] = 20.958508544012997\n",
       " [1, 5,61] = 20.953041459620177\n",
       " [1, 5,62] = 20.947552652500296\n",
       " [1, 5,63] = 20.942050052373453\n",
       " [1, 5,64] = 20.93650354581885\n",
       " [1, 5,65] = 20.930894645906143\n",
       " [1, 5,66] = 20.925220629108455\n",
       " [1, 5,67] = 20.9194974332428\n",
       " [1, 5,68] = 20.913757662411296\n",
       " [1, 5,69] = 20.908004992470286\n",
       " [1, 5,70] = 20.902241711240585\n",
       " [1, 5,71] = 20.89647151128642\n",
       " [1, 5,72] = 20.89069864124726\n",
       " [1, 5,73] = 20.884929219634195\n",
       " [1, 5,74] = 20.87917060307164\n",
       " [1, 5,75] = 20.87342469738202\n",
       " [1, 5,76] = 20.867693135417205\n",
       " [1, 5,77] = 20.86197736349677\n",
       " [1, 5,78] = 20.856278517160355\n",
       " [1, 5,79] = 20.850597446363654\n",
       " [1, 5,80] = 20.84493586248344\n",
       " [1, 5,81] = 20.839291872063917\n",
       " [1, 5,82] = 20.83366298749927\n",
       " [1, 5,83] = 20.82804924943386\n",
       " [1, 5,84] = 20.82245053438817\n",
       " [1, 5,85] = 20.81686431476329\n",
       " [1, 5,86] = 20.811285968415095\n",
       " [1, 5,87] = 20.805715461840222\n",
       " [1, 5,88] = 20.800152323567072\n",
       " [1, 5,89] = 20.794456050223015\n",
       " [1, 5,90] = 20.78907794717491\n",
       " [1, 5,91] = 20.784208495194505\n",
       " [1, 5,92] = 20.78071370775523\n",
       " [1, 5,93] = 20.777550581649884\n",
       " [1, 6, 1] = 21.93600371702007\n",
       " [1, 6, 2] = 21.881182678381077\n",
       " [1, 6, 3] = 21.8305283281852\n",
       " [1, 6, 4] = 21.783659498285225\n",
       " [1, 6, 5] = 21.740219546113522\n",
       " [1, 6, 6] = 21.699885581756845\n",
       " [1, 6, 7] = 21.662371544834137\n",
       " [1, 6, 8] = 21.627418281137196\n",
       " [1, 6, 9] = 21.59478972529769\n",
       " [1, 6,10] = 21.564271581681776\n",
       " [1, 6,11] = 21.535669916640373\n",
       " [1, 6,12] = 21.5088087987896\n",
       " [1, 6,13] = 21.48352967651298\n",
       " [1, 6,14] = 21.4596901333217\n",
       " [1, 6,15] = 21.437159237230254\n",
       " [1, 6,16] = 21.41579238247429\n",
       " [1, 6,17] = 21.39550931661169\n",
       " [1, 6,18] = 21.376166615491858\n",
       " [1, 6,19] = 21.35770475725963\n",
       " [1, 6,20] = 21.340211354391617\n",
       " [1, 6,21] = 21.323467869252624\n",
       " [1, 6,22] = 21.30715639441127\n",
       " [1, 6,23] = 21.292003800003602\n",
       " [1, 6,24] = 21.278069211506054\n",
       " [1, 6,25] = 21.265421466022783\n",
       " [1, 6,26] = 21.25334159395949\n",
       " [1, 6,27] = 21.241663654740105\n",
       " [1, 6,28] = 21.230115397779674\n",
       " [1, 6,29] = 21.218899326235046\n",
       " [1, 6,30] = 21.208634935720635\n",
       " [1, 6,31] = 21.199208824047513\n",
       " [1, 6,32] = 21.189920411769467\n",
       " [1, 6,33] = 21.180483890090773\n",
       " [1, 6,34] = 21.171570952941444\n",
       " [1, 6,35] = 21.163280759309803\n",
       " [1, 6,36] = 21.155576359051505\n",
       " [1, 6,37] = 21.148433171802424\n",
       " [1, 6,38] = 21.141822939780674\n",
       " [1, 6,39] = 21.135717264373852\n",
       " [1, 6,40] = 21.130317487508666\n",
       " [1, 6,41] = 21.125052772074874\n",
       " [1, 6,42] = 21.120122864174967\n",
       " [1, 6,43] = 21.11564383923574\n",
       " [1, 6,44] = 21.11097346360126\n",
       " [1, 6,45] = 21.106603093875936\n",
       " [1, 6,46] = 21.102592355095933\n",
       " [1, 6,47] = 21.099052577240975\n",
       " [1, 6,48] = 21.095748295669992\n",
       " [1, 6,49] = 21.09275493332119\n",
       " [1, 6,50] = 21.090108432294798\n",
       " [1, 6,51] = 21.087303226713356\n",
       " [1, 6,52] = 21.08423898216381\n",
       " [1, 6,53] = 21.08089048725014\n",
       " [1, 6,54] = 21.077294306272474\n",
       " [1, 6,55] = 21.07343740675665\n",
       " [1, 6,56] = 21.069323923745237\n",
       " [1, 6,57] = 21.06496023530905\n",
       " [1, 6,58] = 21.06035544357874\n",
       " [1, 6,59] = 21.05551882690353\n",
       " [1, 6,60] = 21.050458023309133\n",
       " [1, 6,61] = 21.045182087045745\n",
       " [1, 6,62] = 21.039643877505526\n",
       " [1, 6,63] = 21.033948025359972\n",
       " [1, 6,64] = 21.02813022588389\n",
       " [1, 6,65] = 21.02220165150356\n",
       " [1, 6,66] = 21.01617158390814\n",
       " [1, 6,67] = 21.010050949501213\n",
       " [1, 6,68] = 21.00385414072693\n",
       " [1, 6,69] = 20.997591227061942\n",
       " [1, 6,70] = 20.991271099283654\n",
       " [1, 6,71] = 20.984901606455747\n",
       " [1, 6,72] = 20.97848963515899\n",
       " [1, 6,73] = 20.972041902000395\n",
       " [1, 6,74] = 20.965565161175338\n",
       " [1, 6,75] = 20.959064306876762\n",
       " [1, 6,76] = 20.95254363568979\n",
       " [1, 6,77] = 20.946006899836835\n",
       " [1, 6,78] = 20.939457921059137\n",
       " [1, 6,79] = 20.932902656998216\n",
       " [1, 6,80] = 20.92633912678006\n",
       " [1, 6,81] = 20.91976906360538\n",
       " [1, 6,82] = 20.913193553183447\n",
       " [1, 6,83] = 20.906614038585378\n",
       " [1, 6,84] = 20.90003173991683\n",
       " [1, 6,85] = 20.893446977274326\n",
       " [1, 6,86] = 20.886859083250087\n",
       " [1, 6,87] = 20.880268411128824\n",
       " [1, 6,88] = 20.87367517552648\n",
       " [1, 6,89] = 20.86722874345079\n",
       " [1, 6,90] = 20.860571782440108\n",
       " [1, 6,91] = 20.85366797825032\n",
       " [1, 6,92] = 20.846291569972802\n",
       " [1, 6,93] = 20.839840754562342\n",
       " [1, 7, 1] = 20.0320094570225\n",
       " [1, 7, 2] = 19.628511843953728\n",
       " [1, 7, 3] = 19.492805761953377\n",
       " [1, 7, 4] = 19.41215469644751\n",
       " [1, 7, 5] = 19.344536390578007\n",
       " [1, 7, 6] = 19.279621260883847\n",
       " [1, 7, 7] = 19.217422804815502\n",
       " [1, 7, 8] = 19.15763940133712\n",
       " [1, 7, 9] = 19.099705076270457\n",
       " [1, 7,10] = 19.043029177763668\n",
       " [1, 7,11] = 19.000000910160214\n",
       " [1, 7,12] = 19.000001160325528\n",
       " [1, 7,13] = 19.00000135480571\n",
       " [1, 7,14] = 19.000001730181722\n",
       " [1, 7,15] = 19.00000234429105\n",
       " [1, 7,16] = 19.000005622680927\n",
       " [1, 7,17] = 19.00000533031341\n",
       " [1, 7,18] = 19.000007779257388\n",
       " [1, 7,19] = 19.000010591567843\n",
       " [1, 7,20] = 19.00001345282839\n",
       " [1, 7,21] = 19.00002062830047\n",
       " [1, 7,22] = 19.017311436969198\n",
       " [1, 7,23] = 19.136001335429714\n",
       " [1, 7,24] = 19.1036354777194\n",
       " [1, 7,25] = 20.000011744430587\n",
       " [1, 7,26] = 20.000012014315566\n",
       " [1, 7,27] = 20.000013507130266\n",
       " [1, 7,28] = 20.000016392224563\n",
       " [1, 7,29] = 20.000020723969225\n",
       " [1, 7,30] = 20.0000258568416\n",
       " [1, 7,31] = 20.000028582078436\n",
       " [1, 7,32] = 20.000038191200186\n",
       " [1, 7,33] = 20.001497869647736\n",
       " [1, 7,34] = 20.497795815778737\n",
       " [1, 7,35] = 20.66510464008992\n",
       " [1, 7,36] = 20.77008882259578\n",
       " [1, 7,37] = 20.909824908665485\n",
       " [1, 7,38] = 20.98616816659993\n",
       " [1, 7,39] = 20.81680008159541\n",
       " [1, 7,40] = 20.688287865243684\n",
       " [1, 7,41] = 20.656395513212015\n",
       " [1, 7,42] = 20.613903889665337\n",
       " [1, 7,43] = 20.552169935659524\n",
       " [1, 7,44] = 20.515219059677296\n",
       " [1, 7,45] = 20.92599355668481\n",
       " [1, 7,46] = 20.911857836816328\n",
       " [1, 7,47] = 20.267311778821057\n",
       " [1, 7,48] = 20.000024753969626\n",
       " [1, 7,49] = 20.00000963679011\n",
       " [1, 7,50] = 20.000005953744253\n",
       " [1, 7,51] = 20.000004305819886\n",
       " [1, 7,52] = 20.000003194743005\n",
       " [1, 7,53] = 20.00000246505141\n",
       " [1, 7,54] = 20.00000196007426\n",
       " [1, 7,55] = 20.00000157256856\n",
       " [1, 7,56] = 20.000001323782268\n",
       " [1, 7,57] = 20.000001123810762\n",
       " [1, 7,58] = 20.000001030644356\n",
       " [1, 7,59] = 20.000000931515768\n",
       " [1, 7,60] = 20.000000859857437\n",
       " [1, 7,61] = 20.000000822685085\n",
       " [1, 7,62] = 20.000000786202147\n",
       " [1, 7,63] = 20.00000074974677\n",
       " [1, 7,64] = 20.00000071139726\n",
       " [1, 7,65] = 20.00000067013675\n",
       " [1, 7,66] = 20.000000626268047\n",
       " [1, 7,67] = 20.000000575145364\n",
       " [1, 7,68] = 20.000000549275292\n",
       " [1, 7,69] = 20.00000056421015\n",
       " [1, 7,70] = 20.00000057756791\n",
       " [1, 7,71] = 20.000000593942048\n",
       " [1, 7,72] = 20.000000625941396\n",
       " [1, 7,73] = 20.00000069207238\n",
       " [1, 7,74] = 20.000000768553296\n",
       " [1, 7,75] = 20.000000866720967\n",
       " [1, 7,76] = 20.00000097537346\n",
       " [1, 7,77] = 20.000001077980308\n",
       " [1, 7,78] = 20.000001213512068\n",
       " [1, 7,79] = 20.00000140548558\n",
       " [1, 7,80] = 20.00000165384381\n",
       " [1, 7,81] = 20.000001784908584\n",
       " [1, 7,82] = 20.000001979894655\n",
       " [1, 7,83] = 20.000002241636185\n",
       " [1, 7,84] = 20.000002589350757\n",
       " [1, 7,85] = 20.000003012181686\n",
       " [1, 7,86] = 20.00000389173428\n",
       " [1, 7,87] = 20.00000541318526\n",
       " [1, 7,88] = 20.00001017206572\n",
       " [1, 7,89] = 19.379079477917585\n",
       " [1, 7,90] = 20.082223424276656\n",
       " [1, 7,91] = 20.953189410933778\n",
       " [1, 7,92] = 21.622357704786484\n",
       " [1, 7,93] = 21.520810588109384\n",
       " [1, 8, 1] = 19.982514225791153\n",
       " [1, 8, 2] = 19.579265825143214\n",
       " [1, 8, 3] = 19.44342985418096\n",
       " [1, 8, 4] = 19.361412547128698\n",
       " [1, 8, 5] = 19.29208304262034\n",
       " [1, 8, 6] = 19.225372902760526\n",
       " [1, 8, 7] = 19.16146392010802\n",
       " [1, 8, 8] = 19.100083579171503\n",
       " [1, 8, 9] = 19.04063399628918\n",
       " [1, 8,10] = 19.000001362683072\n",
       " [1, 8,11] = 19.000001694999895\n",
       " [1, 8,12] = 19.000002038777694\n",
       " [1, 8,13] = 19.00000247851018\n",
       " [1, 8,14] = 19.000003360556786\n",
       " [1, 8,15] = 19.000005055845147\n",
       " [1, 8,16] = 19.000029743594467\n",
       " [1, 8,17] = 19.0000239503346\n",
       " [1, 8,18] = 19.023730372051258\n",
       " [1, 8,19] = 19.319085857871936\n",
       " [1, 8,20] = 19.46767060894926\n",
       " [1, 8,21] = 19.68399994128484\n",
       " [1, 8,22] = 20.067663035483044\n",
       " [1, 8,23] = 20.151823976239996\n",
       " [1, 8,24] = 20.13060286203109\n",
       " [1, 8,25] = 20.026949227757516\n",
       " [1, 8,26] = 20.02899988217215\n",
       " [1, 8,27] = 20.08615702832698\n",
       " [1, 8,28] = 20.220221647782676\n",
       " [1, 8,29] = 20.34002227124064\n",
       " [1, 8,30] = 20.40037645986926\n",
       " [1, 8,31] = 20.401584804558528\n",
       " [1, 8,32] = 20.48466811218098\n",
       " [1, 8,33] = 20.68895776161581\n",
       " [1, 8,34] = 21.048655851893976\n",
       " [1, 8,35] = 21.158600785699527\n",
       " [1, 8,36] = 21.228060241757937\n",
       " [1, 8,37] = 21.319927836431376\n",
       " [1, 8,38] = 21.36980350607547\n",
       " [1, 8,39] = 21.25975577586609\n",
       " [1, 8,40] = 21.176576240655017\n",
       " [1, 8,41] = 21.156278139009718\n",
       " [1, 8,42] = 21.1290218410138\n",
       " [1, 8,43] = 21.08943797664043\n",
       " [1, 8,44] = 21.067226878378204\n",
       " [1, 8,45] = 21.335315375619608\n",
       " [1, 8,46] = 21.324773873197046\n",
       " [1, 8,47] = 20.903181053905556\n",
       " [1, 8,48] = 20.404808189142884\n",
       " [1, 8,49] = 20.000309680808428\n",
       " [1, 8,50] = 20.000019037524616\n",
       " [1, 8,51] = 20.00001046024875\n",
       " [1, 8,52] = 20.00000673312144\n",
       " [1, 8,53] = 20.000004784411008\n",
       " [1, 8,54] = 20.0000036065975\n",
       " [1, 8,55] = 20.000002782977873\n",
       " [1, 8,56] = 20.000002285943943\n",
       " [1, 8,57] = 20.00000190409589\n",
       " [1, 8,58] = 20.000001730375025\n",
       " [1, 8,59] = 20.000001549325162\n",
       " [1, 8,60] = 20.000001420595378\n",
       " [1, 8,61] = 20.00000135424682\n",
       " [1, 8,62] = 20.0000012896004\n",
       " [1, 8,63] = 20.000001225452664\n",
       " [1, 8,64] = 20.00000115846073\n",
       " [1, 8,65] = 20.000001086945478\n",
       " [1, 8,66] = 20.000001011515973\n",
       " [1, 8,67] = 20.00000092472267\n",
       " [1, 8,68] = 20.00000088123336\n",
       " [1, 8,69] = 20.00000090623441\n",
       " [1, 8,70] = 20.000000928661496\n",
       " [1, 8,71] = 20.00000095633153\n",
       " [1, 8,72] = 20.00000101075255\n",
       " [1, 8,73] = 20.000001123942532\n",
       " [1, 8,74] = 20.000001256527952\n",
       " [1, 8,75] = 20.000001429225097\n",
       " [1, 8,76] = 20.00000162376018\n",
       " [1, 8,77] = 20.00000181116989\n",
       " [1, 8,78] = 20.0000020641326\n",
       " [1, 8,79] = 20.000002432981965\n",
       " [1, 8,80] = 20.00000292876193\n",
       " [1, 8,81] = 20.000003200711507\n",
       " [1, 8,82] = 20.000003618010474\n",
       " [1, 8,83] = 20.000004204150986\n",
       " [1, 8,84] = 20.000005033204978\n",
       " [1, 8,85] = 20.000006132450203\n",
       " [1, 8,86] = 20.000008811839596\n",
       " [1, 8,87] = 20.000015556335477\n",
       " [1, 8,88] = 20.000347710114035\n",
       " [1, 8,89] = 20.287970529377507\n",
       " [1, 8,90] = 20.748211669873797\n",
       " [1, 8,91] = 21.317148432004558\n",
       " [1, 8,92] = 21.75280309283311\n",
       " [1, 8,93] = 21.687892145613272\n",
       " [1, 9, 1] = 20.01116881407994\n",
       " [1, 9, 2] = 19.57453283000078\n",
       " [1, 9, 3] = 19.42903194666306\n",
       " [1, 9, 4] = 19.347633783528728\n",
       " [1, 9, 5] = 19.28183388585999\n",
       " [1, 9, 6] = 19.219218971155094\n",
       " [1, 9, 7] = 19.159359606828946\n",
       " [1, 9, 8] = 19.10186854603084\n",
       " [1, 9, 9] = 19.046133532138775\n",
       " [1, 9,10] = 19.000000806260843\n",
       " [1, 9,11] = 19.000001015837004\n",
       " [1, 9,12] = 19.000001197024577\n",
       " [1, 9,13] = 19.00000141160877\n",
       " [1, 9,14] = 19.000001810202075\n",
       " [1, 9,15] = 19.000002451284\n",
       " [1, 9,16] = 19.00000604058123\n",
       " [1, 9,17] = 19.000005681149467\n",
       " [1, 9,18] = 19.000008395994836\n",
       " [1, 9,19] = 19.00001160977904\n",
       " [1, 9,20] = 19.000014932199466\n",
       " [1, 9,21] = 19.000023714086783\n",
       " [1, 9,22] = 19.055164434934706\n",
       " [1, 9,23] = 19.178254717614525\n",
       " [1, 9,24] = 19.14836277451175\n",
       " [1, 9,25] = 20.000012309443264\n",
       " [1, 9,26] = 20.000012547791908\n",
       " [1, 9,27] = 20.00001405178004\n",
       " [1, 9,28] = 20.000016974436164\n",
       " [1, 9,29] = 20.000021323897986\n",
       " [1, 9,30] = 20.00002634184689\n",
       " [1, 9,31] = 20.000028643720533\n",
       " [1, 9,32] = 20.00003653969159\n",
       " [1, 9,33] = 20.00047788420543\n",
       " [1, 9,34] = 20.435229125179728\n",
       " [1, 9,35] = 20.588775069429953\n",
       " [1, 9,36] = 20.68112002643008\n",
       " [1, 9,37] = 20.808100754271333\n",
       " [1, 9,38] = 20.877012638448274\n",
       " [1, 9,39] = 20.70690833562731\n",
       " [1, 9,40] = 20.574273508988192\n",
       " [1, 9,41] = 20.534642188035367\n",
       " [1, 9,42] = 20.484144533884407\n",
       " [1, 9,43] = 20.41289130724345\n",
       " [1, 9,44] = 20.358963834513688\n",
       " [1, 9,45] = 20.745700378142878\n",
       " [1, 9,46] = 20.731469982095835\n",
       " [1, 9,47] = 20.109801640700766\n",
       " [1, 9,48] = 20.00001935883489\n",
       " [1, 9,49] = 20.000008945825414\n",
       " [1, 9,50] = 20.000005759318668\n",
       " [1, 9,51] = 20.00000425196903\n",
       " [1, 9,52] = 20.000003201506154\n",
       " [1, 9,53] = 20.000002495883564\n",
       " [1, 9,54] = 20.000002000094376\n",
       " [1, 9,55] = 20.00000161359245\n",
       " [1, 9,56] = 20.000001363827675\n",
       " [1, 9,57] = 20.000001160355367\n",
       " [1, 9,58] = 20.00000106641466\n",
       " [1, 9,59] = 20.00000096536126\n",
       " [1, 9,60] = 20.00000089195336\n",
       " [1, 9,61] = 20.0000008543476\n",
       " [1, 9,62] = 20.000000817446455\n",
       " [1, 9,63] = 20.000000780605635\n",
       " [1, 9,64] = 20.00000074182105\n",
       " [1, 9,65] = 20.000000699975534\n",
       " [1, 9,66] = 20.000000655313443\n",
       " [1, 9,67] = 20.00000060218276\n",
       " [1, 9,68] = 20.00000057499442\n",
       " [1, 9,69] = 20.000000591109483\n",
       " [1, 9,70] = 20.000000605507967\n",
       " [1, 9,71] = 20.000000622836467\n",
       " [1, 9,72] = 20.000000656325362\n",
       " [1, 9,73] = 20.000000726065817\n",
       " [1, 9,74] = 20.000000806693023\n",
       " [1, 9,75] = 20.000000910542493\n",
       " [1, 9,76] = 20.000001025935028\n",
       " [1, 9,77] = 20.000001134660536\n",
       " [1, 9,78] = 20.000001278301895\n",
       " [1, 9,79] = 20.000001482730426\n",
       " [1, 9,80] = 20.000001750689993\n",
       " [1, 9,81] = 20.000001891826827\n",
       " [1, 9,82] = 20.000002102362785\n",
       " [1, 9,83] = 20.000002386064555\n",
       " [1, 9,84] = 20.00000276504603\n",
       " [1, 9,85] = 20.000003224719475\n",
       " [1, 9,86] = 20.00000419386049\n",
       " [1, 9,87] = 20.000005894728112\n",
       " [1, 9,88] = 20.00001158109552\n",
       " [1, 9,89] = 19.494398689835567\n",
       " [1, 9,90] = 20.160811663443365\n",
       " [1, 9,91] = 20.99372645577137\n",
       " [1, 9,92] = 21.64189939620545\n",
       " [1, 9,93] = 21.53644658953741\n",
       " [1,10, 1] = 19.973999979746797\n",
       " [1,10, 2] = 19.564737547933316\n",
       " [1,10, 3] = 19.427138609585356\n",
       " [1,10, 4] = 19.344749159585962\n",
       " [1,10, 5] = 19.275416105762506\n",
       " [1,10, 6] = 19.20878221079361\n",
       " [1,10, 7] = 19.14496310725057\n",
       " [1,10, 8] = 19.08367425887604\n",
       " [1,10, 9] = 19.024313630077398\n",
       " [1,10,10] = 19.000001545182833\n",
       " [1,10,11] = 19.000001687335747\n",
       " [1,10,12] = 19.00000204682961\n",
       " [1,10,13] = 19.000002492296936\n",
       " [1,10,14] = 19.000003383678685\n",
       " [1,10,15] = 19.000005094690927\n",
       " [1,10,16] = 19.0000312727632\n",
       " [1,10,17] = 19.000024914067097\n",
       " [1,10,18] = 19.033072483966606\n",
       " [1,10,19] = 19.329390094892215\n",
       " [1,10,20] = 19.476654719064005\n",
       " [1,10,21] = 19.691036717860676\n",
       " [1,10,22] = 20.072616681820136\n",
       " [1,10,23] = 20.156379775769075\n",
       " [1,10,24] = 20.1354182145627\n",
       " [1,10,25] = 20.031019978414445\n",
       " [1,10,26] = 20.03294997296541\n",
       " [1,10,27] = 20.090273540924418\n",
       " [1,10,28] = 20.223292029204156\n",
       " [1,10,29] = 20.34219363302226\n",
       " [1,10,30] = 20.401998920596622\n",
       " [1,10,31] = 20.40267488610835\n",
       " [1,10,32] = 20.48446847110451\n",
       " [1,10,33] = 20.686563587411698\n",
       " [1,10,34] = 21.04381936560155\n",
       " [1,10,35] = 21.152552095691167\n",
       " [1,10,36] = 21.220915959680205\n",
       " [1,10,37] = 21.311678839854746\n",
       " [1,10,38] = 21.360951033102836\n",
       " [1,10,39] = 21.25094865983304\n",
       " [1,10,40] = 21.16750360464392\n",
       " [1,10,41] = 21.146601076183767\n",
       " [1,10,42] = 21.118721885087957\n",
       " [1,10,43] = 21.078383490248385\n",
       " [1,10,44] = 21.054735528222107\n",
       " [1,10,45] = 21.32069049521857\n",
       " [1,10,46] = 21.310263739053816\n",
       " [1,10,47] = 20.890942867614783\n",
       " [1,10,48] = 20.39527284873716\n",
       " [1,10,49] = 20.000272768786008\n",
       " [1,10,50] = 20.000018934891035\n",
       " [1,10,51] = 20.00001045613138\n",
       " [1,10,52] = 20.00000674585772\n",
       " [1,10,53] = 20.000004799893645\n",
       " [1,10,54] = 20.000003621643106\n",
       " [1,10,55] = 20.000002796241898\n",
       " [1,10,56] = 20.00000229784782\n",
       " [1,10,57] = 20.000001914354804\n",
       " [1,10,58] = 20.000001740124166\n",
       " [1,10,59] = 20.000001558294358\n",
       " [1,10,60] = 20.000001428943982\n",
       " [1,10,61] = 20.000001362390073\n",
       " [1,10,62] = 20.000001297545158\n",
       " [1,10,63] = 20.00000123320885\n",
       " [1,10,64] = 20.0000011660169\n",
       " [1,10,65] = 20.000001094262217\n",
       " [1,10,66] = 20.00000101854312\n",
       " [1,10,67] = 20.00000093118392\n",
       " [1,10,68] = 20.000000887343724\n",
       " [1,10,69] = 20.00000091262527\n",
       " [1,10,70] = 20.000000935299255\n",
       " [1,10,71] = 20.000000963205355\n",
       " [1,10,72] = 20.000001018018306\n",
       " [1,10,73] = 20.000001132154253\n",
       " [1,10,74] = 20.00000126585554\n",
       " [1,10,75] = 20.000001440110502\n",
       " [1,10,76] = 20.00000163653396\n",
       " [1,10,77] = 20.0000018257335\n",
       " [1,10,78] = 20.00000208117046\n",
       " [1,10,79] = 20.000002453975608\n",
       " [1,10,80] = 20.000002956183675\n",
       " [1,10,81] = 20.000003231680427\n",
       " [1,10,82] = 20.00000365475211\n",
       " [1,10,83] = 20.0000042496717\n",
       " [1,10,84] = 20.000005092549745\n",
       " [1,10,85] = 20.000006211247943\n",
       " [1,10,86] = 20.000008951690642\n",
       " [1,10,87] = 20.000015934942795\n",
       " [1,10,88] = 20.000458914919466\n",
       " [1,10,89] = 20.298889693531088\n",
       " [1,10,90] = 20.755662092326524\n",
       " [1,10,91] = 21.32099713133132\n",
       " [1,10,92] = 21.754645061157706\n",
       " [1,10,93] = 21.689387093404992\n",
       " [1,11, 1] = 21.58418121898764\n",
       " [1,11, 2] = 21.23739754964622\n",
       " [1,11, 3] = 20.94106318334294\n",
       " [1,11, 4] = 20.68576517405414\n",
       " [1,11, 5] = 20.463848875378353\n",
       " [1,11, 6] = 20.268993045847758\n",
       " [1,11, 7] = 20.096305115902815\n",
       " [1,11, 8] = 19.941848674397484\n",
       " [1,11, 9] = 19.80245901382456\n",
       " [1,11,10] = 19.67546453130044\n",
       " [1,11,11] = 19.5588125721733\n",
       " [1,11,12] = 19.45082386504541\n",
       " [1,11,13] = 19.35041322058781\n",
       " [1,11,14] = 19.2570044454858\n",
       " [1,11,15] = 19.169584261989886\n",
       " [1,11,16] = 19.087232778608985\n",
       " [1,11,17] = 19.009335705204332\n",
       " [1,11,18] = 19.000005056840294\n",
       " [1,11,19] = 19.000009281006463\n",
       " [1,11,20] = 19.000009512147102\n",
       " [1,11,21] = 19.00000779642207\n",
       " [1,11,22] = 19.88658487145255\n",
       " [1,11,23] = 20.6366227826318\n",
       " [1,11,24] = 21.02898097735877\n",
       " [1,11,25] = 20.622304285411932\n",
       " [1,11,26] = 20.277392334784892\n",
       " [1,11,27] = 20.000014069567168\n",
       " [1,11,28] = 20.175587520512572\n",
       " [1,11,29] = 20.84561487289049\n",
       " [1,11,30] = 20.993481719230342\n",
       " [1,11,31] = 20.597468268191356\n",
       " [1,11,32] = 20.264515035680976\n",
       " [1,11,33] = 20.95046144587222\n",
       " [1,11,34] = 21.554501474566372\n",
       " [1,11,35] = 22.073181094925108\n",
       " [1,11,36] = 22.522027136361288\n",
       " [1,11,37] = 22.913418245995672\n",
       " [1,11,38] = 23.257307539029643\n",
       " [1,11,39] = 23.56194444598253\n",
       " [1,11,40] = 23.407778473126353\n",
       " [1,11,41] = 23.46037823196049\n",
       " [1,11,42] = 23.46525630298135\n",
       " [1,11,43] = 23.071060314622407\n",
       " [1,11,44] = 23.314699298779885\n",
       " [1,11,45] = 23.679536869982083\n",
       " [1,11,46] = 23.99999190192724\n",
       " [1,11,47] = 23.999995526437658\n",
       " [1,11,48] = 23.99999358059192\n",
       " [1,11,49] = 23.657857991886715\n",
       " [1,11,50] = 23.032384065949437\n",
       " [1,11,51] = 22.508038914999815\n",
       " [1,11,52] = 22.069699742939374\n",
       " [1,11,53] = 21.69841615759658\n",
       " [1,11,54] = 21.381668829655986\n",
       " [1,11,55] = 21.10970822061225\n",
       " [1,11,56] = 20.874680175708182\n",
       " [1,11,57] = 20.670057595391555\n",
       " [1,11,58] = 20.490501153941093\n",
       " [1,11,59] = 20.331372438340317\n",
       " [1,11,60] = 20.18855332164767\n",
       " [1,11,61] = 20.05904003090094\n",
       " [1,11,62] = 20.000001131853317\n",
       " [1,11,63] = 20.00000103200509\n",
       " [1,11,64] = 20.000001004776156\n",
       " [1,11,65] = 20.00000097829725\n",
       " [1,11,66] = 20.00000093155115\n",
       " [1,11,67] = 20.00000062481326\n",
       " [1,11,68] = 20.000000444723728\n",
       " [1,11,69] = 20.000000456069042\n",
       " [1,11,70] = 20.00000044905544\n",
       " [1,11,71] = 20.000000417734896\n",
       " [1,11,72] = 20.000000388679922\n",
       " [1,11,73] = 20.00000042174819\n",
       " [1,11,74] = 20.000000453234758\n",
       " [1,11,75] = 20.000000514734865\n",
       " [1,11,76] = 20.00000059564164\n",
       " [1,11,77] = 20.000000624282634\n",
       " [1,11,78] = 20.000000661724997\n",
       " [1,11,79] = 20.000000760762347\n",
       " [1,11,80] = 20.00000105532065\n",
       " [1,11,81] = 20.000001055502167\n",
       " [1,11,82] = 20.000001105999438\n",
       " [1,11,83] = 20.000001187450067\n",
       " [1,11,84] = 20.000001301133196\n",
       " [1,11,85] = 20.000001263525377\n",
       " [1,11,86] = 20.00000143059126\n",
       " [1,11,87] = 20.0000015522361\n",
       " [1,11,88] = 20.000001082014027\n",
       " [1,11,89] = 19.73797065576874\n",
       " [1,11,90] = 19.513524970522013\n",
       " [1,11,91] = 19.31868577541525\n",
       " [1,11,92] = 20.13846785240954\n",
       " [1,11,93] = 19.83594081365267\n",
       " [1,12, 1] = 21.568239083809196\n",
       " [1,12, 2] = 21.20746927380707\n",
       " [1,12, 3] = 20.899398888153108\n",
       " [1,12, 4] = 20.634524531685038\n",
       " [1,12, 5] = 20.40483506326282\n",
       " [1,12, 6] = 20.2034812295783\n",
       " [1,12, 7] = 20.025393334020333\n",
       " [1,12, 8] = 19.866463314191584\n",
       " [1,12, 9] = 19.723292541127137\n",
       " [1,12,10] = 19.593039337463335\n",
       " [1,12,11] = 19.47352488266131\n",
       " [1,12,12] = 19.362977782365935\n",
       " [1,12,13] = 19.260245819274115\n",
       " [1,12,14] = 19.164710585098465\n",
       " [1,12,15] = 19.075343754480162\n",
       " [1,12,16] = 19.00000520774544\n",
       " [1,12,17] = 19.00000406601054\n",
       " [1,12,18] = 19.000014807467586\n",
       " [1,12,19] = 19.41863125181524\n",
       " [1,12,20] = 19.46747634843379\n",
       " [1,12,21] = 19.99689949483702\n",
       " [1,12,22] = 20.44358272549546\n",
       " [1,12,23] = 20.821223437629527\n",
       " [1,12,24] = 21.14247039995864\n",
       " [1,12,25] = 21.098374279894077\n",
       " [1,12,26] = 20.835806560959035\n",
       " [1,12,27] = 20.672945311997978\n",
       " [1,12,28] = 21.021349921986925\n",
       " [1,12,29] = 21.329380222195194\n",
       " [1,12,30] = 21.591511335982734\n",
       " [1,12,31] = 21.241880328574307\n",
       " [1,12,32] = 21.458966718671796\n",
       " [1,12,33] = 21.71716553802118\n",
       " [1,12,34] = 21.940399378733346\n",
       " [1,12,35] = 22.13533759716202\n",
       " [1,12,36] = 22.307638702751568\n",
       " [1,12,37] = 22.46147317926656\n",
       " [1,12,38] = 22.60005035660076\n",
       " [1,12,39] = 22.726128164194392\n",
       " [1,12,40] = 22.84125526988021\n",
       " [1,12,41] = 22.948500701786482\n",
       " [1,12,42] = 23.048454801978274\n",
       " [1,12,43] = 23.141923756106184\n",
       " [1,12,44] = 23.231203681505868\n",
       " [1,12,45] = 23.31573063265013\n",
       " [1,12,46] = 23.39617456306277\n",
       " [1,12,47] = 23.47276547534178\n",
       " [1,12,48] = 23.546239074583603\n",
       " [1,12,49] = 23.616873105380172\n",
       " [1,12,50] = 23.243294141303608\n",
       " [1,12,51] = 22.666822768223252\n",
       " [1,12,52] = 22.183681458685136\n",
       " [1,12,53] = 21.776258603871796\n",
       " [1,12,54] = 21.430126581162366\n",
       " [1,12,55] = 21.134063003128567\n",
       " [1,12,56] = 20.879003195099745\n",
       " [1,12,57] = 20.657528505088973\n",
       " [1,12,58] = 20.46361830511322\n",
       " [1,12,59] = 20.292162911430207\n",
       " [1,12,60] = 20.13873543823793\n",
       " [1,12,61] = 20.000002720073873\n",
       " [1,12,62] = 20.000001801074642\n",
       " [1,12,63] = 20.000001725707087\n",
       " [1,12,64] = 20.000001679966935\n",
       " [1,12,65] = 20.000001628219177\n",
       " [1,12,66] = 20.000001538210494\n",
       " [1,12,67] = 20.000001012183635\n",
       " [1,12,68] = 20.000000712680148\n",
       " [1,12,69] = 20.000000730424134\n",
       " [1,12,70] = 20.000000718908755\n",
       " [1,12,71] = 20.00000066749218\n",
       " [1,12,72] = 20.000000620626086\n",
       " [1,12,73] = 20.0000006756047\n",
       " [1,12,74] = 20.000000728072468\n",
       " [1,12,75] = 20.00000083134481\n",
       " [1,12,76] = 20.000000968178576\n",
       " [1,12,77] = 20.000001018780573\n",
       " [1,12,78] = 20.00000108530412\n",
       " [1,12,79] = 20.00000125920609\n",
       " [1,12,80] = 20.000001785650948\n",
       " [1,12,81] = 20.00000179044519\n",
       " [1,12,82] = 20.000001885980907\n",
       " [1,12,83] = 20.000002040473117\n",
       " [1,12,84] = 20.00000225860379\n",
       " [1,12,85] = 20.000002192803024\n",
       " [1,12,86] = 20.00000252153412\n",
       " [1,12,87] = 20.000002773843846\n",
       " [1,12,88] = 20.000002501180575\n",
       " [1,12,89] = 19.724554892414936\n",
       " [1,12,90] = 19.48758576343601\n",
       " [1,12,91] = 19.991597641122056\n",
       " [1,12,92] = 20.415006006064324\n",
       " [1,12,93] = 20.362504974327994\n",
       " [1,13, 1] = 21.58514041446923\n",
       " [1,13, 2] = 21.239094999212234\n",
       " [1,13, 3] = 20.941046343264258\n",
       " [1,13, 4] = 20.68255285824482\n",
       " [1,13, 5] = 20.456618533676288\n",
       " [1,13, 6] = 20.257343530190578\n",
       " [1,13, 7] = 20.080179539647627\n",
       " [1,13, 8] = 19.92141894609111\n",
       " [1,13, 9] = 19.778026750888063\n",
       " [1,13,10] = 19.647408222892942\n",
       " [1,13,11] = 19.527552358523288\n",
       " [1,13,12] = 19.416795262356693\n",
       " [1,13,13] = 19.314054110320374\n",
       " [1,13,14] = 19.218749247072214\n",
       " [1,13,15] = 19.1298468733321\n",
       " [1,13,16] = 19.046437136539762\n",
       " [1,13,17] = 19.000001978759105\n",
       " [1,13,18] = 19.000005530411762\n",
       " [1,13,19] = 19.00000982110155\n",
       " [1,13,20] = 19.000009764709763\n",
       " [1,13,21] = 19.000008038666092\n",
       " [1,13,22] = 19.88913033960302\n",
       " [1,13,23] = 20.648667760215375\n",
       " [1,13,24] = 21.006444688163292\n",
       " [1,13,25] = 20.616034486095465\n",
       " [1,13,26] = 20.282083976962713\n",
       " [1,13,27] = 20.000015221889534\n",
       " [1,13,28] = 20.1450116161371\n",
       " [1,13,29] = 20.804188712484688\n",
       " [1,13,30] = 20.903338915921246\n",
       " [1,13,31] = 20.5325696238398\n",
       " [1,13,32] = 20.21738621820524\n",
       " [1,13,33] = 20.695675638734766\n",
       " [1,13,34] = 21.352186695138187\n",
       " [1,13,35] = 21.91861614717307\n",
       " [1,13,36] = 22.410316925187455\n",
       " [1,13,37] = 22.83980440819605\n",
       " [1,13,38] = 23.217245834634518\n",
       " [1,13,39] = 23.55105768224171\n",
       " [1,13,40] = 23.20938336674662\n",
       " [1,13,41] = 23.254096668188787\n",
       " [1,13,42] = 23.25160349641199\n",
       " [1,13,43] = 22.865428234168483\n",
       " [1,13,44] = 23.287143224421104\n",
       " [1,13,45] = 23.66615876281866\n",
       " [1,13,46] = 23.99998898139735\n",
       " [1,13,47] = 23.999995043370895\n",
       " [1,13,48] = 23.999993091174883\n",
       " [1,13,49] = 23.926423570409003\n",
       " [1,13,50] = 23.26370010762649\n",
       " [1,13,51] = 22.702797234167566\n",
       " [1,13,52] = 22.228832068596507\n",
       " [1,13,53] = 21.8240448439499\n",
       " [1,13,54] = 21.476141388644997\n",
       " [1,13,55] = 21.175452942036927\n",
       " [1,13,56] = 20.914044726740148\n",
       " [1,13,57] = 20.685317220107322\n",
       " [1,13,58] = 20.483814819480898\n",
       " [1,13,59] = 20.30492692621062\n",
       " [1,13,60] = 20.144715506424838\n",
       " [1,13,61] = 20.000002559321896\n",
       " [1,13,62] = 20.00000111545633\n",
       " [1,13,63] = 20.00000107664747\n",
       " [1,13,64] = 20.0000010589585\n",
       " [1,13,65] = 20.000001038628\n",
       " [1,13,66] = 20.000000994716284\n",
       " [1,13,67] = 20.00000065606567\n",
       " [1,13,68] = 20.000000461178132\n",
       " [1,13,69] = 20.000000473404068\n",
       " [1,13,70] = 20.000000465783945\n",
       " [1,13,71] = 20.00000043186714\n",
       " [1,13,72] = 20.000000400268895\n",
       " [1,13,73] = 20.00000043425198\n",
       " [1,13,74] = 20.000000466361243\n",
       " [1,13,75] = 20.00000053010139\n",
       " [1,13,76] = 20.00000061449497\n",
       " [1,13,77] = 20.00000064339524\n",
       " [1,13,78] = 20.000000681218584\n",
       " [1,13,79] = 20.000000783738233\n",
       " [1,13,80] = 20.00000109586533\n",
       " [1,13,81] = 20.000001094032044\n",
       " [1,13,82] = 20.000001145442965\n",
       " [1,13,83] = 20.000001229313995\n",
       " [1,13,84] = 20.000001346899676\n",
       " [1,13,85] = 20.00000130193194\n",
       " [1,13,86] = 20.000001472192615\n",
       " [1,13,87] = 20.00000159191802\n",
       " [1,13,88] = 20.00000111046454\n",
       " [1,13,89] = 19.73939182878434\n",
       " [1,13,90] = 19.514143680924413\n",
       " [1,13,91] = 19.317235615748583\n",
       " [1,13,92] = 20.139349010441972\n",
       " [1,13,93] = 19.84098879261199\n",
       " [1,14, 1] = 21.568227338575824\n",
       " [1,14, 2] = 21.20661088113925\n",
       " [1,14, 3] = 20.89760241368196\n",
       " [1,14, 4] = 20.63175847804077\n",
       " [1,14, 5] = 20.401111563538613\n",
       " [1,14, 6] = 20.1988428499501\n",
       " [1,14, 7] = 20.019899415311205\n",
       " [1,14, 8] = 19.86018245877695\n",
       " [1,14, 9] = 19.716297886318138\n",
       " [1,14,10] = 19.585404256503647\n",
       " [1,14,11] = 19.46532036212994\n",
       " [1,14,12] = 19.354270741949076\n",
       " [1,14,13] = 19.251098450245905\n",
       " [1,14,14] = 19.155180222739297\n",
       " [1,14,15] = 19.065482242665535\n",
       " [1,14,16] = 19.000295058962653\n",
       " [1,14,17] = 19.000004389943435\n",
       " [1,14,18] = 19.000015113226628\n",
       " [1,14,19] = 19.425025968239986\n",
       " [1,14,20] = 19.473238052671466\n",
       " [1,14,21] = 20.00116729314912\n",
       " [1,14,22] = 20.44706552104351\n",
       " [1,14,23] = 20.82442940883046\n",
       " [1,14,24] = 21.145737692186124\n",
       " [1,14,25] = 21.101444542689766\n",
       " [1,14,26] = 20.838636399215638\n",
       " [1,14,27] = 20.674489254004094\n",
       " [1,14,28] = 21.02246171277103\n",
       " [1,14,29] = 21.330919009938388\n",
       " [1,14,30] = 21.59355885937843\n",
       " [1,14,31] = 21.242134991833336\n",
       " [1,14,32] = 21.453931172706753\n",
       " [1,14,33] = 21.713715673012942\n",
       " [1,14,34] = 21.938429244452525\n",
       " [1,14,35] = 22.134640497236127\n",
       " [1,14,36] = 22.307951066476264\n",
       " [1,14,37] = 22.462534740305586\n",
       " [1,14,38] = 22.601608049136214\n",
       " [1,14,39] = 22.727955610922685\n",
       " [1,14,40] = 22.843174488447985\n",
       " [1,14,41] = 22.950328402216645\n",
       " [1,14,42] = 23.05003095459314\n",
       " [1,14,43] = 23.143106654898265\n",
       " [1,14,44] = 23.2318710074644\n",
       " [1,14,45] = 23.315783710645558\n",
       " [1,14,46] = 23.395513405620846\n",
       " [1,14,47] = 23.47132038539944\n",
       " [1,14,48] = 23.54399213806303\n",
       " [1,14,49] = 23.61380428644477\n",
       " [1,14,50] = 23.337550500960504\n",
       " [1,14,51] = 22.74481626645645\n",
       " [1,14,52] = 22.247765600439042\n",
       " [1,14,53] = 21.82840995687868\n",
       " [1,14,54] = 21.472026051148152\n",
       " [1,14,55] = 21.167130274948665\n",
       " [1,14,56] = 20.90442574930409\n",
       " [1,14,57] = 20.676310482141485\n",
       " [1,14,58] = 20.476607912333087\n",
       " [1,14,59] = 20.300117730983516\n",
       " [1,14,60] = 20.142383082017872\n",
       " [1,14,61] = 20.000001980871644\n",
       " [1,14,62] = 20.00000180158338\n",
       " [1,14,63] = 20.000001733110775\n",
       " [1,14,64] = 20.000001688661463\n",
       " [1,14,65] = 20.00000163803673\n",
       " [1,14,66] = 20.000001548502837\n",
       " [1,14,67] = 20.000001017131193\n",
       " [1,14,68] = 20.000000715234812\n",
       " [1,14,69] = 20.000000733139267\n",
       " [1,14,70] = 20.000000721532057\n",
       " [1,14,71] = 20.00000066972378\n",
       " [1,14,72] = 20.000000622436122\n",
       " [1,14,73] = 20.000000677575386\n",
       " [1,14,74] = 20.000000730135806\n",
       " [1,14,75] = 20.000000833789084\n",
       " [1,14,76] = 20.00000097122094\n",
       " [1,14,77] = 20.000001021869096\n",
       " [1,14,78] = 20.000001088456273\n",
       " [1,14,79] = 20.00000126298248\n",
       " [1,14,80] = 20.000001792637836\n",
       " [1,14,81] = 20.000001797109316\n",
       " [1,14,82] = 20.000001892884395\n",
       " [1,14,83] = 20.000002047930483\n",
       " [1,14,84] = 20.000002266957935\n",
       " [1,14,85] = 20.00000219979744\n",
       " [1,14,86] = 20.000002529372473\n",
       " [1,14,87] = 20.000002781570796\n",
       " [1,14,88] = 20.000002511953124\n",
       " [1,14,89] = 19.723862568720804\n",
       " [1,14,90] = 19.486147662387406\n",
       " [1,14,91] = 19.98975869206008\n",
       " [1,14,92] = 20.413282769757608\n",
       " [1,14,93] = 20.363335400555393\n",
       " [1,15, 1] = 19.576278014794944\n",
       " [1,15, 2] = 19.06425400825774\n",
       " [1,15, 3] = 19.000000718598447\n",
       " [1,15, 4] = 19.00000073595586\n",
       " [1,15, 5] = 19.00000076615142\n",
       " [1,15, 6] = 19.00000082343685\n",
       " [1,15, 7] = 19.000000877720073\n",
       " [1,15, 8] = 19.00000092908468\n",
       " [1,15, 9] = 19.00000093782359\n",
       " [1,15,10] = 19.00000101293715\n",
       " [1,15,11] = 19.00000117706097\n",
       " [1,15,12] = 19.00000149026207\n",
       " [1,15,13] = 19.000001891257085\n",
       " [1,15,14] = 19.000002782844334\n",
       " [1,15,15] = 19.000004943351165\n",
       " [1,15,16] = 19.698509423142216\n",
       " [1,15,17] = 19.713456264106238\n",
       " [1,15,18] = 20.514888284170382\n",
       " [1,15,19] = 21.00484717942619\n",
       " [1,15,20] = 21.261278826785116\n",
       " [1,15,21] = 21.62355153039784\n",
       " [1,15,22] = 22.248409974431354\n",
       " [1,15,23] = 22.416295807106938\n",
       " [1,15,24] = 22.423552194788527\n",
       " [1,15,25] = 22.295030535927285\n",
       " [1,15,26] = 22.33819084082096\n",
       " [1,15,27] = 22.472018013522558\n",
       " [1,15,28] = 22.719265391108532\n",
       " [1,15,29] = 22.9459134512513\n",
       " [1,15,30] = 23.082310873308746\n",
       " [1,15,31] = 23.12744542125803\n",
       " [1,15,32] = 23.296993379954788\n",
       " [1,15,33] = 23.651512341070493\n",
       " [1,15,34] = 23.99999819818472\n",
       " [1,15,35] = 23.999974809645487\n",
       " [1,15,36] = 23.99998012235998\n",
       " [1,15,37] = 23.999984072234007\n",
       " [1,15,38] = 23.999985939948402\n",
       " [1,15,39] = 23.9999834546479\n",
       " [1,15,40] = 23.999982018608893\n",
       " [1,15,41] = 23.999981566240745\n",
       " [1,15,42] = 23.99998102569089\n",
       " [1,15,43] = 23.999980521868192\n",
       " [1,15,44] = 23.999978750825846\n",
       " [1,15,45] = 23.99998778924953\n",
       " [1,15,46] = 23.99998781225779\n",
       " [1,15,47] = 23.999967617354798\n",
       " [1,15,48] = 23.643203912178084\n",
       " [1,15,49] = 22.85227488890649\n",
       " [1,15,50] = 22.02256288787115\n",
       " [1,15,51] = 21.179874672359748\n",
       " [1,15,52] = 20.118731398961092\n",
       " [1,15,53] = 20.000010987162913\n",
       " [1,15,54] = 20.00000499921163\n",
       " [1,15,55] = 20.000003019835148\n",
       " [1,15,56] = 20.00000218756601\n",
       " [1,15,57] = 20.000001669285876\n",
       " [1,15,58] = 20.000001453579642\n",
       " [1,15,59] = 20.000001249326683\n",
       " [1,15,60] = 20.000001111301096\n",
       " [1,15,61] = 20.000001038576503\n",
       " [1,15,62] = 20.00000097056596\n",
       " [1,15,63] = 20.000000906162803\n",
       " [1,15,64] = 20.000000842254824\n",
       " [1,15,65] = 20.00000077748051\n",
       " [1,15,66] = 20.000000712395334\n",
       " [1,15,67] = 20.000000641282494\n",
       " [1,15,68] = 20.00000060404016\n",
       " [1,15,69] = 20.000000616741783\n",
       " [1,15,70] = 20.00000062728778\n",
       " [1,15,71] = 20.000000641125265\n",
       " [1,15,72] = 20.000000672762546\n",
       " [1,15,73] = 20.000000743178784\n",
       " [1,15,74] = 20.000000824679056\n",
       " [1,15,75] = 20.00000093013271\n",
       " [1,15,76] = 20.000001046238506\n",
       " [1,15,77] = 20.00000115292962\n",
       " [1,15,78] = 20.000001294308056\n",
       " [1,15,79] = 20.00000149750604\n",
       " [1,15,80] = 20.000001761076202\n",
       " [1,15,81] = 20.00000188769496\n",
       " [1,15,82] = 20.000002081868644\n",
       " [1,15,83] = 20.000002344366777\n",
       " [1,15,84] = 20.000002693534984\n",
       " [1,15,85] = 20.00000311457917\n",
       " [1,15,86] = 20.000004010385723\n",
       " [1,15,87] = 20.000005564290895\n",
       " [1,15,88] = 20.000010543567935\n",
       " [1,15,89] = 19.406468815316508\n",
       " [1,15,90] = 20.096516610432932\n",
       " [1,15,91] = 20.95935508459371\n",
       " [1,15,92] = 21.624960394197554\n",
       " [1,15,93] = 21.52165880497798\n",
       " [1,16, 1] = 19.513515008529215\n",
       " [1,16, 2] = 19.000000466503284\n",
       " [1,16, 3] = 19.00000119903789\n",
       " [1,16, 4] = 19.000001236413656\n",
       " [1,16, 5] = 19.00000129250448\n",
       " [1,16, 6] = 19.000001398821112\n",
       " [1,16, 7] = 19.000001500659078\n",
       " [1,16, 8] = 19.000001597776134\n",
       " [1,16, 9] = 19.00000161402225\n",
       " [1,16,10] = 19.000001760555712\n",
       " [1,16,11] = 19.000002092125268\n",
       " [1,16,12] = 19.00000276604176\n",
       " [1,16,13] = 19.000003724736477\n",
       " [1,16,14] = 19.000006342617098\n",
       " [1,16,15] = 19.00001927403515\n",
       " [1,16,16] = 20.46363708282169\n",
       " [1,16,17] = 20.47566223058198\n",
       " [1,16,18] = 21.00048758994637\n",
       " [1,16,19] = 21.320659499773928\n",
       " [1,16,20] = 21.488959842743654\n",
       " [1,16,21] = 21.727226446892256\n",
       " [1,16,22] = 22.135057854836937\n",
       " [1,16,23] = 22.24409223245357\n",
       " [1,16,24] = 22.24784852420612\n",
       " [1,16,25] = 22.163651971824443\n",
       " [1,16,26] = 22.191928858694553\n",
       " [1,16,27] = 22.279924523996485\n",
       " [1,16,28] = 22.441868868247855\n",
       " [1,16,29] = 22.590068851471713\n",
       " [1,16,30] = 22.679255330718668\n",
       " [1,16,31] = 22.70953847737716\n",
       " [1,16,32] = 22.822145791835034\n",
       " [1,16,33] = 23.05641410785924\n",
       " [1,16,34] = 23.446551364994455\n",
       " [1,16,35] = 23.58642747970246\n",
       " [1,16,36] = 23.685284066768077\n",
       " [1,16,37] = 23.805891753562705\n",
       " [1,16,38] = 23.88341149734677\n",
       " [1,16,39] = 23.799824845783807\n",
       " [1,16,40] = 23.74155867594413\n",
       " [1,16,41] = 23.744638051885747\n",
       " [1,16,42] = 23.738966042565455\n",
       " [1,16,43] = 23.71896542908998\n",
       " [1,16,44] = 23.714184310034355\n",
       " [1,16,45] = 23.98550813340814\n",
       " [1,16,46] = 23.9864726890179\n",
       " [1,16,47] = 23.58650054910993\n",
       " [1,16,48] = 23.092116700249722\n",
       " [1,16,49] = 22.577614799714453\n",
       " [1,16,50] = 22.037156720453297\n",
       " [1,16,51] = 21.487163547086208\n",
       " [1,16,52] = 20.793229370960336\n",
       " [1,16,53] = 20.0095043812051\n",
       " [1,16,54] = 20.000013236781147\n",
       " [1,16,55] = 20.000006163889395\n",
       " [1,16,56] = 20.00000408613458\n",
       " [1,16,57] = 20.000002963710525\n",
       " [1,16,58] = 20.000002527251134\n",
       " [1,16,59] = 20.000002130784125\n",
       " [1,16,60] = 20.00000187145945\n",
       " [1,16,61] = 20.000001736965437\n",
       " [1,16,62] = 20.000001613078172\n",
       " [1,16,63] = 20.000001496739888\n",
       " [1,16,64] = 20.0000013825964\n",
       " [1,16,65] = 20.00000126829108\n",
       " [1,16,66] = 20.000001154797086\n",
       " [1,16,67] = 20.00000103295062\n",
       " [1,16,68] = 20.000000969993245\n",
       " [1,16,69] = 20.00000099122922\n",
       " [1,16,70] = 20.000001008907407\n",
       " [1,16,71] = 20.00000103236304\n",
       " [1,16,72] = 20.000001086426384\n",
       " [1,16,73] = 20.00000120736607\n",
       " [1,16,74] = 20.000001349274818\n",
       " [1,16,75] = 20.000001535723815\n",
       " [1,16,76] = 20.00000174480676\n",
       " [1,16,77] = 20.000001941261665\n",
       " [1,16,78] = 20.00000220765153\n",
       " [1,16,79] = 20.000002601745003\n",
       " [1,16,80] = 20.000003133596472\n",
       " [1,16,81] = 20.000003399608882\n",
       " [1,16,82] = 20.00000382027573\n",
       " [1,16,83] = 20.00000441561344\n",
       " [1,16,84] = 20.000005259540856\n",
       " [1,16,85] = 20.000006371951063\n",
       " [1,16,86] = 20.000009160036438\n",
       " [1,16,87] = 20.0000163490418\n",
       " [1,16,88] = 20.000566154010933\n",
       " [1,16,89] = 20.299984233736968\n",
       " [1,16,90] = 20.753590952270056\n",
       " [1,16,91] = 21.319400160990295\n",
       " [1,16,92] = 21.75373443312063\n",
       " [1,16,93] = 21.687837721810194\n",
       " [1,17, 1] = 19.545590927127975\n",
       " [1,17, 2] = 19.005130371790454\n",
       " [1,17, 3] = 19.000000730523116\n",
       " [1,17, 4] = 19.00000075490737\n",
       " [1,17, 5] = 19.000000787540397\n",
       " [1,17, 6] = 19.00000084781582\n",
       " [1,17, 7] = 19.000000905000743\n",
       " [1,17, 8] = 19.00000095949731\n",
       " [1,17, 9] = 19.0000009686756\n",
       " [1,17,10] = 19.0000010464909\n",
       " [1,17,11] = 19.00000121673082\n",
       " [1,17,12] = 19.000001543374854\n",
       " [1,17,13] = 19.000001960877253\n",
       " [1,17,14] = 19.000002894043607\n",
       " [1,17,15] = 19.00000515740714\n",
       " [1,17,16] = 19.74236067444195\n",
       " [1,17,17] = 19.748118758183526\n",
       " [1,17,18] = 20.527855250999256\n",
       " [1,17,19] = 21.003838278006768\n",
       " [1,17,20] = 21.2490807062771\n",
       " [1,17,21] = 21.5959364695346\n",
       " [1,17,22] = 22.204742688464346\n",
       " [1,17,23] = 22.366987267170146\n",
       " [1,17,24] = 22.372574885894817\n",
       " [1,17,25] = 22.242958822210333\n",
       " [1,17,26] = 22.280338976014832\n",
       " [1,17,27] = 22.40522118511603\n",
       " [1,17,28] = 22.641310053753898\n",
       " [1,17,29] = 22.857812997432223\n",
       " [1,17,30] = 22.986033373059016\n",
       " [1,17,31] = 23.022691549480907\n",
       " [1,17,32] = 23.1785780791885\n",
       " [1,17,33] = 23.513449584778176\n",
       " [1,17,34] = 23.99966776723777\n",
       " [1,17,35] = 23.99995222530954\n",
       " [1,17,36] = 23.999969377038756\n",
       " [1,17,37] = 23.999978528851987\n",
       " [1,17,38] = 23.999981776993685\n",
       " [1,17,39] = 23.999976571888787\n",
       " [1,17,40] = 23.99997235480027\n",
       " [1,17,41] = 23.999970651015627\n",
       " [1,17,42] = 23.999968286233663\n",
       " [1,17,43] = 23.999965028255986\n",
       " [1,17,44] = 23.99995684573804\n",
       " [1,17,45] = 23.999983135961116\n",
       " [1,17,46] = 23.999983120780612\n",
       " [1,17,47] = 23.999761285786406\n",
       " [1,17,48] = 23.377697018600937\n",
       " [1,17,49] = 22.602142345536556\n",
       " [1,17,50] = 21.78987285633861\n",
       " [1,17,51] = 20.96824109509697\n",
       " [1,17,52] = 20.00102820300648\n",
       " [1,17,53] = 20.000009793782024\n",
       " [1,17,54] = 20.000004793244834\n",
       " [1,17,55] = 20.0000029755032\n",
       " [1,17,56] = 20.00000218253186\n",
       " [1,17,57] = 20.000001677129987\n",
       " [1,17,58] = 20.00000146631586\n",
       " [1,17,59] = 20.000001264371114\n",
       " [1,17,60] = 20.000001127069158\n",
       " [1,17,61] = 20.000001055143976\n",
       " [1,17,62] = 20.000000987728995\n",
       " [1,17,63] = 20.000000923798364\n",
       " [1,17,64] = 20.00000086019596\n",
       " [1,17,65] = 20.00000079548907\n",
       " [1,17,66] = 20.000000730187097\n",
       " [1,17,67] = 20.00000065787396\n",
       " [1,17,68] = 20.000000619787926\n",
       " [1,17,69] = 20.000000633266875\n",
       " [1,17,70] = 20.00000064447634\n",
       " [1,17,71] = 20.000000658887124\n",
       " [1,17,72] = 20.000000691414645\n",
       " [1,17,73] = 20.00000076408592\n",
       " [1,17,74] = 20.000000848177315\n",
       " [1,17,75] = 20.000000957217217\n",
       " [1,17,76] = 20.000001077585175\n",
       " [1,17,77] = 20.00000118805535\n",
       " [1,17,78] = 20.00000133445102\n",
       " [1,17,79] = 20.000001545497472\n",
       " [1,17,80] = 20.000001821580387\n",
       " [1,17,81] = 20.00000195424401\n",
       " [1,17,82] = 20.000002157872093\n",
       " [1,17,83] = 20.00000243371795\n",
       " [1,17,84] = 20.000002801796644\n",
       " [1,17,85] = 20.00000324469022\n",
       " [1,17,86] = 20.000004194677537\n",
       " [1,17,87] = 20.000005856949535\n",
       " [1,17,88] = 20.00001141106482\n",
       " [1,17,89] = 19.475429725183588\n",
       " [1,17,90] = 20.143497007730375\n",
       " [1,17,91] = 20.983611183373203\n",
       " [1,17,92] = 21.6367785223244\n",
       " [1,17,93] = 21.530952774888927\n",
       " [1,18, 1] = 19.504414979421206\n",
       " [1,18, 2] = 19.000001145046852\n",
       " [1,18, 3] = 19.000001197002877\n",
       " [1,18, 4] = 19.000001236118443\n",
       " [1,18, 5] = 19.00000129274882\n",
       " [1,18, 6] = 19.000001399447704\n",
       " [1,18, 7] = 19.000001501667978\n",
       " [1,18, 8] = 19.00000159920097\n",
       " [1,18, 9] = 19.000001615730216\n",
       " [1,18,10] = 19.000001762616577\n",
       " [1,18,11] = 19.00000209475262\n",
       " [1,18,12] = 19.000002770161245\n",
       " [1,18,13] = 19.000003730847485\n",
       " [1,18,14] = 19.00000635536953\n",
       " [1,18,15] = 19.000019350020775\n",
       " [1,18,16] = 20.463556078159574\n",
       " [1,18,17] = 20.47527428814216\n",
       " [1,18,18] = 20.999308165924077\n",
       " [1,18,19] = 21.318963872678474\n",
       " [1,18,20] = 21.48684990890414\n",
       " [1,18,21] = 21.72454122844227\n",
       " [1,18,22] = 22.131753522207074\n",
       " [1,18,23] = 22.24055165124033\n",
       " [1,18,24] = 22.244218357331732\n",
       " [1,18,25] = 22.159959758730913\n",
       " [1,18,26] = 22.1880009283978\n",
       " [1,18,27] = 22.275641984212314\n",
       " [1,18,28] = 22.437143716760037\n",
       " [1,18,29] = 22.58493237465323\n",
       " [1,18,30] = 22.67377530762602\n",
       " [1,18,31] = 22.70370041378258\n",
       " [1,18,32] = 22.815750772833745\n",
       " [1,18,33] = 23.049237196924814\n",
       " [1,18,34] = 23.43853512906281\n",
       " [1,18,35] = 23.577853893303693\n",
       " [1,18,36] = 23.676174930369072\n",
       " [1,18,37] = 23.796248724035408\n",
       " [1,18,38] = 23.87338005968933\n",
       " [1,18,39] = 23.789482146785314\n",
       " [1,18,40] = 23.730855780659475\n",
       " [1,18,41] = 23.7334948308813\n",
       " [1,18,42] = 23.727373048219004\n",
       " [1,18,43] = 23.70688437160122\n",
       " [1,18,44] = 23.701453146513686\n",
       " [1,18,45] = 23.977271290721028\n",
       " [1,18,46] = 23.978393606346692\n",
       " [1,18,47] = 23.57302525684281\n",
       " [1,18,48] = 23.07903301640026\n",
       " [1,18,49] = 22.56496475896695\n",
       " [1,18,50] = 22.025003523187955\n",
       " [1,18,51] = 21.475629549307346\n",
       " [1,18,52] = 20.782589819959714\n",
       " [1,18,53] = 20.00643156562844\n",
       " [1,18,54] = 20.000013133853752\n",
       " [1,18,55] = 20.00000614347199\n",
       " [1,18,56] = 20.000004079027534\n",
       " [1,18,57] = 20.00000296104488\n",
       " [1,18,58] = 20.000002526009872\n",
       " [1,18,59] = 20.00000213047074\n",
       " [1,18,60] = 20.000001871616522\n",
       " [1,18,61] = 20.000001737391834\n",
       " [1,18,62] = 20.000001613722127\n",
       " [1,18,63] = 20.000001497566426\n",
       " [1,18,64] = 20.000001383576873\n",
       " [1,18,65] = 20.00000126939013\n",
       " [1,18,66] = 20.000001155975124\n",
       " [1,18,67] = 20.00000103411239\n",
       " [1,18,68] = 20.00000097112926\n",
       " [1,18,69] = 20.000000992440736\n",
       " [1,18,70] = 20.00000101018735\n",
       " [1,18,71] = 20.00000103370316\n",
       " [1,18,72] = 20.000001087845927\n",
       " [1,18,73] = 20.00000120896401\n",
       " [1,18,74] = 20.000001351077405\n",
       " [1,18,75] = 20.000001537809315\n",
       " [1,18,76] = 20.00000174724049\n",
       " [1,18,77] = 20.000001944046854\n",
       " [1,18,78] = 20.000002210945844\n",
       " [1,18,79] = 20.00000260584211\n",
       " [1,18,80] = 20.00000313906018\n",
       " [1,18,81] = 20.000003405919525\n",
       " [1,18,82] = 20.000003827925617\n",
       " [1,18,83] = 20.00000442529886\n",
       " [1,18,84] = 20.000005272456303\n",
       " [1,18,85] = 20.00000638944589\n",
       " [1,18,86] = 20.000009192075947\n",
       " [1,18,87] = 20.000016440481204\n",
       " [1,18,88] = 20.00060981540097\n",
       " [1,18,89] = 20.302431662207937\n",
       " [1,18,90] = 20.755277265844473\n",
       " [1,18,91] = 21.32027686058119\n",
       " [1,18,92] = 21.75415843765894\n",
       " [1,18,93] = 21.688183703466436\n",
       " [1,19, 1] = 20.25373658034694\n",
       " [1,19, 2] = 19.66711920206538\n",
       " [1,19, 3] = 19.392063760027128\n",
       " [1,19, 4] = 19.206407242173178\n",
       " [1,19, 5] = 19.050913134686176\n",
       " [1,19, 6] = 19.000000195442023\n",
       " [1,19, 7] = 19.000000204110318\n",
       " [1,19, 8] = 19.000000212782396\n",
       " [1,19, 9] = 19.00000020933473\n",
       " [1,19,10] = 19.000000218477755\n",
       " [1,19,11] = 19.00000024220823\n",
       " [1,19,12] = 19.00000028764288\n",
       " [1,19,13] = 19.000000334223774\n",
       " [1,19,14] = 19.00000042093167\n",
       " [1,19,15] = 19.000000547352652\n",
       " [1,19,16] = 19.00000146386896\n",
       " [1,19,17] = 19.000001273678162\n",
       " [1,19,18] = 19.000001861983527\n",
       " [1,19,19] = 19.000002503004527\n",
       " [1,19,20] = 19.00000300159431\n",
       " [1,19,21] = 19.000004033329994\n",
       " [1,19,22] = 19.000036853011654\n",
       " [1,19,23] = 19.175143477652068\n",
       " [1,19,24] = 19.096255151771537\n",
       " [1,19,25] = 20.000007513368377\n",
       " [1,19,26] = 20.000007641047382\n",
       " [1,19,27] = 20.000010415989756\n",
       " [1,19,28] = 20.000028063720137\n",
       " [1,19,29] = 20.290745553307303\n",
       " [1,19,30] = 20.781310083589617\n",
       " [1,19,31] = 20.980166110829074\n",
       " [1,19,32] = 21.499216121492275\n",
       " [1,19,33] = 21.72186383089551\n",
       " [1,19,34] = 21.857347919554687\n",
       " [1,19,35] = 21.96569841911721\n",
       " [1,19,36] = 22.0648568993395\n",
       " [1,19,37] = 22.15925669443868\n",
       " [1,19,38] = 22.250021768247844\n",
       " [1,19,39] = 22.33741377616075\n",
       " [1,19,40] = 22.421343541822118\n",
       " [1,19,41] = 22.503366780944972\n",
       " [1,19,42] = 22.581041574381338\n",
       " [1,19,43] = 22.654932546863474\n",
       " [1,19,44] = 22.726782591202408\n",
       " [1,19,45] = 22.79330077290669\n",
       " [1,19,46] = 22.855964166303842\n",
       " [1,19,47] = 22.916125268041693\n",
       " [1,19,48] = 22.97473165330798\n",
       " [1,19,49] = 23.02935569387097\n",
       " [1,19,50] = 21.7234850729855\n",
       " [1,19,51] = 20.20961987823157\n",
       " [1,19,52] = 20.000003791935402\n",
       " [1,19,53] = 20.00000180929535\n",
       " [1,19,54] = 20.000001124929305\n",
       " [1,19,55] = 20.000000752796087\n",
       " [1,19,56] = 20.00000057298874\n",
       " [1,19,57] = 20.000000442614613\n",
       " [1,19,58] = 20.000000395093096\n",
       " [1,19,59] = 20.000000342270667\n",
       " [1,19,60] = 20.00000030545081\n",
       " [1,19,61] = 20.000000288696647\n",
       " [1,19,62] = 20.000000272440804\n",
       " [1,19,63] = 20.000000256049987\n",
       " [1,19,64] = 20.0000002387739\n",
       " [1,19,65] = 20.000000220200814\n",
       " [1,19,66] = 20.000000200605353\n",
       " [1,19,67] = 20.00000017693038\n",
       " [1,19,68] = 20.00000016332076\n",
       " [1,19,69] = 20.00000016604133\n",
       " [1,19,70] = 20.000000167582897\n",
       " [1,19,71] = 20.000000169275822\n",
       " [1,19,72] = 20.000000175308625\n",
       " [1,19,73] = 20.00000019246551\n",
       " [1,19,74] = 20.000000211932925\n",
       " [1,19,75] = 20.000000237682478\n",
       " [1,19,76] = 20.00000026589937\n",
       " [1,19,77] = 20.00000028995221\n",
       " [1,19,78] = 20.000000320926247\n",
       " [1,19,79] = 20.000000364461027\n",
       " [1,19,80] = 20.00000042308292\n",
       " [1,19,81] = 20.000000441758882\n",
       " [1,19,82] = 20.000000472775366\n",
       " [1,19,83] = 20.00000051360166\n",
       " [1,19,84] = 20.000000564802964\n",
       " [1,19,85] = 20.000000615778507\n",
       " [1,19,86] = 20.00000072560379\n",
       " [1,19,87] = 20.00000087639804\n",
       " [1,19,88] = 20.000001211421246\n",
       " [1,19,89] = 19.00000171702227\n",
       " [1,19,90] = 19.000002577282533\n",
       " [1,19,91] = 19.000009085498846\n",
       " [1,19,92] = 20.5841639517701\n",
       " [1,19,93] = 19.882284098693653\n",
       " [2, 1, 1] = 21.439430471983826\n",
       " [2, 1, 2] = 21.251609583102635\n",
       " [2, 1, 3] = 21.170692233740528\n",
       " [2, 1, 4] = 21.125495960186587\n",
       " [2, 1, 5] = 21.092280796133437\n",
       " [2, 1, 6] = 21.063132563962846\n",
       " [2, 1, 7] = 21.035395607031795\n",
       " [2, 1, 8] = 21.008221734239335\n",
       " [2, 1, 9] = 20.981366251642864\n",
       " [2, 1,10] = 20.95475715869078\n",
       " [2, 1,11] = 20.928381726257665\n",
       " [2, 1,12] = 20.90223257547341\n",
       " [2, 1,13] = 20.876331905511183\n",
       " [2, 1,14] = 20.85087788499972\n",
       " [2, 1,15] = 20.82595724665815\n",
       " [2, 1,16] = 20.80180504217549\n",
       " [2, 1,17] = 20.779360611130095\n",
       " [2, 1,18] = 20.759273654511123\n",
       " [2, 1,19] = 20.74037315529388\n",
       " [2, 1,20] = 20.722619665854037\n",
       " [2, 1,21] = 20.70583307291784\n",
       " [2, 1,22] = 20.68980244451363\n",
       " [2, 1,23] = 20.674551999456185\n",
       " [2, 1,24] = 20.660208364416132\n",
       " [2, 1,25] = 20.646555627013903\n",
       " [2, 1,26] = 20.633393135786253\n",
       " [2, 1,27] = 20.62057054254146\n",
       " [2, 1,28] = 20.608100125494573\n",
       " [2, 1,29] = 20.59603323404938\n",
       " [2, 1,30] = 20.584462531090516\n",
       " [2, 1,31] = 20.57341036201799\n",
       " [2, 1,32] = 20.56278055011968\n",
       " [2, 1,33] = 20.552458471368222\n",
       " [2, 1,34] = 20.54250239479853\n",
       " [2, 1,35] = 20.533171475844256\n",
       " [2, 1,36] = 20.524552808275114\n",
       " [2, 1,37] = 20.51643974005635\n",
       " [2, 1,38] = 20.508766909193206\n",
       " [2, 1,39] = 20.50154874950611\n",
       " [2, 1,40] = 20.494752211835326\n",
       " [2, 1,41] = 20.488296712539004\n",
       " [2, 1,42] = 20.48216588004954\n",
       " [2, 1,43] = 20.476426976258885\n",
       " [2, 1,44] = 20.471077912052618\n",
       " [2, 1,45] = 20.46609762756636\n",
       " [2, 1,46] = 20.461579271463634\n",
       " [2, 1,47] = 20.45773193731937\n",
       " [2, 1,48] = 20.454359527576383\n",
       " [2, 1,49] = 20.451118066137703\n",
       " [2, 1,50] = 20.447810625648835\n",
       " [2, 1,51] = 20.44430359152758\n",
       " [2, 1,52] = 20.44046754792384\n",
       " [2, 1,53] = 20.436231454494592\n",
       " [2, 1,54] = 20.431474255088048\n",
       " [2, 1,55] = 20.42628354804287\n",
       " [2, 1,56] = 20.420896756088887\n",
       " [2, 1,57] = 20.415343494084556\n",
       " [2, 1,58] = 20.409788839592085\n",
       " [2, 1,59] = 20.404301155689012\n",
       " [2, 1,60] = 20.398873256862473\n",
       " [2, 1,61] = 20.39359683084357\n",
       " [2, 1,62] = 20.38847550440233\n",
       " [2, 1,63] = 20.383446176176292\n",
       " [2, 1,64] = 20.37842780004779\n",
       " [2, 1,65] = 20.37344747196317\n",
       " [2, 1,66] = 20.368460673833532\n",
       " [2, 1,67] = 20.363479072750238\n",
       " [2, 1,68] = 20.35852425200483\n",
       " [2, 1,69] = 20.353396791272047\n",
       " [2, 1,70] = 20.348042755259844\n",
       " [2, 1,71] = 20.34245697956328\n",
       " [2, 1,72] = 20.336650050517058\n",
       " [2, 1,73] = 20.330637860139504\n",
       " [2, 1,74] = 20.324436392752865\n",
       " [2, 1,75] = 20.318057824735106\n",
       " [2, 1,76] = 20.31151604225036\n",
       " [2, 1,77] = 20.30482483686938\n",
       " [2, 1,78] = 20.29799733259901\n",
       " [2, 1,79] = 20.291045831218145\n",
       " [2, 1,80] = 20.28398133667454\n",
       " [2, 1,81] = 20.276811352731407\n",
       " [2, 1,82] = 20.269555515772655\n",
       " [2, 1,83] = 20.26228308433057\n",
       " [2, 1,84] = 20.25505251133137\n",
       " [2, 1,85] = 20.247898684817372\n",
       " [2, 1,86] = 20.240820007710763\n",
       " [2, 1,87] = 20.23388887157749\n",
       " [2, 1,88] = 20.227432726273467\n",
       " [2, 1,89] = 20.221650072744303\n",
       " [2, 1,90] = 20.216659528607074\n",
       " [2, 1,91] = 20.21226363241012\n",
       " [2, 1,92] = 20.208513198612565\n",
       " [2, 1,93] = 20.20556926055154\n",
       " [2, 2, 1] = 19.824259575829593\n",
       " [2, 2, 2] = 19.205150058809007\n",
       " [2, 2, 3] = 19.000002281629676\n",
       " [2, 2, 4] = 19.000003088693013\n",
       " [2, 2, 5] = 19.000003209011012\n",
       " [2, 2, 6] = 19.00000355048211\n",
       " [2, 2, 7] = 19.00000391086353\n",
       " [2, 2, 8] = 19.000004299676345\n",
       " [2, 2, 9] = 19.000004361568923\n",
       " [2, 2,10] = 19.000004894871324\n",
       " [2, 2,11] = 19.000006248291864\n",
       " [2, 2,12] = 19.000009771016163\n",
       " [2, 2,13] = 19.00001755171108\n",
       " [2, 2,14] = 19.033048813163617\n",
       " [2, 2,15] = 19.666186772462495\n",
       " [2, 2,16] = 20.78625370738216\n",
       " [2, 2,17] = 20.759495683848293\n",
       " [2, 2,18] = 21.02297256073495\n",
       " [2, 2,19] = 21.187848483891248\n",
       " [2, 2,20] = 21.247330410750138\n",
       " [2, 2,21] = 21.34715626166028\n",
       " [2, 2,22] = 21.574981786178544\n",
       " [2, 2,23] = 21.62404174610394\n",
       " [2, 2,24] = 21.60775546598045\n",
       " [2, 2,25] = 21.535185409193023\n",
       " [2, 2,26] = 21.52052092395271\n",
       " [2, 2,27] = 21.538264411966857\n",
       " [2, 2,28] = 21.61458039007632\n",
       " [2, 2,29] = 21.690838621723486\n",
       " [2, 2,30] = 21.71597878478124\n",
       " [2, 2,31] = 21.67870693584301\n",
       " [2, 2,32] = 21.711347970414845\n",
       " [2, 2,33] = 21.82020123636732\n",
       " [2, 2,34] = 22.009462337199793\n",
       " [2, 2,35] = 22.055175425410546\n",
       " [2, 2,36] = 22.077694912353813\n",
       " [2, 2,37] = 22.114832899203286\n",
       " [2, 2,38] = 22.135151189177854\n",
       " [2, 2,39] = 22.067979954166173\n",
       " [2, 2,40] = 21.993061066413127\n",
       " [2, 2,41] = 21.97433431543851\n",
       " [2, 2,42] = 21.945553106042222\n",
       " [2, 2,43] = 21.889717953347123\n",
       " [2, 2,44] = 21.86148444052189\n",
       " [2, 2,45] = 21.994835927074316\n",
       " [2, 2,46] = 21.99182988346994\n",
       " [2, 2,47] = 21.754837026165823\n",
       " [2, 2,48] = 21.485369843214897\n",
       " [2, 2,49] = 21.210028538972516\n",
       " [2, 2,50] = 20.893479022173015\n",
       " [2, 2,51] = 20.591945207126464\n",
       " [2, 2,52] = 20.24042194872661\n",
       " [2, 2,53] = 20.000069534115003\n",
       " [2, 2,54] = 20.00001875593725\n",
       " [2, 2,55] = 20.00001014889061\n",
       " [2, 2,56] = 20.000007609185438\n",
       " [2, 2,57] = 20.000005880657252\n",
       " [2, 2,58] = 20.00000513022831\n",
       " [2, 2,59] = 20.000004439033155\n",
       " [2, 2,60] = 20.00000390936887\n",
       " [2, 2,61] = 20.000003638524387\n",
       " [2, 2,62] = 20.000003402302347\n",
       " [2, 2,63] = 20.000003174068002\n",
       " [2, 2,64] = 20.000002939665162\n",
       " [2, 2,65] = 20.00000270575827\n",
       " [2, 2,66] = 20.000002473555554\n",
       " [2, 2,67] = 20.000002205221637\n",
       " [2, 2,68] = 20.000002065943153\n",
       " [2, 2,69] = 20.000002133771268\n",
       " [2, 2,70] = 20.000002193336265\n",
       " [2, 2,71] = 20.000002262258906\n",
       " [2, 2,72] = 20.00000240163488\n",
       " [2, 2,73] = 20.000002722997337\n",
       " [2, 2,74] = 20.000003113633237\n",
       " [2, 2,75] = 20.00000365906118\n",
       " [2, 2,76] = 20.000004324159487\n",
       " [2, 2,77] = 20.00000499462304\n",
       " [2, 2,78] = 20.000005977026206\n",
       " [2, 2,79] = 20.00000764323113\n",
       " [2, 2,80] = 20.000010585092383\n",
       " [2, 2,81] = 20.00001249964119\n",
       " [2, 2,82] = 20.00001632332861\n",
       " [2, 2,83] = 20.0000251600396\n",
       " [2, 2,84] = 20.000064131374458\n",
       " [2, 2,85] = 20.002708900217193\n",
       " [2, 2,86] = 20.26888734369905\n",
       " [2, 2,87] = 20.55980613952494\n",
       " [2, 2,88] = 20.923161978008274\n",
       " [2, 2,89] = 21.084775422836067\n",
       " [2, 2,90] = 21.312952613509243\n",
       " [2, 2,91] = 21.60933077945983\n",
       " [2, 2,92] = 21.90791859461638\n",
       " [2, 2,93] = 21.803571221627443\n",
       " [2, 3, 1] = 19.954638961340315\n",
       " [2, 3, 2] = 19.415136900659853\n",
       " [2, 3, 3] = 19.229852316216373\n",
       " [2, 3, 4] = 19.13148943446032\n",
       " [2, 3, 5] = 19.05495238707379\n",
       " [2, 3, 6] = 19.000005819519174\n",
       " [2, 3, 7] = 19.000010744696\n",
       " [2, 3, 8] = 19.000013148988494\n",
       " [2, 3, 9] = 19.000014156673373\n",
       " [2, 3,10] = 19.00002009383087\n",
       " [2, 3,11] = 19.00009693677776\n",
       " [2, 3,12] = 19.31640986718959\n",
       " [2, 3,13] = 19.69778546286089\n",
       " [2, 3,14] = 20.15118404880629\n",
       " [2, 3,15] = 20.56167525677096\n",
       " [2, 3,16] = 21.25402844397478\n",
       " [2, 3,17] = 21.24223245189255\n",
       " [2, 3,18] = 21.408022101775323\n",
       " [2, 3,19] = 21.511656560274798\n",
       " [2, 3,20] = 21.551285166049524\n",
       " [2, 3,21] = 21.61722598588221\n",
       " [2, 3,22] = 21.759270485216433\n",
       " [2, 3,23] = 21.78975327075282\n",
       " [2, 3,24] = 21.779272643495396\n",
       " [2, 3,25] = 21.735137840205674\n",
       " [2, 3,26] = 21.727569928553486\n",
       " [2, 3,27] = 21.740988569817503\n",
       " [2, 3,28] = 21.790471156572682\n",
       " [2, 3,29] = 21.839070925132596\n",
       " [2, 3,30] = 21.855580510556866\n",
       " [2, 3,31] = 21.83511111007322\n",
       " [2, 3,32] = 21.859396094640413\n",
       " [2, 3,33] = 21.931669345487688\n",
       " [2, 3,34] = 22.051501635357216\n",
       " [2, 3,35] = 22.082492181571162\n",
       " [2, 3,36] = 22.09939209828271\n",
       " [2, 3,37] = 22.124861851293716\n",
       " [2, 3,38] = 22.138708285467327\n",
       " [2, 3,39] = 22.09869741743872\n",
       " [2, 3,40] = 22.054846842054335\n",
       " [2, 3,41] = 22.045643011410075\n",
       " [2, 3,42] = 22.030186515143008\n",
       " [2, 3,43] = 21.99908487814777\n",
       " [2, 3,44] = 21.986994208125363\n",
       " [2, 3,45] = 22.07178045888708\n",
       " [2, 3,46] = 22.068542161025317\n",
       " [2, 3,47] = 21.920089564672224\n",
       " [2, 3,48] = 21.751171164398883\n",
       " [2, 3,49] = 21.577789562643797\n",
       " [2, 3,50] = 21.378701057036594\n",
       " [2, 3,51] = 21.18758176838075\n",
       " [2, 3,52] = 20.964252688497083\n",
       " [2, 3,53] = 20.711121309455905\n",
       " [2, 3,54] = 20.429440018417726\n",
       " [2, 3,55] = 20.086918833044475\n",
       " [2, 3,56] = 20.000040682473735\n",
       " [2, 3,57] = 20.000017861922476\n",
       " [2, 3,58] = 20.000013134022453\n",
       " [2, 3,59] = 20.000010386063614\n",
       " [2, 3,60] = 20.000009225667554\n",
       " [2, 3,61] = 20.00000850355118\n",
       " [2, 3,62] = 20.00000777171652\n",
       " [2, 3,63] = 20.00000705139278\n",
       " [2, 3,64] = 20.000006342930618\n",
       " [2, 3,65] = 20.00000567823261\n",
       " [2, 3,66] = 20.00000505133233\n",
       " [2, 3,67] = 20.00000437757224\n",
       " [2, 3,68] = 20.000004045371448\n",
       " [2, 3,69] = 20.000004199630915\n",
       " [2, 3,70] = 20.000004338819302\n",
       " [2, 3,71] = 20.000004508181426\n",
       " [2, 3,72] = 20.000004863598566\n",
       " [2, 3,73] = 20.000005710194795\n",
       " [2, 3,74] = 20.00000682885681\n",
       " [2, 3,75] = 20.00000856919974\n",
       " [2, 3,76] = 20.000011049367828\n",
       " [2, 3,77] = 20.000014169055902\n",
       " [2, 3,78] = 20.000020743785996\n",
       " [2, 3,79] = 20.00004962940887\n",
       " [2, 3,80] = 20.014078870929737\n",
       " [2, 3,81] = 20.116408422098996\n",
       " [2, 3,82] = 20.26055161532118\n",
       " [2, 3,83] = 20.41519232114378\n",
       " [2, 3,84] = 20.572449687110456\n",
       " [2, 3,85] = 20.710243742440774\n",
       " [2, 3,86] = 20.905307383722953\n",
       " [2, 3,87] = 21.090657417017688\n",
       " [2, 3,88] = 21.31815875975937\n",
       " [2, 3,89] = 21.422506277721354\n",
       " [2, 3,90] = 21.56896221036885\n",
       " [2, 3,91] = 21.75643819173081\n",
       " [2, 3,92] = 21.940050988461664\n",
       " [2, 3,93] = 21.878673622922292\n",
       " [2, 4, 1] = 19.96168823990796\n",
       " [2, 4, 2] = 19.382865306718458\n",
       " [2, 4, 3] = 19.179815300399717\n",
       " [2, 4, 4] = 19.07853102842705\n",
       " [2, 4, 5] = 19.005189049949433\n",
       " [2, 4, 6] = 19.000003655304518\n",
       " [2, 4, 7] = 19.00000411476249\n",
       " [2, 4, 8] = 19.000004440123803\n",
       " [2, 4, 9] = 19.000004470734467\n",
       " [2, 4,10] = 19.000005002561032\n",
       " [2, 4,11] = 19.00000639388317\n",
       " [2, 4,12] = 19.000009895289537\n",
       " [2, 4,13] = 19.000017287704505\n",
       " [2, 4,14] = 19.04155664333461\n",
       " [2, 4,15] = 19.67876771624195\n",
       " [2, 4,16] = 20.801925115312525\n",
       " [2, 4,17] = 20.77536099504752\n",
       " [2, 4,18] = 21.039783784489863\n",
       " [2, 4,19] = 21.20527541216724\n",
       " [2, 4,20] = 21.265182383241417\n",
       " [2, 4,21] = 21.365686755222967\n",
       " [2, 4,22] = 21.594382367432754\n",
       " [2, 4,23] = 21.643740117155012\n",
       " [2, 4,24] = 21.62752477457904\n",
       " [2, 4,25] = 21.55494453312698\n",
       " [2, 4,26] = 21.54050018815997\n",
       " [2, 4,27] = 21.55864422100084\n",
       " [2, 4,28] = 21.635544992869168\n",
       " [2, 4,29] = 21.712350752250025\n",
       " [2, 4,30] = 21.737871497641084\n",
       " [2, 4,31] = 21.70093026409901\n",
       " [2, 4,32] = 21.734242061599495\n",
       " [2, 4,33] = 21.84409253143218\n",
       " [2, 4,34] = 22.034473598420963\n",
       " [2, 4,35] = 22.080916104289823\n",
       " [2, 4,36] = 22.10414033113523\n",
       " [2, 4,37] = 22.142014518765308\n",
       " [2, 4,38] = 22.162947663573892\n",
       " [2, 4,39] = 22.096161148981995\n",
       " [2, 4,40] = 22.021679155293025\n",
       " [2, 4,41] = 22.003556358207558\n",
       " [2, 4,42] = 21.97535947640376\n",
       " [2, 4,43] = 21.92012188563116\n",
       " [2, 4,44] = 21.892730661837756\n",
       " [2, 4,45] = 22.027202598353547\n",
       " [2, 4,46] = 22.024656222824362\n",
       " [2, 4,47] = 21.787373190938936\n",
       " [2, 4,48] = 21.51744463557989\n",
       " [2, 4,49] = 21.24150911121278\n",
       " [2, 4,50] = 20.924166626208596\n",
       " [2, 4,51] = 20.621724823812407\n",
       " [2, 4,52] = 20.269012516957464\n",
       " [2, 4,53] = 20.000213966840708\n",
       " [2, 4,54] = 20.000021395697644\n",
       " [2, 4,55] = 20.000011031898126\n",
       " [2, 4,56] = 20.000007680822613\n",
       " [2, 4,57] = 20.000005682975463\n",
       " [2, 4,58] = 20.00000494001181\n",
       " [2, 4,59] = 20.00000421569725\n",
       " [2, 4,60] = 20.000003728518134\n",
       " [2, 4,61] = 20.00000349355587\n",
       " [2, 4,62] = 20.000003279803803\n",
       " [2, 4,63] = 20.00000307466687\n",
       " [2, 4,64] = 20.00000286852307\n",
       " [2, 4,65] = 20.000002657069167\n",
       " [2, 4,66] = 20.000002441730285\n",
       " [2, 4,67] = 20.00000218405572\n",
       " [2, 4,68] = 20.00000204805613\n",
       " [2, 4,69] = 20.000002116296617\n",
       " [2, 4,70] = 20.000002175972284\n",
       " [2, 4,71] = 20.000002244827076\n",
       " [2, 4,72] = 20.000002383323764\n",
       " [2, 4,73] = 20.00000270216674\n",
       " [2, 4,74] = 20.00000308928067\n",
       " [2, 4,75] = 20.000003629647388\n",
       " [2, 4,76] = 20.000004288305146\n",
       " [2, 4,77] = 20.000004952025858\n",
       " [2, 4,78] = 20.000005924487187\n",
       " [2, 4,79] = 20.00000757344718\n",
       " [2, 4,80] = 20.000010486782212\n",
       " [2, 4,81] = 20.0000123780013\n",
       " [2, 4,82] = 20.000016154496123\n",
       " [2, 4,83] = 20.00002481716638\n",
       " [2, 4,84] = 20.000061834846402\n",
       " [2, 4,85] = 20.002059787253593\n",
       " [2, 4,86] = 20.262902978938083\n",
       " [2, 4,87] = 20.5547773690527\n",
       " [2, 4,88] = 20.91917893075776\n",
       " [2, 4,89] = 21.081424600925594\n",
       " [2, 4,90] = 21.310555128677983\n",
       " [2, 4,91] = 21.60806303134384\n",
       " [2, 4,92] = 21.907440357829632\n",
       " [2, 4,93] = 21.802992864381338\n",
       " [2, 5, 1] = 19.949906530552134\n",
       " [2, 5, 2] = 19.412193132119477\n",
       " [2, 5, 3] = 19.22783483586512\n",
       " [2, 5, 4] = 19.12964209065957\n",
       " [2, 5, 5] = 19.052969274608834\n",
       " [2, 5, 6] = 19.000005487085573\n",
       " [2, 5, 7] = 19.00001051970964\n",
       " [2, 5, 8] = 19.000012922439563\n",
       " [2, 5, 9] = 19.000013918883088\n",
       " [2, 5,10] = 19.000019638495456\n",
       " [2, 5,11] = 19.000086655166122\n",
       " [2, 5,12] = 19.30750664716623\n",
       " [2, 5,13] = 19.690576801370426\n",
       " [2, 5,14] = 20.145891974316445\n",
       " [2, 5,15] = 20.558436994132748\n",
       " [2, 5,16] = 21.252600913891705\n",
       " [2, 5,17] = 21.241054791157655\n",
       " [2, 5,18] = 21.407454179369967\n",
       " [2, 5,19] = 21.511465567361842\n",
       " [2, 5,20] = 21.551372982059913\n",
       " [2, 5,21] = 21.61774584781518\n",
       " [2, 5,22] = 21.7602445278546\n",
       " [2, 5,23] = 21.79082687702256\n",
       " [2, 5,24] = 21.78030464184524\n",
       " [2, 5,25] = 21.73610789011595\n",
       " [2, 5,26] = 21.728620740247166\n",
       " [2, 5,27] = 21.74223342706864\n",
       " [2, 5,28] = 21.791998041193615\n",
       " [2, 5,29] = 21.84082877897068\n",
       " [2, 5,30] = 21.857457135874007\n",
       " [2, 5,31] = 21.83710625022774\n",
       " [2, 5,32] = 21.86172112055019\n",
       " [2, 5,33] = 21.934505790443794\n",
       " [2, 5,34] = 22.05484985119832\n",
       " [2, 5,35] = 22.086115300269803\n",
       " [2, 5,36] = 22.10327026026528\n",
       " [2, 5,37] = 22.12899217138976\n",
       " [2, 5,38] = 22.142989218078114\n",
       " [2, 5,39] = 22.10300256651197\n",
       " [2, 5,40] = 22.059224418262207\n",
       " [2, 5,41] = 22.050180748975155\n",
       " [2, 5,42] = 22.034867936639085\n",
       " [2, 5,43] = 22.003935564738605\n",
       " [2, 5,44] = 21.99218343367598\n",
       " [2, 5,45] = 22.077386749259063\n",
       " [2, 5,46] = 22.074113679979654\n",
       " [2, 5,47] = 21.925210723329048\n",
       " [2, 5,48] = 21.75576389578074\n",
       " [2, 5,49] = 21.581791109212666\n",
       " [2, 5,50] = 21.38202809723708\n",
       " [2, 5,51] = 21.190174387723598\n",
       " [2, 5,52] = 20.965944597223288\n",
       " [2, 5,53] = 20.71174272208364\n",
       " [2, 5,54] = 20.428856129718472\n",
       " [2, 5,55] = 20.08454634728183\n",
       " [2, 5,56] = 20.000053481719725\n",
       " [2, 5,57] = 20.000018381438327\n",
       " [2, 5,58] = 20.00001389981096\n",
       " [2, 5,59] = 20.000010930486997\n",
       " [2, 5,60] = 20.00000919038022\n",
       " [2, 5,61] = 20.000008328014534\n",
       " [2, 5,62] = 20.000007583648877\n",
       " [2, 5,63] = 20.000006897109202\n",
       " [2, 5,64] = 20.000006237072927\n",
       " [2, 5,65] = 20.00000560187704\n",
       " [2, 5,66] = 20.000004993517766\n",
       " [2, 5,67] = 20.000004333733564\n",
       " [2, 5,68] = 20.000004007541218\n",
       " [2, 5,69] = 20.000004161641158\n",
       " [2, 5,70] = 20.000004300241017\n",
       " [2, 5,71] = 20.00000446869036\n",
       " [2, 5,72] = 20.000004821298255\n",
       " [2, 5,73] = 20.000005659128732\n",
       " [2, 5,74] = 20.000006765028076\n",
       " [2, 5,75] = 20.000008483177155\n",
       " [2, 5,76] = 20.000010928513422\n",
       " [2, 5,77] = 20.000013998598593\n",
       " [2, 5,78] = 20.000020426543237\n",
       " [2, 5,79] = 20.00004784057805\n",
       " [2, 5,80] = 20.0105656463868\n",
       " [2, 5,81] = 20.109289574997423\n",
       " [2, 5,82] = 20.25389778806206\n",
       " [2, 5,83] = 20.409078870390847\n",
       " [2, 5,84] = 20.56688860943587\n",
       " [2, 5,85] = 20.70528604767499\n",
       " [2, 5,86] = 20.901111819761105\n",
       " [2, 5,87] = 21.087244113994004\n",
       " [2, 5,88] = 21.3154858420191\n",
       " [2, 5,89] = 21.4203459985101\n",
       " [2, 5,90] = 21.567486058887038\n",
       " [2, 5,91] = 21.75569076591236\n",
       " [2, 5,92] = 21.939716261611554\n",
       " [2, 5,93] = 21.87836348827832\n",
       " [3, 1, 1] = 21.790804315548137\n",
       " [3, 1, 2] = 21.711308727301372\n",
       " [3, 1, 3] = 21.67451760231407\n",
       " [3, 1, 4] = 21.652288086162166\n",
       " [3, 1, 5] = 21.635037987947875\n",
       " [3, 1, 6] = 21.61948930022062\n",
       " [3, 1, 7] = 21.6044996401437\n",
       " [3, 1, 8] = 21.589728146319995\n",
       " [3, 1, 9] = 21.575074181473997\n",
       " [3, 1,10] = 21.560497235119783\n",
       " [3, 1,11] = 21.546006875544222\n",
       " [3, 1,12] = 21.531642187636685\n",
       " [3, 1,13] = 21.51743841113387\n",
       " [3, 1,14] = 21.503433377566076\n",
       " [3, 1,15] = 21.489664835223806\n",
       " [3, 1,16] = 21.476072234636003\n",
       " [3, 1,17] = 21.46286061247321\n",
       " [3, 1,18] = 21.450284818327436\n",
       " [3, 1,19] = 21.43827736449486\n",
       " [3, 1,20] = 21.42711020896219\n",
       " [3, 1,21] = 21.416661290209838\n",
       " [3, 1,22] = 21.40680469256193\n",
       " [3, 1,23] = 21.39762667217198\n",
       " [3, 1,24] = 21.389165947243697\n",
       " [3, 1,25] = 21.381376325767267\n",
       " [3, 1,26] = 21.37371331757504\n",
       " [3, 1,27] = 21.366319804978126\n",
       " [3, 1,28] = 21.35915092232832\n",
       " [3, 1,29] = 21.3522775041386\n",
       " [3, 1,30] = 21.34580485694983\n",
       " [3, 1,31] = 21.339642541025345\n",
       " [3, 1,32] = 21.33381726236616\n",
       " [3, 1,33] = 21.328110886787236\n",
       " [3, 1,34] = 21.32257680606287\n",
       " [3, 1,35] = 21.31733207539305\n",
       " [3, 1,36] = 21.312831821350006\n",
       " [3, 1,37] = 21.308880498438967\n",
       " [3, 1,38] = 21.305312061002454\n",
       " [3, 1,39] = 21.302093531137178\n",
       " [3, 1,40] = 21.299242538089636\n",
       " [3, 1,41] = 21.29651712415076\n",
       " [3, 1,42] = 21.293737934708425\n",
       " [3, 1,43] = 21.290997362101177\n",
       " [3, 1,44] = 21.288318126237\n",
       " [3, 1,45] = 21.285637132705865\n",
       " [3, 1,46] = 21.283131478182973\n",
       " [3, 1,47] = 21.280966896919406\n",
       " [3, 1,48] = 21.27882246965789\n",
       " [3, 1,49] = 21.276192710267452\n",
       " [3, 1,50] = 21.27293932418154\n",
       " [3, 1,51] = 21.269334893447994\n",
       " [3, 1,52] = 21.265368613551825\n",
       " [3, 1,53] = 21.260970144538202\n",
       " [3, 1,54] = 21.256260760481393\n",
       " [3, 1,55] = 21.251315035285728\n",
       " [3, 1,56] = 21.246297446432816\n",
       " [3, 1,57] = 21.241274076075875\n",
       " [3, 1,58] = 21.23626646642497\n",
       " [3, 1,59] = 21.231281282390324\n",
       " [3, 1,60] = 21.226302815814545\n",
       " [3, 1,61] = 21.22128362963061\n",
       " [3, 1,62] = 21.216197937952877\n",
       " [3, 1,63] = 21.2110291064504\n",
       " [3, 1,64] = 21.20575211920878\n",
       " [3, 1,65] = 21.200318053512355\n",
       " [3, 1,66] = 21.19470059552486\n",
       " [3, 1,67] = 21.18888095612368\n",
       " [3, 1,68] = 21.182875937452707\n",
       " [3, 1,69] = 21.176760622407297\n",
       " [3, 1,70] = 21.170571591200847\n",
       " [3, 1,71] = 21.164329487872408\n",
       " [3, 1,72] = 21.158047907389825\n",
       " [3, 1,73] = 21.151736312127582\n",
       " [3, 1,74] = 21.145404039984964\n",
       " [3, 1,75] = 21.139064035928783\n",
       " [3, 1,76] = 21.13272500107106\n",
       " [3, 1,77] = 21.126393421571656\n",
       " [3, 1,78] = 21.120074426832137\n",
       " [3, 1,79] = 21.113772185735797\n",
       " [3, 1,80] = 21.10749011686498\n",
       " [3, 1,81] = 21.10123133190238\n",
       " [3, 1,82] = 21.094997471611496\n",
       " [3, 1,83] = 21.088787216548333\n",
       " [3, 1,84] = 21.082600455801483\n",
       " [3, 1,85] = 21.076438049237492\n",
       " [3, 1,86] = 21.070298949857463\n",
       " [3, 1,87] = 21.064154321478945\n",
       " [3, 1,88] = 21.05803425556508\n",
       " [3, 1,89] = 21.052000732917428\n",
       " [3, 1,90] = 21.04661409180917\n",
       " [3, 1,91] = 21.04160145891288\n",
       " [3, 1,92] = 21.037704516820433\n",
       " [3, 1,93] = 21.03613814942801\n",
       " [3, 2, 1] = 21.744267893077552\n",
       " [3, 2, 2] = 21.65283311683432\n",
       " [3, 2, 3] = 21.612583236824893\n",
       " [3, 2, 4] = 21.58865805567151\n",
       " [3, 2, 5] = 21.569987020064502\n",
       " [3, 2, 6] = 21.5530655883677\n",
       " [3, 2, 7] = 21.53685462562482\n",
       " [3, 2, 8] = 21.520899559758558\n",
       " [3, 2, 9] = 21.505074239506854\n",
       " [3, 2,10] = 21.48939691662238\n",
       " [3, 2,11] = 21.473860786841616\n",
       " [3, 2,12] = 21.458475439854784\n",
       " [3, 2,13] = 21.44325783514893\n",
       " [3, 2,14] = 21.428231280810902\n",
       " [3, 2,15] = 21.41341886750628\n",
       " [3, 2,16] = 21.398652151014982\n",
       " [3, 2,17] = 21.38486958852413\n",
       " [3, 2,18] = 21.371603074022236\n",
       " [3, 2,19] = 21.35895774295259\n",
       " [3, 2,20] = 21.347188115604105\n",
       " [3, 2,21] = 21.33624662408655\n",
       " [3, 2,22] = 21.32590832955586\n",
       " [3, 2,23] = 21.31658976820774\n",
       " [3, 2,24] = 21.308346124058183\n",
       " [3, 2,25] = 21.30016034780849\n",
       " [3, 2,26] = 21.29286894708439\n",
       " [3, 2,27] = 21.285286031732674\n",
       " [3, 2,28] = 21.2777576039251\n",
       " [3, 2,29] = 21.27047709864055\n",
       " [3, 2,30] = 21.26356115443951\n",
       " [3, 2,31] = 21.257255447471106\n",
       " [3, 2,32] = 21.250770826010577\n",
       " [3, 2,33] = 21.244571670251833\n",
       " [3, 2,34] = 21.238962194621855\n",
       " [3, 2,35] = 21.234531412633565\n",
       " [3, 2,36] = 21.229997955702675\n",
       " [3, 2,37] = 21.22552524443266\n",
       " [3, 2,38] = 21.22144214000013\n",
       " [3, 2,39] = 21.217767937829187\n",
       " [3, 2,40] = 21.213872159060855\n",
       " [3, 2,41] = 21.209809990669072\n",
       " [3, 2,42] = 21.206081099223802\n",
       " [3, 2,43] = 21.20249119790766\n",
       " [3, 2,44] = 21.198781658390995\n",
       " [3, 2,45] = 21.194914873125576\n",
       " [3, 2,46] = 21.191133758494427\n",
       " [3, 2,47] = 21.187676538066487\n",
       " [3, 2,48] = 21.18418511451983\n",
       " [3, 2,49] = 21.180235540880382\n",
       " [3, 2,50] = 21.17520667100889\n",
       " [3, 2,51] = 21.16847886720538\n",
       " [3, 2,52] = 21.160879617759665\n",
       " [3, 2,53] = 21.153316632978285\n",
       " [3, 2,54] = 21.145995933736906\n",
       " [3, 2,55] = 21.138981934682768\n",
       " [3, 2,56] = 21.131860864348376\n",
       " [3, 2,57] = 21.124547777044754\n",
       " [3, 2,58] = 21.117056228934633\n",
       " [3, 2,59] = 21.10942775465647\n",
       " [3, 2,60] = 21.10168662087749\n",
       " [3, 2,61] = 21.09382197371294\n",
       " [3, 2,62] = 21.085844691601704\n",
       " [3, 2,63] = 21.07776781847402\n",
       " [3, 2,64] = 21.069586782790164\n",
       " [3, 2,65] = 21.06126775461583\n",
       " [3, 2,66] = 21.052801414279273\n",
       " [3, 2,67] = 21.04418440944266\n",
       " [3, 2,68] = 21.03545236141005\n",
       " [3, 2,69] = 21.02669707120336\n",
       " [3, 2,70] = 21.017957932261634\n",
       " [3, 2,71] = 21.009256912188366\n",
       " [3, 2,72] = 21.000608671734042\n",
       " [3, 2,73] = 20.99202351689801\n",
       " [3, 2,74] = 20.983511359814685\n",
       " [3, 2,75] = 20.975083914747948\n",
       " [3, 2,76] = 20.96674690429142\n",
       " [3, 2,77] = 20.958503187312832\n",
       " [3, 2,78] = 20.9503538778772\n",
       " [3, 2,79] = 20.942298837897543\n",
       " [3, 2,80] = 20.9343369704599\n",
       " [3, 2,81] = 20.926466520054362\n",
       " [3, 2,82] = 20.9186839258858\n",
       " [3, 2,83] = 20.910983109608967\n",
       " [3, 2,84] = 20.90335973374312\n",
       " [3, 2,85] = 20.895810101889683\n",
       " [3, 2,86] = 20.888328100269096\n",
       " [3, 2,87] = 20.880880231285527\n",
       " [3, 2,88] = 20.873467565552158\n",
       " [3, 2,89] = 20.866590528085563\n",
       " [3, 2,90] = 20.858837184554844\n",
       " [3, 2,91] = 20.852202919010793\n",
       " [3, 2,92] = 21.103108918535572\n",
       " [3, 2,93] = 20.933601432546027\n",
       " [3, 3, 1] = 21.538636824140756\n",
       " [3, 3, 2] = 21.36454021229327\n",
       " [3, 3, 3] = 21.284830127074304\n",
       " [3, 3, 4] = 21.234897337406203\n",
       " [3, 3, 5] = 21.19416117339892\n",
       " [3, 3, 6] = 21.15638464701147\n",
       " [3, 3, 7] = 21.119961869182156\n",
       " [3, 3, 8] = 21.08415457890729\n",
       " [3, 3, 9] = 21.048774320286373\n",
       " [3, 3,10] = 21.013837319972367\n",
       " [3, 3,11] = 20.979387424113128\n",
       " [3, 3,12] = 20.945475680306632\n",
       " [3, 3,13] = 20.912121629407707\n",
       " [3, 3,14] = 20.879364151777892\n",
       " [3, 3,15] = 20.847289376482212\n",
       " [3, 3,16] = 20.81562842035154\n",
       " [3, 3,17] = 20.785645018463775\n",
       " [3, 3,18] = 20.757026836727402\n",
       " [3, 3,19] = 20.72963967346019\n",
       " [3, 3,20] = 20.703679340598743\n",
       " [3, 3,21] = 20.67891981800363\n",
       " [3, 3,22] = 20.65533918530654\n",
       " [3, 3,23] = 20.634455284931327\n",
       " [3, 3,24] = 20.61617012042393\n",
       " [3, 3,25] = 20.598641795283697\n",
       " [3, 3,26] = 20.58449247088558\n",
       " [3, 3,27] = 20.570584737397525\n",
       " [3, 3,28] = 20.557225173782715\n",
       " [3, 3,29] = 20.544597850558482\n",
       " [3, 3,30] = 20.53295623518651\n",
       " [3, 3,31] = 20.522732384233155\n",
       " [3, 3,32] = 20.5121867349939\n",
       " [3, 3,33] = 20.503726544480838\n",
       " [3, 3,34] = 20.4999390397447\n",
       " [3, 3,35] = 20.502667219037697\n",
       " [3, 3,36] = 20.507785598881604\n",
       " [3, 3,37] = 20.515331028898412\n",
       " [3, 3,38] = 20.526006268842885\n",
       " [3, 3,39] = 20.539078118877732\n",
       " [3, 3,40] = 20.5519615187979\n",
       " [3, 3,41] = 20.564741357915562\n",
       " [3, 3,42] = 20.579123980635604\n",
       " [3, 3,43] = 20.59463410328525\n",
       " [3, 3,44] = 20.610385053383386\n",
       " [3, 3,45] = 20.626047596264428\n",
       " [3, 3,46] = 20.641874363521648\n",
       " [3, 3,47] = 20.6580312725435\n",
       " [3, 3,48] = 20.674055236413544\n",
       " [3, 3,49] = 20.689001007863684\n",
       " [3, 3,50] = 20.699711476962946\n",
       " [3, 3,51] = 20.702757925992394\n",
       " [3, 3,52] = 20.69855905437553\n",
       " [3, 3,53] = 20.689957179619086\n",
       " [3, 3,54] = 20.679340208850537\n",
       " [3, 3,55] = 20.668209261731327\n",
       " [3, 3,56] = 20.65643275875042\n",
       " [3, 3,57] = 20.64414264388962\n",
       " [3, 3,58] = 20.631477337738314\n",
       " [3, 3,59] = 20.618585932744317\n",
       " [3, 3,60] = 20.605510509688855\n",
       " [3, 3,61] = 20.592066891501837\n",
       " [3, 3,62] = 20.57822680799769\n",
       " [3, 3,63] = 20.564015880657163\n",
       " [3, 3,64] = 20.549408068568745\n",
       " [3, 3,65] = 20.534192007874775\n",
       " [3, 3,66] = 20.518315109439925\n",
       " [3, 3,67] = 20.50172255439386\n",
       " [3, 3,68] = 20.4845285777326\n",
       " [3, 3,69] = 20.467229524672533\n",
       " [3, 3,70] = 20.45000018842444\n",
       " [3, 3,71] = 20.43290830142472\n",
       " [3, 3,72] = 20.415984367446526\n",
       " [3, 3,73] = 20.39923903797487\n",
       " [3, 3,74] = 20.382690666370433\n",
       " [3, 3,75] = 20.366390845510406\n",
       " [3, 3,76] = 20.350357112582387\n",
       " [3, 3,77] = 20.334594948876337\n",
       " [3, 3,78] = 20.31910503983608\n",
       " [3, 3,79] = 20.30388575843287\n",
       " [3, 3,80] = 20.288934103607463\n",
       " [3, 3,81] = 20.274248890893308\n",
       " [3, 3,82] = 20.25982127588952\n",
       " [3, 3,83] = 20.245623299130553\n",
       " [3, 3,84] = 20.23164240534823\n",
       " [3, 3,85] = 20.217876425590376\n",
       " [3, 3,86] = 20.204310465008994\n",
       " [3, 3,87] = 20.19084407380855\n",
       " [3, 3,88] = 20.17749379663627\n",
       " [3, 3,89] = 20.163847766139185\n",
       " [3, 3,90] = 20.145495811173404\n",
       " [3, 3,91] = 20.128911762921565\n",
       " [3, 3,92] = 21.237341737890677\n",
       " [3, 3,93] = 20.570129641270512\n",
       " [3, 4, 1] = 21.535666725858256\n",
       " [3, 4, 2] = 21.34454358850662\n",
       " [3, 4, 3] = 21.258704821404542\n",
       " [3, 4, 4] = 21.21476015687276\n",
       " [3, 4, 5] = 21.188407149940048\n",
       " [3, 4, 6] = 21.169971886963445\n",
       " [3, 4, 7] = 21.155550716636537\n",
       " [3, 4, 8] = 21.14316611936391\n",
       " [3, 4, 9] = 21.13190610658994\n",
       " [3, 4,10] = 21.121382718973685\n",
       " [3, 4,11] = 21.111355931910452\n",
       " [3, 4,12] = 21.10168754189457\n",
       " [3, 4,13] = 21.092362084802605\n",
       " [3, 4,14] = 21.083309495901972\n",
       " [3, 4,15] = 21.074471659440658\n",
       " [3, 4,16] = 21.066717080173692\n",
       " [3, 4,17] = 21.057751483458414\n",
       " [3, 4,18] = 21.050344431727634\n",
       " [3, 4,19] = 21.04325241193514\n",
       " [3, 4,20] = 21.036571137304335\n",
       " [3, 4,21] = 21.03034988611139\n",
       " [3, 4,22] = 21.024310248061024\n",
       " [3, 4,23] = 21.018747619518027\n",
       " [3, 4,24] = 21.01399319614792\n",
       " [3, 4,25] = 21.008209088559237\n",
       " [3, 4,26] = 21.003384369209375\n",
       " [3, 4,27] = 20.99749614363023\n",
       " [3, 4,28] = 20.99130141144481\n",
       " [3, 4,29] = 20.985137512144263\n",
       " [3, 4,30] = 20.979131761110356\n",
       " [3, 4,31] = 20.97375120914057\n",
       " [3, 4,32] = 20.967774383513735\n",
       " [3, 4,33] = 20.96212562552049\n",
       " [3, 4,34] = 20.957413592206265\n",
       " [3, 4,35] = 20.954353772302593\n",
       " [3, 4,36] = 20.950721749723602\n",
       " [3, 4,37] = 20.946832530877053\n",
       " [3, 4,38] = 20.943318141253652\n",
       " [3, 4,39] = 20.94019117186464\n",
       " [3, 4,40] = 20.936440876546076\n",
       " [3, 4,41] = 20.93231896964648\n",
       " [3, 4,42] = 20.928824528585746\n",
       " [3, 4,43] = 20.925684028689954\n",
       " [3, 4,44] = 20.922517960255902\n",
       " [3, 4,45] = 20.91943666238221\n",
       " [3, 4,46] = 20.91634299614491\n",
       " [3, 4,47] = 20.913481015585006\n",
       " [3, 4,48] = 20.910585170823946\n",
       " [3, 4,49] = 20.907133273210043\n",
       " [3, 4,50] = 20.902526247752206\n",
       " [3, 4,51] = 20.895898470774323\n",
       " [3, 4,52] = 20.888848881170826\n",
       " [3, 4,53] = 20.882666603657537\n",
       " [3, 4,54] = 20.877777790533933\n",
       " [3, 4,55] = 20.874062493193605\n",
       " [3, 4,56] = 20.87058719169145\n",
       " [3, 4,57] = 20.867000356120357\n",
       " [3, 4,58] = 20.863180822438572\n",
       " [3, 4,59] = 20.859110023752244\n",
       " [3, 4,60] = 20.854713568692127\n",
       " [3, 4,61] = 20.849821482539745\n",
       " [3, 4,62] = 20.844439371116703\n",
       " [3, 4,63] = 20.83860991144061\n",
       " [3, 4,64] = 20.83230408632269\n",
       " [3, 4,65] = 20.825392749791884\n",
       " [3, 4,66] = 20.817902410229298\n",
       " [3, 4,67] = 20.809896905972064\n",
       " [3, 4,68] = 20.801613309271755\n",
       " [3, 4,69] = 20.79347198869216\n",
       " [3, 4,70] = 20.785554880501756\n",
       " [3, 4,71] = 20.77784800344584\n",
       " [3, 4,72] = 20.770314982208976\n",
       " [3, 4,73] = 20.76292022192235\n",
       " [3, 4,74] = 20.755647194034328\n",
       " [3, 4,75] = 20.74849735109988\n",
       " [3, 4,76] = 20.741454113782893\n",
       " [3, 4,77] = 20.73449786149844\n",
       " [3, 4,78] = 20.72761073998838\n",
       " [3, 4,79] = 20.720777842014243\n",
       " [3, 4,80] = 20.713987179119762\n",
       " [3, 4,81] = 20.70722854758987\n",
       " [3, 4,82] = 20.700486903014063\n",
       " [3, 4,83] = 20.69374274654762\n",
       " [3, 4,84] = 20.68698960882234\n",
       " [3, 4,85] = 20.68022435871344\n",
       " [3, 4,86] = 20.67343177992121\n",
       " [3, 4,87] = 20.66681142091966\n",
       " [3, 4,88] = 20.6601716775609\n",
       " [3, 4,89] = 20.653808552731036\n",
       " [3, 4,90] = 20.64594172821316\n",
       " [3, 4,91] = 20.639764828845248\n",
       " [3, 4,92] = 21.486493585820043\n",
       " [3, 4,93] = 20.980258619793712\n",
       " [3, 5, 1] = 21.505431839790166\n",
       " [3, 5, 2] = 21.31855099350618\n",
       " [3, 5, 3] = 21.238897481683427\n",
       " [3, 5, 4] = 21.19753551590279\n",
       " [3, 5, 5] = 21.170916279716554\n",
       " [3, 5, 6] = 21.150719304821983\n",
       " [3, 5, 7] = 21.133659903199117\n",
       " [3, 5, 8] = 21.118573395494053\n",
       " [3, 5, 9] = 21.10491242854228\n",
       " [3, 5,10] = 21.0922622006036\n",
       " [3, 5,11] = 21.080401348307852\n",
       " [3, 5,12] = 21.069167445163636\n",
       " [3, 5,13] = 21.058406521296114\n",
       " [3, 5,14] = 21.048048748400067\n",
       " [3, 5,15] = 21.038141070883583\n",
       " [3, 5,16] = 21.02912416577863\n",
       " [3, 5,17] = 21.01999845956412\n",
       " [3, 5,18] = 21.012011085080076\n",
       " [3, 5,19] = 21.00463046903358\n",
       " [3, 5,20] = 20.998002872002107\n",
       " [3, 5,21] = 20.991755375333117\n",
       " [3, 5,22] = 20.985950035547194\n",
       " [3, 5,23] = 20.980405799674468\n",
       " [3, 5,24] = 20.974772946781247\n",
       " [3, 5,25] = 20.969695700353626\n",
       " [3, 5,26] = 20.963495405826983\n",
       " [3, 5,27] = 20.957466371893773\n",
       " [3, 5,28] = 20.95161822368652\n",
       " [3, 5,29] = 20.946061023474805\n",
       " [3, 5,30] = 20.940835873653995\n",
       " [3, 5,31] = 20.935291735009773\n",
       " [3, 5,32] = 20.930113480165314\n",
       " [3, 5,33] = 20.924811279716206\n",
       " [3, 5,34] = 20.91937792803601\n",
       " [3, 5,35] = 20.91330174506985\n",
       " [3, 5,36] = 20.908473857165678\n",
       " [3, 5,37] = 20.904772007136124\n",
       " [3, 5,38] = 20.901626818526786\n",
       " [3, 5,39] = 20.898676934426803\n",
       " [3, 5,40] = 20.896312714789197\n",
       " [3, 5,41] = 20.894134369992223\n",
       " [3, 5,42] = 20.891385290641665\n",
       " [3, 5,43] = 20.888229984922685\n",
       " [3, 5,44] = 20.884928913107807\n",
       " [3, 5,45] = 20.88160788224165\n",
       " [3, 5,46] = 20.878483182956803\n",
       " [3, 5,47] = 20.875319570249015\n",
       " [3, 5,48] = 20.87137402246625\n",
       " [3, 5,49] = 20.865825958373286\n",
       " [3, 5,50] = 20.8590298419432\n",
       " [3, 5,51] = 20.852805303117023\n",
       " [3, 5,52] = 20.846908024782586\n",
       " [3, 5,53] = 20.840386088773606\n",
       " [3, 5,54] = 20.83323811841163\n",
       " [3, 5,55] = 20.825297980314666\n",
       " [3, 5,56] = 20.817201156782648\n",
       " [3, 5,57] = 20.80926873392747\n",
       " [3, 5,58] = 20.80161678235635\n",
       " [3, 5,59] = 20.794270050588505\n",
       " [3, 5,60] = 20.787112931094924\n",
       " [3, 5,61] = 20.779897804951588\n",
       " [3, 5,62] = 20.772552344616216\n",
       " [3, 5,63] = 20.76505063016844\n",
       " [3, 5,64] = 20.757306115289623\n",
       " [3, 5,65] = 20.749132355830035\n",
       " [3, 5,66] = 20.74051078908945\n",
       " [3, 5,67] = 20.731475353051326\n",
       " [3, 5,68] = 20.722253877643105\n",
       " [3, 5,69] = 20.713282433896094\n",
       " [3, 5,70] = 20.70465120982318\n",
       " [3, 5,71] = 20.696337784370524\n",
       " [3, 5,72] = 20.688289500851262\n",
       " [3, 5,73] = 20.680450831823354\n",
       " [3, 5,74] = 20.67278948477863\n",
       " [3, 5,75] = 20.66530286859015\n",
       " [3, 5,76] = 20.65796271194198\n",
       " [3, 5,77] = 20.650737046463245\n",
       " [3, 5,78] = 20.643596934086474\n",
       " [3, 5,79] = 20.636517997267312\n",
       " [3, 5,80] = 20.629480291372996\n",
       " [3, 5,81] = 20.622467958669123\n",
       " [3, 5,82] = 20.615459912829017\n",
       " [3, 5,83] = 20.608426676014506\n",
       " [3, 5,84] = 20.601357502398685\n",
       " [3, 5,85] = 20.594248963095417\n",
       " [3, 5,86] = 20.587083131582947\n",
       " [3, 5,87] = 20.579872945999867\n",
       " [3, 5,88] = 20.572799325191255\n",
       " [3, 5,89] = 20.56533682125604\n",
       " [3, 5,90] = 20.56006140888039\n",
       " [3, 5,91] = 20.555298162664176\n",
       " [3, 5,92] = 21.473539251002332\n",
       " [3, 5,93] = 20.972304598553784\n",
       " [3, 6, 1] = 20.093087034080053\n",
       " [3, 6, 2] = 19.648847341703863\n",
       " [3, 6, 3] = 19.499498900472126\n",
       " [3, 6, 4] = 19.41630561381189\n",
       " [3, 6, 5] = 19.348758578407253\n",
       " [3, 6, 6] = 19.284524408142804\n",
       " [3, 6, 7] = 19.22310143591071\n",
       " [3, 6, 8] = 19.164194185464666\n",
       " [3, 6, 9] = 19.107326568824128\n",
       " [3, 6,10] = 19.051943877053283\n",
       " [3, 6,11] = 19.000001739549553\n",
       " [3, 6,12] = 19.000002457638207\n",
       " [3, 6,13] = 19.000002965959407\n",
       " [3, 6,14] = 19.00000411443878\n",
       " [3, 6,15] = 19.00000640847422\n",
       " [3, 6,16] = 19.005464930207598\n",
       " [3, 6,17] = 19.001716923702077\n",
       " [3, 6,18] = 19.42458747260562\n",
       " [3, 6,19] = 19.716472639460587\n",
       " [3, 6,20] = 19.82932084207147\n",
       " [3, 6,21] = 20.021036068498848\n",
       " [3, 6,22] = 20.416528451824092\n",
       " [3, 6,23] = 20.491721166621854\n",
       " [3, 6,24] = 20.451781470202885\n",
       " [3, 6,25] = 20.311677285202165\n",
       " [3, 6,26] = 20.283663277244354\n",
       " [3, 6,27] = 20.31732087395359\n",
       " [3, 6,28] = 20.4529957736962\n",
       " [3, 6,29] = 20.583788848378084\n",
       " [3, 6,30] = 20.61948803001476\n",
       " [3, 6,31] = 20.559327465953842\n",
       " [3, 6,32] = 20.627303533283577\n",
       " [3, 6,33] = 20.83287153547066\n",
       " [3, 6,34] = 21.162387224686416\n",
       " [3, 6,35] = 21.249045632154402\n",
       " [3, 6,36] = 21.29585083168862\n",
       " [3, 6,37] = 21.36490940701272\n",
       " [3, 6,38] = 21.398125227545474\n",
       " [3, 6,39] = 21.28459747356771\n",
       " [3, 6,40] = 21.16390559635552\n",
       " [3, 6,41] = 21.139423349423367\n",
       " [3, 6,42] = 21.100012311805568\n",
       " [3, 6,43] = 21.022860790696637\n",
       " [3, 6,44] = 21.008880099385472\n",
       " [3, 6,45] = 21.26298024476293\n",
       " [3, 6,46] = 21.258720299400675\n",
       " [3, 6,47] = 20.842370478177006\n",
       " [3, 6,48] = 20.367478854922275\n",
       " [3, 6,49] = 20.00025853857782\n",
       " [3, 6,50] = 20.000018074253124\n",
       " [3, 6,51] = 20.000010310788912\n",
       " [3, 6,52] = 20.00000681984608\n",
       " [3, 6,53] = 20.000004929287552\n",
       " [3, 6,54] = 20.000003757298714\n",
       " [3, 6,55] = 20.00000291599106\n",
       " [3, 6,56] = 20.000002405664024\n",
       " [3, 6,57] = 20.00000200537707\n",
       " [3, 6,58] = 20.00000182748411\n",
       " [3, 6,59] = 20.000001638352355\n",
       " [3, 6,60] = 20.000001502682778\n",
       " [3, 6,61] = 20.000001434083707\n",
       " [3, 6,62] = 20.00000136857413\n",
       " [3, 6,63] = 20.00000130262592\n",
       " [3, 6,64] = 20.000001233246326\n",
       " [3, 6,65] = 20.000001158879748\n",
       " [3, 6,66] = 20.000001080175863\n",
       " [3, 6,67] = 20.000000986614495\n",
       " [3, 6,68] = 20.000000938503344\n",
       " [3, 6,69] = 20.000000966074122\n",
       " [3, 6,70] = 20.000000990613533\n",
       " [3, 6,71] = 20.000001020003605\n",
       " [3, 6,72] = 20.00000107732849\n",
       " [3, 6,73] = 20.000001199253163\n",
       " [3, 6,74] = 20.000001341955073\n",
       " [3, 6,75] = 20.000001529237043\n",
       " [3, 6,76] = 20.0000017418264\n",
       " [3, 6,77] = 20.00000194550547\n",
       " [3, 6,78] = 20.000002220639914\n",
       " [3, 6,79] = 20.000002625878707\n",
       " [3, 6,80] = 20.000003185259164\n",
       " [3, 6,81] = 20.00000348787489\n",
       " [3, 6,82] = 20.00000395634671\n",
       " [3, 6,83] = 20.000004620601167\n",
       " [3, 6,84] = 20.000005573577464\n",
       " [3, 6,85] = 20.000006835062734\n",
       " [3, 6,86] = 20.000010064637863\n",
       " [3, 6,87] = 20.000018932308855\n",
       " [3, 6,88] = 20.010966422629345\n",
       " [3, 6,89] = 20.318190367589494\n",
       " [3, 6,90] = 20.753243560238722\n",
       " [3, 6,91] = 21.30362543064709\n",
       " [3, 6,92] = 21.775848170563314\n",
       " [3, 6,93] = 21.647861219757257\n",
       " [3, 7, 1] = 20.01813229806902\n",
       " [3, 7, 2] = 19.58926782879117\n",
       " [3, 7, 3] = 19.4408335182948\n",
       " [3, 7, 4] = 19.353930843484576\n",
       " [3, 7, 5] = 19.282449561911424\n",
       " [3, 7, 6] = 19.21450583201245\n",
       " [3, 7, 7] = 19.149532629140243\n",
       " [3, 7, 8] = 19.087115946539384\n",
       " [3, 7, 9] = 19.02662967129138\n",
       " [3, 7,10] = 19.000002729072097\n",
       " [3, 7,11] = 19.00000383648852\n",
       " [3, 7,12] = 19.000004952018386\n",
       " [3, 7,13] = 19.000006684319473\n",
       " [3, 7,14] = 19.000011008632047\n",
       " [3, 7,15] = 19.000044417075635\n",
       " [3, 7,16] = 20.03870584932525\n",
       " [3, 7,17] = 20.031189123793954\n",
       " [3, 7,18] = 20.344108779990293\n",
       " [3, 7,19] = 20.538714327948288\n",
       " [3, 7,20] = 20.618505093324945\n",
       " [3, 7,21] = 20.751517977902587\n",
       " [3, 7,22] = 21.013596780276245\n",
       " [3, 7,23] = 21.066981748547697\n",
       " [3, 7,24] = 21.045024616581802\n",
       " [3, 7,25] = 20.95952653148991\n",
       " [3, 7,26] = 20.947682630991476\n",
       " [3, 7,27] = 20.977121872585116\n",
       " [3, 7,28] = 21.07282072970016\n",
       " [3, 7,29] = 21.16450030886442\n",
       " [3, 7,30] = 21.193819207001223\n",
       " [3, 7,31] = 21.16254523827357\n",
       " [3, 7,32] = 21.21600275836982\n",
       " [3, 7,33] = 21.35982404489556\n",
       " [3, 7,34] = 21.58157152578926\n",
       " [3, 7,35] = 21.645466934636833\n",
       " [3, 7,36] = 21.683670112431145\n",
       " [3, 7,37] = 21.73570169129669\n",
       " [3, 7,38] = 21.762823082061907\n",
       " [3, 7,39] = 21.694567995764995\n",
       " [3, 7,40] = 21.622320244391794\n",
       " [3, 7,41] = 21.611877096782692\n",
       " [3, 7,42] = 21.590963334560954\n",
       " [3, 7,43] = 21.545959305888225\n",
       " [3, 7,44] = 21.543855982233737\n",
       " [3, 7,45] = 21.71195454685493\n",
       " [3, 7,46] = 21.707559469673388\n",
       " [3, 7,47] = 21.434533543104216\n",
       " [3, 7,48] = 21.122502524132457\n",
       " [3, 7,49] = 20.80273610634082\n",
       " [3, 7,50] = 20.436974833882296\n",
       " [3, 7,51] = 20.084908048205328\n",
       " [3, 7,52] = 20.000040645569385\n",
       " [3, 7,53] = 20.000014909738223\n",
       " [3, 7,54] = 20.00000911581705\n",
       " [3, 7,55] = 20.000006234489632\n",
       " [3, 7,56] = 20.00000479450129\n",
       " [3, 7,57] = 20.000003801502146\n",
       " [3, 7,58] = 20.000003381997395\n",
       " [3, 7,59] = 20.000002961368896\n",
       " [3, 7,60] = 20.000002671328655\n",
       " [3, 7,61] = 20.000002524824065\n",
       " [3, 7,62] = 20.00000238748936\n",
       " [3, 7,63] = 20.00000225195588\n",
       " [3, 7,64] = 20.000002112410055\n",
       " [3, 7,65] = 20.00000196619825\n",
       " [3, 7,66] = 20.000001814739278\n",
       " [3, 7,67] = 20.00000164156459\n",
       " [3, 7,68] = 20.000001554637507\n",
       " [3, 7,69] = 20.000001602656415\n",
       " [3, 7,70] = 20.000001645627183\n",
       " [3, 7,71] = 20.000001698291076\n",
       " [3, 7,72] = 20.000001803238273\n",
       " [3, 7,73] = 20.000002028360836\n",
       " [3, 7,74] = 20.000002298498995\n",
       " [3, 7,75] = 20.000002662684828\n",
       " [3, 7,76] = 20.000003089882114\n",
       " [3, 7,77] = 20.000003516449368\n",
       " [3, 7,78] = 20.000004120071996\n",
       " [3, 7,79] = 20.00000506824897\n",
       " [3, 7,80] = 20.000006497815193\n",
       " [3, 7,81] = 20.00000735540673\n",
       " [3, 7,82] = 20.00000881039254\n",
       " [3, 7,83] = 20.00001121508777\n",
       " [3, 7,84] = 20.000015713693337\n",
       " [3, 7,85] = 20.000025521261623\n",
       " [3, 7,86] = 20.000271506314554\n",
       " [3, 7,87] = 20.245858875097333\n",
       " [3, 7,88] = 20.681533878529702\n",
       " [3, 7,89] = 20.896006026787838\n",
       " [3, 7,90] = 21.184021479185454\n",
       " [3, 7,91] = 21.545794578375148\n",
       " [3, 7,92] = 21.850776341809034\n",
       " [3, 7,93] = 21.77182465277968\n",
       " [3, 8, 1] = 20.061158512085452\n",
       " [3, 8, 2] = 19.575446716560457\n",
       " [3, 8, 3] = 19.41025540413133\n",
       " [3, 8, 4] = 19.323050795450804\n",
       " [3, 8, 5] = 19.25542771628452\n",
       " [3, 8, 6] = 19.19212592814368\n",
       " [3, 8, 7] = 19.13185498696702\n",
       " [3, 8, 8] = 19.074140533651033\n",
       " [3, 8, 9] = 19.018444994472624\n",
       " [3, 8,10] = 19.000001834047463\n",
       " [3, 8,11] = 19.000002029572325\n",
       " [3, 8,12] = 19.000002492603375\n",
       " [3, 8,13] = 19.000003082929936\n",
       " [3, 8,14] = 19.000004333142673\n",
       " [3, 8,15] = 19.000006836168705\n",
       " [3, 8,16] = 19.058081430571743\n",
       " [3, 8,17] = 19.029408343103686\n",
       " [3, 8,18] = 19.47495013186934\n",
       " [3, 8,19] = 19.754038573116855\n",
       " [3, 8,20] = 19.85794766219183\n",
       " [3, 8,21] = 20.035273146199984\n",
       " [3, 8,22] = 20.415607191092377\n",
       " [3, 8,23] = 20.488857608373927\n",
       " [3, 8,24] = 20.45229606720334\n",
       " [3, 8,25] = 20.31662777671645\n",
       " [3, 8,26] = 20.287677130778988\n",
       " [3, 8,27] = 20.316364396552952\n",
       " [3, 8,28] = 20.44390099640399\n",
       " [3, 8,29] = 20.568548452034843\n",
       " [3, 8,30] = 20.602374668515544\n",
       " [3, 8,31] = 20.540473376097243\n",
       " [3, 8,32] = 20.599209358338307\n",
       " [3, 8,33] = 20.789071510235967\n",
       " [3, 8,34] = 21.102870674449687\n",
       " [3, 8,35] = 21.18242372081101\n",
       " [3, 8,36] = 21.223002904064597\n",
       " [3, 8,37] = 21.285995437614716\n",
       " [3, 8,38] = 21.316797468800296\n",
       " [3, 8,39] = 21.205429946289343\n",
       " [3, 8,40] = 21.08519745828426\n",
       " [3, 8,41] = 21.05794650121564\n",
       " [3, 8,42] = 21.016239451106546\n",
       " [3, 8,43] = 20.93574088184243\n",
       " [3, 8,44] = 20.912087078209172\n",
       " [3, 8,45] = 21.153300959590684\n",
       " [3, 8,46] = 21.152577920959992\n",
       " [3, 8,47] = 20.754986381370795\n",
       " [3, 8,48] = 20.301447945050494\n",
       " [3, 8,49] = 20.000138539854895\n",
       " [3, 8,50] = 20.000017717535815\n",
       " [3, 8,51] = 20.000010376595426\n",
       " [3, 8,52] = 20.000006959611525\n",
       " [3, 8,53] = 20.00000507442339\n",
       " [3, 8,54] = 20.000003892661358\n",
       " [3, 8,55] = 20.000003032803967\n",
       " [3, 8,56] = 20.000002509822245\n",
       " [3, 8,57] = 20.000002094145714\n",
       " [3, 8,58] = 20.000001912101414\n",
       " [3, 8,59] = 20.000001716004878\n",
       " [3, 8,60] = 20.000001574792527\n",
       " [3, 8,61] = 20.0000015045704\n",
       " [3, 8,62] = 20.00000143759202\n",
       " [3, 8,63] = 20.00000137021753\n",
       " [3, 8,64] = 20.000001299306998\n",
       " [3, 8,65] = 20.00000122303036\n",
       " [3, 8,66] = 20.000001141931246\n",
       " [3, 8,67] = 20.000001043054077\n",
       " [3, 8,68] = 20.000000991449774\n",
       " [3, 8,69] = 20.000001021570206\n",
       " [3, 8,70] = 20.000001048290827\n",
       " [3, 8,71] = 20.000001079616304\n",
       " [3, 8,72] = 20.00000114013829\n",
       " [3, 8,73] = 20.00000127044386\n",
       " [3, 8,74] = 20.000001423021367\n",
       " [3, 8,75] = 20.000001624374367\n",
       " [3, 8,76] = 20.000001854298468\n",
       " [3, 8,77] = 20.000002074153233\n",
       " [3, 8,78] = 20.000002371760836\n",
       " [3, 8,79] = 20.000002813921817\n",
       " [3, 8,80] = 20.00000343664144\n",
       " [3, 8,81] = 20.000003773103955\n",
       " [3, 8,82] = 20.000004297984212\n",
       " [3, 8,83] = 20.00000505011459\n",
       " [3, 8,84] = 20.000006146317894\n",
       " [3, 8,85] = 20.00000761165914\n",
       " [3, 8,86] = 20.000011565476147\n",
       " [3, 8,87] = 20.000024138473858\n",
       " [3, 8,88] = 20.095393780478837\n",
       " [3, 8,89] = 20.39883338946171\n",
       " [3, 8,90] = 20.808313910749657\n",
       " [3, 8,91] = 21.332133186000952\n",
       " [3, 8,92] = 21.789678979297985\n",
       " [3, 8,93] = 21.659763632107627\n",
       " [3, 9, 1] = 20.014297486618034\n",
       " [3, 9, 2] = 19.58326487286674\n",
       " [3, 9, 3] = 19.43412444870293\n",
       " [3, 9, 4] = 19.34695772314687\n",
       " [3, 9, 5] = 19.2753471005654\n",
       " [3, 9, 6] = 19.207322291997176\n",
       " [3, 9, 7] = 19.142299968824585\n",
       " [3, 9, 8] = 19.079857695058422\n",
       " [3, 9, 9] = 19.01935538076652\n",
       " [3, 9,10] = 19.000002901299613\n",
       " [3, 9,11] = 19.00000384656966\n",
       " [3, 9,12] = 19.000004967168756\n",
       " [3, 9,13] = 19.000006717468672\n",
       " [3, 9,14] = 19.0000111098156\n",
       " [3, 9,15] = 19.000046038368716\n",
       " [3, 9,16] = 20.042002884630804\n",
       " [3, 9,17] = 20.03424549714696\n",
       " [3, 9,18] = 20.346492117545548\n",
       " [3, 9,19] = 20.540691684237384\n",
       " [3, 9,20] = 20.620202942756215\n",
       " [3, 9,21] = 20.752757044776004\n",
       " [3, 9,22] = 21.014325709468842\n",
       " [3, 9,23] = 21.067599899953343\n",
       " [3, 9,24] = 21.04569545600677\n",
       " [3, 9,25] = 20.960290387466255\n",
       " [3, 9,26] = 20.948376384840653\n",
       " [3, 9,27] = 20.97761991892303\n",
       " [3, 9,28] = 21.073015370107434\n",
       " [3, 9,29] = 21.1644440202168\n",
       " [3, 9,30] = 21.193646893908245\n",
       " [3, 9,31] = 21.16227436556113\n",
       " [3, 9,32] = 21.215408065737467\n",
       " [3, 9,33] = 21.35869803490824\n",
       " [3, 9,34] = 21.57989874715497\n",
       " [3, 9,35] = 21.643513135027643\n",
       " [3, 9,36] = 21.681459692159628\n",
       " [3, 9,37] = 21.733231334932075\n",
       " [3, 9,38] = 21.76020100569151\n",
       " [3, 9,39] = 21.691942675979327\n",
       " [3, 9,40] = 21.619646357339278\n",
       " [3, 9,41] = 21.609058427439184\n",
       " [3, 9,42] = 21.588025189222208\n",
       " [3, 9,43] = 21.54288617611032\n",
       " [3, 9,44] = 21.5404526688169\n",
       " [3, 9,45] = 21.70809305438929\n",
       " [3, 9,46] = 21.703733020859712\n",
       " [3, 9,47] = 21.431218662145543\n",
       " [3, 9,48] = 21.119782851552266\n",
       " [3, 9,49] = 20.800670767864798\n",
       " [3, 9,50] = 20.435648213987673\n",
       " [3, 9,51] = 20.084379019796273\n",
       " [3, 9,52] = 20.000040927253337\n",
       " [3, 9,53] = 20.000014952492727\n",
       " [3, 9,54] = 20.000009127178377\n",
       " [3, 9,55] = 20.00000624097487\n",
       " [3, 9,56] = 20.000004799884184\n",
       " [3, 9,57] = 20.000003805804674\n",
       " [3, 9,58] = 20.000003386247073\n",
       " [3, 9,59] = 20.00000296533782\n",
       " [3, 9,60] = 20.0000026752001\n",
       " [3, 9,61] = 20.000002528812935\n",
       " [3, 9,62] = 20.000002391559423\n",
       " [3, 9,63] = 20.000002256097964\n",
       " [3, 9,64] = 20.000002116631865\n",
       " [3, 9,65] = 20.00000197043529\n",
       " [3, 9,66] = 20.00000181892961\n",
       " [3, 9,67] = 20.000001645464742\n",
       " [3, 9,68] = 20.00000155832961\n",
       " [3, 9,69] = 20.00000160656558\n",
       " [3, 9,70] = 20.000001649730134\n",
       " [3, 9,71] = 20.000001702581486\n",
       " [3, 9,72] = 20.00000180782786\n",
       " [3, 9,73] = 20.000002033676054\n",
       " [3, 9,74] = 20.000002304702058\n",
       " [3, 9,75] = 20.000002670192718\n",
       " [3, 9,76] = 20.00000309908384\n",
       " [3, 9,77] = 20.00000352739053\n",
       " [3, 9,78] = 20.00000413362203\n",
       " [3, 9,79] = 20.00000508646903\n",
       " [3, 9,80] = 20.00000652501862\n",
       " [3, 9,81] = 20.000007388581565\n",
       " [3, 9,82] = 20.000008855151346\n",
       " [3, 9,83] = 20.000011283423618\n",
       " [3, 9,84] = 20.000015842988308\n",
       " [3, 9,85] = 20.00002585477965\n",
       " [3, 9,86] = 20.00029455704342\n",
       " [3, 9,87] = 20.24960745352544\n",
       " [3, 9,88] = 20.68444842674744\n",
       " [3, 9,89] = 20.898371207626308\n",
       " [3, 9,90] = 21.185656381996772\n",
       " [3, 9,91] = 21.546653135085492\n",
       " [3, 9,92] = 21.851172069965962\n",
       " [3, 9,93] = 21.77221741316111\n",
       " [3,10, 1] = 20.15617943205351\n",
       " [3,10, 2] = 19.76053755208599\n",
       " [3,10, 3] = 19.62887347976151\n",
       " [3,10, 4] = 19.5519209694277\n",
       " [3,10, 5] = 19.48735940388758\n",
       " [3,10, 6] = 19.425330917937227\n",
       " [3,10, 7] = 19.365956294773934\n",
       " [3,10, 8] = 19.30904949234696\n",
       " [3,10, 9] = 19.254097114542216\n",
       " [3,10,10] = 19.200493438720724\n",
       " [3,10,11] = 19.148568553580596\n",
       " [3,10,12] = 19.098282559519813\n",
       " [3,10,13] = 19.05080288004768\n",
       " [3,10,14] = 19.007686545814366\n",
       " [3,10,15] = 19.000005046637035\n",
       " [3,10,16] = 19.000119510488293\n",
       " [3,10,17] = 19.000053400770163\n",
       " [3,10,18] = 19.337796073735703\n",
       " [3,10,19] = 19.651505427313687\n",
       " [3,10,20] = 19.783047545672368\n",
       " [3,10,21] = 19.998537271902553\n",
       " [3,10,22] = 20.417825955501684\n",
       " [3,10,23] = 20.504998836399288\n",
       " [3,10,24] = 20.47211535435895\n",
       " [3,10,25] = 20.338171299082603\n",
       " [3,10,26] = 20.32085838856519\n",
       " [3,10,27] = 20.36856342743448\n",
       " [3,10,28] = 20.52056231733593\n",
       " [3,10,29] = 20.665188694945353\n",
       " [3,10,30] = 20.710201652553994\n",
       " [3,10,31] = 20.658789416161618\n",
       " [3,10,32] = 20.741543290586698\n",
       " [3,10,33] = 20.96684423558433\n",
       " [3,10,34] = 21.314716475883582\n",
       " [3,10,35] = 21.411190773467442\n",
       " [3,10,36] = 21.466064815836287\n",
       " [3,10,37] = 21.54187582917891\n",
       " [3,10,38] = 21.577244557487212\n",
       " [3,10,39] = 21.46070157395818\n",
       " [3,10,40] = 21.33742448225574\n",
       " [3,10,41] = 21.311881825755986\n",
       " [3,10,42] = 21.269713565400963\n",
       " [3,10,43] = 21.189746205156602\n",
       " [3,10,44] = 21.177859424057768\n",
       " [3,10,45] = 21.435332612243414\n",
       " [3,10,46] = 21.418535728392385\n",
       " [3,10,47] = 20.97561328636032\n",
       " [3,10,48] = 20.471336722053426\n",
       " [3,10,49] = 20.00205586969608\n",
       " [3,10,50] = 20.00001903911048\n",
       " [3,10,51] = 20.000010344967603\n",
       " [3,10,52] = 20.00000669863594\n",
       " [3,10,53] = 20.000004785457925\n",
       " [3,10,54] = 20.00000362056354\n",
       " [3,10,55] = 20.000002798419736\n",
       " [3,10,56] = 20.000002301552012\n",
       " [3,10,57] = 20.000001917115558\n",
       " [3,10,58] = 20.000001743511593\n",
       " [3,10,59] = 20.000001561724265\n",
       " [3,10,60] = 20.00000143189175\n",
       " [3,10,61] = 20.000001365210743\n",
       " [3,10,62] = 20.000001301678136\n",
       " [3,10,63] = 20.00000123788077\n",
       " [3,10,64] = 20.000001170950927\n",
       " [3,10,65] = 20.000001099448962\n",
       " [3,10,66] = 20.000001024012334\n",
       " [3,10,67] = 20.00000093605444\n",
       " [3,10,68] = 20.000000891492878\n",
       " [3,10,69] = 20.000000917129206\n",
       " [3,10,70] = 20.000000940078877\n",
       " [3,10,71] = 20.000000968049637\n",
       " [3,10,72] = 20.00000102277014\n",
       " [3,10,73] = 20.000001137585294\n",
       " [3,10,74] = 20.000001271931797\n",
       " [3,10,75] = 20.000001447362386\n",
       " [3,10,76] = 20.00000164553806\n",
       " [3,10,77] = 20.000001835979717\n",
       " [3,10,78] = 20.00000209277235\n",
       " [3,10,79] = 20.000002468141368\n",
       " [3,10,80] = 20.00000297749576\n",
       " [3,10,81] = 20.000003255001424\n",
       " [3,10,82] = 20.000003681450494\n",
       " [3,10,83] = 20.000004281058693\n",
       " [3,10,84] = 20.000005130926034\n",
       " [3,10,85] = 20.000006249945113\n",
       " [3,10,86] = 20.000009004983937\n",
       " [3,10,87] = 20.000015894401983\n",
       " [3,10,88] = 20.000468505123973\n",
       " [3,10,89] = 20.244996923751742\n",
       " [3,10,90] = 20.70350991663416\n",
       " [3,10,91] = 21.278177269500507\n",
       " [3,10,92] = 21.762723717870955\n",
       " [3,10,93] = 21.63756496668624\n",
       " [3,11, 1] = 20.098870179891676\n",
       " [3,11, 2] = 19.710426898018397\n",
       " [3,11, 3] = 19.580987337486967\n",
       " [3,11, 4] = 19.50205637547043\n",
       " [3,11, 5] = 19.434099508680383\n",
       " [3,11, 6] = 19.36845342835407\n",
       " [3,11, 7] = 19.305685213827616\n",
       " [3,11, 8] = 19.24561388435791\n",
       " [3,11, 9] = 19.187749851341344\n",
       " [3,11,10] = 19.13145430543276\n",
       " [3,11,11] = 19.077036079957367\n",
       " [3,11,12] = 19.024420836373768\n",
       " [3,11,13] = 19.000004736530876\n",
       " [3,11,14] = 19.0000088657525\n",
       " [3,11,15] = 19.000021846519246\n",
       " [3,11,16] = 19.981304730788935\n",
       " [3,11,17] = 19.981306961021975\n",
       " [3,11,18] = 20.30742219385447\n",
       " [3,11,19] = 20.511603337423264\n",
       " [3,11,20] = 20.599101854873847\n",
       " [3,11,21] = 20.74148785017377\n",
       " [3,11,22] = 21.013322819272037\n",
       " [3,11,23] = 21.070638552126795\n",
       " [3,11,24] = 21.05027807851716\n",
       " [3,11,25] = 20.96555938056545\n",
       " [3,11,26] = 20.95644334727273\n",
       " [3,11,27] = 20.98977945926994\n",
       " [3,11,28] = 21.090192781206447\n",
       " [3,11,29] = 21.185313918584228\n",
       " [3,11,30] = 21.21595372083008\n",
       " [3,11,31] = 21.185364111086958\n",
       " [3,11,32] = 21.242012857650497\n",
       " [3,11,33] = 21.390882763294435\n",
       " [3,11,34] = 21.617325279516834\n",
       " [3,11,35] = 21.681639149663987\n",
       " [3,11,36] = 21.71917305371531\n",
       " [3,11,37] = 21.76978551113951\n",
       " [3,11,38] = 21.793488321936483\n",
       " [3,11,39] = 21.719316971729683\n",
       " [3,11,40] = 21.641191957810317\n",
       " [3,11,41] = 21.625770720827177\n",
       " [3,11,42] = 21.599387195253918\n",
       " [3,11,43] = 21.549038024777044\n",
       " [3,11,44] = 21.54344807371229\n",
       " [3,11,45] = 21.709283128971514\n",
       " [3,11,46] = 21.695961201432358\n",
       " [3,11,47] = 21.40761455476027\n",
       " [3,11,48] = 21.079348798262956\n",
       " [3,11,49] = 20.742967080591445\n",
       " [3,11,50] = 20.35975867426319\n",
       " [3,11,51] = 20.008905565203055\n",
       " [3,11,52] = 20.000027831172712\n",
       " [3,11,53] = 20.00001281651241\n",
       " [3,11,54] = 20.00000821211511\n",
       " [3,11,55] = 20.000005739225536\n",
       " [3,11,56] = 20.00000446028646\n",
       " [3,11,57] = 20.00000356621825\n",
       " [3,11,58] = 20.0000031809939\n",
       " [3,11,59] = 20.000002795228976\n",
       " [3,11,60] = 20.00000252830381\n",
       " [3,11,61] = 20.000002392330707\n",
       " [3,11,62] = 20.00000226465978\n",
       " [3,11,63] = 20.00000213832547\n",
       " [3,11,64] = 20.000002007822268\n",
       " [3,11,65] = 20.00000187072927\n",
       " [3,11,66] = 20.000001728568073\n",
       " [3,11,67] = 20.00000156711228\n",
       " [3,11,68] = 20.00000148680473\n",
       " [3,11,69] = 20.000001532482948\n",
       " [3,11,70] = 20.000001573682294\n",
       " [3,11,71] = 20.00000162461718\n",
       " [3,11,72] = 20.000001725402946\n",
       " [3,11,73] = 20.00000193888822\n",
       " [3,11,74] = 20.000002194664372\n",
       " [3,11,75] = 20.000002537699963\n",
       " [3,11,76] = 20.000002938280705\n",
       " [3,11,77] = 20.000003338535215\n",
       " [3,11,78] = 20.000003902203318\n",
       " [3,11,79] = 20.00000477813867\n",
       " [3,11,80] = 20.00000607440379\n",
       " [3,11,81] = 20.00000685132345\n",
       " [3,11,82] = 20.00000814884742\n",
       " [3,11,83] = 20.000010240905738\n",
       " [3,11,84] = 20.000013972529693\n",
       " [3,11,85] = 20.00002140102487\n",
       " [3,11,86] = 20.000109998075068\n",
       " [3,11,87] = 20.189626701012266\n",
       " [3,11,88] = 20.638290596228668\n",
       " [3,11,89] = 20.861697161797338\n",
       " [3,11,90] = 21.160683063319766\n",
       " [3,11,91] = 21.533609975576137\n",
       " [3,11,92] = 21.845156452238417\n",
       " [3,11,93] = 21.766830655633257\n",
       " [3,12, 1] = 20.143891441714807\n",
       " [3,12, 2] = 19.72212034634422\n",
       " [3,12, 3] = 19.58179293218036\n",
       " [3,12, 4] = 19.503785956778948\n",
       " [3,12, 5] = 19.440438976672194\n",
       " [3,12, 6] = 19.38005544710613\n",
       " [3,12, 7] = 19.322356701374314\n",
       " [3,12, 8] = 19.267100615958167\n",
       " [3,12, 9] = 19.213746948068717\n",
       " [3,12,10] = 19.16166543220223\n",
       " [3,12,11] = 19.111208662245037\n",
       " [3,12,12] = 19.062348915632665\n",
       " [3,12,13] = 19.016320446248898\n",
       " [3,12,14] = 19.000003408186544\n",
       " [3,12,15] = 19.0000054288725\n",
       " [3,12,16] = 19.000585588849162\n",
       " [3,12,17] = 19.000254490483535\n",
       " [3,12,18] = 19.385966337315445\n",
       " [3,12,19] = 19.688355264993312\n",
       " [3,12,20] = 19.811842809946015\n",
       " [3,12,21] = 20.014724527692756\n",
       " [3,12,22] = 20.420518029087663\n",
       " [3,12,23] = 20.505213782559665\n",
       " [3,12,24] = 20.474293191271755\n",
       " [3,12,25] = 20.34329245731504\n",
       " [3,12,26] = 20.324466996529413\n",
       " [3,12,27] = 20.367327549092185\n",
       " [3,12,28] = 20.511803963640332\n",
       " [3,12,29] = 20.650531021716432\n",
       " [3,12,30] = 20.693226584068924\n",
       " [3,12,31] = 20.63972953366397\n",
       " [3,12,32] = 20.714197113267293\n",
       " [3,12,33] = 20.925813913565882\n",
       " [3,12,34] = 21.259848337284485\n",
       " [3,12,35] = 21.34971413170537\n",
       " [3,12,36] = 21.39874354955798\n",
       " [3,12,37] = 21.46882996606651\n",
       " [3,12,38] = 21.5014972650509\n",
       " [3,12,39] = 21.386151655580417\n",
       " [3,12,40] = 21.26274015451102\n",
       " [3,12,41] = 21.23437698252961\n",
       " [3,12,42] = 21.18980862452033\n",
       " [3,12,43] = 21.106635384883738\n",
       " [3,12,44] = 21.086322341193437\n",
       " [3,12,45] = 21.332439917967843\n",
       " [3,12,46] = 21.317842035986637\n",
       " [3,12,47] = 20.889895841200676\n",
       " [3,12,48] = 20.402787349233545\n",
       " [3,12,49] = 20.000418641816214\n",
       " [3,12,50] = 20.000018384050108\n",
       " [3,12,51] = 20.000010267869932\n",
       " [3,12,52] = 20.0000067445077\n",
       " [3,12,53] = 20.000004860988856\n",
       " [3,12,54] = 20.000003700710064\n",
       " [3,12,55] = 20.0000028719907\n",
       " [3,12,56] = 20.000002369389502\n",
       " [3,12,57] = 20.00000197632195\n",
       " [3,12,58] = 20.00000180052734\n",
       " [3,12,59] = 20.000001614639615\n",
       " [3,12,60] = 20.00000148152348\n",
       " [3,12,61] = 20.000001413981366\n",
       " [3,12,62] = 20.00000134965972\n",
       " [3,12,63] = 20.000001285093802\n",
       " [3,12,64] = 20.000001217333807\n",
       " [3,12,65] = 20.00000114471463\n",
       " [3,12,66] = 20.00000106779855\n",
       " [3,12,67] = 20.000000976389273\n",
       " [3,12,68] = 20.000000929584846\n",
       " [3,12,69] = 20.000000957070664\n",
       " [3,12,70] = 20.000000981635406\n",
       " [3,12,71] = 20.000001011092618\n",
       " [3,12,72] = 20.000001068223174\n",
       " [3,12,73] = 20.00000118902838\n",
       " [3,12,74] = 20.000001330430884\n",
       " [3,12,75] = 20.00000151579883\n",
       " [3,12,76] = 20.00000172611799\n",
       " [3,12,77] = 20.00000192798416\n",
       " [3,12,78] = 20.000002200553688\n",
       " [3,12,79] = 20.000002601409378\n",
       " [3,12,80] = 20.00000315325175\n",
       " [3,12,81] = 20.000003453887285\n",
       " [3,12,82] = 20.00000391823657\n",
       " [3,12,83] = 20.000004575890973\n",
       " [3,12,84] = 20.00000551810779\n",
       " [3,12,85] = 20.000006766274588\n",
       " [3,12,86] = 20.0000099426052\n",
       " [3,12,87] = 20.000018572624306\n",
       " [3,12,88] = 20.00765847826378\n",
       " [3,12,89] = 20.311408124164913\n",
       " [3,12,90] = 20.749017660094985\n",
       " [3,12,91] = 21.30177066396962\n",
       " [3,12,92] = 21.774067952718507\n",
       " [3,12,93] = 21.647547337937517\n",
       " [3,13, 1] = 20.101800160190997\n",
       " [3,13, 2] = 19.713342164962402\n",
       " [3,13, 3] = 19.583665854406732\n",
       " [3,13, 4] = 19.50395514256406\n",
       " [3,13, 5] = 19.43519603846184\n",
       " [3,13, 6] = 19.368984076178705\n",
       " [3,13, 7] = 19.305980601128798\n",
       " [3,13, 8] = 19.24594107350949\n",
       " [3,13, 9] = 19.188259093587238\n",
       " [3,13,10] = 19.132260838680246\n",
       " [3,13,11] = 19.078247611755547\n",
       " [3,13,12] = 19.026094254412204\n",
       " [3,13,13] = 19.000004500938232\n",
       " [3,13,14] = 19.00000908029312\n",
       " [3,13,15] = 19.000023050939504\n",
       " [3,13,16] = 20.002506972594187\n",
       " [3,13,17] = 20.001803073993102\n",
       " [3,13,18] = 20.32627270723996\n",
       " [3,13,19] = 20.52939191272164\n",
       " [3,13,20] = 20.61603221349989\n",
       " [3,13,21] = 20.756990760047962\n",
       " [3,13,22] = 21.027285335506654\n",
       " [3,13,23] = 21.08384569875923\n",
       " [3,13,24] = 21.06305021514155\n",
       " [3,13,25] = 20.977887381843008\n",
       " [3,13,26] = 20.967900083844455\n",
       " [3,13,27] = 20.999973377930587\n",
       " [3,13,28] = 21.09878091749918\n",
       " [3,13,29] = 21.19233025775842\n",
       " [3,13,30] = 21.22165388682659\n",
       " [3,13,31] = 21.189694160406827\n",
       " [3,13,32] = 21.244386024162086\n",
       " [3,13,33] = 21.390699297318744\n",
       " [3,13,34] = 21.61454251445806\n",
       " [3,13,35] = 21.67675639014301\n",
       " [3,13,36] = 21.712153321106754\n",
       " [3,13,37] = 21.760545210831808\n",
       " [3,13,38] = 21.7822517892661\n",
       " [3,13,39] = 21.7063767213317\n",
       " [3,13,40] = 21.626398329597027\n",
       " [3,13,41] = 21.608925710627602\n",
       " [3,13,42] = 21.58060716420645\n",
       " [3,13,43] = 21.528350248670513\n",
       " [3,13,44] = 21.520351863868335\n",
       " [3,13,45] = 21.683582614548868\n",
       " [3,13,46] = 21.6689000181411\n",
       " [3,13,47] = 21.380325320122555\n",
       " [3,13,48] = 21.05213684837564\n",
       " [3,13,49] = 20.716128479813705\n",
       " [3,13,50] = 20.333605728446454\n",
       " [3,13,51] = 20.0030347310258\n",
       " [3,13,52] = 20.000026380598637\n",
       " [3,13,53] = 20.00001255422266\n",
       " [3,13,54] = 20.000008105288753\n",
       " [3,13,55] = 20.00000569188506\n",
       " [3,13,56] = 20.000004435823847\n",
       " [3,13,57] = 20.000003553148463\n",
       " [3,13,58] = 20.000003172818275\n",
       " [3,13,59] = 20.000002790914294\n",
       " [3,13,60] = 20.000002526441378\n",
       " [3,13,61] = 20.00000239207144\n",
       " [3,13,62] = 20.000002265787913\n",
       " [3,13,63] = 20.00000214068831\n",
       " [3,13,64] = 20.00000201129336\n",
       " [3,13,65] = 20.000001875098445\n",
       " [3,13,66] = 20.00000173366927\n",
       " [3,13,67] = 20.00000157244125\n",
       " [3,13,68] = 20.00000149214817\n",
       " [3,13,69] = 20.000001538312574\n",
       " [3,13,70] = 20.000001579992347\n",
       " [3,13,71] = 20.00000163139411\n",
       " [3,13,72] = 20.00000173274911\n",
       " [3,13,73] = 20.000001947424266\n",
       " [3,13,74] = 20.00000220463873\n",
       " [3,13,75] = 20.000002549752676\n",
       " [3,13,76] = 20.000002953110204\n",
       " [3,13,77] = 20.000003356311634\n",
       " [3,13,78] = 20.000003924233663\n",
       " [3,13,79] = 20.00000480739113\n",
       " [3,13,80] = 20.000006117654685\n",
       " [3,13,81] = 20.00000690458218\n",
       " [3,13,82] = 20.000008220333658\n",
       " [3,13,83] = 20.0000103473892\n",
       " [3,13,84] = 20.000014162718486\n",
       " [3,13,85] = 20.000021834683004\n",
       " [3,13,86] = 20.000120231104596\n",
       " [3,13,87] = 20.19677687315668\n",
       " [3,13,88] = 20.643913408401552\n",
       " [3,13,89] = 20.866358404347938\n",
       " [3,13,90] = 21.16393386611246\n",
       " [3,13,91] = 21.53536667965848\n",
       " [3,13,92] = 21.845891458534155\n",
       " [3,13,93] = 21.767845588309235\n",
       " [3,14, 1] = 20.01019202282432\n",
       " [3,14, 2] = 19.582022106614698\n",
       " [3,14, 3] = 19.432671123257677\n",
       " [3,14, 4] = 19.33952545805539\n",
       " [3,14, 5] = 19.25860179656484\n",
       " [3,14, 6] = 19.18006426371297\n",
       " [3,14, 7] = 19.104387216086238\n",
       " [3,14, 8] = 19.031388137674604\n",
       " [3,14, 9] = 19.0000016055895\n",
       " [3,14,10] = 19.000001639292766\n",
       " [3,14,11] = 19.00000188423473\n",
       " [3,14,12] = 19.000002378064174\n",
       " [3,14,13] = 19.000003018901293\n",
       " [3,14,14] = 19.000004464681112\n",
       " [3,14,15] = 19.000007983924903\n",
       " [3,14,16] = 19.534032138708902\n",
       " [3,14,17] = 19.53225392831867\n",
       " [3,14,18] = 20.045037212910355\n",
       " [3,14,19] = 20.36845873762035\n",
       " [3,14,20] = 20.50920287837575\n",
       " [3,14,21] = 20.736785151443613\n",
       " [3,14,22] = 21.170511319501053\n",
       " [3,14,23] = 21.268561075159564\n",
       " [3,14,24] = 21.24491178417792\n",
       " [3,14,25] = 21.119406530245936\n",
       " [3,14,26] = 21.112330670305\n",
       " [3,14,27] = 21.17193938769202\n",
       " [3,14,28] = 21.33771123690615\n",
       " [3,14,29] = 21.49630537411827\n",
       " [3,14,30] = 21.554283743407918\n",
       " [3,14,31] = 21.51569753781707\n",
       " [3,14,32] = 21.614163541314007\n",
       " [3,14,33] = 21.85842321353345\n",
       " [3,14,34] = 22.227021462376662\n",
       " [3,14,35] = 22.342148104733422\n",
       " [3,14,36] = 22.415851326359142\n",
       " [3,14,37] = 22.510986480284032\n",
       " [3,14,38] = 22.56486449775754\n",
       " [3,14,39] = 22.465013880595226\n",
       " [3,14,40] = 22.358542531304273\n",
       " [3,14,41] = 22.350822954712307\n",
       " [3,14,42] = 22.326239490730956\n",
       " [3,14,43] = 22.26393678122743\n",
       " [3,14,44] = 22.271833119062354\n",
       " [3,14,45] = 22.551474870549853\n",
       " [3,14,46] = 22.55178828211757\n",
       " [3,14,47] = 22.119348680792378\n",
       " [3,14,48] = 21.622598789438264\n",
       " [3,14,49] = 21.11148603227221\n",
       " [3,14,50] = 20.524678691790232\n",
       " [3,14,51] = 20.002099098408188\n",
       " [3,14,52] = 20.00001654810688\n",
       " [3,14,53] = 20.000008324294576\n",
       " [3,14,54] = 20.000005307981144\n",
       " [3,14,55] = 20.000003688271065\n",
       " [3,14,56] = 20.00000285317163\n",
       " [3,14,57] = 20.00000227121656\n",
       " [3,14,58] = 20.00000201993355\n",
       " [3,14,59] = 20.000001769686197\n",
       " [3,14,60] = 20.000001596231026\n",
       " [3,14,61] = 20.00000150624665\n",
       " [3,14,62] = 20.000001422052133\n",
       " [3,14,63] = 20.00000133928856\n",
       " [3,14,64] = 20.00000125457128\n",
       " [3,14,65] = 20.00000116636126\n",
       " [3,14,66] = 20.000001075605173\n",
       " [3,14,67] = 20.000000973422516\n",
       " [3,14,68] = 20.000000920772546\n",
       " [3,14,69] = 20.00000094418329\n",
       " [3,14,70] = 20.000000964418962\n",
       " [3,14,71] = 20.00000098982244\n",
       " [3,14,72] = 20.000001043329927\n",
       " [3,14,73] = 20.000001159496346\n",
       " [3,14,74] = 20.000001295444562\n",
       " [3,14,75] = 20.000001473504252\n",
       " [3,14,76] = 20.000001674049777\n",
       " [3,14,77] = 20.000001865103336\n",
       " [3,14,78] = 20.00000212386766\n",
       " [3,14,79] = 20.000002503972954\n",
       " [3,14,80] = 20.000003019246527\n",
       " [3,14,81] = 20.000003289261908\n",
       " [3,14,82] = 20.000003708552725\n",
       " [3,14,83] = 20.000004298493568\n",
       " [3,14,84] = 20.000005132579968\n",
       " [3,14,85] = 20.000006224440742\n",
       " [3,14,86] = 20.000008920219447\n",
       " [3,14,87] = 20.000015556770833\n",
       " [3,14,88] = 20.00033541801208\n",
       " [3,14,89] = 20.22804795421529\n",
       " [3,14,90] = 20.689867974359156\n",
       " [3,14,91] = 21.2707190922543\n",
       " [3,14,92] = 21.759515445108832\n",
       " [3,14,93] = 21.633706776521983\n",
       " [3,15, 1] = 19.962417680589322\n",
       " [3,15, 2] = 19.54486921276075\n",
       " [3,15, 3] = 19.396772874227253\n",
       " [3,15, 4] = 19.3010100644807\n",
       " [3,15, 5] = 19.21691582888598\n",
       " [3,15, 6] = 19.135418371768516\n",
       " [3,15, 7] = 19.05725619708405\n",
       " [3,15, 8] = 19.00000243814403\n",
       " [3,15, 9] = 19.000002952720003\n",
       " [3,15,10] = 19.000003140753382\n",
       " [3,15,11] = 19.00000378505982\n",
       " [3,15,12] = 19.000005170468963\n",
       " [3,15,13] = 19.000007396228042\n",
       " [3,15,14] = 19.000014739584664\n",
       " [3,15,15] = 19.07724763268867\n",
       " [3,15,16] = 20.42284595788839\n",
       " [3,15,17] = 20.42803678463192\n",
       " [3,15,18] = 20.763841217812615\n",
       " [3,15,19] = 20.976617447257624\n",
       " [3,15,20] = 21.07235503292063\n",
       " [3,15,21] = 21.225048484752982\n",
       " [3,15,22] = 21.508575358792513\n",
       " [3,15,23] = 21.574904940562277\n",
       " [3,15,24] = 21.5623800893924\n",
       " [3,15,25] = 21.485075249306227\n",
       " [3,15,26] = 21.484729039590995\n",
       " [3,15,27] = 21.528049142462546\n",
       " [3,15,28] = 21.63969109985814\n",
       " [3,15,29] = 21.74602289794457\n",
       " [3,15,30] = 21.78703611883311\n",
       " [3,15,31] = 21.766725504372477\n",
       " [3,15,32] = 21.83566598667427\n",
       " [3,15,33] = 21.998960945763844\n",
       " [3,15,34] = 22.240675077932877\n",
       " [3,15,35] = 22.318487523003608\n",
       " [3,15,36] = 22.369418668495374\n",
       " [3,15,37] = 22.433501874685327\n",
       " [3,15,38] = 22.469767599432\n",
       " [3,15,39] = 22.406638498609926\n",
       " [3,15,40] = 22.339458446920155\n",
       " [3,15,41] = 22.335428488068512\n",
       " [3,15,42] = 22.31994832418859\n",
       " [3,15,43] = 22.28028841362152\n",
       " [3,15,44] = 22.28663345260381\n",
       " [3,15,45] = 22.465491999094613\n",
       " [3,15,46] = 22.460965207760843\n",
       " [3,15,47] = 22.17642495736955\n",
       " [3,15,48] = 21.849739632560006\n",
       " [3,15,49] = 21.512833483116772\n",
       " [3,15,50] = 21.12661831851797\n",
       " [3,15,51] = 20.751078902926686\n",
       " [3,15,52] = 20.301259473103368\n",
       " [3,15,53] = 20.000074908165008\n",
       " [3,15,54] = 20.000015119527585\n",
       " [3,15,55] = 20.000008362578914\n",
       " [3,15,56] = 20.00000583963034\n",
       " [3,15,57] = 20.000004360126972\n",
       " [3,15,58] = 20.000003768610114\n",
       " [3,15,59] = 20.000003214988112\n",
       " [3,15,60] = 20.00000284755636\n",
       " [3,15,61] = 20.000002659562526\n",
       " [3,15,62] = 20.00000248718783\n",
       " [3,15,63] = 20.00000232107692\n",
       " [3,15,64] = 20.00000215445092\n",
       " [3,15,65] = 20.000001984550725\n",
       " [3,15,66] = 20.00000181334531\n",
       " [3,15,67] = 20.00000162616774\n",
       " [3,15,68] = 20.000001531774092\n",
       " [3,15,69] = 20.000001573471035\n",
       " [3,15,70] = 20.00000160988086\n",
       " [3,15,71] = 20.000001656360226\n",
       " [3,15,72] = 20.00000175506866\n",
       " [3,15,73] = 20.00000197080583\n",
       " [3,15,74] = 20.00000222936452\n",
       " [3,15,75] = 20.00000257712805\n",
       " [3,15,76] = 20.000002982105\n",
       " [3,15,77] = 20.00000338366721\n",
       " [3,15,78] = 20.000003951669623\n",
       " [3,15,79] = 20.000004838448064\n",
       " [3,15,80] = 20.000006148888126\n",
       " [3,15,81] = 20.000006906192468\n",
       " [3,15,82] = 20.000008180497257\n",
       " [3,15,83] = 20.00001022899125\n",
       " [3,15,84] = 20.000013845623126\n",
       " [3,15,85] = 20.000020874209813\n",
       " [3,15,86] = 20.00009523560719\n",
       " [3,15,87] = 20.174564188742753\n",
       " [3,15,88] = 20.624696924126486\n",
       " [3,15,89] = 20.848466026839\n",
       " [3,15,90] = 21.15037129545973\n",
       " [3,15,91] = 21.527814340875235\n",
       " [3,15,92] = 21.842716352193438\n",
       " [3,15,93] = 21.763649649690052\n",
       " [3,16, 1] = 20.00493920183416\n",
       " [3,16, 2] = 19.563458487427102\n",
       " [3,16, 3] = 19.409620230600314\n",
       " [3,16, 4] = 19.315850575562067\n",
       " [3,16, 5] = 19.235439978871742\n",
       " [3,16, 6] = 19.157606293128808\n",
       " [3,16, 7] = 19.082674366097383\n",
       " [3,16, 8] = 19.010469800870194\n",
       " [3,16, 9] = 19.000001603572553\n",
       " [3,16,10] = 19.000001673946443\n",
       " [3,16,11] = 19.000001929492118\n",
       " [3,16,12] = 19.00000244254718\n",
       " [3,16,13] = 19.000003107205874\n",
       " [3,16,14] = 19.000004614784142\n",
       " [3,16,15] = 19.00000830248796\n",
       " [3,16,16] = 19.569315508077338\n",
       " [3,16,17] = 19.563857641144537\n",
       " [3,16,18] = 20.067272345463792\n",
       " [3,16,19] = 20.385000175810816\n",
       " [3,16,20] = 20.521693594239416\n",
       " [3,16,21] = 20.74292015271852\n",
       " [3,16,22] = 21.169907827343547\n",
       " [3,16,23] = 21.266804560703008\n",
       " [3,16,24] = 21.244242754233298\n",
       " [3,16,25] = 21.12028368168694\n",
       " [3,16,26] = 21.11247553838034\n",
       " [3,16,27] = 21.169644613600937\n",
       " [3,16,28] = 21.33162149279976\n",
       " [3,16,29] = 21.487245862670598\n",
       " [3,16,30] = 21.544054203400265\n",
       " [3,16,31] = 21.50437134036652\n",
       " [3,16,32] = 21.598574599476578\n",
       " [3,16,33] = 21.835835919064472\n",
       " [3,16,34] = 22.197398187341758\n",
       " [3,16,35] = 22.30914360136755\n",
       " [3,16,36] = 22.37984643413105\n",
       " [3,16,37] = 22.47204872501991\n",
       " [3,16,38] = 22.52453514660397\n",
       " [3,16,39] = 22.425249095342465\n",
       " [3,16,40] = 22.31864782659691\n",
       " [3,16,41] = 22.309442522358122\n",
       " [3,16,42] = 22.28359159238237\n",
       " [3,16,43] = 22.219612441427532\n",
       " [3,16,44] = 22.223201466937745\n",
       " [3,16,45] = 22.49715602705663\n",
       " [3,16,46] = 22.498731002561193\n",
       " [3,16,47] = 22.074043800676606\n",
       " [3,16,48] = 21.586179687875703\n",
       " [3,16,49] = 21.08476202684259\n",
       " [3,16,50] = 20.508850006914443\n",
       " [3,16,51] = 20.00184905335645\n",
       " [3,16,52] = 20.000017142463605\n",
       " [3,16,53] = 20.000008429959127\n",
       " [3,16,54] = 20.000005380704728\n",
       " [3,16,55] = 20.00000374265534\n",
       " [3,16,56] = 20.00000289892452\n",
       " [3,16,57] = 20.000002308551373\n",
       " [3,16,58] = 20.000002055175177\n",
       " [3,16,59] = 20.000001801522117\n",
       " [3,16,60] = 20.000001625600465\n",
       " [3,16,61] = 20.00000153488584\n",
       " [3,16,62] = 20.000001449962124\n",
       " [3,16,63] = 20.000001366457436\n",
       " [3,16,64] = 20.000001280948347\n",
       " [3,16,65] = 20.00000119173998\n",
       " [3,16,66] = 20.00000109976188\n",
       " [3,16,67] = 20.000000995278036\n",
       " [3,16,68] = 20.000000941150752\n",
       " [3,16,69] = 20.00000096542678\n",
       " [3,16,70] = 20.000000986371937\n",
       " [3,16,71] = 20.00000101241117\n",
       " [3,16,72] = 20.00000106707558\n",
       " [3,16,73] = 20.00000118633246\n",
       " [3,16,74] = 20.00000132592256\n",
       " [3,16,75] = 20.00000150913738\n",
       " [3,16,76] = 20.000001715944517\n",
       " [3,16,77] = 20.00000191279609\n",
       " [3,16,78] = 20.000002179629455\n",
       " [3,16,79] = 20.000002572871505\n",
       " [3,16,80] = 20.00000310993017\n",
       " [3,16,81] = 20.000003391049162\n",
       " [3,16,82] = 20.000003828778404\n",
       " [3,16,83] = 20.000004446853463\n",
       " [3,16,84] = 20.000005325241062\n",
       " [3,16,85] = 20.000006477903334\n",
       " [3,16,86] = 20.000009369994707\n",
       " [3,16,87] = 20.000016764985123\n",
       " [3,16,88] = 20.00091000777566\n",
       " [3,16,89] = 20.262277483665475\n",
       " [3,16,90] = 20.713268397498407\n",
       " [3,16,91] = 21.282826307259057\n",
       " [3,16,92] = 21.765393463492536\n",
       " [3,16,93] = 21.638722406208128\n",
       " [3,17, 1] = 19.96117970307522\n",
       " [3,17, 2] = 19.54293195114963\n",
       " [3,17, 3] = 19.39521079760325\n",
       " [3,17, 4] = 19.299682316673117\n",
       " [3,17, 5] = 19.215643637471988\n",
       " [3,17, 6] = 19.134146447024357\n",
       " [3,17, 7] = 19.055959293929057\n",
       " [3,17, 8] = 19.000002427864228\n",
       " [3,17, 9] = 19.000002948442503\n",
       " [3,17,10] = 19.00000313953426\n",
       " [3,17,11] = 19.000003786052527\n",
       " [3,17,12] = 19.00000517550067\n",
       " [3,17,13] = 19.00000741083261\n",
       " [3,17,14] = 19.000014823049014\n",
       " [3,17,15] = 19.082323351134875\n",
       " [3,17,16] = 20.428072712286077\n",
       " [3,17,17] = 20.433478799038227\n",
       " [3,17,18] = 20.76944528490995\n",
       " [3,17,19] = 20.9824289914907\n",
       " [3,17,20] = 21.078382777069848\n",
       " [3,17,21] = 21.231226289418434\n",
       " [3,17,22] = 21.514897609652753\n",
       " [3,17,23] = 21.581409177801913\n",
       " [3,17,24] = 21.569086745983157\n",
       " [3,17,25] = 21.4919712139293\n",
       " [3,17,26] = 21.491777689672535\n",
       " [3,17,27] = 21.535202536336318\n",
       " [3,17,28] = 21.646901700144433\n",
       " [3,17,29] = 21.753270196115047\n",
       " [3,17,30] = 21.794322215723938\n",
       " [3,17,31] = 21.774021815633784\n",
       " [3,17,32] = 21.842904132819786\n",
       " [3,17,33] = 22.006054301289062\n",
       " [3,17,34] = 22.24759568119691\n",
       " [3,17,35] = 22.32522847056805\n",
       " [3,17,36] = 22.375933657442207\n",
       " [3,17,37] = 22.439740095756907\n",
       " [3,17,38] = 22.47570882769857\n",
       " [3,17,39] = 22.4122627474678\n",
       " [3,17,40] = 22.344710569302887\n",
       " [3,17,41] = 22.340259007355378\n",
       " [3,17,42] = 22.32433699596873\n",
       " [3,17,43] = 22.284208913244054\n",
       " [3,17,44] = 22.289993271477517\n",
       " [3,17,45] = 22.46824369147924\n",
       " [3,17,46] = 22.46317395905638\n",
       " [3,17,47] = 22.17814110920898\n",
       " [3,17,48] = 21.850969760414024\n",
       " [3,17,49] = 21.51359557417601\n",
       " [3,17,50] = 21.126927798224784\n",
       " [3,17,51] = 20.75094872373076\n",
       " [3,17,52] = 20.300738254389703\n",
       " [3,17,53] = 20.000075786861725\n",
       " [3,17,54] = 20.000015146007723\n",
       " [3,17,55] = 20.000008343402733\n",
       " [3,17,56] = 20.00000582729357\n",
       " [3,17,57] = 20.000004351693637\n",
       " [3,17,58] = 20.000003761912172\n",
       " [3,17,59] = 20.000003209845072\n",
       " [3,17,60] = 20.000002843596803\n",
       " [3,17,61] = 20.000002656315893\n",
       " [3,17,62] = 20.00000248454311\n",
       " [3,17,63] = 20.00000231898683\n",
       " [3,17,64] = 20.000002152902905\n",
       " [3,17,65] = 20.000001983469357\n",
       " [3,17,66] = 20.00000181267109\n",
       " [3,17,67] = 20.00000162580238\n",
       " [3,17,68] = 20.00000153153939\n",
       " [3,17,69] = 20.000001573292817\n",
       " [3,17,70] = 20.000001609765537\n",
       " [3,17,71] = 20.000001656305002\n",
       " [3,17,72] = 20.000001755050032\n",
       " [3,17,73] = 20.00000197081414\n",
       " [3,17,74] = 20.00000222940146\n",
       " [3,17,75] = 20.00000257720468\n",
       " [3,17,76] = 20.000002982268096\n",
       " [3,17,77] = 20.00000338395926\n",
       " [3,17,78] = 20.000003952130946\n",
       " [3,17,79] = 20.000004839157512\n",
       " [3,17,80] = 20.000006150243674\n",
       " [3,17,81] = 20.000006908208057\n",
       " [3,17,82] = 20.000008183646326\n",
       " [3,17,83] = 20.000010234332574\n",
       " [3,17,84] = 20.000013856448188\n",
       " [3,17,85] = 20.00002090065271\n",
       " [3,17,86] = 20.000095753771266\n",
       " [3,17,87] = 20.1750565217618\n",
       " [3,17,88] = 20.625115078954178\n",
       " [3,17,89] = 20.848830679243452\n",
       " [3,17,90] = 21.150627384842753\n",
       " [3,17,91] = 21.52791935260403\n",
       " [3,17,92] = 21.842811772275606\n",
       " [3,17,93] = 21.763668396572317\n",
       " [3,18, 1] = 20.192940023379737\n",
       " [3,18, 2] = 19.588953334742026\n",
       " [3,18, 3] = 19.308373176871875\n",
       " [3,18, 4] = 19.1176404756693\n",
       " [3,18, 5] = 19.000000406342604\n",
       " [3,18, 6] = 19.000000414987824\n",
       " [3,18, 7] = 19.000000435794824\n",
       " [3,18, 8] = 19.000000454803263\n",
       " [3,18, 9] = 19.000000447424053\n",
       " [3,18,10] = 19.00000046722161\n",
       " [3,18,11] = 19.000000518587168\n",
       " [3,18,12] = 19.000000617270842\n",
       " [3,18,13] = 19.000000719727137\n",
       " [3,18,14] = 19.0000009116657\n",
       " [3,18,15] = 19.000001197884885\n",
       " [3,18,16] = 19.000003334949653\n",
       " [3,18,17] = 19.00000290532478\n",
       " [3,18,18] = 19.00000433917041\n",
       " [3,18,19] = 19.000006279333885\n",
       " [3,18,20] = 19.00000750481787\n",
       " [3,18,21] = 19.00001125059284\n",
       " [3,18,22] = 19.238053794861774\n",
       " [3,18,23] = 19.53974364351343\n",
       " [3,18,24] = 19.47133587286947\n",
       " [3,18,25] = 20.000013357761034\n",
       " [3,18,26] = 20.00001263036211\n",
       " [3,18,27] = 20.000014566742017\n",
       " [3,18,28] = 20.000030484897117\n",
       " [3,18,29] = 20.013676623990367\n",
       " [3,18,30] = 20.183106434462022\n",
       " [3,18,31] = 20.02556637167184\n",
       " [3,18,32] = 20.26400755070895\n",
       " [3,18,33] = 20.977841535897625\n",
       " [3,18,34] = 22.186557558433908\n",
       " [3,18,35] = 22.626127945020425\n",
       " [3,18,36] = 22.95473523591243\n",
       " [3,18,37] = 23.393963467871767\n",
       " [3,18,38] = 23.763983658750522\n",
       " [3,18,39] = 23.660479048764156\n",
       " [3,18,40] = 23.530170846035723\n",
       " [3,18,41] = 23.74399281802767\n",
       " [3,18,42] = 23.936672229607716\n",
       " [3,18,43] = 23.992785163770844\n",
       " [3,18,44] = 23.99994747520298\n",
       " [3,18,45] = 23.999992209343972\n",
       " [3,18,46] = 23.999994246015774\n",
       " [3,18,47] = 23.999991322071285\n",
       " [3,18,48] = 23.999975073190917\n",
       " [3,18,49] = 23.529495865154466\n",
       " [3,18,50] = 22.339841039395793\n",
       " [3,18,51] = 21.083461942843925\n",
       " [3,18,52] = 20.320125435350757\n",
       " [3,18,53] = 20.000005359443705\n",
       " [3,18,54] = 20.00000330889697\n",
       " [3,18,55] = 20.000001948683543\n",
       " [3,18,56] = 20.00000140143491\n",
       " [3,18,57] = 20.000001042951773\n",
       " [3,18,58] = 20.00000091630903\n",
       " [3,18,59] = 20.000000781687877\n",
       " [3,18,60] = 20.00000069022372\n",
       " [3,18,61] = 20.000000647768058\n",
       " [3,18,62] = 20.000000607505086\n",
       " [3,18,63] = 20.0000005672748\n",
       " [3,18,64] = 20.00000052546168\n",
       " [3,18,65] = 20.000000481397056\n",
       " [3,18,66] = 20.0000004358714\n",
       " [3,18,67] = 20.000000382344783\n",
       " [3,18,68] = 20.000000351739914\n",
       " [3,18,69] = 20.000000356971455\n",
       " [3,18,70] = 20.000000359686265\n",
       " [3,18,71] = 20.000000362846727\n",
       " [3,18,72] = 20.00000037550307\n",
       " [3,18,73] = 20.000000412196044\n",
       " [3,18,74] = 20.00000045384887\n",
       " [3,18,75] = 20.000000508998152\n",
       " [3,18,76] = 20.000000569369078\n",
       " [3,18,77] = 20.000000620628295\n",
       " [3,18,78] = 20.000000688755275\n",
       " [3,18,79] = 20.000000788978706\n",
       " [3,18,80] = 20.000000924944448\n",
       " [3,18,81] = 20.00000097388763\n",
       " [3,18,82] = 20.000001052680016\n",
       " [3,18,83] = 20.00000115706283\n",
       " [3,18,84] = 20.000001290266614\n",
       " [3,18,85] = 20.000001428411903\n",
       " [3,18,86] = 20.000001728608677\n",
       " [3,18,87] = 20.000002162159372\n",
       " [3,18,88] = 20.000003247119377\n",
       " [3,18,89] = 19.00000616357904\n",
       " [3,18,90] = 19.00001522624196\n",
       " [3,18,91] = 19.825193481376143\n",
       " [3,18,92] = 21.36483498198408\n",
       " [3,18,93] = 20.842961804128976\n",
       " [4, 1, 1] = 21.79080431554814\n",
       " [4, 1, 2] = 21.71130872730141\n",
       " [4, 1, 3] = 21.67451760231399\n",
       " [4, 1, 4] = 21.652288086161985\n",
       " [4, 1, 5] = 21.63503798794782\n",
       " [4, 1, 6] = 21.619489300220522\n",
       " [4, 1, 7] = 21.60449964014365\n",
       " [4, 1, 8] = 21.589728146319974\n",
       " [4, 1, 9] = 21.575074181474008\n",
       " [4, 1,10] = 21.560497235119787\n",
       " [4, 1,11] = 21.546006875544055\n",
       " [4, 1,12] = 21.531642187636344\n",
       " [4, 1,13] = 21.51743841113366\n",
       " [4, 1,14] = 21.503433377565834\n",
       " [4, 1,15] = 21.489664835223767\n",
       " [4, 1,16] = 21.476072234636003\n",
       " [4, 1,17] = 21.462860612473243\n",
       " [4, 1,18] = 21.450284818327408\n",
       " [4, 1,19] = 21.438277364494922\n",
       " [4, 1,20] = 21.42711020896224\n",
       " [4, 1,21] = 21.416661290209905\n",
       " [4, 1,22] = 21.406804692562005\n",
       " [4, 1,23] = 21.397626672172038\n",
       " [4, 1,24] = 21.389165947243733\n",
       " [4, 1,25] = 21.38137632576733\n",
       " [4, 1,26] = 21.373713317575085\n",
       " [4, 1,27] = 21.366319804978097\n",
       " [4, 1,28] = 21.359150922329935\n",
       " [4, 1,29] = 21.352277504139046\n",
       " [4, 1,30] = 21.345804856950288\n",
       " [4, 1,31] = 21.33964254102579\n",
       " [4, 1,32] = 21.333817262366605\n",
       " [4, 1,33] = 21.328110886787695\n",
       " [4, 1,34] = 21.322576806063342\n",
       " [4, 1,35] = 21.317332075393516\n",
       " [4, 1,36] = 21.312831821350457\n",
       " [4, 1,37] = 21.308880498439432\n",
       " [4, 1,38] = 21.305312061002898\n",
       " [4, 1,39] = 21.302093531137633\n",
       " [4, 1,40] = 21.299242538090095\n",
       " [4, 1,41] = 21.29651712415121\n",
       " [4, 1,42] = 21.29373793470889\n",
       " [4, 1,43] = 21.290997362101614\n",
       " [4, 1,44] = 21.28831812623744\n",
       " [4, 1,45] = 21.285637132706306\n",
       " [4, 1,46] = 21.28313147818343\n",
       " [4, 1,47] = 21.280966896919853\n",
       " [4, 1,48] = 21.278822469658333\n",
       " [4, 1,49] = 21.2761927102679\n",
       " [4, 1,50] = 21.27293932418199\n",
       " [4, 1,51] = 21.26933489344844\n",
       " [4, 1,52] = 21.265368613552262\n",
       " [4, 1,53] = 21.260970144538646\n",
       " [4, 1,54] = 21.256260760481815\n",
       " [4, 1,55] = 21.251315035286137\n",
       " [4, 1,56] = 21.246297446433246\n",
       " [4, 1,57] = 21.24127407607628\n",
       " [4, 1,58] = 21.23626646642537\n",
       " [4, 1,59] = 21.231281282390714\n",
       " [4, 1,60] = 21.226302815814957\n",
       " [4, 1,61] = 21.22128362963101\n",
       " [4, 1,62] = 21.216197937953297\n",
       " [4, 1,63] = 21.211029106450802\n",
       " [4, 1,64] = 21.205752119209187\n",
       " [4, 1,65] = 21.20031805351275\n",
       " [4, 1,66] = 21.194700595525248\n",
       " [4, 1,67] = 21.188880956124066\n",
       " [4, 1,68] = 21.182875937453105\n",
       " [4, 1,69] = 21.176760622407667\n",
       " [4, 1,70] = 21.170571591201234\n",
       " [4, 1,71] = 21.164329487872784\n",
       " [4, 1,72] = 21.158047907390188\n",
       " [4, 1,73] = 21.15173631212794\n",
       " [4, 1,74] = 21.145404039985316\n",
       " [4, 1,75] = 21.13906403592915\n",
       " [4, 1,76] = 21.132725001071446\n",
       " [4, 1,77] = 21.126393421572025\n",
       " [4, 1,78] = 21.12007442683248\n",
       " [4, 1,79] = 21.113772185736146\n",
       " [4, 1,80] = 21.107490116865325\n",
       " [4, 1,81] = 21.10123133190273\n",
       " [4, 1,82] = 21.094997471611837\n",
       " [4, 1,83] = 21.088787216548678\n",
       " [4, 1,84] = 21.082600455801828\n",
       " [4, 1,85] = 21.076438049237833\n",
       " [4, 1,86] = 21.070298949857783\n",
       " [4, 1,87] = 21.06415432147925\n",
       " [4, 1,88] = 21.058034255565392\n",
       " [4, 1,89] = 21.052000732917737\n",
       " [4, 1,90] = 21.046614091809484\n",
       " [4, 1,91] = 21.041601458913174\n",
       " [4, 1,92] = 21.037704516820792\n",
       " [4, 1,93] = 21.03613814942831\n",
       " [4, 2, 1] = 21.744267893077556\n",
       " [4, 2, 2] = 21.652833116834323\n",
       " [4, 2, 3] = 21.612583236824886\n",
       " [4, 2, 4] = 21.588658055671498\n",
       " [4, 2, 5] = 21.569987020064456\n",
       " [4, 2, 6] = 21.553065588367645\n",
       " [4, 2, 7] = 21.536854625624752\n",
       " [4, 2, 8] = 21.520899559758448\n",
       " [4, 2, 9] = 21.505074239506985\n",
       " [4, 2,10] = 21.48939691662255\n",
       " [4, 2,11] = 21.473860786842\n",
       " [4, 2,12] = 21.45847543985509\n",
       " [4, 2,13] = 21.443257835149076\n",
       " [4, 2,14] = 21.428231280810945\n",
       " [4, 2,15] = 21.413418867506405\n",
       " [4, 2,16] = 21.398652151015135\n",
       " [4, 2,17] = 21.384869588524246\n",
       " [4, 2,18] = 21.371603074022396\n",
       " [4, 2,19] = 21.358957742952736\n",
       " [4, 2,20] = 21.347188115604244\n",
       " [4, 2,21] = 21.336246624086684\n",
       " [4, 2,22] = 21.325908329556025\n",
       " [4, 2,23] = 21.31658976820787\n",
       " [4, 2,24] = 21.308346124058307\n",
       " [4, 2,25] = 21.300160347808575\n",
       " [4, 2,26] = 21.292868947084475\n",
       " [4, 2,27] = 21.285286031732735\n",
       " [4, 2,28] = 21.27775760392453\n",
       " [4, 2,29] = 21.27047709864039\n",
       " [4, 2,30] = 21.26356115443936\n",
       " [4, 2,31] = 21.257255447471003\n",
       " [4, 2,32] = 21.25077082601048\n",
       " [4, 2,33] = 21.244571670251727\n",
       " [4, 2,34] = 21.23896219462176\n",
       " [4, 2,35] = 21.234531412633455\n",
       " [4, 2,36] = 21.22999795570263\n",
       " [4, 2,37] = 21.22552524443254\n",
       " [4, 2,38] = 21.22144214000006\n",
       " [4, 2,39] = 21.217767937829112\n",
       " [4, 2,40] = 21.213872159060795\n",
       " [4, 2,41] = 21.209809990668987\n",
       " [4, 2,42] = 21.206081099223724\n",
       " [4, 2,43] = 21.20249119790759\n",
       " [4, 2,44] = 21.198781658390946\n",
       " [4, 2,45] = 21.194914873125516\n",
       " [4, 2,46] = 21.19113375849437\n",
       " [4, 2,47] = 21.18767653806642\n",
       " [4, 2,48] = 21.18418511451977\n",
       " [4, 2,49] = 21.18023554088034\n",
       " [4, 2,50] = 21.17520667100885\n",
       " [4, 2,51] = 21.16847886720531\n",
       " [4, 2,52] = 21.1608796177596\n",
       " [4, 2,53] = 21.153316632978242\n",
       " [4, 2,54] = 21.145995933736877\n",
       " [4, 2,55] = 21.13898193468272\n",
       " [4, 2,56] = 21.131860864348337\n",
       " [4, 2,57] = 21.124547777044718\n",
       " [4, 2,58] = 21.117056228934597\n",
       " [4, 2,59] = 21.109427754656423\n",
       " [4, 2,60] = 21.101686620877445\n",
       " [4, 2,61] = 21.093821973712902\n",
       " [4, 2,62] = 21.085844691601665\n",
       " [4, 2,63] = 21.077767818473976\n",
       " [4, 2,64] = 21.069586782790118\n",
       " [4, 2,65] = 21.061267754615802\n",
       " [4, 2,66] = 21.052801414279244\n",
       " [4, 2,67] = 21.04418440944263\n",
       " [4, 2,68] = 21.035452361410005\n",
       " [4, 2,69] = 21.026697071203298\n",
       " [4, 2,70] = 21.017957932261584\n",
       " [4, 2,71] = 21.009256912188327\n",
       " [4, 2,72] = 21.000608671733993\n",
       " [4, 2,73] = 20.99202351689795\n",
       " [4, 2,74] = 20.983511359814628\n",
       " [4, 2,75] = 20.9750839147479\n",
       " [4, 2,76] = 20.966746904291362\n",
       " [4, 2,77] = 20.95850318731277\n",
       " [4, 2,78] = 20.950353877877145\n",
       " [4, 2,79] = 20.942298837897468\n",
       " [4, 2,80] = 20.93433697045984\n",
       " [4, 2,81] = 20.92646652005428\n",
       " [4, 2,82] = 20.918683925885723\n",
       " [4, 2,83] = 20.91098310960889\n",
       " [4, 2,84] = 20.903359733743034\n",
       " [4, 2,85] = 20.895810101889595\n",
       " [4, 2,86] = 20.88832810026901\n",
       " [4, 2,87] = 20.880880231285445\n",
       " [4, 2,88] = 20.873467565552087\n",
       " [4, 2,89] = 20.86659052808548\n",
       " [4, 2,90] = 20.858837184554773\n",
       " [4, 2,91] = 20.852202919010715\n",
       " [4, 2,92] = 21.10310891859071\n",
       " [4, 2,93] = 20.93360143256529\n",
       " [4, 3, 1] = 21.538636824140756\n",
       " [4, 3, 2] = 21.36454021229329\n",
       " [4, 3, 3] = 21.284830127074343\n",
       " [4, 3, 4] = 21.234897337406228\n",
       " [4, 3, 5] = 21.19416117339892\n",
       " [4, 3, 6] = 21.15638464701151\n",
       " [4, 3, 7] = 21.119961869182106\n",
       " [4, 3, 8] = 21.084154578907413\n",
       " [4, 3, 9] = 21.048774320286412\n",
       " [4, 3,10] = 21.01383731997263\n",
       " [4, 3,11] = 20.979387424113305\n",
       " [4, 3,12] = 20.945475680307215\n",
       " [4, 3,13] = 20.912121629408077\n",
       " [4, 3,14] = 20.879364151778205\n",
       " [4, 3,15] = 20.84728937648251\n",
       " [4, 3,16] = 20.81562842035182\n",
       " [4, 3,17] = 20.78564501846411\n",
       " [4, 3,18] = 20.75702683672778\n",
       " [4, 3,19] = 20.72963967346055\n",
       " [4, 3,20] = 20.703679340599116\n",
       " [4, 3,21] = 20.67891981800402\n",
       " [4, 3,22] = 20.655339185306975\n",
       " [4, 3,23] = 20.63445528493181\n",
       " [4, 3,24] = 20.616170120424307\n",
       " [4, 3,25] = 20.598641795283978\n",
       " [4, 3,26] = 20.584492470885856\n",
       " [4, 3,27] = 20.570584737397787\n",
       " [4, 3,28] = 20.557225173783383\n",
       " [4, 3,29] = 20.54459785055814\n",
       " [4, 3,30] = 20.53295623518609\n",
       " [4, 3,31] = 20.522732384232782\n",
       " [4, 3,32] = 20.512186734993506\n",
       " [4, 3,33] = 20.503726544480475\n",
       " [4, 3,34] = 20.49993903974441\n",
       " [4, 3,35] = 20.502667219037384\n",
       " [4, 3,36] = 20.507785598881433\n",
       " [4, 3,37] = 20.515331028898068\n",
       " [4, 3,38] = 20.526006268842657\n",
       " [4, 3,39] = 20.5390781188775\n",
       " [4, 3,40] = 20.551961518797775\n",
       " [4, 3,41] = 20.564741357915352\n",
       " [4, 3,42] = 20.579123980635384\n",
       " [4, 3,43] = 20.594634103285035\n",
       " [4, 3,44] = 20.610385053383226\n",
       " [4, 3,45] = 20.626047596264257\n",
       " [4, 3,46] = 20.641874363521485\n",
       " [4, 3,47] = 20.65803127254335\n",
       " [4, 3,48] = 20.67405523641339\n",
       " [4, 3,49] = 20.689001007863542\n",
       " [4, 3,50] = 20.69971147696282\n",
       " [4, 3,51] = 20.702757925992177\n",
       " [4, 3,52] = 20.698559054375345\n",
       " [4, 3,53] = 20.6899571796189\n",
       " [4, 3,54] = 20.679340208850345\n",
       " [4, 3,55] = 20.668209261731135\n",
       " [4, 3,56] = 20.65643275875024\n",
       " [4, 3,57] = 20.64414264388941\n",
       " [4, 3,58] = 20.631477337738122\n",
       " [4, 3,59] = 20.618585932744143\n",
       " [4, 3,60] = 20.605510509688646\n",
       " [4, 3,61] = 20.592066891501663\n",
       " [4, 3,62] = 20.57822680799751\n",
       " [4, 3,63] = 20.56401588065699\n",
       " [4, 3,64] = 20.549408068568564\n",
       " [4, 3,65] = 20.534192007874612\n",
       " [4, 3,66] = 20.518315109439744\n",
       " [4, 3,67] = 20.501722554393712\n",
       " [4, 3,68] = 20.484528577732434\n",
       " [4, 3,69] = 20.46722952467236\n",
       " [4, 3,70] = 20.45000018842428\n",
       " [4, 3,71] = 20.43290830142455\n",
       " [4, 3,72] = 20.415984367446345\n",
       " [4, 3,73] = 20.399239037974695\n",
       " [4, 3,74] = 20.382690666370245\n",
       " [4, 3,75] = 20.36639084551021\n",
       " [4, 3,76] = 20.350357112582227\n",
       " [4, 3,77] = 20.334594948876173\n",
       " [4, 3,78] = 20.319105039835915\n",
       " [4, 3,79] = 20.30388575843271\n",
       " [4, 3,80] = 20.288934103607296\n",
       " [4, 3,81] = 20.274248890893137\n",
       " [4, 3,82] = 20.259821275889355\n",
       " [4, 3,83] = 20.24562329913039\n",
       " [4, 3,84] = 20.231642405348072\n",
       " [4, 3,85] = 20.2178764255902\n",
       " [4, 3,86] = 20.204310465008838\n",
       " [4, 3,87] = 20.190844073808368\n",
       " [4, 3,88] = 20.177493796636103\n",
       " [4, 3,89] = 20.163847766139018\n",
       " [4, 3,90] = 20.145495811173216\n",
       " [4, 3,91] = 20.128911762921383\n",
       " [4, 3,92] = 21.23734173794664\n",
       " [4, 3,93] = 20.570129641286595\n",
       " [4, 4, 1] = 21.535666725858256\n",
       " [4, 4, 2] = 21.344543588506628\n",
       " [4, 4, 3] = 21.2587048214045\n",
       " [4, 4, 4] = 21.21476015687274\n",
       " [4, 4, 5] = 21.188407149939966\n",
       " [4, 4, 6] = 21.169971886963243\n",
       " [4, 4, 7] = 21.155550716636455\n",
       " [4, 4, 8] = 21.143166119363876\n",
       " [4, 4, 9] = 21.131906106589923\n",
       " [4, 4,10] = 21.121382718973802\n",
       " [4, 4,11] = 21.111355931910108\n",
       " [4, 4,12] = 21.101687541893753\n",
       " [4, 4,13] = 21.092362084802147\n",
       " [4, 4,14] = 21.083309495901624\n",
       " [4, 4,15] = 21.074471659440448\n",
       " [4, 4,16] = 21.06671708017337\n",
       " [4, 4,17] = 21.05775148345816\n",
       " [4, 4,18] = 21.050344431727424\n",
       " [4, 4,19] = 21.043252411934983\n",
       " [4, 4,20] = 21.036571137304147\n",
       " [4, 4,21] = 21.03034988611126\n",
       " [4, 4,22] = 21.024310248060942\n",
       " [4, 4,23] = 21.018747619517946\n",
       " [4, 4,24] = 21.01399319614773\n",
       " [4, 4,25] = 21.008209088559088\n",
       " [4, 4,26] = 21.003384369209257\n",
       " [4, 4,27] = 20.997496143630077\n",
       " [4, 4,28] = 20.99130141144214\n",
       " [4, 4,29] = 20.98513751214446\n",
       " [4, 4,30] = 20.97913176111048\n",
       " [4, 4,31] = 20.973751209140712\n",
       " [4, 4,32] = 20.96777438351384\n",
       " [4, 4,33] = 20.962125625520606\n",
       " [4, 4,34] = 20.957413592206407\n",
       " [4, 4,35] = 20.954353772302692\n",
       " [4, 4,36] = 20.950721749723776\n",
       " [4, 4,37] = 20.94683253087711\n",
       " [4, 4,38] = 20.94331814125378\n",
       " [4, 4,39] = 20.94019117186474\n",
       " [4, 4,40] = 20.936440876546207\n",
       " [4, 4,41] = 20.932318969646584\n",
       " [4, 4,42] = 20.928824528585846\n",
       " [4, 4,43] = 20.925684028690068\n",
       " [4, 4,44] = 20.922517960256034\n",
       " [4, 4,45] = 20.91943666238234\n",
       " [4, 4,46] = 20.916342996145037\n",
       " [4, 4,47] = 20.913481015585127\n",
       " [4, 4,48] = 20.910585170824074\n",
       " [4, 4,49] = 20.907133273210192\n",
       " [4, 4,50] = 20.90252624775235\n",
       " [4, 4,51] = 20.895898470774426\n",
       " [4, 4,52] = 20.88884888117094\n",
       " [4, 4,53] = 20.88266660365767\n",
       " [4, 4,54] = 20.877777790534065\n",
       " [4, 4,55] = 20.874062493193716\n",
       " [4, 4,56] = 20.870587191691566\n",
       " [4, 4,57] = 20.867000356120492\n",
       " [4, 4,58] = 20.863180822438665\n",
       " [4, 4,59] = 20.859110023752358\n",
       " [4, 4,60] = 20.854713568692237\n",
       " [4, 4,61] = 20.849821482539863\n",
       " [4, 4,62] = 20.84443937111681\n",
       " [4, 4,63] = 20.838609911440727\n",
       " [4, 4,64] = 20.83230408632281\n",
       " [4, 4,65] = 20.825392749791998\n",
       " [4, 4,66] = 20.81790241022944\n",
       " [4, 4,67] = 20.809896905972188\n",
       " [4, 4,68] = 20.801613309271858\n",
       " [4, 4,69] = 20.79347198869226\n",
       " [4, 4,70] = 20.785554880501863\n",
       " [4, 4,71] = 20.777848003445936\n",
       " [4, 4,72] = 20.770314982209086\n",
       " [4, 4,73] = 20.762920221922453\n",
       " [4, 4,74] = 20.755647194034424\n",
       " [4, 4,75] = 20.748497351099992\n",
       " [4, 4,76] = 20.741454113783004\n",
       " [4, 4,77] = 20.734497861498557\n",
       " [4, 4,78] = 20.727610739988478\n",
       " [4, 4,79] = 20.72077784201437\n",
       " [4, 4,80] = 20.713987179119865\n",
       " [4, 4,81] = 20.707228547589974\n",
       " [4, 4,82] = 20.70048690301416\n",
       " [4, 4,83] = 20.693742746547716\n",
       " [4, 4,84] = 20.686989608822426\n",
       " [4, 4,85] = 20.680224358713538\n",
       " [4, 4,86] = 20.6734317799213\n",
       " [4, 4,87] = 20.666811420919775\n",
       " [4, 4,88] = 20.660171677560992\n",
       " [4, 4,89] = 20.65380855273113\n",
       " [4, 4,90] = 20.645941728213245\n",
       " [4, 4,91] = 20.639764828845323\n",
       " [4, 4,92] = 21.486493585859904\n",
       " [4, 4,93] = 20.980258619805703\n",
       " [4, 5, 1] = 21.505431839790166\n",
       " [4, 5, 2] = 21.318550993506136\n",
       " [4, 5, 3] = 21.238897481683452\n",
       " [4, 5, 4] = 21.197535515902935\n",
       " [4, 5, 5] = 21.17091627971659\n",
       " [4, 5, 6] = 21.15071930482227\n",
       " [4, 5, 7] = 21.133659903199177\n",
       " [4, 5, 8] = 21.11857339549432\n",
       " [4, 5, 9] = 21.10491242854241\n",
       " [4, 5,10] = 21.092262200603706\n",
       " [4, 5,11] = 21.080401348307948\n",
       " [4, 5,12] = 21.069167445163355\n",
       " [4, 5,13] = 21.058406521296124\n",
       " [4, 5,14] = 21.048048748400245\n",
       " [4, 5,15] = 21.038141070883796\n",
       " [4, 5,16] = 21.029124165778853\n",
       " [4, 5,17] = 21.01999845956432\n",
       " [4, 5,18] = 21.012011085080303\n",
       " [4, 5,19] = 21.004630469033824\n",
       " [4, 5,20] = 20.99800287200239\n",
       " [4, 5,21] = 20.991755375333412\n",
       " [4, 5,22] = 20.985950035547514\n",
       " [4, 5,23] = 20.98040579967476\n",
       " [4, 5,24] = 20.974772946781485\n",
       " [4, 5,25] = 20.969695700353864\n",
       " [4, 5,26] = 20.963495405827228\n",
       " [4, 5,27] = 20.957466371893997\n",
       " [4, 5,28] = 20.951618223683884\n",
       " [4, 5,29] = 20.946061023474734\n",
       " [4, 5,30] = 20.94083587365382\n",
       " [4, 5,31] = 20.93529173500957\n",
       " [4, 5,32] = 20.930113480165097\n",
       " [4, 5,33] = 20.924811279716003\n",
       " [4, 5,34] = 20.919377928035804\n",
       " [4, 5,35] = 20.913301745069695\n",
       " [4, 5,36] = 20.908473857165458\n",
       " [4, 5,37] = 20.904772007135993\n",
       " [4, 5,38] = 20.9016268185266\n",
       " [4, 5,39] = 20.898676934426643\n",
       " [4, 5,40] = 20.896312714788994\n",
       " [4, 5,41] = 20.89413436999206\n",
       " [4, 5,42] = 20.891385290641495\n",
       " [4, 5,43] = 20.88822998492251\n",
       " [4, 5,44] = 20.88492891310763\n",
       " [4, 5,45] = 20.881607882241486\n",
       " [4, 5,46] = 20.878483182956643\n",
       " [4, 5,47] = 20.87531957024885\n",
       " [4, 5,48] = 20.87137402246609\n",
       " [4, 5,49] = 20.865825958373115\n",
       " [4, 5,50] = 20.859029841943\n",
       " [4, 5,51] = 20.85280530311686\n",
       " [4, 5,52] = 20.846908024782405\n",
       " [4, 5,53] = 20.84038608877342\n",
       " [4, 5,54] = 20.83323811841145\n",
       " [4, 5,55] = 20.825297980314474\n",
       " [4, 5,56] = 20.817201156782453\n",
       " [4, 5,57] = 20.809268733927272\n",
       " [4, 5,58] = 20.80161678235617\n",
       " [4, 5,59] = 20.794270050588302\n",
       " [4, 5,60] = 20.787112931094743\n",
       " [4, 5,61] = 20.779897804951393\n",
       " [4, 5,62] = 20.77255234461602\n",
       " [4, 5,63] = 20.765050630168243\n",
       " [4, 5,64] = 20.75730611528944\n",
       " [4, 5,65] = 20.749132355829865\n",
       " [4, 5,66] = 20.740510789089242\n",
       " [4, 5,67] = 20.73147535305113\n",
       " [4, 5,68] = 20.72225387764292\n",
       " [4, 5,69] = 20.713282433895916\n",
       " [4, 5,70] = 20.704651209823002\n",
       " [4, 5,71] = 20.69633778437032\n",
       " [4, 5,72] = 20.688289500851067\n",
       " [4, 5,73] = 20.68045083182315\n",
       " [4, 5,74] = 20.672789484778438\n",
       " [4, 5,75] = 20.665302868589965\n",
       " [4, 5,76] = 20.657962711941792\n",
       " [4, 5,77] = 20.65073704646306\n",
       " [4, 5,78] = 20.643596934086286\n",
       " [4, 5,79] = 20.636517997267134\n",
       " [4, 5,80] = 20.62948029137281\n",
       " [4, 5,81] = 20.62246795866894\n",
       " [4, 5,82] = 20.615459912828833\n",
       " [4, 5,83] = 20.608426676014325\n",
       " [4, 5,84] = 20.601357502398514\n",
       " [4, 5,85] = 20.59424896309523\n",
       " [4, 5,86] = 20.587083131582762\n",
       " [4, 5,87] = 20.57987294599967\n",
       " [4, 5,88] = 20.57279932519107\n",
       " [4, 5,89] = 20.56533682125586\n",
       " [4, 5,90] = 20.560061408880216\n",
       " [4, 5,91] = 20.55529816266398\n",
       " [4, 5,92] = 21.47353925104209\n",
       " [4, 5,93] = 20.972304598565664\n",
       " [4, 6, 1] = 20.09308703408001\n",
       " [4, 6, 2] = 19.648847341703664\n",
       " [4, 6, 3] = 19.499498900472624\n",
       " [4, 6, 4] = 19.416305613812114\n",
       " [4, 6, 5] = 19.348758578407697\n",
       " [4, 6, 6] = 19.28452440814323\n",
       " [4, 6, 7] = 19.223101435910753\n",
       " [4, 6, 8] = 19.16419418546516\n",
       " [4, 6, 9] = 19.107326568824462\n",
       " [4, 6,10] = 19.05194387705403\n",
       " [4, 6,11] = 19.000001739549496\n",
       " [4, 6,12] = 19.000002457638207\n",
       " [4, 6,13] = 19.000002965959407\n",
       " [4, 6,14] = 19.000004114438777\n",
       " [4, 6,15] = 19.00000640847422\n",
       " [4, 6,16] = 19.005464930209484\n",
       " [4, 6,17] = 19.001716923703036\n",
       " [4, 6,18] = 19.424587472609346\n",
       " [4, 6,19] = 19.716472639461315\n",
       " [4, 6,20] = 19.829320842066508\n",
       " [4, 6,21] = 20.021036068497324\n",
       " [4, 6,22] = 20.416528451827684\n",
       " [4, 6,23] = 20.491721166617406\n",
       " [4, 6,24] = 20.451781470200608\n",
       " [4, 6,25] = 20.311677285202624\n",
       " [4, 6,26] = 20.2836632772456\n",
       " [4, 6,27] = 20.317320873954007\n",
       " [4, 6,28] = 20.45299577368664\n",
       " [4, 6,29] = 20.583788848379292\n",
       " [4, 6,30] = 20.61948803001868\n",
       " [4, 6,31] = 20.55932746595232\n",
       " [4, 6,32] = 20.62730353328502\n",
       " [4, 6,33] = 20.832871535474524\n",
       " [4, 6,34] = 21.162387224684764\n",
       " [4, 6,35] = 21.249045632163057\n",
       " [4, 6,36] = 21.295850831677985\n",
       " [4, 6,37] = 21.36490940701932\n",
       " [4, 6,38] = 21.398125227543975\n",
       " [4, 6,39] = 21.284597473573584\n",
       " [4, 6,40] = 21.163905596351995\n",
       " [4, 6,41] = 21.139423349421463\n",
       " [4, 6,42] = 21.100012311806573\n",
       " [4, 6,43] = 21.02286079069971\n",
       " [4, 6,44] = 21.008880099382424\n",
       " [4, 6,45] = 21.26298024477127\n",
       " [4, 6,46] = 21.258720299398945\n",
       " [4, 6,47] = 20.842370478180328\n",
       " [4, 6,48] = 20.3674788549189\n",
       " [4, 6,49] = 20.00025853857715\n",
       " [4, 6,50] = 20.00001807425312\n",
       " [4, 6,51] = 20.000010310788912\n",
       " [4, 6,52] = 20.00000681984608\n",
       " [4, 6,53] = 20.000004929287552\n",
       " [4, 6,54] = 20.000003757298714\n",
       " [4, 6,55] = 20.00000291599106\n",
       " [4, 6,56] = 20.000002405664024\n",
       " [4, 6,57] = 20.00000200537707\n",
       " [4, 6,58] = 20.00000182748411\n",
       " [4, 6,59] = 20.000001638352355\n",
       " [4, 6,60] = 20.000001502682778\n",
       " [4, 6,61] = 20.000001434083707\n",
       " [4, 6,62] = 20.00000136857413\n",
       " [4, 6,63] = 20.00000130262592\n",
       " [4, 6,64] = 20.000001233246326\n",
       " [4, 6,65] = 20.000001158879748\n",
       " [4, 6,66] = 20.000001080175863\n",
       " [4, 6,67] = 20.000000986614495\n",
       " [4, 6,68] = 20.000000938503344\n",
       " [4, 6,69] = 20.000000966074122\n",
       " [4, 6,70] = 20.000000990613533\n",
       " [4, 6,71] = 20.000001020003605\n",
       " [4, 6,72] = 20.00000107732849\n",
       " [4, 6,73] = 20.000001199253163\n",
       " [4, 6,74] = 20.000001341955073\n",
       " [4, 6,75] = 20.000001529237043\n",
       " [4, 6,76] = 20.0000017418264\n",
       " [4, 6,77] = 20.00000194550547\n",
       " [4, 6,78] = 20.000002220639914\n",
       " [4, 6,79] = 20.000002625878707\n",
       " [4, 6,80] = 20.000003185259164\n",
       " [4, 6,81] = 20.00000348787489\n",
       " [4, 6,82] = 20.00000395634671\n",
       " [4, 6,83] = 20.000004620601167\n",
       " [4, 6,84] = 20.000005573577464\n",
       " [4, 6,85] = 20.000006835062734\n",
       " [4, 6,86] = 20.000010064637863\n",
       " [4, 6,87] = 20.000018932308855\n",
       " [4, 6,88] = 20.010966422613738\n",
       " [4, 6,89] = 20.318190367589093\n",
       " [4, 6,90] = 20.75324356023601\n",
       " [4, 6,91] = 21.30362543064333\n",
       " [4, 6,92] = 21.775848170577554\n",
       " [4, 6,93] = 21.647861219760937\n",
       " [4, 7, 1] = 20.018132298068892\n",
       " [4, 7, 2] = 19.589267828791115\n",
       " [4, 7, 3] = 19.440833518294774\n",
       " [4, 7, 4] = 19.35393084348515\n",
       " [4, 7, 5] = 19.282449561911204\n",
       " [4, 7, 6] = 19.214505832013035\n",
       " [4, 7, 7] = 19.149532629140833\n",
       " [4, 7, 8] = 19.087115946538947\n",
       " [4, 7, 9] = 19.02662967129098\n",
       " [4, 7,10] = 19.000002729072094\n",
       " [4, 7,11] = 19.000003836488524\n",
       " [4, 7,12] = 19.000004952018386\n",
       " [4, 7,13] = 19.000006684319473\n",
       " [4, 7,14] = 19.000011008632047\n",
       " [4, 7,15] = 19.000044417075625\n",
       " [4, 7,16] = 20.038705849325673\n",
       " [4, 7,17] = 20.03118912379342\n",
       " [4, 7,18] = 20.344108779992677\n",
       " [4, 7,19] = 20.538714327948675\n",
       " [4, 7,20] = 20.618505093321684\n",
       " [4, 7,21] = 20.7515179779016\n",
       " [4, 7,22] = 21.01359678027849\n",
       " [4, 7,23] = 21.066981748544755\n",
       " [4, 7,24] = 21.045024616580292\n",
       " [4, 7,25] = 20.95952653149024\n",
       " [4, 7,26] = 20.94768263099224\n",
       " [4, 7,27] = 20.97712187258526\n",
       " [4, 7,28] = 21.072820729693934\n",
       " [4, 7,29] = 21.164500308865204\n",
       " [4, 7,30] = 21.19381920700371\n",
       " [4, 7,31] = 21.162545238272564\n",
       " [4, 7,32] = 21.216002758370752\n",
       " [4, 7,33] = 21.359824044898016\n",
       " [4, 7,34] = 21.58157152578823\n",
       " [4, 7,35] = 21.645466934642297\n",
       " [4, 7,36] = 21.68367011242427\n",
       " [4, 7,37] = 21.735701691300914\n",
       " [4, 7,38] = 21.762823082060955\n",
       " [4, 7,39] = 21.694567995768733\n",
       " [4, 7,40] = 21.62232024438945\n",
       " [4, 7,41] = 21.611877096781434\n",
       " [4, 7,42] = 21.5909633345616\n",
       " [4, 7,43] = 21.545959305890158\n",
       " [4, 7,44] = 21.543855982231808\n",
       " [4, 7,45] = 21.711954546860287\n",
       " [4, 7,46] = 21.707559469672262\n",
       " [4, 7,47] = 21.434533543106298\n",
       " [4, 7,48] = 21.12250252413027\n",
       " [4, 7,49] = 20.802736106341452\n",
       " [4, 7,50] = 20.43697483387942\n",
       " [4, 7,51] = 20.084908048203847\n",
       " [4, 7,52] = 20.000040645569324\n",
       " [4, 7,53] = 20.000014909738223\n",
       " [4, 7,54] = 20.00000911581705\n",
       " [4, 7,55] = 20.000006234489632\n",
       " [4, 7,56] = 20.00000479450129\n",
       " [4, 7,57] = 20.000003801502146\n",
       " [4, 7,58] = 20.000003381997395\n",
       " [4, 7,59] = 20.000002961368896\n",
       " [4, 7,60] = 20.000002671328655\n",
       " [4, 7,61] = 20.000002524824065\n",
       " [4, 7,62] = 20.00000238748936\n",
       " [4, 7,63] = 20.00000225195588\n",
       " [4, 7,64] = 20.000002112410055\n",
       " [4, 7,65] = 20.00000196619825\n",
       " [4, 7,66] = 20.000001814739278\n",
       " [4, 7,67] = 20.00000164156459\n",
       " [4, 7,68] = 20.000001554637507\n",
       " [4, 7,69] = 20.000001602656415\n",
       " [4, 7,70] = 20.000001645627183\n",
       " [4, 7,71] = 20.000001698291076\n",
       " [4, 7,72] = 20.000001803238273\n",
       " [4, 7,73] = 20.000002028360836\n",
       " [4, 7,74] = 20.000002298498995\n",
       " [4, 7,75] = 20.000002662684828\n",
       " [4, 7,76] = 20.000003089882114\n",
       " [4, 7,77] = 20.000003516449368\n",
       " [4, 7,78] = 20.000004120071996\n",
       " [4, 7,79] = 20.00000506824897\n",
       " [4, 7,80] = 20.000006497815193\n",
       " [4, 7,81] = 20.00000735540673\n",
       " [4, 7,82] = 20.00000881039254\n",
       " [4, 7,83] = 20.00001121508777\n",
       " [4, 7,84] = 20.000015713693337\n",
       " [4, 7,85] = 20.000025521261612\n",
       " [4, 7,86] = 20.00027150631374\n",
       " [4, 7,87] = 20.245858875101263\n",
       " [4, 7,88] = 20.68153387852436\n",
       " [4, 7,89] = 20.896006026787536\n",
       " [4, 7,90] = 21.184021479183667\n",
       " [4, 7,91] = 21.545794578372867\n",
       " [4, 7,92] = 21.8507763418183\n",
       " [4, 7,93] = 21.771824652782062\n",
       " [4, 8, 1] = 20.06115851208546\n",
       " [4, 8, 2] = 19.575446716560517\n",
       " [4, 8, 3] = 19.41025540413129\n",
       " [4, 8, 4] = 19.32305079545078\n",
       " [4, 8, 5] = 19.255427716284867\n",
       " [4, 8, 6] = 19.192125928143472\n",
       " [4, 8, 7] = 19.131854986967465\n",
       " [4, 8, 8] = 19.07414053365028\n",
       " [4, 8, 9] = 19.018444994470226\n",
       " [4, 8,10] = 19.000001834047467\n",
       " [4, 8,11] = 19.000002029572325\n",
       " [4, 8,12] = 19.000002492603375\n",
       " [4, 8,13] = 19.000003082929936\n",
       " [4, 8,14] = 19.000004333142673\n",
       " [4, 8,15] = 19.00000683616871\n",
       " [4, 8,16] = 19.058081430572976\n",
       " [4, 8,17] = 19.029408343105086\n",
       " [4, 8,18] = 19.474950131872934\n",
       " [4, 8,19] = 19.754038573117644\n",
       " [4, 8,20] = 19.857947662187048\n",
       " [4, 8,21] = 20.035273146198463\n",
       " [4, 8,22] = 20.41560719109593\n",
       " [4, 8,23] = 20.48885760836967\n",
       " [4, 8,24] = 20.452296067201125\n",
       " [4, 8,25] = 20.316627776716956\n",
       " [4, 8,26] = 20.287677130780278\n",
       " [4, 8,27] = 20.316364396553546\n",
       " [4, 8,28] = 20.44390099639471\n",
       " [4, 8,29] = 20.56854845203595\n",
       " [4, 8,30] = 20.60237466851936\n",
       " [4, 8,31] = 20.540473376095743\n",
       " [4, 8,32] = 20.599209358339643\n",
       " [4, 8,33] = 20.78907151023972\n",
       " [4, 8,34] = 21.102870674447974\n",
       " [4, 8,35] = 21.182423720819546\n",
       " [4, 8,36] = 21.22300290405421\n",
       " [4, 8,37] = 21.2859954376211\n",
       " [4, 8,38] = 21.316797468798764\n",
       " [4, 8,39] = 21.20542994629509\n",
       " [4, 8,40] = 21.085197458280884\n",
       " [4, 8,41] = 21.05794650121378\n",
       " [4, 8,42] = 21.016239451107467\n",
       " [4, 8,43] = 20.935740881845422\n",
       " [4, 8,44] = 20.91208707820607\n",
       " [4, 8,45] = 21.153300959598756\n",
       " [4, 8,46] = 21.15257792095827\n",
       " [4, 8,47] = 20.754986381374053\n",
       " [4, 8,48] = 20.301447945047205\n",
       " [4, 8,49] = 20.000138539854674\n",
       " [4, 8,50] = 20.000017717535815\n",
       " [4, 8,51] = 20.000010376595426\n",
       " [4, 8,52] = 20.000006959611525\n",
       " [4, 8,53] = 20.00000507442339\n",
       " [4, 8,54] = 20.000003892661358\n",
       " [4, 8,55] = 20.000003032803967\n",
       " [4, 8,56] = 20.000002509822245\n",
       " [4, 8,57] = 20.000002094145714\n",
       " [4, 8,58] = 20.000001912101414\n",
       " [4, 8,59] = 20.000001716004878\n",
       " [4, 8,60] = 20.000001574792527\n",
       " [4, 8,61] = 20.0000015045704\n",
       " [4, 8,62] = 20.00000143759202\n",
       " [4, 8,63] = 20.00000137021753\n",
       " [4, 8,64] = 20.000001299306998\n",
       " [4, 8,65] = 20.00000122303036\n",
       " [4, 8,66] = 20.000001141931246\n",
       " [4, 8,67] = 20.000001043054077\n",
       " [4, 8,68] = 20.000000991449774\n",
       " [4, 8,69] = 20.000001021570206\n",
       " [4, 8,70] = 20.000001048290827\n",
       " [4, 8,71] = 20.000001079616304\n",
       " [4, 8,72] = 20.00000114013829\n",
       " [4, 8,73] = 20.00000127044386\n",
       " [4, 8,74] = 20.000001423021367\n",
       " [4, 8,75] = 20.000001624374367\n",
       " [4, 8,76] = 20.000001854298468\n",
       " [4, 8,77] = 20.000002074153233\n",
       " [4, 8,78] = 20.000002371760836\n",
       " [4, 8,79] = 20.000002813921817\n",
       " [4, 8,80] = 20.00000343664144\n",
       " [4, 8,81] = 20.000003773103955\n",
       " [4, 8,82] = 20.000004297984212\n",
       " [4, 8,83] = 20.00000505011459\n",
       " [4, 8,84] = 20.000006146317894\n",
       " [4, 8,85] = 20.00000761165914\n",
       " [4, 8,86] = 20.000011565476147\n",
       " [4, 8,87] = 20.000024138473854\n",
       " [4, 8,88] = 20.095393780470168\n",
       " [4, 8,89] = 20.398833389461387\n",
       " [4, 8,90] = 20.808313910747067\n",
       " [4, 8,91] = 21.33213318599705\n",
       " [4, 8,92] = 21.78967897931168\n",
       " [4, 8,93] = 21.65976363211118\n",
       " [4, 9, 1] = 20.014297486618037\n",
       " [4, 9, 2] = 19.583264872866724\n",
       " [4, 9, 3] = 19.434124448703106\n",
       " [4, 9, 4] = 19.34695772314729\n",
       " [4, 9, 5] = 19.27534710056523\n",
       " [4, 9, 6] = 19.20732229199714\n",
       " [4, 9, 7] = 19.142299968825164\n",
       " [4, 9, 8] = 19.079857695057935\n",
       " [4, 9, 9] = 19.019355380767\n",
       " [4, 9,10] = 19.000002901299613\n",
       " [4, 9,11] = 19.000003846569673\n",
       " [4, 9,12] = 19.000004967168756\n",
       " [4, 9,13] = 19.000006717468672\n",
       " [4, 9,14] = 19.000011109815595\n",
       " [4, 9,15] = 19.00004603836871\n",
       " [4, 9,16] = 20.042002884631227\n",
       " [4, 9,17] = 20.034245497146422\n",
       " [4, 9,18] = 20.346492117547932\n",
       " [4, 9,19] = 20.54069168423777\n",
       " [4, 9,20] = 20.62020294275296\n",
       " [4, 9,21] = 20.752757044775013\n",
       " [4, 9,22] = 21.014325709471084\n",
       " [4, 9,23] = 21.06759989995041\n",
       " [4, 9,24] = 21.045695456005255\n",
       " [4, 9,25] = 20.96029038746658\n",
       " [4, 9,26] = 20.948376384841417\n",
       " [4, 9,27] = 20.97761991892318\n",
       " [4, 9,28] = 21.073015370101224\n",
       " [4, 9,29] = 21.16444402021758\n",
       " [4, 9,30] = 21.193646893910728\n",
       " [4, 9,31] = 21.16227436556013\n",
       " [4, 9,32] = 21.215408065738398\n",
       " [4, 9,33] = 21.358698034910688\n",
       " [4, 9,34] = 21.57989874715394\n",
       " [4, 9,35] = 21.643513135033103\n",
       " [4, 9,36] = 21.681459692152764\n",
       " [4, 9,37] = 21.733231334936296\n",
       " [4, 9,38] = 21.760201005690558\n",
       " [4, 9,39] = 21.69194267598306\n",
       " [4, 9,40] = 21.619646357336933\n",
       " [4, 9,41] = 21.60905842743793\n",
       " [4, 9,42] = 21.58802518922285\n",
       " [4, 9,43] = 21.542886176112248\n",
       " [4, 9,44] = 21.540452668814975\n",
       " [4, 9,45] = 21.70809305439464\n",
       " [4, 9,46] = 21.703733020858586\n",
       " [4, 9,47] = 21.431218662147632\n",
       " [4, 9,48] = 21.11978285155008\n",
       " [4, 9,49] = 20.800670767865427\n",
       " [4, 9,50] = 20.435648213984805\n",
       " [4, 9,51] = 20.08437901979481\n",
       " [4, 9,52] = 20.000040927253277\n",
       " [4, 9,53] = 20.000014952492723\n",
       " [4, 9,54] = 20.000009127178377\n",
       " [4, 9,55] = 20.000006240974866\n",
       " [4, 9,56] = 20.000004799884184\n",
       " [4, 9,57] = 20.000003805804674\n",
       " [4, 9,58] = 20.000003386247073\n",
       " [4, 9,59] = 20.00000296533782\n",
       " [4, 9,60] = 20.0000026752001\n",
       " [4, 9,61] = 20.000002528812935\n",
       " [4, 9,62] = 20.000002391559423\n",
       " [4, 9,63] = 20.000002256097964\n",
       " [4, 9,64] = 20.000002116631865\n",
       " [4, 9,65] = 20.00000197043529\n",
       " [4, 9,66] = 20.00000181892961\n",
       " [4, 9,67] = 20.000001645464742\n",
       " [4, 9,68] = 20.00000155832961\n",
       " [4, 9,69] = 20.00000160656558\n",
       " [4, 9,70] = 20.000001649730134\n",
       " [4, 9,71] = 20.000001702581486\n",
       " [4, 9,72] = 20.00000180782786\n",
       " [4, 9,73] = 20.000002033676054\n",
       " [4, 9,74] = 20.000002304702058\n",
       " [4, 9,75] = 20.000002670192718\n",
       " [4, 9,76] = 20.00000309908384\n",
       " [4, 9,77] = 20.00000352739053\n",
       " [4, 9,78] = 20.00000413362203\n",
       " [4, 9,79] = 20.000005086469034\n",
       " [4, 9,80] = 20.00000652501862\n",
       " [4, 9,81] = 20.000007388581565\n",
       " [4, 9,82] = 20.000008855151346\n",
       " [4, 9,83] = 20.000011283423618\n",
       " [4, 9,84] = 20.000015842988304\n",
       " [4, 9,85] = 20.00002585477964\n",
       " [4, 9,86] = 20.000294557042544\n",
       " [4, 9,87] = 20.24960745352937\n",
       " [4, 9,88] = 20.684448426742108\n",
       " [4, 9,89] = 20.89837120762601\n",
       " [4, 9,90] = 21.18565638199499\n",
       " [4, 9,91] = 21.546653135083208\n",
       " [4, 9,92] = 21.85117206997521\n",
       " [4, 9,93] = 21.772217413163485\n",
       " [4,10, 1] = 20.156179432053463\n",
       " [4,10, 2] = 19.76053755208578\n",
       " [4,10, 3] = 19.62887347976137\n",
       " [4,10, 4] = 19.55192096942754\n",
       " [4,10, 5] = 19.487359403887496\n",
       " [4,10, 6] = 19.425330917937107\n",
       " [4,10, 7] = 19.365956294774268\n",
       " [4,10, 8] = 19.309049492346656\n",
       " [4,10, 9] = 19.25409711454131\n",
       " [4,10,10] = 19.200493438719334\n",
       " [4,10,11] = 19.148568553581306\n",
       " [4,10,12] = 19.098282559520957\n",
       " [4,10,13] = 19.050802880048888\n",
       " [4,10,14] = 19.00768654581902\n",
       " [4,10,15] = 19.000005046637018\n",
       " [4,10,16] = 19.000119510488318\n",
       " [4,10,17] = 19.000053400770163\n",
       " [4,10,18] = 19.337796073739575\n",
       " [4,10,19] = 19.651505427314408\n",
       " [4,10,20] = 19.7830475456673\n",
       " [4,10,21] = 19.9985372719011\n",
       " [4,10,22] = 20.417825955505364\n",
       " [4,10,23] = 20.50499883639474\n",
       " [4,10,24] = 20.472115354356696\n",
       " [4,10,25] = 20.338171299083275\n",
       " [4,10,26] = 20.32085838856657\n",
       " [4,10,27] = 20.3685634274349\n",
       " [4,10,28] = 20.520562317326213\n",
       " [4,10,29] = 20.665188694946764\n",
       " [4,10,30] = 20.7102016525581\n",
       " [4,10,31] = 20.658789416160193\n",
       " [4,10,32] = 20.741543290588343\n",
       " [4,10,33] = 20.96684423558838\n",
       " [4,10,34] = 21.314716475882086\n",
       " [4,10,35] = 21.411190773476246\n",
       " [4,10,36] = 21.466064815825515\n",
       " [4,10,37] = 21.541875829185763\n",
       " [4,10,38] = 21.577244557485834\n",
       " [4,10,39] = 21.46070157396422\n",
       " [4,10,40] = 21.337424482252132\n",
       " [4,10,41] = 21.3118818257541\n",
       " [4,10,42] = 21.269713565402103\n",
       " [4,10,43] = 21.1897462051598\n",
       " [4,10,44] = 21.177859424054837\n",
       " [4,10,45] = 21.435332612252033\n",
       " [4,10,46] = 21.418535728390705\n",
       " [4,10,47] = 20.975613286363725\n",
       " [4,10,48] = 20.471336722050047\n",
       " [4,10,49] = 20.00205586969925\n",
       " [4,10,50] = 20.00001903911048\n",
       " [4,10,51] = 20.000010344967603\n",
       " [4,10,52] = 20.00000669863594\n",
       " [4,10,53] = 20.000004785457925\n",
       " [4,10,54] = 20.00000362056354\n",
       " [4,10,55] = 20.000002798419736\n",
       " [4,10,56] = 20.000002301552012\n",
       " [4,10,57] = 20.000001917115558\n",
       " [4,10,58] = 20.000001743511593\n",
       " [4,10,59] = 20.000001561724265\n",
       " [4,10,60] = 20.00000143189175\n",
       " [4,10,61] = 20.000001365210743\n",
       " [4,10,62] = 20.000001301678136\n",
       " [4,10,63] = 20.00000123788077\n",
       " [4,10,64] = 20.000001170950927\n",
       " [4,10,65] = 20.000001099448962\n",
       " [4,10,66] = 20.000001024012334\n",
       " [4,10,67] = 20.00000093605444\n",
       " [4,10,68] = 20.000000891492878\n",
       " [4,10,69] = 20.000000917129206\n",
       " [4,10,70] = 20.000000940078877\n",
       " [4,10,71] = 20.000000968049637\n",
       " [4,10,72] = 20.00000102277014\n",
       " [4,10,73] = 20.000001137585294\n",
       " [4,10,74] = 20.000001271931797\n",
       " [4,10,75] = 20.000001447362386\n",
       " [4,10,76] = 20.00000164553806\n",
       " [4,10,77] = 20.000001835979717\n",
       " [4,10,78] = 20.00000209277235\n",
       " [4,10,79] = 20.000002468141368\n",
       " [4,10,80] = 20.00000297749576\n",
       " [4,10,81] = 20.000003255001424\n",
       " [4,10,82] = 20.000003681450494\n",
       " [4,10,83] = 20.000004281058693\n",
       " [4,10,84] = 20.000005130926034\n",
       " [4,10,85] = 20.000006249945113\n",
       " [4,10,86] = 20.000009004983937\n",
       " [4,10,87] = 20.000015894401983\n",
       " [4,10,88] = 20.000468505124168\n",
       " [4,10,89] = 20.244996923751227\n",
       " [4,10,90] = 20.70350991663132\n",
       " [4,10,91] = 21.278177269496908\n",
       " [4,10,92] = 21.762723717885688\n",
       " [4,10,93] = 21.63756496669003\n",
       " [4,11, 1] = 20.098870179891655\n",
       " [4,11, 2] = 19.710426898018444\n",
       " [4,11, 3] = 19.58098733748692\n",
       " [4,11, 4] = 19.502056375471327\n",
       " [4,11, 5] = 19.434099508680642\n",
       " [4,11, 6] = 19.3684534283549\n",
       " [4,11, 7] = 19.305685213828617\n",
       " [4,11, 8] = 19.245613884356096\n",
       " [4,11, 9] = 19.18774985133871\n",
       " [4,11,10] = 19.13145430543362\n",
       " [4,11,11] = 19.077036079958766\n",
       " [4,11,12] = 19.024420836375132\n",
       " [4,11,13] = 19.000004736530865\n",
       " [4,11,14] = 19.0000088657525\n",
       " [4,11,15] = 19.00002184651925\n",
       " [4,11,16] = 19.981304730789443\n",
       " [4,11,17] = 19.981306961021517\n",
       " [4,11,18] = 20.307422193856972\n",
       " [4,11,19] = 20.511603337423704\n",
       " [4,11,20] = 20.599101854870582\n",
       " [4,11,21] = 20.741487850172856\n",
       " [4,11,22] = 21.01332281927439\n",
       " [4,11,23] = 21.070638552123867\n",
       " [4,11,24] = 21.05027807851572\n",
       " [4,11,25] = 20.965559380565885\n",
       " [4,11,26] = 20.9564433472736\n",
       " [4,11,27] = 20.98977945927013\n",
       " [4,11,28] = 21.090192781200194\n",
       " [4,11,29] = 21.185313918585162\n",
       " [4,11,30] = 21.21595372083273\n",
       " [4,11,31] = 21.18536411108605\n",
       " [4,11,32] = 21.24201285765158\n",
       " [4,11,33] = 21.390882763297057\n",
       " [4,11,34] = 21.617325279515917\n",
       " [4,11,35] = 21.681639149669618\n",
       " [4,11,36] = 21.71917305370841\n",
       " [4,11,37] = 21.769785511143933\n",
       " [4,11,38] = 21.79348832193563\n",
       " [4,11,39] = 21.71931697173356\n",
       " [4,11,40] = 21.641191957808005\n",
       " [4,11,41] = 21.625770720825987\n",
       " [4,11,42] = 21.59938719525467\n",
       " [4,11,43] = 21.549038024779097\n",
       " [4,11,44] = 21.54344807371045\n",
       " [4,11,45] = 21.709283128977063\n",
       " [4,11,46] = 21.695961201431295\n",
       " [4,11,47] = 21.407614554762453\n",
       " [4,11,48] = 21.07934879826079\n",
       " [4,11,49] = 20.742967080592134\n",
       " [4,11,50] = 20.359758674260426\n",
       " [4,11,51] = 20.00890556521662\n",
       " [4,11,52] = 20.000027831172723\n",
       " [4,11,53] = 20.00001281651241\n",
       " [4,11,54] = 20.00000821211511\n",
       " [4,11,55] = 20.000005739225536\n",
       " [4,11,56] = 20.00000446028646\n",
       " [4,11,57] = 20.00000356621825\n",
       " [4,11,58] = 20.0000031809939\n",
       " [4,11,59] = 20.000002795228976\n",
       " [4,11,60] = 20.00000252830381\n",
       " [4,11,61] = 20.000002392330707\n",
       " [4,11,62] = 20.00000226465978\n",
       " [4,11,63] = 20.00000213832547\n",
       " [4,11,64] = 20.000002007822268\n",
       " [4,11,65] = 20.00000187072927\n",
       " [4,11,66] = 20.000001728568073\n",
       " [4,11,67] = 20.00000156711228\n",
       " [4,11,68] = 20.00000148680473\n",
       " [4,11,69] = 20.000001532482948\n",
       " [4,11,70] = 20.000001573682294\n",
       " [4,11,71] = 20.00000162461718\n",
       " [4,11,72] = 20.000001725402946\n",
       " [4,11,73] = 20.00000193888822\n",
       " [4,11,74] = 20.000002194664372\n",
       " [4,11,75] = 20.000002537699963\n",
       " [4,11,76] = 20.000002938280705\n",
       " [4,11,77] = 20.000003338535215\n",
       " [4,11,78] = 20.000003902203318\n",
       " [4,11,79] = 20.00000477813867\n",
       " [4,11,80] = 20.00000607440379\n",
       " [4,11,81] = 20.00000685132345\n",
       " [4,11,82] = 20.00000814884742\n",
       " [4,11,83] = 20.000010240905738\n",
       " [4,11,84] = 20.000013972529693\n",
       " [4,11,85] = 20.000021401024874\n",
       " [4,11,86] = 20.000109998075175\n",
       " [4,11,87] = 20.189626701016483\n",
       " [4,11,88] = 20.638290596223193\n",
       " [4,11,89] = 20.861697161797007\n",
       " [4,11,90] = 21.160683063317943\n",
       " [4,11,91] = 21.53360997557391\n",
       " [4,11,92] = 21.845156452247917\n",
       " [4,11,93] = 21.766830655635697\n",
       " [4,12, 1] = 20.14389144171475\n",
       " [4,12, 2] = 19.72212034634446\n",
       " [4,12, 3] = 19.581792932180505\n",
       " [4,12, 4] = 19.503785956779296\n",
       " [4,12, 5] = 19.44043897667246\n",
       " [4,12, 6] = 19.380055447106294\n",
       " [4,12, 7] = 19.322356701374694\n",
       " [4,12, 8] = 19.267100615958203\n",
       " [4,12, 9] = 19.213746948067783\n",
       " [4,12,10] = 19.161665432202415\n",
       " [4,12,11] = 19.111208662246565\n",
       " [4,12,12] = 19.062348915632676\n",
       " [4,12,13] = 19.016320446249704\n",
       " [4,12,14] = 19.000003408186547\n",
       " [4,12,15] = 19.000005428872498\n",
       " [4,12,16] = 19.000585588849486\n",
       " [4,12,17] = 19.000254490483833\n",
       " [4,12,18] = 19.385966337319235\n",
       " [4,12,19] = 19.688355264994083\n",
       " [4,12,20] = 19.81184280994111\n",
       " [4,12,21] = 20.01472452769131\n",
       " [4,12,22] = 20.420518029091316\n",
       " [4,12,23] = 20.505213782555288\n",
       " [4,12,24] = 20.474293191269563\n",
       " [4,12,25] = 20.34329245731563\n",
       " [4,12,26] = 20.324466996530813\n",
       " [4,12,27] = 20.367327549092725\n",
       " [4,12,28] = 20.511803963630868\n",
       " [4,12,29] = 20.65053102171777\n",
       " [4,12,30] = 20.693226584072953\n",
       " [4,12,31] = 20.639729533662575\n",
       " [4,12,32] = 20.71419711326886\n",
       " [4,12,33] = 20.92581391356984\n",
       " [4,12,34] = 21.259848337282932\n",
       " [4,12,35] = 21.349714131714087\n",
       " [4,12,36] = 21.398743549547422\n",
       " [4,12,37] = 21.468829966073187\n",
       " [4,12,38] = 21.501497265049505\n",
       " [4,12,39] = 21.38615165558636\n",
       " [4,12,40] = 21.262740154507544\n",
       " [4,12,41] = 21.23437698252777\n",
       " [4,12,42] = 21.189808624521408\n",
       " [4,12,43] = 21.106635384886875\n",
       " [4,12,44] = 21.086322341190474\n",
       " [4,12,45] = 21.332439917976238\n",
       " [4,12,46] = 21.31784203598497\n",
       " [4,12,47] = 20.889895841204044\n",
       " [4,12,48] = 20.40278734923026\n",
       " [4,12,49] = 20.00041864181682\n",
       " [4,12,50] = 20.00001838405011\n",
       " [4,12,51] = 20.000010267869932\n",
       " [4,12,52] = 20.0000067445077\n",
       " [4,12,53] = 20.000004860988856\n",
       " [4,12,54] = 20.000003700710064\n",
       " [4,12,55] = 20.0000028719907\n",
       " [4,12,56] = 20.000002369389502\n",
       " [4,12,57] = 20.00000197632195\n",
       " [4,12,58] = 20.00000180052734\n",
       " [4,12,59] = 20.000001614639615\n",
       " [4,12,60] = 20.00000148152348\n",
       " [4,12,61] = 20.000001413981366\n",
       " [4,12,62] = 20.00000134965972\n",
       " [4,12,63] = 20.000001285093802\n",
       " [4,12,64] = 20.000001217333807\n",
       " [4,12,65] = 20.00000114471463\n",
       " [4,12,66] = 20.00000106779855\n",
       " [4,12,67] = 20.000000976389273\n",
       " [4,12,68] = 20.000000929584846\n",
       " [4,12,69] = 20.000000957070664\n",
       " [4,12,70] = 20.000000981635406\n",
       " [4,12,71] = 20.000001011092618\n",
       " [4,12,72] = 20.000001068223174\n",
       " [4,12,73] = 20.00000118902838\n",
       " [4,12,74] = 20.000001330430884\n",
       " [4,12,75] = 20.00000151579883\n",
       " [4,12,76] = 20.00000172611799\n",
       " [4,12,77] = 20.00000192798416\n",
       " [4,12,78] = 20.000002200553688\n",
       " [4,12,79] = 20.000002601409378\n",
       " [4,12,80] = 20.00000315325175\n",
       " [4,12,81] = 20.000003453887285\n",
       " [4,12,82] = 20.00000391823657\n",
       " [4,12,83] = 20.000004575890973\n",
       " [4,12,84] = 20.00000551810779\n",
       " [4,12,85] = 20.000006766274588\n",
       " [4,12,86] = 20.0000099426052\n",
       " [4,12,87] = 20.000018572624306\n",
       " [4,12,88] = 20.00765847826376\n",
       " [4,12,89] = 20.311408124164473\n",
       " [4,12,90] = 20.74901766009225\n",
       " [4,12,91] = 21.301770663965918\n",
       " [4,12,92] = 21.774067952732782\n",
       " [4,12,93] = 21.6475473379412\n",
       " [4,13, 1] = 20.101800160190976\n",
       " [4,13, 2] = 19.71334216496227\n",
       " [4,13, 3] = 19.583665854406846\n",
       " [4,13, 4] = 19.503955142565047\n",
       " [4,13, 5] = 19.4351960384621\n",
       " [4,13, 6] = 19.36898407617942\n",
       " [4,13, 7] = 19.30598060112999\n",
       " [4,13, 8] = 19.245941073507613\n",
       " [4,13, 9] = 19.188259093583554\n",
       " [4,13,10] = 19.13226083868059\n",
       " [4,13,11] = 19.078247611754946\n",
       " [4,13,12] = 19.026094254413078\n",
       " [4,13,13] = 19.000004500938232\n",
       " [4,13,14] = 19.00000908029312\n",
       " [4,13,15] = 19.000023050939507\n",
       " [4,13,16] = 20.002506972594688\n",
       " [4,13,17] = 20.001803073992637\n",
       " [4,13,18] = 20.326272707242445\n",
       " [4,13,19] = 20.52939191272208\n",
       " [4,13,20] = 20.616032213496634\n",
       " [4,13,21] = 20.75699076004704\n",
       " [4,13,22] = 21.027285335509003\n",
       " [4,13,23] = 21.083845698756313\n",
       " [4,13,24] = 21.063050215140116\n",
       " [4,13,25] = 20.977887381843438\n",
       " [4,13,26] = 20.96790008384531\n",
       " [4,13,27] = 20.99997337793079\n",
       " [4,13,28] = 21.098780917492945\n",
       " [4,13,29] = 21.192330257759345\n",
       " [4,13,30] = 21.22165388682923\n",
       " [4,13,31] = 21.18969416040592\n",
       " [4,13,32] = 21.244386024163166\n",
       " [4,13,33] = 21.39069929732135\n",
       " [4,13,34] = 21.61454251445713\n",
       " [4,13,35] = 21.676756390148636\n",
       " [4,13,36] = 21.71215332109987\n",
       " [4,13,37] = 21.760545210836213\n",
       " [4,13,38] = 21.78225178926524\n",
       " [4,13,39] = 21.70637672133557\n",
       " [4,13,40] = 21.62639832959472\n",
       " [4,13,41] = 21.608925710626416\n",
       " [4,13,42] = 21.580607164207194\n",
       " [4,13,43] = 21.528350248672567\n",
       " [4,13,44] = 21.520351863866487\n",
       " [4,13,45] = 21.683582614554396\n",
       " [4,13,46] = 21.668900018140036\n",
       " [4,13,47] = 21.380325320124737\n",
       " [4,13,48] = 21.052136848373472\n",
       " [4,13,49] = 20.716128479814394\n",
       " [4,13,50] = 20.333605728443704\n",
       " [4,13,51] = 20.003034731033388\n",
       " [4,13,52] = 20.000026380598648\n",
       " [4,13,53] = 20.00001255422266\n",
       " [4,13,54] = 20.000008105288753\n",
       " [4,13,55] = 20.00000569188506\n",
       " [4,13,56] = 20.000004435823847\n",
       " [4,13,57] = 20.000003553148463\n",
       " [4,13,58] = 20.000003172818275\n",
       " [4,13,59] = 20.000002790914294\n",
       " [4,13,60] = 20.000002526441378\n",
       " [4,13,61] = 20.00000239207144\n",
       " [4,13,62] = 20.000002265787913\n",
       " [4,13,63] = 20.00000214068831\n",
       " [4,13,64] = 20.00000201129336\n",
       " [4,13,65] = 20.000001875098445\n",
       " [4,13,66] = 20.00000173366927\n",
       " [4,13,67] = 20.00000157244125\n",
       " [4,13,68] = 20.00000149214817\n",
       " [4,13,69] = 20.000001538312574\n",
       " [4,13,70] = 20.000001579992347\n",
       " [4,13,71] = 20.00000163139411\n",
       " [4,13,72] = 20.00000173274911\n",
       " [4,13,73] = 20.000001947424266\n",
       " [4,13,74] = 20.00000220463873\n",
       " [4,13,75] = 20.000002549752676\n",
       " [4,13,76] = 20.000002953110204\n",
       " [4,13,77] = 20.000003356311634\n",
       " [4,13,78] = 20.000003924233663\n",
       " [4,13,79] = 20.00000480739113\n",
       " [4,13,80] = 20.000006117654685\n",
       " [4,13,81] = 20.00000690458218\n",
       " [4,13,82] = 20.000008220333658\n",
       " [4,13,83] = 20.0000103473892\n",
       " [4,13,84] = 20.000014162718486\n",
       " [4,13,85] = 20.000021834683004\n",
       " [4,13,86] = 20.000120231104706\n",
       " [4,13,87] = 20.196776873160886\n",
       " [4,13,88] = 20.64391340839611\n",
       " [4,13,89] = 20.866358404347622\n",
       " [4,13,90] = 21.163933866110657\n",
       " [4,13,91] = 21.535366679656263\n",
       " [4,13,92] = 21.845891458543612\n",
       " [4,13,93] = 21.767845588311662\n",
       " [4,14, 1] = 20.01019202282438\n",
       " [4,14, 2] = 19.58202210661435\n",
       " [4,14, 3] = 19.432671123257446\n",
       " [4,14, 4] = 19.33952545805498\n",
       " [4,14, 5] = 19.258601796564793\n",
       " [4,14, 6] = 19.180064263713074\n",
       " [4,14, 7] = 19.10438721608733\n",
       " [4,14, 8] = 19.031388137676807\n",
       " [4,14, 9] = 19.0000016055895\n",
       " [4,14,10] = 19.00000163929277\n",
       " [4,14,11] = 19.00000188423473\n",
       " [4,14,12] = 19.000002378064174\n",
       " [4,14,13] = 19.000003018901293\n",
       " [4,14,14] = 19.000004464681112\n",
       " [4,14,15] = 19.000007983924903\n",
       " [4,14,16] = 19.53403213870972\n",
       " [4,14,17] = 19.532253928317964\n",
       " [4,14,18] = 20.045037212914327\n",
       " [4,14,19] = 20.368458737621104\n",
       " [4,14,20] = 20.50920287837067\n",
       " [4,14,21] = 20.736785151442184\n",
       " [4,14,22] = 21.170511319504794\n",
       " [4,14,23] = 21.26856107515498\n",
       " [4,14,24] = 21.244911784175656\n",
       " [4,14,25] = 21.11940653024662\n",
       " [4,14,26] = 21.11233067030637\n",
       " [4,14,27] = 21.17193938769237\n",
       " [4,14,28] = 21.33771123689631\n",
       " [4,14,29] = 21.49630537411971\n",
       " [4,14,30] = 21.554283743412068\n",
       " [4,14,31] = 21.51569753781563\n",
       " [4,14,32] = 21.614163541315694\n",
       " [4,14,33] = 21.85842321353756\n",
       " [4,14,34] = 22.227021462375195\n",
       " [4,14,35] = 22.342148104742314\n",
       " [4,14,36] = 22.41585132634828\n",
       " [4,14,37] = 22.510986480290978\n",
       " [4,14,38] = 22.56486449775618\n",
       " [4,14,39] = 22.465013880601344\n",
       " [4,14,40] = 22.358542531300635\n",
       " [4,14,41] = 22.35082295471042\n",
       " [4,14,42] = 22.326239490732128\n",
       " [4,14,43] = 22.263936781230647\n",
       " [4,14,44] = 22.271833119059437\n",
       " [4,14,45] = 22.55147487055858\n",
       " [4,14,46] = 22.5517882821159\n",
       " [4,14,47] = 22.11934868079584\n",
       " [4,14,48] = 21.62259878943485\n",
       " [4,14,49] = 21.111486032273294\n",
       " [4,14,50] = 20.52467869178581\n",
       " [4,14,51] = 20.00209909840888\n",
       " [4,14,52] = 20.00001654810688\n",
       " [4,14,53] = 20.000008324294576\n",
       " [4,14,54] = 20.000005307981144\n",
       " [4,14,55] = 20.000003688271065\n",
       " [4,14,56] = 20.00000285317163\n",
       " [4,14,57] = 20.00000227121656\n",
       " [4,14,58] = 20.00000201993355\n",
       " [4,14,59] = 20.000001769686197\n",
       " [4,14,60] = 20.000001596231026\n",
       " [4,14,61] = 20.00000150624665\n",
       " [4,14,62] = 20.000001422052133\n",
       " [4,14,63] = 20.00000133928856\n",
       " [4,14,64] = 20.00000125457128\n",
       " [4,14,65] = 20.00000116636126\n",
       " [4,14,66] = 20.000001075605173\n",
       " [4,14,67] = 20.000000973422516\n",
       " [4,14,68] = 20.000000920772546\n",
       " [4,14,69] = 20.00000094418329\n",
       " [4,14,70] = 20.000000964418962\n",
       " [4,14,71] = 20.00000098982244\n",
       " [4,14,72] = 20.000001043329927\n",
       " [4,14,73] = 20.000001159496346\n",
       " [4,14,74] = 20.000001295444562\n",
       " [4,14,75] = 20.000001473504252\n",
       " [4,14,76] = 20.000001674049777\n",
       " [4,14,77] = 20.000001865103336\n",
       " [4,14,78] = 20.00000212386766\n",
       " [4,14,79] = 20.000002503972954\n",
       " [4,14,80] = 20.000003019246527\n",
       " [4,14,81] = 20.000003289261908\n",
       " [4,14,82] = 20.000003708552725\n",
       " [4,14,83] = 20.000004298493568\n",
       " [4,14,84] = 20.000005132579968\n",
       " [4,14,85] = 20.000006224440742\n",
       " [4,14,86] = 20.000008920219447\n",
       " [4,14,87] = 20.000015556770833\n",
       " [4,14,88] = 20.00033541801213\n",
       " [4,14,89] = 20.228047954214762\n",
       " [4,14,90] = 20.689867974356268\n",
       " [4,14,91] = 21.27071909225069\n",
       " [4,14,92] = 21.759515445123732\n",
       " [4,14,93] = 21.63370677652582\n",
       " [4,15, 1] = 19.962417680589343\n",
       " [4,15, 2] = 19.544869212760684\n",
       " [4,15, 3] = 19.396772874227164\n",
       " [4,15, 4] = 19.301010064480284\n",
       " [4,15, 5] = 19.216915828885597\n",
       " [4,15, 6] = 19.13541837176919\n",
       " [4,15, 7] = 19.05725619708451\n",
       " [4,15, 8] = 19.000002438144058\n",
       " [4,15, 9] = 19.000002952720003\n",
       " [4,15,10] = 19.000003140753382\n",
       " [4,15,11] = 19.000003785059825\n",
       " [4,15,12] = 19.000005170468963\n",
       " [4,15,13] = 19.000007396228042\n",
       " [4,15,14] = 19.000014739584664\n",
       " [4,15,15] = 19.077247632689215\n",
       " [4,15,16] = 20.422845957888924\n",
       " [4,15,17] = 20.428036784631512\n",
       " [4,15,18] = 20.76384121781519\n",
       " [4,15,19] = 20.97661744725809\n",
       " [4,15,20] = 21.072355032917358\n",
       " [4,15,21] = 21.225048484752097\n",
       " [4,15,22] = 21.50857535879491\n",
       " [4,15,23] = 21.574904940559332\n",
       " [4,15,24] = 21.562380089390963\n",
       " [4,15,25] = 21.4850752493067\n",
       " [4,15,26] = 21.484729039591898\n",
       " [4,15,27] = 21.528049142462734\n",
       " [4,15,28] = 21.63969109985183\n",
       " [4,15,29] = 21.746022897945544\n",
       " [4,15,30] = 21.787036118835807\n",
       " [4,15,31] = 21.766725504371585\n",
       " [4,15,32] = 21.835665986675412\n",
       " [4,15,33] = 21.99896094576652\n",
       " [4,15,34] = 22.240675077932\n",
       " [4,15,35] = 22.31848752300931\n",
       " [4,15,36] = 22.369418668488436\n",
       " [4,15,37] = 22.433501874689824\n",
       " [4,15,38] = 22.469767599431183\n",
       " [4,15,39] = 22.406638498613876\n",
       " [4,15,40] = 22.33945844691783\n",
       " [4,15,41] = 22.33542848806733\n",
       " [4,15,42] = 22.319948324189383\n",
       " [4,15,43] = 22.280288413623616\n",
       " [4,15,44] = 22.286633452601997\n",
       " [4,15,45] = 22.46549199910025\n",
       " [4,15,46] = 22.460965207759806\n",
       " [4,15,47] = 22.17642495737178\n",
       " [4,15,48] = 21.849739632557835\n",
       " [4,15,49] = 21.512833483117472\n",
       " [4,15,50] = 21.126618318515153\n",
       " [4,15,51] = 20.751078902928803\n",
       " [4,15,52] = 20.30125947310192\n",
       " [4,15,53] = 20.000074908165015\n",
       " [4,15,54] = 20.000015119527585\n",
       " [4,15,55] = 20.000008362578914\n",
       " [4,15,56] = 20.00000583963034\n",
       " [4,15,57] = 20.000004360126972\n",
       " [4,15,58] = 20.000003768610114\n",
       " [4,15,59] = 20.000003214988112\n",
       " [4,15,60] = 20.00000284755636\n",
       " [4,15,61] = 20.000002659562526\n",
       " [4,15,62] = 20.00000248718783\n",
       " [4,15,63] = 20.00000232107692\n",
       " [4,15,64] = 20.00000215445092\n",
       " [4,15,65] = 20.000001984550725\n",
       " [4,15,66] = 20.00000181334531\n",
       " [4,15,67] = 20.00000162616774\n",
       " [4,15,68] = 20.000001531774092\n",
       " [4,15,69] = 20.000001573471035\n",
       " [4,15,70] = 20.00000160988086\n",
       " [4,15,71] = 20.000001656360226\n",
       " [4,15,72] = 20.00000175506866\n",
       " [4,15,73] = 20.00000197080583\n",
       " [4,15,74] = 20.00000222936452\n",
       " [4,15,75] = 20.00000257712805\n",
       " [4,15,76] = 20.000002982105\n",
       " [4,15,77] = 20.00000338366721\n",
       " [4,15,78] = 20.000003951669623\n",
       " [4,15,79] = 20.000004838448064\n",
       " [4,15,80] = 20.000006148888126\n",
       " [4,15,81] = 20.000006906192468\n",
       " [4,15,82] = 20.000008180497257\n",
       " [4,15,83] = 20.00001022899125\n",
       " [4,15,84] = 20.000013845623126\n",
       " [4,15,85] = 20.000020874209813\n",
       " [4,15,86] = 20.000095235607226\n",
       " [4,15,87] = 20.174564188746945\n",
       " [4,15,88] = 20.624696924120936\n",
       " [4,15,89] = 20.848466026838643\n",
       " [4,15,90] = 21.15037129545786\n",
       " [4,15,91] = 21.527814340873\n",
       " [4,15,92] = 21.842716352203077\n",
       " [4,15,93] = 21.763649649692525\n",
       " [4,16, 1] = 20.004939201834176\n",
       " [4,16, 2] = 19.563458487426946\n",
       " [4,16, 3] = 19.409620230600094\n",
       " [4,16, 4] = 19.31585057556196\n",
       " [4,16, 5] = 19.235439978871632\n",
       " [4,16, 6] = 19.157606293128968\n",
       " [4,16, 7] = 19.082674366097912\n",
       " [4,16, 8] = 19.010469800873665\n",
       " [4,16, 9] = 19.000001603572553\n",
       " [4,16,10] = 19.000001673946443\n",
       " [4,16,11] = 19.000001929492118\n",
       " [4,16,12] = 19.00000244254718\n",
       " [4,16,13] = 19.000003107205874\n",
       " [4,16,14] = 19.000004614784142\n",
       " [4,16,15] = 19.00000830248796\n",
       " [4,16,16] = 19.569315508078148\n",
       " [4,16,17] = 19.56385764114382\n",
       " [4,16,18] = 20.067272345467714\n",
       " [4,16,19] = 20.38500017581159\n",
       " [4,16,20] = 20.521693594234407\n",
       " [4,16,21] = 20.74292015271709\n",
       " [4,16,22] = 21.169907827347267\n",
       " [4,16,23] = 21.266804560698507\n",
       " [4,16,24] = 21.24424275423107\n",
       " [4,16,25] = 21.120283681687617\n",
       " [4,16,26] = 21.11247553838171\n",
       " [4,16,27] = 21.16964461360135\n",
       " [4,16,28] = 21.331621492790045\n",
       " [4,16,29] = 21.487245862671998\n",
       " [4,16,30] = 21.544054203404375\n",
       " [4,16,31] = 21.50437134036509\n",
       " [4,16,32] = 21.59857459947822\n",
       " [4,16,33] = 21.83583591906853\n",
       " [4,16,34] = 22.197398187340262\n",
       " [4,16,35] = 22.309143601376395\n",
       " [4,16,36] = 22.37984643412029\n",
       " [4,16,37] = 22.47204872502676\n",
       " [4,16,38] = 22.5245351466026\n",
       " [4,16,39] = 22.42524909534853\n",
       " [4,16,40] = 22.31864782659333\n",
       " [4,16,41] = 22.30944252235625\n",
       " [4,16,42] = 22.283591592383498\n",
       " [4,16,43] = 22.219612441430723\n",
       " [4,16,44] = 22.223201466934807\n",
       " [4,16,45] = 22.497156027065245\n",
       " [4,16,46] = 22.498731002559524\n",
       " [4,16,47] = 22.074043800680037\n",
       " [4,16,48] = 21.586179687872338\n",
       " [4,16,49] = 21.084762026843695\n",
       " [4,16,50] = 20.50885000691006\n",
       " [4,16,51] = 20.001849053357034\n",
       " [4,16,52] = 20.000017142463605\n",
       " [4,16,53] = 20.000008429959127\n",
       " [4,16,54] = 20.000005380704728\n",
       " [4,16,55] = 20.00000374265534\n",
       " [4,16,56] = 20.00000289892452\n",
       " [4,16,57] = 20.000002308551373\n",
       " [4,16,58] = 20.000002055175177\n",
       " [4,16,59] = 20.000001801522117\n",
       " [4,16,60] = 20.000001625600465\n",
       " [4,16,61] = 20.00000153488584\n",
       " [4,16,62] = 20.000001449962124\n",
       " [4,16,63] = 20.000001366457436\n",
       " [4,16,64] = 20.000001280948347\n",
       " [4,16,65] = 20.00000119173998\n",
       " [4,16,66] = 20.00000109976188\n",
       " [4,16,67] = 20.000000995278036\n",
       " [4,16,68] = 20.000000941150752\n",
       " [4,16,69] = 20.00000096542678\n",
       " [4,16,70] = 20.000000986371937\n",
       " [4,16,71] = 20.00000101241117\n",
       " [4,16,72] = 20.00000106707558\n",
       " [4,16,73] = 20.00000118633246\n",
       " [4,16,74] = 20.00000132592256\n",
       " [4,16,75] = 20.00000150913738\n",
       " [4,16,76] = 20.000001715944517\n",
       " [4,16,77] = 20.00000191279609\n",
       " [4,16,78] = 20.000002179629455\n",
       " [4,16,79] = 20.000002572871505\n",
       " [4,16,80] = 20.00000310993017\n",
       " [4,16,81] = 20.000003391049162\n",
       " [4,16,82] = 20.000003828778404\n",
       " [4,16,83] = 20.000004446853463\n",
       " [4,16,84] = 20.000005325241062\n",
       " [4,16,85] = 20.000006477903334\n",
       " [4,16,86] = 20.000009369994707\n",
       " [4,16,87] = 20.000016764985126\n",
       " [4,16,88] = 20.00091000777572\n",
       " [4,16,89] = 20.262277483664985\n",
       " [4,16,90] = 20.713268397495565\n",
       " [4,16,91] = 21.282826307255387\n",
       " [4,16,92] = 21.76539346350721\n",
       " [4,16,93] = 21.63872240621191\n",
       " [4,17, 1] = 19.961179703075196\n",
       " [4,17, 2] = 19.54293195114945\n",
       " [4,17, 3] = 19.395210797602957\n",
       " [4,17, 4] = 19.299682316672545\n",
       " [4,17, 5] = 19.215643637471846\n",
       " [4,17, 6] = 19.134146447024765\n",
       " [4,17, 7] = 19.055959293928936\n",
       " [4,17, 8] = 19.00000242786428\n",
       " [4,17, 9] = 19.000002948442503\n",
       " [4,17,10] = 19.00000313953426\n",
       " [4,17,11] = 19.000003786052527\n",
       " [4,17,12] = 19.00000517550067\n",
       " [4,17,13] = 19.000007410832612\n",
       " [4,17,14] = 19.000014823049014\n",
       " [4,17,15] = 19.082323351136015\n",
       " [4,17,16] = 20.428072712286617\n",
       " [4,17,17] = 20.433478799037818\n",
       " [4,17,18] = 20.769445284912525\n",
       " [4,17,19] = 20.98242899149117\n",
       " [4,17,20] = 21.078382777066576\n",
       " [4,17,21] = 21.23122628941755\n",
       " [4,17,22] = 21.51489760965515\n",
       " [4,17,23] = 21.581409177798964\n",
       " [4,17,24] = 21.569086745981725\n",
       " [4,17,25] = 21.49197121392978\n",
       " [4,17,26] = 21.491777689673437\n",
       " [4,17,27] = 21.53520253633651\n",
       " [4,17,28] = 21.64690170013812\n",
       " [4,17,29] = 21.753270196116024\n",
       " [4,17,30] = 21.79432221572663\n",
       " [4,17,31] = 21.77402181563289\n",
       " [4,17,32] = 21.84290413282093\n",
       " [4,17,33] = 22.006054301291737\n",
       " [4,17,34] = 22.247595681196028\n",
       " [4,17,35] = 22.32522847057375\n",
       " [4,17,36] = 22.375933657435276\n",
       " [4,17,37] = 22.439740095761405\n",
       " [4,17,38] = 22.47570882769775\n",
       " [4,17,39] = 22.41226274747175\n",
       " [4,17,40] = 22.344710569300567\n",
       " [4,17,41] = 22.340259007354188\n",
       " [4,17,42] = 22.324336995969524\n",
       " [4,17,43] = 22.284208913246147\n",
       " [4,17,44] = 22.28999327147571\n",
       " [4,17,45] = 22.46824369148488\n",
       " [4,17,46] = 22.46317395905534\n",
       " [4,17,47] = 22.178141109211214\n",
       " [4,17,48] = 21.850969760411854\n",
       " [4,17,49] = 21.513595574176716\n",
       " [4,17,50] = 21.12692779822197\n",
       " [4,17,51] = 20.750948723732876\n",
       " [4,17,52] = 20.300738254388254\n",
       " [4,17,53] = 20.000075786861736\n",
       " [4,17,54] = 20.000015146007723\n",
       " [4,17,55] = 20.000008343402733\n",
       " [4,17,56] = 20.00000582729357\n",
       " [4,17,57] = 20.000004351693637\n",
       " [4,17,58] = 20.000003761912172\n",
       " [4,17,59] = 20.000003209845072\n",
       " [4,17,60] = 20.000002843596803\n",
       " [4,17,61] = 20.000002656315893\n",
       " [4,17,62] = 20.00000248454311\n",
       " [4,17,63] = 20.00000231898683\n",
       " [4,17,64] = 20.000002152902905\n",
       " [4,17,65] = 20.000001983469357\n",
       " [4,17,66] = 20.00000181267109\n",
       " [4,17,67] = 20.00000162580238\n",
       " [4,17,68] = 20.00000153153939\n",
       " [4,17,69] = 20.000001573292817\n",
       " [4,17,70] = 20.000001609765537\n",
       " [4,17,71] = 20.000001656305002\n",
       " [4,17,72] = 20.000001755050032\n",
       " [4,17,73] = 20.00000197081414\n",
       " [4,17,74] = 20.00000222940146\n",
       " [4,17,75] = 20.00000257720468\n",
       " [4,17,76] = 20.000002982268096\n",
       " [4,17,77] = 20.00000338395926\n",
       " [4,17,78] = 20.000003952130946\n",
       " [4,17,79] = 20.000004839157512\n",
       " [4,17,80] = 20.000006150243674\n",
       " [4,17,81] = 20.000006908208057\n",
       " [4,17,82] = 20.000008183646326\n",
       " [4,17,83] = 20.000010234332574\n",
       " [4,17,84] = 20.000013856448188\n",
       " [4,17,85] = 20.00002090065271\n",
       " [4,17,86] = 20.000095753771294\n",
       " [4,17,87] = 20.17505652176598\n",
       " [4,17,88] = 20.62511507894863\n",
       " [4,17,89] = 20.848830679243097\n",
       " [4,17,90] = 21.150627384840885\n",
       " [4,17,91] = 21.527919352601792\n",
       " [4,17,92] = 21.842811772285245\n",
       " [4,17,93] = 21.763668396574793\n",
       " [4,18, 1] = 20.192940023379744\n",
       " [4,18, 2] = 19.588953334742033\n",
       " [4,18, 3] = 19.308373176871903\n",
       " [4,18, 4] = 19.117640475669308\n",
       " [4,18, 5] = 19.000000406342604\n",
       " [4,18, 6] = 19.000000414987824\n",
       " [4,18, 7] = 19.000000435794824\n",
       " [4,18, 8] = 19.000000454803263\n",
       " [4,18, 9] = 19.000000447424053\n",
       " [4,18,10] = 19.00000046722161\n",
       " [4,18,11] = 19.000000518587168\n",
       " [4,18,12] = 19.000000617270842\n",
       " [4,18,13] = 19.000000719727137\n",
       " [4,18,14] = 19.0000009116657\n",
       " [4,18,15] = 19.000001197884885\n",
       " [4,18,16] = 19.000003334949653\n",
       " [4,18,17] = 19.00000290532478\n",
       " [4,18,18] = 19.00000433917041\n",
       " [4,18,19] = 19.000006279333885\n",
       " [4,18,20] = 19.00000750481787\n",
       " [4,18,21] = 19.00001125059284\n",
       " [4,18,22] = 19.238053794875096\n",
       " [4,18,23] = 19.53974364349945\n",
       " [4,18,24] = 19.471335872861918\n",
       " [4,18,25] = 20.000013357761034\n",
       " [4,18,26] = 20.00001263036211\n",
       " [4,18,27] = 20.000014566742017\n",
       " [4,18,28] = 20.000030484897117\n",
       " [4,18,29] = 20.01367662399568\n",
       " [4,18,30] = 20.18310643447466\n",
       " [4,18,31] = 20.02556637167086\n",
       " [4,18,32] = 20.264007550712456\n",
       " [4,18,33] = 20.977841535910006\n",
       " [4,18,34] = 22.18655755842672\n",
       " [4,18,35] = 22.626127945050598\n",
       " [4,18,36] = 22.954735235875344\n",
       " [4,18,37] = 23.39396346789307\n",
       " [4,18,38] = 23.76398365874412\n",
       " [4,18,39] = 23.660479048783955\n",
       " [4,18,40] = 23.5301708460237\n",
       " [4,18,41] = 23.74399281802018\n",
       " [4,18,42] = 23.936672229610114\n",
       " [4,18,43] = 23.99278516377816\n",
       " [4,18,44] = 23.99994747520298\n",
       " [4,18,45] = 23.999992209343976\n",
       " [4,18,46] = 23.999994246015774\n",
       " [4,18,47] = 23.999991322071285\n",
       " [4,18,48] = 23.999975073190917\n",
       " [4,18,49] = 23.52949586515733\n",
       " [4,18,50] = 22.339841039379028\n",
       " [4,18,51] = 21.083461942846867\n",
       " [4,18,52] = 20.32012543535131\n",
       " [4,18,53] = 20.000005359443705\n",
       " [4,18,54] = 20.00000330889697\n",
       " [4,18,55] = 20.000001948683543\n",
       " [4,18,56] = 20.00000140143491\n",
       " [4,18,57] = 20.000001042951773\n",
       " [4,18,58] = 20.00000091630903\n",
       " [4,18,59] = 20.000000781687877\n",
       " [4,18,60] = 20.00000069022372\n",
       " [4,18,61] = 20.000000647768058\n",
       " [4,18,62] = 20.000000607505086\n",
       " [4,18,63] = 20.0000005672748\n",
       " [4,18,64] = 20.00000052546168\n",
       " [4,18,65] = 20.000000481397056\n",
       " [4,18,66] = 20.0000004358714\n",
       " [4,18,67] = 20.000000382344783\n",
       " [4,18,68] = 20.000000351739914\n",
       " [4,18,69] = 20.000000356971455\n",
       " [4,18,70] = 20.000000359686265\n",
       " [4,18,71] = 20.000000362846727\n",
       " [4,18,72] = 20.00000037550307\n",
       " [4,18,73] = 20.000000412196044\n",
       " [4,18,74] = 20.00000045384887\n",
       " [4,18,75] = 20.000000508998152\n",
       " [4,18,76] = 20.000000569369078\n",
       " [4,18,77] = 20.000000620628295\n",
       " [4,18,78] = 20.000000688755275\n",
       " [4,18,79] = 20.000000788978706\n",
       " [4,18,80] = 20.000000924944448\n",
       " [4,18,81] = 20.00000097388763\n",
       " [4,18,82] = 20.000001052680016\n",
       " [4,18,83] = 20.00000115706283\n",
       " [4,18,84] = 20.000001290266614\n",
       " [4,18,85] = 20.000001428411903\n",
       " [4,18,86] = 20.000001728608677\n",
       " [4,18,87] = 20.000002162159372\n",
       " [4,18,88] = 20.000003247119377\n",
       " [4,18,89] = 19.000006163579037\n",
       " [4,18,90] = 19.00001522624196\n",
       " [4,18,91] = 19.825193481359154\n",
       " [4,18,92] = 21.364834982029834\n",
       " [4,18,93] = 20.842961804141087\n",
       " [5, 1, 1] = 21.926016206633776\n",
       " [5, 1, 2] = 21.90056764879167\n",
       " [5, 1, 3] = 21.89128125508705\n",
       " [5, 1, 4] = 21.887788974394955\n",
       " [5, 1, 5] = 21.88645839076964\n",
       " [5, 1, 6] = 21.88596058461809\n",
       " [5, 1, 7] = 21.885754159248663\n",
       " [5, 1, 8] = 21.885632907312747\n",
       " [5, 1, 9] = 21.885522821986626\n",
       " [5, 1,10] = 21.8853907033198\n",
       " [5, 1,11] = 21.885220792041423\n",
       " [5, 1,12] = 21.884989446625035\n",
       " [5, 1,13] = 21.884683570885695\n",
       " [5, 1,14] = 21.884303909977692\n",
       " [5, 1,15] = 21.883849433017296\n",
       " [5, 1,16] = 21.8833176451039\n",
       " [5, 1,17] = 21.88270891999255\n",
       " [5, 1,18] = 21.88202052917512\n",
       " [5, 1,19] = 21.88128200062713\n",
       " [5, 1,20] = 21.8804486771422\n",
       " [5, 1,21] = 21.879546679244275\n",
       " [5, 1,22] = 21.878563902835477\n",
       " [5, 1,23] = 21.87756022082396\n",
       " [5, 1,24] = 21.876374219868367\n",
       " [5, 1,25] = 21.87553269053158\n",
       " [5, 1,26] = 21.873816268444124\n",
       " [5, 1,27] = 21.872351287490595\n",
       " [5, 1,28] = 21.8708879374723\n",
       " [5, 1,29] = 21.869430838035726\n",
       " [5, 1,30] = 21.867947578027763\n",
       " [5, 1,31] = 21.866342809076198\n",
       " [5, 1,32] = 21.864775290433766\n",
       " [5, 1,33] = 21.863087650532922\n",
       " [5, 1,34] = 21.861612021157438\n",
       " [5, 1,35] = 21.859936425149463\n",
       " [5, 1,36] = 21.858293509310457\n",
       " [5, 1,37] = 21.856655735729863\n",
       " [5, 1,38] = 21.854955531614607\n",
       " [5, 1,39] = 21.853170975204655\n",
       " [5, 1,40] = 21.851485261658745\n",
       " [5, 1,41] = 21.849803161517794\n",
       " [5, 1,42] = 21.848132850072545\n",
       " [5, 1,43] = 21.846513357325136\n",
       " [5, 1,44] = 21.844904159744086\n",
       " [5, 1,45] = 21.843492602657218\n",
       " [5, 1,46] = 21.841858023204967\n",
       " [5, 1,47] = 21.84015874227103\n",
       " [5, 1,48] = 21.838769243372184\n",
       " [5, 1,49] = 21.837405164258367\n",
       " [5, 1,50] = 21.835932491221072\n",
       " [5, 1,51] = 21.83474604855188\n",
       " [5, 1,52] = 21.83384932030794\n",
       " [5, 1,53] = 21.832708409444194\n",
       " [5, 1,54] = 21.831437041345282\n",
       " [5, 1,55] = 21.830123032796863\n",
       " [5, 1,56] = 21.828795817912546\n",
       " [5, 1,57] = 21.827464874326264\n",
       " [5, 1,58] = 21.826129995949028\n",
       " [5, 1,59] = 21.824791351094262\n",
       " [5, 1,60] = 21.823446179210922\n",
       " [5, 1,61] = 21.822083846455353\n",
       " [5, 1,62] = 21.820703829232173\n",
       " [5, 1,63] = 21.81932098401108\n",
       " [5, 1,64] = 21.817934992594147\n",
       " [5, 1,65] = 21.816535732015456\n",
       " [5, 1,66] = 21.815126548926848\n",
       " [5, 1,67] = 21.813707149906886\n",
       " [5, 1,68] = 21.812281153785147\n",
       " [5, 1,69] = 21.810866094818223\n",
       " [5, 1,70] = 21.80945407483171\n",
       " [5, 1,71] = 21.808036616970657\n",
       " [5, 1,72] = 21.8066086513626\n",
       " [5, 1,73] = 21.805167723263057\n",
       " [5, 1,74] = 21.803713389431465\n",
       " [5, 1,75] = 21.802246377879563\n",
       " [5, 1,76] = 21.800765982889164\n",
       " [5, 1,77] = 21.799271841838422\n",
       " [5, 1,78] = 21.797764118501743\n",
       " [5, 1,79] = 21.796243451170568\n",
       " [5, 1,80] = 21.79470920838917\n",
       " [5, 1,81] = 21.793162573343043\n",
       " [5, 1,82] = 21.791604109851235\n",
       " [5, 1,83] = 21.790034036294763\n",
       " [5, 1,84] = 21.788453394965316\n",
       " [5, 1,85] = 21.78686318234872\n",
       " [5, 1,86] = 21.78526370271669\n",
       " [5, 1,87] = 21.783654687552733\n",
       " [5, 1,88] = 21.78203756428932\n",
       " [5, 1,89] = 21.780202593509937\n",
       " [5, 1,90] = 21.779144157974418\n",
       " [5, 1,91] = 21.77762469541093\n",
       " [5, 1,92] = 21.775962042491198\n",
       " [5, 1,93] = 21.773483193783225\n",
       " [5, 2, 1] = 21.862636637447064\n",
       " [5, 2, 2] = 21.816461146227592\n",
       " [5, 2, 3] = 21.796165247795237\n",
       " [5, 2, 4] = 21.783264260051766\n",
       " [5, 2, 5] = 21.772601974637077\n",
       " [5, 2, 6] = 21.76271442686783\n",
       " [5, 2, 7] = 21.753153004230814\n",
       " [5, 2, 8] = 21.743775922459157\n",
       " [5, 2, 9] = 21.7345287061368\n",
       " [5, 2,10] = 21.725376177120346\n",
       " [5, 2,11] = 21.71629228157034\n",
       " [5, 2,12] = 21.707268424585166\n",
       " [5, 2,13] = 21.69832175288672\n",
       " [5, 2,14] = 21.68946652290236\n",
       " [5, 2,15] = 21.680705451561973\n",
       " [5, 2,16] = 21.67204144814486\n",
       " [5, 2,17] = 21.663449367572156\n",
       " [5, 2,18] = 21.654948327339042\n",
       " [5, 2,19] = 21.646524323683405\n",
       " [5, 2,20] = 21.63815986326372\n",
       " [5, 2,21] = 21.629989012524597\n",
       " [5, 2,22] = 21.621928475456183\n",
       " [5, 2,23] = 21.614121822453537\n",
       " [5, 2,24] = 21.60653732352435\n",
       " [5, 2,25] = 21.59918651411101\n",
       " [5, 2,26] = 21.59169981626213\n",
       " [5, 2,27] = 21.584936210510424\n",
       " [5, 2,28] = 21.578442772433192\n",
       " [5, 2,29] = 21.57211211411679\n",
       " [5, 2,30] = 21.565943232632197\n",
       " [5, 2,31] = 21.559815825260344\n",
       " [5, 2,32] = 21.553816427210197\n",
       " [5, 2,33] = 21.54783285502093\n",
       " [5, 2,34] = 21.542059220843058\n",
       " [5, 2,35] = 21.53640630459078\n",
       " [5, 2,36] = 21.531207516909657\n",
       " [5, 2,37] = 21.526308739042506\n",
       " [5, 2,38] = 21.52162262611783\n",
       " [5, 2,39] = 21.517167667771457\n",
       " [5, 2,40] = 21.512923545066947\n",
       " [5, 2,41] = 21.508600758256115\n",
       " [5, 2,42] = 21.504255554519215\n",
       " [5, 2,43] = 21.499940143701156\n",
       " [5, 2,44] = 21.495594015737613\n",
       " [5, 2,45] = 21.4913075882271\n",
       " [5, 2,46] = 21.487019423983217\n",
       " [5, 2,47] = 21.483118550658446\n",
       " [5, 2,48] = 21.479355108154476\n",
       " [5, 2,49] = 21.475166676020095\n",
       " [5, 2,50] = 21.47055075687968\n",
       " [5, 2,51] = 21.46583181910823\n",
       " [5, 2,52] = 21.46113158228756\n",
       " [5, 2,53] = 21.45629218444146\n",
       " [5, 2,54] = 21.45146014391231\n",
       " [5, 2,55] = 21.446689349074994\n",
       " [5, 2,56] = 21.44197471572103\n",
       " [5, 2,57] = 21.4373023973335\n",
       " [5, 2,58] = 21.43266061935137\n",
       " [5, 2,59] = 21.428041869291896\n",
       " [5, 2,60] = 21.423437174540144\n",
       " [5, 2,61] = 21.418832703794887\n",
       " [5, 2,62] = 21.414222237031332\n",
       " [5, 2,63] = 21.40960438306629\n",
       " [5, 2,64] = 21.404970384363533\n",
       " [5, 2,65] = 21.400305361912256\n",
       " [5, 2,66] = 21.395605261416513\n",
       " [5, 2,67] = 21.390869107429555\n",
       " [5, 2,68] = 21.386105353635017\n",
       " [5, 2,69] = 21.38133519268325\n",
       " [5, 2,70] = 21.37656819975492\n",
       " [5, 2,71] = 21.371809392502524\n",
       " [5, 2,72] = 21.36706177202985\n",
       " [5, 2,73] = 21.36232737354507\n",
       " [5, 2,74] = 21.357608405906344\n",
       " [5, 2,75] = 21.352907581450598\n",
       " [5, 2,76] = 21.348226397019832\n",
       " [5, 2,77] = 21.34356576867827\n",
       " [5, 2,78] = 21.33892629180703\n",
       " [5, 2,79] = 21.33430848520574\n",
       " [5, 2,80] = 21.329713159769913\n",
       " [5, 2,81] = 21.32513972652845\n",
       " [5, 2,82] = 21.320587562577785\n",
       " [5, 2,83] = 21.31605567953386\n",
       " [5, 2,84] = 21.311543558298208\n",
       " [5, 2,85] = 21.30705076851647\n",
       " [5, 2,86] = 21.302576153518185\n",
       " [5, 2,87] = 21.29811765322321\n",
       " [5, 2,88] = 21.293674155584885\n",
       " [5, 2,89] = 21.28923177017502\n",
       " [5, 2,90] = 21.2849258100598\n",
       " [5, 2,91] = 21.280215836568956\n",
       " [5, 2,92] = 21.27591592304023\n",
       " [5, 2,93] = 21.272340977608987\n",
       " [5, 3, 1] = 21.97928262560645\n",
       " [5, 3, 2] = 21.957858468288403\n",
       " [5, 3, 3] = 21.9385760282485\n",
       " [5, 3, 4] = 21.921080307640228\n",
       " [5, 3, 5] = 21.90507833828551\n",
       " [5, 3, 6] = 21.890323847507645\n",
       " [5, 3, 7] = 21.876605888360015\n",
       " [5, 3, 8] = 21.863748302516747\n",
       " [5, 3, 9] = 21.851603899547523\n",
       " [5, 3,10] = 21.84004839525813\n",
       " [5, 3,11] = 21.828976555167568\n",
       " [5, 3,12] = 21.81829941886943\n",
       " [5, 3,13] = 21.80794155692101\n",
       " [5, 3,14] = 21.79783939182486\n",
       " [5, 3,15] = 21.787940680149685\n",
       " [5, 3,16] = 21.77820499410575\n",
       " [5, 3,17] = 21.768589128201988\n",
       " [5, 3,18] = 21.75905633962168\n",
       " [5, 3,19] = 21.74960490976308\n",
       " [5, 3,20] = 21.74017736643982\n",
       " [5, 3,21] = 21.730833176202076\n",
       " [5, 3,22] = 21.72144450768533\n",
       " [5, 3,23] = 21.712156414366365\n",
       " [5, 3,24] = 21.703062014271175\n",
       " [5, 3,25] = 21.694247042945612\n",
       " [5, 3,26] = 21.685623852349664\n",
       " [5, 3,27] = 21.677185890460066\n",
       " [5, 3,28] = 21.668843522057998\n",
       " [5, 3,29] = 21.66052039272452\n",
       " [5, 3,30] = 21.652343106406665\n",
       " [5, 3,31] = 21.644332200774983\n",
       " [5, 3,32] = 21.636501848486283\n",
       " [5, 3,33] = 21.628654788783\n",
       " [5, 3,34] = 21.620895301715954\n",
       " [5, 3,35] = 21.613276763400563\n",
       " [5, 3,36] = 21.605844064300456\n",
       " [5, 3,37] = 21.598631211053565\n",
       " [5, 3,38] = 21.591661066023523\n",
       " [5, 3,39] = 21.584948148817624\n",
       " [5, 3,40] = 21.578545945881586\n",
       " [5, 3,41] = 21.57237798188503\n",
       " [5, 3,42] = 21.566441633271545\n",
       " [5, 3,43] = 21.56075573424293\n",
       " [5, 3,44] = 21.555200607113107\n",
       " [5, 3,45] = 21.549811208833695\n",
       " [5, 3,46] = 21.544612393205757\n",
       " [5, 3,47] = 21.539642940925038\n",
       " [5, 3,48] = 21.53488059921312\n",
       " [5, 3,49] = 21.530333542859456\n",
       " [5, 3,50] = 21.52597382075964\n",
       " [5, 3,51] = 21.52178032757585\n",
       " [5, 3,52] = 21.517694482836507\n",
       " [5, 3,53] = 21.513592249022494\n",
       " [5, 3,54] = 21.50942054680339\n",
       " [5, 3,55] = 21.50513828901353\n",
       " [5, 3,56] = 21.500719292037708\n",
       " [5, 3,57] = 21.496146516688576\n",
       " [5, 3,58] = 21.491409619196915\n",
       " [5, 3,59] = 21.48650405299957\n",
       " [5, 3,60] = 21.48142854838498\n",
       " [5, 3,61] = 21.476181020626957\n",
       " [5, 3,62] = 21.470758637850427\n",
       " [5, 3,63] = 21.465159092521677\n",
       " [5, 3,64] = 21.4594057146659\n",
       " [5, 3,65] = 21.4535125031946\n",
       " [5, 3,66] = 21.44749143210955\n",
       " [5, 3,67] = 21.44135150155878\n",
       " [5, 3,68] = 21.435101098929106\n",
       " [5, 3,69] = 21.428753691062976\n",
       " [5, 3,70] = 21.422320721895886\n",
       " [5, 3,71] = 21.415812002242905\n",
       " [5, 3,72] = 21.409235990045733\n",
       " [5, 3,73] = 21.40259985796171\n",
       " [5, 3,74] = 21.395909885301766\n",
       " [5, 3,75] = 21.389172233314362\n",
       " [5, 3,76] = 21.382392275545698\n",
       " [5, 3,77] = 21.37557472359755\n",
       " [5, 3,78] = 21.36872380786449\n",
       " [5, 3,79] = 21.361843650647792\n",
       " [5, 3,80] = 21.354936943765594\n",
       " [5, 3,81] = 21.34800666405828\n",
       " [5, 3,82] = 21.34105546448276\n",
       " [5, 3,83] = 21.334085399594695\n",
       " [5, 3,84] = 21.327098357169287\n",
       " [5, 3,85] = 21.320096226593176\n",
       " [5, 3,86] = 21.313080702365134\n",
       " [5, 3,87] = 21.306052668145302\n",
       " [5, 3,88] = 21.29901300628236\n",
       " [5, 3,89] = 21.291974125043858\n",
       " [5, 3,90] = 21.28495557341073\n",
       " [5, 3,91] = 21.277907721966297\n",
       " [5, 3,92] = 21.270660774656143\n",
       " [5, 3,93] = 21.263412881301047\n",
       " [5, 4, 1] = 21.60508220673242\n",
       " [5, 4, 2] = 21.44690886156263\n",
       " [5, 4, 3] = 21.373158526120715\n",
       " [5, 4, 4] = 21.326624689509874\n",
       " [5, 4, 5] = 21.28862774789554\n",
       " [5, 4, 6] = 21.253040156004943\n",
       " [5, 4, 7] = 21.218288379721606\n",
       " [5, 4, 8] = 21.183898929616124\n",
       " [5, 4, 9] = 21.149633370913353\n",
       " [5, 4,10] = 21.11543337749591\n",
       " [5, 4,11] = 21.08128795050872\n",
       " [5, 4,12] = 21.047207345196384\n",
       " [5, 4,13] = 21.013204574176424\n",
       " [5, 4,14] = 20.979306497647656\n",
       " [5, 4,15] = 20.945573112254998\n",
       " [5, 4,16] = 20.912046750687168\n",
       " [5, 4,17] = 20.87862054607967\n",
       " [5, 4,18] = 20.846281779336703\n",
       " [5, 4,19] = 20.814324180530622\n",
       " [5, 4,20] = 20.783206275185567\n",
       " [5, 4,21] = 20.752911531181837\n",
       " [5, 4,22] = 20.723473290088176\n",
       " [5, 4,23] = 20.69405647346864\n",
       " [5, 4,24] = 20.66621131554748\n",
       " [5, 4,25] = 20.63916556936557\n",
       " [5, 4,26] = 20.617823977687767\n",
       " [5, 4,27] = 20.596638310020168\n",
       " [5, 4,28] = 20.57588607959739\n",
       " [5, 4,29] = 20.55554366126676\n",
       " [5, 4,30] = 20.536883414719924\n",
       " [5, 4,31] = 20.52137119082611\n",
       " [5, 4,32] = 20.507911299798856\n",
       " [5, 4,33] = 20.49778087062094\n",
       " [5, 4,34] = 20.48837476347583\n",
       " [5, 4,35] = 20.479847692843954\n",
       " [5, 4,36] = 20.472671676986245\n",
       " [5, 4,37] = 20.466682628898592\n",
       " [5, 4,38] = 20.461769609439354\n",
       " [5, 4,39] = 20.457858647395298\n",
       " [5, 4,40] = 20.45476222063345\n",
       " [5, 4,41] = 20.45295236104605\n",
       " [5, 4,42] = 20.451755815565416\n",
       " [5, 4,43] = 20.45113242002744\n",
       " [5, 4,44] = 20.451622216601958\n",
       " [5, 4,45] = 20.45227143764858\n",
       " [5, 4,46] = 20.45323578952484\n",
       " [5, 4,47] = 20.45471399019831\n",
       " [5, 4,48] = 20.457023444728208\n",
       " [5, 4,49] = 20.459745981981264\n",
       " [5, 4,50] = 20.46184732779864\n",
       " [5, 4,51] = 20.456429294191928\n",
       " [5, 4,52] = 20.44326837151046\n",
       " [5, 4,53] = 20.429089235555672\n",
       " [5, 4,54] = 20.414029830409575\n",
       " [5, 4,55] = 20.3982237749622\n",
       " [5, 4,56] = 20.38201393855616\n",
       " [5, 4,57] = 20.365561207410924\n",
       " [5, 4,58] = 20.34894386566342\n",
       " [5, 4,59] = 20.332213860036465\n",
       " [5, 4,60] = 20.315393105089708\n",
       " [5, 4,61] = 20.298455831376067\n",
       " [5, 4,62] = 20.281426987157854\n",
       " [5, 4,63] = 20.264222811020474\n",
       " [5, 4,64] = 20.246865531127106\n",
       " [5, 4,65] = 20.229353537997394\n",
       " [5, 4,66] = 20.211690346726225\n",
       " [5, 4,67] = 20.19386981162385\n",
       " [5, 4,68] = 20.175915293996407\n",
       " [5, 4,69] = 20.15792644565369\n",
       " [5, 4,70] = 20.139942251895896\n",
       " [5, 4,71] = 20.121980647715752\n",
       " [5, 4,72] = 20.104051921694868\n",
       " [5, 4,73] = 20.08616052586002\n",
       " [5, 4,74] = 20.068315834956767\n",
       " [5, 4,75] = 20.050544194265203\n",
       " [5, 4,76] = 20.032857599035594\n",
       " [5, 4,77] = 20.015262897292423\n",
       " [5, 4,78] = 20.00000029649019\n",
       " [5, 4,79] = 20.000000168115132\n",
       " [5, 4,80] = 20.000000264554807\n",
       " [5, 4,81] = 20.000000273046286\n",
       " [5, 4,82] = 20.000000296541398\n",
       " [5, 4,83] = 20.000000320731875\n",
       " [5, 4,84] = 20.000000354179544\n",
       " [5, 4,85] = 20.00000038856023\n",
       " [5, 4,86] = 20.000000458464058\n",
       " [5, 4,87] = 20.00000055192008\n",
       " [5, 4,88] = 20.000000564768662\n",
       " [5, 4,89] = 19.883941814586464\n",
       " [5, 4,90] = 19.829303671117877\n",
       " [5, 4,91] = 19.79670893195784\n",
       " [5, 4,92] = 19.773146161767365\n",
       " [5, 4,93] = 19.75875907501873\n",
       " [5, 5, 1] = 21.617276410226307\n",
       " [5, 5, 2] = 21.45893794438003\n",
       " [5, 5, 3] = 21.38575308677349\n",
       " [5, 5, 4] = 21.34746134321452\n",
       " [5, 5, 5] = 21.324082158860655\n",
       " [5, 5, 6] = 21.30742865595571\n",
       " [5, 5, 7] = 21.293964728341557\n",
       " [5, 5, 8] = 21.282166510569176\n",
       " [5, 5, 9] = 21.27134562332177\n",
       " [5, 5,10] = 21.261138042400276\n",
       " [5, 5,11] = 21.251357072919543\n",
       " [5, 5,12] = 21.241924571011243\n",
       " [5, 5,13] = 21.232790164024063\n",
       " [5, 5,14] = 21.223902599979397\n",
       " [5, 5,15] = 21.21521291806363\n",
       " [5, 5,16] = 21.206689566395248\n",
       " [5, 5,17] = 21.19827992007584\n",
       " [5, 5,18] = 21.1899759428227\n",
       " [5, 5,19] = 21.181816842059614\n",
       " [5, 5,20] = 21.17386489040976\n",
       " [5, 5,21] = 21.16615580527231\n",
       " [5, 5,22] = 21.158555946160988\n",
       " [5, 5,23] = 21.151614533888512\n",
       " [5, 5,24] = 21.144823035391937\n",
       " [5, 5,25] = 21.138281154555568\n",
       " [5, 5,26] = 21.131640627907913\n",
       " [5, 5,27] = 21.12566807985838\n",
       " [5, 5,28] = 21.11993724109186\n",
       " [5, 5,29] = 21.114428752839597\n",
       " [5, 5,30] = 21.10905999831279\n",
       " [5, 5,31] = 21.103376711200955\n",
       " [5, 5,32] = 21.097733163722033\n",
       " [5, 5,33] = 21.09183339710951\n",
       " [5, 5,34] = 21.086576101664104\n",
       " [5, 5,35] = 21.08218019770024\n",
       " [5, 5,36] = 21.07811450307184\n",
       " [5, 5,37] = 21.074153234203447\n",
       " [5, 5,38] = 21.070299922497544\n",
       " [5, 5,39] = 21.066465280917708\n",
       " [5, 5,40] = 21.06238215919938\n",
       " [5, 5,41] = 21.057818182132127\n",
       " [5, 5,42] = 21.053232133017477\n",
       " [5, 5,43] = 21.048642129153162\n",
       " [5, 5,44] = 21.04378573084164\n",
       " [5, 5,45] = 21.039168795392538\n",
       " [5, 5,46] = 21.035193532827925\n",
       " [5, 5,47] = 21.03126281704371\n",
       " [5, 5,48] = 21.026276181209724\n",
       " [5, 5,49] = 21.02060808312553\n",
       " [5, 5,50] = 21.01440106551873\n",
       " [5, 5,51] = 21.00882589041165\n",
       " [5, 5,52] = 21.00375269547268\n",
       " [5, 5,53] = 20.998015408820322\n",
       " [5, 5,54] = 20.992080830215023\n",
       " [5, 5,55] = 20.986237416477827\n",
       " [5, 5,56] = 20.980533278396056\n",
       " [5, 5,57] = 20.97494382983234\n",
       " [5, 5,58] = 20.96943422389523\n",
       " [5, 5,59] = 20.963967977605275\n",
       " [5, 5,60] = 20.958508544012943\n",
       " [5, 5,61] = 20.953041459620117\n",
       " [5, 5,62] = 20.947552652500235\n",
       " [5, 5,63] = 20.942050052373393\n",
       " [5, 5,64] = 20.936503545818795\n",
       " [5, 5,65] = 20.930894645906086\n",
       " [5, 5,66] = 20.925220629108388\n",
       " [5, 5,67] = 20.919497433242746\n",
       " [5, 5,68] = 20.913757662411232\n",
       " [5, 5,69] = 20.908004992470225\n",
       " [5, 5,70] = 20.90224171124051\n",
       " [5, 5,71] = 20.89647151128635\n",
       " [5, 5,72] = 20.890698641247177\n",
       " [5, 5,73] = 20.88492921963412\n",
       " [5, 5,74] = 20.87917060307158\n",
       " [5, 5,75] = 20.873424697381957\n",
       " [5, 5,76] = 20.867693135417124\n",
       " [5, 5,77] = 20.861977363496703\n",
       " [5, 5,78] = 20.8562785171603\n",
       " [5, 5,79] = 20.85059744636359\n",
       " [5, 5,80] = 20.844935862483382\n",
       " [5, 5,81] = 20.839291872063868\n",
       " [5, 5,82] = 20.833662987499203\n",
       " [5, 5,83] = 20.8280492494338\n",
       " [5, 5,84] = 20.822450534388125\n",
       " [5, 5,85] = 20.81686431476324\n",
       " [5, 5,86] = 20.81128596841505\n",
       " [5, 5,87] = 20.805715461840165\n",
       " [5, 5,88] = 20.800152323567016\n",
       " [5, 5,89] = 20.79445605022297\n",
       " [5, 5,90] = 20.789077947174867\n",
       " [5, 5,91] = 20.784208495194466\n",
       " [5, 5,92] = 20.780713707755186\n",
       " [5, 5,93] = 20.77755058164984\n",
       " [5, 6, 1] = 21.936003717020075\n",
       " [5, 6, 2] = 21.88118267838109\n",
       " [5, 6, 3] = 21.830528328185224\n",
       " [5, 6, 4] = 21.78365949828525\n",
       " [5, 6, 5] = 21.74021954611354\n",
       " [5, 6, 6] = 21.69988558175686\n",
       " [5, 6, 7] = 21.66237154483413\n",
       " [5, 6, 8] = 21.627418281137164\n",
       " [5, 6, 9] = 21.59478972529768\n",
       " [5, 6,10] = 21.56427158168178\n",
       " [5, 6,11] = 21.535669916640387\n",
       " [5, 6,12] = 21.50880879878959\n",
       " [5, 6,13] = 21.483529676513\n",
       " [5, 6,14] = 21.459690133321693\n",
       " [5, 6,15] = 21.437159237230276\n",
       " [5, 6,16] = 21.41579238247429\n",
       " [5, 6,17] = 21.395509316611655\n",
       " [5, 6,18] = 21.376166615491826\n",
       " [5, 6,19] = 21.357704757259604\n",
       " [5, 6,20] = 21.3402113543916\n",
       " [5, 6,21] = 21.323467869252603\n",
       " [5, 6,22] = 21.307156394411226\n",
       " [5, 6,23] = 21.292003800003577\n",
       " [5, 6,24] = 21.278069211506043\n",
       " [5, 6,25] = 21.26542146602279\n",
       " [5, 6,26] = 21.253341593959522\n",
       " [5, 6,27] = 21.241663654740112\n",
       " [5, 6,28] = 21.230115397779695\n",
       " [5, 6,29] = 21.218899326235096\n",
       " [5, 6,30] = 21.208634935720667\n",
       " [5, 6,31] = 21.19920882404761\n",
       " [5, 6,32] = 21.18992041176956\n",
       " [5, 6,33] = 21.180483890090837\n",
       " [5, 6,34] = 21.171570952941455\n",
       " [5, 6,35] = 21.163280759309803\n",
       " [5, 6,36] = 21.155576359051512\n",
       " [5, 6,37] = 21.14843317180243\n",
       " [5, 6,38] = 21.141822939780706\n",
       " [5, 6,39] = 21.135717264373895\n",
       " [5, 6,40] = 21.13031748750874\n",
       " [5, 6,41] = 21.125052772074902\n",
       " [5, 6,42] = 21.120122864175002\n",
       " [5, 6,43] = 21.115643839235787\n",
       " [5, 6,44] = 21.110973463601294\n",
       " [5, 6,45] = 21.106603093875943\n",
       " [5, 6,46] = 21.102592355095936\n",
       " [5, 6,47] = 21.099052577240982\n",
       " [5, 6,48] = 21.095748295669996\n",
       " [5, 6,49] = 21.092754933321196\n",
       " [5, 6,50] = 21.090108432294805\n",
       " [5, 6,51] = 21.08730322671337\n",
       " [5, 6,52] = 21.084238982163804\n",
       " [5, 6,53] = 21.08089048725016\n",
       " [5, 6,54] = 21.077294306272492\n",
       " [5, 6,55] = 21.073437406756653\n",
       " [5, 6,56] = 21.069323923745245\n",
       " [5, 6,57] = 21.064960235309055\n",
       " [5, 6,58] = 21.060355443578757\n",
       " [5, 6,59] = 21.05551882690355\n",
       " [5, 6,60] = 21.050458023309147\n",
       " [5, 6,61] = 21.04518208704576\n",
       " [5, 6,62] = 21.039643877505533\n",
       " [5, 6,63] = 21.033948025359972\n",
       " [5, 6,64] = 21.028130225883874\n",
       " [5, 6,65] = 21.02220165150357\n",
       " [5, 6,66] = 21.016171583908147\n",
       " [5, 6,67] = 21.010050949501235\n",
       " [5, 6,68] = 21.003854140726943\n",
       " [5, 6,69] = 20.997591227061964\n",
       " [5, 6,70] = 20.991271099283676\n",
       " [5, 6,71] = 20.98490160645577\n",
       " [5, 6,72] = 20.978489635159\n",
       " [5, 6,73] = 20.972041902000417\n",
       " [5, 6,74] = 20.965565161175363\n",
       " [5, 6,75] = 20.95906430687678\n",
       " [5, 6,76] = 20.952543635689786\n",
       " [5, 6,77] = 20.94600689983684\n",
       " [5, 6,78] = 20.93945792105914\n",
       " [5, 6,79] = 20.932902656998213\n",
       " [5, 6,80] = 20.926339126780064\n",
       " [5, 6,81] = 20.919769063605365\n",
       " [5, 6,82] = 20.91319355318343\n",
       " [5, 6,83] = 20.906614038585364\n",
       " [5, 6,84] = 20.900031739916834\n",
       " [5, 6,85] = 20.89344697727432\n",
       " [5, 6,86] = 20.886859083250087\n",
       " [5, 6,87] = 20.8802684111288\n",
       " [5, 6,88] = 20.87367517552648\n",
       " [5, 6,89] = 20.86722874345077\n",
       " [5, 6,90] = 20.860571782440104\n",
       " [5, 6,91] = 20.853667978250318\n",
       " [5, 6,92] = 20.846291569972777\n",
       " [5, 6,93] = 20.839840754562317\n",
       " [5, 7, 1] = 20.032009457022614\n",
       " [5, 7, 2] = 19.628511843953863\n",
       " [5, 7, 3] = 19.492805761953313\n",
       " [5, 7, 4] = 19.412154696447477\n",
       " [5, 7, 5] = 19.344536390578067\n",
       " [5, 7, 6] = 19.27962126088387\n",
       " [5, 7, 7] = 19.217422804815666\n",
       " [5, 7, 8] = 19.15763940133713\n",
       " [5, 7, 9] = 19.099705076270705\n",
       " [5, 7,10] = 19.043029177762595\n",
       " [5, 7,11] = 19.000000910160225\n",
       " [5, 7,12] = 19.000001160325528\n",
       " [5, 7,13] = 19.00000135480571\n",
       " [5, 7,14] = 19.000001730181722\n",
       " [5, 7,15] = 19.00000234429105\n",
       " [5, 7,16] = 19.000005622680927\n",
       " [5, 7,17] = 19.00000533031341\n",
       " [5, 7,18] = 19.000007779257388\n",
       " [5, 7,19] = 19.000010591567843\n",
       " [5, 7,20] = 19.000013452828387\n",
       " [5, 7,21] = 19.00002062830047\n",
       " [5, 7,22] = 19.01731143696778\n",
       " [5, 7,23] = 19.136001335443915\n",
       " [5, 7,24] = 19.1036354777262\n",
       " [5, 7,25] = 20.000011744430587\n",
       " [5, 7,26] = 20.000012014315566\n",
       " [5, 7,27] = 20.000013507130266\n",
       " [5, 7,28] = 20.000016392224563\n",
       " [5, 7,29] = 20.000020723969225\n",
       " [5, 7,30] = 20.000025856841603\n",
       " [5, 7,31] = 20.00002858207844\n",
       " [5, 7,32] = 20.00003819120019\n",
       " [5, 7,33] = 20.001497869649192\n",
       " [5, 7,34] = 20.497795815772207\n",
       " [5, 7,35] = 20.665104640113334\n",
       " [5, 7,36] = 20.77008882260511\n",
       " [5, 7,37] = 20.909824908664923\n",
       " [5, 7,38] = 20.986168166609605\n",
       " [5, 7,39] = 20.816800081593723\n",
       " [5, 7,40] = 20.68828786523169\n",
       " [5, 7,41] = 20.65639551321191\n",
       " [5, 7,42] = 20.61390388966105\n",
       " [5, 7,43] = 20.55216993565442\n",
       " [5, 7,44] = 20.515219059686125\n",
       " [5, 7,45] = 20.925993556670914\n",
       " [5, 7,46] = 20.91185783681684\n",
       " [5, 7,47] = 20.2673117788287\n",
       " [5, 7,48] = 20.000024753969626\n",
       " [5, 7,49] = 20.000009636790107\n",
       " [5, 7,50] = 20.000005953744253\n",
       " [5, 7,51] = 20.000004305819886\n",
       " [5, 7,52] = 20.000003194743005\n",
       " [5, 7,53] = 20.00000246505141\n",
       " [5, 7,54] = 20.00000196007426\n",
       " [5, 7,55] = 20.00000157256856\n",
       " [5, 7,56] = 20.000001323782268\n",
       " [5, 7,57] = 20.000001123810762\n",
       " [5, 7,58] = 20.000001030644356\n",
       " [5, 7,59] = 20.000000931515768\n",
       " [5, 7,60] = 20.000000859857437\n",
       " [5, 7,61] = 20.000000822685085\n",
       " [5, 7,62] = 20.000000786202147\n",
       " [5, 7,63] = 20.00000074974677\n",
       " [5, 7,64] = 20.00000071139726\n",
       " [5, 7,65] = 20.00000067013675\n",
       " [5, 7,66] = 20.000000626268047\n",
       " [5, 7,67] = 20.000000575145364\n",
       " [5, 7,68] = 20.000000549275292\n",
       " [5, 7,69] = 20.00000056421015\n",
       " [5, 7,70] = 20.00000057756791\n",
       " [5, 7,71] = 20.000000593942048\n",
       " [5, 7,72] = 20.000000625941396\n",
       " [5, 7,73] = 20.00000069207238\n",
       " [5, 7,74] = 20.000000768553296\n",
       " [5, 7,75] = 20.000000866720967\n",
       " [5, 7,76] = 20.00000097537346\n",
       " [5, 7,77] = 20.000001077980308\n",
       " [5, 7,78] = 20.000001213512068\n",
       " [5, 7,79] = 20.00000140548558\n",
       " [5, 7,80] = 20.00000165384381\n",
       " [5, 7,81] = 20.000001784908584\n",
       " [5, 7,82] = 20.000001979894655\n",
       " [5, 7,83] = 20.000002241636185\n",
       " [5, 7,84] = 20.000002589350757\n",
       " [5, 7,85] = 20.000003012181686\n",
       " [5, 7,86] = 20.00000389173428\n",
       " [5, 7,87] = 20.00000541318526\n",
       " [5, 7,88] = 20.00001017206572\n",
       " [5, 7,89] = 19.379079477921962\n",
       " [5, 7,90] = 20.082223424276425\n",
       " [5, 7,91] = 20.953189410926377\n",
       " [5, 7,92] = 21.622357704794183\n",
       " [5, 7,93] = 21.52081058811175\n",
       " [5, 8, 1] = 19.982514225791462\n",
       " [5, 8, 2] = 19.579265825143377\n",
       " [5, 8, 3] = 19.44342985418171\n",
       " [5, 8, 4] = 19.36141254712887\n",
       " [5, 8, 5] = 19.292083042620618\n",
       " [5, 8, 6] = 19.22537290276053\n",
       " [5, 8, 7] = 19.161463920107703\n",
       " [5, 8, 8] = 19.100083579171855\n",
       " [5, 8, 9] = 19.04063399628861\n",
       " [5, 8,10] = 19.00000136268307\n",
       " [5, 8,11] = 19.000001694999895\n",
       " [5, 8,12] = 19.000002038777694\n",
       " [5, 8,13] = 19.00000247851018\n",
       " [5, 8,14] = 19.000003360556786\n",
       " [5, 8,15] = 19.000005055845147\n",
       " [5, 8,16] = 19.000029743594464\n",
       " [5, 8,17] = 19.0000239503346\n",
       " [5, 8,18] = 19.023730372051286\n",
       " [5, 8,19] = 19.319085857869624\n",
       " [5, 8,20] = 19.467670608942882\n",
       " [5, 8,21] = 19.683999941277587\n",
       " [5, 8,22] = 20.067663035481516\n",
       " [5, 8,23] = 20.1518239762493\n",
       " [5, 8,24] = 20.130602862035563\n",
       " [5, 8,25] = 20.02694922775328\n",
       " [5, 8,26] = 20.028999882172226\n",
       " [5, 8,27] = 20.08615702832554\n",
       " [5, 8,28] = 20.220221647787127\n",
       " [5, 8,29] = 20.340022271241903\n",
       " [5, 8,30] = 20.40037645987934\n",
       " [5, 8,31] = 20.401584804558894\n",
       " [5, 8,32] = 20.48466811218144\n",
       " [5, 8,33] = 20.688957761617715\n",
       " [5, 8,34] = 21.048655851889784\n",
       " [5, 8,35] = 21.15860078571479\n",
       " [5, 8,36] = 21.22806024176402\n",
       " [5, 8,37] = 21.319927836431035\n",
       " [5, 8,38] = 21.36980350608177\n",
       " [5, 8,39] = 21.25975577586495\n",
       " [5, 8,40] = 21.176576240647194\n",
       " [5, 8,41] = 21.15627813900962\n",
       " [5, 8,42] = 21.129021841010978\n",
       " [5, 8,43] = 21.08943797663712\n",
       " [5, 8,44] = 21.067226878383913\n",
       " [5, 8,45] = 21.335315375610566\n",
       " [5, 8,46] = 21.324773873197387\n",
       " [5, 8,47] = 20.903181053910515\n",
       " [5, 8,48] = 20.40480818913996\n",
       " [5, 8,49] = 20.000309680808282\n",
       " [5, 8,50] = 20.000019037524616\n",
       " [5, 8,51] = 20.00001046024875\n",
       " [5, 8,52] = 20.00000673312144\n",
       " [5, 8,53] = 20.000004784411008\n",
       " [5, 8,54] = 20.0000036065975\n",
       " [5, 8,55] = 20.000002782977873\n",
       " [5, 8,56] = 20.000002285943943\n",
       " [5, 8,57] = 20.00000190409589\n",
       " [5, 8,58] = 20.000001730375025\n",
       " [5, 8,59] = 20.000001549325162\n",
       " [5, 8,60] = 20.000001420595378\n",
       " [5, 8,61] = 20.00000135424682\n",
       " [5, 8,62] = 20.0000012896004\n",
       " [5, 8,63] = 20.000001225452664\n",
       " [5, 8,64] = 20.00000115846073\n",
       " [5, 8,65] = 20.000001086945478\n",
       " [5, 8,66] = 20.000001011515973\n",
       " [5, 8,67] = 20.00000092472267\n",
       " [5, 8,68] = 20.00000088123336\n",
       " [5, 8,69] = 20.00000090623441\n",
       " [5, 8,70] = 20.000000928661496\n",
       " [5, 8,71] = 20.00000095633153\n",
       " [5, 8,72] = 20.00000101075255\n",
       " [5, 8,73] = 20.000001123942532\n",
       " [5, 8,74] = 20.000001256527952\n",
       " [5, 8,75] = 20.000001429225097\n",
       " [5, 8,76] = 20.00000162376018\n",
       " [5, 8,77] = 20.00000181116989\n",
       " [5, 8,78] = 20.0000020641326\n",
       " [5, 8,79] = 20.000002432981965\n",
       " [5, 8,80] = 20.00000292876193\n",
       " [5, 8,81] = 20.000003200711507\n",
       " [5, 8,82] = 20.000003618010474\n",
       " [5, 8,83] = 20.000004204150986\n",
       " [5, 8,84] = 20.000005033204978\n",
       " [5, 8,85] = 20.000006132450203\n",
       " [5, 8,86] = 20.000008811839596\n",
       " [5, 8,87] = 20.000015556335477\n",
       " [5, 8,88] = 20.000347710114045\n",
       " [5, 8,89] = 20.28797052938036\n",
       " [5, 8,90] = 20.74821166987363\n",
       " [5, 8,91] = 21.317148431999758\n",
       " [5, 8,92] = 21.75280309283813\n",
       " [5, 8,93] = 21.687892145614814\n",
       " [5, 9, 1] = 20.01116881407965\n",
       " [5, 9, 2] = 19.574532830000148\n",
       " [5, 9, 3] = 19.42903194666337\n",
       " [5, 9, 4] = 19.347633783528764\n",
       " [5, 9, 5] = 19.281833885860145\n",
       " [5, 9, 6] = 19.219218971155584\n",
       " [5, 9, 7] = 19.159359606829206\n",
       " [5, 9, 8] = 19.101868546030794\n",
       " [5, 9, 9] = 19.046133532138565\n",
       " [5, 9,10] = 19.00000080626082\n",
       " [5, 9,11] = 19.000001015837004\n",
       " [5, 9,12] = 19.000001197024577\n",
       " [5, 9,13] = 19.00000141160877\n",
       " [5, 9,14] = 19.000001810202075\n",
       " [5, 9,15] = 19.000002451284\n",
       " [5, 9,16] = 19.00000604058123\n",
       " [5, 9,17] = 19.000005681149467\n",
       " [5, 9,18] = 19.000008395994836\n",
       " [5, 9,19] = 19.00001160977904\n",
       " [5, 9,20] = 19.000014932199466\n",
       " [5, 9,21] = 19.00002371408678\n",
       " [5, 9,22] = 19.055164434932426\n",
       " [5, 9,23] = 19.178254717628246\n",
       " [5, 9,24] = 19.1483627745186\n",
       " [5, 9,25] = 20.000012309443264\n",
       " [5, 9,26] = 20.000012547791908\n",
       " [5, 9,27] = 20.000014051780038\n",
       " [5, 9,28] = 20.000016974436164\n",
       " [5, 9,29] = 20.000021323897986\n",
       " [5, 9,30] = 20.000026341846894\n",
       " [5, 9,31] = 20.000028643720537\n",
       " [5, 9,32] = 20.000036539691585\n",
       " [5, 9,33] = 20.000477884205303\n",
       " [5, 9,34] = 20.435229125173024\n",
       " [5, 9,35] = 20.58877506945244\n",
       " [5, 9,36] = 20.68112002643908\n",
       " [5, 9,37] = 20.808100754270626\n",
       " [5, 9,38] = 20.87701263845767\n",
       " [5, 9,39] = 20.706908335625844\n",
       " [5, 9,40] = 20.57427350897659\n",
       " [5, 9,41] = 20.534642188035317\n",
       " [5, 9,42] = 20.48414453388032\n",
       " [5, 9,43] = 20.412891307238407\n",
       " [5, 9,44] = 20.358963834522438\n",
       " [5, 9,45] = 20.745700378129406\n",
       " [5, 9,46] = 20.731469982096222\n",
       " [5, 9,47] = 20.10980164070806\n",
       " [5, 9,48] = 20.00001935883489\n",
       " [5, 9,49] = 20.000008945825414\n",
       " [5, 9,50] = 20.000005759318668\n",
       " [5, 9,51] = 20.00000425196903\n",
       " [5, 9,52] = 20.000003201506154\n",
       " [5, 9,53] = 20.000002495883564\n",
       " [5, 9,54] = 20.000002000094376\n",
       " [5, 9,55] = 20.00000161359245\n",
       " [5, 9,56] = 20.000001363827675\n",
       " [5, 9,57] = 20.000001160355367\n",
       " [5, 9,58] = 20.00000106641466\n",
       " [5, 9,59] = 20.00000096536126\n",
       " [5, 9,60] = 20.00000089195336\n",
       " [5, 9,61] = 20.0000008543476\n",
       " [5, 9,62] = 20.000000817446455\n",
       " [5, 9,63] = 20.000000780605635\n",
       " [5, 9,64] = 20.00000074182105\n",
       " [5, 9,65] = 20.000000699975534\n",
       " [5, 9,66] = 20.000000655313443\n",
       " [5, 9,67] = 20.00000060218276\n",
       " [5, 9,68] = 20.00000057499442\n",
       " [5, 9,69] = 20.000000591109483\n",
       " [5, 9,70] = 20.000000605507967\n",
       " [5, 9,71] = 20.000000622836467\n",
       " [5, 9,72] = 20.000000656325362\n",
       " [5, 9,73] = 20.000000726065817\n",
       " [5, 9,74] = 20.000000806693023\n",
       " [5, 9,75] = 20.000000910542493\n",
       " [5, 9,76] = 20.000001025935028\n",
       " [5, 9,77] = 20.000001134660536\n",
       " [5, 9,78] = 20.000001278301895\n",
       " [5, 9,79] = 20.000001482730426\n",
       " [5, 9,80] = 20.000001750689993\n",
       " [5, 9,81] = 20.000001891826827\n",
       " [5, 9,82] = 20.000002102362785\n",
       " [5, 9,83] = 20.000002386064555\n",
       " [5, 9,84] = 20.00000276504603\n",
       " [5, 9,85] = 20.000003224719475\n",
       " [5, 9,86] = 20.00000419386049\n",
       " [5, 9,87] = 20.000005894728112\n",
       " [5, 9,88] = 20.00001158109552\n",
       " [5, 9,89] = 19.494398689839826\n",
       " [5, 9,90] = 20.16081166344324\n",
       " [5, 9,91] = 20.99372645576409\n",
       " [5, 9,92] = 21.641899396212857\n",
       " [5, 9,93] = 21.5364465895397\n",
       " [5,10, 1] = 19.973999979746967\n",
       " [5,10, 2] = 19.564737547932868\n",
       " [5,10, 3] = 19.42713860958587\n",
       " [5,10, 4] = 19.344749159586122\n",
       " [5,10, 5] = 19.27541610576249\n",
       " [5,10, 6] = 19.208782210793736\n",
       " [5,10, 7] = 19.144963107250444\n",
       " [5,10, 8] = 19.08367425887589\n",
       " [5,10, 9] = 19.024313630077806\n",
       " [5,10,10] = 19.000001545182833\n",
       " [5,10,11] = 19.000001687335747\n",
       " [5,10,12] = 19.00000204682961\n",
       " [5,10,13] = 19.000002492296936\n",
       " [5,10,14] = 19.000003383678685\n",
       " [5,10,15] = 19.000005094690927\n",
       " [5,10,16] = 19.000031272763195\n",
       " [5,10,17] = 19.000024914067097\n",
       " [5,10,18] = 19.033072483966652\n",
       " [5,10,19] = 19.32939009488993\n",
       " [5,10,20] = 19.476654719057677\n",
       " [5,10,21] = 19.691036717853457\n",
       " [5,10,22] = 20.0726166818186\n",
       " [5,10,23] = 20.15637977577833\n",
       " [5,10,24] = 20.135418214567178\n",
       " [5,10,25] = 20.031019978409816\n",
       " [5,10,26] = 20.032949972965362\n",
       " [5,10,27] = 20.090273540922947\n",
       " [5,10,28] = 20.22329202920859\n",
       " [5,10,29] = 20.342193633023484\n",
       " [5,10,30] = 20.40199892060665\n",
       " [5,10,31] = 20.402674886108727\n",
       " [5,10,32] = 20.484468471104968\n",
       " [5,10,33] = 20.686563587413602\n",
       " [5,10,34] = 21.04381936559735\n",
       " [5,10,35] = 21.15255209570635\n",
       " [5,10,36] = 21.220915959686245\n",
       " [5,10,37] = 21.311678839854395\n",
       " [5,10,38] = 21.36095103310911\n",
       " [5,10,39] = 21.25094865983192\n",
       " [5,10,40] = 21.16750360463614\n",
       " [5,10,41] = 21.14660107618367\n",
       " [5,10,42] = 21.118721885085158\n",
       " [5,10,43] = 21.07838349024508\n",
       " [5,10,44] = 21.05473552822782\n",
       " [5,10,45] = 21.320690495209565\n",
       " [5,10,46] = 21.310263739054154\n",
       " [5,10,47] = 20.89094286761971\n",
       " [5,10,48] = 20.395272848734262\n",
       " [5,10,49] = 20.000272768785972\n",
       " [5,10,50] = 20.000018934891035\n",
       " [5,10,51] = 20.00001045613138\n",
       " [5,10,52] = 20.00000674585772\n",
       " [5,10,53] = 20.000004799893645\n",
       " [5,10,54] = 20.000003621643106\n",
       " [5,10,55] = 20.000002796241898\n",
       " [5,10,56] = 20.00000229784782\n",
       " [5,10,57] = 20.000001914354804\n",
       " [5,10,58] = 20.000001740124166\n",
       " [5,10,59] = 20.000001558294358\n",
       " [5,10,60] = 20.000001428943982\n",
       " [5,10,61] = 20.000001362390073\n",
       " [5,10,62] = 20.000001297545158\n",
       " [5,10,63] = 20.00000123320885\n",
       " [5,10,64] = 20.0000011660169\n",
       " [5,10,65] = 20.000001094262217\n",
       " [5,10,66] = 20.00000101854312\n",
       " [5,10,67] = 20.00000093118392\n",
       " [5,10,68] = 20.000000887343724\n",
       " [5,10,69] = 20.00000091262527\n",
       " [5,10,70] = 20.000000935299255\n",
       " [5,10,71] = 20.000000963205355\n",
       " [5,10,72] = 20.000001018018306\n",
       " [5,10,73] = 20.000001132154253\n",
       " [5,10,74] = 20.00000126585554\n",
       " [5,10,75] = 20.000001440110502\n",
       " [5,10,76] = 20.00000163653396\n",
       " [5,10,77] = 20.0000018257335\n",
       " [5,10,78] = 20.00000208117046\n",
       " [5,10,79] = 20.000002453975608\n",
       " [5,10,80] = 20.000002956183675\n",
       " [5,10,81] = 20.000003231680427\n",
       " [5,10,82] = 20.00000365475211\n",
       " [5,10,83] = 20.0000042496717\n",
       " [5,10,84] = 20.000005092549745\n",
       " [5,10,85] = 20.000006211247943\n",
       " [5,10,86] = 20.000008951690642\n",
       " [5,10,87] = 20.000015934942795\n",
       " [5,10,88] = 20.000458914919548\n",
       " [5,10,89] = 20.298889693533926\n",
       " [5,10,90] = 20.755662092326364\n",
       " [5,10,91] = 21.320997131326532\n",
       " [5,10,92] = 21.754645061162698\n",
       " [5,10,93] = 21.689387093406527\n",
       " [5,11, 1] = 21.584181218987638\n",
       " [5,11, 2] = 21.23739754964621\n",
       " [5,11, 3] = 20.94106318334292\n",
       " [5,11, 4] = 20.685765174054026\n",
       " [5,11, 5] = 20.463848875378222\n",
       " [5,11, 6] = 20.268993045847697\n",
       " [5,11, 7] = 20.096305115902858\n",
       " [5,11, 8] = 19.94184867439751\n",
       " [5,11, 9] = 19.80245901382462\n",
       " [5,11,10] = 19.675464531300467\n",
       " [5,11,11] = 19.558812572173487\n",
       " [5,11,12] = 19.450823865045606\n",
       " [5,11,13] = 19.35041322058813\n",
       " [5,11,14] = 19.257004445486064\n",
       " [5,11,15] = 19.169584261990078\n",
       " [5,11,16] = 19.08723277860926\n",
       " [5,11,17] = 19.009335705204784\n",
       " [5,11,18] = 19.000005056840298\n",
       " [5,11,19] = 19.000009281006463\n",
       " [5,11,20] = 19.000009512147102\n",
       " [5,11,21] = 19.000007796422068\n",
       " [5,11,22] = 19.88658487145259\n",
       " [5,11,23] = 20.63662278263197\n",
       " [5,11,24] = 21.02898097736721\n",
       " [5,11,25] = 20.622304285419016\n",
       " [5,11,26] = 20.27739233479112\n",
       " [5,11,27] = 20.000014069567083\n",
       " [5,11,28] = 20.17558752052754\n",
       " [5,11,29] = 20.84561487285415\n",
       " [5,11,30] = 20.993481719262228\n",
       " [5,11,31] = 20.597468268218318\n",
       " [5,11,32] = 20.264515035703994\n",
       " [5,11,33] = 20.95046144588593\n",
       " [5,11,34] = 21.554501474578498\n",
       " [5,11,35] = 22.0731810949358\n",
       " [5,11,36] = 22.522027136370838\n",
       " [5,11,37] = 22.91341824600425\n",
       " [5,11,38] = 23.257307539037615\n",
       " [5,11,39] = 23.561944445989816\n",
       " [5,11,40] = 23.407778473065697\n",
       " [5,11,41] = 23.46037823197632\n",
       " [5,11,42] = 23.465256302971266\n",
       " [5,11,43] = 23.071060314573373\n",
       " [5,11,44] = 23.31469929877992\n",
       " [5,11,45] = 23.67953686998208\n",
       " [5,11,46] = 23.99999190192724\n",
       " [5,11,47] = 23.999995526437658\n",
       " [5,11,48] = 23.99999358059192\n",
       " [5,11,49] = 23.657857991886477\n",
       " [5,11,50] = 23.032384065949252\n",
       " [5,11,51] = 22.508038914999627\n",
       " [5,11,52] = 22.06969974293919\n",
       " [5,11,53] = 21.69841615759641\n",
       " [5,11,54] = 21.38166882965583\n",
       " [5,11,55] = 21.10970822061211\n",
       " [5,11,56] = 20.87468017570806\n",
       " [5,11,57] = 20.67005759539142\n",
       " [5,11,58] = 20.490501153940972\n",
       " [5,11,59] = 20.331372438340207\n",
       " [5,11,60] = 20.188553321647557\n",
       " [5,11,61] = 20.05904003090083\n",
       " [5,11,62] = 20.000001131853317\n",
       " [5,11,63] = 20.00000103200509\n",
       " [5,11,64] = 20.000001004776156\n",
       " [5,11,65] = 20.00000097829725\n",
       " [5,11,66] = 20.00000093155115\n",
       " [5,11,67] = 20.00000062481326\n",
       " [5,11,68] = 20.000000444723728\n",
       " [5,11,69] = 20.000000456069042\n",
       " [5,11,70] = 20.00000044905544\n",
       " [5,11,71] = 20.000000417734896\n",
       " [5,11,72] = 20.000000388679922\n",
       " [5,11,73] = 20.00000042174819\n",
       " [5,11,74] = 20.000000453234758\n",
       " [5,11,75] = 20.000000514734865\n",
       " [5,11,76] = 20.00000059564164\n",
       " [5,11,77] = 20.000000624282634\n",
       " [5,11,78] = 20.000000661724997\n",
       " [5,11,79] = 20.000000760762347\n",
       " [5,11,80] = 20.00000105532065\n",
       " [5,11,81] = 20.000001055502167\n",
       " [5,11,82] = 20.000001105999438\n",
       " [5,11,83] = 20.000001187450067\n",
       " [5,11,84] = 20.000001301133196\n",
       " [5,11,85] = 20.000001263525377\n",
       " [5,11,86] = 20.00000143059126\n",
       " [5,11,87] = 20.0000015522361\n",
       " [5,11,88] = 20.000001082014027\n",
       " [5,11,89] = 19.73797065576874\n",
       " [5,11,90] = 19.513524970522028\n",
       " [5,11,91] = 19.318685775415208\n",
       " [5,11,92] = 20.138467852409537\n",
       " [5,11,93] = 19.835940813652616\n",
       " [5,12, 1] = 21.568239083809207\n",
       " [5,12, 2] = 21.207469273807106\n",
       " [5,12, 3] = 20.899398888153197\n",
       " [5,12, 4] = 20.634524531685162\n",
       " [5,12, 5] = 20.404835063262937\n",
       " [5,12, 6] = 20.20348122957842\n",
       " [5,12, 7] = 20.0253933340205\n",
       " [5,12, 8] = 19.86646331419168\n",
       " [5,12, 9] = 19.723292541127254\n",
       " [5,12,10] = 19.593039337463388\n",
       " [5,12,11] = 19.473524882661287\n",
       " [5,12,12] = 19.362977782365924\n",
       " [5,12,13] = 19.260245819274168\n",
       " [5,12,14] = 19.16471058509852\n",
       " [5,12,15] = 19.07534375448026\n",
       " [5,12,16] = 19.000005207744977\n",
       " [5,12,17] = 19.000004066010547\n",
       " [5,12,18] = 19.00001480746757\n",
       " [5,12,19] = 19.418631251828906\n",
       " [5,12,20] = 19.467476348424793\n",
       " [5,12,21] = 19.996899494829314\n",
       " [5,12,22] = 20.44358272548885\n",
       " [5,12,23] = 20.82122343762401\n",
       " [5,12,24] = 21.14247039995385\n",
       " [5,12,25] = 21.098374279862732\n",
       " [5,12,26] = 20.83580656096151\n",
       " [5,12,27] = 20.672945311988418\n",
       " [5,12,28] = 21.021349921988364\n",
       " [5,12,29] = 21.329380222196715\n",
       " [5,12,30] = 21.59151133598993\n",
       " [5,12,31] = 21.241880328573174\n",
       " [5,12,32] = 21.458966718672677\n",
       " [5,12,33] = 21.7171655380217\n",
       " [5,12,34] = 21.940399378733623\n",
       " [5,12,35] = 22.135337597162\n",
       " [5,12,36] = 22.307638702751294\n",
       " [5,12,37] = 22.461473179266186\n",
       " [5,12,38] = 22.600050356600484\n",
       " [5,12,39] = 22.72612816419418\n",
       " [5,12,40] = 22.841255269879944\n",
       " [5,12,41] = 22.94850070178633\n",
       " [5,12,42] = 23.048454801978036\n",
       " [5,12,43] = 23.141923756105907\n",
       " [5,12,44] = 23.23120368150562\n",
       " [5,12,45] = 23.315730632649842\n",
       " [5,12,46] = 23.396174563062484\n",
       " [5,12,47] = 23.472765475341472\n",
       " [5,12,48] = 23.54623907458329\n",
       " [5,12,49] = 23.616873105379867\n",
       " [5,12,50] = 23.24329414130431\n",
       " [5,12,51] = 22.666822768223774\n",
       " [5,12,52] = 22.18368145868552\n",
       " [5,12,53] = 21.77625860387207\n",
       " [5,12,54] = 21.430126581162593\n",
       " [5,12,55] = 21.134063003128748\n",
       " [5,12,56] = 20.879003195099866\n",
       " [5,12,57] = 20.657528505089033\n",
       " [5,12,58] = 20.463618305113265\n",
       " [5,12,59] = 20.292162911430257\n",
       " [5,12,60] = 20.138735438237948\n",
       " [5,12,61] = 20.000002720073873\n",
       " [5,12,62] = 20.000001801074642\n",
       " [5,12,63] = 20.000001725707087\n",
       " [5,12,64] = 20.000001679966935\n",
       " [5,12,65] = 20.000001628219177\n",
       " [5,12,66] = 20.000001538210494\n",
       " [5,12,67] = 20.000001012183635\n",
       " [5,12,68] = 20.000000712680148\n",
       " [5,12,69] = 20.000000730424134\n",
       " [5,12,70] = 20.000000718908755\n",
       " [5,12,71] = 20.00000066749218\n",
       " [5,12,72] = 20.000000620626086\n",
       " [5,12,73] = 20.0000006756047\n",
       " [5,12,74] = 20.000000728072468\n",
       " [5,12,75] = 20.00000083134481\n",
       " [5,12,76] = 20.000000968178576\n",
       " [5,12,77] = 20.000001018780573\n",
       " [5,12,78] = 20.00000108530412\n",
       " [5,12,79] = 20.00000125920609\n",
       " [5,12,80] = 20.000001785650948\n",
       " [5,12,81] = 20.00000179044519\n",
       " [5,12,82] = 20.000001885980907\n",
       " [5,12,83] = 20.000002040473117\n",
       " [5,12,84] = 20.00000225860379\n",
       " [5,12,85] = 20.000002192803024\n",
       " [5,12,86] = 20.00000252153412\n",
       " [5,12,87] = 20.000002773843846\n",
       " [5,12,88] = 20.000002501180575\n",
       " [5,12,89] = 19.724554892414936\n",
       " [5,12,90] = 19.487585763436005\n",
       " [5,12,91] = 19.991597641122056\n",
       " [5,12,92] = 20.415006006064313\n",
       " [5,12,93] = 20.362504974336094\n",
       " [5,13, 1] = 21.585140414469233\n",
       " [5,13, 2] = 21.239094999212263\n",
       " [5,13, 3] = 20.941046343264315\n",
       " [5,13, 4] = 20.682552858244737\n",
       " [5,13, 5] = 20.456618533676227\n",
       " [5,13, 6] = 20.25734353019043\n",
       " [5,13, 7] = 20.08017953964756\n",
       " [5,13, 8] = 19.921418946091045\n",
       " [5,13, 9] = 19.77802675088796\n",
       " [5,13,10] = 19.647408222892892\n",
       " [5,13,11] = 19.527552358523238\n",
       " [5,13,12] = 19.416795262356707\n",
       " [5,13,13] = 19.31405411032047\n",
       " [5,13,14] = 19.21874924707234\n",
       " [5,13,15] = 19.129846873332163\n",
       " [5,13,16] = 19.046437136539918\n",
       " [5,13,17] = 19.000001978759105\n",
       " [5,13,18] = 19.000005530411762\n",
       " [5,13,19] = 19.00000982110155\n",
       " [5,13,20] = 19.000009764709763\n",
       " [5,13,21] = 19.000008038666092\n",
       " [5,13,22] = 19.88913033960301\n",
       " [5,13,23] = 20.648667760215456\n",
       " [5,13,24] = 21.00644468816682\n",
       " [5,13,25] = 20.61603448609839\n",
       " [5,13,26] = 20.282083976965243\n",
       " [5,13,27] = 20.00001522188952\n",
       " [5,13,28] = 20.14501161615588\n",
       " [5,13,29] = 20.804188712443842\n",
       " [5,13,30] = 20.90333891595477\n",
       " [5,13,31] = 20.53256962386838\n",
       " [5,13,32] = 20.217386218230004\n",
       " [5,13,33] = 20.69567563874647\n",
       " [5,13,34] = 21.352186695148674\n",
       " [5,13,35] = 21.918616147182405\n",
       " [5,13,36] = 22.410316925195826\n",
       " [5,13,37] = 22.83980440820364\n",
       " [5,13,38] = 23.21724583464148\n",
       " [5,13,39] = 23.5510576822484\n",
       " [5,13,40] = 23.20938336668666\n",
       " [5,13,41] = 23.254096668205214\n",
       " [5,13,42] = 23.25160349640247\n",
       " [5,13,43] = 22.86542823414745\n",
       " [5,13,44] = 23.28714322442101\n",
       " [5,13,45] = 23.666158762818625\n",
       " [5,13,46] = 23.99998898139735\n",
       " [5,13,47] = 23.999995043370895\n",
       " [5,13,48] = 23.999993091174883\n",
       " [5,13,49] = 23.92642357040821\n",
       " [5,13,50] = 23.263700107625898\n",
       " [5,13,51] = 22.702797234167072\n",
       " [5,13,52] = 22.228832068596127\n",
       " [5,13,53] = 21.824044843949572\n",
       " [5,13,54] = 21.47614138864477\n",
       " [5,13,55] = 21.175452942036767\n",
       " [5,13,56] = 20.914044726740038\n",
       " [5,13,57] = 20.685317220107233\n",
       " [5,13,58] = 20.48381481948083\n",
       " [5,13,59] = 20.304926926210587\n",
       " [5,13,60] = 20.144715506424824\n",
       " [5,13,61] = 20.000002559321896\n",
       " [5,13,62] = 20.00000111545633\n",
       " [5,13,63] = 20.00000107664747\n",
       " [5,13,64] = 20.0000010589585\n",
       " [5,13,65] = 20.000001038628\n",
       " [5,13,66] = 20.000000994716284\n",
       " [5,13,67] = 20.00000065606567\n",
       " [5,13,68] = 20.000000461178132\n",
       " [5,13,69] = 20.000000473404068\n",
       " [5,13,70] = 20.000000465783945\n",
       " [5,13,71] = 20.00000043186714\n",
       " [5,13,72] = 20.000000400268895\n",
       " [5,13,73] = 20.00000043425198\n",
       " [5,13,74] = 20.000000466361243\n",
       " [5,13,75] = 20.00000053010139\n",
       " [5,13,76] = 20.00000061449497\n",
       " [5,13,77] = 20.00000064339524\n",
       " [5,13,78] = 20.000000681218584\n",
       " [5,13,79] = 20.000000783738233\n",
       " [5,13,80] = 20.00000109586533\n",
       " [5,13,81] = 20.000001094032044\n",
       " [5,13,82] = 20.000001145442965\n",
       " [5,13,83] = 20.000001229313995\n",
       " [5,13,84] = 20.000001346899676\n",
       " [5,13,85] = 20.00000130193194\n",
       " [5,13,86] = 20.000001472192615\n",
       " [5,13,87] = 20.00000159191802\n",
       " [5,13,88] = 20.00000111046454\n",
       " [5,13,89] = 19.73939182878434\n",
       " [5,13,90] = 19.514143680924423\n",
       " [5,13,91] = 19.317235615748505\n",
       " [5,13,92] = 20.139349010441954\n",
       " [5,13,93] = 19.84098879261194\n",
       " [5,14, 1] = 21.568227338575827\n",
       " [5,14, 2] = 21.206610881139245\n",
       " [5,14, 3] = 20.897602413682016\n",
       " [5,14, 4] = 20.63175847804087\n",
       " [5,14, 5] = 20.401111563538734\n",
       " [5,14, 6] = 20.198842849950207\n",
       " [5,14, 7] = 20.019899415311293\n",
       " [5,14, 8] = 19.860182458777032\n",
       " [5,14, 9] = 19.716297886318216\n",
       " [5,14,10] = 19.585404256503658\n",
       " [5,14,11] = 19.46532036212996\n",
       " [5,14,12] = 19.35427074194919\n",
       " [5,14,13] = 19.251098450246044\n",
       " [5,14,14] = 19.15518022273951\n",
       " [5,14,15] = 19.065482242665688\n",
       " [5,14,16] = 19.00029505896227\n",
       " [5,14,17] = 19.00000438994343\n",
       " [5,14,18] = 19.000015113226635\n",
       " [5,14,19] = 19.425025968253635\n",
       " [5,14,20] = 19.473238052662495\n",
       " [5,14,21] = 20.001167293141478\n",
       " [5,14,22] = 20.447065521036983\n",
       " [5,14,23] = 20.82442940882498\n",
       " [5,14,24] = 21.14573769218139\n",
       " [5,14,25] = 21.101444542658395\n",
       " [5,14,26] = 20.838636399218142\n",
       " [5,14,27] = 20.674489253993997\n",
       " [5,14,28] = 21.022461712772742\n",
       " [5,14,29] = 21.330919009940075\n",
       " [5,14,30] = 21.59355885938599\n",
       " [5,14,31] = 21.242134991832298\n",
       " [5,14,32] = 21.453931172707577\n",
       " [5,14,33] = 21.71371567301338\n",
       " [5,14,34] = 21.938429244452713\n",
       " [5,14,35] = 22.134640497236166\n",
       " [5,14,36] = 22.30795106647606\n",
       " [5,14,37] = 22.462534740305273\n",
       " [5,14,38] = 22.601608049135997\n",
       " [5,14,39] = 22.72795561092258\n",
       " [5,14,40] = 22.843174488447815\n",
       " [5,14,41] = 22.95032840221654\n",
       " [5,14,42] = 23.05003095459295\n",
       " [5,14,43] = 23.143106654898034\n",
       " [5,14,44] = 23.231871007464193\n",
       " [5,14,45] = 23.315783710645338\n",
       " [5,14,46] = 23.395513405620594\n",
       " [5,14,47] = 23.471320385399174\n",
       " [5,14,48] = 23.54399213806276\n",
       " [5,14,49] = 23.6138042864445\n",
       " [5,14,50] = 23.33755050096137\n",
       " [5,14,51] = 22.744816266457132\n",
       " [5,14,52] = 22.247765600439557\n",
       " [5,14,53] = 21.828409956879117\n",
       " [5,14,54] = 21.4720260511485\n",
       " [5,14,55] = 21.167130274948928\n",
       " [5,14,56] = 20.904425749304288\n",
       " [5,14,57] = 20.676310482141623\n",
       " [5,14,58] = 20.476607912333204\n",
       " [5,14,59] = 20.300117730983573\n",
       " [5,14,60] = 20.142383082017933\n",
       " [5,14,61] = 20.000001980871644\n",
       " [5,14,62] = 20.00000180158338\n",
       " [5,14,63] = 20.000001733110775\n",
       " [5,14,64] = 20.000001688661463\n",
       " [5,14,65] = 20.00000163803673\n",
       " [5,14,66] = 20.000001548502837\n",
       " [5,14,67] = 20.000001017131193\n",
       " [5,14,68] = 20.000000715234812\n",
       " [5,14,69] = 20.000000733139267\n",
       " [5,14,70] = 20.000000721532057\n",
       " [5,14,71] = 20.00000066972378\n",
       " [5,14,72] = 20.000000622436122\n",
       " [5,14,73] = 20.000000677575386\n",
       " [5,14,74] = 20.000000730135806\n",
       " [5,14,75] = 20.000000833789084\n",
       " [5,14,76] = 20.00000097122094\n",
       " [5,14,77] = 20.000001021869096\n",
       " [5,14,78] = 20.000001088456273\n",
       " [5,14,79] = 20.00000126298248\n",
       " [5,14,80] = 20.000001792637836\n",
       " [5,14,81] = 20.000001797109316\n",
       " [5,14,82] = 20.000001892884395\n",
       " [5,14,83] = 20.000002047930483\n",
       " [5,14,84] = 20.000002266957935\n",
       " [5,14,85] = 20.00000219979744\n",
       " [5,14,86] = 20.000002529372473\n",
       " [5,14,87] = 20.000002781570796\n",
       " [5,14,88] = 20.000002511953124\n",
       " [5,14,89] = 19.7238625687208\n",
       " [5,14,90] = 19.486147662387395\n",
       " [5,14,91] = 19.989758692060057\n",
       " [5,14,92] = 20.4132827697576\n",
       " [5,14,93] = 20.36333540056349\n",
       " [5,15, 1] = 19.576278014795125\n",
       " [5,15, 2] = 19.064254008257837\n",
       " [5,15, 3] = 19.000000718598447\n",
       " [5,15, 4] = 19.00000073595586\n",
       " [5,15, 5] = 19.00000076615142\n",
       " [5,15, 6] = 19.00000082343685\n",
       " [5,15, 7] = 19.000000877720073\n",
       " [5,15, 8] = 19.00000092908468\n",
       " [5,15, 9] = 19.00000093782359\n",
       " [5,15,10] = 19.00000101293715\n",
       " [5,15,11] = 19.00000117706097\n",
       " [5,15,12] = 19.00000149026207\n",
       " [5,15,13] = 19.000001891257085\n",
       " [5,15,14] = 19.000002782844334\n",
       " [5,15,15] = 19.000004943351165\n",
       " [5,15,16] = 19.69850942313769\n",
       " [5,15,17] = 19.713456264104963\n",
       " [5,15,18] = 20.51488828417058\n",
       " [5,15,19] = 21.004847179422402\n",
       " [5,15,20] = 21.26127882677503\n",
       " [5,15,21] = 21.623551530386322\n",
       " [5,15,22] = 22.248409974428537\n",
       " [5,15,23] = 22.41629580712084\n",
       " [5,15,24] = 22.423552194795125\n",
       " [5,15,25] = 22.295030535917938\n",
       " [5,15,26] = 22.338190840820932\n",
       " [5,15,27] = 22.472018013519918\n",
       " [5,15,28] = 22.71926539111508\n",
       " [5,15,29] = 22.945913451252878\n",
       " [5,15,30] = 23.082310873324026\n",
       " [5,15,31] = 23.127445421258425\n",
       " [5,15,32] = 23.296993379955346\n",
       " [5,15,33] = 23.651512341073282\n",
       " [5,15,34] = 23.999998198184677\n",
       " [5,15,35] = 23.999974809645497\n",
       " [5,15,36] = 23.99998012235999\n",
       " [5,15,37] = 23.99998407223401\n",
       " [5,15,38] = 23.999985939948406\n",
       " [5,15,39] = 23.999983454647904\n",
       " [5,15,40] = 23.999982018608893\n",
       " [5,15,41] = 23.99998156624075\n",
       " [5,15,42] = 23.999981025690893\n",
       " [5,15,43] = 23.999980521868192\n",
       " [5,15,44] = 23.99997875082585\n",
       " [5,15,45] = 23.99998778924953\n",
       " [5,15,46] = 23.99998781225779\n",
       " [5,15,47] = 23.9999676173548\n",
       " [5,15,48] = 23.643203912173462\n",
       " [5,15,49] = 22.85227488890513\n",
       " [5,15,50] = 22.022562887875033\n",
       " [5,15,51] = 21.179874672359283\n",
       " [5,15,52] = 20.118731398963856\n",
       " [5,15,53] = 20.000010987162916\n",
       " [5,15,54] = 20.00000499921163\n",
       " [5,15,55] = 20.000003019835148\n",
       " [5,15,56] = 20.00000218756601\n",
       " [5,15,57] = 20.000001669285876\n",
       " [5,15,58] = 20.000001453579642\n",
       " [5,15,59] = 20.000001249326683\n",
       " [5,15,60] = 20.000001111301096\n",
       " [5,15,61] = 20.000001038576503\n",
       " [5,15,62] = 20.00000097056596\n",
       " [5,15,63] = 20.000000906162803\n",
       " [5,15,64] = 20.000000842254824\n",
       " [5,15,65] = 20.00000077748051\n",
       " [5,15,66] = 20.000000712395334\n",
       " [5,15,67] = 20.000000641282494\n",
       " [5,15,68] = 20.00000060404016\n",
       " [5,15,69] = 20.000000616741783\n",
       " [5,15,70] = 20.00000062728778\n",
       " [5,15,71] = 20.000000641125265\n",
       " [5,15,72] = 20.000000672762546\n",
       " [5,15,73] = 20.000000743178784\n",
       " [5,15,74] = 20.000000824679056\n",
       " [5,15,75] = 20.00000093013271\n",
       " [5,15,76] = 20.000001046238506\n",
       " [5,15,77] = 20.00000115292962\n",
       " [5,15,78] = 20.000001294308056\n",
       " [5,15,79] = 20.00000149750604\n",
       " [5,15,80] = 20.000001761076202\n",
       " [5,15,81] = 20.00000188769496\n",
       " [5,15,82] = 20.000002081868644\n",
       " [5,15,83] = 20.000002344366777\n",
       " [5,15,84] = 20.000002693534984\n",
       " [5,15,85] = 20.00000311457917\n",
       " [5,15,86] = 20.000004010385723\n",
       " [5,15,87] = 20.000005564290895\n",
       " [5,15,88] = 20.000010543567935\n",
       " [5,15,89] = 19.40646881532086\n",
       " [5,15,90] = 20.09651661043268\n",
       " [5,15,91] = 20.95935508458627\n",
       " [5,15,92] = 21.62496039420522\n",
       " [5,15,93] = 21.52165880498034\n",
       " [5,16, 1] = 19.513515008529538\n",
       " [5,16, 2] = 19.000000466503284\n",
       " [5,16, 3] = 19.00000119903789\n",
       " [5,16, 4] = 19.000001236413656\n",
       " [5,16, 5] = 19.00000129250448\n",
       " [5,16, 6] = 19.000001398821112\n",
       " [5,16, 7] = 19.000001500659078\n",
       " [5,16, 8] = 19.000001597776134\n",
       " [5,16, 9] = 19.00000161402225\n",
       " [5,16,10] = 19.000001760555712\n",
       " [5,16,11] = 19.000002092125268\n",
       " [5,16,12] = 19.00000276604176\n",
       " [5,16,13] = 19.000003724736477\n",
       " [5,16,14] = 19.000006342617098\n",
       " [5,16,15] = 19.00001927403515\n",
       " [5,16,16] = 20.46363708281871\n",
       " [5,16,17] = 20.475662230581158\n",
       " [5,16,18] = 21.000487589946477\n",
       " [5,16,19] = 21.320659499771416\n",
       " [5,16,20] = 21.488959842737035\n",
       " [5,16,21] = 21.727226446884725\n",
       " [5,16,22] = 22.135057854835146\n",
       " [5,16,23] = 22.244092232462663\n",
       " [5,16,24] = 22.247848524210394\n",
       " [5,16,25] = 22.16365197181831\n",
       " [5,16,26] = 22.19192885869451\n",
       " [5,16,27] = 22.279924523994783\n",
       " [5,16,28] = 22.441868868252122\n",
       " [5,16,29] = 22.59006885147278\n",
       " [5,16,30] = 22.67925533072863\n",
       " [5,16,31] = 22.709538477377404\n",
       " [5,16,32] = 22.822145791835393\n",
       " [5,16,33] = 23.056414107861052\n",
       " [5,16,34] = 23.446551364990164\n",
       " [5,16,35] = 23.586427479717667\n",
       " [5,16,36] = 23.68528406677409\n",
       " [5,16,37] = 23.8058917535624\n",
       " [5,16,38] = 23.883411497353237\n",
       " [5,16,39] = 23.79982484578266\n",
       " [5,16,40] = 23.741558675936282\n",
       " [5,16,41] = 23.744638051885598\n",
       " [5,16,42] = 23.738966042562577\n",
       " [5,16,43] = 23.718965429086605\n",
       " [5,16,44] = 23.714184310039993\n",
       " [5,16,45] = 23.985508133405673\n",
       " [5,16,46] = 23.986472689020182\n",
       " [5,16,47] = 23.5865005491148\n",
       " [5,16,48] = 23.09211670024669\n",
       " [5,16,49] = 22.577614799713572\n",
       " [5,16,50] = 22.037156720455826\n",
       " [5,16,51] = 21.487163547085917\n",
       " [5,16,52] = 20.793229370962113\n",
       " [5,16,53] = 20.009504381203122\n",
       " [5,16,54] = 20.00001323678115\n",
       " [5,16,55] = 20.0000061638894\n",
       " [5,16,56] = 20.00000408613458\n",
       " [5,16,57] = 20.000002963710525\n",
       " [5,16,58] = 20.000002527251134\n",
       " [5,16,59] = 20.000002130784125\n",
       " [5,16,60] = 20.00000187145945\n",
       " [5,16,61] = 20.000001736965437\n",
       " [5,16,62] = 20.000001613078172\n",
       " [5,16,63] = 20.000001496739888\n",
       " [5,16,64] = 20.0000013825964\n",
       " [5,16,65] = 20.00000126829108\n",
       " [5,16,66] = 20.000001154797086\n",
       " [5,16,67] = 20.00000103295062\n",
       " [5,16,68] = 20.000000969993245\n",
       " [5,16,69] = 20.00000099122922\n",
       " [5,16,70] = 20.000001008907407\n",
       " [5,16,71] = 20.00000103236304\n",
       " [5,16,72] = 20.000001086426384\n",
       " [5,16,73] = 20.00000120736607\n",
       " [5,16,74] = 20.000001349274818\n",
       " [5,16,75] = 20.000001535723815\n",
       " [5,16,76] = 20.00000174480676\n",
       " [5,16,77] = 20.000001941261665\n",
       " [5,16,78] = 20.00000220765153\n",
       " [5,16,79] = 20.000002601745003\n",
       " [5,16,80] = 20.000003133596472\n",
       " [5,16,81] = 20.000003399608882\n",
       " [5,16,82] = 20.00000382027573\n",
       " [5,16,83] = 20.00000441561344\n",
       " [5,16,84] = 20.000005259540856\n",
       " [5,16,85] = 20.000006371951063\n",
       " [5,16,86] = 20.000009160036438\n",
       " [5,16,87] = 20.0000163490418\n",
       " [5,16,88] = 20.000566154011082\n",
       " [5,16,89] = 20.29998423373981\n",
       " [5,16,90] = 20.753590952269867\n",
       " [5,16,91] = 21.31940016098546\n",
       " [5,16,92] = 21.753734433125647\n",
       " [5,16,93] = 21.68783772181174\n",
       " [5,17, 1] = 19.545590927127567\n",
       " [5,17, 2] = 19.005130371787356\n",
       " [5,17, 3] = 19.000000730523116\n",
       " [5,17, 4] = 19.00000075490737\n",
       " [5,17, 5] = 19.000000787540397\n",
       " [5,17, 6] = 19.00000084781582\n",
       " [5,17, 7] = 19.000000905000743\n",
       " [5,17, 8] = 19.00000095949731\n",
       " [5,17, 9] = 19.0000009686756\n",
       " [5,17,10] = 19.0000010464909\n",
       " [5,17,11] = 19.00000121673082\n",
       " [5,17,12] = 19.000001543374854\n",
       " [5,17,13] = 19.000001960877253\n",
       " [5,17,14] = 19.000002894043607\n",
       " [5,17,15] = 19.00000515740714\n",
       " [5,17,16] = 19.742360674437514\n",
       " [5,17,17] = 19.7481187581823\n",
       " [5,17,18] = 20.527855250999508\n",
       " [5,17,19] = 21.0038382780032\n",
       " [5,17,20] = 21.24908070626736\n",
       " [5,17,21] = 21.59593646952333\n",
       " [5,17,22] = 22.20474268846147\n",
       " [5,17,23] = 22.366987267183767\n",
       " [5,17,24] = 22.372574885901415\n",
       " [5,17,25] = 22.242958822201185\n",
       " [5,17,26] = 22.280338976014832\n",
       " [5,17,27] = 22.4052211851134\n",
       " [5,17,28] = 22.6413100537603\n",
       " [5,17,29] = 22.857812997433633\n",
       " [5,17,30] = 22.986033373074005\n",
       " [5,17,31] = 23.02269154948131\n",
       " [5,17,32] = 23.178578079189037\n",
       " [5,17,33] = 23.513449584780943\n",
       " [5,17,34] = 23.99966776723753\n",
       " [5,17,35] = 23.999952225309553\n",
       " [5,17,36] = 23.999969377038763\n",
       " [5,17,37] = 23.99997852885199\n",
       " [5,17,38] = 23.99998177699369\n",
       " [5,17,39] = 23.99997657188879\n",
       " [5,17,40] = 23.999972354800267\n",
       " [5,17,41] = 23.999970651015627\n",
       " [5,17,42] = 23.999968286233663\n",
       " [5,17,43] = 23.999965028255982\n",
       " [5,17,44] = 23.99995684573804\n",
       " [5,17,45] = 23.999983135961116\n",
       " [5,17,46] = 23.999983120780612\n",
       " [5,17,47] = 23.99976128578635\n",
       " [5,17,48] = 23.37769701859639\n",
       " [5,17,49] = 22.60214234553518\n",
       " [5,17,50] = 21.789872856342413\n",
       " [5,17,51] = 20.96824109509651\n",
       " [5,17,52] = 20.001028203006342\n",
       " [5,17,53] = 20.000009793782024\n",
       " [5,17,54] = 20.000004793244834\n",
       " [5,17,55] = 20.0000029755032\n",
       " [5,17,56] = 20.00000218253186\n",
       " [5,17,57] = 20.000001677129987\n",
       " [5,17,58] = 20.00000146631586\n",
       " [5,17,59] = 20.000001264371114\n",
       " [5,17,60] = 20.000001127069158\n",
       " [5,17,61] = 20.000001055143976\n",
       " [5,17,62] = 20.000000987728995\n",
       " [5,17,63] = 20.000000923798364\n",
       " [5,17,64] = 20.00000086019596\n",
       " [5,17,65] = 20.00000079548907\n",
       " [5,17,66] = 20.000000730187097\n",
       " [5,17,67] = 20.00000065787396\n",
       " [5,17,68] = 20.000000619787926\n",
       " [5,17,69] = 20.000000633266875\n",
       " [5,17,70] = 20.00000064447634\n",
       " [5,17,71] = 20.000000658887124\n",
       " [5,17,72] = 20.000000691414645\n",
       " [5,17,73] = 20.00000076408592\n",
       " [5,17,74] = 20.000000848177315\n",
       " [5,17,75] = 20.000000957217217\n",
       " [5,17,76] = 20.000001077585175\n",
       " [5,17,77] = 20.00000118805535\n",
       " [5,17,78] = 20.00000133445102\n",
       " [5,17,79] = 20.000001545497472\n",
       " [5,17,80] = 20.000001821580387\n",
       " [5,17,81] = 20.00000195424401\n",
       " [5,17,82] = 20.000002157872093\n",
       " [5,17,83] = 20.00000243371795\n",
       " [5,17,84] = 20.000002801796644\n",
       " [5,17,85] = 20.00000324469022\n",
       " [5,17,86] = 20.000004194677537\n",
       " [5,17,87] = 20.000005856949535\n",
       " [5,17,88] = 20.00001141106482\n",
       " [5,17,89] = 19.475429725187873\n",
       " [5,17,90] = 20.14349700773019\n",
       " [5,17,91] = 20.983611183365834\n",
       " [5,17,92] = 21.636778522331895\n",
       " [5,17,93] = 21.530952774891244\n",
       " [5,18, 1] = 19.504414979421647\n",
       " [5,18, 2] = 19.000001145046852\n",
       " [5,18, 3] = 19.000001197002877\n",
       " [5,18, 4] = 19.000001236118443\n",
       " [5,18, 5] = 19.00000129274882\n",
       " [5,18, 6] = 19.000001399447704\n",
       " [5,18, 7] = 19.000001501667978\n",
       " [5,18, 8] = 19.00000159920097\n",
       " [5,18, 9] = 19.000001615730216\n",
       " [5,18,10] = 19.000001762616577\n",
       " [5,18,11] = 19.00000209475262\n",
       " [5,18,12] = 19.000002770161245\n",
       " [5,18,13] = 19.000003730847485\n",
       " [5,18,14] = 19.000006355369532\n",
       " [5,18,15] = 19.000019350020775\n",
       " [5,18,16] = 20.4635560781566\n",
       " [5,18,17] = 20.47527428814133\n",
       " [5,18,18] = 20.99930816592418\n",
       " [5,18,19] = 21.31896387267597\n",
       " [5,18,20] = 21.486849908897526\n",
       " [5,18,21] = 21.724541228434756\n",
       " [5,18,22] = 22.131753522205276\n",
       " [5,18,23] = 22.240551651249426\n",
       " [5,18,24] = 22.244218357336003\n",
       " [5,18,25] = 22.159959758724785\n",
       " [5,18,26] = 22.188000928397756\n",
       " [5,18,27] = 22.275641984210605\n",
       " [5,18,28] = 22.437143716764304\n",
       " [5,18,29] = 22.584932374654286\n",
       " [5,18,30] = 22.673775307635978\n",
       " [5,18,31] = 22.703700413782837\n",
       " [5,18,32] = 22.815750772834104\n",
       " [5,18,33] = 23.049237196926615\n",
       " [5,18,34] = 23.43853512905851\n",
       " [5,18,35] = 23.57785389331888\n",
       " [5,18,36] = 23.67617493037508\n",
       " [5,18,37] = 23.796248724035088\n",
       " [5,18,38] = 23.87338005969577\n",
       " [5,18,39] = 23.78948214678417\n",
       " [5,18,40] = 23.730855780651623\n",
       " [5,18,41] = 23.73349483088115\n",
       " [5,18,42] = 23.727373048216137\n",
       " [5,18,43] = 23.706884371597837\n",
       " [5,18,44] = 23.701453146519324\n",
       " [5,18,45] = 23.977271290716693\n",
       " [5,18,46] = 23.978393606348437\n",
       " [5,18,47] = 23.573025256847668\n",
       " [5,18,48] = 23.07903301639724\n",
       " [5,18,49] = 22.564964758966077\n",
       " [5,18,50] = 22.025003523190477\n",
       " [5,18,51] = 21.475629549307055\n",
       " [5,18,52] = 20.782589819961487\n",
       " [5,18,53] = 20.006431565626844\n",
       " [5,18,54] = 20.000013133853752\n",
       " [5,18,55] = 20.00000614347199\n",
       " [5,18,56] = 20.000004079027534\n",
       " [5,18,57] = 20.00000296104488\n",
       " [5,18,58] = 20.000002526009872\n",
       " [5,18,59] = 20.00000213047074\n",
       " [5,18,60] = 20.000001871616522\n",
       " [5,18,61] = 20.000001737391834\n",
       " [5,18,62] = 20.000001613722127\n",
       " [5,18,63] = 20.000001497566426\n",
       " [5,18,64] = 20.000001383576873\n",
       " [5,18,65] = 20.00000126939013\n",
       " [5,18,66] = 20.000001155975124\n",
       " [5,18,67] = 20.00000103411239\n",
       " [5,18,68] = 20.00000097112926\n",
       " [5,18,69] = 20.000000992440736\n",
       " [5,18,70] = 20.00000101018735\n",
       " [5,18,71] = 20.00000103370316\n",
       " [5,18,72] = 20.000001087845927\n",
       " [5,18,73] = 20.00000120896401\n",
       " [5,18,74] = 20.000001351077405\n",
       " [5,18,75] = 20.000001537809315\n",
       " [5,18,76] = 20.00000174724049\n",
       " [5,18,77] = 20.000001944046854\n",
       " [5,18,78] = 20.000002210945844\n",
       " [5,18,79] = 20.00000260584211\n",
       " [5,18,80] = 20.00000313906018\n",
       " [5,18,81] = 20.000003405919525\n",
       " [5,18,82] = 20.000003827925617\n",
       " [5,18,83] = 20.00000442529886\n",
       " [5,18,84] = 20.000005272456303\n",
       " [5,18,85] = 20.00000638944589\n",
       " [5,18,86] = 20.000009192075947\n",
       " [5,18,87] = 20.000016440481204\n",
       " [5,18,88] = 20.000609815401123\n",
       " [5,18,89] = 20.302431662210775\n",
       " [5,18,90] = 20.755277265844285\n",
       " [5,18,91] = 21.320276860576357\n",
       " [5,18,92] = 21.75415843766395\n",
       " [5,18,93] = 21.688183703467978\n",
       " [5,19, 1] = 20.253736580346853\n",
       " [5,19, 2] = 19.66711920206505\n",
       " [5,19, 3] = 19.39206376002668\n",
       " [5,19, 4] = 19.206407242172848\n",
       " [5,19, 5] = 19.050913134685953\n",
       " [5,19, 6] = 19.000000195442023\n",
       " [5,19, 7] = 19.000000204110318\n",
       " [5,19, 8] = 19.000000212782396\n",
       " [5,19, 9] = 19.00000020933473\n",
       " [5,19,10] = 19.000000218477755\n",
       " [5,19,11] = 19.00000024220823\n",
       " [5,19,12] = 19.00000028764288\n",
       " [5,19,13] = 19.000000334223774\n",
       " [5,19,14] = 19.00000042093167\n",
       " [5,19,15] = 19.000000547352652\n",
       " [5,19,16] = 19.00000146386896\n",
       " [5,19,17] = 19.000001273678162\n",
       " [5,19,18] = 19.000001861983527\n",
       " [5,19,19] = 19.000002503004527\n",
       " [5,19,20] = 19.000003001594315\n",
       " [5,19,21] = 19.000004033329994\n",
       " [5,19,22] = 19.00003685301159\n",
       " [5,19,23] = 19.17514347771148\n",
       " [5,19,24] = 19.096255151804314\n",
       " [5,19,25] = 20.000007513368377\n",
       " [5,19,26] = 20.000007641047386\n",
       " [5,19,27] = 20.00001041598976\n",
       " [5,19,28] = 20.00002806372011\n",
       " [5,19,29] = 20.290745553306675\n",
       " [5,19,30] = 20.781310083656948\n",
       " [5,19,31] = 20.980166110829586\n",
       " [5,19,32] = 21.499216121496268\n",
       " [5,19,33] = 21.72186383090021\n",
       " [5,19,34] = 21.857347919559338\n",
       " [5,19,35] = 21.9656984191217\n",
       " [5,19,36] = 22.0648568993438\n",
       " [5,19,37] = 22.159256694442785\n",
       " [5,19,38] = 22.250021768251734\n",
       " [5,19,39] = 22.337413776164414\n",
       " [5,19,40] = 22.421343541825586\n",
       " [5,19,41] = 22.50336678094847\n",
       " [5,19,42] = 22.581041574384432\n",
       " [5,19,43] = 22.654932546866416\n",
       " [5,19,44] = 22.72678259120526\n",
       " [5,19,45] = 22.79330077290929\n",
       " [5,19,46] = 22.855964166306283\n",
       " [5,19,47] = 22.916125268044\n",
       " [5,19,48] = 22.97473165331018\n",
       " [5,19,49] = 23.029355693873065\n",
       " [5,19,50] = 21.723485073000855\n",
       " [5,19,51] = 20.209619878237888\n",
       " [5,19,52] = 20.000003791935402\n",
       " [5,19,53] = 20.00000180929535\n",
       " [5,19,54] = 20.000001124929305\n",
       " [5,19,55] = 20.000000752796087\n",
       " [5,19,56] = 20.00000057298874\n",
       " [5,19,57] = 20.000000442614613\n",
       " [5,19,58] = 20.000000395093096\n",
       " [5,19,59] = 20.000000342270667\n",
       " [5,19,60] = 20.00000030545081\n",
       " [5,19,61] = 20.000000288696647\n",
       " [5,19,62] = 20.000000272440804\n",
       " [5,19,63] = 20.000000256049987\n",
       " [5,19,64] = 20.0000002387739\n",
       " [5,19,65] = 20.000000220200814\n",
       " [5,19,66] = 20.000000200605353\n",
       " [5,19,67] = 20.00000017693038\n",
       " [5,19,68] = 20.00000016332076\n",
       " [5,19,69] = 20.00000016604133\n",
       " [5,19,70] = 20.000000167582897\n",
       " [5,19,71] = 20.000000169275822\n",
       " [5,19,72] = 20.000000175308625\n",
       " [5,19,73] = 20.00000019246551\n",
       " [5,19,74] = 20.000000211932928\n",
       " [5,19,75] = 20.000000237682478\n",
       " [5,19,76] = 20.00000026589937\n",
       " [5,19,77] = 20.00000028995221\n",
       " [5,19,78] = 20.000000320926247\n",
       " [5,19,79] = 20.000000364461027\n",
       " [5,19,80] = 20.00000042308292\n",
       " [5,19,81] = 20.000000441758882\n",
       " [5,19,82] = 20.000000472775366\n",
       " [5,19,83] = 20.00000051360166\n",
       " [5,19,84] = 20.000000564802964\n",
       " [5,19,85] = 20.000000615778507\n",
       " [5,19,86] = 20.00000072560379\n",
       " [5,19,87] = 20.00000087639804\n",
       " [5,19,88] = 20.000001211421246\n",
       " [5,19,89] = 19.00000171702227\n",
       " [5,19,90] = 19.000002577282533\n",
       " [5,19,91] = 19.000009085498842\n",
       " [5,19,92] = 20.5841639518004\n",
       " [5,19,93] = 19.882284098704154"
      ]
     },
     "execution_count": 176,
     "metadata": {},
     "output_type": "execute_result"
    }
   ],
   "source": [
    "getvalue(Y)"
   ]
  },
  {
   "cell_type": "code",
   "execution_count": 9,
   "metadata": {
    "collapsed": false,
    "scrolled": true
   },
   "outputs": [
    {
     "name": "stdout",
     "output_type": "stream",
     "text": [
      "Academic license - for non-commercial use only\n",
      "Academic license - for non-commercial use only\n",
      "Academic license - for non-commercial use only\n",
      "Academic license - for non-commercial use only\n",
      "Academic license - for non-commercial use only\n",
      "Academic license - for non-commercial use only\n"
     ]
    }
   ],
   "source": [
    "#################################################\n",
    "## Parses agents' optimization problems once    #\n",
    "#################################################\n",
    "\n",
    "optimizationModelProxCB = Array{Any}(N)  # initialize N prox minimization problems\n",
    "\n",
    "for i in 1:N\n",
    "    optimizationModelProxCB[i] = AgentsCB.setupProxCB(AgentCB[i], Tref, T, X0[i], W[i], night_times, day_times, δ);\n",
    "end\n",
    "\n",
    "optimizationModelProxBESS = Array{Any}(1)\n",
    "optimizationModelProxBESS = AgentsBESS.setupProxBESS(AgentBESS, T, SOC0, δ);"
   ]
  },
  {
   "cell_type": "markdown",
   "metadata": {},
   "source": [
    "$\\textbf{The Async simulation}$\n",
    "\n",
    "In order to simulate the asycn implementation we have each agent execute its optimization step several times and consequently \n",
    "fit a normal distribution $\\mathrm{SolveTime(i)}\\sim\\mathcal{N}(\\mu_i,\\sigma_i)$ to the sampled execution times. \n",
    "In this way we can estimate the time it will take to perform one local update by drawing a sample from its corresponding distribution.\n",
    "\n",
    "First initialize with $t_i=\\mathrm{SolveTime(i)}$, $t=0$ and some $T_{\\mathrm{end}}>t$.\n",
    "\n",
    "The algorithm reads as follows:\n",
    "1. $j\\leftarrow \\mathrm{argmin}_i\\;t_i$\n",
    "2. $t\\leftarrow t + t_j$\n",
    "3. $t_j\\leftarrow t + \\mathrm{SolveTime(j)}$\n",
    "\n",
    "Repeat until $t\\geq T_{\\mathrm{end}}$.\n"
   ]
  },
  {
   "cell_type": "code",
   "execution_count": 10,
   "metadata": {
    "collapsed": false,
    "scrolled": true
   },
   "outputs": [
    {
     "data": {
      "text/plain": [
       "Distributions.Normal{Float64}(μ=0.016780911372483217, σ=0.001113016118803115)"
      ]
     },
     "execution_count": 10,
     "metadata": {},
     "output_type": "execute_result"
    }
   ],
   "source": [
    "#################################################\n",
    "## Benchmark proximal minimization problems     #\n",
    "#################################################\n",
    "\n",
    "# timings in Julia\n",
    "bench_small    = BenchmarkTools.Trial           # run trial for small building\n",
    "bench_med      = BenchmarkTools.Trial           # run trial for medium building\n",
    "bench_large    = BenchmarkTools.Trial           # run trial for large building\n",
    "TimeCB_small   = Distributions.Normal{Float64}  # fit normal distribution to solve times of small CB\n",
    "TimeCB_med     = Distributions.Normal{Float64}  # fit normal distribution to solve times of medium CB\n",
    "TimeCB_large   = Distributions.Normal{Float64}  # fit normal distribution to solve times of large CB\n",
    "\n",
    "point = randn(T,1)\n",
    "\n",
    "# solve a group of proximal optimization problems per type of agent \n",
    "# and fit normal distributions to the execution times (in sec)\n",
    "i = 1\n",
    "for i in 1:N\n",
    "    if AgentCB[i].system.Nx == 15\n",
    "        bench_small = @benchmark AgentsCB.solveProxCB(optimizationModelProxCB[i], point, sparse(AgentCB[i].data.Γ))\n",
    "        TimeCB_small = fit(Normal, getfield(bench_small, :times)/1e9)\n",
    "        break;\n",
    "    end\n",
    "end\n",
    "\n",
    "for i in 1:N\n",
    "    if AgentCB[i].system.Nx == 54\n",
    "        bench_med = @benchmark AgentsCB.solveProxCB(optimizationModelProxCB[i], point, sparse(AgentCB[i].data.Γ))\n",
    "        TimeCB_med = fit(Normal, getfield(bench_med, :times)/1e9)\n",
    "        break;\n",
    "    end\n",
    "end\n",
    "\n",
    "for i in 1:N\n",
    "    if AgentCB[i].system.Nx == 57\n",
    "        bench_large = @benchmark AgentsCB.solveProxCB(optimizationModelProxCB[i], point, sparse(AgentCB[i].data.Γ))\n",
    "        TimeCB_large = fit(Normal, getfield(bench_large, :times)/1e9)\n",
    "        break;\n",
    "    end\n",
    "end\n",
    "\n",
    "# similarly benchmark BESS solve time (in sec)\n",
    "point      = randn(T)\n",
    "bench_BESS = BenchmarkTools.Trial\n",
    "TimeBESS   = Distributions.Normal{Float64}\n",
    "bench_BESS = @benchmark AgentsBESS.solveProxBESS(optimizationModelProxBESS, point, sparse(AgentBESS.data.Γ))\n",
    "TimeBESS   = fit(Normal, getfield(bench_BESS, :times)/1e9)"
   ]
  },
  {
   "cell_type": "code",
   "execution_count": 11,
   "metadata": {
    "collapsed": false,
    "scrolled": true
   },
   "outputs": [
    {
     "data": {
      "text/plain": [
       "6-element Array{Float64,1}:\n",
       " 0.0119344 \n",
       " 0.00824537\n",
       " 0.0557998 \n",
       " 0.0557998 \n",
       " 0.0119344 \n",
       " 0.00111302"
      ]
     },
     "execution_count": 11,
     "metadata": {},
     "output_type": "execute_result"
    }
   ],
   "source": [
    "#################################################\n",
    "## Generate execution times for simulation      #\n",
    "#################################################\n",
    "\n",
    "execTimesMean = zeros(N+1)  # mean execution time per agent\n",
    "execTimesVar = zeros(N+1)   # variance of execution time per agent\n",
    "rndUpdate = zeros(N+1)      # sample solve time normal distribution \n",
    "\n",
    "# means and variances of solve time for each type of building\n",
    "CB_small_μ = TimeCB_small.μ\n",
    "CB_small_σ = TimeCB_small.σ\n",
    "CB_medium_μ = TimeCB_med.μ\n",
    "CB_medium_σ = TimeCB_med.σ\n",
    "CB_large_μ = TimeCB_large.μ\n",
    "CB_large_σ = TimeCB_large.σ\n",
    "BESS_μ = TimeBESS.μ\n",
    "BESS_σ = TimeBESS.σ\n",
    "\n",
    "# execution time per building agent; samples are to be used to emulate the async updates\n",
    "for i in 1:N\n",
    "    if AgentCB[i].system.Nx == 15\n",
    "        rndUpdate[i] = CB_small_μ + CB_small_σ*randn()\n",
    "        execTimesMean[i] = CB_small_μ\n",
    "        execTimesVar[i] = TimeCB_small.σ\n",
    "    elseif AgentCB[i].system.Nx == 54\n",
    "        rndUpdate[i] = CB_medium_μ + CB_medium_σ*randn()\n",
    "        execTimesMean[i] = CB_medium_μ\n",
    "        execTimesVar[i] = CB_medium_σ\n",
    "    elseif AgentCB[i].system.Nx == 57\n",
    "        rndUpdate[i] = CB_large_μ + CB_large_σ*randn()\n",
    "        execTimesMean[i] = CB_large_μ\n",
    "        execTimesVar[i] = CB_large_σ\n",
    "    end\n",
    "end\n",
    "\n",
    "# execution time for battery agent\n",
    "rndUpdate[N+1]     = BESS_μ + BESS_σ*randn() \n",
    "execTimesMean[N+1] = BESS_μ\n",
    "execTimesVar[N+1]  = BESS_σ\n",
    "\n",
    "# Generate next update times for agent\n",
    "UpdateQueue = Dict{Int64,Float64}(zip(1:N+1, abs.(rndUpdate)));\n",
    "\n",
    "ExecTimesTot  = UpdateQueue\n",
    "ExecTimesMean = execTimesMean\n",
    "ExecTimesVar  = execTimesVar"
   ]
  },
  {
   "cell_type": "markdown",
   "metadata": {},
   "source": [
    "$\\textbf{The Synchronous Proximal Gradient Method}$\n",
    "\n",
    "The problem is first solved using the regular PGM. \n",
    "\n",
    "The gradient of the tracking term $\\nabla f(p^\\mathrm{cb},p^\\mathrm{bess})$, where $f(p^\\mathrm{cb},p^\\mathrm{bess}):=\\frac{\\alpha}{2}\\|p^\\mathrm{bess}(t) + \\sum_{i=1}^N(p_i^\\mathrm{cb}(t)-\\hat{p}_i^\\mathrm{cb}(t))-r(t)\\|^2_2$, is communicated to the agents (CBs and BESS). Each agent subsequently solves a $\\textit{proximal minimization problem of the form}$\n",
    "\n",
    "\\begin{align}\n",
    "&{\\text{minimize}} && g_i(z_i) + \\frac{1}{2\\gamma}\\|z_i-y\\|_2^2\\enspace,\n",
    "\\end{align}\n",
    "with variable $z=(p^\\mathrm{cb},p^\\mathrm{bess})$, $\\gamma>0$ an admissible stepsize and $y = z_i^k - γ∇_if(z^k)$."
   ]
  },
  {
   "cell_type": "code",
   "execution_count": 12,
   "metadata": {
    "collapsed": false,
    "scrolled": true
   },
   "outputs": [
    {
     "data": {
      "text/plain": [
       "\"Time is: 12.977388883202837\""
      ]
     },
     "metadata": {},
     "output_type": "display_data"
    },
    {
     "data": {
      "text/plain": [
       "\"Residual: 1.4313462845015463\""
      ]
     },
     "metadata": {},
     "output_type": "display_data"
    },
    {
     "data": {
      "text/plain": [
       "\"Time is: 25.954777766405662\""
      ]
     },
     "metadata": {},
     "output_type": "display_data"
    },
    {
     "data": {
      "text/plain": [
       "\"Residual: 1.4181681756182418\""
      ]
     },
     "metadata": {},
     "output_type": "display_data"
    },
    {
     "data": {
      "text/plain": [
       "\"Time is: 38.93216664960848\""
      ]
     },
     "metadata": {},
     "output_type": "display_data"
    },
    {
     "data": {
      "text/plain": [
       "\"Residual: 1.4111615048371329\""
      ]
     },
     "metadata": {},
     "output_type": "display_data"
    },
    {
     "data": {
      "text/plain": [
       "\"Time is: 51.909555532811304\""
      ]
     },
     "metadata": {},
     "output_type": "display_data"
    },
    {
     "data": {
      "text/plain": [
       "\"Residual: 1.4073263776232694\""
      ]
     },
     "metadata": {},
     "output_type": "display_data"
    },
    {
     "data": {
      "text/plain": [
       "\"Time is: 64.88694441601413\""
      ]
     },
     "metadata": {},
     "output_type": "display_data"
    },
    {
     "data": {
      "text/plain": [
       "\"Residual: 1.4047482814442631\""
      ]
     },
     "metadata": {},
     "output_type": "display_data"
    },
    {
     "data": {
      "text/plain": [
       "\"Time is: 77.86433329921695\""
      ]
     },
     "metadata": {},
     "output_type": "display_data"
    },
    {
     "data": {
      "text/plain": [
       "\"Residual: 1.402732974709183\""
      ]
     },
     "metadata": {},
     "output_type": "display_data"
    },
    {
     "data": {
      "text/plain": [
       "\"Time is: 90.84172218241977\""
      ]
     },
     "metadata": {},
     "output_type": "display_data"
    },
    {
     "data": {
      "text/plain": [
       "\"Residual: 1.4009696398959495\""
      ]
     },
     "metadata": {},
     "output_type": "display_data"
    },
    {
     "data": {
      "text/plain": [
       "\"Time is: 103.8191110656226\""
      ]
     },
     "metadata": {},
     "output_type": "display_data"
    },
    {
     "data": {
      "text/plain": [
       "\"Residual: 1.3993045805816176\""
      ]
     },
     "metadata": {},
     "output_type": "display_data"
    },
    {
     "data": {
      "text/plain": [
       "\"Time is: 116.79649994882541\""
      ]
     },
     "metadata": {},
     "output_type": "display_data"
    },
    {
     "data": {
      "text/plain": [
       "\"Residual: 1.397682974894885\""
      ]
     },
     "metadata": {},
     "output_type": "display_data"
    },
    {
     "data": {
      "text/plain": [
       "\"Time is: 129.77388883202823\""
      ]
     },
     "metadata": {},
     "output_type": "display_data"
    },
    {
     "data": {
      "text/plain": [
       "\"Residual: 1.3960845866469436\""
      ]
     },
     "metadata": {},
     "output_type": "display_data"
    },
    {
     "data": {
      "text/plain": [
       "\"Time is: 142.75127771523105\""
      ]
     },
     "metadata": {},
     "output_type": "display_data"
    },
    {
     "data": {
      "text/plain": [
       "\"Residual: 1.394500468820405\""
      ]
     },
     "metadata": {},
     "output_type": "display_data"
    },
    {
     "data": {
      "text/plain": [
       "\"Time is: 155.72866659843388\""
      ]
     },
     "metadata": {},
     "output_type": "display_data"
    },
    {
     "data": {
      "text/plain": [
       "\"Residual: 1.3929269777634696\""
      ]
     },
     "metadata": {},
     "output_type": "display_data"
    },
    {
     "data": {
      "text/plain": [
       "\"Time is: 168.7060554816367\""
      ]
     },
     "metadata": {},
     "output_type": "display_data"
    },
    {
     "data": {
      "text/plain": [
       "\"Residual: 1.391365902351295\""
      ]
     },
     "metadata": {},
     "output_type": "display_data"
    },
    {
     "data": {
      "text/plain": [
       "\"Time is: 181.68344436483952\""
      ]
     },
     "metadata": {},
     "output_type": "display_data"
    },
    {
     "data": {
      "text/plain": [
       "\"Residual: 1.3898163746702794\""
      ]
     },
     "metadata": {},
     "output_type": "display_data"
    },
    {
     "data": {
      "text/plain": [
       "\"Time is: 194.66083324804234\""
      ]
     },
     "metadata": {},
     "output_type": "display_data"
    },
    {
     "data": {
      "text/plain": [
       "\"Residual: 1.3882751343551178\""
      ]
     },
     "metadata": {},
     "output_type": "display_data"
    },
    {
     "data": {
      "text/plain": [
       "\"Time is: 207.63822213124516\""
      ]
     },
     "metadata": {},
     "output_type": "display_data"
    },
    {
     "data": {
      "text/plain": [
       "\"Residual: 1.3867425122345898\""
      ]
     },
     "metadata": {},
     "output_type": "display_data"
    },
    {
     "data": {
      "text/plain": [
       "\"Time is: 220.61561101444798\""
      ]
     },
     "metadata": {},
     "output_type": "display_data"
    },
    {
     "data": {
      "text/plain": [
       "\"Residual: 1.3852177795006066\""
      ]
     },
     "metadata": {},
     "output_type": "display_data"
    },
    {
     "data": {
      "text/plain": [
       "\"Time is: 233.5929998976508\""
      ]
     },
     "metadata": {},
     "output_type": "display_data"
    },
    {
     "data": {
      "text/plain": [
       "\"Residual: 1.3836994471055055\""
      ]
     },
     "metadata": {},
     "output_type": "display_data"
    },
    {
     "data": {
      "text/plain": [
       "\"Time is: 246.57038878085362\""
      ]
     },
     "metadata": {},
     "output_type": "display_data"
    },
    {
     "data": {
      "text/plain": [
       "\"Residual: 1.3821882167378599\""
      ]
     },
     "metadata": {},
     "output_type": "display_data"
    },
    {
     "data": {
      "text/plain": [
       "\"Time is: 259.54777766405647\""
      ]
     },
     "metadata": {},
     "output_type": "display_data"
    },
    {
     "data": {
      "text/plain": [
       "\"Residual: 1.3806840746743902\""
      ]
     },
     "metadata": {},
     "output_type": "display_data"
    },
    {
     "data": {
      "text/plain": [
       "\"Time is: 272.5251665472593\""
      ]
     },
     "metadata": {},
     "output_type": "display_data"
    },
    {
     "data": {
      "text/plain": [
       "\"Residual: 1.3791864609232145\""
      ]
     },
     "metadata": {},
     "output_type": "display_data"
    },
    {
     "data": {
      "text/plain": [
       "\"Time is: 285.5025554304621\""
      ]
     },
     "metadata": {},
     "output_type": "display_data"
    },
    {
     "data": {
      "text/plain": [
       "\"Residual: 1.3776941966638705\""
      ]
     },
     "metadata": {},
     "output_type": "display_data"
    },
    {
     "data": {
      "text/plain": [
       "\"Time is: 298.47994431366493\""
      ]
     },
     "metadata": {},
     "output_type": "display_data"
    },
    {
     "data": {
      "text/plain": [
       "\"Residual: 1.3762079161472929\""
      ]
     },
     "metadata": {},
     "output_type": "display_data"
    },
    {
     "data": {
      "text/plain": [
       "\"Time is: 311.45733319686775\""
      ]
     },
     "metadata": {},
     "output_type": "display_data"
    },
    {
     "data": {
      "text/plain": [
       "\"Residual: 1.3747273134234028\""
      ]
     },
     "metadata": {},
     "output_type": "display_data"
    },
    {
     "data": {
      "text/plain": [
       "\"Time is: 324.43472208007057\""
      ]
     },
     "metadata": {},
     "output_type": "display_data"
    },
    {
     "data": {
      "text/plain": [
       "\"Residual: 1.3732522424321059\""
      ]
     },
     "metadata": {},
     "output_type": "display_data"
    },
    {
     "data": {
      "text/plain": [
       "\"Time is: 337.4121109632734\""
      ]
     },
     "metadata": {},
     "output_type": "display_data"
    },
    {
     "data": {
      "text/plain": [
       "\"Residual: 1.3717827538323584\""
      ]
     },
     "metadata": {},
     "output_type": "display_data"
    },
    {
     "data": {
      "text/plain": [
       "\"Time is: 350.3894998464762\""
      ]
     },
     "metadata": {},
     "output_type": "display_data"
    },
    {
     "data": {
      "text/plain": [
       "\"Residual: 1.3703182473865603\""
      ]
     },
     "metadata": {},
     "output_type": "display_data"
    },
    {
     "data": {
      "text/plain": [
       "\"Time is: 363.36688872967903\""
      ]
     },
     "metadata": {},
     "output_type": "display_data"
    },
    {
     "data": {
      "text/plain": [
       "\"Residual: 1.368858638308419\""
      ]
     },
     "metadata": {},
     "output_type": "display_data"
    },
    {
     "data": {
      "text/plain": [
       "\"Time is: 376.34427761288185\""
      ]
     },
     "metadata": {},
     "output_type": "display_data"
    },
    {
     "data": {
      "text/plain": [
       "\"Residual: 1.367403304786007\""
      ]
     },
     "metadata": {},
     "output_type": "display_data"
    },
    {
     "data": {
      "text/plain": [
       "\"Time is: 389.3216664960847\""
      ]
     },
     "metadata": {},
     "output_type": "display_data"
    },
    {
     "data": {
      "text/plain": [
       "\"Residual: 1.3659517107057932\""
      ]
     },
     "metadata": {},
     "output_type": "display_data"
    },
    {
     "ename": "LoadError",
     "evalue": "\u001b[91mInterruptException:\u001b[39m",
     "output_type": "error",
     "traceback": [
      "\u001b[91mInterruptException:\u001b[39m",
      "",
      "Stacktrace:",
      " [1] \u001b[1mget_intattr\u001b[22m\u001b[22m\u001b[1m(\u001b[22m\u001b[22m::Gurobi.Model, ::String\u001b[1m)\u001b[22m\u001b[22m at \u001b[1m/Users/georgios/.julia/v0.6/Gurobi/src/grb_attrs.jl:11\u001b[22m\u001b[22m",
      " [2] \u001b[1mget_status\u001b[22m\u001b[22m at \u001b[1m/Users/georgios/.julia/v0.6/Gurobi/src/grb_solve.jl:63\u001b[22m\u001b[22m [inlined]",
      " [3] \u001b[1mstatus\u001b[22m\u001b[22m\u001b[1m(\u001b[22m\u001b[22m::Gurobi.GurobiMathProgModel\u001b[1m)\u001b[22m\u001b[22m at \u001b[1m/Users/georgios/.julia/v0.6/Gurobi/src/GurobiSolverInterface.jl:362\u001b[22m\u001b[22m",
      " [4] \u001b[1m#solve#116\u001b[22m\u001b[22m\u001b[1m(\u001b[22m\u001b[22m::Bool, ::Bool, ::Bool, ::Array{Any,1}, ::Function, ::JuMP.Model\u001b[1m)\u001b[22m\u001b[22m at \u001b[1m/Users/georgios/.julia/v0.6/JuMP/src/solvers.jl:176\u001b[22m\u001b[22m",
      " [5] \u001b[1msolveProxCB\u001b[22m\u001b[22m\u001b[1m(\u001b[22m\u001b[22m::AgentsCB.ProxCB, ::Array{Float64,2}, ::SparseMatrixCSC{Float64,Int64}\u001b[1m)\u001b[22m\u001b[22m at \u001b[1m/Users/georgios/Documents/Research/GitHub/AsInFBS/agentCB.jl:289\u001b[22m\u001b[22m",
      " [6] \u001b[1mAlgoPGM\u001b[22m\u001b[22m\u001b[1m(\u001b[22m\u001b[22m::ProximalGradient.PGM, ::Int64, ::Int64, ::Float64, ::Float64, ::Dict{Int64,Float64}, ::Array{Any,1}, ::AgentsBESS.ProxBESS, ::AgentsBESS.BESS, ::Array{Any,1}, ::Masters.Master, ::Array{Float64,1}, ::Array{Float64,1}, ::Float64, ::Float64, ::Float64, ::Float64\u001b[1m)\u001b[22m\u001b[22m at \u001b[1m/Users/georgios/Documents/Research/GitHub/AsInFBS/pgm.jl:92\u001b[22m\u001b[22m",
      " [7] \u001b[1minclude_string\u001b[22m\u001b[22m\u001b[1m(\u001b[22m\u001b[22m::String, ::String\u001b[1m)\u001b[22m\u001b[22m at \u001b[1m./loading.jl:522\u001b[22m\u001b[22m"
     ]
    }
   ],
   "source": [
    "#########################################################\n",
    "## Solve one optimal control instance: Synchronous PGM  #\n",
    "#########################################################\n",
    "\n",
    "# initialize PGM (call to constructor)\n",
    "pgm_u, pgm_y, pgm_x, pgm_v, pgm_P_CB, pgm_P_CB_prev, pgm_P_BESS, pgm_P_BESS_prev, pgm_RES = ProximalGradient.setupPGM(AgentCB, N, T)\n",
    "pgm_init = ProximalGradient.PGM(pgm_u, pgm_y, pgm_x, pgm_v, pgm_P_CB, pgm_P_CB_prev, pgm_P_BESS, pgm_P_BESS_prev, pgm_RES)\n",
    "\n",
    "# solve\n",
    "β = 0.0  # heavy-ball acceleration\n",
    "η = 0.9  # under-relaxation\n",
    "pgm, T1 = ProximalGradient.AlgoPGM(pgm_init, N, T, Tend, SOC0, ExecTimesTot, optimizationModelProxCB, optimizationModelProxBESS, AgentBESS, AgentCB, Master, p_BESS_opt, v_p_CB_opt, η, β, δ, α);"
   ]
  },
  {
   "cell_type": "code",
   "execution_count": 15,
   "metadata": {
    "collapsed": false
   },
   "outputs": [
    {
     "data": {
      "text/plain": [
       "446-element Array{Float64,1}:\n",
       " 0.0    \n",
       " 1.38708\n",
       " 1.44318\n",
       " 1.44796\n",
       " 1.44577\n",
       " 1.44263\n",
       " 1.43965\n",
       " 1.43708\n",
       " 1.43488\n",
       " 1.4331 \n",
       " 1.43135\n",
       " 1.4294 \n",
       " 1.42758\n",
       " ⋮      \n",
       " 1.34676\n",
       " 1.34662\n",
       " 1.34648\n",
       " 1.34634\n",
       " 1.3462 \n",
       " 1.34606\n",
       " 1.34592\n",
       " 1.34577\n",
       " 1.34563\n",
       " 1.34549\n",
       " 1.34535\n",
       " 1.34521"
      ]
     },
     "execution_count": 15,
     "metadata": {},
     "output_type": "execute_result"
    }
   ],
   "source": [
    "pgm.RES"
   ]
  },
  {
   "cell_type": "markdown",
   "metadata": {},
   "source": [
    "$\\textbf{The Asynchronous Proximal Gradient Method}$\n",
    "\n",
    "At each global clock count $k$ one agent $i_k$ updates. The update corresponds to the solution of the prox problem\n",
    "\n",
    "\\begin{align}\n",
    "&{\\text{minimize}} && g_{i_k}(z_{i_k}) + \\frac{1}{2\\gamma}\\|z_{i_k}-y_{i_k}\\|_2^2\\enspace,\n",
    "\\end{align}\n",
    "where $y_{i_k} = z_{i_k}^k - γ∇_if(z^{i_k}_\\mathrm{read})$ and $z^{i_k}_\\mathrm{read}$ corresponds to an outdated version of the decision vector $z$, when agent $i_k$ last read it. "
   ]
  },
  {
   "cell_type": "code",
   "execution_count": 13,
   "metadata": {
    "collapsed": false,
    "scrolled": true
   },
   "outputs": [
    {
     "data": {
      "text/plain": [
       "\"Update queue: [2.39608, 1.39435, 2.53169, 2.58352, 1.33976, 2.56363]\""
      ]
     },
     "metadata": {},
     "output_type": "display_data"
    },
    {
     "data": {
      "text/plain": [
       "\"Time of the next update: 1.339758620820975\""
      ]
     },
     "metadata": {},
     "output_type": "display_data"
    },
    {
     "data": {
      "text/plain": [
       "\"Next index to update: 6\""
      ]
     },
     "metadata": {},
     "output_type": "display_data"
    },
    {
     "data": {
      "text/plain": [
       "\"Time is: 1.339758620820975\""
      ]
     },
     "metadata": {},
     "output_type": "display_data"
    },
    {
     "data": {
      "text/plain": [
       "\"Residual: 0.7628378602244144\""
      ]
     },
     "metadata": {},
     "output_type": "display_data"
    },
    {
     "data": {
      "text/plain": [
       "\"Update queue: [3.63548, 2.76298, 3.80697, 3.87082, 2.6838, 3.84095]\""
      ]
     },
     "metadata": {},
     "output_type": "display_data"
    },
    {
     "data": {
      "text/plain": [
       "\"Time of the next update: 2.683796726694103\""
      ]
     },
     "metadata": {},
     "output_type": "display_data"
    },
    {
     "data": {
      "text/plain": [
       "\"Next index to update: 6\""
      ]
     },
     "metadata": {},
     "output_type": "display_data"
    },
    {
     "data": {
      "text/plain": [
       "\"Time is: 2.683796726694103\""
      ]
     },
     "metadata": {},
     "output_type": "display_data"
    },
    {
     "data": {
      "text/plain": [
       "\"Residual: 0.776471543480492\""
      ]
     },
     "metadata": {},
     "output_type": "display_data"
    },
    {
     "data": {
      "text/plain": [
       "\"Update queue: [4.88983, 4.0558, 5.03879, 5.15311, 4.03299, 5.12734]\""
      ]
     },
     "metadata": {},
     "output_type": "display_data"
    },
    {
     "data": {
      "text/plain": [
       "\"Time of the next update: 4.0329885738203535\""
      ]
     },
     "metadata": {},
     "output_type": "display_data"
    },
    {
     "data": {
      "text/plain": [
       "\"Next index to update: 6\""
      ]
     },
     "metadata": {},
     "output_type": "display_data"
    },
    {
     "data": {
      "text/plain": [
       "\"Time is: 4.0329885738203535\""
      ]
     },
     "metadata": {},
     "output_type": "display_data"
    },
    {
     "data": {
      "text/plain": [
       "\"Residual: 0.7865755722127966\""
      ]
     },
     "metadata": {},
     "output_type": "display_data"
    },
    {
     "data": {
      "text/plain": [
       "\"Update queue: [6.18837, 5.39778, 6.40299, 6.42718, 5.38645, 6.41789]\""
      ]
     },
     "metadata": {},
     "output_type": "display_data"
    },
    {
     "data": {
      "text/plain": [
       "\"Time of the next update: 5.386452182197043\""
      ]
     },
     "metadata": {},
     "output_type": "display_data"
    },
    {
     "data": {
      "text/plain": [
       "\"Next index to update: 6\""
      ]
     },
     "metadata": {},
     "output_type": "display_data"
    },
    {
     "data": {
      "text/plain": [
       "\"Time is: 5.386452182197043\""
      ]
     },
     "metadata": {},
     "output_type": "display_data"
    },
    {
     "data": {
      "text/plain": [
       "\"Residual: 0.7786262643621117\""
      ]
     },
     "metadata": {},
     "output_type": "display_data"
    },
    {
     "data": {
      "text/plain": [
       "\"Update queue: [7.36658, 6.72979, 7.63919, 7.71521, 6.74039, 7.69104]\""
      ]
     },
     "metadata": {},
     "output_type": "display_data"
    },
    {
     "data": {
      "text/plain": [
       "\"Time of the next update: 6.729790137932167\""
      ]
     },
     "metadata": {},
     "output_type": "display_data"
    },
    {
     "data": {
      "text/plain": [
       "\"Next index to update: 2\""
      ]
     },
     "metadata": {},
     "output_type": "display_data"
    },
    {
     "data": {
      "text/plain": [
       "\"Time is: 6.729790137932167\""
      ]
     },
     "metadata": {},
     "output_type": "display_data"
    },
    {
     "data": {
      "text/plain": [
       "\"Residual: 0.7795603033923617\""
      ]
     },
     "metadata": {},
     "output_type": "display_data"
    },
    {
     "data": {
      "text/plain": [
       "\"Update queue: [8.61041, 8.12892, 8.93506, 8.99233, 8.06747, 8.97631]\""
      ]
     },
     "metadata": {},
     "output_type": "display_data"
    },
    {
     "data": {
      "text/plain": [
       "\"Time of the next update: 8.067470614660602\""
      ]
     },
     "metadata": {},
     "output_type": "display_data"
    },
    {
     "data": {
      "text/plain": [
       "\"Next index to update: 6\""
      ]
     },
     "metadata": {},
     "output_type": "display_data"
    },
    {
     "data": {
      "text/plain": [
       "\"Time is: 8.067470614660602\""
      ]
     },
     "metadata": {},
     "output_type": "display_data"
    },
    {
     "data": {
      "text/plain": [
       "\"Residual: 0.7784098636014549\""
      ]
     },
     "metadata": {},
     "output_type": "display_data"
    },
    {
     "data": {
      "text/plain": [
       "\"Update queue: [9.8819, 9.46726, 10.2205, 10.2955, 9.40303, 10.252]\""
      ]
     },
     "metadata": {},
     "output_type": "display_data"
    },
    {
     "data": {
      "text/plain": [
       "\"Time of the next update: 9.403031487377797\""
      ]
     },
     "metadata": {},
     "output_type": "display_data"
    },
    {
     "data": {
      "text/plain": [
       "\"Next index to update: 6\""
      ]
     },
     "metadata": {},
     "output_type": "display_data"
    },
    {
     "data": {
      "text/plain": [
       "\"Time is: 9.403031487377797\""
      ]
     },
     "metadata": {},
     "output_type": "display_data"
    },
    {
     "data": {
      "text/plain": [
       "\"Residual: 0.7778036380581768\""
      ]
     },
     "metadata": {},
     "output_type": "display_data"
    },
    {
     "data": {
      "text/plain": [
       "\"Update queue: [11.1151, 10.8234, 11.3994, 11.5764, 10.745, 11.5447]\""
      ]
     },
     "metadata": {},
     "output_type": "display_data"
    },
    {
     "data": {
      "text/plain": [
       "\"Time of the next update: 10.744991764735046\""
      ]
     },
     "metadata": {},
     "output_type": "display_data"
    },
    {
     "data": {
      "text/plain": [
       "\"Next index to update: 6\""
      ]
     },
     "metadata": {},
     "output_type": "display_data"
    },
    {
     "data": {
      "text/plain": [
       "\"Time is: 10.744991764735046\""
      ]
     },
     "metadata": {},
     "output_type": "display_data"
    },
    {
     "data": {
      "text/plain": [
       "\"Residual: 0.777129634972918\""
      ]
     },
     "metadata": {},
     "output_type": "display_data"
    },
    {
     "data": {
      "text/plain": [
       "\"Update queue: [12.327, 12.1164, 12.5562, 12.8789, 12.0915, 12.8486]\""
      ]
     },
     "metadata": {},
     "output_type": "display_data"
    },
    {
     "data": {
      "text/plain": [
       "\"Time of the next update: 12.091538605599009\""
      ]
     },
     "metadata": {},
     "output_type": "display_data"
    },
    {
     "data": {
      "text/plain": [
       "\"Next index to update: 6\""
      ]
     },
     "metadata": {},
     "output_type": "display_data"
    },
    {
     "data": {
      "text/plain": [
       "\"Time is: 12.091538605599009\""
      ]
     },
     "metadata": {},
     "output_type": "display_data"
    },
    {
     "data": {
      "text/plain": [
       "\"Residual: 0.7764842959649507\""
      ]
     },
     "metadata": {},
     "output_type": "display_data"
    },
    {
     "data": {
      "text/plain": [
       "\"Update queue: [13.6045, 13.4771, 13.8066, 14.1563, 13.42, 14.1233]\""
      ]
     },
     "metadata": {},
     "output_type": "display_data"
    },
    {
     "data": {
      "text/plain": [
       "\"Time of the next update: 13.42002168885464\""
      ]
     },
     "metadata": {},
     "output_type": "display_data"
    },
    {
     "data": {
      "text/plain": [
       "\"Next index to update: 6\""
      ]
     },
     "metadata": {},
     "output_type": "display_data"
    },
    {
     "data": {
      "text/plain": [
       "\"Time is: 13.42002168885464\""
      ]
     },
     "metadata": {},
     "output_type": "display_data"
    },
    {
     "data": {
      "text/plain": [
       "\"Residual: 0.7758668540761193\""
      ]
     },
     "metadata": {},
     "output_type": "display_data"
    },
    {
     "data": {
      "text/plain": [
       "\"Update queue: [14.8773, 14.7529, 15.0084, 15.4606, 14.7486, 15.4283]\""
      ]
     },
     "metadata": {},
     "output_type": "display_data"
    },
    {
     "data": {
      "text/plain": [
       "\"Time of the next update: 14.748578116628032\""
      ]
     },
     "metadata": {},
     "output_type": "display_data"
    },
    {
     "data": {
      "text/plain": [
       "\"Next index to update: 6\""
      ]
     },
     "metadata": {},
     "output_type": "display_data"
    },
    {
     "data": {
      "text/plain": [
       "\"Time is: 14.748578116628032\""
      ]
     },
     "metadata": {},
     "output_type": "display_data"
    },
    {
     "data": {
      "text/plain": [
       "\"Residual: 0.775264496337871\""
      ]
     },
     "metadata": {},
     "output_type": "display_data"
    },
    {
     "data": {
      "text/plain": [
       "\"Update queue: [16.1587, 16.1077, 16.307, 16.7525, 16.072, 16.7128]\""
      ]
     },
     "metadata": {},
     "output_type": "display_data"
    },
    {
     "data": {
      "text/plain": [
       "\"Time of the next update: 16.072036921299205\""
      ]
     },
     "metadata": {},
     "output_type": "display_data"
    },
    {
     "data": {
      "text/plain": [
       "\"Next index to update: 6\""
      ]
     },
     "metadata": {},
     "output_type": "display_data"
    },
    {
     "data": {
      "text/plain": [
       "\"Time is: 16.072036921299205\""
      ]
     },
     "metadata": {},
     "output_type": "display_data"
    },
    {
     "data": {
      "text/plain": [
       "\"Residual: 0.7746820769007283\""
      ]
     },
     "metadata": {},
     "output_type": "display_data"
    },
    {
     "data": {
      "text/plain": [
       "\"Update queue: [18.5667, 17.4237, 17.5801, 18.0404, 17.4066, 17.9799]\""
      ]
     },
     "metadata": {},
     "output_type": "display_data"
    },
    {
     "data": {
      "text/plain": [
       "\"Time of the next update: 17.40664755608854\""
      ]
     },
     "metadata": {},
     "output_type": "display_data"
    },
    {
     "data": {
      "text/plain": [
       "\"Next index to update: 6\""
      ]
     },
     "metadata": {},
     "output_type": "display_data"
    },
    {
     "data": {
      "text/plain": [
       "\"Time is: 17.40664755608854\""
      ]
     },
     "metadata": {},
     "output_type": "display_data"
    },
    {
     "data": {
      "text/plain": [
       "\"Residual: 0.7740145864163444\""
      ]
     },
     "metadata": {},
     "output_type": "display_data"
    },
    {
     "data": {
      "text/plain": [
       "\"Update queue: [19.7949, 18.7721, 18.7629, 19.324, 18.7295, 19.2532]\""
      ]
     },
     "metadata": {},
     "output_type": "display_data"
    },
    {
     "data": {
      "text/plain": [
       "\"Time of the next update: 18.729460828989914\""
      ]
     },
     "metadata": {},
     "output_type": "display_data"
    },
    {
     "data": {
      "text/plain": [
       "\"Next index to update: 6\""
      ]
     },
     "metadata": {},
     "output_type": "display_data"
    },
    {
     "data": {
      "text/plain": [
       "\"Time is: 18.729460828989914\""
      ]
     },
     "metadata": {},
     "output_type": "display_data"
    },
    {
     "data": {
      "text/plain": [
       "\"Residual: 0.7734634023523067\""
      ]
     },
     "metadata": {},
     "output_type": "display_data"
    },
    {
     "data": {
      "text/plain": [
       "\"Update queue: [21.0746, 20.1094, 21.2633, 20.6158, 20.0716, 20.5328]\""
      ]
     },
     "metadata": {},
     "output_type": "display_data"
    },
    {
     "data": {
      "text/plain": [
       "\"Time of the next update: 20.07158150640917\""
      ]
     },
     "metadata": {},
     "output_type": "display_data"
    },
    {
     "data": {
      "text/plain": [
       "\"Next index to update: 6\""
      ]
     },
     "metadata": {},
     "output_type": "display_data"
    },
    {
     "data": {
      "text/plain": [
       "\"Time is: 20.07158150640917\""
      ]
     },
     "metadata": {},
     "output_type": "display_data"
    },
    {
     "data": {
      "text/plain": [
       "\"Residual: 0.7728894170441059\""
      ]
     },
     "metadata": {},
     "output_type": "display_data"
    },
    {
     "data": {
      "text/plain": [
       "\"Update queue: [22.3137, 21.4065, 22.56, 21.9183, 21.4159, 21.8073]\""
      ]
     },
     "metadata": {},
     "output_type": "display_data"
    },
    {
     "data": {
      "text/plain": [
       "\"Time of the next update: 21.406464376715707\""
      ]
     },
     "metadata": {},
     "output_type": "display_data"
    },
    {
     "data": {
      "text/plain": [
       "\"Next index to update: 2\""
      ]
     },
     "metadata": {},
     "output_type": "display_data"
    },
    {
     "data": {
      "text/plain": [
       "\"Time is: 21.406464376715707\""
      ]
     },
     "metadata": {},
     "output_type": "display_data"
    },
    {
     "data": {
      "text/plain": [
       "\"Residual: 0.7723740808902916\""
      ]
     },
     "metadata": {},
     "output_type": "display_data"
    },
    {
     "data": {
      "text/plain": [
       "\"Update queue: [23.5779, 22.7275, 23.7829, 23.2231, 22.7432, 23.0825]\""
      ]
     },
     "metadata": {},
     "output_type": "display_data"
    },
    {
     "data": {
      "text/plain": [
       "\"Time of the next update: 22.727517593220632\""
      ]
     },
     "metadata": {},
     "output_type": "display_data"
    },
    {
     "data": {
      "text/plain": [
       "\"Next index to update: 2\""
      ]
     },
     "metadata": {},
     "output_type": "display_data"
    },
    {
     "data": {
      "text/plain": [
       "\"Time is: 22.727517593220632\""
      ]
     },
     "metadata": {},
     "output_type": "display_data"
    },
    {
     "data": {
      "text/plain": [
       "\"Residual: 0.771876599846764\""
      ]
     },
     "metadata": {},
     "output_type": "display_data"
    },
    {
     "data": {
      "text/plain": [
       "\"Update queue: [24.7779, 24.0933, 25.1511, 24.501, 24.0529, 24.3723]\""
      ]
     },
     "metadata": {},
     "output_type": "display_data"
    },
    {
     "data": {
      "text/plain": [
       "\"Time of the next update: 24.052942874505174\""
      ]
     },
     "metadata": {},
     "output_type": "display_data"
    },
    {
     "data": {
      "text/plain": [
       "\"Next index to update: 6\""
      ]
     },
     "metadata": {},
     "output_type": "display_data"
    },
    {
     "data": {
      "text/plain": [
       "\"Time is: 24.052942874505174\""
      ]
     },
     "metadata": {},
     "output_type": "display_data"
    },
    {
     "data": {
      "text/plain": [
       "\"Residual: 0.7713869184704918\""
      ]
     },
     "metadata": {},
     "output_type": "display_data"
    },
    {
     "data": {
      "text/plain": [
       "\"Update queue: [26.0189, 25.4089, 26.4063, 25.7713, 25.3856, 25.6706]\""
      ]
     },
     "metadata": {},
     "output_type": "display_data"
    },
    {
     "data": {
      "text/plain": [
       "\"Time of the next update: 25.385600803173325\""
      ]
     },
     "metadata": {},
     "output_type": "display_data"
    },
    {
     "data": {
      "text/plain": [
       "\"Next index to update: 6\""
      ]
     },
     "metadata": {},
     "output_type": "display_data"
    },
    {
     "data": {
      "text/plain": [
       "\"Time is: 25.385600803173325\""
      ]
     },
     "metadata": {},
     "output_type": "display_data"
    },
    {
     "data": {
      "text/plain": [
       "\"Residual: 0.7709180427784457\""
      ]
     },
     "metadata": {},
     "output_type": "display_data"
    },
    {
     "data": {
      "text/plain": [
       "\"Update queue: [27.3036, 26.7236, 27.6521, 27.0561, 26.7318, 26.9429]\""
      ]
     },
     "metadata": {},
     "output_type": "display_data"
    },
    {
     "data": {
      "text/plain": [
       "\"Time of the next update: 26.723575250018776\""
      ]
     },
     "metadata": {},
     "output_type": "display_data"
    },
    {
     "data": {
      "text/plain": [
       "\"Next index to update: 2\""
      ]
     },
     "metadata": {},
     "output_type": "display_data"
    },
    {
     "data": {
      "text/plain": [
       "\"Time is: 26.723575250018776\""
      ]
     },
     "metadata": {},
     "output_type": "display_data"
    },
    {
     "data": {
      "text/plain": [
       "\"Residual: 0.7704638278839081\""
      ]
     },
     "metadata": {},
     "output_type": "display_data"
    },
    {
     "data": {
      "text/plain": [
       "\"Update queue: [28.6312, 28.1391, 28.9396, 28.3283, 28.0645, 28.2206]\""
      ]
     },
     "metadata": {},
     "output_type": "display_data"
    },
    {
     "data": {
      "text/plain": [
       "\"Time of the next update: 28.064479295804233\""
      ]
     },
     "metadata": {},
     "output_type": "display_data"
    },
    {
     "data": {
      "text/plain": [
       "\"Next index to update: 6\""
      ]
     },
     "metadata": {},
     "output_type": "display_data"
    },
    {
     "data": {
      "text/plain": [
       "\"Time is: 28.064479295804233\""
      ]
     },
     "metadata": {},
     "output_type": "display_data"
    },
    {
     "data": {
      "text/plain": [
       "\"Residual: 0.7700390303258509\""
      ]
     },
     "metadata": {},
     "output_type": "display_data"
    },
    {
     "data": {
      "text/plain": [
       "\"Update queue: [29.9279, 29.4633, 30.2209, 29.6119, 29.4057, 29.5078]\""
      ]
     },
     "metadata": {},
     "output_type": "display_data"
    },
    {
     "data": {
      "text/plain": [
       "\"Time of the next update: 29.405672278604303\""
      ]
     },
     "metadata": {},
     "output_type": "display_data"
    },
    {
     "data": {
      "text/plain": [
       "\"Next index to update: 6\""
      ]
     },
     "metadata": {},
     "output_type": "display_data"
    },
    {
     "data": {
      "text/plain": [
       "\"Time is: 29.405672278604303\""
      ]
     },
     "metadata": {},
     "output_type": "display_data"
    },
    {
     "data": {
      "text/plain": [
       "\"Residual: 0.7696304558825529\""
      ]
     },
     "metadata": {},
     "output_type": "display_data"
    },
    {
     "ename": "LoadError",
     "evalue": "\u001b[91mInterruptException:\u001b[39m",
     "output_type": "error",
     "traceback": [
      "\u001b[91mInterruptException:\u001b[39m",
      "",
      "Stacktrace:",
      " [1] \u001b[1mget_intattr\u001b[22m\u001b[22m\u001b[1m(\u001b[22m\u001b[22m::Gurobi.Model, ::String\u001b[1m)\u001b[22m\u001b[22m at \u001b[1m/Users/georgios/.julia/v0.6/Gurobi/src/grb_attrs.jl:11\u001b[22m\u001b[22m",
      " [2] \u001b[1mget_status\u001b[22m\u001b[22m at \u001b[1m/Users/georgios/.julia/v0.6/Gurobi/src/grb_solve.jl:63\u001b[22m\u001b[22m [inlined]",
      " [3] \u001b[1mstatus\u001b[22m\u001b[22m\u001b[1m(\u001b[22m\u001b[22m::Gurobi.GurobiMathProgModel\u001b[1m)\u001b[22m\u001b[22m at \u001b[1m/Users/georgios/.julia/v0.6/Gurobi/src/GurobiSolverInterface.jl:362\u001b[22m\u001b[22m",
      " [4] \u001b[1m#solve#116\u001b[22m\u001b[22m\u001b[1m(\u001b[22m\u001b[22m::Bool, ::Bool, ::Bool, ::Array{Any,1}, ::Function, ::JuMP.Model\u001b[1m)\u001b[22m\u001b[22m at \u001b[1m/Users/georgios/.julia/v0.6/JuMP/src/solvers.jl:176\u001b[22m\u001b[22m",
      " [5] \u001b[1msolveProxCB\u001b[22m\u001b[22m\u001b[1m(\u001b[22m\u001b[22m::AgentsCB.ProxCB, ::Array{Float64,2}, ::SparseMatrixCSC{Float64,Int64}\u001b[1m)\u001b[22m\u001b[22m at \u001b[1m/Users/georgios/Documents/Research/GitHub/AsInFBS/agentCB.jl:289\u001b[22m\u001b[22m",
      " [6] \u001b[1mAlgoAsInPGM\u001b[22m\u001b[22m\u001b[1m(\u001b[22m\u001b[22m::Bool, ::Bool, ::AsynchronousProximalGradient.AsInPGM, ::Int64, ::Int64, ::Float64, ::Dict{Int64,Float64}, ::Array{Float64,1}, ::Array{Float64,1}, ::Array{Any,1}, ::AgentsBESS.ProxBESS, ::AgentsBESS.BESS, ::Array{Any,1}, ::Masters.Master, ::Array{Float64,1}, ::Array{Float64,1}, ::Float64, ::Float64, ::Float64, ::Float64\u001b[1m)\u001b[22m\u001b[22m at \u001b[1m/Users/georgios/Documents/Research/GitHub/AsInFBS/async_inert_pgm.jl:133\u001b[22m\u001b[22m",
      " [7] \u001b[1minclude_string\u001b[22m\u001b[22m\u001b[1m(\u001b[22m\u001b[22m::String, ::String\u001b[1m)\u001b[22m\u001b[22m at \u001b[1m./loading.jl:522\u001b[22m\u001b[22m"
     ]
    }
   ],
   "source": [
    "############################################################################\n",
    "## Solve one optimal control instance: Coordinate descent asynchronous PGM #\n",
    "############################################################################\n",
    "\n",
    "# initialize AsInPGM (call to constructor)\n",
    "async_pgm_u, async_pgm_y, async_pgm_x, async_pgm_v, async_pgm_P_CB, async_pgm_P_CB_prev, async_pgm_P_BESS, async_pgm_P_BESS_prev, async_pgm_RES, async_pgm_P_CB_local, async_pgm_P_BESS_local, async_pgm_P_CB_local_prev, async_pgm_P_BESS_local_prev = AsynchronousProximalGradient.setupAsInPGM(AgentCB, N, T)\n",
    "async_pgm_init = AsynchronousProximalGradient.AsInPGM(async_pgm_u, async_pgm_y, async_pgm_x, async_pgm_v, async_pgm_P_CB, async_pgm_P_CB_prev, async_pgm_P_BESS, async_pgm_P_BESS_prev, async_pgm_RES, async_pgm_P_CB_local, async_pgm_P_BESS_local, async_pgm_P_CB_local_prev, async_pgm_P_BESS_local_prev)\n",
    "\n",
    "# reset times\n",
    "UpdateQueue  = Dict{Int64,Float64}(zip(1:N+1, abs.(rndUpdate)))\n",
    "ExecTimesTot = UpdateQueue\n",
    "\n",
    "# solve\n",
    "η = 0.9  # under-relaxation\n",
    "β = 0.0  # heavy-ball acceleration\n",
    "as_pgm, T2, NoUpdates2 = AsynchronousProximalGradient.AlgoAsInPGM(true, false, async_pgm_init, N, T, Tend, ExecTimesTot, ExecTimesMean, ExecTimesVar, optimizationModelProxCB, optimizationModelProxBESS, AgentBESS, AgentCB, Master, p_BESS_opt, v_p_CB_opt, η, β, δ, α);"
   ]
  },
  {
   "cell_type": "markdown",
   "metadata": {},
   "source": [
    "$\\textbf{The Asynchronous 'Aggregated' Proximal Gradient Method}$\n",
    "\n",
    "Similar to the previous algorithm, with the difference that $\\textit{all}$ coordinates of the decision vector $z$ are updated at each iteration $k$. For the coordinates $j\\neq i_k$, the last-computed values are used to perform the update."
   ]
  },
  {
   "cell_type": "code",
   "execution_count": null,
   "metadata": {
    "collapsed": false,
    "scrolled": true
   },
   "outputs": [],
   "source": [
    "############################################################################\n",
    "## Solve one optimal control instance: 'Aggregated' Asynchronous PGM       #\n",
    "############################################################################\n",
    "\n",
    "# Initialize AsInPGM (call to constructor)\n",
    "async_pgm_u, async_pgm_y, async_pgm_x, async_pgm_v, async_pgm_P_CB, async_pgm_P_CB_prev, async_pgm_P_BESS, async_pgm_P_BESS_prev, async_pgm_RES, async_pgm_P_CB_local, async_pgm_P_BESS_local, async_pgm_P_CB_local_prev, async_pgm_P_BESS_local_prev = AsynchronousProximalGradient.setupAsInPGM(AgentCB, N, T)\n",
    "async_pgm_init = AsynchronousProximalGradient.AsInPGM(async_pgm_u, async_pgm_y, async_pgm_x, async_pgm_v, async_pgm_P_CB, async_pgm_P_CB_prev, async_pgm_P_BESS, async_pgm_P_BESS_prev, async_pgm_RES, async_pgm_P_CB_local, async_pgm_P_BESS_local, async_pgm_P_CB_local_prev, async_pgm_P_BESS_local_prev)\n",
    "\n",
    "# solve\n",
    "η = 0.9  # under-relaxation\n",
    "β = 0.0  # heavy-ball acceleration\n",
    "UpdateQueue  = Dict{Int64,Float64}(zip(1:N+1, abs.(rndUpdate)))\n",
    "ExecTimesTot = UpdateQueue\n",
    "as_agg_pgm, T3, NoUpdates3 = AsynchronousProximalGradient.AlgoAsInPGM(false, false, async_pgm_init, N, T, Tend, ExecTimesTot, ExecTimesMean, ExecTimesVar, optimizationModelProxCB, optimizationModelProxBESS, AgentBESS, AgentCB, Master, p_BESS_opt, v_p_CB_opt, η, β, δ, α);"
   ]
  },
  {
   "cell_type": "markdown",
   "metadata": {},
   "source": [
    "$\\textbf{The Asynchronous Inertial Proximal Gradient Method}$\n",
    "\n",
    "At each global clock count $k$ one agent $i_k$ updates. The update corresponds to the solution of the prox problem\n",
    "\n",
    "\\begin{align}\n",
    "&{\\text{minimize}} && g_{i_k}(z_{i_k}) + \\frac{1}{2\\gamma}\\|z_{i_k}-y_{i_k}\\|_2^2\\enspace,\n",
    "\\end{align}\n",
    "where $y_{i_k} = z_{i_k}^k - γ∇_if(z^{i_k}_\\mathrm{read}) + \\beta (z^{i_k}_{i_k,\\mathrm{write}}-z^{i_k,\\mathrm{prev}}_{i,k\\mathrm{write}})$ and $\\beta\\in [0,1)$.\n",
    "\n",
    "* $z^{i_k}_\\mathrm{read}$ corresponds to an outdated version of the decision vector $z$, when agent $i_k$ last received it from the coordinator.\n",
    "* $z^{i_k}_\\mathrm{write}$ corresponds to an outdated version of the decision vector $z$, when agent $i_k$ last updated the coordinator.\n",
    "* $z^{i_k,\\mathrm{prev}}_\\mathrm{write}$ corresponds to an outdated version of the decision vector $z$, the second most recent time that agent $i_k$ updated the coordinator."
   ]
  },
  {
   "cell_type": "code",
   "execution_count": 12,
   "metadata": {
    "collapsed": false
   },
   "outputs": [
    {
     "data": {
      "text/plain": [
       "\"Update queue: [2.65193, 1.60619, 2.6199, 2.91643, 1.58907, 2.87231]\""
      ]
     },
     "metadata": {},
     "output_type": "display_data"
    },
    {
     "data": {
      "text/plain": [
       "\"Time of the next update: 1.5890666073563502\""
      ]
     },
     "metadata": {},
     "output_type": "display_data"
    },
    {
     "data": {
      "text/plain": [
       "\"Next index to update: 6\""
      ]
     },
     "metadata": {},
     "output_type": "display_data"
    },
    {
     "data": {
      "text/plain": [
       "\"Time is: 1.5890666073563502\""
      ]
     },
     "metadata": {},
     "output_type": "display_data"
    },
    {
     "data": {
      "text/plain": [
       "\"Residual: 0.9011874564329775\""
      ]
     },
     "metadata": {},
     "output_type": "display_data"
    },
    {
     "data": {
      "text/plain": [
       "\"New β is: 0.33333333333333337\""
      ]
     },
     "metadata": {},
     "output_type": "display_data"
    },
    {
     "data": {
      "text/plain": [
       "\"Update queue: [3.9983, 3.19374, 3.75019, 4.33821, 3.1623, 4.34133]\""
      ]
     },
     "metadata": {},
     "output_type": "display_data"
    },
    {
     "data": {
      "text/plain": [
       "\"Time of the next update: 3.162298100850766\""
      ]
     },
     "metadata": {},
     "output_type": "display_data"
    },
    {
     "data": {
      "text/plain": [
       "\"Next index to update: 6\""
      ]
     },
     "metadata": {},
     "output_type": "display_data"
    },
    {
     "data": {
      "text/plain": [
       "\"Time is: 3.162298100850766\""
      ]
     },
     "metadata": {},
     "output_type": "display_data"
    },
    {
     "data": {
      "text/plain": [
       "\"Residual: 0.8036880623730106\""
      ]
     },
     "metadata": {},
     "output_type": "display_data"
    },
    {
     "data": {
      "text/plain": [
       "\"New β is: 0.5\""
      ]
     },
     "metadata": {},
     "output_type": "display_data"
    },
    {
     "data": {
      "text/plain": [
       "\"Update queue: [5.39151, 4.79529, 5.09973, 5.7548, 4.72723, 5.76955]\""
      ]
     },
     "metadata": {},
     "output_type": "display_data"
    },
    {
     "data": {
      "text/plain": [
       "\"Time of the next update: 4.72722767615809\""
      ]
     },
     "metadata": {},
     "output_type": "display_data"
    },
    {
     "data": {
      "text/plain": [
       "\"Next index to update: 6\""
      ]
     },
     "metadata": {},
     "output_type": "display_data"
    },
    {
     "data": {
      "text/plain": [
       "\"Time is: 4.72722767615809\""
      ]
     },
     "metadata": {},
     "output_type": "display_data"
    },
    {
     "data": {
      "text/plain": [
       "\"Residual: 0.7268697441850805\""
      ]
     },
     "metadata": {},
     "output_type": "display_data"
    },
    {
     "data": {
      "text/plain": [
       "\"New β is: 0.6\""
      ]
     },
     "metadata": {},
     "output_type": "display_data"
    },
    {
     "data": {
      "text/plain": [
       "\"Update queue: [6.80718, 6.31326, 7.46769, 7.10768, 6.31695, 7.11204]\""
      ]
     },
     "metadata": {},
     "output_type": "display_data"
    },
    {
     "data": {
      "text/plain": [
       "\"Time of the next update: 6.313258938686998\""
      ]
     },
     "metadata": {},
     "output_type": "display_data"
    },
    {
     "data": {
      "text/plain": [
       "\"Next index to update: 2\""
      ]
     },
     "metadata": {},
     "output_type": "display_data"
    },
    {
     "data": {
      "text/plain": [
       "\"Time is: 6.313258938686998\""
      ]
     },
     "metadata": {},
     "output_type": "display_data"
    },
    {
     "data": {
      "text/plain": [
       "\"Residual: 0.6526050788430438\""
      ]
     },
     "metadata": {},
     "output_type": "display_data"
    },
    {
     "data": {
      "text/plain": [
       "\"New β is: 0.6666666666666667\""
      ]
     },
     "metadata": {},
     "output_type": "display_data"
    },
    {
     "data": {
      "text/plain": [
       "\"Update queue: [8.14157, 7.84193, 8.73117, 8.49801, 7.84264, 8.38707]\""
      ]
     },
     "metadata": {},
     "output_type": "display_data"
    },
    {
     "data": {
      "text/plain": [
       "\"Time of the next update: 7.841929905753649\""
      ]
     },
     "metadata": {},
     "output_type": "display_data"
    },
    {
     "data": {
      "text/plain": [
       "\"Next index to update: 2\""
      ]
     },
     "metadata": {},
     "output_type": "display_data"
    },
    {
     "data": {
      "text/plain": [
       "\"Time is: 7.841929905753649\""
      ]
     },
     "metadata": {},
     "output_type": "display_data"
    },
    {
     "data": {
      "text/plain": [
       "\"Residual: 0.5946597750441026\""
      ]
     },
     "metadata": {},
     "output_type": "display_data"
    },
    {
     "data": {
      "text/plain": [
       "\"New β is: 0.7142857142857143\""
      ]
     },
     "metadata": {},
     "output_type": "display_data"
    },
    {
     "data": {
      "text/plain": [
       "\"Update queue: [10.7773, 9.5406, 9.91643, 9.90273, 9.45159, 9.82541]\""
      ]
     },
     "metadata": {},
     "output_type": "display_data"
    },
    {
     "data": {
      "text/plain": [
       "\"Time of the next update: 9.451592302244043\""
      ]
     },
     "metadata": {},
     "output_type": "display_data"
    },
    {
     "data": {
      "text/plain": [
       "\"Next index to update: 6\""
      ]
     },
     "metadata": {},
     "output_type": "display_data"
    },
    {
     "data": {
      "text/plain": [
       "\"Time is: 9.451592302244043\""
      ]
     },
     "metadata": {},
     "output_type": "display_data"
    },
    {
     "data": {
      "text/plain": [
       "\"Residual: 0.5496954748669698\""
      ]
     },
     "metadata": {},
     "output_type": "display_data"
    },
    {
     "data": {
      "text/plain": [
       "\"New β is: 0.75\""
      ]
     },
     "metadata": {},
     "output_type": "display_data"
    },
    {
     "data": {
      "text/plain": [
       "\"Update queue: [11.9269, 11.0246, 11.3807, 11.3, 11.0281, 11.1802]\""
      ]
     },
     "metadata": {},
     "output_type": "display_data"
    },
    {
     "data": {
      "text/plain": [
       "\"Time of the next update: 11.024591030961579\""
      ]
     },
     "metadata": {},
     "output_type": "display_data"
    },
    {
     "data": {
      "text/plain": [
       "\"Next index to update: 2\""
      ]
     },
     "metadata": {},
     "output_type": "display_data"
    },
    {
     "data": {
      "text/plain": [
       "\"Time is: 11.024591030961579\""
      ]
     },
     "metadata": {},
     "output_type": "display_data"
    },
    {
     "data": {
      "text/plain": [
       "\"Residual: 0.510022946836259\""
      ]
     },
     "metadata": {},
     "output_type": "display_data"
    },
    {
     "data": {
      "text/plain": [
       "\"New β is: 0.7777777777777778\""
      ]
     },
     "metadata": {},
     "output_type": "display_data"
    },
    {
     "data": {
      "text/plain": [
       "\"Update queue: [13.1858, 12.6199, 13.9501, 12.7349, 12.6219, 13.9581]\""
      ]
     },
     "metadata": {},
     "output_type": "display_data"
    },
    {
     "data": {
      "text/plain": [
       "\"Time of the next update: 12.619878487914486\""
      ]
     },
     "metadata": {},
     "output_type": "display_data"
    },
    {
     "data": {
      "text/plain": [
       "\"Next index to update: 2\""
      ]
     },
     "metadata": {},
     "output_type": "display_data"
    },
    {
     "data": {
      "text/plain": [
       "\"Time is: 12.619878487914486\""
      ]
     },
     "metadata": {},
     "output_type": "display_data"
    },
    {
     "data": {
      "text/plain": [
       "\"Residual: 0.4724228537022964\""
      ]
     },
     "metadata": {},
     "output_type": "display_data"
    },
    {
     "data": {
      "text/plain": [
       "\"New β is: 0.8\""
      ]
     },
     "metadata": {},
     "output_type": "display_data"
    },
    {
     "data": {
      "text/plain": [
       "\"Update queue: [14.5648, 14.2129, 15.1742, 15.5764, 14.1961, 15.3303]\""
      ]
     },
     "metadata": {},
     "output_type": "display_data"
    },
    {
     "data": {
      "text/plain": [
       "\"Time of the next update: 14.196052187411325\""
      ]
     },
     "metadata": {},
     "output_type": "display_data"
    },
    {
     "data": {
      "text/plain": [
       "\"Next index to update: 6\""
      ]
     },
     "metadata": {},
     "output_type": "display_data"
    },
    {
     "data": {
      "text/plain": [
       "\"Time is: 14.196052187411325\""
      ]
     },
     "metadata": {},
     "output_type": "display_data"
    },
    {
     "data": {
      "text/plain": [
       "\"Residual: 0.4407861334179789\""
      ]
     },
     "metadata": {},
     "output_type": "display_data"
    },
    {
     "data": {
      "text/plain": [
       "\"New β is: 0.8181818181818181\""
      ]
     },
     "metadata": {},
     "output_type": "display_data"
    },
    {
     "data": {
      "text/plain": [
       "\"Update queue: [15.9673, 15.7721, 16.5228, 16.9923, 15.7687, 16.7922]\""
      ]
     },
     "metadata": {},
     "output_type": "display_data"
    },
    {
     "data": {
      "text/plain": [
       "\"Time of the next update: 15.76869254638183\""
      ]
     },
     "metadata": {},
     "output_type": "display_data"
    },
    {
     "data": {
      "text/plain": [
       "\"Next index to update: 6\""
      ]
     },
     "metadata": {},
     "output_type": "display_data"
    },
    {
     "data": {
      "text/plain": [
       "\"Time is: 15.76869254638183\""
      ]
     },
     "metadata": {},
     "output_type": "display_data"
    },
    {
     "data": {
      "text/plain": [
       "\"Residual: 0.41895667407203363\""
      ]
     },
     "metadata": {},
     "output_type": "display_data"
    },
    {
     "data": {
      "text/plain": [
       "\"New β is: 0.8333333333333334\""
      ]
     },
     "metadata": {},
     "output_type": "display_data"
    },
    {
     "data": {
      "text/plain": [
       "\"Update queue: [18.7955, 17.3439, 17.7997, 18.387, 17.3074, 18.2414]\""
      ]
     },
     "metadata": {},
     "output_type": "display_data"
    },
    {
     "data": {
      "text/plain": [
       "\"Time of the next update: 17.307444553839513\""
      ]
     },
     "metadata": {},
     "output_type": "display_data"
    },
    {
     "data": {
      "text/plain": [
       "\"Next index to update: 6\""
      ]
     },
     "metadata": {},
     "output_type": "display_data"
    },
    {
     "data": {
      "text/plain": [
       "\"Time is: 17.307444553839513\""
      ]
     },
     "metadata": {},
     "output_type": "display_data"
    },
    {
     "data": {
      "text/plain": [
       "\"Residual: 0.4029022221196178\""
      ]
     },
     "metadata": {},
     "output_type": "display_data"
    },
    {
     "data": {
      "text/plain": [
       "\"New β is: 0.8461538461538461\""
      ]
     },
     "metadata": {},
     "output_type": "display_data"
    },
    {
     "data": {
      "text/plain": [
       "\"Update queue: [20.0707, 18.9434, 19.1152, 19.7953, 18.9161, 19.6485]\""
      ]
     },
     "metadata": {},
     "output_type": "display_data"
    },
    {
     "data": {
      "text/plain": [
       "\"Time of the next update: 18.91613088546494\""
      ]
     },
     "metadata": {},
     "output_type": "display_data"
    },
    {
     "data": {
      "text/plain": [
       "\"Next index to update: 6\""
      ]
     },
     "metadata": {},
     "output_type": "display_data"
    },
    {
     "data": {
      "text/plain": [
       "\"Time is: 18.91613088546494\""
      ]
     },
     "metadata": {},
     "output_type": "display_data"
    },
    {
     "data": {
      "text/plain": [
       "\"Residual: 0.3867224338047207\""
      ]
     },
     "metadata": {},
     "output_type": "display_data"
    },
    {
     "data": {
      "text/plain": [
       "\"New β is: 0.8571428571428572\""
      ]
     },
     "metadata": {},
     "output_type": "display_data"
    },
    {
     "data": {
      "text/plain": [
       "\"Update queue: [21.5258, 20.5801, 21.8358, 21.2015, 20.4908, 21.0892]\""
      ]
     },
     "metadata": {},
     "output_type": "display_data"
    },
    {
     "data": {
      "text/plain": [
       "\"Time of the next update: 20.49079015607828\""
      ]
     },
     "metadata": {},
     "output_type": "display_data"
    },
    {
     "data": {
      "text/plain": [
       "\"Next index to update: 6\""
      ]
     },
     "metadata": {},
     "output_type": "display_data"
    },
    {
     "data": {
      "text/plain": [
       "\"Time is: 20.49079015607828\""
      ]
     },
     "metadata": {},
     "output_type": "display_data"
    },
    {
     "data": {
      "text/plain": [
       "\"Residual: 0.3736306633897397\""
      ]
     },
     "metadata": {},
     "output_type": "display_data"
    },
    {
     "data": {
      "text/plain": [
       "\"New β is: 0.8666666666666667\""
      ]
     },
     "metadata": {},
     "output_type": "display_data"
    },
    {
     "data": {
      "text/plain": [
       "\"Update queue: [22.8194, 22.1477, 23.0855, 22.6484, 22.1165, 22.5395]\""
      ]
     },
     "metadata": {},
     "output_type": "display_data"
    },
    {
     "data": {
      "text/plain": [
       "\"Time of the next update: 22.116547996994974\""
      ]
     },
     "metadata": {},
     "output_type": "display_data"
    },
    {
     "data": {
      "text/plain": [
       "\"Next index to update: 6\""
      ]
     },
     "metadata": {},
     "output_type": "display_data"
    },
    {
     "data": {
      "text/plain": [
       "\"Time is: 22.116547996994974\""
      ]
     },
     "metadata": {},
     "output_type": "display_data"
    },
    {
     "data": {
      "text/plain": [
       "\"Residual: 0.362041501388506\""
      ]
     },
     "metadata": {},
     "output_type": "display_data"
    },
    {
     "data": {
      "text/plain": [
       "\"New β is: 0.875\""
      ]
     },
     "metadata": {},
     "output_type": "display_data"
    },
    {
     "data": {
      "text/plain": [
       "\"Update queue: [24.1608, 23.8057, 24.1945, 24.089, 23.7109, 23.9851]\""
      ]
     },
     "metadata": {},
     "output_type": "display_data"
    },
    {
     "data": {
      "text/plain": [
       "\"Time of the next update: 23.710932323166347\""
      ]
     },
     "metadata": {},
     "output_type": "display_data"
    },
    {
     "data": {
      "text/plain": [
       "\"Next index to update: 6\""
      ]
     },
     "metadata": {},
     "output_type": "display_data"
    },
    {
     "data": {
      "text/plain": [
       "\"Time is: 23.710932323166347\""
      ]
     },
     "metadata": {},
     "output_type": "display_data"
    },
    {
     "data": {
      "text/plain": [
       "\"Residual: 0.35203784423901474\""
      ]
     },
     "metadata": {},
     "output_type": "display_data"
    },
    {
     "data": {
      "text/plain": [
       "\"New β is: 0.8823529411764706\""
      ]
     },
     "metadata": {},
     "output_type": "display_data"
    },
    {
     "data": {
      "text/plain": [
       "\"Update queue: [25.667, 25.3041, 25.3893, 25.5002, 25.3239, 25.372]\""
      ]
     },
     "metadata": {},
     "output_type": "display_data"
    },
    {
     "data": {
      "text/plain": [
       "\"Time of the next update: 25.304053870190806\""
      ]
     },
     "metadata": {},
     "output_type": "display_data"
    },
    {
     "data": {
      "text/plain": [
       "\"Next index to update: 2\""
      ]
     },
     "metadata": {},
     "output_type": "display_data"
    },
    {
     "data": {
      "text/plain": [
       "\"Time is: 25.304053870190806\""
      ]
     },
     "metadata": {},
     "output_type": "display_data"
    },
    {
     "data": {
      "text/plain": [
       "\"Residual: 0.3428928283140586\""
      ]
     },
     "metadata": {},
     "output_type": "display_data"
    },
    {
     "data": {
      "text/plain": [
       "\"New β is: 0.8888888888888888\""
      ]
     },
     "metadata": {},
     "output_type": "display_data"
    },
    {
     "data": {
      "text/plain": [
       "\"Update queue: [27.1718, 26.8559, 28.1871, 26.9212, 26.8635, 28.1097]\""
      ]
     },
     "metadata": {},
     "output_type": "display_data"
    },
    {
     "data": {
      "text/plain": [
       "\"Time of the next update: 26.85591385782538\""
      ]
     },
     "metadata": {},
     "output_type": "display_data"
    },
    {
     "data": {
      "text/plain": [
       "\"Next index to update: 2\""
      ]
     },
     "metadata": {},
     "output_type": "display_data"
    },
    {
     "data": {
      "text/plain": [
       "\"Time is: 26.85591385782538\""
      ]
     },
     "metadata": {},
     "output_type": "display_data"
    },
    {
     "data": {
      "text/plain": [
       "\"Residual: 0.33000289452018006\""
      ]
     },
     "metadata": {},
     "output_type": "display_data"
    },
    {
     "data": {
      "text/plain": [
       "\"New β is: 0.8947368421052632\""
      ]
     },
     "metadata": {},
     "output_type": "display_data"
    },
    {
     "data": {
      "text/plain": [
       "\"Update queue: [29.7898, 28.4444, 29.4821, 29.7726, 28.4417, 29.4779]\""
      ]
     },
     "metadata": {},
     "output_type": "display_data"
    },
    {
     "data": {
      "text/plain": [
       "\"Time of the next update: 28.441677904458682\""
      ]
     },
     "metadata": {},
     "output_type": "display_data"
    },
    {
     "data": {
      "text/plain": [
       "\"Next index to update: 6\""
      ]
     },
     "metadata": {},
     "output_type": "display_data"
    },
    {
     "data": {
      "text/plain": [
       "\"Time is: 28.441677904458682\""
      ]
     },
     "metadata": {},
     "output_type": "display_data"
    },
    {
     "data": {
      "text/plain": [
       "\"Residual: 0.32074296290956933\""
      ]
     },
     "metadata": {},
     "output_type": "display_data"
    },
    {
     "data": {
      "text/plain": [
       "\"New β is: 0.9\""
      ]
     },
     "metadata": {},
     "output_type": "display_data"
    },
    {
     "data": {
      "text/plain": [
       "\"Update queue: [31.1479, 30.0415, 30.7798, 31.1764, 30.016, 30.9086]\""
      ]
     },
     "metadata": {},
     "output_type": "display_data"
    },
    {
     "data": {
      "text/plain": [
       "\"Time of the next update: 30.016036547477338\""
      ]
     },
     "metadata": {},
     "output_type": "display_data"
    },
    {
     "data": {
      "text/plain": [
       "\"Next index to update: 6\""
      ]
     },
     "metadata": {},
     "output_type": "display_data"
    },
    {
     "data": {
      "text/plain": [
       "\"Time is: 30.016036547477338\""
      ]
     },
     "metadata": {},
     "output_type": "display_data"
    },
    {
     "data": {
      "text/plain": [
       "\"Residual: 0.31431242468864806\""
      ]
     },
     "metadata": {},
     "output_type": "display_data"
    },
    {
     "data": {
      "text/plain": [
       "\"New β is: 0.9047619047619048\""
      ]
     },
     "metadata": {},
     "output_type": "display_data"
    },
    {
     "data": {
      "text/plain": [
       "\"Update queue: [32.5873, 31.6746, 32.2235, 32.6057, 31.6408, 32.3379]\""
      ]
     },
     "metadata": {},
     "output_type": "display_data"
    },
    {
     "data": {
      "text/plain": [
       "\"Time of the next update: 31.640839687331063\""
      ]
     },
     "metadata": {},
     "output_type": "display_data"
    },
    {
     "data": {
      "text/plain": [
       "\"Next index to update: 6\""
      ]
     },
     "metadata": {},
     "output_type": "display_data"
    },
    {
     "data": {
      "text/plain": [
       "\"Time is: 31.640839687331063\""
      ]
     },
     "metadata": {},
     "output_type": "display_data"
    },
    {
     "data": {
      "text/plain": [
       "\"Residual: 0.3090579662597511\""
      ]
     },
     "metadata": {},
     "output_type": "display_data"
    },
    {
     "data": {
      "text/plain": [
       "\"New β is: 0.9090909090909091\""
      ]
     },
     "metadata": {},
     "output_type": "display_data"
    },
    {
     "data": {
      "text/plain": [
       "\"Update queue: [33.9777, 33.2638, 33.4621, 34.0278, 33.2594, 33.7657]\""
      ]
     },
     "metadata": {},
     "output_type": "display_data"
    },
    {
     "data": {
      "text/plain": [
       "\"Time of the next update: 33.25941803294767\""
      ]
     },
     "metadata": {},
     "output_type": "display_data"
    },
    {
     "data": {
      "text/plain": [
       "\"Next index to update: 6\""
      ]
     },
     "metadata": {},
     "output_type": "display_data"
    },
    {
     "data": {
      "text/plain": [
       "\"Time is: 33.25941803294767\""
      ]
     },
     "metadata": {},
     "output_type": "display_data"
    },
    {
     "data": {
      "text/plain": [
       "\"Residual: 0.3037064848373011\""
      ]
     },
     "metadata": {},
     "output_type": "display_data"
    },
    {
     "data": {
      "text/plain": [
       "\"New β is: 0.9130434782608696\""
      ]
     },
     "metadata": {},
     "output_type": "display_data"
    },
    {
     "data": {
      "text/plain": [
       "\"Update queue: [35.1586, 34.7771, 36.076, 35.4619, 34.7187, 35.2004]\""
      ]
     },
     "metadata": {},
     "output_type": "display_data"
    },
    {
     "data": {
      "text/plain": [
       "\"Time of the next update: 34.71865144583648\""
      ]
     },
     "metadata": {},
     "output_type": "display_data"
    },
    {
     "data": {
      "text/plain": [
       "\"Next index to update: 6\""
      ]
     },
     "metadata": {},
     "output_type": "display_data"
    },
    {
     "data": {
      "text/plain": [
       "\"Time is: 34.71865144583648\""
      ]
     },
     "metadata": {},
     "output_type": "display_data"
    },
    {
     "data": {
      "text/plain": [
       "\"Residual: 0.29808956019996347\""
      ]
     },
     "metadata": {},
     "output_type": "display_data"
    },
    {
     "data": {
      "text/plain": [
       "\"New β is: 0.9166666666666666\""
      ]
     },
     "metadata": {},
     "output_type": "display_data"
    },
    {
     "data": {
      "text/plain": [
       "\"Update queue: [36.4989, 36.3443, 37.2245, 36.8698, 36.3711, 36.6456]\""
      ]
     },
     "metadata": {},
     "output_type": "display_data"
    },
    {
     "data": {
      "text/plain": [
       "\"Time of the next update: 36.34433918779623\""
      ]
     },
     "metadata": {},
     "output_type": "display_data"
    },
    {
     "data": {
      "text/plain": [
       "\"Next index to update: 2\""
      ]
     },
     "metadata": {},
     "output_type": "display_data"
    },
    {
     "data": {
      "text/plain": [
       "\"Time is: 36.34433918779623\""
      ]
     },
     "metadata": {},
     "output_type": "display_data"
    },
    {
     "data": {
      "text/plain": [
       "\"Residual: 0.29322500285537817\""
      ]
     },
     "metadata": {},
     "output_type": "display_data"
    },
    {
     "data": {
      "text/plain": [
       "\"New β is: 0.92\""
      ]
     },
     "metadata": {},
     "output_type": "display_data"
    },
    {
     "data": {
      "text/plain": [
       "\"Update queue: [37.934, 37.9205, 38.7366, 38.3524, 37.9213, 38.086]\""
      ]
     },
     "metadata": {},
     "output_type": "display_data"
    },
    {
     "data": {
      "text/plain": [
       "\"Time of the next update: 37.920477019680696\""
      ]
     },
     "metadata": {},
     "output_type": "display_data"
    },
    {
     "data": {
      "text/plain": [
       "\"Next index to update: 2\""
      ]
     },
     "metadata": {},
     "output_type": "display_data"
    },
    {
     "data": {
      "text/plain": [
       "\"Time is: 37.920477019680696\""
      ]
     },
     "metadata": {},
     "output_type": "display_data"
    },
    {
     "data": {
      "text/plain": [
       "\"Residual: 0.28862066914159934\""
      ]
     },
     "metadata": {},
     "output_type": "display_data"
    },
    {
     "data": {
      "text/plain": [
       "\"New β is: 0.9230769230769231\""
      ]
     },
     "metadata": {},
     "output_type": "display_data"
    },
    {
     "data": {
      "text/plain": [
       "\"Update queue: [40.4693, 39.5063, 39.9623, 39.7841, 39.5087, 40.9378]\""
      ]
     },
     "metadata": {},
     "output_type": "display_data"
    },
    {
     "data": {
      "text/plain": [
       "\"Time of the next update: 39.50632027772691\""
      ]
     },
     "metadata": {},
     "output_type": "display_data"
    },
    {
     "data": {
      "text/plain": [
       "\"Next index to update: 2\""
      ]
     },
     "metadata": {},
     "output_type": "display_data"
    },
    {
     "data": {
      "text/plain": [
       "\"Time is: 39.50632027772691\""
      ]
     },
     "metadata": {},
     "output_type": "display_data"
    },
    {
     "data": {
      "text/plain": [
       "\"Residual: 0.28285633271148836\""
      ]
     },
     "metadata": {},
     "output_type": "display_data"
    },
    {
     "data": {
      "text/plain": [
       "\"New β is: 0.9259259259259259\""
      ]
     },
     "metadata": {},
     "output_type": "display_data"
    },
    {
     "data": {
      "text/plain": [
       "\"Update queue: [41.7821, 41.0802, 42.4171, 41.218, 41.047, 42.3992]\""
      ]
     },
     "metadata": {},
     "output_type": "display_data"
    },
    {
     "data": {
      "text/plain": [
       "\"Time of the next update: 41.04695903745503\""
      ]
     },
     "metadata": {},
     "output_type": "display_data"
    },
    {
     "data": {
      "text/plain": [
       "\"Next index to update: 6\""
      ]
     },
     "metadata": {},
     "output_type": "display_data"
    },
    {
     "data": {
      "text/plain": [
       "\"Time is: 41.04695903745503\""
      ]
     },
     "metadata": {},
     "output_type": "display_data"
    },
    {
     "data": {
      "text/plain": [
       "\"Residual: 0.27730497856187997\""
      ]
     },
     "metadata": {},
     "output_type": "display_data"
    },
    {
     "data": {
      "text/plain": [
       "\"New β is: 0.9285714285714286\""
      ]
     },
     "metadata": {},
     "output_type": "display_data"
    },
    {
     "data": {
      "text/plain": [
       "\"Update queue: [43.0692, 42.6947, 43.7283, 44.0241, 42.6536, 43.7703]\""
      ]
     },
     "metadata": {},
     "output_type": "display_data"
    },
    {
     "data": {
      "text/plain": [
       "\"Time of the next update: 42.653612025217434\""
      ]
     },
     "metadata": {},
     "output_type": "display_data"
    },
    {
     "data": {
      "text/plain": [
       "\"Next index to update: 6\""
      ]
     },
     "metadata": {},
     "output_type": "display_data"
    },
    {
     "data": {
      "text/plain": [
       "\"Time is: 42.653612025217434\""
      ]
     },
     "metadata": {},
     "output_type": "display_data"
    },
    {
     "data": {
      "text/plain": [
       "\"Residual: 0.27309261549264985\""
      ]
     },
     "metadata": {},
     "output_type": "display_data"
    },
    {
     "data": {
      "text/plain": [
       "\"New β is: 0.9310344827586207\""
      ]
     },
     "metadata": {},
     "output_type": "display_data"
    },
    {
     "data": {
      "text/plain": [
       "\"Update queue: [44.4344, 44.304, 45.0996, 45.4993, 44.2539, 45.1915]\""
      ]
     },
     "metadata": {},
     "output_type": "display_data"
    },
    {
     "data": {
      "text/plain": [
       "\"Time of the next update: 44.253903776848446\""
      ]
     },
     "metadata": {},
     "output_type": "display_data"
    },
    {
     "data": {
      "text/plain": [
       "\"Next index to update: 6\""
      ]
     },
     "metadata": {},
     "output_type": "display_data"
    },
    {
     "data": {
      "text/plain": [
       "\"Time is: 44.253903776848446\""
      ]
     },
     "metadata": {},
     "output_type": "display_data"
    },
    {
     "data": {
      "text/plain": [
       "\"Residual: 0.2692439793567487\""
      ]
     },
     "metadata": {},
     "output_type": "display_data"
    },
    {
     "data": {
      "text/plain": [
       "\"New β is: 0.9333333333333333\""
      ]
     },
     "metadata": {},
     "output_type": "display_data"
    },
    {
     "data": {
      "text/plain": [
       "\"Update queue: [47.2979, 45.8752, 46.5549, 46.9124, 45.8657, 46.586]\""
      ]
     },
     "metadata": {},
     "output_type": "display_data"
    },
    {
     "data": {
      "text/plain": [
       "\"Time of the next update: 45.865699216643186\""
      ]
     },
     "metadata": {},
     "output_type": "display_data"
    },
    {
     "data": {
      "text/plain": [
       "\"Next index to update: 6\""
      ]
     },
     "metadata": {},
     "output_type": "display_data"
    },
    {
     "data": {
      "text/plain": [
       "\"Time is: 45.865699216643186\""
      ]
     },
     "metadata": {},
     "output_type": "display_data"
    },
    {
     "data": {
      "text/plain": [
       "\"Residual: 0.2661047658473882\""
      ]
     },
     "metadata": {},
     "output_type": "display_data"
    },
    {
     "data": {
      "text/plain": [
       "\"New β is: 0.935483870967742\""
      ]
     },
     "metadata": {},
     "output_type": "display_data"
    },
    {
     "data": {
      "text/plain": [
       "\"Update queue: [48.7666, 47.4455, 47.9241, 48.3447, 47.4477, 47.9204]\""
      ]
     },
     "metadata": {},
     "output_type": "display_data"
    },
    {
     "data": {
      "text/plain": [
       "\"Time of the next update: 47.44549285166822\""
      ]
     },
     "metadata": {},
     "output_type": "display_data"
    },
    {
     "data": {
      "text/plain": [
       "\"Next index to update: 2\""
      ]
     },
     "metadata": {},
     "output_type": "display_data"
    },
    {
     "data": {
      "text/plain": [
       "\"Time is: 47.44549285166822\""
      ]
     },
     "metadata": {},
     "output_type": "display_data"
    },
    {
     "data": {
      "text/plain": [
       "\"Residual: 0.26274045161186366\""
      ]
     },
     "metadata": {},
     "output_type": "display_data"
    },
    {
     "data": {
      "text/plain": [
       "\"New β is: 0.9375\""
      ]
     },
     "metadata": {},
     "output_type": "display_data"
    },
    {
     "data": {
      "text/plain": [
       "\"Update queue: [50.0047, 49.0483, 49.3621, 49.7935, 49.0031, 49.3472]\""
      ]
     },
     "metadata": {},
     "output_type": "display_data"
    },
    {
     "data": {
      "text/plain": [
       "\"Time of the next update: 49.00308149441697\""
      ]
     },
     "metadata": {},
     "output_type": "display_data"
    },
    {
     "data": {
      "text/plain": [
       "\"Next index to update: 6\""
      ]
     },
     "metadata": {},
     "output_type": "display_data"
    },
    {
     "data": {
      "text/plain": [
       "\"Time is: 49.00308149441697\""
      ]
     },
     "metadata": {},
     "output_type": "display_data"
    },
    {
     "data": {
      "text/plain": [
       "\"Residual: 0.25981424795938535\""
      ]
     },
     "metadata": {},
     "output_type": "display_data"
    },
    {
     "data": {
      "text/plain": [
       "\"New β is: 0.9393939393939394\""
      ]
     },
     "metadata": {},
     "output_type": "display_data"
    },
    {
     "data": {
      "text/plain": [
       "\"Update queue: [51.4216, 50.6225, 50.9085, 51.1943, 50.5657, 50.7739]\""
      ]
     },
     "metadata": {},
     "output_type": "display_data"
    },
    {
     "data": {
      "text/plain": [
       "\"Time of the next update: 50.565667881802206\""
      ]
     },
     "metadata": {},
     "output_type": "display_data"
    },
    {
     "data": {
      "text/plain": [
       "\"Next index to update: 6\""
      ]
     },
     "metadata": {},
     "output_type": "display_data"
    },
    {
     "data": {
      "text/plain": [
       "\"Time is: 50.565667881802206\""
      ]
     },
     "metadata": {},
     "output_type": "display_data"
    },
    {
     "data": {
      "text/plain": [
       "\"Residual: 0.2570216605581085\""
      ]
     },
     "metadata": {},
     "output_type": "display_data"
    },
    {
     "data": {
      "text/plain": [
       "\"New β is: 0.9411764705882353\""
      ]
     },
     "metadata": {},
     "output_type": "display_data"
    },
    {
     "data": {
      "text/plain": [
       "\"Update queue: [52.5492, 52.1464, 52.2751, 52.5996, 52.1631, 52.2173]\""
      ]
     },
     "metadata": {},
     "output_type": "display_data"
    },
    {
     "data": {
      "text/plain": [
       "\"Time of the next update: 52.14638975876732\""
      ]
     },
     "metadata": {},
     "output_type": "display_data"
    },
    {
     "data": {
      "text/plain": [
       "\"Next index to update: 2\""
      ]
     },
     "metadata": {},
     "output_type": "display_data"
    },
    {
     "data": {
      "text/plain": [
       "\"Time is: 52.14638975876732\""
      ]
     },
     "metadata": {},
     "output_type": "display_data"
    },
    {
     "data": {
      "text/plain": [
       "\"Residual: 0.25437415859169427\""
      ]
     },
     "metadata": {},
     "output_type": "display_data"
    },
    {
     "data": {
      "text/plain": [
       "\"New β is: 0.9428571428571428\""
      ]
     },
     "metadata": {},
     "output_type": "display_data"
    },
    {
     "data": {
      "text/plain": [
       "\"Update queue: [53.887, 53.7381, 54.8661, 54.0179, 53.7116, 55.0858]\""
      ]
     },
     "metadata": {},
     "output_type": "display_data"
    },
    {
     "data": {
      "text/plain": [
       "\"Time of the next update: 53.711620727691724\""
      ]
     },
     "metadata": {},
     "output_type": "display_data"
    },
    {
     "data": {
      "text/plain": [
       "\"Next index to update: 6\""
      ]
     },
     "metadata": {},
     "output_type": "display_data"
    },
    {
     "data": {
      "text/plain": [
       "\"Time is: 53.711620727691724\""
      ]
     },
     "metadata": {},
     "output_type": "display_data"
    },
    {
     "data": {
      "text/plain": [
       "\"Residual: 0.25012002227321295\""
      ]
     },
     "metadata": {},
     "output_type": "display_data"
    },
    {
     "data": {
      "text/plain": [
       "\"New β is: 0.9444444444444444\""
      ]
     },
     "metadata": {},
     "output_type": "display_data"
    },
    {
     "data": {
      "text/plain": [
       "\"Update queue: [55.3343, 55.2789, 56.2264, 55.4634, 55.2099, 56.4999]\""
      ]
     },
     "metadata": {},
     "output_type": "display_data"
    },
    {
     "data": {
      "text/plain": [
       "\"Time of the next update: 55.209886058952954\""
      ]
     },
     "metadata": {},
     "output_type": "display_data"
    },
    {
     "data": {
      "text/plain": [
       "\"Next index to update: 6\""
      ]
     },
     "metadata": {},
     "output_type": "display_data"
    },
    {
     "data": {
      "text/plain": [
       "\"Time is: 55.209886058952954\""
      ]
     },
     "metadata": {},
     "output_type": "display_data"
    },
    {
     "data": {
      "text/plain": [
       "\"Residual: 0.24733370706380708\""
      ]
     },
     "metadata": {},
     "output_type": "display_data"
    },
    {
     "data": {
      "text/plain": [
       "\"New β is: 0.9459459459459459\""
      ]
     },
     "metadata": {},
     "output_type": "display_data"
    },
    {
     "data": {
      "text/plain": [
       "\"Update queue: [57.81, 56.7548, 57.4175, 56.8983, 56.7749, 57.9276]\""
      ]
     },
     "metadata": {},
     "output_type": "display_data"
    },
    {
     "data": {
      "text/plain": [
       "\"Time of the next update: 56.75477608186439\""
      ]
     },
     "metadata": {},
     "output_type": "display_data"
    },
    {
     "data": {
      "text/plain": [
       "\"Next index to update: 2\""
      ]
     },
     "metadata": {},
     "output_type": "display_data"
    },
    {
     "data": {
      "text/plain": [
       "\"Time is: 56.75477608186439\""
      ]
     },
     "metadata": {},
     "output_type": "display_data"
    },
    {
     "data": {
      "text/plain": [
       "\"Residual: 0.24528749342592887\""
      ]
     },
     "metadata": {},
     "output_type": "display_data"
    },
    {
     "data": {
      "text/plain": [
       "\"New β is: 0.9473684210526316\""
      ]
     },
     "metadata": {},
     "output_type": "display_data"
    },
    {
     "data": {
      "text/plain": [
       "\"Update queue: [59.0959, 58.3838, 58.6937, 58.3471, 58.3599, 59.3517]\""
      ]
     },
     "metadata": {},
     "output_type": "display_data"
    },
    {
     "data": {
      "text/plain": [
       "\"Time of the next update: 58.347121754006224\""
      ]
     },
     "metadata": {},
     "output_type": "display_data"
    },
    {
     "data": {
      "text/plain": [
       "\"Next index to update: 5\""
      ]
     },
     "metadata": {},
     "output_type": "display_data"
    },
    {
     "data": {
      "text/plain": [
       "\"Time is: 58.347121754006224\""
      ]
     },
     "metadata": {},
     "output_type": "display_data"
    },
    {
     "data": {
      "text/plain": [
       "\"Residual: 0.2424770638171822\""
      ]
     },
     "metadata": {},
     "output_type": "display_data"
    },
    {
     "data": {
      "text/plain": [
       "\"New β is: 0.9487179487179487\""
      ]
     },
     "metadata": {},
     "output_type": "display_data"
    },
    {
     "data": {
      "text/plain": [
       "\"Update queue: [60.4516, 59.9076, 60.1218, 61.2032, 59.8908, 60.7721]\""
      ]
     },
     "metadata": {},
     "output_type": "display_data"
    },
    {
     "data": {
      "text/plain": [
       "\"Time of the next update: 59.890789628448644\""
      ]
     },
     "metadata": {},
     "output_type": "display_data"
    },
    {
     "data": {
      "text/plain": [
       "\"Next index to update: 6\""
      ]
     },
     "metadata": {},
     "output_type": "display_data"
    },
    {
     "data": {
      "text/plain": [
       "\"Time is: 59.890789628448644\""
      ]
     },
     "metadata": {},
     "output_type": "display_data"
    },
    {
     "data": {
      "text/plain": [
       "\"Residual: 0.23961313571900744\""
      ]
     },
     "metadata": {},
     "output_type": "display_data"
    },
    {
     "data": {
      "text/plain": [
       "\"New β is: 0.95\""
      ]
     },
     "metadata": {},
     "output_type": "display_data"
    },
    {
     "data": {
      "text/plain": [
       "\"Update queue: [62.0009, 61.5265, 61.6036, 62.6522, 61.4807, 62.1633]\""
      ]
     },
     "metadata": {},
     "output_type": "display_data"
    },
    {
     "data": {
      "text/plain": [
       "\"Time of the next update: 61.48066415085711\""
      ]
     },
     "metadata": {},
     "output_type": "display_data"
    },
    {
     "data": {
      "text/plain": [
       "\"Next index to update: 6\""
      ]
     },
     "metadata": {},
     "output_type": "display_data"
    },
    {
     "data": {
      "text/plain": [
       "\"Time is: 61.48066415085711\""
      ]
     },
     "metadata": {},
     "output_type": "display_data"
    },
    {
     "data": {
      "text/plain": [
       "\"Residual: 0.23767712935502042\""
      ]
     },
     "metadata": {},
     "output_type": "display_data"
    },
    {
     "data": {
      "text/plain": [
       "\"New β is: 0.9512195121951219\""
      ]
     },
     "metadata": {},
     "output_type": "display_data"
    },
    {
     "data": {
      "text/plain": [
       "\"Update queue: [63.2953, 63.1455, 64.4143, 64.0775, 63.04, 63.5535]\""
      ]
     },
     "metadata": {},
     "output_type": "display_data"
    },
    {
     "data": {
      "text/plain": [
       "\"Time of the next update: 63.040040948012916\""
      ]
     },
     "metadata": {},
     "output_type": "display_data"
    },
    {
     "data": {
      "text/plain": [
       "\"Next index to update: 6\""
      ]
     },
     "metadata": {},
     "output_type": "display_data"
    },
    {
     "data": {
      "text/plain": [
       "\"Time is: 63.040040948012916\""
      ]
     },
     "metadata": {},
     "output_type": "display_data"
    },
    {
     "data": {
      "text/plain": [
       "\"Residual: 0.2354509741530402\""
      ]
     },
     "metadata": {},
     "output_type": "display_data"
    },
    {
     "data": {
      "text/plain": [
       "\"New β is: 0.9523809523809523\""
      ]
     },
     "metadata": {},
     "output_type": "display_data"
    },
    {
     "data": {
      "text/plain": [
       "\"Update queue: [64.6652, 64.7065, 65.6827, 65.4418, 64.6797, 64.9993]\""
      ]
     },
     "metadata": {},
     "output_type": "display_data"
    },
    {
     "data": {
      "text/plain": [
       "\"Time of the next update: 64.66518043480617\""
      ]
     },
     "metadata": {},
     "output_type": "display_data"
    },
    {
     "data": {
      "text/plain": [
       "\"Next index to update: 4\""
      ]
     },
     "metadata": {},
     "output_type": "display_data"
    },
    {
     "data": {
      "text/plain": [
       "\"Time is: 64.66518043480617\""
      ]
     },
     "metadata": {},
     "output_type": "display_data"
    },
    {
     "data": {
      "text/plain": [
       "\"Residual: 0.23335373497314815\""
      ]
     },
     "metadata": {},
     "output_type": "display_data"
    },
    {
     "data": {
      "text/plain": [
       "\"New β is: 0.9534883720930233\""
      ]
     },
     "metadata": {},
     "output_type": "display_data"
    },
    {
     "data": {
      "text/plain": [
       "\"Update queue: [67.0793, 66.2277, 67.0294, 66.8564, 66.2108, 66.3726]\""
      ]
     },
     "metadata": {},
     "output_type": "display_data"
    },
    {
     "data": {
      "text/plain": [
       "\"Time of the next update: 66.21080688771494\""
      ]
     },
     "metadata": {},
     "output_type": "display_data"
    },
    {
     "data": {
      "text/plain": [
       "\"Next index to update: 6\""
      ]
     },
     "metadata": {},
     "output_type": "display_data"
    },
    {
     "data": {
      "text/plain": [
       "\"Time is: 66.21080688771494\""
      ]
     },
     "metadata": {},
     "output_type": "display_data"
    },
    {
     "data": {
      "text/plain": [
       "\"Residual: 0.23131730588995797\""
      ]
     },
     "metadata": {},
     "output_type": "display_data"
    },
    {
     "data": {
      "text/plain": [
       "\"New β is: 0.9545454545454546\""
      ]
     },
     "metadata": {},
     "output_type": "display_data"
    },
    {
     "data": {
      "text/plain": [
       "\"Update queue: [68.1256, 67.8275, 68.6783, 68.2699, 67.8009, 69.211]\""
      ]
     },
     "metadata": {},
     "output_type": "display_data"
    },
    {
     "data": {
      "text/plain": [
       "\"Time of the next update: 67.80092001544624\""
      ]
     },
     "metadata": {},
     "output_type": "display_data"
    },
    {
     "data": {
      "text/plain": [
       "\"Next index to update: 6\""
      ]
     },
     "metadata": {},
     "output_type": "display_data"
    },
    {
     "data": {
      "text/plain": [
       "\"Time is: 67.80092001544624\""
      ]
     },
     "metadata": {},
     "output_type": "display_data"
    },
    {
     "data": {
      "text/plain": [
       "\"Residual: 0.22881478614069775\""
      ]
     },
     "metadata": {},
     "output_type": "display_data"
    },
    {
     "data": {
      "text/plain": [
       "\"New β is: 0.9555555555555556\""
      ]
     },
     "metadata": {},
     "output_type": "display_data"
    },
    {
     "data": {
      "text/plain": [
       "\"Update queue: [69.4619, 69.4883, 70.0666, 69.6628, 69.4016, 70.6306]\""
      ]
     },
     "metadata": {},
     "output_type": "display_data"
    },
    {
     "data": {
      "text/plain": [
       "\"Time of the next update: 69.40161449696237\""
      ]
     },
     "metadata": {},
     "output_type": "display_data"
    },
    {
     "data": {
      "text/plain": [
       "\"Next index to update: 6\""
      ]
     },
     "metadata": {},
     "output_type": "display_data"
    },
    {
     "data": {
      "text/plain": [
       "\"Time is: 69.40161449696237\""
      ]
     },
     "metadata": {},
     "output_type": "display_data"
    },
    {
     "data": {
      "text/plain": [
       "\"Residual: 0.22619878760307666\""
      ]
     },
     "metadata": {},
     "output_type": "display_data"
    },
    {
     "data": {
      "text/plain": [
       "\"New β is: 0.9565217391304348\""
      ]
     },
     "metadata": {},
     "output_type": "display_data"
    },
    {
     "data": {
      "text/plain": [
       "\"Update queue: [71.8829, 70.9738, 71.2492, 71.0622, 70.9874, 72.0541]\""
      ]
     },
     "metadata": {},
     "output_type": "display_data"
    },
    {
     "data": {
      "text/plain": [
       "\"Time of the next update: 70.97379630214698\""
      ]
     },
     "metadata": {},
     "output_type": "display_data"
    },
    {
     "data": {
      "text/plain": [
       "\"Next index to update: 2\""
      ]
     },
     "metadata": {},
     "output_type": "display_data"
    },
    {
     "data": {
      "text/plain": [
       "\"Time is: 70.97379630214698\""
      ]
     },
     "metadata": {},
     "output_type": "display_data"
    },
    {
     "data": {
      "text/plain": [
       "\"Residual: 0.22469165116910866\""
      ]
     },
     "metadata": {},
     "output_type": "display_data"
    },
    {
     "data": {
      "text/plain": [
       "\"New β is: 0.9574468085106383\""
      ]
     },
     "metadata": {},
     "output_type": "display_data"
    },
    {
     "data": {
      "text/plain": [
       "\"Update queue: [73.0757, 72.5299, 73.7663, 73.7648, 72.5127, 73.4956]\""
      ]
     },
     "metadata": {},
     "output_type": "display_data"
    },
    {
     "data": {
      "text/plain": [
       "\"Time of the next update: 72.5126982150361\""
      ]
     },
     "metadata": {},
     "output_type": "display_data"
    },
    {
     "data": {
      "text/plain": [
       "\"Next index to update: 6\""
      ]
     },
     "metadata": {},
     "output_type": "display_data"
    },
    {
     "data": {
      "text/plain": [
       "\"Time is: 72.5126982150361\""
      ]
     },
     "metadata": {},
     "output_type": "display_data"
    },
    {
     "data": {
      "text/plain": [
       "\"Residual: 0.22185131589286905\""
      ]
     },
     "metadata": {},
     "output_type": "display_data"
    },
    {
     "data": {
      "text/plain": [
       "\"New β is: 0.9583333333333334\""
      ]
     },
     "metadata": {},
     "output_type": "display_data"
    },
    {
     "data": {
      "text/plain": [
       "\"Update queue: [74.3135, 74.1001, 75.2191, 75.1279, 74.091, 74.9405]\""
      ]
     },
     "metadata": {},
     "output_type": "display_data"
    },
    {
     "data": {
      "text/plain": [
       "\"Time of the next update: 74.09097834004918\""
      ]
     },
     "metadata": {},
     "output_type": "display_data"
    },
    {
     "data": {
      "text/plain": [
       "\"Next index to update: 6\""
      ]
     },
     "metadata": {},
     "output_type": "display_data"
    },
    {
     "data": {
      "text/plain": [
       "\"Time is: 74.09097834004918\""
      ]
     },
     "metadata": {},
     "output_type": "display_data"
    },
    {
     "data": {
      "text/plain": [
       "\"Residual: 0.22049143975452687\""
      ]
     },
     "metadata": {},
     "output_type": "display_data"
    },
    {
     "data": {
      "text/plain": [
       "\"New β is: 0.9591836734693877\""
      ]
     },
     "metadata": {},
     "output_type": "display_data"
    },
    {
     "data": {
      "text/plain": [
       "\"Update queue: [76.8476, 75.6236, 76.3761, 76.5108, 75.628, 76.3144]\""
      ]
     },
     "metadata": {},
     "output_type": "display_data"
    },
    {
     "data": {
      "text/plain": [
       "\"Time of the next update: 75.62362424256774\""
      ]
     },
     "metadata": {},
     "output_type": "display_data"
    },
    {
     "data": {
      "text/plain": [
       "\"Next index to update: 2\""
      ]
     },
     "metadata": {},
     "output_type": "display_data"
    },
    {
     "data": {
      "text/plain": [
       "\"Time is: 75.62362424256774\""
      ]
     },
     "metadata": {},
     "output_type": "display_data"
    },
    {
     "data": {
      "text/plain": [
       "\"Residual: 0.21883742517549917\""
      ]
     },
     "metadata": {},
     "output_type": "display_data"
    },
    {
     "data": {
      "text/plain": [
       "\"New β is: 0.96\""
      ]
     },
     "metadata": {},
     "output_type": "display_data"
    },
    {
     "data": {
      "text/plain": [
       "\"Update queue: [78.2241, 77.2053, 77.7861, 77.875, 77.1546, 77.779]\""
      ]
     },
     "metadata": {},
     "output_type": "display_data"
    },
    {
     "data": {
      "text/plain": [
       "\"Time of the next update: 77.15458888318281\""
      ]
     },
     "metadata": {},
     "output_type": "display_data"
    },
    {
     "data": {
      "text/plain": [
       "\"Next index to update: 6\""
      ]
     },
     "metadata": {},
     "output_type": "display_data"
    },
    {
     "data": {
      "text/plain": [
       "\"Time is: 77.15458888318281\""
      ]
     },
     "metadata": {},
     "output_type": "display_data"
    },
    {
     "data": {
      "text/plain": [
       "\"Residual: 0.2172854408581604\""
      ]
     },
     "metadata": {},
     "output_type": "display_data"
    },
    {
     "data": {
      "text/plain": [
       "\"New β is: 0.9607843137254902\""
      ]
     },
     "metadata": {},
     "output_type": "display_data"
    },
    {
     "data": {
      "text/plain": [
       "\"Update queue: [79.6858, 78.7525, 79.2946, 79.3143, 78.7483, 79.179]\""
      ]
     },
     "metadata": {},
     "output_type": "display_data"
    },
    {
     "data": {
      "text/plain": [
       "\"Time of the next update: 78.74828609850412\""
      ]
     },
     "metadata": {},
     "output_type": "display_data"
    },
    {
     "data": {
      "text/plain": [
       "\"Next index to update: 6\""
      ]
     },
     "metadata": {},
     "output_type": "display_data"
    },
    {
     "data": {
      "text/plain": [
       "\"Time is: 78.74828609850412\""
      ]
     },
     "metadata": {},
     "output_type": "display_data"
    },
    {
     "data": {
      "text/plain": [
       "\"Residual: 0.21573963699020282\""
      ]
     },
     "metadata": {},
     "output_type": "display_data"
    },
    {
     "data": {
      "text/plain": [
       "\"New β is: 0.9615384615384616\""
      ]
     },
     "metadata": {},
     "output_type": "display_data"
    },
    {
     "data": {
      "text/plain": [
       "\"Update queue: [81.0053, 80.3782, 80.5796, 80.6272, 80.3389, 80.6344]\""
      ]
     },
     "metadata": {},
     "output_type": "display_data"
    },
    {
     "data": {
      "text/plain": [
       "\"Time of the next update: 80.33889482827426\""
      ]
     },
     "metadata": {},
     "output_type": "display_data"
    },
    {
     "data": {
      "text/plain": [
       "\"Next index to update: 6\""
      ]
     },
     "metadata": {},
     "output_type": "display_data"
    },
    {
     "data": {
      "text/plain": [
       "\"Time is: 80.33889482827426\""
      ]
     },
     "metadata": {},
     "output_type": "display_data"
    },
    {
     "data": {
      "text/plain": [
       "\"Residual: 0.21428914702560214\""
      ]
     },
     "metadata": {},
     "output_type": "display_data"
    },
    {
     "data": {
      "text/plain": [
       "\"New β is: 0.9622641509433962\""
      ]
     },
     "metadata": {},
     "output_type": "display_data"
    },
    {
     "data": {
      "text/plain": [
       "\"Update queue: [82.2916, 81.9553, 83.1815, 82.0749, 81.8639, 82.0912]\""
      ]
     },
     "metadata": {},
     "output_type": "display_data"
    },
    {
     "data": {
      "text/plain": [
       "\"Time of the next update: 81.86385475993514\""
      ]
     },
     "metadata": {},
     "output_type": "display_data"
    },
    {
     "data": {
      "text/plain": [
       "\"Next index to update: 6\""
      ]
     },
     "metadata": {},
     "output_type": "display_data"
    },
    {
     "data": {
      "text/plain": [
       "\"Time is: 81.86385475993514\""
      ]
     },
     "metadata": {},
     "output_type": "display_data"
    },
    {
     "data": {
      "text/plain": [
       "\"Residual: 0.21276551382003184\""
      ]
     },
     "metadata": {},
     "output_type": "display_data"
    },
    {
     "data": {
      "text/plain": [
       "\"New β is: 0.962962962962963\""
      ]
     },
     "metadata": {},
     "output_type": "display_data"
    },
    {
     "data": {
      "text/plain": [
       "\"Update queue: [83.5465, 83.468, 84.6233, 83.498, 83.4713, 83.5124]\""
      ]
     },
     "metadata": {},
     "output_type": "display_data"
    },
    {
     "data": {
      "text/plain": [
       "\"Time of the next update: 83.46804348235021\""
      ]
     },
     "metadata": {},
     "output_type": "display_data"
    },
    {
     "data": {
      "text/plain": [
       "\"Next index to update: 2\""
      ]
     },
     "metadata": {},
     "output_type": "display_data"
    },
    {
     "data": {
      "text/plain": [
       "\"Time is: 83.46804348235021\""
      ]
     },
     "metadata": {},
     "output_type": "display_data"
    },
    {
     "data": {
      "text/plain": [
       "\"Residual: 0.21136953356488397\""
      ]
     },
     "metadata": {},
     "output_type": "display_data"
    },
    {
     "data": {
      "text/plain": [
       "\"New β is: 0.9636363636363636\""
      ]
     },
     "metadata": {},
     "output_type": "display_data"
    },
    {
     "data": {
      "text/plain": [
       "\"Update queue: [86.154, 85.0164, 85.8601, 84.9941, 85.0015, 86.3923]\""
      ]
     },
     "metadata": {},
     "output_type": "display_data"
    },
    {
     "data": {
      "text/plain": [
       "\"Time of the next update: 84.9940704484029\""
      ]
     },
     "metadata": {},
     "output_type": "display_data"
    },
    {
     "data": {
      "text/plain": [
       "\"Next index to update: 5\""
      ]
     },
     "metadata": {},
     "output_type": "display_data"
    },
    {
     "data": {
      "text/plain": [
       "\"Time is: 84.9940704484029\""
      ]
     },
     "metadata": {},
     "output_type": "display_data"
    },
    {
     "data": {
      "text/plain": [
       "\"Residual: 0.20941605267346375\""
      ]
     },
     "metadata": {},
     "output_type": "display_data"
    },
    {
     "data": {
      "text/plain": [
       "\"New β is: 0.9642857142857143\""
      ]
     },
     "metadata": {},
     "output_type": "display_data"
    },
    {
     "data": {
      "text/plain": [
       "\"Update queue: [87.4533, 86.5531, 87.2819, 87.8516, 86.539, 87.7696]\""
      ]
     },
     "metadata": {},
     "output_type": "display_data"
    },
    {
     "data": {
      "text/plain": [
       "\"Time of the next update: 86.53899685482249\""
      ]
     },
     "metadata": {},
     "output_type": "display_data"
    },
    {
     "data": {
      "text/plain": [
       "\"Next index to update: 6\""
      ]
     },
     "metadata": {},
     "output_type": "display_data"
    },
    {
     "data": {
      "text/plain": [
       "\"Time is: 86.53899685482249\""
      ]
     },
     "metadata": {},
     "output_type": "display_data"
    },
    {
     "data": {
      "text/plain": [
       "\"Residual: 0.20742361118951347\""
      ]
     },
     "metadata": {},
     "output_type": "display_data"
    },
    {
     "data": {
      "text/plain": [
       "\"New β is: 0.9649122807017544\""
      ]
     },
     "metadata": {},
     "output_type": "display_data"
    },
    {
     "data": {
      "text/plain": [
       "\"Update queue: [88.8909, 88.2335, 88.5942, 89.2368, 88.1234, 89.2252]\""
      ]
     },
     "metadata": {},
     "output_type": "display_data"
    },
    {
     "data": {
      "text/plain": [
       "\"Time of the next update: 88.12338500388415\""
      ]
     },
     "metadata": {},
     "output_type": "display_data"
    },
    {
     "data": {
      "text/plain": [
       "\"Next index to update: 6\""
      ]
     },
     "metadata": {},
     "output_type": "display_data"
    },
    {
     "data": {
      "text/plain": [
       "\"Time is: 88.12338500388415\""
      ]
     },
     "metadata": {},
     "output_type": "display_data"
    },
    {
     "data": {
      "text/plain": [
       "\"Residual: 0.20668096521316814\""
      ]
     },
     "metadata": {},
     "output_type": "display_data"
    },
    {
     "data": {
      "text/plain": [
       "\"New β is: 0.9655172413793104\""
      ]
     },
     "metadata": {},
     "output_type": "display_data"
    },
    {
     "data": {
      "text/plain": [
       "\"Update queue: [90.1829, 89.7569, 89.8112, 90.7256, 89.7611, 90.639]\""
      ]
     },
     "metadata": {},
     "output_type": "display_data"
    },
    {
     "data": {
      "text/plain": [
       "\"Time of the next update: 89.75685621722704\""
      ]
     },
     "metadata": {},
     "output_type": "display_data"
    },
    {
     "data": {
      "text/plain": [
       "\"Next index to update: 2\""
      ]
     },
     "metadata": {},
     "output_type": "display_data"
    },
    {
     "data": {
      "text/plain": [
       "\"Time is: 89.75685621722704\""
      ]
     },
     "metadata": {},
     "output_type": "display_data"
    },
    {
     "data": {
      "text/plain": [
       "\"Residual: 0.20528927850521606\""
      ]
     },
     "metadata": {},
     "output_type": "display_data"
    },
    {
     "data": {
      "text/plain": [
       "\"New β is: 0.9661016949152542\""
      ]
     },
     "metadata": {},
     "output_type": "display_data"
    },
    {
     "data": {
      "text/plain": [
       "\"Update queue: [91.4962, 91.4675, 92.3428, 92.1852, 91.3359, 92.0623]\""
      ]
     },
     "metadata": {},
     "output_type": "display_data"
    },
    {
     "data": {
      "text/plain": [
       "\"Time of the next update: 91.33588492293246\""
      ]
     },
     "metadata": {},
     "output_type": "display_data"
    },
    {
     "data": {
      "text/plain": [
       "\"Next index to update: 6\""
      ]
     },
     "metadata": {},
     "output_type": "display_data"
    },
    {
     "data": {
      "text/plain": [
       "\"Time is: 91.33588492293246\""
      ]
     },
     "metadata": {},
     "output_type": "display_data"
    },
    {
     "data": {
      "text/plain": [
       "\"Residual: 0.20428764231563448\""
      ]
     },
     "metadata": {},
     "output_type": "display_data"
    },
    {
     "data": {
      "text/plain": [
       "\"New β is: 0.9666666666666667\""
      ]
     },
     "metadata": {},
     "output_type": "display_data"
    },
    {
     "data": {
      "text/plain": [
       "\"Update queue: [94.3128, 92.9187, 93.7282, 93.6231, 92.9097, 93.5476]\""
      ]
     },
     "metadata": {},
     "output_type": "display_data"
    },
    {
     "data": {
      "text/plain": [
       "\"Time of the next update: 92.90969320444638\""
      ]
     },
     "metadata": {},
     "output_type": "display_data"
    },
    {
     "data": {
      "text/plain": [
       "\"Next index to update: 6\""
      ]
     },
     "metadata": {},
     "output_type": "display_data"
    },
    {
     "data": {
      "text/plain": [
       "\"Time is: 92.90969320444638\""
      ]
     },
     "metadata": {},
     "output_type": "display_data"
    },
    {
     "data": {
      "text/plain": [
       "\"Residual: 0.20312131153569762\""
      ]
     },
     "metadata": {},
     "output_type": "display_data"
    },
    {
     "data": {
      "text/plain": [
       "\"New β is: 0.9672131147540983\""
      ]
     },
     "metadata": {},
     "output_type": "display_data"
    },
    {
     "data": {
      "text/plain": [
       "\"Update queue: [95.7089, 94.539, 95.062, 94.9753, 94.4912, 94.9411]\""
      ]
     },
     "metadata": {},
     "output_type": "display_data"
    },
    {
     "data": {
      "text/plain": [
       "\"Time of the next update: 94.49119543717337\""
      ]
     },
     "metadata": {},
     "output_type": "display_data"
    },
    {
     "data": {
      "text/plain": [
       "\"Next index to update: 6\""
      ]
     },
     "metadata": {},
     "output_type": "display_data"
    },
    {
     "data": {
      "text/plain": [
       "\"Time is: 94.49119543717337\""
      ]
     },
     "metadata": {},
     "output_type": "display_data"
    },
    {
     "data": {
      "text/plain": [
       "\"Residual: 0.20191259596496994\""
      ]
     },
     "metadata": {},
     "output_type": "display_data"
    },
    {
     "data": {
      "text/plain": [
       "\"New β is: 0.967741935483871\""
      ]
     },
     "metadata": {},
     "output_type": "display_data"
    },
    {
     "data": {
      "text/plain": [
       "\"Update queue: [96.8515, 96.094, 96.3609, 96.4018, 96.088, 96.3489]\""
      ]
     },
     "metadata": {},
     "output_type": "display_data"
    },
    {
     "data": {
      "text/plain": [
       "\"Time of the next update: 96.08798802586985\""
      ]
     },
     "metadata": {},
     "output_type": "display_data"
    },
    {
     "data": {
      "text/plain": [
       "\"Next index to update: 6\""
      ]
     },
     "metadata": {},
     "output_type": "display_data"
    },
    {
     "data": {
      "text/plain": [
       "\"Time is: 96.08798802586985\""
      ]
     },
     "metadata": {},
     "output_type": "display_data"
    },
    {
     "data": {
      "text/plain": [
       "\"Residual: 0.20069868322431442\""
      ]
     },
     "metadata": {},
     "output_type": "display_data"
    },
    {
     "data": {
      "text/plain": [
       "\"New β is: 0.9682539682539683\""
      ]
     },
     "metadata": {},
     "output_type": "display_data"
    },
    {
     "data": {
      "text/plain": [
       "\"Update queue: [98.2828, 97.6781, 98.7069, 97.8198, 97.6628, 97.7983]\""
      ]
     },
     "metadata": {},
     "output_type": "display_data"
    },
    {
     "data": {
      "text/plain": [
       "\"Time of the next update: 97.66284792916856\""
      ]
     },
     "metadata": {},
     "output_type": "display_data"
    },
    {
     "data": {
      "text/plain": [
       "\"Next index to update: 6\""
      ]
     },
     "metadata": {},
     "output_type": "display_data"
    },
    {
     "data": {
      "text/plain": [
       "\"Time is: 97.66284792916856\""
      ]
     },
     "metadata": {},
     "output_type": "display_data"
    },
    {
     "data": {
      "text/plain": [
       "\"Residual: 0.19961346379025727\""
      ]
     },
     "metadata": {},
     "output_type": "display_data"
    },
    {
     "data": {
      "text/plain": [
       "\"New β is: 0.96875\""
      ]
     },
     "metadata": {},
     "output_type": "display_data"
    },
    {
     "data": {
      "text/plain": [
       "\"Update queue: [99.5628, 99.2687, 99.9369, 100.58, 99.193, 99.1995]\""
      ]
     },
     "metadata": {},
     "output_type": "display_data"
    },
    {
     "data": {
      "text/plain": [
       "\"Time of the next update: 99.19303761217454\""
      ]
     },
     "metadata": {},
     "output_type": "display_data"
    },
    {
     "data": {
      "text/plain": [
       "\"Next index to update: 6\""
      ]
     },
     "metadata": {},
     "output_type": "display_data"
    },
    {
     "data": {
      "text/plain": [
       "\"Time is: 99.19303761217454\""
      ]
     },
     "metadata": {},
     "output_type": "display_data"
    },
    {
     "data": {
      "text/plain": [
       "\"Residual: 0.19841369854925744\""
      ]
     },
     "metadata": {},
     "output_type": "display_data"
    },
    {
     "data": {
      "text/plain": [
       "\"New β is: 0.9692307692307692\""
      ]
     },
     "metadata": {},
     "output_type": "display_data"
    },
    {
     "data": {
      "text/plain": [
       "\"Update queue: [101.006, 100.787, 101.229, 102.075, 100.736, 102.038]\""
      ]
     },
     "metadata": {},
     "output_type": "display_data"
    },
    {
     "data": {
      "text/plain": [
       "\"Time of the next update: 100.73617150449003\""
      ]
     },
     "metadata": {},
     "output_type": "display_data"
    },
    {
     "data": {
      "text/plain": [
       "\"Next index to update: 6\""
      ]
     },
     "metadata": {},
     "output_type": "display_data"
    },
    {
     "data": {
      "text/plain": [
       "\"Time is: 100.73617150449003\""
      ]
     },
     "metadata": {},
     "output_type": "display_data"
    },
    {
     "data": {
      "text/plain": [
       "\"Residual: 0.19641668015584335\""
      ]
     },
     "metadata": {},
     "output_type": "display_data"
    },
    {
     "data": {
      "text/plain": [
       "\"New β is: 0.9696969696969697\""
      ]
     },
     "metadata": {},
     "output_type": "display_data"
    },
    {
     "data": {
      "text/plain": [
       "\"Update queue: [102.374, 102.385, 102.415, 103.488, 102.301, 103.441]\""
      ]
     },
     "metadata": {},
     "output_type": "display_data"
    },
    {
     "data": {
      "text/plain": [
       "\"Time of the next update: 102.3009401943775\""
      ]
     },
     "metadata": {},
     "output_type": "display_data"
    },
    {
     "data": {
      "text/plain": [
       "\"Next index to update: 6\""
      ]
     },
     "metadata": {},
     "output_type": "display_data"
    },
    {
     "data": {
      "text/plain": [
       "\"Time is: 102.3009401943775\""
      ]
     },
     "metadata": {},
     "output_type": "display_data"
    },
    {
     "data": {
      "text/plain": [
       "\"Residual: 0.19559133609891816\""
      ]
     },
     "metadata": {},
     "output_type": "display_data"
    },
    {
     "data": {
      "text/plain": [
       "\"New β is: 0.9701492537313433\""
      ]
     },
     "metadata": {},
     "output_type": "display_data"
    },
    {
     "data": {
      "text/plain": [
       "\"Update queue: [104.73, 103.869, 105.305, 104.962, 103.859, 104.88]\""
      ]
     },
     "metadata": {},
     "output_type": "display_data"
    },
    {
     "data": {
      "text/plain": [
       "\"Time of the next update: 103.8588454085523\""
      ]
     },
     "metadata": {},
     "output_type": "display_data"
    },
    {
     "data": {
      "text/plain": [
       "\"Next index to update: 6\""
      ]
     },
     "metadata": {},
     "output_type": "display_data"
    },
    {
     "data": {
      "text/plain": [
       "\"Time is: 103.8588454085523\""
      ]
     },
     "metadata": {},
     "output_type": "display_data"
    },
    {
     "data": {
      "text/plain": [
       "\"Residual: 0.19469424752922682\""
      ]
     },
     "metadata": {},
     "output_type": "display_data"
    },
    {
     "data": {
      "text/plain": [
       "\"New β is: 0.9705882352941176\""
      ]
     },
     "metadata": {},
     "output_type": "display_data"
    },
    {
     "data": {
      "text/plain": [
       "\"Update queue: [105.852, 105.539, 106.691, 106.384, 105.441, 106.339]\""
      ]
     },
     "metadata": {},
     "output_type": "display_data"
    },
    {
     "data": {
      "text/plain": [
       "\"Time of the next update: 105.44147514679388\""
      ]
     },
     "metadata": {},
     "output_type": "display_data"
    },
    {
     "data": {
      "text/plain": [
       "\"Next index to update: 6\""
      ]
     },
     "metadata": {},
     "output_type": "display_data"
    },
    {
     "data": {
      "text/plain": [
       "\"Time is: 105.44147514679388\""
      ]
     },
     "metadata": {},
     "output_type": "display_data"
    },
    {
     "data": {
      "text/plain": [
       "\"Residual: 0.19377653936559391\""
      ]
     },
     "metadata": {},
     "output_type": "display_data"
    },
    {
     "data": {
      "text/plain": [
       "\"New β is: 0.9710144927536232\""
      ]
     },
     "metadata": {},
     "output_type": "display_data"
    },
    {
     "data": {
      "text/plain": [
       "\"Update queue: [107.184, 107.022, 107.982, 107.774, 107.043, 107.772]\""
      ]
     },
     "metadata": {},
     "output_type": "display_data"
    },
    {
     "data": {
      "text/plain": [
       "\"Time of the next update: 107.02189827784427\""
      ]
     },
     "metadata": {},
     "output_type": "display_data"
    },
    {
     "data": {
      "text/plain": [
       "\"Next index to update: 2\""
      ]
     },
     "metadata": {},
     "output_type": "display_data"
    },
    {
     "data": {
      "text/plain": [
       "\"Time is: 107.02189827784427\""
      ]
     },
     "metadata": {},
     "output_type": "display_data"
    },
    {
     "data": {
      "text/plain": [
       "\"Residual: 0.19281187625950394\""
      ]
     },
     "metadata": {},
     "output_type": "display_data"
    },
    {
     "data": {
      "text/plain": [
       "\"New β is: 0.9714285714285714\""
      ]
     },
     "metadata": {},
     "output_type": "display_data"
    },
    {
     "data": {
      "text/plain": [
       "\"Update queue: [109.829, 108.715, 109.324, 109.186, 108.656, 109.203]\""
      ]
     },
     "metadata": {},
     "output_type": "display_data"
    },
    {
     "data": {
      "text/plain": [
       "\"Time of the next update: 108.6562772450823\""
      ]
     },
     "metadata": {},
     "output_type": "display_data"
    },
    {
     "data": {
      "text/plain": [
       "\"Next index to update: 6\""
      ]
     },
     "metadata": {},
     "output_type": "display_data"
    },
    {
     "data": {
      "text/plain": [
       "\"Time is: 108.6562772450823\""
      ]
     },
     "metadata": {},
     "output_type": "display_data"
    },
    {
     "data": {
      "text/plain": [
       "\"Residual: 0.191892431390066\""
      ]
     },
     "metadata": {},
     "output_type": "display_data"
    },
    {
     "data": {
      "text/plain": [
       "\"New β is: 0.971830985915493\""
      ]
     },
     "metadata": {},
     "output_type": "display_data"
    },
    {
     "data": {
      "text/plain": [
       "\"Update queue: [111.283, 110.384, 110.706, 110.57, 110.254, 110.629]\""
      ]
     },
     "metadata": {},
     "output_type": "display_data"
    },
    {
     "data": {
      "text/plain": [
       "\"Time of the next update: 110.25444702965191\""
      ]
     },
     "metadata": {},
     "output_type": "display_data"
    },
    {
     "data": {
      "text/plain": [
       "\"Next index to update: 6\""
      ]
     },
     "metadata": {},
     "output_type": "display_data"
    },
    {
     "data": {
      "text/plain": [
       "\"Time is: 110.25444702965191\""
      ]
     },
     "metadata": {},
     "output_type": "display_data"
    },
    {
     "data": {
      "text/plain": [
       "\"Residual: 0.19097081635878926\""
      ]
     },
     "metadata": {},
     "output_type": "display_data"
    },
    {
     "data": {
      "text/plain": [
       "\"New β is: 0.9722222222222222\""
      ]
     },
     "metadata": {},
     "output_type": "display_data"
    },
    {
     "data": {
      "text/plain": [
       "\"Update queue: [112.555, 111.927, 112.31, 111.979, 111.848, 112.062]\""
      ]
     },
     "metadata": {},
     "output_type": "display_data"
    },
    {
     "data": {
      "text/plain": [
       "\"Time of the next update: 111.84766045351606\""
      ]
     },
     "metadata": {},
     "output_type": "display_data"
    },
    {
     "data": {
      "text/plain": [
       "\"Next index to update: 6\""
      ]
     },
     "metadata": {},
     "output_type": "display_data"
    },
    {
     "data": {
      "text/plain": [
       "\"Time is: 111.84766045351606\""
      ]
     },
     "metadata": {},
     "output_type": "display_data"
    },
    {
     "data": {
      "text/plain": [
       "\"Residual: 0.19005543433093247\""
      ]
     },
     "metadata": {},
     "output_type": "display_data"
    },
    {
     "data": {
      "text/plain": [
       "\"New β is: 0.9726027397260274\""
      ]
     },
     "metadata": {},
     "output_type": "display_data"
    },
    {
     "data": {
      "text/plain": [
       "\"Update queue: [113.923, 113.498, 113.548, 114.83, 113.441, 113.44]\""
      ]
     },
     "metadata": {},
     "output_type": "display_data"
    },
    {
     "data": {
      "text/plain": [
       "\"Time of the next update: 113.44022564374058\""
      ]
     },
     "metadata": {},
     "output_type": "display_data"
    },
    {
     "data": {
      "text/plain": [
       "\"Next index to update: 1\""
      ]
     },
     "metadata": {},
     "output_type": "display_data"
    },
    {
     "data": {
      "text/plain": [
       "\"Time is: 113.44022564374058\""
      ]
     },
     "metadata": {},
     "output_type": "display_data"
    },
    {
     "data": {
      "text/plain": [
       "\"Residual: 0.18868101148611444\""
      ]
     },
     "metadata": {},
     "output_type": "display_data"
    },
    {
     "data": {
      "text/plain": [
       "\"New β is: 0.972972972972973\""
      ]
     },
     "metadata": {},
     "output_type": "display_data"
    },
    {
     "data": {
      "text/plain": [
       "\"Update queue: [115.204, 114.987, 116.247, 116.246, 114.968, 116.222]\""
      ]
     },
     "metadata": {},
     "output_type": "display_data"
    },
    {
     "data": {
      "text/plain": [
       "\"Time of the next update: 114.96829520131553\""
      ]
     },
     "metadata": {},
     "output_type": "display_data"
    },
    {
     "data": {
      "text/plain": [
       "\"Next index to update: 6\""
      ]
     },
     "metadata": {},
     "output_type": "display_data"
    },
    {
     "data": {
      "text/plain": [
       "\"Time is: 114.96829520131553\""
      ]
     },
     "metadata": {},
     "output_type": "display_data"
    },
    {
     "data": {
      "text/plain": [
       "\"Residual: 0.1870553183282301\""
      ]
     },
     "metadata": {},
     "output_type": "display_data"
    },
    {
     "data": {
      "text/plain": [
       "\"New β is: 0.9733333333333334\""
      ]
     },
     "metadata": {},
     "output_type": "display_data"
    },
    {
     "data": {
      "text/plain": [
       "\"Update queue: [116.666, 116.559, 117.629, 117.654, 116.524, 117.65]\""
      ]
     },
     "metadata": {},
     "output_type": "display_data"
    },
    {
     "data": {
      "text/plain": [
       "\"Time of the next update: 116.52364073280333\""
      ]
     },
     "metadata": {},
     "output_type": "display_data"
    },
    {
     "data": {
      "text/plain": [
       "\"Next index to update: 6\""
      ]
     },
     "metadata": {},
     "output_type": "display_data"
    },
    {
     "data": {
      "text/plain": [
       "\"Time is: 116.52364073280333\""
      ]
     },
     "metadata": {},
     "output_type": "display_data"
    },
    {
     "data": {
      "text/plain": [
       "\"Residual: 0.1866246556330829\""
      ]
     },
     "metadata": {},
     "output_type": "display_data"
    },
    {
     "data": {
      "text/plain": [
       "\"New β is: 0.9736842105263158\""
      ]
     },
     "metadata": {},
     "output_type": "display_data"
    },
    {
     "data": {
      "text/plain": [
       "\"Update queue: [119.257, 118.128, 118.878, 119.003, 118.071, 119.024]\""
      ]
     },
     "metadata": {},
     "output_type": "display_data"
    },
    {
     "data": {
      "text/plain": [
       "\"Time of the next update: 118.07131475737886\""
      ]
     },
     "metadata": {},
     "output_type": "display_data"
    },
    {
     "data": {
      "text/plain": [
       "\"Next index to update: 6\""
      ]
     },
     "metadata": {},
     "output_type": "display_data"
    },
    {
     "data": {
      "text/plain": [
       "\"Time is: 118.07131475737886\""
      ]
     },
     "metadata": {},
     "output_type": "display_data"
    },
    {
     "data": {
      "text/plain": [
       "\"Residual: 0.1857610203758734\""
      ]
     },
     "metadata": {},
     "output_type": "display_data"
    },
    {
     "data": {
      "text/plain": [
       "\"New β is: 0.974025974025974\""
      ]
     },
     "metadata": {},
     "output_type": "display_data"
    },
    {
     "data": {
      "text/plain": [
       "\"Update queue: [120.453, 119.643, 120.26, 120.441, 119.668, 120.421]\""
      ]
     },
     "metadata": {},
     "output_type": "display_data"
    },
    {
     "data": {
      "text/plain": [
       "\"Time of the next update: 119.64317428141638\""
      ]
     },
     "metadata": {},
     "output_type": "display_data"
    },
    {
     "data": {
      "text/plain": [
       "\"Next index to update: 2\""
      ]
     },
     "metadata": {},
     "output_type": "display_data"
    },
    {
     "data": {
      "text/plain": [
       "\"Time is: 119.64317428141638\""
      ]
     },
     "metadata": {},
     "output_type": "display_data"
    },
    {
     "data": {
      "text/plain": [
       "\"Residual: 0.1850690739436197\""
      ]
     },
     "metadata": {},
     "output_type": "display_data"
    },
    {
     "data": {
      "text/plain": [
       "\"New β is: 0.9743589743589743\""
      ]
     },
     "metadata": {},
     "output_type": "display_data"
    },
    {
     "data": {
      "text/plain": [
       "\"Update queue: [121.661, 121.32, 121.514, 121.894, 121.222, 121.827]\""
      ]
     },
     "metadata": {},
     "output_type": "display_data"
    },
    {
     "data": {
      "text/plain": [
       "\"Time of the next update: 121.22185031324949\""
      ]
     },
     "metadata": {},
     "output_type": "display_data"
    },
    {
     "data": {
      "text/plain": [
       "\"Next index to update: 6\""
      ]
     },
     "metadata": {},
     "output_type": "display_data"
    },
    {
     "data": {
      "text/plain": [
       "\"Time is: 121.22185031324949\""
      ]
     },
     "metadata": {},
     "output_type": "display_data"
    },
    {
     "data": {
      "text/plain": [
       "\"Residual: 0.1842230481452429\""
      ]
     },
     "metadata": {},
     "output_type": "display_data"
    },
    {
     "data": {
      "text/plain": [
       "\"New β is: 0.9746835443037974\""
      ]
     },
     "metadata": {},
     "output_type": "display_data"
    },
    {
     "data": {
      "text/plain": [
       "\"Update queue: [123.107, 122.84, 122.884, 123.269, 122.824, 123.211]\""
      ]
     },
     "metadata": {},
     "output_type": "display_data"
    },
    {
     "data": {
      "text/plain": [
       "\"Time of the next update: 122.8236097007961\""
      ]
     },
     "metadata": {},
     "output_type": "display_data"
    },
    {
     "data": {
      "text/plain": [
       "\"Next index to update: 6\""
      ]
     },
     "metadata": {},
     "output_type": "display_data"
    },
    {
     "data": {
      "text/plain": [
       "\"Time is: 122.8236097007961\""
      ]
     },
     "metadata": {},
     "output_type": "display_data"
    },
    {
     "data": {
      "text/plain": [
       "\"Residual: 0.18353822974604386\""
      ]
     },
     "metadata": {},
     "output_type": "display_data"
    },
    {
     "data": {
      "text/plain": [
       "\"New β is: 0.975\""
      ]
     },
     "metadata": {},
     "output_type": "display_data"
    },
    {
     "data": {
      "text/plain": [
       "\"Update queue: [124.531, 124.469, 125.511, 124.724, 124.383, 124.593]\""
      ]
     },
     "metadata": {},
     "output_type": "display_data"
    },
    {
     "data": {
      "text/plain": [
       "\"Time of the next update: 124.3831152540974\""
      ]
     },
     "metadata": {},
     "output_type": "display_data"
    },
    {
     "data": {
      "text/plain": [
       "\"Next index to update: 6\""
      ]
     },
     "metadata": {},
     "output_type": "display_data"
    },
    {
     "data": {
      "text/plain": [
       "\"Time is: 124.3831152540974\""
      ]
     },
     "metadata": {},
     "output_type": "display_data"
    },
    {
     "data": {
      "text/plain": [
       "\"Residual: 0.18275384947070406\""
      ]
     },
     "metadata": {},
     "output_type": "display_data"
    },
    {
     "data": {
      "text/plain": [
       "\"New β is: 0.9753086419753086\""
      ]
     },
     "metadata": {},
     "output_type": "display_data"
    },
    {
     "data": {
      "text/plain": [
       "\"Update queue: [127.333, 126.004, 126.745, 126.164, 125.918, 126.067]\""
      ]
     },
     "metadata": {},
     "output_type": "display_data"
    },
    {
     "data": {
      "text/plain": [
       "\"Time of the next update: 125.91815697377231\""
      ]
     },
     "metadata": {},
     "output_type": "display_data"
    },
    {
     "data": {
      "text/plain": [
       "\"Next index to update: 6\""
      ]
     },
     "metadata": {},
     "output_type": "display_data"
    },
    {
     "data": {
      "text/plain": [
       "\"Time is: 125.91815697377231\""
      ]
     },
     "metadata": {},
     "output_type": "display_data"
    },
    {
     "data": {
      "text/plain": [
       "\"Residual: 0.1819930113759649\""
      ]
     },
     "metadata": {},
     "output_type": "display_data"
    },
    {
     "data": {
      "text/plain": [
       "\"New β is: 0.975609756097561\""
      ]
     },
     "metadata": {},
     "output_type": "display_data"
    },
    {
     "data": {
      "text/plain": [
       "\"Update queue: [128.66, 127.611, 128.066, 127.559, 127.51, 127.513]\""
      ]
     },
     "metadata": {},
     "output_type": "display_data"
    },
    {
     "data": {
      "text/plain": [
       "\"Time of the next update: 127.51010963791201\""
      ]
     },
     "metadata": {},
     "output_type": "display_data"
    },
    {
     "data": {
      "text/plain": [
       "\"Next index to update: 6\""
      ]
     },
     "metadata": {},
     "output_type": "display_data"
    },
    {
     "data": {
      "text/plain": [
       "\"Time is: 127.51010963791201\""
      ]
     },
     "metadata": {},
     "output_type": "display_data"
    },
    {
     "data": {
      "text/plain": [
       "\"Residual: 0.18111518497071827\""
      ]
     },
     "metadata": {},
     "output_type": "display_data"
    },
    {
     "data": {
      "text/plain": [
       "\"New β is: 0.9759036144578314\""
      ]
     },
     "metadata": {},
     "output_type": "display_data"
    },
    {
     "data": {
      "text/plain": [
       "\"Update queue: [129.904, 129.142, 129.151, 130.411, 129.154, 130.344]\""
      ]
     },
     "metadata": {},
     "output_type": "display_data"
    },
    {
     "data": {
      "text/plain": [
       "\"Time of the next update: 129.1422590958979\""
      ]
     },
     "metadata": {},
     "output_type": "display_data"
    },
    {
     "data": {
      "text/plain": [
       "\"Next index to update: 2\""
      ]
     },
     "metadata": {},
     "output_type": "display_data"
    },
    {
     "data": {
      "text/plain": [
       "\"Time is: 129.1422590958979\""
      ]
     },
     "metadata": {},
     "output_type": "display_data"
    },
    {
     "data": {
      "text/plain": [
       "\"Residual: 0.17928236432547334\""
      ]
     },
     "metadata": {},
     "output_type": "display_data"
    },
    {
     "data": {
      "text/plain": [
       "\"New β is: 0.9761904761904762\""
      ]
     },
     "metadata": {},
     "output_type": "display_data"
    },
    {
     "data": {
      "text/plain": [
       "\"Update queue: [131.11, 130.699, 131.887, 131.843, 130.705, 131.695]\""
      ]
     },
     "metadata": {},
     "output_type": "display_data"
    },
    {
     "data": {
      "text/plain": [
       "\"Time of the next update: 130.69879871490207\""
      ]
     },
     "metadata": {},
     "output_type": "display_data"
    },
    {
     "data": {
      "text/plain": [
       "\"Next index to update: 2\""
      ]
     },
     "metadata": {},
     "output_type": "display_data"
    },
    {
     "data": {
      "text/plain": [
       "\"Time is: 130.69879871490207\""
      ]
     },
     "metadata": {},
     "output_type": "display_data"
    },
    {
     "data": {
      "text/plain": [
       "\"Residual: 0.17872193829745403\""
      ]
     },
     "metadata": {},
     "output_type": "display_data"
    },
    {
     "data": {
      "text/plain": [
       "\"New β is: 0.9764705882352941\""
      ]
     },
     "metadata": {},
     "output_type": "display_data"
    },
    {
     "data": {
      "text/plain": [
       "\"Update queue: [132.362, 132.327, 133.123, 133.261, 132.279, 133.19]\""
      ]
     },
     "metadata": {},
     "output_type": "display_data"
    },
    {
     "data": {
      "text/plain": [
       "\"Time of the next update: 132.2790397513827\""
      ]
     },
     "metadata": {},
     "output_type": "display_data"
    },
    {
     "data": {
      "text/plain": [
       "\"Next index to update: 6\""
      ]
     },
     "metadata": {},
     "output_type": "display_data"
    },
    {
     "data": {
      "text/plain": [
       "\"Time is: 132.2790397513827\""
      ]
     },
     "metadata": {},
     "output_type": "display_data"
    },
    {
     "data": {
      "text/plain": [
       "\"Residual: 0.17787254356824164\""
      ]
     },
     "metadata": {},
     "output_type": "display_data"
    },
    {
     "data": {
      "text/plain": [
       "\"New β is: 0.9767441860465116\""
      ]
     },
     "metadata": {},
     "output_type": "display_data"
    },
    {
     "data": {
      "text/plain": [
       "\"Update queue: [134.778, 133.942, 134.508, 134.691, 133.832, 134.598]\""
      ]
     },
     "metadata": {},
     "output_type": "display_data"
    },
    {
     "data": {
      "text/plain": [
       "\"Time of the next update: 133.83245956418455\""
      ]
     },
     "metadata": {},
     "output_type": "display_data"
    },
    {
     "data": {
      "text/plain": [
       "\"Next index to update: 6\""
      ]
     },
     "metadata": {},
     "output_type": "display_data"
    },
    {
     "data": {
      "text/plain": [
       "\"Time is: 133.83245956418455\""
      ]
     },
     "metadata": {},
     "output_type": "display_data"
    },
    {
     "data": {
      "text/plain": [
       "\"Residual: 0.17707668987658257\""
      ]
     },
     "metadata": {},
     "output_type": "display_data"
    },
    {
     "data": {
      "text/plain": [
       "\"New β is: 0.9770114942528736\""
      ]
     },
     "metadata": {},
     "output_type": "display_data"
    },
    {
     "data": {
      "text/plain": [
       "\"Update queue: [136.043, 135.395, 135.87, 136.074, 135.385, 136.054]\""
      ]
     },
     "metadata": {},
     "output_type": "display_data"
    },
    {
     "data": {
      "text/plain": [
       "\"Time of the next update: 135.3853983395288\""
      ]
     },
     "metadata": {},
     "output_type": "display_data"
    },
    {
     "data": {
      "text/plain": [
       "\"Next index to update: 6\""
      ]
     },
     "metadata": {},
     "output_type": "display_data"
    },
    {
     "data": {
      "text/plain": [
       "\"Time is: 135.3853983395288\""
      ]
     },
     "metadata": {},
     "output_type": "display_data"
    },
    {
     "data": {
      "text/plain": [
       "\"Residual: 0.17625540729443773\""
      ]
     },
     "metadata": {},
     "output_type": "display_data"
    },
    {
     "data": {
      "text/plain": [
       "\"New β is: 0.9772727272727273\""
      ]
     },
     "metadata": {},
     "output_type": "display_data"
    },
    {
     "data": {
      "text/plain": [
       "\"Update queue: [137.353, 137.003, 137.172, 137.49, 136.937, 137.478]\""
      ]
     },
     "metadata": {},
     "output_type": "display_data"
    },
    {
     "data": {
      "text/plain": [
       "\"Time of the next update: 136.93742996416384\""
      ]
     },
     "metadata": {},
     "output_type": "display_data"
    },
    {
     "data": {
      "text/plain": [
       "\"Next index to update: 6\""
      ]
     },
     "metadata": {},
     "output_type": "display_data"
    },
    {
     "data": {
      "text/plain": [
       "\"Time is: 136.93742996416384\""
      ]
     },
     "metadata": {},
     "output_type": "display_data"
    },
    {
     "data": {
      "text/plain": [
       "\"Residual: 0.17547349769557602\""
      ]
     },
     "metadata": {},
     "output_type": "display_data"
    },
    {
     "data": {
      "text/plain": [
       "\"New β is: 0.9775280898876404\""
      ]
     },
     "metadata": {},
     "output_type": "display_data"
    },
    {
     "data": {
      "text/plain": [
       "\"Update queue: [138.679, 138.574, 138.53, 138.92, 138.488, 138.913]\""
      ]
     },
     "metadata": {},
     "output_type": "display_data"
    },
    {
     "data": {
      "text/plain": [
       "\"Time of the next update: 138.48783587670786\""
      ]
     },
     "metadata": {},
     "output_type": "display_data"
    },
    {
     "data": {
      "text/plain": [
       "\"Next index to update: 6\""
      ]
     },
     "metadata": {},
     "output_type": "display_data"
    },
    {
     "data": {
      "text/plain": [
       "\"Time is: 138.48783587670786\""
      ]
     },
     "metadata": {},
     "output_type": "display_data"
    },
    {
     "data": {
      "text/plain": [
       "\"Residual: 0.1747448665628074\""
      ]
     },
     "metadata": {},
     "output_type": "display_data"
    },
    {
     "data": {
      "text/plain": [
       "\"New β is: 0.9777777777777777\""
      ]
     },
     "metadata": {},
     "output_type": "display_data"
    },
    {
     "data": {
      "text/plain": [
       "\"Update queue: [140.093, 140.12, 140.965, 140.353, 140.077, 140.273]\""
      ]
     },
     "metadata": {},
     "output_type": "display_data"
    },
    {
     "data": {
      "text/plain": [
       "\"Time of the next update: 140.07681671836747\""
      ]
     },
     "metadata": {},
     "output_type": "display_data"
    },
    {
     "data": {
      "text/plain": [
       "\"Next index to update: 6\""
      ]
     },
     "metadata": {},
     "output_type": "display_data"
    },
    {
     "data": {
      "text/plain": [
       "\"Time is: 140.07681671836747\""
      ]
     },
     "metadata": {},
     "output_type": "display_data"
    },
    {
     "data": {
      "text/plain": [
       "\"Residual: 0.17407762530107823\""
      ]
     },
     "metadata": {},
     "output_type": "display_data"
    },
    {
     "data": {
      "text/plain": [
       "\"New β is: 0.978021978021978\""
      ]
     },
     "metadata": {},
     "output_type": "display_data"
    },
    {
     "data": {
      "text/plain": [
       "\"Update queue: [142.699, 141.633, 142.356, 141.772, 141.626, 141.722]\""
      ]
     },
     "metadata": {},
     "output_type": "display_data"
    },
    {
     "data": {
      "text/plain": [
       "\"Time of the next update: 141.62604667213705\""
      ]
     },
     "metadata": {},
     "output_type": "display_data"
    },
    {
     "data": {
      "text/plain": [
       "\"Next index to update: 6\""
      ]
     },
     "metadata": {},
     "output_type": "display_data"
    },
    {
     "data": {
      "text/plain": [
       "\"Time is: 141.62604667213705\""
      ]
     },
     "metadata": {},
     "output_type": "display_data"
    },
    {
     "data": {
      "text/plain": [
       "\"Residual: 0.17343541451538422\""
      ]
     },
     "metadata": {},
     "output_type": "display_data"
    },
    {
     "data": {
      "text/plain": [
       "\"New β is: 0.9782608695652174\""
      ]
     },
     "metadata": {},
     "output_type": "display_data"
    },
    {
     "data": {
      "text/plain": [
       "\"Update queue: [143.938, 143.219, 143.644, 143.199, 143.146, 143.188]\""
      ]
     },
     "metadata": {},
     "output_type": "display_data"
    },
    {
     "data": {
      "text/plain": [
       "\"Time of the next update: 143.14612358986747\""
      ]
     },
     "metadata": {},
     "output_type": "display_data"
    },
    {
     "data": {
      "text/plain": [
       "\"Next index to update: 6\""
      ]
     },
     "metadata": {},
     "output_type": "display_data"
    },
    {
     "data": {
      "text/plain": [
       "\"Time is: 143.14612358986747\""
      ]
     },
     "metadata": {},
     "output_type": "display_data"
    },
    {
     "data": {
      "text/plain": [
       "\"Residual: 0.17278434431878087\""
      ]
     },
     "metadata": {},
     "output_type": "display_data"
    },
    {
     "data": {
      "text/plain": [
       "\"New β is: 0.978494623655914\""
      ]
     },
     "metadata": {},
     "output_type": "display_data"
    },
    {
     "data": {
      "text/plain": [
       "\"Update queue: [145.232, 144.747, 145.002, 146.034, 144.702, 145.983]\""
      ]
     },
     "metadata": {},
     "output_type": "display_data"
    },
    {
     "data": {
      "text/plain": [
       "\"Time of the next update: 144.70244855727384\""
      ]
     },
     "metadata": {},
     "output_type": "display_data"
    },
    {
     "data": {
      "text/plain": [
       "\"Next index to update: 6\""
      ]
     },
     "metadata": {},
     "output_type": "display_data"
    },
    {
     "data": {
      "text/plain": [
       "\"Time is: 144.70244855727384\""
      ]
     },
     "metadata": {},
     "output_type": "display_data"
    },
    {
     "data": {
      "text/plain": [
       "\"Residual: 0.17144196122001482\""
      ]
     },
     "metadata": {},
     "output_type": "display_data"
    },
    {
     "data": {
      "text/plain": [
       "\"New β is: 0.9787234042553191\""
      ]
     },
     "metadata": {},
     "output_type": "display_data"
    },
    {
     "data": {
      "text/plain": [
       "\"Update queue: [146.373, 146.381, 146.467, 147.454, 146.317, 147.494]\""
      ]
     },
     "metadata": {},
     "output_type": "display_data"
    },
    {
     "data": {
      "text/plain": [
       "\"Time of the next update: 146.31685899755294\""
      ]
     },
     "metadata": {},
     "output_type": "display_data"
    },
    {
     "data": {
      "text/plain": [
       "\"Next index to update: 6\""
      ]
     },
     "metadata": {},
     "output_type": "display_data"
    },
    {
     "data": {
      "text/plain": [
       "\"Time is: 146.31685899755294\""
      ]
     },
     "metadata": {},
     "output_type": "display_data"
    },
    {
     "data": {
      "text/plain": [
       "\"Residual: 0.17094810904961988\""
      ]
     },
     "metadata": {},
     "output_type": "display_data"
    },
    {
     "data": {
      "text/plain": [
       "\"New β is: 0.9789473684210527\""
      ]
     },
     "metadata": {},
     "output_type": "display_data"
    },
    {
     "data": {
      "text/plain": [
       "\"Update queue: [148.863, 147.888, 149.265, 148.832, 147.864, 148.934]\""
      ]
     },
     "metadata": {},
     "output_type": "display_data"
    },
    {
     "data": {
      "text/plain": [
       "\"Time of the next update: 147.86362940340365\""
      ]
     },
     "metadata": {},
     "output_type": "display_data"
    },
    {
     "data": {
      "text/plain": [
       "\"Next index to update: 6\""
      ]
     },
     "metadata": {},
     "output_type": "display_data"
    },
    {
     "data": {
      "text/plain": [
       "\"Time is: 147.86362940340365\""
      ]
     },
     "metadata": {},
     "output_type": "display_data"
    },
    {
     "data": {
      "text/plain": [
       "\"Residual: 0.17027204227700712\""
      ]
     },
     "metadata": {},
     "output_type": "display_data"
    },
    {
     "data": {
      "text/plain": [
       "\"New β is: 0.9791666666666666\""
      ]
     },
     "metadata": {},
     "output_type": "display_data"
    },
    {
     "data": {
      "text/plain": [
       "\"Update queue: [150.32, 149.486, 150.645, 150.264, 149.396, 150.313]\""
      ]
     },
     "metadata": {},
     "output_type": "display_data"
    },
    {
     "data": {
      "text/plain": [
       "\"Time of the next update: 149.39605456491537\""
      ]
     },
     "metadata": {},
     "output_type": "display_data"
    },
    {
     "data": {
      "text/plain": [
       "\"Next index to update: 6\""
      ]
     },
     "metadata": {},
     "output_type": "display_data"
    },
    {
     "data": {
      "text/plain": [
       "\"Time is: 149.39605456491537\""
      ]
     },
     "metadata": {},
     "output_type": "display_data"
    },
    {
     "data": {
      "text/plain": [
       "\"Residual: 0.16960202278917424\""
      ]
     },
     "metadata": {},
     "output_type": "display_data"
    },
    {
     "data": {
      "text/plain": [
       "\"New β is: 0.979381443298969\""
      ]
     },
     "metadata": {},
     "output_type": "display_data"
    },
    {
     "data": {
      "text/plain": [
       "\"Update queue: [151.585, 150.989, 151.843, 151.691, 150.963, 151.773]\""
      ]
     },
     "metadata": {},
     "output_type": "display_data"
    },
    {
     "data": {
      "text/plain": [
       "\"Time of the next update: 150.96312224192553\""
      ]
     },
     "metadata": {},
     "output_type": "display_data"
    },
    {
     "data": {
      "text/plain": [
       "\"Next index to update: 6\""
      ]
     },
     "metadata": {},
     "output_type": "display_data"
    },
    {
     "data": {
      "text/plain": [
       "\"Time is: 150.96312224192553\""
      ]
     },
     "metadata": {},
     "output_type": "display_data"
    },
    {
     "data": {
      "text/plain": [
       "\"Residual: 0.1689697361328543\""
      ]
     },
     "metadata": {},
     "output_type": "display_data"
    },
    {
     "data": {
      "text/plain": [
       "\"New β is: 0.9795918367346939\""
      ]
     },
     "metadata": {},
     "output_type": "display_data"
    },
    {
     "data": {
      "text/plain": [
       "\"Update queue: [152.624, 152.559, 153.195, 153.146, 152.495, 153.256]\""
      ]
     },
     "metadata": {},
     "output_type": "display_data"
    },
    {
     "data": {
      "text/plain": [
       "\"Time of the next update: 152.49471078149554\""
      ]
     },
     "metadata": {},
     "output_type": "display_data"
    },
    {
     "data": {
      "text/plain": [
       "\"Next index to update: 6\""
      ]
     },
     "metadata": {},
     "output_type": "display_data"
    },
    {
     "data": {
      "text/plain": [
       "\"Time is: 152.49471078149554\""
      ]
     },
     "metadata": {},
     "output_type": "display_data"
    },
    {
     "data": {
      "text/plain": [
       "\"Residual: 0.16837728145111241\""
      ]
     },
     "metadata": {},
     "output_type": "display_data"
    },
    {
     "data": {
      "text/plain": [
       "\"New β is: 0.9797979797979798\""
      ]
     },
     "metadata": {},
     "output_type": "display_data"
    },
    {
     "data": {
      "text/plain": [
       "\"Update queue: [155.233, 154.153, 154.351, 154.597, 154.089, 154.619]\""
      ]
     },
     "metadata": {},
     "output_type": "display_data"
    },
    {
     "data": {
      "text/plain": [
       "\"Time of the next update: 154.08933714465837\""
      ]
     },
     "metadata": {},
     "output_type": "display_data"
    },
    {
     "data": {
      "text/plain": [
       "\"Next index to update: 6\""
      ]
     },
     "metadata": {},
     "output_type": "display_data"
    },
    {
     "data": {
      "text/plain": [
       "\"Time is: 154.08933714465837\""
      ]
     },
     "metadata": {},
     "output_type": "display_data"
    },
    {
     "data": {
      "text/plain": [
       "\"Residual: 0.1677739923517713\""
      ]
     },
     "metadata": {},
     "output_type": "display_data"
    },
    {
     "data": {
      "text/plain": [
       "\"New β is: 0.98\""
      ]
     },
     "metadata": {},
     "output_type": "display_data"
    },
    {
     "data": {
      "text/plain": [
       "\"Update queue: [156.563, 155.69, 156.924, 156.05, 155.665, 156.051]\""
      ]
     },
     "metadata": {},
     "output_type": "display_data"
    },
    {
     "data": {
      "text/plain": [
       "\"Time of the next update: 155.66532260371224\""
      ]
     },
     "metadata": {},
     "output_type": "display_data"
    },
    {
     "data": {
      "text/plain": [
       "\"Next index to update: 6\""
      ]
     },
     "metadata": {},
     "output_type": "display_data"
    },
    {
     "data": {
      "text/plain": [
       "\"Time is: 155.66532260371224\""
      ]
     },
     "metadata": {},
     "output_type": "display_data"
    },
    {
     "data": {
      "text/plain": [
       "\"Residual: 0.16709132557418718\""
      ]
     },
     "metadata": {},
     "output_type": "display_data"
    },
    {
     "data": {
      "text/plain": [
       "\"New β is: 0.9801980198019802\""
      ]
     },
     "metadata": {},
     "output_type": "display_data"
    },
    {
     "data": {
      "text/plain": [
       "\"Update queue: [157.828, 157.198, 158.101, 157.443, 157.213, 157.496]\""
      ]
     },
     "metadata": {},
     "output_type": "display_data"
    },
    {
     "data": {
      "text/plain": [
       "\"Time of the next update: 157.19777698025382\""
      ]
     },
     "metadata": {},
     "output_type": "display_data"
    },
    {
     "data": {
      "text/plain": [
       "\"Next index to update: 2\""
      ]
     },
     "metadata": {},
     "output_type": "display_data"
    },
    {
     "data": {
      "text/plain": [
       "\"Time is: 157.19777698025382\""
      ]
     },
     "metadata": {},
     "output_type": "display_data"
    },
    {
     "data": {
      "text/plain": [
       "\"Residual: 0.16646747571750534\""
      ]
     },
     "metadata": {},
     "output_type": "display_data"
    },
    {
     "data": {
      "text/plain": [
       "\"New β is: 0.9803921568627451\""
      ]
     },
     "metadata": {},
     "output_type": "display_data"
    },
    {
     "data": {
      "text/plain": [
       "\"Update queue: [159.14, 158.927, 159.65, 158.861, 158.804, 158.897]\""
      ]
     },
     "metadata": {},
     "output_type": "display_data"
    },
    {
     "data": {
      "text/plain": [
       "\"Time of the next update: 158.80409048995216\""
      ]
     },
     "metadata": {},
     "output_type": "display_data"
    },
    {
     "data": {
      "text/plain": [
       "\"Next index to update: 6\""
      ]
     },
     "metadata": {},
     "output_type": "display_data"
    },
    {
     "data": {
      "text/plain": [
       "\"Time is: 158.80409048995216\""
      ]
     },
     "metadata": {},
     "output_type": "display_data"
    },
    {
     "data": {
      "text/plain": [
       "\"Residual: 0.16585858343423565\""
      ]
     },
     "metadata": {},
     "output_type": "display_data"
    },
    {
     "data": {
      "text/plain": [
       "\"New β is: 0.9805825242718447\""
      ]
     },
     "metadata": {},
     "output_type": "display_data"
    },
    {
     "data": {
      "text/plain": [
       "\"Update queue: [161.745, 160.439, 161.113, 161.802, 160.381, 161.69]\""
      ]
     },
     "metadata": {},
     "output_type": "display_data"
    },
    {
     "data": {
      "text/plain": [
       "\"Time of the next update: 160.38110197508865\""
      ]
     },
     "metadata": {},
     "output_type": "display_data"
    },
    {
     "data": {
      "text/plain": [
       "\"Next index to update: 6\""
      ]
     },
     "metadata": {},
     "output_type": "display_data"
    },
    {
     "data": {
      "text/plain": [
       "\"Time is: 160.38110197508865\""
      ]
     },
     "metadata": {},
     "output_type": "display_data"
    },
    {
     "data": {
      "text/plain": [
       "\"Residual: 0.1648774074081526\""
      ]
     },
     "metadata": {},
     "output_type": "display_data"
    },
    {
     "data": {
      "text/plain": [
       "\"New β is: 0.9807692307692307\""
      ]
     },
     "metadata": {},
     "output_type": "display_data"
    },
    {
     "data": {
      "text/plain": [
       "\"Update queue: [163.0, 162.006, 162.355, 163.21, 161.967, 163.194]\""
      ]
     },
     "metadata": {},
     "output_type": "display_data"
    },
    {
     "data": {
      "text/plain": [
       "\"Time of the next update: 161.96689396478615\""
      ]
     },
     "metadata": {},
     "output_type": "display_data"
    },
    {
     "data": {
      "text/plain": [
       "\"Next index to update: 6\""
      ]
     },
     "metadata": {},
     "output_type": "display_data"
    },
    {
     "data": {
      "text/plain": [
       "\"Time is: 161.96689396478615\""
      ]
     },
     "metadata": {},
     "output_type": "display_data"
    },
    {
     "data": {
      "text/plain": [
       "\"Residual: 0.16408427104235207\""
      ]
     },
     "metadata": {},
     "output_type": "display_data"
    },
    {
     "data": {
      "text/plain": [
       "\"New β is: 0.9809523809523809\""
      ]
     },
     "metadata": {},
     "output_type": "display_data"
    },
    {
     "data": {
      "text/plain": [
       "\"Update queue: [164.403, 163.661, 163.862, 164.602, 163.534, 164.607]\""
      ]
     },
     "metadata": {},
     "output_type": "display_data"
    },
    {
     "data": {
      "text/plain": [
       "\"Time of the next update: 163.5340915974993\""
      ]
     },
     "metadata": {},
     "output_type": "display_data"
    },
    {
     "data": {
      "text/plain": [
       "\"Next index to update: 6\""
      ]
     },
     "metadata": {},
     "output_type": "display_data"
    },
    {
     "data": {
      "text/plain": [
       "\"Time is: 163.5340915974993\""
      ]
     },
     "metadata": {},
     "output_type": "display_data"
    },
    {
     "data": {
      "text/plain": [
       "\"Residual: 0.1636107054573663\""
      ]
     },
     "metadata": {},
     "output_type": "display_data"
    },
    {
     "data": {
      "text/plain": [
       "\"New β is: 0.9811320754716981\""
      ]
     },
     "metadata": {},
     "output_type": "display_data"
    },
    {
     "data": {
      "text/plain": [
       "\"Update queue: [165.661, 165.258, 165.155, 165.994, 165.15, 165.942]\""
      ]
     },
     "metadata": {},
     "output_type": "display_data"
    },
    {
     "data": {
      "text/plain": [
       "\"Time of the next update: 165.14993237284838\""
      ]
     },
     "metadata": {},
     "output_type": "display_data"
    },
    {
     "data": {
      "text/plain": [
       "\"Next index to update: 6\""
      ]
     },
     "metadata": {},
     "output_type": "display_data"
    },
    {
     "data": {
      "text/plain": [
       "\"Time is: 165.14993237284838\""
      ]
     },
     "metadata": {},
     "output_type": "display_data"
    },
    {
     "data": {
      "text/plain": [
       "\"Residual: 0.16295043159994588\""
      ]
     },
     "metadata": {},
     "output_type": "display_data"
    },
    {
     "data": {
      "text/plain": [
       "\"New β is: 0.9813084112149533\""
      ]
     },
     "metadata": {},
     "output_type": "display_data"
    },
    {
     "data": {
      "text/plain": [
       "\"Update queue: [167.018, 166.779, 167.803, 167.419, 166.714, 167.34]\""
      ]
     },
     "metadata": {},
     "output_type": "display_data"
    },
    {
     "data": {
      "text/plain": [
       "\"Time of the next update: 166.7139225615146\""
      ]
     },
     "metadata": {},
     "output_type": "display_data"
    },
    {
     "data": {
      "text/plain": [
       "\"Next index to update: 6\""
      ]
     },
     "metadata": {},
     "output_type": "display_data"
    },
    {
     "data": {
      "text/plain": [
       "\"Time is: 166.7139225615146\""
      ]
     },
     "metadata": {},
     "output_type": "display_data"
    },
    {
     "data": {
      "text/plain": [
       "\"Residual: 0.16238842999030018\""
      ]
     },
     "metadata": {},
     "output_type": "display_data"
    },
    {
     "data": {
      "text/plain": [
       "\"New β is: 0.9814814814814815\""
      ]
     },
     "metadata": {},
     "output_type": "display_data"
    },
    {
     "data": {
      "text/plain": [
       "\"Update queue: [168.398, 168.358, 169.033, 168.814, 168.286, 168.774]\""
      ]
     },
     "metadata": {},
     "output_type": "display_data"
    },
    {
     "data": {
      "text/plain": [
       "\"Time of the next update: 168.2859591408955\""
      ]
     },
     "metadata": {},
     "output_type": "display_data"
    },
    {
     "data": {
      "text/plain": [
       "\"Next index to update: 6\""
      ]
     },
     "metadata": {},
     "output_type": "display_data"
    },
    {
     "data": {
      "text/plain": [
       "\"Time is: 168.2859591408955\""
      ]
     },
     "metadata": {},
     "output_type": "display_data"
    },
    {
     "data": {
      "text/plain": [
       "\"Residual: 0.1618442601786934\""
      ]
     },
     "metadata": {},
     "output_type": "display_data"
    },
    {
     "data": {
      "text/plain": [
       "\"New β is: 0.981651376146789\""
      ]
     },
     "metadata": {},
     "output_type": "display_data"
    },
    {
     "data": {
      "text/plain": [
       "\"Update queue: [170.956, 169.817, 170.251, 170.231, 169.828, 170.169]\""
      ]
     },
     "metadata": {},
     "output_type": "display_data"
    },
    {
     "data": {
      "text/plain": [
       "\"Time of the next update: 169.8169169080445\""
      ]
     },
     "metadata": {},
     "output_type": "display_data"
    },
    {
     "data": {
      "text/plain": [
       "\"Next index to update: 2\""
      ]
     },
     "metadata": {},
     "output_type": "display_data"
    },
    {
     "data": {
      "text/plain": [
       "\"Time is: 169.8169169080445\""
      ]
     },
     "metadata": {},
     "output_type": "display_data"
    },
    {
     "data": {
      "text/plain": [
       "\"Residual: 0.16123260507481524\""
      ]
     },
     "metadata": {},
     "output_type": "display_data"
    },
    {
     "data": {
      "text/plain": [
       "\"New β is: 0.9818181818181818\""
      ]
     },
     "metadata": {},
     "output_type": "display_data"
    },
    {
     "data": {
      "text/plain": [
       "\"Update queue: [172.468, 171.43, 171.602, 171.662, 171.435, 171.569]\""
      ]
     },
     "metadata": {},
     "output_type": "display_data"
    },
    {
     "data": {
      "text/plain": [
       "\"Time of the next update: 171.42987079153292\""
      ]
     },
     "metadata": {},
     "output_type": "display_data"
    },
    {
     "data": {
      "text/plain": [
       "\"Next index to update: 2\""
      ]
     },
     "metadata": {},
     "output_type": "display_data"
    },
    {
     "data": {
      "text/plain": [
       "\"Time is: 171.42987079153292\""
      ]
     },
     "metadata": {},
     "output_type": "display_data"
    },
    {
     "data": {
      "text/plain": [
       "\"Residual: 0.1606971429861923\""
      ]
     },
     "metadata": {},
     "output_type": "display_data"
    },
    {
     "data": {
      "text/plain": [
       "\"New β is: 0.9819819819819819\""
      ]
     },
     "metadata": {},
     "output_type": "display_data"
    },
    {
     "data": {
      "text/plain": [
       "\"Update queue: [173.889, 173.036, 174.193, 173.091, 172.979, 174.401]\""
      ]
     },
     "metadata": {},
     "output_type": "display_data"
    },
    {
     "data": {
      "text/plain": [
       "\"Time of the next update: 172.97868653370836\""
      ]
     },
     "metadata": {},
     "output_type": "display_data"
    },
    {
     "data": {
      "text/plain": [
       "\"Next index to update: 6\""
      ]
     },
     "metadata": {},
     "output_type": "display_data"
    },
    {
     "data": {
      "text/plain": [
       "\"Time is: 172.97868653370836\""
      ]
     },
     "metadata": {},
     "output_type": "display_data"
    },
    {
     "data": {
      "text/plain": [
       "\"Residual: 0.15998313796841587\""
      ]
     },
     "metadata": {},
     "output_type": "display_data"
    },
    {
     "data": {
      "text/plain": [
       "\"New β is: 0.9821428571428571\""
      ]
     },
     "metadata": {},
     "output_type": "display_data"
    },
    {
     "data": {
      "text/plain": [
       "\"Update queue: [175.152, 174.609, 175.553, 175.859, 174.599, 175.793]\""
      ]
     },
     "metadata": {},
     "output_type": "display_data"
    },
    {
     "data": {
      "text/plain": [
       "\"Time of the next update: 174.59865951533234\""
      ]
     },
     "metadata": {},
     "output_type": "display_data"
    },
    {
     "data": {
      "text/plain": [
       "\"Next index to update: 6\""
      ]
     },
     "metadata": {},
     "output_type": "display_data"
    },
    {
     "data": {
      "text/plain": [
       "\"Time is: 174.59865951533234\""
      ]
     },
     "metadata": {},
     "output_type": "display_data"
    },
    {
     "data": {
      "text/plain": [
       "\"Residual: 0.15885733851802178\""
      ]
     },
     "metadata": {},
     "output_type": "display_data"
    },
    {
     "data": {
      "text/plain": [
       "\"New β is: 0.9823008849557522\""
      ]
     },
     "metadata": {},
     "output_type": "display_data"
    },
    {
     "data": {
      "text/plain": [
       "\"Update queue: [176.558, 176.166, 176.782, 177.248, 176.167, 177.246]\""
      ]
     },
     "metadata": {},
     "output_type": "display_data"
    },
    {
     "data": {
      "text/plain": [
       "\"Time of the next update: 176.16556559320196\""
      ]
     },
     "metadata": {},
     "output_type": "display_data"
    },
    {
     "data": {
      "text/plain": [
       "\"Next index to update: 2\""
      ]
     },
     "metadata": {},
     "output_type": "display_data"
    },
    {
     "data": {
      "text/plain": [
       "\"Time is: 176.16556559320196\""
      ]
     },
     "metadata": {},
     "output_type": "display_data"
    },
    {
     "data": {
      "text/plain": [
       "\"Residual: 0.15851169278006888\""
      ]
     },
     "metadata": {},
     "output_type": "display_data"
    },
    {
     "data": {
      "text/plain": [
       "\"New β is: 0.9824561403508771\""
      ]
     },
     "metadata": {},
     "output_type": "display_data"
    },
    {
     "data": {
      "text/plain": [
       "\"Update queue: [179.112, 177.758, 178.184, 178.655, 177.743, 178.621]\""
      ]
     },
     "metadata": {},
     "output_type": "display_data"
    },
    {
     "data": {
      "text/plain": [
       "\"Time of the next update: 177.74310277163988\""
      ]
     },
     "metadata": {},
     "output_type": "display_data"
    },
    {
     "data": {
      "text/plain": [
       "\"Next index to update: 6\""
      ]
     },
     "metadata": {},
     "output_type": "display_data"
    },
    {
     "data": {
      "text/plain": [
       "\"Time is: 177.74310277163988\""
      ]
     },
     "metadata": {},
     "output_type": "display_data"
    },
    {
     "data": {
      "text/plain": [
       "\"Residual: 0.15784469913811777\""
      ]
     },
     "metadata": {},
     "output_type": "display_data"
    },
    {
     "data": {
      "text/plain": [
       "\"New β is: 0.9826086956521739\""
      ]
     },
     "metadata": {},
     "output_type": "display_data"
    },
    {
     "data": {
      "text/plain": [
       "\"Update queue: [180.253, 179.299, 179.464, 180.114, 179.232, 180.105]\""
      ]
     },
     "metadata": {},
     "output_type": "display_data"
    },
    {
     "data": {
      "text/plain": [
       "\"Time of the next update: 179.2320652534177\""
      ]
     },
     "metadata": {},
     "output_type": "display_data"
    },
    {
     "data": {
      "text/plain": [
       "\"Next index to update: 6\""
      ]
     },
     "metadata": {},
     "output_type": "display_data"
    },
    {
     "data": {
      "text/plain": [
       "\"Time is: 179.2320652534177\""
      ]
     },
     "metadata": {},
     "output_type": "display_data"
    },
    {
     "data": {
      "text/plain": [
       "\"Residual: 0.15737847387150045\""
      ]
     },
     "metadata": {},
     "output_type": "display_data"
    },
    {
     "data": {
      "text/plain": [
       "\"New β is: 0.9827586206896551\""
      ]
     },
     "metadata": {},
     "output_type": "display_data"
    },
    {
     "data": {
      "text/plain": [
       "\"Update queue: [181.761, 180.92, 180.826, 181.561, 180.825, 181.512]\""
      ]
     },
     "metadata": {},
     "output_type": "display_data"
    },
    {
     "data": {
      "text/plain": [
       "\"Time of the next update: 180.8248770154419\""
      ]
     },
     "metadata": {},
     "output_type": "display_data"
    },
    {
     "data": {
      "text/plain": [
       "\"Next index to update: 6\""
      ]
     },
     "metadata": {},
     "output_type": "display_data"
    },
    {
     "data": {
      "text/plain": [
       "\"Time is: 180.8248770154419\""
      ]
     },
     "metadata": {},
     "output_type": "display_data"
    },
    {
     "data": {
      "text/plain": [
       "\"Residual: 0.15683554884529374\""
      ]
     },
     "metadata": {},
     "output_type": "display_data"
    },
    {
     "data": {
      "text/plain": [
       "\"New β is: 0.9829059829059829\""
      ]
     },
     "metadata": {},
     "output_type": "display_data"
    },
    {
     "data": {
      "text/plain": [
       "\"Update queue: [183.274, 182.423, 183.613, 182.973, 182.371, 182.912]\""
      ]
     },
     "metadata": {},
     "output_type": "display_data"
    },
    {
     "data": {
      "text/plain": [
       "\"Time of the next update: 182.3714568414623\""
      ]
     },
     "metadata": {},
     "output_type": "display_data"
    },
    {
     "data": {
      "text/plain": [
       "\"Next index to update: 6\""
      ]
     },
     "metadata": {},
     "output_type": "display_data"
    },
    {
     "data": {
      "text/plain": [
       "\"Time is: 182.3714568414623\""
      ]
     },
     "metadata": {},
     "output_type": "display_data"
    },
    {
     "data": {
      "text/plain": [
       "\"Residual: 0.15632431592559343\""
      ]
     },
     "metadata": {},
     "output_type": "display_data"
    },
    {
     "data": {
      "text/plain": [
       "\"New β is: 0.9830508474576272\""
      ]
     },
     "metadata": {},
     "output_type": "display_data"
    },
    {
     "data": {
      "text/plain": [
       "\"Update queue: [184.768, 184.083, 184.888, 184.359, 184.032, 184.308]\""
      ]
     },
     "metadata": {},
     "output_type": "display_data"
    },
    {
     "data": {
      "text/plain": [
       "\"Time of the next update: 184.03207109656043\""
      ]
     },
     "metadata": {},
     "output_type": "display_data"
    },
    {
     "data": {
      "text/plain": [
       "\"Next index to update: 6\""
      ]
     },
     "metadata": {},
     "output_type": "display_data"
    },
    {
     "data": {
      "text/plain": [
       "\"Time is: 184.03207109656043\""
      ]
     },
     "metadata": {},
     "output_type": "display_data"
    },
    {
     "data": {
      "text/plain": [
       "\"Residual: 0.1558032494994745\""
      ]
     },
     "metadata": {},
     "output_type": "display_data"
    },
    {
     "data": {
      "text/plain": [
       "\"New β is: 0.9831932773109243\""
      ]
     },
     "metadata": {},
     "output_type": "display_data"
    },
    {
     "data": {
      "text/plain": [
       "\"Update queue: [186.159, 185.7, 186.232, 185.815, 185.602, 185.742]\""
      ]
     },
     "metadata": {},
     "output_type": "display_data"
    },
    {
     "data": {
      "text/plain": [
       "\"Time of the next update: 185.6016309220452\""
      ]
     },
     "metadata": {},
     "output_type": "display_data"
    },
    {
     "data": {
      "text/plain": [
       "\"Next index to update: 6\""
      ]
     },
     "metadata": {},
     "output_type": "display_data"
    },
    {
     "data": {
      "text/plain": [
       "\"Time is: 185.6016309220452\""
      ]
     },
     "metadata": {},
     "output_type": "display_data"
    },
    {
     "data": {
      "text/plain": [
       "\"Residual: 0.1553363193657636\""
      ]
     },
     "metadata": {},
     "output_type": "display_data"
    },
    {
     "data": {
      "text/plain": [
       "\"New β is: 0.9833333333333333\""
      ]
     },
     "metadata": {},
     "output_type": "display_data"
    },
    {
     "data": {
      "text/plain": [
       "\"Update queue: [187.334, 187.273, 187.693, 187.274, 187.199, 187.229]\""
      ]
     },
     "metadata": {},
     "output_type": "display_data"
    },
    {
     "data": {
      "text/plain": [
       "\"Time of the next update: 187.1987265163479\""
      ]
     },
     "metadata": {},
     "output_type": "display_data"
    },
    {
     "data": {
      "text/plain": [
       "\"Next index to update: 6\""
      ]
     },
     "metadata": {},
     "output_type": "display_data"
    },
    {
     "data": {
      "text/plain": [
       "\"Time is: 187.1987265163479\""
      ]
     },
     "metadata": {},
     "output_type": "display_data"
    },
    {
     "data": {
      "text/plain": [
       "\"Residual: 0.15487316782930244\""
      ]
     },
     "metadata": {},
     "output_type": "display_data"
    },
    {
     "data": {
      "text/plain": [
       "\"New β is: 0.9834710743801653\""
      ]
     },
     "metadata": {},
     "output_type": "display_data"
    },
    {
     "data": {
      "text/plain": [
       "\"Update queue: [189.646, 188.764, 189.118, 190.169, 188.75, 190.066]\""
      ]
     },
     "metadata": {},
     "output_type": "display_data"
    },
    {
     "data": {
      "text/plain": [
       "\"Time of the next update: 188.75008492238976\""
      ]
     },
     "metadata": {},
     "output_type": "display_data"
    },
    {
     "data": {
      "text/plain": [
       "\"Next index to update: 6\""
      ]
     },
     "metadata": {},
     "output_type": "display_data"
    },
    {
     "data": {
      "text/plain": [
       "\"Time is: 188.75008492238976\""
      ]
     },
     "metadata": {},
     "output_type": "display_data"
    },
    {
     "data": {
      "text/plain": [
       "\"Residual: 0.153989996195255\""
      ]
     },
     "metadata": {},
     "output_type": "display_data"
    },
    {
     "data": {
      "text/plain": [
       "\"New β is: 0.9836065573770492\""
      ]
     },
     "metadata": {},
     "output_type": "display_data"
    },
    {
     "data": {
      "text/plain": [
       "\"Update queue: [191.189, 190.459, 190.478, 191.612, 190.38, 191.518]\""
      ]
     },
     "metadata": {},
     "output_type": "display_data"
    },
    {
     "data": {
      "text/plain": [
       "\"Time of the next update: 190.3804498380952\""
      ]
     },
     "metadata": {},
     "output_type": "display_data"
    },
    {
     "data": {
      "text/plain": [
       "\"Next index to update: 6\""
      ]
     },
     "metadata": {},
     "output_type": "display_data"
    },
    {
     "data": {
      "text/plain": [
       "\"Time is: 190.3804498380952\""
      ]
     },
     "metadata": {},
     "output_type": "display_data"
    },
    {
     "data": {
      "text/plain": [
       "\"Residual: 0.1534868195320402\""
      ]
     },
     "metadata": {},
     "output_type": "display_data"
    },
    {
     "data": {
      "text/plain": [
       "\"New β is: 0.983739837398374\""
      ]
     },
     "metadata": {},
     "output_type": "display_data"
    },
    {
     "data": {
      "text/plain": [
       "\"Update queue: [192.454, 191.991, 193.022, 193.069, 191.928, 192.917]\""
      ]
     },
     "metadata": {},
     "output_type": "display_data"
    },
    {
     "data": {
      "text/plain": [
       "\"Time of the next update: 191.92814811547902\""
      ]
     },
     "metadata": {},
     "output_type": "display_data"
    },
    {
     "data": {
      "text/plain": [
       "\"Next index to update: 6\""
      ]
     },
     "metadata": {},
     "output_type": "display_data"
    },
    {
     "data": {
      "text/plain": [
       "\"Time is: 191.92814811547902\""
      ]
     },
     "metadata": {},
     "output_type": "display_data"
    },
    {
     "data": {
      "text/plain": [
       "\"Residual: 0.15298646509920302\""
      ]
     },
     "metadata": {},
     "output_type": "display_data"
    },
    {
     "data": {
      "text/plain": [
       "\"New β is: 0.9838709677419355\""
      ]
     },
     "metadata": {},
     "output_type": "display_data"
    },
    {
     "data": {
      "text/plain": [
       "\"Update queue: [193.806, 193.619, 194.491, 194.468, 193.554, 194.359]\""
      ]
     },
     "metadata": {},
     "output_type": "display_data"
    },
    {
     "data": {
      "text/plain": [
       "\"Time of the next update: 193.55372163899807\""
      ]
     },
     "metadata": {},
     "output_type": "display_data"
    },
    {
     "data": {
      "text/plain": [
       "\"Next index to update: 6\""
      ]
     },
     "metadata": {},
     "output_type": "display_data"
    },
    {
     "data": {
      "text/plain": [
       "\"Time is: 193.55372163899807\""
      ]
     },
     "metadata": {},
     "output_type": "display_data"
    },
    {
     "data": {
      "text/plain": [
       "\"Residual: 0.15246307375620322\""
      ]
     },
     "metadata": {},
     "output_type": "display_data"
    },
    {
     "data": {
      "text/plain": [
       "\"New β is: 0.984\""
      ]
     },
     "metadata": {},
     "output_type": "display_data"
    },
    {
     "data": {
      "text/plain": [
       "\"Update queue: [196.371, 195.248, 195.878, 195.94, 195.151, 195.774]\""
      ]
     },
     "metadata": {},
     "output_type": "display_data"
    },
    {
     "data": {
      "text/plain": [
       "\"Time of the next update: 195.15147649023632\""
      ]
     },
     "metadata": {},
     "output_type": "display_data"
    },
    {
     "data": {
      "text/plain": [
       "\"Next index to update: 6\""
      ]
     },
     "metadata": {},
     "output_type": "display_data"
    },
    {
     "data": {
      "text/plain": [
       "\"Time is: 195.15147649023632\""
      ]
     },
     "metadata": {},
     "output_type": "display_data"
    },
    {
     "data": {
      "text/plain": [
       "\"Residual: 0.15191438715940747\""
      ]
     },
     "metadata": {},
     "output_type": "display_data"
    },
    {
     "data": {
      "text/plain": [
       "\"New β is: 0.9841269841269842\""
      ]
     },
     "metadata": {},
     "output_type": "display_data"
    },
    {
     "data": {
      "text/plain": [
       "\"Update queue: [197.873, 196.777, 197.206, 197.366, 196.741, 197.224]\""
      ]
     },
     "metadata": {},
     "output_type": "display_data"
    },
    {
     "data": {
      "text/plain": [
       "\"Time of the next update: 196.74084141520876\""
      ]
     },
     "metadata": {},
     "output_type": "display_data"
    },
    {
     "data": {
      "text/plain": [
       "\"Next index to update: 6\""
      ]
     },
     "metadata": {},
     "output_type": "display_data"
    },
    {
     "data": {
      "text/plain": [
       "\"Time is: 196.74084141520876\""
      ]
     },
     "metadata": {},
     "output_type": "display_data"
    },
    {
     "data": {
      "text/plain": [
       "\"Residual: 0.15138397184638505\""
      ]
     },
     "metadata": {},
     "output_type": "display_data"
    },
    {
     "data": {
      "text/plain": [
       "\"New β is: 0.984251968503937\""
      ]
     },
     "metadata": {},
     "output_type": "display_data"
    },
    {
     "data": {
      "text/plain": [
       "\"Update queue: [199.251, 198.397, 198.603, 198.831, 198.352, 198.634]\""
      ]
     },
     "metadata": {},
     "output_type": "display_data"
    },
    {
     "data": {
      "text/plain": [
       "\"Time of the next update: 198.3518662767738\""
      ]
     },
     "metadata": {},
     "output_type": "display_data"
    },
    {
     "data": {
      "text/plain": [
       "\"Next index to update: 6\""
      ]
     },
     "metadata": {},
     "output_type": "display_data"
    },
    {
     "data": {
      "text/plain": [
       "\"Time is: 198.3518662767738\""
      ]
     },
     "metadata": {},
     "output_type": "display_data"
    },
    {
     "data": {
      "text/plain": [
       "\"Residual: 0.1508346336699623\""
      ]
     },
     "metadata": {},
     "output_type": "display_data"
    },
    {
     "data": {
      "text/plain": [
       "\"New β is: 0.984375\""
      ]
     },
     "metadata": {},
     "output_type": "display_data"
    },
    {
     "data": {
      "text/plain": [
       "\"Update queue: [200.584, 200.016, 199.98, 200.255, 199.909, 200.06]\""
      ]
     },
     "metadata": {},
     "output_type": "display_data"
    },
    {
     "data": {
      "text/plain": [
       "\"Time of the next update: 199.90901400268032\""
      ]
     },
     "metadata": {},
     "output_type": "display_data"
    },
    {
     "data": {
      "text/plain": [
       "\"Next index to update: 6\""
      ]
     },
     "metadata": {},
     "output_type": "display_data"
    },
    {
     "data": {
      "text/plain": [
       "\"Time is: 199.90901400268032\""
      ]
     },
     "metadata": {},
     "output_type": "display_data"
    },
    {
     "data": {
      "text/plain": [
       "\"Residual: 0.15026457808947785\""
      ]
     },
     "metadata": {},
     "output_type": "display_data"
    },
    {
     "data": {
      "text/plain": [
       "\"New β is: 0.9844961240310077\""
      ]
     },
     "metadata": {},
     "output_type": "display_data"
    },
    {
     "data": {
      "text/plain": [
       "\"Update queue: [201.862, 201.523, 202.686, 201.673, 201.48, 201.487]\""
      ]
     },
     "metadata": {},
     "output_type": "display_data"
    },
    {
     "data": {
      "text/plain": [
       "\"Time of the next update: 201.48040161261397\""
      ]
     },
     "metadata": {},
     "output_type": "display_data"
    },
    {
     "data": {
      "text/plain": [
       "\"Next index to update: 6\""
      ]
     },
     "metadata": {},
     "output_type": "display_data"
    },
    {
     "data": {
      "text/plain": [
       "\"Time is: 201.48040161261397\""
      ]
     },
     "metadata": {},
     "output_type": "display_data"
    },
    {
     "data": {
      "text/plain": [
       "\"Residual: 0.1497032819330866\""
      ]
     },
     "metadata": {},
     "output_type": "display_data"
    },
    {
     "data": {
      "text/plain": [
       "\"New β is: 0.9846153846153847\""
      ]
     },
     "metadata": {},
     "output_type": "display_data"
    },
    {
     "data": {
      "text/plain": [
       "\"Update queue: [203.107, 203.086, 204.148, 204.457, 203.06, 204.242]\""
      ]
     },
     "metadata": {},
     "output_type": "display_data"
    },
    {
     "data": {
      "text/plain": [
       "\"Time of the next update: 203.05976789423264\""
      ]
     },
     "metadata": {},
     "output_type": "display_data"
    },
    {
     "data": {
      "text/plain": [
       "\"Next index to update: 6\""
      ]
     },
     "metadata": {},
     "output_type": "display_data"
    },
    {
     "data": {
      "text/plain": [
       "\"Time is: 203.05976789423264\""
      ]
     },
     "metadata": {},
     "output_type": "display_data"
    },
    {
     "data": {
      "text/plain": [
       "\"Residual: 0.14867952983322386\""
      ]
     },
     "metadata": {},
     "output_type": "display_data"
    },
    {
     "data": {
      "text/plain": [
       "\"New β is: 0.9847328244274809\""
      ]
     },
     "metadata": {},
     "output_type": "display_data"
    },
    {
     "data": {
      "text/plain": [
       "\"Update queue: [205.644, 204.707, 205.432, 205.876, 204.66, 205.663]\""
      ]
     },
     "metadata": {},
     "output_type": "display_data"
    },
    {
     "data": {
      "text/plain": [
       "\"Time of the next update: 204.6599228474435\""
      ]
     },
     "metadata": {},
     "output_type": "display_data"
    },
    {
     "data": {
      "text/plain": [
       "\"Next index to update: 6\""
      ]
     },
     "metadata": {},
     "output_type": "display_data"
    },
    {
     "data": {
      "text/plain": [
       "\"Time is: 204.6599228474435\""
      ]
     },
     "metadata": {},
     "output_type": "display_data"
    },
    {
     "data": {
      "text/plain": [
       "\"Residual: 0.14791564331641366\""
      ]
     },
     "metadata": {},
     "output_type": "display_data"
    },
    {
     "data": {
      "text/plain": [
       "\"New β is: 0.9848484848484849\""
      ]
     },
     "metadata": {},
     "output_type": "display_data"
    },
    {
     "data": {
      "text/plain": [
       "\"Update queue: [206.871, 206.229, 206.677, 207.312, 206.181, 207.101]\""
      ]
     },
     "metadata": {},
     "output_type": "display_data"
    },
    {
     "data": {
      "text/plain": [
       "\"Time of the next update: 206.18050894370316\""
      ]
     },
     "metadata": {},
     "output_type": "display_data"
    },
    {
     "data": {
      "text/plain": [
       "\"Next index to update: 6\""
      ]
     },
     "metadata": {},
     "output_type": "display_data"
    },
    {
     "data": {
      "text/plain": [
       "\"Time is: 206.18050894370316\""
      ]
     },
     "metadata": {},
     "output_type": "display_data"
    },
    {
     "data": {
      "text/plain": [
       "\"Residual: 0.14748457374281793\""
      ]
     },
     "metadata": {},
     "output_type": "display_data"
    },
    {
     "data": {
      "text/plain": [
       "\"New β is: 0.9849624060150376\""
      ]
     },
     "metadata": {},
     "output_type": "display_data"
    },
    {
     "data": {
      "text/plain": [
       "\"Update queue: [208.306, 207.882, 207.999, 208.712, 207.766, 208.526]\""
      ]
     },
     "metadata": {},
     "output_type": "display_data"
    },
    {
     "data": {
      "text/plain": [
       "\"Time of the next update: 207.7659892105115\""
      ]
     },
     "metadata": {},
     "output_type": "display_data"
    },
    {
     "data": {
      "text/plain": [
       "\"Next index to update: 6\""
      ]
     },
     "metadata": {},
     "output_type": "display_data"
    },
    {
     "data": {
      "text/plain": [
       "\"Time is: 207.7659892105115\""
      ]
     },
     "metadata": {},
     "output_type": "display_data"
    },
    {
     "data": {
      "text/plain": [
       "\"Residual: 0.14688285530744968\""
      ]
     },
     "metadata": {},
     "output_type": "display_data"
    },
    {
     "data": {
      "text/plain": [
       "\"New β is: 0.9850746268656716\""
      ]
     },
     "metadata": {},
     "output_type": "display_data"
    },
    {
     "data": {
      "text/plain": [
       "\"Update queue: [209.517, 209.427, 210.369, 210.117, 209.374, 209.944]\""
      ]
     },
     "metadata": {},
     "output_type": "display_data"
    },
    {
     "data": {
      "text/plain": [
       "\"Time of the next update: 209.3739382472536\""
      ]
     },
     "metadata": {},
     "output_type": "display_data"
    },
    {
     "data": {
      "text/plain": [
       "\"Next index to update: 6\""
      ]
     },
     "metadata": {},
     "output_type": "display_data"
    },
    {
     "data": {
      "text/plain": [
       "\"Time is: 209.3739382472536\""
      ]
     },
     "metadata": {},
     "output_type": "display_data"
    },
    {
     "data": {
      "text/plain": [
       "\"Residual: 0.14636910789488977\""
      ]
     },
     "metadata": {},
     "output_type": "display_data"
    },
    {
     "data": {
      "text/plain": [
       "\"New β is: 0.9851851851851852\""
      ]
     },
     "metadata": {},
     "output_type": "display_data"
    },
    {
     "data": {
      "text/plain": [
       "\"Update queue: [211.904, 210.993, 211.785, 211.509, 210.931, 211.337]\""
      ]
     },
     "metadata": {},
     "output_type": "display_data"
    },
    {
     "data": {
      "text/plain": [
       "\"Time of the next update: 210.93082862466898\""
      ]
     },
     "metadata": {},
     "output_type": "display_data"
    },
    {
     "data": {
      "text/plain": [
       "\"Next index to update: 6\""
      ]
     },
     "metadata": {},
     "output_type": "display_data"
    },
    {
     "data": {
      "text/plain": [
       "\"Time is: 210.93082862466898\""
      ]
     },
     "metadata": {},
     "output_type": "display_data"
    },
    {
     "data": {
      "text/plain": [
       "\"Residual: 0.14581570062483756\""
      ]
     },
     "metadata": {},
     "output_type": "display_data"
    },
    {
     "data": {
      "text/plain": [
       "\"New β is: 0.9852941176470589\""
      ]
     },
     "metadata": {},
     "output_type": "display_data"
    },
    {
     "data": {
      "text/plain": [
       "\"Update queue: [213.214, 212.597, 213.23, 212.926, 212.516, 212.784]\""
      ]
     },
     "metadata": {},
     "output_type": "display_data"
    },
    {
     "data": {
      "text/plain": [
       "\"Time of the next update: 212.51559089815316\""
      ]
     },
     "metadata": {},
     "output_type": "display_data"
    },
    {
     "data": {
      "text/plain": [
       "\"Next index to update: 6\""
      ]
     },
     "metadata": {},
     "output_type": "display_data"
    },
    {
     "data": {
      "text/plain": [
       "\"Time is: 212.51559089815316\""
      ]
     },
     "metadata": {},
     "output_type": "display_data"
    },
    {
     "data": {
      "text/plain": [
       "\"Residual: 0.14527631311218\""
      ]
     },
     "metadata": {},
     "output_type": "display_data"
    },
    {
     "data": {
      "text/plain": [
       "\"New β is: 0.9854014598540146\""
      ]
     },
     "metadata": {},
     "output_type": "display_data"
    },
    {
     "data": {
      "text/plain": [
       "\"Update queue: [214.344, 214.162, 214.628, 214.437, 214.118, 214.222]\""
      ]
     },
     "metadata": {},
     "output_type": "display_data"
    },
    {
     "data": {
      "text/plain": [
       "\"Time of the next update: 214.11792415890778\""
      ]
     },
     "metadata": {},
     "output_type": "display_data"
    },
    {
     "data": {
      "text/plain": [
       "\"Next index to update: 6\""
      ]
     },
     "metadata": {},
     "output_type": "display_data"
    },
    {
     "data": {
      "text/plain": [
       "\"Time is: 214.11792415890778\""
      ]
     },
     "metadata": {},
     "output_type": "display_data"
    },
    {
     "data": {
      "text/plain": [
       "\"Residual: 0.14473642162751033\""
      ]
     },
     "metadata": {},
     "output_type": "display_data"
    },
    {
     "data": {
      "text/plain": [
       "\"New β is: 0.9855072463768116\""
      ]
     },
     "metadata": {},
     "output_type": "display_data"
    },
    {
     "data": {
      "text/plain": [
       "\"Update queue: [215.755, 215.764, 215.93, 215.864, 215.689, 217.179]\""
      ]
     },
     "metadata": {},
     "output_type": "display_data"
    },
    {
     "data": {
      "text/plain": [
       "\"Time of the next update: 215.68922443826247\""
      ]
     },
     "metadata": {},
     "output_type": "display_data"
    },
    {
     "data": {
      "text/plain": [
       "\"Next index to update: 6\""
      ]
     },
     "metadata": {},
     "output_type": "display_data"
    },
    {
     "data": {
      "text/plain": [
       "\"Time is: 215.68922443826247\""
      ]
     },
     "metadata": {},
     "output_type": "display_data"
    },
    {
     "data": {
      "text/plain": [
       "\"Residual: 0.14408590164338525\""
      ]
     },
     "metadata": {},
     "output_type": "display_data"
    },
    {
     "data": {
      "text/plain": [
       "\"New β is: 0.9856115107913669\""
      ]
     },
     "metadata": {},
     "output_type": "display_data"
    },
    {
     "data": {
      "text/plain": [
       "\"Update queue: [218.174, 217.223, 218.418, 217.277, 217.214, 218.613]\""
      ]
     },
     "metadata": {},
     "output_type": "display_data"
    },
    {
     "data": {
      "text/plain": [
       "\"Time of the next update: 217.21381648767942\""
      ]
     },
     "metadata": {},
     "output_type": "display_data"
    },
    {
     "data": {
      "text/plain": [
       "\"Next index to update: 6\""
      ]
     },
     "metadata": {},
     "output_type": "display_data"
    },
    {
     "data": {
      "text/plain": [
       "\"Time is: 217.21381648767942\""
      ]
     },
     "metadata": {},
     "output_type": "display_data"
    },
    {
     "data": {
      "text/plain": [
       "\"Residual: 0.1435437542337314\""
      ]
     },
     "metadata": {},
     "output_type": "display_data"
    },
    {
     "data": {
      "text/plain": [
       "\"New β is: 0.9857142857142858\""
      ]
     },
     "metadata": {},
     "output_type": "display_data"
    },
    {
     "data": {
      "text/plain": [
       "\"Update queue: [219.63, 218.904, 219.709, 220.255, 218.861, 220.022]\""
      ]
     },
     "metadata": {},
     "output_type": "display_data"
    },
    {
     "data": {
      "text/plain": [
       "\"Time of the next update: 218.86077369559752\""
      ]
     },
     "metadata": {},
     "output_type": "display_data"
    },
    {
     "data": {
      "text/plain": [
       "\"Next index to update: 6\""
      ]
     },
     "metadata": {},
     "output_type": "display_data"
    },
    {
     "data": {
      "text/plain": [
       "\"Time is: 218.86077369559752\""
      ]
     },
     "metadata": {},
     "output_type": "display_data"
    },
    {
     "data": {
      "text/plain": [
       "\"Residual: 0.1426848951882086\""
      ]
     },
     "metadata": {},
     "output_type": "display_data"
    },
    {
     "data": {
      "text/plain": [
       "\"New β is: 0.9858156028368794\""
      ]
     },
     "metadata": {},
     "output_type": "display_data"
    },
    {
     "data": {
      "text/plain": [
       "\"Update queue: [220.922, 220.399, 221.015, 221.686, 220.401, 221.48]\""
      ]
     },
     "metadata": {},
     "output_type": "display_data"
    },
    {
     "data": {
      "text/plain": [
       "\"Time of the next update: 220.39878008863587\""
      ]
     },
     "metadata": {},
     "output_type": "display_data"
    },
    {
     "data": {
      "text/plain": [
       "\"Next index to update: 2\""
      ]
     },
     "metadata": {},
     "output_type": "display_data"
    },
    {
     "data": {
      "text/plain": [
       "\"Time is: 220.39878008863587\""
      ]
     },
     "metadata": {},
     "output_type": "display_data"
    },
    {
     "data": {
      "text/plain": [
       "\"Residual: 0.1421485051952311\""
      ]
     },
     "metadata": {},
     "output_type": "display_data"
    },
    {
     "data": {
      "text/plain": [
       "\"New β is: 0.9859154929577465\""
      ]
     },
     "metadata": {},
     "output_type": "display_data"
    },
    {
     "data": {
      "text/plain": [
       "\"Update queue: [222.107, 222.057, 222.211, 223.077, 222.016, 222.906]\""
      ]
     },
     "metadata": {},
     "output_type": "display_data"
    },
    {
     "data": {
      "text/plain": [
       "\"Time of the next update: 222.01612381491915\""
      ]
     },
     "metadata": {},
     "output_type": "display_data"
    },
    {
     "data": {
      "text/plain": [
       "\"Next index to update: 6\""
      ]
     },
     "metadata": {},
     "output_type": "display_data"
    },
    {
     "data": {
      "text/plain": [
       "\"Time is: 222.01612381491915\""
      ]
     },
     "metadata": {},
     "output_type": "display_data"
    },
    {
     "data": {
      "text/plain": [
       "\"Residual: 0.14178620818861226\""
      ]
     },
     "metadata": {},
     "output_type": "display_data"
    },
    {
     "data": {
      "text/plain": [
       "\"New β is: 0.986013986013986\""
      ]
     },
     "metadata": {},
     "output_type": "display_data"
    },
    {
     "data": {
      "text/plain": [
       "\"Update queue: [224.867, 223.656, 224.902, 224.457, 223.534, 224.303]\""
      ]
     },
     "metadata": {},
     "output_type": "display_data"
    },
    {
     "data": {
      "text/plain": [
       "\"Time of the next update: 223.5335278374182\""
      ]
     },
     "metadata": {},
     "output_type": "display_data"
    },
    {
     "data": {
      "text/plain": [
       "\"Next index to update: 6\""
      ]
     },
     "metadata": {},
     "output_type": "display_data"
    },
    {
     "data": {
      "text/plain": [
       "\"Time is: 223.5335278374182\""
      ]
     },
     "metadata": {},
     "output_type": "display_data"
    },
    {
     "data": {
      "text/plain": [
       "\"Residual: 0.1412603182137826\""
      ]
     },
     "metadata": {},
     "output_type": "display_data"
    },
    {
     "data": {
      "text/plain": [
       "\"New β is: 0.9861111111111112\""
      ]
     },
     "metadata": {},
     "output_type": "display_data"
    },
    {
     "data": {
      "text/plain": [
       "\"Update queue: [226.219, 225.135, 226.421, 225.804, 225.088, 225.67]\""
      ]
     },
     "metadata": {},
     "output_type": "display_data"
    },
    {
     "data": {
      "text/plain": [
       "\"Time of the next update: 225.08827033694365\""
      ]
     },
     "metadata": {},
     "output_type": "display_data"
    },
    {
     "data": {
      "text/plain": [
       "\"Next index to update: 6\""
      ]
     },
     "metadata": {},
     "output_type": "display_data"
    },
    {
     "data": {
      "text/plain": [
       "\"Time is: 225.08827033694365\""
      ]
     },
     "metadata": {},
     "output_type": "display_data"
    },
    {
     "data": {
      "text/plain": [
       "\"Residual: 0.14078112648301075\""
      ]
     },
     "metadata": {},
     "output_type": "display_data"
    },
    {
     "data": {
      "text/plain": [
       "\"New β is: 0.9862068965517241\""
      ]
     },
     "metadata": {},
     "output_type": "display_data"
    },
    {
     "data": {
      "text/plain": [
       "\"Update queue: [227.482, 226.752, 227.798, 227.226, 226.66, 227.092]\""
      ]
     },
     "metadata": {},
     "output_type": "display_data"
    },
    {
     "data": {
      "text/plain": [
       "\"Time of the next update: 226.66049534573705\""
      ]
     },
     "metadata": {},
     "output_type": "display_data"
    },
    {
     "data": {
      "text/plain": [
       "\"Next index to update: 6\""
      ]
     },
     "metadata": {},
     "output_type": "display_data"
    },
    {
     "data": {
      "text/plain": [
       "\"Time is: 226.66049534573705\""
      ]
     },
     "metadata": {},
     "output_type": "display_data"
    },
    {
     "data": {
      "text/plain": [
       "\"Residual: 0.1402798005854142\""
      ]
     },
     "metadata": {},
     "output_type": "display_data"
    },
    {
     "data": {
      "text/plain": [
       "\"New β is: 0.9863013698630136\""
      ]
     },
     "metadata": {},
     "output_type": "display_data"
    },
    {
     "data": {
      "text/plain": [
       "\"Update queue: [228.732, 228.312, 228.986, 228.599, 228.207, 228.506]\""
      ]
     },
     "metadata": {},
     "output_type": "display_data"
    },
    {
     "data": {
      "text/plain": [
       "\"Time of the next update: 228.2067943460928\""
      ]
     },
     "metadata": {},
     "output_type": "display_data"
    },
    {
     "data": {
      "text/plain": [
       "\"Next index to update: 6\""
      ]
     },
     "metadata": {},
     "output_type": "display_data"
    },
    {
     "data": {
      "text/plain": [
       "\"Time is: 228.2067943460928\""
      ]
     },
     "metadata": {},
     "output_type": "display_data"
    },
    {
     "data": {
      "text/plain": [
       "\"Residual: 0.13978772980319934\""
      ]
     },
     "metadata": {},
     "output_type": "display_data"
    },
    {
     "data": {
      "text/plain": [
       "\"New β is: 0.9863945578231292\""
      ]
     },
     "metadata": {},
     "output_type": "display_data"
    },
    {
     "data": {
      "text/plain": [
       "\"Update queue: [229.999, 229.844, 230.241, 229.994, 229.814, 229.934]\""
      ]
     },
     "metadata": {},
     "output_type": "display_data"
    },
    {
     "data": {
      "text/plain": [
       "\"Time of the next update: 229.8139039397248\""
      ]
     },
     "metadata": {},
     "output_type": "display_data"
    },
    {
     "data": {
      "text/plain": [
       "\"Next index to update: 6\""
      ]
     },
     "metadata": {},
     "output_type": "display_data"
    },
    {
     "data": {
      "text/plain": [
       "\"Time is: 229.8139039397248\""
      ]
     },
     "metadata": {},
     "output_type": "display_data"
    },
    {
     "data": {
      "text/plain": [
       "\"Residual: 0.13929262089611355\""
      ]
     },
     "metadata": {},
     "output_type": "display_data"
    },
    {
     "data": {
      "text/plain": [
       "\"New β is: 0.9864864864864865\""
      ]
     },
     "metadata": {},
     "output_type": "display_data"
    },
    {
     "data": {
      "text/plain": [
       "\"Update queue: [232.54, 231.471, 231.489, 232.861, 231.414, 231.42]\""
      ]
     },
     "metadata": {},
     "output_type": "display_data"
    },
    {
     "data": {
      "text/plain": [
       "\"Time of the next update: 231.4144704249365\""
      ]
     },
     "metadata": {},
     "output_type": "display_data"
    },
    {
     "data": {
      "text/plain": [
       "\"Next index to update: 6\""
      ]
     },
     "metadata": {},
     "output_type": "display_data"
    },
    {
     "data": {
      "text/plain": [
       "\"Time is: 231.4144704249365\""
      ]
     },
     "metadata": {},
     "output_type": "display_data"
    },
    {
     "data": {
      "text/plain": [
       "\"Residual: 0.13873033474594595\""
      ]
     },
     "metadata": {},
     "output_type": "display_data"
    },
    {
     "data": {
      "text/plain": [
       "\"New β is: 0.9865771812080537\""
      ]
     },
     "metadata": {},
     "output_type": "display_data"
    },
    {
     "data": {
      "text/plain": [
       "\"Update queue: [233.771, 233.018, 234.035, 234.239, 232.942, 234.314]\""
      ]
     },
     "metadata": {},
     "output_type": "display_data"
    },
    {
     "data": {
      "text/plain": [
       "\"Time of the next update: 232.94157045230364\""
      ]
     },
     "metadata": {},
     "output_type": "display_data"
    },
    {
     "data": {
      "text/plain": [
       "\"Next index to update: 6\""
      ]
     },
     "metadata": {},
     "output_type": "display_data"
    },
    {
     "data": {
      "text/plain": [
       "\"Time is: 232.94157045230364\""
      ]
     },
     "metadata": {},
     "output_type": "display_data"
    },
    {
     "data": {
      "text/plain": [
       "\"Residual: 0.13807646075701385\""
      ]
     },
     "metadata": {},
     "output_type": "display_data"
    },
    {
     "data": {
      "text/plain": [
       "\"New β is: 0.9866666666666667\""
      ]
     },
     "metadata": {},
     "output_type": "display_data"
    },
    {
     "data": {
      "text/plain": [
       "\"Update queue: [235.366, 234.553, 235.288, 235.715, 234.547, 235.745]\""
      ]
     },
     "metadata": {},
     "output_type": "display_data"
    },
    {
     "data": {
      "text/plain": [
       "\"Time of the next update: 234.5468742244651\""
      ]
     },
     "metadata": {},
     "output_type": "display_data"
    },
    {
     "data": {
      "text/plain": [
       "\"Next index to update: 6\""
      ]
     },
     "metadata": {},
     "output_type": "display_data"
    },
    {
     "data": {
      "text/plain": [
       "\"Time is: 234.5468742244651\""
      ]
     },
     "metadata": {},
     "output_type": "display_data"
    },
    {
     "data": {
      "text/plain": [
       "\"Residual: 0.13768484284206833\""
      ]
     },
     "metadata": {},
     "output_type": "display_data"
    },
    {
     "data": {
      "text/plain": [
       "\"New β is: 0.9867549668874173\""
      ]
     },
     "metadata": {},
     "output_type": "display_data"
    },
    {
     "data": {
      "text/plain": [
       "\"Update queue: [236.854, 236.144, 236.493, 237.136, 236.104, 237.21]\""
      ]
     },
     "metadata": {},
     "output_type": "display_data"
    },
    {
     "data": {
      "text/plain": [
       "\"Time of the next update: 236.1039478690795\""
      ]
     },
     "metadata": {},
     "output_type": "display_data"
    },
    {
     "data": {
      "text/plain": [
       "\"Next index to update: 6\""
      ]
     },
     "metadata": {},
     "output_type": "display_data"
    },
    {
     "data": {
      "text/plain": [
       "\"Time is: 236.1039478690795\""
      ]
     },
     "metadata": {},
     "output_type": "display_data"
    },
    {
     "data": {
      "text/plain": [
       "\"Residual: 0.13733170520151358\""
      ]
     },
     "metadata": {},
     "output_type": "display_data"
    },
    {
     "data": {
      "text/plain": [
       "\"New β is: 0.9868421052631579\""
      ]
     },
     "metadata": {},
     "output_type": "display_data"
    },
    {
     "data": {
      "text/plain": [
       "\"Update queue: [238.105, 237.736, 237.695, 238.596, 237.668, 238.611]\""
      ]
     },
     "metadata": {},
     "output_type": "display_data"
    },
    {
     "data": {
      "text/plain": [
       "\"Time of the next update: 237.66753979931894\""
      ]
     },
     "metadata": {},
     "output_type": "display_data"
    },
    {
     "data": {
      "text/plain": [
       "\"Next index to update: 6\""
      ]
     },
     "metadata": {},
     "output_type": "display_data"
    },
    {
     "data": {
      "text/plain": [
       "\"Time is: 237.66753979931894\""
      ]
     },
     "metadata": {},
     "output_type": "display_data"
    },
    {
     "data": {
      "text/plain": [
       "\"Residual: 0.13692518171134277\""
      ]
     },
     "metadata": {},
     "output_type": "display_data"
    },
    {
     "data": {
      "text/plain": [
       "\"New β is: 0.9869281045751634\""
      ]
     },
     "metadata": {},
     "output_type": "display_data"
    },
    {
     "data": {
      "text/plain": [
       "\"Update queue: [239.363, 239.281, 240.461, 240.058, 239.254, 240.017]\""
      ]
     },
     "metadata": {},
     "output_type": "display_data"
    },
    {
     "data": {
      "text/plain": [
       "\"Time of the next update: 239.25381725875235\""
      ]
     },
     "metadata": {},
     "output_type": "display_data"
    },
    {
     "data": {
      "text/plain": [
       "\"Next index to update: 6\""
      ]
     },
     "metadata": {},
     "output_type": "display_data"
    },
    {
     "data": {
      "text/plain": [
       "\"Time is: 239.25381725875235\""
      ]
     },
     "metadata": {},
     "output_type": "display_data"
    },
    {
     "data": {
      "text/plain": [
       "\"Residual: 0.13657353223748392\""
      ]
     },
     "metadata": {},
     "output_type": "display_data"
    },
    {
     "data": {
      "text/plain": [
       "\"New β is: 0.987012987012987\""
      ]
     },
     "metadata": {},
     "output_type": "display_data"
    },
    {
     "data": {
      "text/plain": [
       "\"Update queue: [242.071, 240.825, 241.788, 241.441, 240.809, 241.436]\""
      ]
     },
     "metadata": {},
     "output_type": "display_data"
    },
    {
     "data": {
      "text/plain": [
       "\"Time of the next update: 240.80859394432366\""
      ]
     },
     "metadata": {},
     "output_type": "display_data"
    },
    {
     "data": {
      "text/plain": [
       "\"Next index to update: 6\""
      ]
     },
     "metadata": {},
     "output_type": "display_data"
    },
    {
     "data": {
      "text/plain": [
       "\"Time is: 240.80859394432366\""
      ]
     },
     "metadata": {},
     "output_type": "display_data"
    },
    {
     "data": {
      "text/plain": [
       "\"Residual: 0.1361756447941576\""
      ]
     },
     "metadata": {},
     "output_type": "display_data"
    },
    {
     "data": {
      "text/plain": [
       "\"New β is: 0.9870967741935484\""
      ]
     },
     "metadata": {},
     "output_type": "display_data"
    },
    {
     "data": {
      "text/plain": [
       "\"Update queue: [243.403, 242.512, 243.254, 242.831, 242.459, 242.885]\""
      ]
     },
     "metadata": {},
     "output_type": "display_data"
    },
    {
     "data": {
      "text/plain": [
       "\"Time of the next update: 242.45856899653987\""
      ]
     },
     "metadata": {},
     "output_type": "display_data"
    },
    {
     "data": {
      "text/plain": [
       "\"Next index to update: 6\""
      ]
     },
     "metadata": {},
     "output_type": "display_data"
    },
    {
     "data": {
      "text/plain": [
       "\"Time is: 242.45856899653987\""
      ]
     },
     "metadata": {},
     "output_type": "display_data"
    },
    {
     "data": {
      "text/plain": [
       "\"Residual: 0.1358159443474607\""
      ]
     },
     "metadata": {},
     "output_type": "display_data"
    },
    {
     "data": {
      "text/plain": [
       "\"New β is: 0.9871794871794872\""
      ]
     },
     "metadata": {},
     "output_type": "display_data"
    },
    {
     "data": {
      "text/plain": [
       "\"Update queue: [244.635, 244.0, 244.395, 244.244, 244.001, 244.288]\""
      ]
     },
     "metadata": {},
     "output_type": "display_data"
    },
    {
     "data": {
      "text/plain": [
       "\"Time of the next update: 244.00019372497087\""
      ]
     },
     "metadata": {},
     "output_type": "display_data"
    },
    {
     "data": {
      "text/plain": [
       "\"Next index to update: 2\""
      ]
     },
     "metadata": {},
     "output_type": "display_data"
    },
    {
     "data": {
      "text/plain": [
       "\"Time is: 244.00019372497087\""
      ]
     },
     "metadata": {},
     "output_type": "display_data"
    },
    {
     "data": {
      "text/plain": [
       "\"Residual: 0.13547445610585096\""
      ]
     },
     "metadata": {},
     "output_type": "display_data"
    },
    {
     "data": {
      "text/plain": [
       "\"New β is: 0.9872611464968153\""
      ]
     },
     "metadata": {},
     "output_type": "display_data"
    },
    {
     "data": {
      "text/plain": [
       "\"Update queue: [246.044, 245.621, 245.972, 245.68, 245.594, 245.621]\""
      ]
     },
     "metadata": {},
     "output_type": "display_data"
    },
    {
     "data": {
      "text/plain": [
       "\"Time of the next update: 245.5942698714652\""
      ]
     },
     "metadata": {},
     "output_type": "display_data"
    },
    {
     "data": {
      "text/plain": [
       "\"Next index to update: 6\""
      ]
     },
     "metadata": {},
     "output_type": "display_data"
    },
    {
     "data": {
      "text/plain": [
       "\"Time is: 245.5942698714652\""
      ]
     },
     "metadata": {},
     "output_type": "display_data"
    },
    {
     "data": {
      "text/plain": [
       "\"Residual: 0.1351218524463133\""
      ]
     },
     "metadata": {},
     "output_type": "display_data"
    },
    {
     "data": {
      "text/plain": [
       "\"New β is: 0.9873417721518988\""
      ]
     },
     "metadata": {},
     "output_type": "display_data"
    },
    {
     "data": {
      "text/plain": [
       "\"Update queue: [247.45, 247.171, 248.404, 248.49, 247.168, 248.474]\""
      ]
     },
     "metadata": {},
     "output_type": "display_data"
    },
    {
     "data": {
      "text/plain": [
       "\"Time of the next update: 247.16802028471318\""
      ]
     },
     "metadata": {},
     "output_type": "display_data"
    },
    {
     "data": {
      "text/plain": [
       "\"Next index to update: 6\""
      ]
     },
     "metadata": {},
     "output_type": "display_data"
    },
    {
     "data": {
      "text/plain": [
       "\"Time is: 247.16802028471318\""
      ]
     },
     "metadata": {},
     "output_type": "display_data"
    },
    {
     "data": {
      "text/plain": [
       "\"Residual: 0.13448372643665463\""
      ]
     },
     "metadata": {},
     "output_type": "display_data"
    },
    {
     "data": {
      "text/plain": [
       "\"New β is: 0.9874213836477987\""
      ]
     },
     "metadata": {},
     "output_type": "display_data"
    },
    {
     "data": {
      "text/plain": [
       "\"Update queue: [248.894, 248.832, 249.862, 249.916, 248.731, 249.898]\""
      ]
     },
     "metadata": {},
     "output_type": "display_data"
    },
    {
     "data": {
      "text/plain": [
       "\"Time of the next update: 248.73097937920406\""
      ]
     },
     "metadata": {},
     "output_type": "display_data"
    },
    {
     "data": {
      "text/plain": [
       "\"Next index to update: 6\""
      ]
     },
     "metadata": {},
     "output_type": "display_data"
    },
    {
     "data": {
      "text/plain": [
       "\"Time is: 248.73097937920406\""
      ]
     },
     "metadata": {},
     "output_type": "display_data"
    },
    {
     "data": {
      "text/plain": [
       "\"Residual: 0.1340772876370212\""
      ]
     },
     "metadata": {},
     "output_type": "display_data"
    },
    {
     "data": {
      "text/plain": [
       "\"New β is: 0.9875\""
      ]
     },
     "metadata": {},
     "output_type": "display_data"
    },
    {
     "data": {
      "text/plain": [
       "\"Update queue: [250.336, 250.398, 251.315, 251.313, 250.324, 251.361]\""
      ]
     },
     "metadata": {},
     "output_type": "display_data"
    },
    {
     "data": {
      "text/plain": [
       "\"Time of the next update: 250.3244289938605\""
      ]
     },
     "metadata": {},
     "output_type": "display_data"
    },
    {
     "data": {
      "text/plain": [
       "\"Next index to update: 6\""
      ]
     },
     "metadata": {},
     "output_type": "display_data"
    },
    {
     "data": {
      "text/plain": [
       "\"Time is: 250.3244289938605\""
      ]
     },
     "metadata": {},
     "output_type": "display_data"
    },
    {
     "data": {
      "text/plain": [
       "\"Residual: 0.13371238401321062\""
      ]
     },
     "metadata": {},
     "output_type": "display_data"
    },
    {
     "data": {
      "text/plain": [
       "\"New β is: 0.9875776397515528\""
      ]
     },
     "metadata": {},
     "output_type": "display_data"
    },
    {
     "data": {
      "text/plain": [
       "\"Update queue: [253.138, 251.894, 252.652, 252.745, 251.871, 252.811]\""
      ]
     },
     "metadata": {},
     "output_type": "display_data"
    },
    {
     "data": {
      "text/plain": [
       "\"Time of the next update: 251.8706087160281\""
      ]
     },
     "metadata": {},
     "output_type": "display_data"
    },
    {
     "data": {
      "text/plain": [
       "\"Next index to update: 6\""
      ]
     },
     "metadata": {},
     "output_type": "display_data"
    },
    {
     "data": {
      "text/plain": [
       "\"Time is: 251.8706087160281\""
      ]
     },
     "metadata": {},
     "output_type": "display_data"
    },
    {
     "data": {
      "text/plain": [
       "\"Residual: 0.13339768530566198\""
      ]
     },
     "metadata": {},
     "output_type": "display_data"
    },
    {
     "data": {
      "text/plain": [
       "\"New β is: 0.9876543209876543\""
      ]
     },
     "metadata": {},
     "output_type": "display_data"
    },
    {
     "data": {
      "text/plain": [
       "\"Update queue: [254.548, 253.552, 254.148, 254.236, 253.471, 254.305]\""
      ]
     },
     "metadata": {},
     "output_type": "display_data"
    },
    {
     "data": {
      "text/plain": [
       "\"Time of the next update: 253.47063893401028\""
      ]
     },
     "metadata": {},
     "output_type": "display_data"
    },
    {
     "data": {
      "text/plain": [
       "\"Next index to update: 6\""
      ]
     },
     "metadata": {},
     "output_type": "display_data"
    },
    {
     "data": {
      "text/plain": [
       "\"Time is: 253.47063893401028\""
      ]
     },
     "metadata": {},
     "output_type": "display_data"
    },
    {
     "data": {
      "text/plain": [
       "\"Residual: 0.13308836346119873\""
      ]
     },
     "metadata": {},
     "output_type": "display_data"
    },
    {
     "data": {
      "text/plain": [
       "\"New β is: 0.9877300613496932\""
      ]
     },
     "metadata": {},
     "output_type": "display_data"
    },
    {
     "data": {
      "text/plain": [
       "\"Update queue: [255.983, 255.047, 255.384, 255.702, 255.068, 255.712]\""
      ]
     },
     "metadata": {},
     "output_type": "display_data"
    },
    {
     "data": {
      "text/plain": [
       "\"Time of the next update: 255.04688808698677\""
      ]
     },
     "metadata": {},
     "output_type": "display_data"
    },
    {
     "data": {
      "text/plain": [
       "\"Next index to update: 2\""
      ]
     },
     "metadata": {},
     "output_type": "display_data"
    },
    {
     "data": {
      "text/plain": [
       "\"Time is: 255.04688808698677\""
      ]
     },
     "metadata": {},
     "output_type": "display_data"
    },
    {
     "data": {
      "text/plain": [
       "\"Residual: 0.13273862391211055\""
      ]
     },
     "metadata": {},
     "output_type": "display_data"
    },
    {
     "data": {
      "text/plain": [
       "\"New β is: 0.9878048780487805\""
      ]
     },
     "metadata": {},
     "output_type": "display_data"
    },
    {
     "data": {
      "text/plain": [
       "\"Update queue: [257.502, 256.706, 256.696, 257.178, 256.619, 257.14]\""
      ]
     },
     "metadata": {},
     "output_type": "display_data"
    },
    {
     "data": {
      "text/plain": [
       "\"Time of the next update: 256.61924687693767\""
      ]
     },
     "metadata": {},
     "output_type": "display_data"
    },
    {
     "data": {
      "text/plain": [
       "\"Next index to update: 6\""
      ]
     },
     "metadata": {},
     "output_type": "display_data"
    },
    {
     "data": {
      "text/plain": [
       "\"Time is: 256.61924687693767\""
      ]
     },
     "metadata": {},
     "output_type": "display_data"
    },
    {
     "data": {
      "text/plain": [
       "\"Residual: 0.13240656787605581\""
      ]
     },
     "metadata": {},
     "output_type": "display_data"
    },
    {
     "data": {
      "text/plain": [
       "\"New β is: 0.9878787878787879\""
      ]
     },
     "metadata": {},
     "output_type": "display_data"
    },
    {
     "data": {
      "text/plain": [
       "\"Update queue: [258.851, 258.274, 258.178, 258.615, 258.155, 258.581]\""
      ]
     },
     "metadata": {},
     "output_type": "display_data"
    },
    {
     "data": {
      "text/plain": [
       "\"Time of the next update: 258.15509124944117\""
      ]
     },
     "metadata": {},
     "output_type": "display_data"
    },
    {
     "data": {
      "text/plain": [
       "\"Next index to update: 6\""
      ]
     },
     "metadata": {},
     "output_type": "display_data"
    },
    {
     "data": {
      "text/plain": [
       "\"Time is: 258.15509124944117\""
      ]
     },
     "metadata": {},
     "output_type": "display_data"
    },
    {
     "data": {
      "text/plain": [
       "\"Residual: 0.13206678514395348\""
      ]
     },
     "metadata": {},
     "output_type": "display_data"
    },
    {
     "data": {
      "text/plain": [
       "\"New β is: 0.9879518072289156\""
      ]
     },
     "metadata": {},
     "output_type": "display_data"
    },
    {
     "data": {
      "text/plain": [
       "\"Update queue: [260.1, 259.776, 261.043, 260.105, 259.705, 259.993]\""
      ]
     },
     "metadata": {},
     "output_type": "display_data"
    },
    {
     "data": {
      "text/plain": [
       "\"Time of the next update: 259.70514021737887\""
      ]
     },
     "metadata": {},
     "output_type": "display_data"
    },
    {
     "data": {
      "text/plain": [
       "\"Next index to update: 6\""
      ]
     },
     "metadata": {},
     "output_type": "display_data"
    },
    {
     "data": {
      "text/plain": [
       "\"Time is: 259.70514021737887\""
      ]
     },
     "metadata": {},
     "output_type": "display_data"
    },
    {
     "data": {
      "text/plain": [
       "\"Residual: 0.13174173183058385\""
      ]
     },
     "metadata": {},
     "output_type": "display_data"
    },
    {
     "data": {
      "text/plain": [
       "\"New β is: 0.9880239520958084\""
      ]
     },
     "metadata": {},
     "output_type": "display_data"
    },
    {
     "data": {
      "text/plain": [
       "\"Update queue: [261.568, 261.288, 262.237, 261.465, 261.251, 261.382]\""
      ]
     },
     "metadata": {},
     "output_type": "display_data"
    },
    {
     "data": {
      "text/plain": [
       "\"Time of the next update: 261.251387136426\""
      ]
     },
     "metadata": {},
     "output_type": "display_data"
    },
    {
     "data": {
      "text/plain": [
       "\"Next index to update: 6\""
      ]
     },
     "metadata": {},
     "output_type": "display_data"
    },
    {
     "data": {
      "text/plain": [
       "\"Time is: 261.251387136426\""
      ]
     },
     "metadata": {},
     "output_type": "display_data"
    },
    {
     "data": {
      "text/plain": [
       "\"Residual: 0.13142136217237219\""
      ]
     },
     "metadata": {},
     "output_type": "display_data"
    },
    {
     "data": {
      "text/plain": [
       "\"New β is: 0.9880952380952381\""
      ]
     },
     "metadata": {},
     "output_type": "display_data"
    },
    {
     "data": {
      "text/plain": [
       "\"Update queue: [264.047, 262.811, 263.442, 262.845, 262.795, 262.817]\""
      ]
     },
     "metadata": {},
     "output_type": "display_data"
    },
    {
     "data": {
      "text/plain": [
       "\"Time of the next update: 262.79452988262364\""
      ]
     },
     "metadata": {},
     "output_type": "display_data"
    },
    {
     "data": {
      "text/plain": [
       "\"Next index to update: 6\""
      ]
     },
     "metadata": {},
     "output_type": "display_data"
    },
    {
     "data": {
      "text/plain": [
       "\"Time is: 262.79452988262364\""
      ]
     },
     "metadata": {},
     "output_type": "display_data"
    },
    {
     "data": {
      "text/plain": [
       "\"Residual: 0.13106300050707823\""
      ]
     },
     "metadata": {},
     "output_type": "display_data"
    },
    {
     "data": {
      "text/plain": [
       "\"New β is: 0.9881656804733728\""
      ]
     },
     "metadata": {},
     "output_type": "display_data"
    },
    {
     "data": {
      "text/plain": [
       "\"Update queue: [265.426, 264.38, 264.704, 265.775, 264.381, 265.623]\""
      ]
     },
     "metadata": {},
     "output_type": "display_data"
    },
    {
     "data": {
      "text/plain": [
       "\"Time of the next update: 264.3802631504869\""
      ]
     },
     "metadata": {},
     "output_type": "display_data"
    },
    {
     "data": {
      "text/plain": [
       "\"Next index to update: 2\""
      ]
     },
     "metadata": {},
     "output_type": "display_data"
    },
    {
     "data": {
      "text/plain": [
       "\"Time is: 264.3802631504869\""
      ]
     },
     "metadata": {},
     "output_type": "display_data"
    },
    {
     "data": {
      "text/plain": [
       "\"Residual: 0.13033784031922757\""
      ]
     },
     "metadata": {},
     "output_type": "display_data"
    },
    {
     "data": {
      "text/plain": [
       "\"New β is: 0.9882352941176471\""
      ]
     },
     "metadata": {},
     "output_type": "display_data"
    },
    {
     "data": {
      "text/plain": [
       "\"Update queue: [266.758, 265.971, 267.206, 267.189, 265.925, 267.001]\""
      ]
     },
     "metadata": {},
     "output_type": "display_data"
    },
    {
     "data": {
      "text/plain": [
       "\"Time of the next update: 265.92488795475623\""
      ]
     },
     "metadata": {},
     "output_type": "display_data"
    },
    {
     "data": {
      "text/plain": [
       "\"Next index to update: 6\""
      ]
     },
     "metadata": {},
     "output_type": "display_data"
    },
    {
     "data": {
      "text/plain": [
       "\"Time is: 265.92488795475623\""
      ]
     },
     "metadata": {},
     "output_type": "display_data"
    },
    {
     "data": {
      "text/plain": [
       "\"Residual: 0.12997606626557967\""
      ]
     },
     "metadata": {},
     "output_type": "display_data"
    },
    {
     "data": {
      "text/plain": [
       "\"New β is: 0.9883040935672515\""
      ]
     },
     "metadata": {},
     "output_type": "display_data"
    },
    {
     "data": {
      "text/plain": [
       "\"Update queue: [268.24, 267.587, 268.624, 268.612, 267.524, 268.44]\""
      ]
     },
     "metadata": {},
     "output_type": "display_data"
    },
    {
     "data": {
      "text/plain": [
       "\"Time of the next update: 267.5235117633477\""
      ]
     },
     "metadata": {},
     "output_type": "display_data"
    },
    {
     "data": {
      "text/plain": [
       "\"Next index to update: 6\""
      ]
     },
     "metadata": {},
     "output_type": "display_data"
    },
    {
     "data": {
      "text/plain": [
       "\"Time is: 267.5235117633477\""
      ]
     },
     "metadata": {},
     "output_type": "display_data"
    },
    {
     "data": {
      "text/plain": [
       "\"Residual: 0.12962795542150973\""
      ]
     },
     "metadata": {},
     "output_type": "display_data"
    },
    {
     "data": {
      "text/plain": [
       "\"New β is: 0.9883720930232558\""
      ]
     },
     "metadata": {},
     "output_type": "display_data"
    },
    {
     "data": {
      "text/plain": [
       "\"Update queue: [269.492, 269.142, 270.017, 269.979, 269.135, 269.931]\""
      ]
     },
     "metadata": {},
     "output_type": "display_data"
    },
    {
     "data": {
      "text/plain": [
       "\"Time of the next update: 269.1347994432787\""
      ]
     },
     "metadata": {},
     "output_type": "display_data"
    },
    {
     "data": {
      "text/plain": [
       "\"Next index to update: 6\""
      ]
     },
     "metadata": {},
     "output_type": "display_data"
    },
    {
     "data": {
      "text/plain": [
       "\"Time is: 269.1347994432787\""
      ]
     },
     "metadata": {},
     "output_type": "display_data"
    },
    {
     "data": {
      "text/plain": [
       "\"Residual: 0.12921602373939806\""
      ]
     },
     "metadata": {},
     "output_type": "display_data"
    },
    {
     "data": {
      "text/plain": [
       "\"New β is: 0.9884393063583815\""
      ]
     },
     "metadata": {},
     "output_type": "display_data"
    },
    {
     "data": {
      "text/plain": [
       "\"Update queue: [270.864, 270.719, 271.471, 271.352, 270.729, 271.334]\""
      ]
     },
     "metadata": {},
     "output_type": "display_data"
    },
    {
     "data": {
      "text/plain": [
       "\"Time of the next update: 270.71940970023564\""
      ]
     },
     "metadata": {},
     "output_type": "display_data"
    },
    {
     "data": {
      "text/plain": [
       "\"Next index to update: 2\""
      ]
     },
     "metadata": {},
     "output_type": "display_data"
    },
    {
     "data": {
      "text/plain": [
       "\"Time is: 270.71940970023564\""
      ]
     },
     "metadata": {},
     "output_type": "display_data"
    },
    {
     "data": {
      "text/plain": [
       "\"Residual: 0.12881487703261324\""
      ]
     },
     "metadata": {},
     "output_type": "display_data"
    },
    {
     "data": {
      "text/plain": [
       "\"New β is: 0.9885057471264368\""
      ]
     },
     "metadata": {},
     "output_type": "display_data"
    },
    {
     "data": {
      "text/plain": [
       "\"Update queue: [273.583, 272.361, 272.905, 272.731, 272.282, 272.735]\""
      ]
     },
     "metadata": {},
     "output_type": "display_data"
    },
    {
     "data": {
      "text/plain": [
       "\"Time of the next update: 272.2817375120608\""
      ]
     },
     "metadata": {},
     "output_type": "display_data"
    },
    {
     "data": {
      "text/plain": [
       "\"Next index to update: 6\""
      ]
     },
     "metadata": {},
     "output_type": "display_data"
    },
    {
     "data": {
      "text/plain": [
       "\"Time is: 272.2817375120608\""
      ]
     },
     "metadata": {},
     "output_type": "display_data"
    },
    {
     "data": {
      "text/plain": [
       "\"Residual: 0.12849897671564287\""
      ]
     },
     "metadata": {},
     "output_type": "display_data"
    },
    {
     "data": {
      "text/plain": [
       "\"New β is: 0.9885714285714285\""
      ]
     },
     "metadata": {},
     "output_type": "display_data"
    },
    {
     "data": {
      "text/plain": [
       "\"Update queue: [275.063, 273.952, 274.298, 274.183, 273.922, 274.213]\""
      ]
     },
     "metadata": {},
     "output_type": "display_data"
    },
    {
     "data": {
      "text/plain": [
       "\"Time of the next update: 273.92249906203097\""
      ]
     },
     "metadata": {},
     "output_type": "display_data"
    },
    {
     "data": {
      "text/plain": [
       "\"Next index to update: 6\""
      ]
     },
     "metadata": {},
     "output_type": "display_data"
    },
    {
     "data": {
      "text/plain": [
       "\"Time is: 273.92249906203097\""
      ]
     },
     "metadata": {},
     "output_type": "display_data"
    },
    {
     "data": {
      "text/plain": [
       "\"Residual: 0.12815159228996306\""
      ]
     },
     "metadata": {},
     "output_type": "display_data"
    },
    {
     "data": {
      "text/plain": [
       "\"New β is: 0.9886363636363636\""
      ]
     },
     "metadata": {},
     "output_type": "display_data"
    },
    {
     "data": {
      "text/plain": [
       "\"Update queue: [276.415, 275.512, 276.864, 275.583, 275.473, 275.662]\""
      ]
     },
     "metadata": {},
     "output_type": "display_data"
    },
    {
     "data": {
      "text/plain": [
       "\"Time of the next update: 275.4726643319257\""
      ]
     },
     "metadata": {},
     "output_type": "display_data"
    },
    {
     "data": {
      "text/plain": [
       "\"Next index to update: 6\""
      ]
     },
     "metadata": {},
     "output_type": "display_data"
    },
    {
     "data": {
      "text/plain": [
       "\"Time is: 275.4726643319257\""
      ]
     },
     "metadata": {},
     "output_type": "display_data"
    },
    {
     "data": {
      "text/plain": [
       "\"Residual: 0.1278068996176985\""
      ]
     },
     "metadata": {},
     "output_type": "display_data"
    },
    {
     "data": {
      "text/plain": [
       "\"New β is: 0.9887005649717514\""
      ]
     },
     "metadata": {},
     "output_type": "display_data"
    },
    {
     "data": {
      "text/plain": [
       "\"Update queue: [277.89, 277.076, 278.328, 278.358, 277.02, 277.073]\""
      ]
     },
     "metadata": {},
     "output_type": "display_data"
    },
    {
     "data": {
      "text/plain": [
       "\"Time of the next update: 277.0198130404148\""
      ]
     },
     "metadata": {},
     "output_type": "display_data"
    },
    {
     "data": {
      "text/plain": [
       "\"Next index to update: 6\""
      ]
     },
     "metadata": {},
     "output_type": "display_data"
    },
    {
     "data": {
      "text/plain": [
       "\"Time is: 277.0198130404148\""
      ]
     },
     "metadata": {},
     "output_type": "display_data"
    },
    {
     "data": {
      "text/plain": [
       "\"Residual: 0.1273928660517937\""
      ]
     },
     "metadata": {},
     "output_type": "display_data"
    },
    {
     "data": {
      "text/plain": [
       "\"New β is: 0.9887640449438202\""
      ]
     },
     "metadata": {},
     "output_type": "display_data"
    },
    {
     "data": {
      "text/plain": [
       "\"Update queue: [279.073, 278.666, 279.71, 279.767, 278.618, 279.958]\""
      ]
     },
     "metadata": {},
     "output_type": "display_data"
    },
    {
     "data": {
      "text/plain": [
       "\"Time of the next update: 278.6178970260044\""
      ]
     },
     "metadata": {},
     "output_type": "display_data"
    },
    {
     "data": {
      "text/plain": [
       "\"Next index to update: 6\""
      ]
     },
     "metadata": {},
     "output_type": "display_data"
    },
    {
     "data": {
      "text/plain": [
       "\"Time is: 278.6178970260044\""
      ]
     },
     "metadata": {},
     "output_type": "display_data"
    },
    {
     "data": {
      "text/plain": [
       "\"Residual: 0.12683729834006952\""
      ]
     },
     "metadata": {},
     "output_type": "display_data"
    },
    {
     "data": {
      "text/plain": [
       "\"New β is: 0.9888268156424581\""
      ]
     },
     "metadata": {},
     "output_type": "display_data"
    },
    {
     "data": {
      "text/plain": [
       "\"Update queue: [280.429, 280.278, 280.978, 281.205, 280.178, 281.311]\""
      ]
     },
     "metadata": {},
     "output_type": "display_data"
    },
    {
     "data": {
      "text/plain": [
       "\"Time of the next update: 280.178436482315\""
      ]
     },
     "metadata": {},
     "output_type": "display_data"
    },
    {
     "data": {
      "text/plain": [
       "\"Next index to update: 6\""
      ]
     },
     "metadata": {},
     "output_type": "display_data"
    },
    {
     "data": {
      "text/plain": [
       "\"Time is: 280.178436482315\""
      ]
     },
     "metadata": {},
     "output_type": "display_data"
    },
    {
     "data": {
      "text/plain": [
       "\"Residual: 0.12643128215609606\""
      ]
     },
     "metadata": {},
     "output_type": "display_data"
    },
    {
     "data": {
      "text/plain": [
       "\"New β is: 0.9888888888888889\""
      ]
     },
     "metadata": {},
     "output_type": "display_data"
    },
    {
     "data": {
      "text/plain": [
       "\"Update queue: [282.698, 281.799, 282.316, 282.576, 281.739, 282.724]\""
      ]
     },
     "metadata": {},
     "output_type": "display_data"
    },
    {
     "data": {
      "text/plain": [
       "\"Time of the next update: 281.73919223088524\""
      ]
     },
     "metadata": {},
     "output_type": "display_data"
    },
    {
     "data": {
      "text/plain": [
       "\"Next index to update: 6\""
      ]
     },
     "metadata": {},
     "output_type": "display_data"
    },
    {
     "data": {
      "text/plain": [
       "\"Time is: 281.73919223088524\""
      ]
     },
     "metadata": {},
     "output_type": "display_data"
    },
    {
     "data": {
      "text/plain": [
       "\"Residual: 0.1260634724599617\""
      ]
     },
     "metadata": {},
     "output_type": "display_data"
    },
    {
     "data": {
      "text/plain": [
       "\"New β is: 0.988950276243094\""
      ]
     },
     "metadata": {},
     "output_type": "display_data"
    },
    {
     "data": {
      "text/plain": [
       "\"Update queue: [283.967, 283.301, 283.522, 283.978, 283.312, 284.166]\""
      ]
     },
     "metadata": {},
     "output_type": "display_data"
    },
    {
     "data": {
      "text/plain": [
       "\"Time of the next update: 283.3010878010222\""
      ]
     },
     "metadata": {},
     "output_type": "display_data"
    },
    {
     "data": {
      "text/plain": [
       "\"Next index to update: 2\""
      ]
     },
     "metadata": {},
     "output_type": "display_data"
    },
    {
     "data": {
      "text/plain": [
       "\"Time is: 283.3010878010222\""
      ]
     },
     "metadata": {},
     "output_type": "display_data"
    },
    {
     "data": {
      "text/plain": [
       "\"Residual: 0.1257389768475981\""
      ]
     },
     "metadata": {},
     "output_type": "display_data"
    },
    {
     "data": {
      "text/plain": [
       "\"New β is: 0.989010989010989\""
      ]
     },
     "metadata": {},
     "output_type": "display_data"
    },
    {
     "data": {
      "text/plain": [
       "\"Update queue: [285.241, 284.904, 286.246, 285.383, 284.913, 285.642]\""
      ]
     },
     "metadata": {},
     "output_type": "display_data"
    },
    {
     "data": {
      "text/plain": [
       "\"Time of the next update: 284.90447479816345\""
      ]
     },
     "metadata": {},
     "output_type": "display_data"
    },
    {
     "data": {
      "text/plain": [
       "\"Next index to update: 2\""
      ]
     },
     "metadata": {},
     "output_type": "display_data"
    },
    {
     "data": {
      "text/plain": [
       "\"Time is: 284.90447479816345\""
      ]
     },
     "metadata": {},
     "output_type": "display_data"
    },
    {
     "data": {
      "text/plain": [
       "\"Residual: 0.12536132997169752\""
      ]
     },
     "metadata": {},
     "output_type": "display_data"
    },
    {
     "data": {
      "text/plain": [
       "\"New β is: 0.9890710382513661\""
      ]
     },
     "metadata": {},
     "output_type": "display_data"
    },
    {
     "data": {
      "text/plain": [
       "\"Update queue: [286.525, 286.58, 287.576, 286.805, 286.479, 287.139]\""
      ]
     },
     "metadata": {},
     "output_type": "display_data"
    },
    {
     "data": {
      "text/plain": [
       "\"Time of the next update: 286.47900457056824\""
      ]
     },
     "metadata": {},
     "output_type": "display_data"
    },
    {
     "data": {
      "text/plain": [
       "\"Next index to update: 6\""
      ]
     },
     "metadata": {},
     "output_type": "display_data"
    },
    {
     "data": {
      "text/plain": [
       "\"Time is: 286.47900457056824\""
      ]
     },
     "metadata": {},
     "output_type": "display_data"
    },
    {
     "data": {
      "text/plain": [
       "\"Residual: 0.12497469285569288\""
      ]
     },
     "metadata": {},
     "output_type": "display_data"
    },
    {
     "data": {
      "text/plain": [
       "\"New β is: 0.9891304347826086\""
      ]
     },
     "metadata": {},
     "output_type": "display_data"
    },
    {
     "data": {
      "text/plain": [
       "\"Update queue: [289.031, 288.09, 288.974, 288.199, 288.052, 288.634]\""
      ]
     },
     "metadata": {},
     "output_type": "display_data"
    },
    {
     "data": {
      "text/plain": [
       "\"Time of the next update: 288.05228232088376\""
      ]
     },
     "metadata": {},
     "output_type": "display_data"
    },
    {
     "data": {
      "text/plain": [
       "\"Next index to update: 6\""
      ]
     },
     "metadata": {},
     "output_type": "display_data"
    },
    {
     "data": {
      "text/plain": [
       "\"Time is: 288.05228232088376\""
      ]
     },
     "metadata": {},
     "output_type": "display_data"
    },
    {
     "data": {
      "text/plain": [
       "\"Residual: 0.12462382439333222\""
      ]
     },
     "metadata": {},
     "output_type": "display_data"
    },
    {
     "data": {
      "text/plain": [
       "\"New β is: 0.9891891891891892\""
      ]
     },
     "metadata": {},
     "output_type": "display_data"
    },
    {
     "data": {
      "text/plain": [
       "\"Update queue: [290.411, 289.65, 290.195, 291.024, 289.637, 290.057]\""
      ]
     },
     "metadata": {},
     "output_type": "display_data"
    },
    {
     "data": {
      "text/plain": [
       "\"Time of the next update: 289.63666083566113\""
      ]
     },
     "metadata": {},
     "output_type": "display_data"
    },
    {
     "data": {
      "text/plain": [
       "\"Next index to update: 6\""
      ]
     },
     "metadata": {},
     "output_type": "display_data"
    },
    {
     "data": {
      "text/plain": [
       "\"Time is: 289.63666083566113\""
      ]
     },
     "metadata": {},
     "output_type": "display_data"
    },
    {
     "data": {
      "text/plain": [
       "\"Residual: 0.12420246167734543\""
      ]
     },
     "metadata": {},
     "output_type": "display_data"
    },
    {
     "data": {
      "text/plain": [
       "\"New β is: 0.989247311827957\""
      ]
     },
     "metadata": {},
     "output_type": "display_data"
    },
    {
     "data": {
      "text/plain": [
       "\"Update queue: [291.809, 291.364, 291.621, 292.516, 291.251, 291.507]\""
      ]
     },
     "metadata": {},
     "output_type": "display_data"
    },
    {
     "data": {
      "text/plain": [
       "\"Time of the next update: 291.2506344535602\""
      ]
     },
     "metadata": {},
     "output_type": "display_data"
    },
    {
     "data": {
      "text/plain": [
       "\"Next index to update: 6\""
      ]
     },
     "metadata": {},
     "output_type": "display_data"
    },
    {
     "data": {
      "text/plain": [
       "\"Time is: 291.2506344535602\""
      ]
     },
     "metadata": {},
     "output_type": "display_data"
    },
    {
     "data": {
      "text/plain": [
       "\"Residual: 0.12376610673011595\""
      ]
     },
     "metadata": {},
     "output_type": "display_data"
    },
    {
     "data": {
      "text/plain": [
       "\"New β is: 0.9893048128342246\""
      ]
     },
     "metadata": {},
     "output_type": "display_data"
    },
    {
     "data": {
      "text/plain": [
       "\"Update queue: [293.152, 292.919, 293.017, 293.863, 292.831, 292.87]\""
      ]
     },
     "metadata": {},
     "output_type": "display_data"
    },
    {
     "data": {
      "text/plain": [
       "\"Time of the next update: 292.8313022525546\""
      ]
     },
     "metadata": {},
     "output_type": "display_data"
    },
    {
     "data": {
      "text/plain": [
       "\"Next index to update: 6\""
      ]
     },
     "metadata": {},
     "output_type": "display_data"
    },
    {
     "data": {
      "text/plain": [
       "\"Time is: 292.8313022525546\""
      ]
     },
     "metadata": {},
     "output_type": "display_data"
    },
    {
     "data": {
      "text/plain": [
       "\"Residual: 0.12346179862006403\""
      ]
     },
     "metadata": {},
     "output_type": "display_data"
    },
    {
     "data": {
      "text/plain": [
       "\"New β is: 0.9893617021276596\""
      ]
     },
     "metadata": {},
     "output_type": "display_data"
    },
    {
     "data": {
      "text/plain": [
       "\"Update queue: [294.551, 294.434, 294.456, 295.327, 294.417, 295.637]\""
      ]
     },
     "metadata": {},
     "output_type": "display_data"
    },
    {
     "data": {
      "text/plain": [
       "\"Time of the next update: 294.4166513763129\""
      ]
     },
     "metadata": {},
     "output_type": "display_data"
    },
    {
     "data": {
      "text/plain": [
       "\"Next index to update: 6\""
      ]
     },
     "metadata": {},
     "output_type": "display_data"
    },
    {
     "data": {
      "text/plain": [
       "\"Time is: 294.4166513763129\""
      ]
     },
     "metadata": {},
     "output_type": "display_data"
    },
    {
     "data": {
      "text/plain": [
       "\"Residual: 0.12286199440062541\""
      ]
     },
     "metadata": {},
     "output_type": "display_data"
    },
    {
     "data": {
      "text/plain": [
       "\"New β is: 0.9894179894179894\""
      ]
     },
     "metadata": {},
     "output_type": "display_data"
    },
    {
     "data": {
      "text/plain": [
       "\"Update queue: [297.028, 296.023, 296.982, 296.778, 295.97, 296.988]\""
      ]
     },
     "metadata": {},
     "output_type": "display_data"
    },
    {
     "data": {
      "text/plain": [
       "\"Time of the next update: 295.9702115447576\""
      ]
     },
     "metadata": {},
     "output_type": "display_data"
    },
    {
     "data": {
      "text/plain": [
       "\"Next index to update: 6\""
      ]
     },
     "metadata": {},
     "output_type": "display_data"
    },
    {
     "data": {
      "text/plain": [
       "\"Time is: 295.9702115447576\""
      ]
     },
     "metadata": {},
     "output_type": "display_data"
    },
    {
     "data": {
      "text/plain": [
       "\"Residual: 0.12259634921888232\""
      ]
     },
     "metadata": {},
     "output_type": "display_data"
    },
    {
     "data": {
      "text/plain": [
       "\"New β is: 0.9894736842105263\""
      ]
     },
     "metadata": {},
     "output_type": "display_data"
    },
    {
     "data": {
      "text/plain": [
       "\"Update queue: [298.334, 297.562, 298.152, 298.206, 297.55, 298.402]\""
      ]
     },
     "metadata": {},
     "output_type": "display_data"
    },
    {
     "data": {
      "text/plain": [
       "\"Time of the next update: 297.55024423953455\""
      ]
     },
     "metadata": {},
     "output_type": "display_data"
    },
    {
     "data": {
      "text/plain": [
       "\"Next index to update: 6\""
      ]
     },
     "metadata": {},
     "output_type": "display_data"
    },
    {
     "data": {
      "text/plain": [
       "\"Time is: 297.55024423953455\""
      ]
     },
     "metadata": {},
     "output_type": "display_data"
    },
    {
     "data": {
      "text/plain": [
       "\"Residual: 0.12224571636548245\""
      ]
     },
     "metadata": {},
     "output_type": "display_data"
    },
    {
     "data": {
      "text/plain": [
       "\"New β is: 0.9895287958115183\""
      ]
     },
     "metadata": {},
     "output_type": "display_data"
    },
    {
     "data": {
      "text/plain": [
       "\"Update queue: [299.645, 299.204, 299.491, 299.639, 299.146, 299.775]\""
      ]
     },
     "metadata": {},
     "output_type": "display_data"
    },
    {
     "data": {
      "text/plain": [
       "\"Time of the next update: 299.14609638944376\""
      ]
     },
     "metadata": {},
     "output_type": "display_data"
    },
    {
     "data": {
      "text/plain": [
       "\"Next index to update: 6\""
      ]
     },
     "metadata": {},
     "output_type": "display_data"
    },
    {
     "data": {
      "text/plain": [
       "\"Time is: 299.14609638944376\""
      ]
     },
     "metadata": {},
     "output_type": "display_data"
    },
    {
     "data": {
      "text/plain": [
       "\"Residual: 0.12192725507740154\""
      ]
     },
     "metadata": {},
     "output_type": "display_data"
    },
    {
     "data": {
      "text/plain": [
       "\"New β is: 0.9895833333333334\""
      ]
     },
     "metadata": {},
     "output_type": "display_data"
    },
    {
     "data": {
      "text/plain": [
       "\"Update queue: [301.034, 300.774, 300.763, 301.085, 300.74, 301.222]\""
      ]
     },
     "metadata": {},
     "output_type": "display_data"
    },
    {
     "data": {
      "text/plain": [
       "\"Time of the next update: 300.7402537445652\""
      ]
     },
     "metadata": {},
     "output_type": "display_data"
    },
    {
     "data": {
      "text/plain": [
       "\"Next index to update: 6\""
      ]
     },
     "metadata": {},
     "output_type": "display_data"
    },
    {
     "data": {
      "text/plain": [
       "\"Time is: 300.7402537445652\""
      ]
     },
     "metadata": {},
     "output_type": "display_data"
    },
    {
     "data": {
      "text/plain": [
       "\"Residual: 0.12158214179105223\""
      ]
     },
     "metadata": {},
     "output_type": "display_data"
    },
    {
     "data": {
      "text/plain": [
       "\"New β is: 0.9896373056994818\""
      ]
     },
     "metadata": {},
     "output_type": "display_data"
    },
    {
     "data": {
      "text/plain": [
       "\"Update queue: [302.374, 302.352, 303.4, 302.554, 302.332, 302.669]\""
      ]
     },
     "metadata": {},
     "output_type": "display_data"
    },
    {
     "data": {
      "text/plain": [
       "\"Time of the next update: 302.3322686871873\""
      ]
     },
     "metadata": {},
     "output_type": "display_data"
    },
    {
     "data": {
      "text/plain": [
       "\"Next index to update: 6\""
      ]
     },
     "metadata": {},
     "output_type": "display_data"
    },
    {
     "data": {
      "text/plain": [
       "\"Time is: 302.3322686871873\""
      ]
     },
     "metadata": {},
     "output_type": "display_data"
    },
    {
     "data": {
      "text/plain": [
       "\"Residual: 0.12124720414365175\""
      ]
     },
     "metadata": {},
     "output_type": "display_data"
    },
    {
     "data": {
      "text/plain": [
       "\"New β is: 0.9896907216494846\""
      ]
     },
     "metadata": {},
     "output_type": "display_data"
    },
    {
     "data": {
      "text/plain": [
       "\"Update queue: [305.014, 303.886, 304.737, 303.984, 303.879, 304.127]\""
      ]
     },
     "metadata": {},
     "output_type": "display_data"
    },
    {
     "data": {
      "text/plain": [
       "\"Time of the next update: 303.87905459425303\""
      ]
     },
     "metadata": {},
     "output_type": "display_data"
    },
    {
     "data": {
      "text/plain": [
       "\"Next index to update: 6\""
      ]
     },
     "metadata": {},
     "output_type": "display_data"
    },
    {
     "data": {
      "text/plain": [
       "\"Time is: 303.87905459425303\""
      ]
     },
     "metadata": {},
     "output_type": "display_data"
    },
    {
     "data": {
      "text/plain": [
       "\"Residual: 0.12089815596786707\""
      ]
     },
     "metadata": {},
     "output_type": "display_data"
    },
    {
     "data": {
      "text/plain": [
       "\"New β is: 0.9897435897435898\""
      ]
     },
     "metadata": {},
     "output_type": "display_data"
    },
    {
     "data": {
      "text/plain": [
       "\"Update queue: [306.331, 305.454, 306.257, 305.443, 305.459, 305.581]\""
      ]
     },
     "metadata": {},
     "output_type": "display_data"
    },
    {
     "data": {
      "text/plain": [
       "\"Time of the next update: 305.4432722992577\""
      ]
     },
     "metadata": {},
     "output_type": "display_data"
    },
    {
     "data": {
      "text/plain": [
       "\"Next index to update: 5\""
      ]
     },
     "metadata": {},
     "output_type": "display_data"
    },
    {
     "data": {
      "text/plain": [
       "\"Time is: 305.4432722992577\""
      ]
     },
     "metadata": {},
     "output_type": "display_data"
    },
    {
     "data": {
      "text/plain": [
       "\"Residual: 0.12047119517366912\""
      ]
     },
     "metadata": {},
     "output_type": "display_data"
    },
    {
     "data": {
      "text/plain": [
       "\"New β is: 0.9897959183673469\""
      ]
     },
     "metadata": {},
     "output_type": "display_data"
    },
    {
     "data": {
      "text/plain": [
       "\"Update queue: [307.641, 306.985, 307.633, 308.279, 307.006, 307.015]\""
      ]
     },
     "metadata": {},
     "output_type": "display_data"
    },
    {
     "data": {
      "text/plain": [
       "\"Time of the next update: 306.98488712606047\""
      ]
     },
     "metadata": {},
     "output_type": "display_data"
    },
    {
     "data": {
      "text/plain": [
       "\"Next index to update: 2\""
      ]
     },
     "metadata": {},
     "output_type": "display_data"
    },
    {
     "data": {
      "text/plain": [
       "\"Time is: 306.98488712606047\""
      ]
     },
     "metadata": {},
     "output_type": "display_data"
    },
    {
     "data": {
      "text/plain": [
       "\"Residual: 0.1200456059568419\""
      ]
     },
     "metadata": {},
     "output_type": "display_data"
    },
    {
     "data": {
      "text/plain": [
       "\"New β is: 0.9898477157360406\""
      ]
     },
     "metadata": {},
     "output_type": "display_data"
    },
    {
     "data": {
      "text/plain": [
       "\"Update queue: [309.087, 308.588, 308.876, 309.635, 308.573, 309.842]\""
      ]
     },
     "metadata": {},
     "output_type": "display_data"
    },
    {
     "data": {
      "text/plain": [
       "\"Time of the next update: 308.5729508440192\""
      ]
     },
     "metadata": {},
     "output_type": "display_data"
    },
    {
     "data": {
      "text/plain": [
       "\"Next index to update: 6\""
      ]
     },
     "metadata": {},
     "output_type": "display_data"
    },
    {
     "data": {
      "text/plain": [
       "\"Time is: 308.5729508440192\""
      ]
     },
     "metadata": {},
     "output_type": "display_data"
    },
    {
     "data": {
      "text/plain": [
       "\"Residual: 0.1194390409997656\""
      ]
     },
     "metadata": {},
     "output_type": "display_data"
    },
    {
     "data": {
      "text/plain": [
       "\"New β is: 0.98989898989899\""
      ]
     },
     "metadata": {},
     "output_type": "display_data"
    },
    {
     "data": {
      "text/plain": [
       "\"Update queue: [310.355, 310.168, 311.329, 311.108, 310.113, 311.235]\""
      ]
     },
     "metadata": {},
     "output_type": "display_data"
    },
    {
     "data": {
      "text/plain": [
       "\"Time of the next update: 310.11295981939617\""
      ]
     },
     "metadata": {},
     "output_type": "display_data"
    },
    {
     "data": {
      "text/plain": [
       "\"Next index to update: 6\""
      ]
     },
     "metadata": {},
     "output_type": "display_data"
    },
    {
     "data": {
      "text/plain": [
       "\"Time is: 310.11295981939617\""
      ]
     },
     "metadata": {},
     "output_type": "display_data"
    },
    {
     "data": {
      "text/plain": [
       "\"Residual: 0.11913793683751843\""
      ]
     },
     "metadata": {},
     "output_type": "display_data"
    },
    {
     "data": {
      "text/plain": [
       "\"New β is: 0.9899497487437185\""
      ]
     },
     "metadata": {},
     "output_type": "display_data"
    },
    {
     "data": {
      "text/plain": [
       "\"Update queue: [312.945, 311.728, 312.582, 312.554, 311.67, 312.625]\""
      ]
     },
     "metadata": {},
     "output_type": "display_data"
    },
    {
     "data": {
      "text/plain": [
       "\"Time of the next update: 311.67001774339593\""
      ]
     },
     "metadata": {},
     "output_type": "display_data"
    },
    {
     "data": {
      "text/plain": [
       "\"Next index to update: 6\""
      ]
     },
     "metadata": {},
     "output_type": "display_data"
    },
    {
     "data": {
      "text/plain": [
       "\"Time is: 311.67001774339593\""
      ]
     },
     "metadata": {},
     "output_type": "display_data"
    },
    {
     "data": {
      "text/plain": [
       "\"Residual: 0.11876096538592361\""
      ]
     },
     "metadata": {},
     "output_type": "display_data"
    },
    {
     "data": {
      "text/plain": [
       "\"New β is: 0.99\""
      ]
     },
     "metadata": {},
     "output_type": "display_data"
    },
    {
     "data": {
      "text/plain": [
       "\"Update queue: [314.291, 313.324, 313.719, 313.941, 313.251, 314.122]\""
      ]
     },
     "metadata": {},
     "output_type": "display_data"
    },
    {
     "data": {
      "text/plain": [
       "\"Time of the next update: 313.2506927713288\""
      ]
     },
     "metadata": {},
     "output_type": "display_data"
    },
    {
     "data": {
      "text/plain": [
       "\"Next index to update: 6\""
      ]
     },
     "metadata": {},
     "output_type": "display_data"
    },
    {
     "data": {
      "text/plain": [
       "\"Time is: 313.2506927713288\""
      ]
     },
     "metadata": {},
     "output_type": "display_data"
    },
    {
     "data": {
      "text/plain": [
       "\"Residual: 0.11844693681831495\""
      ]
     },
     "metadata": {},
     "output_type": "display_data"
    },
    {
     "data": {
      "text/plain": [
       "\"New β is: 0.9900497512437811\""
      ]
     },
     "metadata": {},
     "output_type": "display_data"
    },
    {
     "data": {
      "text/plain": [
       "\"Update queue: [315.718, 314.893, 315.08, 315.377, 314.892, 315.546]\""
      ]
     },
     "metadata": {},
     "output_type": "display_data"
    },
    {
     "data": {
      "text/plain": [
       "\"Time of the next update: 314.89191912859064\""
      ]
     },
     "metadata": {},
     "output_type": "display_data"
    },
    {
     "data": {
      "text/plain": [
       "\"Next index to update: 6\""
      ]
     },
     "metadata": {},
     "output_type": "display_data"
    },
    {
     "data": {
      "text/plain": [
       "\"Time is: 314.89191912859064\""
      ]
     },
     "metadata": {},
     "output_type": "display_data"
    },
    {
     "data": {
      "text/plain": [
       "\"Residual: 0.11812971032589682\""
      ]
     },
     "metadata": {},
     "output_type": "display_data"
    },
    {
     "data": {
      "text/plain": [
       "\"New β is: 0.9900990099009901\""
      ]
     },
     "metadata": {},
     "output_type": "display_data"
    },
    {
     "data": {
      "text/plain": [
       "\"Update queue: [317.047, 316.49, 317.827, 316.783, 316.479, 317.017]\""
      ]
     },
     "metadata": {},
     "output_type": "display_data"
    },
    {
     "data": {
      "text/plain": [
       "\"Time of the next update: 316.47880308990204\""
      ]
     },
     "metadata": {},
     "output_type": "display_data"
    },
    {
     "data": {
      "text/plain": [
       "\"Next index to update: 6\""
      ]
     },
     "metadata": {},
     "output_type": "display_data"
    },
    {
     "data": {
      "text/plain": [
       "\"Time is: 316.47880308990204\""
      ]
     },
     "metadata": {},
     "output_type": "display_data"
    },
    {
     "data": {
      "text/plain": [
       "\"Residual: 0.11781211497247318\""
      ]
     },
     "metadata": {},
     "output_type": "display_data"
    },
    {
     "data": {
      "text/plain": [
       "\"New β is: 0.9901477832512315\""
      ]
     },
     "metadata": {},
     "output_type": "display_data"
    },
    {
     "data": {
      "text/plain": [
       "\"Update queue: [318.47, 318.109, 319.118, 318.247, 318.049, 318.432]\""
      ]
     },
     "metadata": {},
     "output_type": "display_data"
    },
    {
     "data": {
      "text/plain": [
       "\"Time of the next update: 318.048576777477\""
      ]
     },
     "metadata": {},
     "output_type": "display_data"
    },
    {
     "data": {
      "text/plain": [
       "\"Next index to update: 6\""
      ]
     },
     "metadata": {},
     "output_type": "display_data"
    },
    {
     "data": {
      "text/plain": [
       "\"Time is: 318.048576777477\""
      ]
     },
     "metadata": {},
     "output_type": "display_data"
    },
    {
     "data": {
      "text/plain": [
       "\"Residual: 0.117477428233907\""
      ]
     },
     "metadata": {},
     "output_type": "display_data"
    },
    {
     "data": {
      "text/plain": [
       "\"New β is: 0.9901960784313726\""
      ]
     },
     "metadata": {},
     "output_type": "display_data"
    },
    {
     "data": {
      "text/plain": [
       "\"Update queue: [319.805, 319.629, 320.574, 319.634, 319.632, 319.814]\""
      ]
     },
     "metadata": {},
     "output_type": "display_data"
    },
    {
     "data": {
      "text/plain": [
       "\"Time of the next update: 319.62892059195684\""
      ]
     },
     "metadata": {},
     "output_type": "display_data"
    },
    {
     "data": {
      "text/plain": [
       "\"Next index to update: 2\""
      ]
     },
     "metadata": {},
     "output_type": "display_data"
    },
    {
     "data": {
      "text/plain": [
       "\"Time is: 319.62892059195684\""
      ]
     },
     "metadata": {},
     "output_type": "display_data"
    },
    {
     "data": {
      "text/plain": [
       "\"Residual: 0.11716738335429985\""
      ]
     },
     "metadata": {},
     "output_type": "display_data"
    },
    {
     "data": {
      "text/plain": [
       "\"New β is: 0.9902439024390244\""
      ]
     },
     "metadata": {},
     "output_type": "display_data"
    },
    {
     "data": {
      "text/plain": [
       "\"Update queue: [322.598, 321.242, 322.184, 322.48, 321.133, 321.282]\""
      ]
     },
     "metadata": {},
     "output_type": "display_data"
    },
    {
     "data": {
      "text/plain": [
       "\"Time of the next update: 321.13262906889975\""
      ]
     },
     "metadata": {},
     "output_type": "display_data"
    },
    {
     "data": {
      "text/plain": [
       "\"Next index to update: 6\""
      ]
     },
     "metadata": {},
     "output_type": "display_data"
    },
    {
     "data": {
      "text/plain": [
       "\"Time is: 321.13262906889975\""
      ]
     },
     "metadata": {},
     "output_type": "display_data"
    },
    {
     "data": {
      "text/plain": [
       "\"Residual: 0.1167505018693242\""
      ]
     },
     "metadata": {},
     "output_type": "display_data"
    },
    {
     "data": {
      "text/plain": [
       "\"New β is: 0.9902912621359223\""
      ]
     },
     "metadata": {},
     "output_type": "display_data"
    },
    {
     "data": {
      "text/plain": [
       "\"Update queue: [323.813, 322.726, 323.823, 323.849, 322.721, 324.122]\""
      ]
     },
     "metadata": {},
     "output_type": "display_data"
    },
    {
     "data": {
      "text/plain": [
       "\"Time of the next update: 322.72089792285374\""
      ]
     },
     "metadata": {},
     "output_type": "display_data"
    },
    {
     "data": {
      "text/plain": [
       "\"Next index to update: 6\""
      ]
     },
     "metadata": {},
     "output_type": "display_data"
    },
    {
     "data": {
      "text/plain": [
       "\"Time is: 322.72089792285374\""
      ]
     },
     "metadata": {},
     "output_type": "display_data"
    },
    {
     "data": {
      "text/plain": [
       "\"Residual: 0.11627851090247193\""
      ]
     },
     "metadata": {},
     "output_type": "display_data"
    },
    {
     "data": {
      "text/plain": [
       "\"New β is: 0.9903381642512077\""
      ]
     },
     "metadata": {},
     "output_type": "display_data"
    },
    {
     "data": {
      "text/plain": [
       "\"Update queue: [325.151, 324.304, 325.192, 325.274, 324.277, 325.523]\""
      ]
     },
     "metadata": {},
     "output_type": "display_data"
    },
    {
     "data": {
      "text/plain": [
       "\"Time of the next update: 324.2770817761438\""
      ]
     },
     "metadata": {},
     "output_type": "display_data"
    },
    {
     "data": {
      "text/plain": [
       "\"Next index to update: 6\""
      ]
     },
     "metadata": {},
     "output_type": "display_data"
    },
    {
     "data": {
      "text/plain": [
       "\"Time is: 324.2770817761438\""
      ]
     },
     "metadata": {},
     "output_type": "display_data"
    },
    {
     "data": {
      "text/plain": [
       "\"Residual: 0.11578539289841402\""
      ]
     },
     "metadata": {},
     "output_type": "display_data"
    },
    {
     "data": {
      "text/plain": [
       "\"New β is: 0.9903846153846154\""
      ]
     },
     "metadata": {},
     "output_type": "display_data"
    },
    {
     "data": {
      "text/plain": [
       "\"Update queue: [326.559, 325.922, 326.547, 326.745, 325.89, 327.002]\""
      ]
     },
     "metadata": {},
     "output_type": "display_data"
    },
    {
     "data": {
      "text/plain": [
       "\"Time of the next update: 325.88990770367394\""
      ]
     },
     "metadata": {},
     "output_type": "display_data"
    },
    {
     "data": {
      "text/plain": [
       "\"Next index to update: 6\""
      ]
     },
     "metadata": {},
     "output_type": "display_data"
    },
    {
     "data": {
      "text/plain": [
       "\"Time is: 325.88990770367394\""
      ]
     },
     "metadata": {},
     "output_type": "display_data"
    },
    {
     "data": {
      "text/plain": [
       "\"Residual: 0.11555713526267244\""
      ]
     },
     "metadata": {},
     "output_type": "display_data"
    },
    {
     "data": {
      "text/plain": [
       "\"New β is: 0.9904306220095693\""
      ]
     },
     "metadata": {},
     "output_type": "display_data"
    },
    {
     "data": {
      "text/plain": [
       "\"Update queue: [327.693, 327.564, 327.995, 328.086, 327.471, 328.382]\""
      ]
     },
     "metadata": {},
     "output_type": "display_data"
    },
    {
     "data": {
      "text/plain": [
       "\"Time of the next update: 327.47147468118607\""
      ]
     },
     "metadata": {},
     "output_type": "display_data"
    },
    {
     "data": {
      "text/plain": [
       "\"Next index to update: 6\""
      ]
     },
     "metadata": {},
     "output_type": "display_data"
    },
    {
     "data": {
      "text/plain": [
       "\"Time is: 327.47147468118607\""
      ]
     },
     "metadata": {},
     "output_type": "display_data"
    },
    {
     "data": {
      "text/plain": [
       "\"Residual: 0.11520945922774353\""
      ]
     },
     "metadata": {},
     "output_type": "display_data"
    },
    {
     "data": {
      "text/plain": [
       "\"New β is: 0.9904761904761905\""
      ]
     },
     "metadata": {},
     "output_type": "display_data"
    },
    {
     "data": {
      "text/plain": [
       "\"Update queue: [330.437, 329.142, 329.158, 329.466, 329.037, 329.803]\""
      ]
     },
     "metadata": {},
     "output_type": "display_data"
    },
    {
     "data": {
      "text/plain": [
       "\"Time of the next update: 329.0371795768799\""
      ]
     },
     "metadata": {},
     "output_type": "display_data"
    },
    {
     "data": {
      "text/plain": [
       "\"Next index to update: 6\""
      ]
     },
     "metadata": {},
     "output_type": "display_data"
    },
    {
     "data": {
      "text/plain": [
       "\"Time is: 329.0371795768799\""
      ]
     },
     "metadata": {},
     "output_type": "display_data"
    },
    {
     "data": {
      "text/plain": [
       "\"Residual: 0.114940787533792\""
      ]
     },
     "metadata": {},
     "output_type": "display_data"
    },
    {
     "data": {
      "text/plain": [
       "\"New β is: 0.990521327014218\""
      ]
     },
     "metadata": {},
     "output_type": "display_data"
    },
    {
     "data": {
      "text/plain": [
       "\"Update queue: [331.654, 330.649, 332.005, 330.94, 330.629, 331.203]\""
      ]
     },
     "metadata": {},
     "output_type": "display_data"
    },
    {
     "data": {
      "text/plain": [
       "\"Time of the next update: 330.62853647426596\""
      ]
     },
     "metadata": {},
     "output_type": "display_data"
    },
    {
     "data": {
      "text/plain": [
       "\"Next index to update: 6\""
      ]
     },
     "metadata": {},
     "output_type": "display_data"
    },
    {
     "data": {
      "text/plain": [
       "\"Time is: 330.62853647426596\""
      ]
     },
     "metadata": {},
     "output_type": "display_data"
    },
    {
     "data": {
      "text/plain": [
       "\"Residual: 0.11464053722964705\""
      ]
     },
     "metadata": {},
     "output_type": "display_data"
    },
    {
     "data": {
      "text/plain": [
       "\"New β is: 0.9905660377358491\""
      ]
     },
     "metadata": {},
     "output_type": "display_data"
    },
    {
     "data": {
      "text/plain": [
       "\"Update queue: [332.884, 332.238, 333.316, 332.33, 332.2, 332.607]\""
      ]
     },
     "metadata": {},
     "output_type": "display_data"
    },
    {
     "data": {
      "text/plain": [
       "\"Time of the next update: 332.1998495153745\""
      ]
     },
     "metadata": {},
     "output_type": "display_data"
    },
    {
     "data": {
      "text/plain": [
       "\"Next index to update: 6\""
      ]
     },
     "metadata": {},
     "output_type": "display_data"
    },
    {
     "data": {
      "text/plain": [
       "\"Time is: 332.1998495153745\""
      ]
     },
     "metadata": {},
     "output_type": "display_data"
    },
    {
     "data": {
      "text/plain": [
       "\"Residual: 0.11435786812428947\""
      ]
     },
     "metadata": {},
     "output_type": "display_data"
    },
    {
     "data": {
      "text/plain": [
       "\"New β is: 0.9906103286384976\""
      ]
     },
     "metadata": {},
     "output_type": "display_data"
    },
    {
     "data": {
      "text/plain": [
       "\"Update queue: [334.158, 333.834, 334.704, 335.176, 333.798, 333.996]\""
      ]
     },
     "metadata": {},
     "output_type": "display_data"
    },
    {
     "data": {
      "text/plain": [
       "\"Time of the next update: 333.79842968224415\""
      ]
     },
     "metadata": {},
     "output_type": "display_data"
    },
    {
     "data": {
      "text/plain": [
       "\"Next index to update: 6\""
      ]
     },
     "metadata": {},
     "output_type": "display_data"
    },
    {
     "data": {
      "text/plain": [
       "\"Time is: 333.79842968224415\""
      ]
     },
     "metadata": {},
     "output_type": "display_data"
    },
    {
     "data": {
      "text/plain": [
       "\"Residual: 0.11400622545895456\""
      ]
     },
     "metadata": {},
     "output_type": "display_data"
    },
    {
     "data": {
      "text/plain": [
       "\"New β is: 0.9906542056074766\""
      ]
     },
     "metadata": {},
     "output_type": "display_data"
    },
    {
     "data": {
      "text/plain": [
       "\"Update queue: [335.418, 335.458, 335.953, 336.635, 335.4, 335.501]\""
      ]
     },
     "metadata": {},
     "output_type": "display_data"
    },
    {
     "data": {
      "text/plain": [
       "\"Time of the next update: 335.4003209228347\""
      ]
     },
     "metadata": {},
     "output_type": "display_data"
    },
    {
     "data": {
      "text/plain": [
       "\"Next index to update: 6\""
      ]
     },
     "metadata": {},
     "output_type": "display_data"
    },
    {
     "data": {
      "text/plain": [
       "\"Time is: 335.4003209228347\""
      ]
     },
     "metadata": {},
     "output_type": "display_data"
    },
    {
     "data": {
      "text/plain": [
       "\"Residual: 0.11362972185625725\""
      ]
     },
     "metadata": {},
     "output_type": "display_data"
    },
    {
     "data": {
      "text/plain": [
       "\"New β is: 0.9906976744186047\""
      ]
     },
     "metadata": {},
     "output_type": "display_data"
    },
    {
     "data": {
      "text/plain": [
       "\"Update queue: [338.076, 337.092, 337.428, 338.037, 336.984, 336.976]\""
      ]
     },
     "metadata": {},
     "output_type": "display_data"
    },
    {
     "data": {
      "text/plain": [
       "\"Time of the next update: 336.9762218229318\""
      ]
     },
     "metadata": {},
     "output_type": "display_data"
    },
    {
     "data": {
      "text/plain": [
       "\"Next index to update: 1\""
      ]
     },
     "metadata": {},
     "output_type": "display_data"
    },
    {
     "data": {
      "text/plain": [
       "\"Time is: 336.9762218229318\""
      ]
     },
     "metadata": {},
     "output_type": "display_data"
    },
    {
     "data": {
      "text/plain": [
       "\"Residual: 0.11330468936105495\""
      ]
     },
     "metadata": {},
     "output_type": "display_data"
    },
    {
     "data": {
      "text/plain": [
       "\"New β is: 0.9907407407407407\""
      ]
     },
     "metadata": {},
     "output_type": "display_data"
    },
    {
     "data": {
      "text/plain": [
       "\"Update queue: [339.401, 338.627, 338.708, 339.487, 338.571, 339.849]\""
      ]
     },
     "metadata": {},
     "output_type": "display_data"
    },
    {
     "data": {
      "text/plain": [
       "\"Time of the next update: 338.5711378416666\""
      ]
     },
     "metadata": {},
     "output_type": "display_data"
    },
    {
     "data": {
      "text/plain": [
       "\"Next index to update: 6\""
      ]
     },
     "metadata": {},
     "output_type": "display_data"
    },
    {
     "data": {
      "text/plain": [
       "\"Time is: 338.5711378416666\""
      ]
     },
     "metadata": {},
     "output_type": "display_data"
    },
    {
     "data": {
      "text/plain": [
       "\"Residual: 0.11288694970330101\""
      ]
     },
     "metadata": {},
     "output_type": "display_data"
    },
    {
     "data": {
      "text/plain": [
       "\"New β is: 0.9907834101382489\""
      ]
     },
     "metadata": {},
     "output_type": "display_data"
    },
    {
     "data": {
      "text/plain": [
       "\"Update queue: [340.853, 340.104, 341.087, 340.942, 340.125, 341.269]\""
      ]
     },
     "metadata": {},
     "output_type": "display_data"
    },
    {
     "data": {
      "text/plain": [
       "\"Time of the next update: 340.10404576092157\""
      ]
     },
     "metadata": {},
     "output_type": "display_data"
    },
    {
     "data": {
      "text/plain": [
       "\"Next index to update: 2\""
      ]
     },
     "metadata": {},
     "output_type": "display_data"
    },
    {
     "data": {
      "text/plain": [
       "\"Time is: 340.10404576092157\""
      ]
     },
     "metadata": {},
     "output_type": "display_data"
    },
    {
     "data": {
      "text/plain": [
       "\"Residual: 0.11267218266478146\""
      ]
     },
     "metadata": {},
     "output_type": "display_data"
    },
    {
     "data": {
      "text/plain": [
       "\"New β is: 0.9908256880733946\""
      ]
     },
     "metadata": {},
     "output_type": "display_data"
    },
    {
     "data": {
      "text/plain": [
       "\"Update queue: [342.077, 341.663, 342.408, 342.259, 341.667, 342.705]\""
      ]
     },
     "metadata": {},
     "output_type": "display_data"
    },
    {
     "data": {
      "text/plain": [
       "\"Time of the next update: 341.66348075034824\""
      ]
     },
     "metadata": {},
     "output_type": "display_data"
    },
    {
     "data": {
      "text/plain": [
       "\"Next index to update: 2\""
      ]
     },
     "metadata": {},
     "output_type": "display_data"
    },
    {
     "data": {
      "text/plain": [
       "\"Time is: 341.66348075034824\""
      ]
     },
     "metadata": {},
     "output_type": "display_data"
    },
    {
     "data": {
      "text/plain": [
       "\"Residual: 0.11239198372481564\""
      ]
     },
     "metadata": {},
     "output_type": "display_data"
    },
    {
     "data": {
      "text/plain": [
       "\"New β is: 0.9908675799086758\""
      ]
     },
     "metadata": {},
     "output_type": "display_data"
    },
    {
     "data": {
      "text/plain": [
       "\"Update queue: [343.333, 343.222, 343.695, 343.663, 343.23, 344.138]\""
      ]
     },
     "metadata": {},
     "output_type": "display_data"
    },
    {
     "data": {
      "text/plain": [
       "\"Time of the next update: 343.2218649510546\""
      ]
     },
     "metadata": {},
     "output_type": "display_data"
    },
    {
     "data": {
      "text/plain": [
       "\"Next index to update: 2\""
      ]
     },
     "metadata": {},
     "output_type": "display_data"
    },
    {
     "data": {
      "text/plain": [
       "\"Time is: 343.2218649510546\""
      ]
     },
     "metadata": {},
     "output_type": "display_data"
    },
    {
     "data": {
      "text/plain": [
       "\"Residual: 0.11211532915061553\""
      ]
     },
     "metadata": {},
     "output_type": "display_data"
    },
    {
     "data": {
      "text/plain": [
       "\"New β is: 0.990909090909091\""
      ]
     },
     "metadata": {},
     "output_type": "display_data"
    },
    {
     "data": {
      "text/plain": [
       "\"Update queue: [345.9, 344.861, 345.043, 345.108, 344.795, 345.58]\""
      ]
     },
     "metadata": {},
     "output_type": "display_data"
    },
    {
     "data": {
      "text/plain": [
       "\"Time of the next update: 344.79548741628287\""
      ]
     },
     "metadata": {},
     "output_type": "display_data"
    },
    {
     "data": {
      "text/plain": [
       "\"Next index to update: 6\""
      ]
     },
     "metadata": {},
     "output_type": "display_data"
    },
    {
     "data": {
      "text/plain": [
       "\"Time is: 344.79548741628287\""
      ]
     },
     "metadata": {},
     "output_type": "display_data"
    },
    {
     "data": {
      "text/plain": [
       "\"Residual: 0.11183675245555263\""
      ]
     },
     "metadata": {},
     "output_type": "display_data"
    },
    {
     "data": {
      "text/plain": [
       "\"New β is: 0.9909502262443439\""
      ]
     },
     "metadata": {},
     "output_type": "display_data"
    },
    {
     "data": {
      "text/plain": [
       "\"Update queue: [347.261, 346.397, 347.486, 346.538, 346.391, 346.994]\""
      ]
     },
     "metadata": {},
     "output_type": "display_data"
    },
    {
     "data": {
      "text/plain": [
       "\"Time of the next update: 346.39103812383223\""
      ]
     },
     "metadata": {},
     "output_type": "display_data"
    },
    {
     "data": {
      "text/plain": [
       "\"Next index to update: 6\""
      ]
     },
     "metadata": {},
     "output_type": "display_data"
    },
    {
     "data": {
      "text/plain": [
       "\"Time is: 346.39103812383223\""
      ]
     },
     "metadata": {},
     "output_type": "display_data"
    },
    {
     "data": {
      "text/plain": [
       "\"Residual: 0.11155176123690332\""
      ]
     },
     "metadata": {},
     "output_type": "display_data"
    },
    {
     "data": {
      "text/plain": [
       "\"New β is: 0.990990990990991\""
      ]
     },
     "metadata": {},
     "output_type": "display_data"
    },
    {
     "data": {
      "text/plain": [
       "\"Update queue: [348.492, 348.057, 348.89, 347.999, 347.977, 348.428]\""
      ]
     },
     "metadata": {},
     "output_type": "display_data"
    },
    {
     "data": {
      "text/plain": [
       "\"Time of the next update: 347.9765506494551\""
      ]
     },
     "metadata": {},
     "output_type": "display_data"
    },
    {
     "data": {
      "text/plain": [
       "\"Next index to update: 6\""
      ]
     },
     "metadata": {},
     "output_type": "display_data"
    },
    {
     "data": {
      "text/plain": [
       "\"Time is: 347.9765506494551\""
      ]
     },
     "metadata": {},
     "output_type": "display_data"
    },
    {
     "data": {
      "text/plain": [
       "\"Residual: 0.11127893968876336\""
      ]
     },
     "metadata": {},
     "output_type": "display_data"
    },
    {
     "data": {
      "text/plain": [
       "\"New β is: 0.9910313901345291\""
      ]
     },
     "metadata": {},
     "output_type": "display_data"
    },
    {
     "data": {
      "text/plain": [
       "\"Update queue: [349.847, 349.521, 350.091, 350.85, 349.521, 349.797]\""
      ]
     },
     "metadata": {},
     "output_type": "display_data"
    },
    {
     "data": {
      "text/plain": [
       "\"Time of the next update: 349.5212105705286\""
      ]
     },
     "metadata": {},
     "output_type": "display_data"
    },
    {
     "data": {
      "text/plain": [
       "\"Next index to update: 6\""
      ]
     },
     "metadata": {},
     "output_type": "display_data"
    },
    {
     "data": {
      "text/plain": [
       "\"Time is: 349.5212105705286\""
      ]
     },
     "metadata": {},
     "output_type": "display_data"
    },
    {
     "data": {
      "text/plain": [
       "\"Residual: 0.11090432181837404\""
      ]
     },
     "metadata": {},
     "output_type": "display_data"
    },
    {
     "data": {
      "text/plain": [
       "\"New β is: 0.9910714285714286\""
      ]
     },
     "metadata": {},
     "output_type": "display_data"
    },
    {
     "data": {
      "text/plain": [
       "\"Update queue: [351.111, 351.083, 351.449, 352.306, 351.039, 351.243]\""
      ]
     },
     "metadata": {},
     "output_type": "display_data"
    },
    {
     "data": {
      "text/plain": [
       "\"Time of the next update: 351.03891679343326\""
      ]
     },
     "metadata": {},
     "output_type": "display_data"
    },
    {
     "data": {
      "text/plain": [
       "\"Next index to update: 6\""
      ]
     },
     "metadata": {},
     "output_type": "display_data"
    },
    {
     "data": {
      "text/plain": [
       "\"Time is: 351.03891679343326\""
      ]
     },
     "metadata": {},
     "output_type": "display_data"
    },
    {
     "data": {
      "text/plain": [
       "\"Residual: 0.1105494585937685\""
      ]
     },
     "metadata": {},
     "output_type": "display_data"
    },
    {
     "data": {
      "text/plain": [
       "\"New β is: 0.9911111111111112\""
      ]
     },
     "metadata": {},
     "output_type": "display_data"
    },
    {
     "data": {
      "text/plain": [
       "\"Update queue: [353.721, 352.653, 352.98, 353.672, 352.621, 352.626]\""
      ]
     },
     "metadata": {},
     "output_type": "display_data"
    },
    {
     "data": {
      "text/plain": [
       "\"Time of the next update: 352.6207497673568\""
      ]
     },
     "metadata": {},
     "output_type": "display_data"
    },
    {
     "data": {
      "text/plain": [
       "\"Next index to update: 6\""
      ]
     },
     "metadata": {},
     "output_type": "display_data"
    },
    {
     "data": {
      "text/plain": [
       "\"Time is: 352.6207497673568\""
      ]
     },
     "metadata": {},
     "output_type": "display_data"
    },
    {
     "data": {
      "text/plain": [
       "\"Residual: 0.11034708481206865\""
      ]
     },
     "metadata": {},
     "output_type": "display_data"
    },
    {
     "data": {
      "text/plain": [
       "\"New β is: 0.9911504424778761\""
      ]
     },
     "metadata": {},
     "output_type": "display_data"
    },
    {
     "data": {
      "text/plain": [
       "\"Update queue: [355.088, 354.149, 354.368, 355.105, 354.164, 355.477]\""
      ]
     },
     "metadata": {},
     "output_type": "display_data"
    },
    {
     "data": {
      "text/plain": [
       "\"Time of the next update: 354.14939443681345\""
      ]
     },
     "metadata": {},
     "output_type": "display_data"
    },
    {
     "data": {
      "text/plain": [
       "\"Next index to update: 2\""
      ]
     },
     "metadata": {},
     "output_type": "display_data"
    },
    {
     "data": {
      "text/plain": [
       "\"Time is: 354.14939443681345\""
      ]
     },
     "metadata": {},
     "output_type": "display_data"
    },
    {
     "data": {
      "text/plain": [
       "\"Residual: 0.10987046069324172\""
      ]
     },
     "metadata": {},
     "output_type": "display_data"
    },
    {
     "data": {
      "text/plain": [
       "\"New β is: 0.9911894273127754\""
      ]
     },
     "metadata": {},
     "output_type": "display_data"
    },
    {
     "data": {
      "text/plain": [
       "\"Update queue: [356.418, 355.797, 357.158, 356.507, 355.739, 356.838]\""
      ]
     },
     "metadata": {},
     "output_type": "display_data"
    },
    {
     "data": {
      "text/plain": [
       "\"Time of the next update: 355.7387797954239\""
      ]
     },
     "metadata": {},
     "output_type": "display_data"
    },
    {
     "data": {
      "text/plain": [
       "\"Next index to update: 6\""
      ]
     },
     "metadata": {},
     "output_type": "display_data"
    },
    {
     "data": {
      "text/plain": [
       "\"Time is: 355.7387797954239\""
      ]
     },
     "metadata": {},
     "output_type": "display_data"
    },
    {
     "data": {
      "text/plain": [
       "\"Residual: 0.10966624743738185\""
      ]
     },
     "metadata": {},
     "output_type": "display_data"
    },
    {
     "data": {
      "text/plain": [
       "\"New β is: 0.9912280701754386\""
      ]
     },
     "metadata": {},
     "output_type": "display_data"
    },
    {
     "data": {
      "text/plain": [
       "\"Update queue: [357.722, 357.409, 358.443, 357.913, 357.306, 358.248]\""
      ]
     },
     "metadata": {},
     "output_type": "display_data"
    },
    {
     "data": {
      "text/plain": [
       "\"Time of the next update: 357.30648509222186\""
      ]
     },
     "metadata": {},
     "output_type": "display_data"
    },
    {
     "data": {
      "text/plain": [
       "\"Next index to update: 6\""
      ]
     },
     "metadata": {},
     "output_type": "display_data"
    },
    {
     "data": {
      "text/plain": [
       "\"Time is: 357.30648509222186\""
      ]
     },
     "metadata": {},
     "output_type": "display_data"
    },
    {
     "data": {
      "text/plain": [
       "\"Residual: 0.10937482388333072\""
      ]
     },
     "metadata": {},
     "output_type": "display_data"
    },
    {
     "data": {
      "text/plain": [
       "\"New β is: 0.9912663755458515\""
      ]
     },
     "metadata": {},
     "output_type": "display_data"
    },
    {
     "data": {
      "text/plain": [
       "\"Update queue: [359.078, 358.975, 359.645, 359.357, 358.91, 359.672]\""
      ]
     },
     "metadata": {},
     "output_type": "display_data"
    },
    {
     "data": {
      "text/plain": [
       "\"Time of the next update: 358.9102118763175\""
      ]
     },
     "metadata": {},
     "output_type": "display_data"
    },
    {
     "data": {
      "text/plain": [
       "\"Next index to update: 6\""
      ]
     },
     "metadata": {},
     "output_type": "display_data"
    },
    {
     "data": {
      "text/plain": [
       "\"Time is: 358.9102118763175\""
      ]
     },
     "metadata": {},
     "output_type": "display_data"
    },
    {
     "data": {
      "text/plain": [
       "\"Residual: 0.10913942717604974\""
      ]
     },
     "metadata": {},
     "output_type": "display_data"
    },
    {
     "data": {
      "text/plain": [
       "\"New β is: 0.991304347826087\""
      ]
     },
     "metadata": {},
     "output_type": "display_data"
    },
    {
     "data": {
      "text/plain": [
       "\"Update queue: [361.328, 360.531, 360.672, 360.811, 360.501, 361.039]\""
      ]
     },
     "metadata": {},
     "output_type": "display_data"
    },
    {
     "data": {
      "text/plain": [
       "\"Time of the next update: 360.50103666489304\""
      ]
     },
     "metadata": {},
     "output_type": "display_data"
    },
    {
     "data": {
      "text/plain": [
       "\"Next index to update: 6\""
      ]
     },
     "metadata": {},
     "output_type": "display_data"
    },
    {
     "data": {
      "text/plain": [
       "\"Time is: 360.50103666489304\""
      ]
     },
     "metadata": {},
     "output_type": "display_data"
    },
    {
     "data": {
      "text/plain": [
       "\"Residual: 0.10886159809755061\""
      ]
     },
     "metadata": {},
     "output_type": "display_data"
    },
    {
     "data": {
      "text/plain": [
       "\"New β is: 0.9913419913419913\""
      ]
     },
     "metadata": {},
     "output_type": "display_data"
    },
    {
     "data": {
      "text/plain": [
       "\"Update queue: [362.66, 362.158, 363.04, 362.172, 362.114, 362.478]\""
      ]
     },
     "metadata": {},
     "output_type": "display_data"
    },
    {
     "data": {
      "text/plain": [
       "\"Time of the next update: 362.11437765319533\""
      ]
     },
     "metadata": {},
     "output_type": "display_data"
    },
    {
     "data": {
      "text/plain": [
       "\"Next index to update: 6\""
      ]
     },
     "metadata": {},
     "output_type": "display_data"
    },
    {
     "data": {
      "text/plain": [
       "\"Time is: 362.11437765319533\""
      ]
     },
     "metadata": {},
     "output_type": "display_data"
    },
    {
     "data": {
      "text/plain": [
       "\"Residual: 0.10860499955150865\""
      ]
     },
     "metadata": {},
     "output_type": "display_data"
    },
    {
     "data": {
      "text/plain": [
       "\"New β is: 0.9913793103448276\""
      ]
     },
     "metadata": {},
     "output_type": "display_data"
    },
    {
     "data": {
      "text/plain": [
       "\"Update queue: [363.894, 363.685, 364.434, 364.988, 363.647, 363.899]\""
      ]
     },
     "metadata": {},
     "output_type": "display_data"
    },
    {
     "data": {
      "text/plain": [
       "\"Time of the next update: 363.64677968262754\""
      ]
     },
     "metadata": {},
     "output_type": "display_data"
    },
    {
     "data": {
      "text/plain": [
       "\"Next index to update: 6\""
      ]
     },
     "metadata": {},
     "output_type": "display_data"
    },
    {
     "data": {
      "text/plain": [
       "\"Time is: 363.64677968262754\""
      ]
     },
     "metadata": {},
     "output_type": "display_data"
    },
    {
     "data": {
      "text/plain": [
       "\"Residual: 0.1081923564747877\""
      ]
     },
     "metadata": {},
     "output_type": "display_data"
    },
    {
     "data": {
      "text/plain": [
       "\"New β is: 0.9914163090128756\""
      ]
     },
     "metadata": {},
     "output_type": "display_data"
    },
    {
     "data": {
      "text/plain": [
       "\"Update queue: [366.341, 365.323, 365.879, 366.427, 365.261, 365.349]\""
      ]
     },
     "metadata": {},
     "output_type": "display_data"
    },
    {
     "data": {
      "text/plain": [
       "\"Time of the next update: 365.2607876939767\""
      ]
     },
     "metadata": {},
     "output_type": "display_data"
    },
    {
     "data": {
      "text/plain": [
       "\"Next index to update: 6\""
      ]
     },
     "metadata": {},
     "output_type": "display_data"
    },
    {
     "data": {
      "text/plain": [
       "\"Time is: 365.2607876939767\""
      ]
     },
     "metadata": {},
     "output_type": "display_data"
    },
    {
     "data": {
      "text/plain": [
       "\"Residual: 0.10795366740856024\""
      ]
     },
     "metadata": {},
     "output_type": "display_data"
    },
    {
     "data": {
      "text/plain": [
       "\"New β is: 0.9914529914529915\""
      ]
     },
     "metadata": {},
     "output_type": "display_data"
    },
    {
     "data": {
      "text/plain": [
       "\"Update queue: [367.607, 366.877, 367.121, 367.898, 366.88, 368.186]\""
      ]
     },
     "metadata": {},
     "output_type": "display_data"
    },
    {
     "data": {
      "text/plain": [
       "\"Time of the next update: 366.876827591173\""
      ]
     },
     "metadata": {},
     "output_type": "display_data"
    },
    {
     "data": {
      "text/plain": [
       "\"Next index to update: 2\""
      ]
     },
     "metadata": {},
     "output_type": "display_data"
    },
    {
     "data": {
      "text/plain": [
       "\"Time is: 366.876827591173\""
      ]
     },
     "metadata": {},
     "output_type": "display_data"
    },
    {
     "data": {
      "text/plain": [
       "\"Residual: 0.107542403198608\""
      ]
     },
     "metadata": {},
     "output_type": "display_data"
    },
    {
     "data": {
      "text/plain": [
       "\"New β is: 0.9914893617021276\""
      ]
     },
     "metadata": {},
     "output_type": "display_data"
    },
    {
     "data": {
      "text/plain": [
       "\"Update queue: [368.902, 368.575, 368.488, 369.357, 368.49, 369.662]\""
      ]
     },
     "metadata": {},
     "output_type": "display_data"
    },
    {
     "data": {
      "text/plain": [
       "\"Time of the next update: 368.48827774716534\""
      ]
     },
     "metadata": {},
     "output_type": "display_data"
    },
    {
     "data": {
      "text/plain": [
       "\"Next index to update: 3\""
      ]
     },
     "metadata": {},
     "output_type": "display_data"
    },
    {
     "data": {
      "text/plain": [
       "\"Time is: 368.48827774716534\""
      ]
     },
     "metadata": {},
     "output_type": "display_data"
    },
    {
     "data": {
      "text/plain": [
       "\"Residual: 0.10733723044146498\""
      ]
     },
     "metadata": {},
     "output_type": "display_data"
    },
    {
     "data": {
      "text/plain": [
       "\"New β is: 0.9915254237288136\""
      ]
     },
     "metadata": {},
     "output_type": "display_data"
    },
    {
     "data": {
      "text/plain": [
       "\"Update queue: [370.303, 370.074, 371.183, 370.772, 370.091, 371.057]\""
      ]
     },
     "metadata": {},
     "output_type": "display_data"
    },
    {
     "data": {
      "text/plain": [
       "\"Time of the next update: 370.0738254842965\""
      ]
     },
     "metadata": {},
     "output_type": "display_data"
    },
    {
     "data": {
      "text/plain": [
       "\"Next index to update: 2\""
      ]
     },
     "metadata": {},
     "output_type": "display_data"
    },
    {
     "data": {
      "text/plain": [
       "\"Time is: 370.0738254842965\""
      ]
     },
     "metadata": {},
     "output_type": "display_data"
    },
    {
     "data": {
      "text/plain": [
       "\"Residual: 0.10706354951567612\""
      ]
     },
     "metadata": {},
     "output_type": "display_data"
    },
    {
     "data": {
      "text/plain": [
       "\"New β is: 0.9915611814345991\""
      ]
     },
     "metadata": {},
     "output_type": "display_data"
    },
    {
     "data": {
      "text/plain": [
       "\"Update queue: [372.905, 371.733, 372.579, 372.206, 371.679, 372.495]\""
      ]
     },
     "metadata": {},
     "output_type": "display_data"
    },
    {
     "data": {
      "text/plain": [
       "\"Time of the next update: 371.67917039366927\""
      ]
     },
     "metadata": {},
     "output_type": "display_data"
    },
    {
     "data": {
      "text/plain": [
       "\"Next index to update: 6\""
      ]
     },
     "metadata": {},
     "output_type": "display_data"
    },
    {
     "data": {
      "text/plain": [
       "\"Time is: 371.67917039366927\""
      ]
     },
     "metadata": {},
     "output_type": "display_data"
    },
    {
     "data": {
      "text/plain": [
       "\"Residual: 0.10683880540292925\""
      ]
     },
     "metadata": {},
     "output_type": "display_data"
    },
    {
     "data": {
      "text/plain": [
       "\"New β is: 0.9915966386554622\""
      ]
     },
     "metadata": {},
     "output_type": "display_data"
    },
    {
     "data": {
      "text/plain": [
       "\"Update queue: [374.336, 373.348, 373.817, 373.632, 373.3, 373.949]\""
      ]
     },
     "metadata": {},
     "output_type": "display_data"
    },
    {
     "data": {
      "text/plain": [
       "\"Time of the next update: 373.30005995569826\""
      ]
     },
     "metadata": {},
     "output_type": "display_data"
    },
    {
     "data": {
      "text/plain": [
       "\"Next index to update: 6\""
      ]
     },
     "metadata": {},
     "output_type": "display_data"
    },
    {
     "data": {
      "text/plain": [
       "\"Time is: 373.30005995569826\""
      ]
     },
     "metadata": {},
     "output_type": "display_data"
    },
    {
     "data": {
      "text/plain": [
       "\"Residual: 0.10656610361372823\""
      ]
     },
     "metadata": {},
     "output_type": "display_data"
    },
    {
     "data": {
      "text/plain": [
       "\"New β is: 0.9916317991631799\""
      ]
     },
     "metadata": {},
     "output_type": "display_data"
    },
    {
     "data": {
      "text/plain": [
       "\"Update queue: [375.589, 374.929, 375.058, 375.056, 374.882, 375.331]\""
      ]
     },
     "metadata": {},
     "output_type": "display_data"
    },
    {
     "data": {
      "text/plain": [
       "\"Time of the next update: 374.882267269911\""
      ]
     },
     "metadata": {},
     "output_type": "display_data"
    },
    {
     "data": {
      "text/plain": [
       "\"Next index to update: 6\""
      ]
     },
     "metadata": {},
     "output_type": "display_data"
    },
    {
     "data": {
      "text/plain": [
       "\"Time is: 374.882267269911\""
      ]
     },
     "metadata": {},
     "output_type": "display_data"
    },
    {
     "data": {
      "text/plain": [
       "\"Residual: 0.10633662061616611\""
      ]
     },
     "metadata": {},
     "output_type": "display_data"
    },
    {
     "data": {
      "text/plain": [
       "\"New β is: 0.9916666666666667\""
      ]
     },
     "metadata": {},
     "output_type": "display_data"
    },
    {
     "data": {
      "text/plain": [
       "\"Update queue: [376.811, 376.484, 377.726, 376.458, 376.446, 376.829]\""
      ]
     },
     "metadata": {},
     "output_type": "display_data"
    },
    {
     "data": {
      "text/plain": [
       "\"Time of the next update: 376.44596899669205\""
      ]
     },
     "metadata": {},
     "output_type": "display_data"
    },
    {
     "data": {
      "text/plain": [
       "\"Next index to update: 6\""
      ]
     },
     "metadata": {},
     "output_type": "display_data"
    },
    {
     "data": {
      "text/plain": [
       "\"Time is: 376.44596899669205\""
      ]
     },
     "metadata": {},
     "output_type": "display_data"
    },
    {
     "data": {
      "text/plain": [
       "\"Residual: 0.10608470601600686\""
      ]
     },
     "metadata": {},
     "output_type": "display_data"
    },
    {
     "data": {
      "text/plain": [
       "\"New β is: 0.991701244813278\""
      ]
     },
     "metadata": {},
     "output_type": "display_data"
    },
    {
     "data": {
      "text/plain": [
       "\"Update queue: [378.033, 378.018, 378.963, 379.304, 378.006, 378.315]\""
      ]
     },
     "metadata": {},
     "output_type": "display_data"
    },
    {
     "data": {
      "text/plain": [
       "\"Time of the next update: 378.0056034758068\""
      ]
     },
     "metadata": {},
     "output_type": "display_data"
    },
    {
     "data": {
      "text/plain": [
       "\"Next index to update: 6\""
      ]
     },
     "metadata": {},
     "output_type": "display_data"
    },
    {
     "data": {
      "text/plain": [
       "\"Time is: 378.0056034758068\""
      ]
     },
     "metadata": {},
     "output_type": "display_data"
    },
    {
     "data": {
      "text/plain": [
       "\"Residual: 0.10568952266410085\""
      ]
     },
     "metadata": {},
     "output_type": "display_data"
    },
    {
     "data": {
      "text/plain": [
       "\"New β is: 0.9917355371900827\""
      ]
     },
     "metadata": {},
     "output_type": "display_data"
    },
    {
     "data": {
      "text/plain": [
       "\"Update queue: [381.019, 379.598, 380.297, 380.675, 379.59, 379.654]\""
      ]
     },
     "metadata": {},
     "output_type": "display_data"
    },
    {
     "data": {
      "text/plain": [
       "\"Time of the next update: 379.58968852519683\""
      ]
     },
     "metadata": {},
     "output_type": "display_data"
    },
    {
     "data": {
      "text/plain": [
       "\"Next index to update: 6\""
      ]
     },
     "metadata": {},
     "output_type": "display_data"
    },
    {
     "data": {
      "text/plain": [
       "\"Time is: 379.58968852519683\""
      ]
     },
     "metadata": {},
     "output_type": "display_data"
    },
    {
     "data": {
      "text/plain": [
       "\"Residual: 0.10550482995419588\""
      ]
     },
     "metadata": {},
     "output_type": "display_data"
    },
    {
     "data": {
      "text/plain": [
       "\"New β is: 0.9917695473251029\""
      ]
     },
     "metadata": {},
     "output_type": "display_data"
    },
    {
     "data": {
      "text/plain": [
       "\"Update queue: [382.279, 381.299, 381.717, 382.125, 381.174, 382.477]\""
      ]
     },
     "metadata": {},
     "output_type": "display_data"
    },
    {
     "data": {
      "text/plain": [
       "\"Time of the next update: 381.1738629505674\""
      ]
     },
     "metadata": {},
     "output_type": "display_data"
    },
    {
     "data": {
      "text/plain": [
       "\"Next index to update: 6\""
      ]
     },
     "metadata": {},
     "output_type": "display_data"
    },
    {
     "data": {
      "text/plain": [
       "\"Time is: 381.1738629505674\""
      ]
     },
     "metadata": {},
     "output_type": "display_data"
    },
    {
     "data": {
      "text/plain": [
       "\"Residual: 0.10503998067451782\""
      ]
     },
     "metadata": {},
     "output_type": "display_data"
    },
    {
     "data": {
      "text/plain": [
       "\"New β is: 0.9918032786885246\""
      ]
     },
     "metadata": {},
     "output_type": "display_data"
    },
    {
     "data": {
      "text/plain": [
       "\"Update queue: [383.671, 382.784, 383.124, 383.551, 382.727, 383.92]\""
      ]
     },
     "metadata": {},
     "output_type": "display_data"
    },
    {
     "data": {
      "text/plain": [
       "\"Time of the next update: 382.72729946849137\""
      ]
     },
     "metadata": {},
     "output_type": "display_data"
    },
    {
     "data": {
      "text/plain": [
       "\"Next index to update: 6\""
      ]
     },
     "metadata": {},
     "output_type": "display_data"
    },
    {
     "data": {
      "text/plain": [
       "\"Time is: 382.72729946849137\""
      ]
     },
     "metadata": {},
     "output_type": "display_data"
    },
    {
     "data": {
      "text/plain": [
       "\"Residual: 0.104859241743587\""
      ]
     },
     "metadata": {},
     "output_type": "display_data"
    },
    {
     "data": {
      "text/plain": [
       "\"New β is: 0.9918367346938776\""
      ]
     },
     "metadata": {},
     "output_type": "display_data"
    },
    {
     "data": {
      "text/plain": [
       "\"Update queue: [385.073, 384.378, 384.587, 384.972, 384.331, 385.321]\""
      ]
     },
     "metadata": {},
     "output_type": "display_data"
    },
    {
     "data": {
      "text/plain": [
       "\"Time of the next update: 384.33071946288186\""
      ]
     },
     "metadata": {},
     "output_type": "display_data"
    },
    {
     "data": {
      "text/plain": [
       "\"Next index to update: 6\""
      ]
     },
     "metadata": {},
     "output_type": "display_data"
    },
    {
     "data": {
      "text/plain": [
       "\"Time is: 384.33071946288186\""
      ]
     },
     "metadata": {},
     "output_type": "display_data"
    },
    {
     "data": {
      "text/plain": [
       "\"Residual: 0.10459181642856799\""
      ]
     },
     "metadata": {},
     "output_type": "display_data"
    },
    {
     "data": {
      "text/plain": [
       "\"New β is: 0.991869918699187\""
      ]
     },
     "metadata": {},
     "output_type": "display_data"
    },
    {
     "data": {
      "text/plain": [
       "\"Update queue: [386.436, 385.918, 387.114, 386.419, 385.922, 386.682]\""
      ]
     },
     "metadata": {},
     "output_type": "display_data"
    },
    {
     "data": {
      "text/plain": [
       "\"Time of the next update: 385.9179829925542\""
      ]
     },
     "metadata": {},
     "output_type": "display_data"
    },
    {
     "data": {
      "text/plain": [
       "\"Next index to update: 2\""
      ]
     },
     "metadata": {},
     "output_type": "display_data"
    },
    {
     "data": {
      "text/plain": [
       "\"Time is: 385.9179829925542\""
      ]
     },
     "metadata": {},
     "output_type": "display_data"
    },
    {
     "data": {
      "text/plain": [
       "\"Residual: 0.10436318817132295\""
      ]
     },
     "metadata": {},
     "output_type": "display_data"
    },
    {
     "data": {
      "text/plain": [
       "\"New β is: 0.9919028340080972\""
      ]
     },
     "metadata": {},
     "output_type": "display_data"
    },
    {
     "data": {
      "text/plain": [
       "\"Update queue: [387.467, 387.474, 388.514, 387.847, 387.463, 388.085]\""
      ]
     },
     "metadata": {},
     "output_type": "display_data"
    },
    {
     "data": {
      "text/plain": [
       "\"Time of the next update: 387.46336275396993\""
      ]
     },
     "metadata": {},
     "output_type": "display_data"
    },
    {
     "data": {
      "text/plain": [
       "\"Next index to update: 6\""
      ]
     },
     "metadata": {},
     "output_type": "display_data"
    },
    {
     "data": {
      "text/plain": [
       "\"Time is: 387.46336275396993\""
      ]
     },
     "metadata": {},
     "output_type": "display_data"
    },
    {
     "data": {
      "text/plain": [
       "\"Residual: 0.10411023488700838\""
      ]
     },
     "metadata": {},
     "output_type": "display_data"
    },
    {
     "data": {
      "text/plain": [
       "\"New β is: 0.9919354838709677\""
      ]
     },
     "metadata": {},
     "output_type": "display_data"
    },
    {
     "data": {
      "text/plain": [
       "\"Update queue: [390.148, 389.1, 389.939, 389.255, 389.064, 389.544]\""
      ]
     },
     "metadata": {},
     "output_type": "display_data"
    },
    {
     "data": {
      "text/plain": [
       "\"Time of the next update: 389.0644764895687\""
      ]
     },
     "metadata": {},
     "output_type": "display_data"
    },
    {
     "data": {
      "text/plain": [
       "\"Next index to update: 6\""
      ]
     },
     "metadata": {},
     "output_type": "display_data"
    },
    {
     "data": {
      "text/plain": [
       "\"Time is: 389.0644764895687\""
      ]
     },
     "metadata": {},
     "output_type": "display_data"
    },
    {
     "data": {
      "text/plain": [
       "\"Residual: 0.10389014047454731\""
      ]
     },
     "metadata": {},
     "output_type": "display_data"
    },
    {
     "data": {
      "text/plain": [
       "\"New β is: 0.9919678714859438\""
      ]
     },
     "metadata": {},
     "output_type": "display_data"
    },
    {
     "data": {
      "text/plain": [
       "\"Update queue: [391.607, 390.757, 391.303, 392.11, 390.701, 390.98]\""
      ]
     },
     "metadata": {},
     "output_type": "display_data"
    },
    {
     "data": {
      "text/plain": [
       "\"Time of the next update: 390.7009655235026\""
      ]
     },
     "metadata": {},
     "output_type": "display_data"
    },
    {
     "data": {
      "text/plain": [
       "\"Next index to update: 6\""
      ]
     },
     "metadata": {},
     "output_type": "display_data"
    },
    {
     "data": {
      "text/plain": [
       "\"Time is: 390.7009655235026\""
      ]
     },
     "metadata": {},
     "output_type": "display_data"
    },
    {
     "data": {
      "text/plain": [
       "\"Residual: 0.10358977976486952\""
      ]
     },
     "metadata": {},
     "output_type": "display_data"
    },
    {
     "data": {
      "text/plain": [
       "\"New β is: 0.992\""
      ]
     },
     "metadata": {},
     "output_type": "display_data"
    },
    {
     "data": {
      "text/plain": [
       "\"Update queue: [392.733, 392.298, 392.683, 393.486, 392.283, 392.388]\""
      ]
     },
     "metadata": {},
     "output_type": "display_data"
    },
    {
     "data": {
      "text/plain": [
       "\"Time of the next update: 392.2830326987118\""
      ]
     },
     "metadata": {},
     "output_type": "display_data"
    },
    {
     "data": {
      "text/plain": [
       "\"Next index to update: 6\""
      ]
     },
     "metadata": {},
     "output_type": "display_data"
    },
    {
     "data": {
      "text/plain": [
       "\"Time is: 392.2830326987118\""
      ]
     },
     "metadata": {},
     "output_type": "display_data"
    },
    {
     "data": {
      "text/plain": [
       "\"Residual: 0.10325068642362886\""
      ]
     },
     "metadata": {},
     "output_type": "display_data"
    },
    {
     "data": {
      "text/plain": [
       "\"New β is: 0.9920318725099602\""
      ]
     },
     "metadata": {},
     "output_type": "display_data"
    },
    {
     "data": {
      "text/plain": [
       "\"Update queue: [394.17, 393.852, 394.122, 394.836, 393.861, 395.215]\""
      ]
     },
     "metadata": {},
     "output_type": "display_data"
    },
    {
     "data": {
      "text/plain": [
       "\"Time of the next update: 393.8521939843184\""
      ]
     },
     "metadata": {},
     "output_type": "display_data"
    },
    {
     "data": {
      "text/plain": [
       "\"Next index to update: 2\""
      ]
     },
     "metadata": {},
     "output_type": "display_data"
    },
    {
     "data": {
      "text/plain": [
       "\"Time is: 393.8521939843184\""
      ]
     },
     "metadata": {},
     "output_type": "display_data"
    },
    {
     "data": {
      "text/plain": [
       "\"Residual: 0.10299784999350171\""
      ]
     },
     "metadata": {},
     "output_type": "display_data"
    },
    {
     "data": {
      "text/plain": [
       "\"New β is: 0.9920634920634921\""
      ]
     },
     "metadata": {},
     "output_type": "display_data"
    },
    {
     "data": {
      "text/plain": [
       "\"Update queue: [395.656, 395.485, 395.484, 396.268, 395.435, 396.627]\""
      ]
     },
     "metadata": {},
     "output_type": "display_data"
    },
    {
     "data": {
      "text/plain": [
       "\"Time of the next update: 395.43492130038095\""
      ]
     },
     "metadata": {},
     "output_type": "display_data"
    },
    {
     "data": {
      "text/plain": [
       "\"Next index to update: 6\""
      ]
     },
     "metadata": {},
     "output_type": "display_data"
    },
    {
     "data": {
      "text/plain": [
       "\"Time is: 395.43492130038095\""
      ]
     },
     "metadata": {},
     "output_type": "display_data"
    },
    {
     "data": {
      "text/plain": [
       "\"Residual: 0.10271350967293437\""
      ]
     },
     "metadata": {},
     "output_type": "display_data"
    },
    {
     "data": {
      "text/plain": [
       "\"New β is: 0.9920948616600791\""
      ]
     },
     "metadata": {},
     "output_type": "display_data"
    },
    {
     "data": {
      "text/plain": [
       "\"Update queue: [397.2, 396.971, 398.295, 397.704, 396.975, 398.036]\""
      ]
     },
     "metadata": {},
     "output_type": "display_data"
    },
    {
     "data": {
      "text/plain": [
       "\"Time of the next update: 396.97147419491444\""
      ]
     },
     "metadata": {},
     "output_type": "display_data"
    },
    {
     "data": {
      "text/plain": [
       "\"Next index to update: 2\""
      ]
     },
     "metadata": {},
     "output_type": "display_data"
    },
    {
     "data": {
      "text/plain": [
       "\"Time is: 396.97147419491444\""
      ]
     },
     "metadata": {},
     "output_type": "display_data"
    },
    {
     "data": {
      "text/plain": [
       "\"Residual: 0.10250974496596563\""
      ]
     },
     "metadata": {},
     "output_type": "display_data"
    },
    {
     "data": {
      "text/plain": [
       "\"New β is: 0.9921259842519685\""
      ]
     },
     "metadata": {},
     "output_type": "display_data"
    },
    {
     "data": {
      "text/plain": [
       "\"Update queue: [398.61, 398.576, 399.72, 399.13, 398.567, 399.418]\""
      ]
     },
     "metadata": {},
     "output_type": "display_data"
    },
    {
     "data": {
      "text/plain": [
       "\"Time of the next update: 398.5668406614088\""
      ]
     },
     "metadata": {},
     "output_type": "display_data"
    },
    {
     "data": {
      "text/plain": [
       "\"Next index to update: 6\""
      ]
     },
     "metadata": {},
     "output_type": "display_data"
    },
    {
     "data": {
      "text/plain": [
       "\"Time is: 398.5668406614088\""
      ]
     },
     "metadata": {},
     "output_type": "display_data"
    },
    {
     "data": {
      "text/plain": [
       "\"Residual: 0.10225352069659496\""
      ]
     },
     "metadata": {},
     "output_type": "display_data"
    },
    {
     "data": {
      "text/plain": [
       "\"New β is: 0.9921568627450981\""
      ]
     },
     "metadata": {},
     "output_type": "display_data"
    },
    {
     "data": {
      "text/plain": [
       "\"Update queue: [401.224, 400.153, 401.013, 400.556, 400.144, 400.823]\""
      ]
     },
     "metadata": {},
     "output_type": "display_data"
    },
    {
     "data": {
      "text/plain": [
       "\"Time of the next update: 400.14385977909524\""
      ]
     },
     "metadata": {},
     "output_type": "display_data"
    },
    {
     "data": {
      "text/plain": [
       "\"Next index to update: 6\""
      ]
     },
     "metadata": {},
     "output_type": "display_data"
    },
    {
     "data": {
      "text/plain": [
       "\"Time is: 400.14385977909524\""
      ]
     },
     "metadata": {},
     "output_type": "display_data"
    },
    {
     "data": {
      "text/plain": [
       "\"Residual: 0.10201901294948695\""
      ]
     },
     "metadata": {},
     "output_type": "display_data"
    },
    {
     "data": {
      "text/plain": [
       "\"New β is: 0.9921875\""
      ]
     },
     "metadata": {},
     "output_type": "display_data"
    },
    {
     "data": {
      "text/plain": [
       "\"Update queue: [402.335, 401.699, 402.491, 402.037, 401.672, 402.247]\""
      ]
     },
     "metadata": {},
     "output_type": "display_data"
    },
    {
     "data": {
      "text/plain": [
       "\"Time of the next update: 401.67211989983224\""
      ]
     },
     "metadata": {},
     "output_type": "display_data"
    },
    {
     "data": {
      "text/plain": [
       "\"Next index to update: 6\""
      ]
     },
     "metadata": {},
     "output_type": "display_data"
    },
    {
     "data": {
      "text/plain": [
       "\"Time is: 401.67211989983224\""
      ]
     },
     "metadata": {},
     "output_type": "display_data"
    },
    {
     "data": {
      "text/plain": [
       "\"Residual: 0.1017989099089371\""
      ]
     },
     "metadata": {},
     "output_type": "display_data"
    },
    {
     "data": {
      "text/plain": [
       "\"New β is: 0.9922178988326849\""
      ]
     },
     "metadata": {},
     "output_type": "display_data"
    },
    {
     "data": {
      "text/plain": [
       "\"Update queue: [403.718, 403.327, 403.947, 403.442, 403.277, 403.643]\""
      ]
     },
     "metadata": {},
     "output_type": "display_data"
    },
    {
     "data": {
      "text/plain": [
       "\"Time of the next update: 403.27699361683256\""
      ]
     },
     "metadata": {},
     "output_type": "display_data"
    },
    {
     "data": {
      "text/plain": [
       "\"Next index to update: 6\""
      ]
     },
     "metadata": {},
     "output_type": "display_data"
    },
    {
     "data": {
      "text/plain": [
       "\"Time is: 403.27699361683256\""
      ]
     },
     "metadata": {},
     "output_type": "display_data"
    },
    {
     "data": {
      "text/plain": [
       "\"Residual: 0.10155986036104246\""
      ]
     },
     "metadata": {},
     "output_type": "display_data"
    },
    {
     "data": {
      "text/plain": [
       "\"New β is: 0.9922480620155039\""
      ]
     },
     "metadata": {},
     "output_type": "display_data"
    },
    {
     "data": {
      "text/plain": [
       "\"Update queue: [405.034, 404.9, 405.3, 406.353, 404.87, 405.087]\""
      ]
     },
     "metadata": {},
     "output_type": "display_data"
    },
    {
     "data": {
      "text/plain": [
       "\"Time of the next update: 404.8697867462467\""
      ]
     },
     "metadata": {},
     "output_type": "display_data"
    },
    {
     "data": {
      "text/plain": [
       "\"Next index to update: 6\""
      ]
     },
     "metadata": {},
     "output_type": "display_data"
    },
    {
     "data": {
      "text/plain": [
       "\"Time is: 404.8697867462467\""
      ]
     },
     "metadata": {},
     "output_type": "display_data"
    },
    {
     "data": {
      "text/plain": [
       "\"Residual: 0.10126511143618312\""
      ]
     },
     "metadata": {},
     "output_type": "display_data"
    },
    {
     "data": {
      "text/plain": [
       "\"New β is: 0.9922779922779923\""
      ]
     },
     "metadata": {},
     "output_type": "display_data"
    },
    {
     "data": {
      "text/plain": [
       "\"Update queue: [406.505, 406.417, 406.546, 407.814, 406.436, 406.466]\""
      ]
     },
     "metadata": {},
     "output_type": "display_data"
    },
    {
     "data": {
      "text/plain": [
       "\"Time of the next update: 406.41663243724713\""
      ]
     },
     "metadata": {},
     "output_type": "display_data"
    },
    {
     "data": {
      "text/plain": [
       "\"Next index to update: 2\""
      ]
     },
     "metadata": {},
     "output_type": "display_data"
    },
    {
     "data": {
      "text/plain": [
       "\"Time is: 406.41663243724713\""
      ]
     },
     "metadata": {},
     "output_type": "display_data"
    },
    {
     "data": {
      "text/plain": [
       "\"Residual: 0.1009926330078996\""
      ]
     },
     "metadata": {},
     "output_type": "display_data"
    },
    {
     "data": {
      "text/plain": [
       "\"New β is: 0.9923076923076923\""
      ]
     },
     "metadata": {},
     "output_type": "display_data"
    },
    {
     "data": {
      "text/plain": [
       "\"Update queue: [409.319, 408.03, 409.306, 409.223, 407.988, 409.271]\""
      ]
     },
     "metadata": {},
     "output_type": "display_data"
    },
    {
     "data": {
      "text/plain": [
       "\"Time of the next update: 407.98772502800887\""
      ]
     },
     "metadata": {},
     "output_type": "display_data"
    },
    {
     "data": {
      "text/plain": [
       "\"Next index to update: 6\""
      ]
     },
     "metadata": {},
     "output_type": "display_data"
    },
    {
     "data": {
      "text/plain": [
       "\"Time is: 407.98772502800887\""
      ]
     },
     "metadata": {},
     "output_type": "display_data"
    },
    {
     "data": {
      "text/plain": [
       "\"Residual: 0.10051365219352526\""
      ]
     },
     "metadata": {},
     "output_type": "display_data"
    },
    {
     "data": {
      "text/plain": [
       "\"New β is: 0.9923371647509579\""
      ]
     },
     "metadata": {},
     "output_type": "display_data"
    },
    {
     "data": {
      "text/plain": [
       "\"Update queue: [410.518, 409.649, 410.724, 410.666, 409.593, 410.689]\""
      ]
     },
     "metadata": {},
     "output_type": "display_data"
    },
    {
     "data": {
      "text/plain": [
       "\"Time of the next update: 409.5926686226523\""
      ]
     },
     "metadata": {},
     "output_type": "display_data"
    },
    {
     "data": {
      "text/plain": [
       "\"Next index to update: 6\""
      ]
     },
     "metadata": {},
     "output_type": "display_data"
    },
    {
     "data": {
      "text/plain": [
       "\"Time is: 409.5926686226523\""
      ]
     },
     "metadata": {},
     "output_type": "display_data"
    },
    {
     "data": {
      "text/plain": [
       "\"Residual: 0.10037325204869427\""
      ]
     },
     "metadata": {},
     "output_type": "display_data"
    },
    {
     "data": {
      "text/plain": [
       "\"New β is: 0.9923664122137404\""
      ]
     },
     "metadata": {},
     "output_type": "display_data"
    },
    {
     "data": {
      "text/plain": [
       "\"Update queue: [412.115, 411.243, 412.063, 412.125, 411.161, 412.113]\""
      ]
     },
     "metadata": {},
     "output_type": "display_data"
    },
    {
     "data": {
      "text/plain": [
       "\"Time of the next update: 411.16092100130635\""
      ]
     },
     "metadata": {},
     "output_type": "display_data"
    },
    {
     "data": {
      "text/plain": [
       "\"Next index to update: 6\""
      ]
     },
     "metadata": {},
     "output_type": "display_data"
    },
    {
     "data": {
      "text/plain": [
       "\"Time is: 411.16092100130635\""
      ]
     },
     "metadata": {},
     "output_type": "display_data"
    },
    {
     "data": {
      "text/plain": [
       "\"Residual: 0.10012086042294358\""
      ]
     },
     "metadata": {},
     "output_type": "display_data"
    },
    {
     "data": {
      "text/plain": [
       "\"New β is: 0.9923954372623575\""
      ]
     },
     "metadata": {},
     "output_type": "display_data"
    },
    {
     "data": {
      "text/plain": [
       "\"Update queue: [413.563, 412.782, 413.392, 413.588, 412.769, 413.533]\""
      ]
     },
     "metadata": {},
     "output_type": "display_data"
    },
    {
     "data": {
      "text/plain": [
       "\"Time of the next update: 412.7688862133425\""
      ]
     },
     "metadata": {},
     "output_type": "display_data"
    },
    {
     "data": {
      "text/plain": [
       "\"Next index to update: 6\""
      ]
     },
     "metadata": {},
     "output_type": "display_data"
    },
    {
     "data": {
      "text/plain": [
       "\"Time is: 412.7688862133425\""
      ]
     },
     "metadata": {},
     "output_type": "display_data"
    },
    {
     "data": {
      "text/plain": [
       "\"Residual: 0.09997593100539912\""
      ]
     },
     "metadata": {},
     "output_type": "display_data"
    },
    {
     "data": {
      "text/plain": [
       "\"New β is: 0.9924242424242424\""
      ]
     },
     "metadata": {},
     "output_type": "display_data"
    },
    {
     "data": {
      "text/plain": [
       "\"Update queue: [414.808, 414.473, 414.783, 414.97, 414.359, 414.9]\""
      ]
     },
     "metadata": {},
     "output_type": "display_data"
    },
    {
     "data": {
      "text/plain": [
       "\"Time of the next update: 414.35945946550385\""
      ]
     },
     "metadata": {},
     "output_type": "display_data"
    },
    {
     "data": {
      "text/plain": [
       "\"Next index to update: 6\""
      ]
     },
     "metadata": {},
     "output_type": "display_data"
    },
    {
     "data": {
      "text/plain": [
       "\"Time is: 414.35945946550385\""
      ]
     },
     "metadata": {},
     "output_type": "display_data"
    },
    {
     "data": {
      "text/plain": [
       "\"Residual: 0.09976947309505027\""
      ]
     },
     "metadata": {},
     "output_type": "display_data"
    },
    {
     "data": {
      "text/plain": [
       "\"New β is: 0.9924528301886792\""
      ]
     },
     "metadata": {},
     "output_type": "display_data"
    },
    {
     "data": {
      "text/plain": [
       "\"Update queue: [416.203, 415.919, 416.022, 416.371, 415.925, 416.318]\""
      ]
     },
     "metadata": {},
     "output_type": "display_data"
    },
    {
     "data": {
      "text/plain": [
       "\"Time of the next update: 415.91856881788556\""
      ]
     },
     "metadata": {},
     "output_type": "display_data"
    },
    {
     "data": {
      "text/plain": [
       "\"Next index to update: 2\""
      ]
     },
     "metadata": {},
     "output_type": "display_data"
    },
    {
     "data": {
      "text/plain": [
       "\"Time is: 415.91856881788556\""
      ]
     },
     "metadata": {},
     "output_type": "display_data"
    },
    {
     "data": {
      "text/plain": [
       "\"Residual: 0.09958324463609267\""
      ]
     },
     "metadata": {},
     "output_type": "display_data"
    },
    {
     "data": {
      "text/plain": [
       "\"New β is: 0.9924812030075187\""
      ]
     },
     "metadata": {},
     "output_type": "display_data"
    },
    {
     "data": {
      "text/plain": [
       "\"Update queue: [417.567, 417.416, 418.52, 417.76, 417.431, 417.68]\""
      ]
     },
     "metadata": {},
     "output_type": "display_data"
    },
    {
     "data": {
      "text/plain": [
       "\"Time of the next update: 417.41638089254354\""
      ]
     },
     "metadata": {},
     "output_type": "display_data"
    },
    {
     "data": {
      "text/plain": [
       "\"Next index to update: 2\""
      ]
     },
     "metadata": {},
     "output_type": "display_data"
    },
    {
     "data": {
      "text/plain": [
       "\"Time is: 417.41638089254354\""
      ]
     },
     "metadata": {},
     "output_type": "display_data"
    },
    {
     "data": {
      "text/plain": [
       "\"Residual: 0.09937087480620613\""
      ]
     },
     "metadata": {},
     "output_type": "display_data"
    },
    {
     "data": {
      "text/plain": [
       "\"New β is: 0.9925093632958801\""
      ]
     },
     "metadata": {},
     "output_type": "display_data"
    },
    {
     "data": {
      "text/plain": [
       "\"Update queue: [419.985, 418.996, 420.12, 419.25, 418.968, 419.156]\""
      ]
     },
     "metadata": {},
     "output_type": "display_data"
    },
    {
     "data": {
      "text/plain": [
       "\"Time of the next update: 418.96774999057317\""
      ]
     },
     "metadata": {},
     "output_type": "display_data"
    },
    {
     "data": {
      "text/plain": [
       "\"Next index to update: 6\""
      ]
     },
     "metadata": {},
     "output_type": "display_data"
    },
    {
     "data": {
      "text/plain": [
       "\"Time is: 418.96774999057317\""
      ]
     },
     "metadata": {},
     "output_type": "display_data"
    },
    {
     "data": {
      "text/plain": [
       "\"Residual: 0.09916855281147247\""
      ]
     },
     "metadata": {},
     "output_type": "display_data"
    },
    {
     "data": {
      "text/plain": [
       "\"New β is: 0.9925373134328358\""
      ]
     },
     "metadata": {},
     "output_type": "display_data"
    },
    {
     "data": {
      "text/plain": [
       "\"Update queue: [421.283, 420.608, 421.347, 420.632, 420.574, 420.559]\""
      ]
     },
     "metadata": {},
     "output_type": "display_data"
    },
    {
     "data": {
      "text/plain": [
       "\"Time of the next update: 420.5585954695747\""
      ]
     },
     "metadata": {},
     "output_type": "display_data"
    },
    {
     "data": {
      "text/plain": [
       "\"Next index to update: 1\""
      ]
     },
     "metadata": {},
     "output_type": "display_data"
    },
    {
     "data": {
      "text/plain": [
       "\"Time is: 420.5585954695747\""
      ]
     },
     "metadata": {},
     "output_type": "display_data"
    },
    {
     "data": {
      "text/plain": [
       "\"Residual: 0.09889709793392792\""
      ]
     },
     "metadata": {},
     "output_type": "display_data"
    },
    {
     "data": {
      "text/plain": [
       "\"New β is: 0.9925650557620818\""
      ]
     },
     "metadata": {},
     "output_type": "display_data"
    },
    {
     "data": {
      "text/plain": [
       "\"Update queue: [422.751, 422.253, 422.433, 423.531, 422.161, 423.377]\""
      ]
     },
     "metadata": {},
     "output_type": "display_data"
    },
    {
     "data": {
      "text/plain": [
       "\"Time of the next update: 422.16102660217376\""
      ]
     },
     "metadata": {},
     "output_type": "display_data"
    },
    {
     "data": {
      "text/plain": [
       "\"Next index to update: 6\""
      ]
     },
     "metadata": {},
     "output_type": "display_data"
    },
    {
     "data": {
      "text/plain": [
       "\"Time is: 422.16102660217376\""
      ]
     },
     "metadata": {},
     "output_type": "display_data"
    },
    {
     "data": {
      "text/plain": [
       "\"Residual: 0.0984830249179259\""
      ]
     },
     "metadata": {},
     "output_type": "display_data"
    },
    {
     "data": {
      "text/plain": [
       "\"New β is: 0.9925925925925926\""
      ]
     },
     "metadata": {},
     "output_type": "display_data"
    },
    {
     "data": {
      "text/plain": [
       "\"Update queue: [424.024, 423.811, 424.954, 424.967, 423.726, 424.818]\""
      ]
     },
     "metadata": {},
     "output_type": "display_data"
    },
    {
     "data": {
      "text/plain": [
       "\"Time of the next update: 423.725653884651\""
      ]
     },
     "metadata": {},
     "output_type": "display_data"
    },
    {
     "data": {
      "text/plain": [
       "\"Next index to update: 6\""
      ]
     },
     "metadata": {},
     "output_type": "display_data"
    },
    {
     "data": {
      "text/plain": [
       "\"Time is: 423.725653884651\""
      ]
     },
     "metadata": {},
     "output_type": "display_data"
    },
    {
     "data": {
      "text/plain": [
       "\"Residual: 0.09828941827820503\""
      ]
     },
     "metadata": {},
     "output_type": "display_data"
    },
    {
     "data": {
      "text/plain": [
       "\"New β is: 0.992619926199262\""
      ]
     },
     "metadata": {},
     "output_type": "display_data"
    },
    {
     "data": {
      "text/plain": [
       "\"Update queue: [425.347, 425.373, 426.264, 426.355, 425.365, 426.227]\""
      ]
     },
     "metadata": {},
     "output_type": "display_data"
    },
    {
     "data": {
      "text/plain": [
       "\"Time of the next update: 425.3470757602092\""
      ]
     },
     "metadata": {},
     "output_type": "display_data"
    },
    {
     "data": {
      "text/plain": [
       "\"Next index to update: 4\""
      ]
     },
     "metadata": {},
     "output_type": "display_data"
    },
    {
     "data": {
      "text/plain": [
       "\"Time is: 425.3470757602092\""
      ]
     },
     "metadata": {},
     "output_type": "display_data"
    },
    {
     "data": {
      "text/plain": [
       "\"Residual: 0.09805214866208428\""
      ]
     },
     "metadata": {},
     "output_type": "display_data"
    },
    {
     "data": {
      "text/plain": [
       "\"New β is: 0.9926470588235294\""
      ]
     },
     "metadata": {},
     "output_type": "display_data"
    },
    {
     "data": {
      "text/plain": [
       "\"Update queue: [428.004, 426.975, 427.491, 427.742, 426.941, 427.677]\""
      ]
     },
     "metadata": {},
     "output_type": "display_data"
    },
    {
     "data": {
      "text/plain": [
       "\"Time of the next update: 426.9406514057034\""
      ]
     },
     "metadata": {},
     "output_type": "display_data"
    },
    {
     "data": {
      "text/plain": [
       "\"Next index to update: 6\""
      ]
     },
     "metadata": {},
     "output_type": "display_data"
    },
    {
     "data": {
      "text/plain": [
       "\"Time is: 426.9406514057034\""
      ]
     },
     "metadata": {},
     "output_type": "display_data"
    },
    {
     "data": {
      "text/plain": [
       "\"Residual: 0.09779458499476294\""
      ]
     },
     "metadata": {},
     "output_type": "display_data"
    },
    {
     "data": {
      "text/plain": [
       "\"New β is: 0.9926739926739927\""
      ]
     },
     "metadata": {},
     "output_type": "display_data"
    },
    {
     "data": {
      "text/plain": [
       "\"Update queue: [429.476, 428.578, 428.85, 429.198, 428.528, 429.075]\""
      ]
     },
     "metadata": {},
     "output_type": "display_data"
    },
    {
     "data": {
      "text/plain": [
       "\"Time of the next update: 428.5284639615545\""
      ]
     },
     "metadata": {},
     "output_type": "display_data"
    },
    {
     "data": {
      "text/plain": [
       "\"Next index to update: 6\""
      ]
     },
     "metadata": {},
     "output_type": "display_data"
    },
    {
     "data": {
      "text/plain": [
       "\"Time is: 428.5284639615545\""
      ]
     },
     "metadata": {},
     "output_type": "display_data"
    },
    {
     "data": {
      "text/plain": [
       "\"Residual: 0.09754454857639969\""
      ]
     },
     "metadata": {},
     "output_type": "display_data"
    },
    {
     "data": {
      "text/plain": [
       "\"New β is: 0.9927007299270073\""
      ]
     },
     "metadata": {},
     "output_type": "display_data"
    },
    {
     "data": {
      "text/plain": [
       "\"Update queue: [430.78, 430.157, 430.117, 430.69, 430.098, 430.485]\""
      ]
     },
     "metadata": {},
     "output_type": "display_data"
    },
    {
     "data": {
      "text/plain": [
       "\"Time of the next update: 430.09786349442135\""
      ]
     },
     "metadata": {},
     "output_type": "display_data"
    },
    {
     "data": {
      "text/plain": [
       "\"Next index to update: 6\""
      ]
     },
     "metadata": {},
     "output_type": "display_data"
    },
    {
     "data": {
      "text/plain": [
       "\"Time is: 430.09786349442135\""
      ]
     },
     "metadata": {},
     "output_type": "display_data"
    },
    {
     "data": {
      "text/plain": [
       "\"Residual: 0.09733581040462977\""
      ]
     },
     "metadata": {},
     "output_type": "display_data"
    },
    {
     "data": {
      "text/plain": [
       "\"New β is: 0.9927272727272727\""
      ]
     },
     "metadata": {},
     "output_type": "display_data"
    },
    {
     "data": {
      "text/plain": [
       "\"Update queue: [432.09, 431.699, 432.971, 432.145, 431.672, 431.943]\""
      ]
     },
     "metadata": {},
     "output_type": "display_data"
    },
    {
     "data": {
      "text/plain": [
       "\"Time of the next update: 431.6723843775674\""
      ]
     },
     "metadata": {},
     "output_type": "display_data"
    },
    {
     "data": {
      "text/plain": [
       "\"Next index to update: 6\""
      ]
     },
     "metadata": {},
     "output_type": "display_data"
    },
    {
     "data": {
      "text/plain": [
       "\"Time is: 431.6723843775674\""
      ]
     },
     "metadata": {},
     "output_type": "display_data"
    },
    {
     "data": {
      "text/plain": [
       "\"Residual: 0.09710427564611043\""
      ]
     },
     "metadata": {},
     "output_type": "display_data"
    },
    {
     "data": {
      "text/plain": [
       "\"New β is: 0.9927536231884058\""
      ]
     },
     "metadata": {},
     "output_type": "display_data"
    },
    {
     "data": {
      "text/plain": [
       "\"Update queue: [433.25, 433.269, 434.343, 433.554, 433.25, 433.315]\""
      ]
     },
     "metadata": {},
     "output_type": "display_data"
    },
    {
     "data": {
      "text/plain": [
       "\"Time of the next update: 433.2499200738971\""
      ]
     },
     "metadata": {},
     "output_type": "display_data"
    },
    {
     "data": {
      "text/plain": [
       "\"Next index to update: 4\""
      ]
     },
     "metadata": {},
     "output_type": "display_data"
    },
    {
     "data": {
      "text/plain": [
       "\"Time is: 433.2499200738971\""
      ]
     },
     "metadata": {},
     "output_type": "display_data"
    },
    {
     "data": {
      "text/plain": [
       "\"Residual: 0.09686602856244006\""
      ]
     },
     "metadata": {},
     "output_type": "display_data"
    },
    {
     "data": {
      "text/plain": [
       "\"New β is: 0.9927797833935018\""
      ]
     },
     "metadata": {},
     "output_type": "display_data"
    },
    {
     "data": {
      "text/plain": [
       "\"Update queue: [435.867, 434.834, 435.603, 435.019, 434.815, 436.151]\""
      ]
     },
     "metadata": {},
     "output_type": "display_data"
    },
    {
     "data": {
      "text/plain": [
       "\"Time of the next update: 434.81532583892425\""
      ]
     },
     "metadata": {},
     "output_type": "display_data"
    },
    {
     "data": {
      "text/plain": [
       "\"Next index to update: 6\""
      ]
     },
     "metadata": {},
     "output_type": "display_data"
    },
    {
     "data": {
      "text/plain": [
       "\"Time is: 434.81532583892425\""
      ]
     },
     "metadata": {},
     "output_type": "display_data"
    },
    {
     "data": {
      "text/plain": [
       "\"Residual: 0.09654924098398796\""
      ]
     },
     "metadata": {},
     "output_type": "display_data"
    },
    {
     "data": {
      "text/plain": [
       "\"New β is: 0.9928057553956835\""
      ]
     },
     "metadata": {},
     "output_type": "display_data"
    },
    {
     "data": {
      "text/plain": [
       "\"Update queue: [437.236, 436.431, 436.897, 436.392, 436.396, 437.527]\""
      ]
     },
     "metadata": {},
     "output_type": "display_data"
    },
    {
     "data": {
      "text/plain": [
       "\"Time of the next update: 436.3923260601365\""
      ]
     },
     "metadata": {},
     "output_type": "display_data"
    },
    {
     "data": {
      "text/plain": [
       "\"Next index to update: 5\""
      ]
     },
     "metadata": {},
     "output_type": "display_data"
    },
    {
     "data": {
      "text/plain": [
       "\"Time is: 436.3923260601365\""
      ]
     },
     "metadata": {},
     "output_type": "display_data"
    },
    {
     "data": {
      "text/plain": [
       "\"Residual: 0.0961959850494904\""
      ]
     },
     "metadata": {},
     "output_type": "display_data"
    },
    {
     "data": {
      "text/plain": [
       "\"New β is: 0.992831541218638\""
      ]
     },
     "metadata": {},
     "output_type": "display_data"
    },
    {
     "data": {
      "text/plain": [
       "\"Update queue: [438.486, 438.007, 438.173, 439.127, 437.942, 438.976]\""
      ]
     },
     "metadata": {},
     "output_type": "display_data"
    },
    {
     "data": {
      "text/plain": [
       "\"Time of the next update: 437.94182730141233\""
      ]
     },
     "metadata": {},
     "output_type": "display_data"
    },
    {
     "data": {
      "text/plain": [
       "\"Next index to update: 6\""
      ]
     },
     "metadata": {},
     "output_type": "display_data"
    },
    {
     "data": {
      "text/plain": [
       "\"Time is: 437.94182730141233\""
      ]
     },
     "metadata": {},
     "output_type": "display_data"
    },
    {
     "data": {
      "text/plain": [
       "\"Residual: 0.09587404031947955\""
      ]
     },
     "metadata": {},
     "output_type": "display_data"
    },
    {
     "data": {
      "text/plain": [
       "\"New β is: 0.9928571428571429\""
      ]
     },
     "metadata": {},
     "output_type": "display_data"
    },
    {
     "data": {
      "text/plain": [
       "\"Update queue: [439.984, 439.509, 439.54, 440.585, 439.482, 440.436]\""
      ]
     },
     "metadata": {},
     "output_type": "display_data"
    },
    {
     "data": {
      "text/plain": [
       "\"Time of the next update: 439.481538259616\""
      ]
     },
     "metadata": {},
     "output_type": "display_data"
    },
    {
     "data": {
      "text/plain": [
       "\"Next index to update: 6\""
      ]
     },
     "metadata": {},
     "output_type": "display_data"
    },
    {
     "data": {
      "text/plain": [
       "\"Time is: 439.481538259616\""
      ]
     },
     "metadata": {},
     "output_type": "display_data"
    },
    {
     "data": {
      "text/plain": [
       "\"Residual: 0.09568020316102005\""
      ]
     },
     "metadata": {},
     "output_type": "display_data"
    },
    {
     "data": {
      "text/plain": [
       "\"New β is: 0.9928825622775801\""
      ]
     },
     "metadata": {},
     "output_type": "display_data"
    },
    {
     "data": {
      "text/plain": [
       "\"Update queue: [441.388, 441.11, 442.388, 442.08, 441.015, 441.786]\""
      ]
     },
     "metadata": {},
     "output_type": "display_data"
    },
    {
     "data": {
      "text/plain": [
       "\"Time of the next update: 441.0154026636044\""
      ]
     },
     "metadata": {},
     "output_type": "display_data"
    },
    {
     "data": {
      "text/plain": [
       "\"Next index to update: 6\""
      ]
     },
     "metadata": {},
     "output_type": "display_data"
    },
    {
     "data": {
      "text/plain": [
       "\"Time is: 441.0154026636044\""
      ]
     },
     "metadata": {},
     "output_type": "display_data"
    },
    {
     "data": {
      "text/plain": [
       "\"Residual: 0.09543843634496718\""
      ]
     },
     "metadata": {},
     "output_type": "display_data"
    },
    {
     "data": {
      "text/plain": [
       "\"New β is: 0.9929078014184397\""
      ]
     },
     "metadata": {},
     "output_type": "display_data"
    },
    {
     "data": {
      "text/plain": [
       "\"Update queue: [442.664, 442.686, 443.763, 443.428, 442.606, 443.188]\""
      ]
     },
     "metadata": {},
     "output_type": "display_data"
    },
    {
     "data": {
      "text/plain": [
       "\"Time of the next update: 442.60554777380383\""
      ]
     },
     "metadata": {},
     "output_type": "display_data"
    },
    {
     "data": {
      "text/plain": [
       "\"Next index to update: 6\""
      ]
     },
     "metadata": {},
     "output_type": "display_data"
    },
    {
     "data": {
      "text/plain": [
       "\"Time is: 442.60554777380383\""
      ]
     },
     "metadata": {},
     "output_type": "display_data"
    },
    {
     "data": {
      "text/plain": [
       "\"Residual: 0.09520607784298775\""
      ]
     },
     "metadata": {},
     "output_type": "display_data"
    },
    {
     "data": {
      "text/plain": [
       "\"New β is: 0.9929328621908127\""
      ]
     },
     "metadata": {},
     "output_type": "display_data"
    },
    {
     "data": {
      "text/plain": [
       "\"Update queue: [445.357, 444.187, 444.929, 444.91, 444.206, 444.62]\""
      ]
     },
     "metadata": {},
     "output_type": "display_data"
    },
    {
     "data": {
      "text/plain": [
       "\"Time of the next update: 444.1872266930005\""
      ]
     },
     "metadata": {},
     "output_type": "display_data"
    },
    {
     "data": {
      "text/plain": [
       "\"Next index to update: 2\""
      ]
     },
     "metadata": {},
     "output_type": "display_data"
    },
    {
     "data": {
      "text/plain": [
       "\"Time is: 444.1872266930005\""
      ]
     },
     "metadata": {},
     "output_type": "display_data"
    },
    {
     "data": {
      "text/plain": [
       "\"Residual: 0.0949822236942609\""
      ]
     },
     "metadata": {},
     "output_type": "display_data"
    },
    {
     "data": {
      "text/plain": [
       "\"New β is: 0.9929577464788732\""
      ]
     },
     "metadata": {},
     "output_type": "display_data"
    },
    {
     "data": {
      "text/plain": [
       "\"Update queue: [446.68, 445.831, 446.134, 446.406, 445.776, 446.106]\""
      ]
     },
     "metadata": {},
     "output_type": "display_data"
    },
    {
     "data": {
      "text/plain": [
       "\"Time of the next update: 445.7759833984982\""
      ]
     },
     "metadata": {},
     "output_type": "display_data"
    },
    {
     "data": {
      "text/plain": [
       "\"Next index to update: 6\""
      ]
     },
     "metadata": {},
     "output_type": "display_data"
    },
    {
     "data": {
      "text/plain": [
       "\"Time is: 445.7759833984982\""
      ]
     },
     "metadata": {},
     "output_type": "display_data"
    },
    {
     "data": {
      "text/plain": [
       "\"Residual: 0.09476684220470893\""
      ]
     },
     "metadata": {},
     "output_type": "display_data"
    },
    {
     "data": {
      "text/plain": [
       "\"New β is: 0.9929824561403509\""
      ]
     },
     "metadata": {},
     "output_type": "display_data"
    },
    {
     "data": {
      "text/plain": [
       "\"Update queue: [447.977, 447.396, 447.538, 447.856, 447.343, 447.469]\""
      ]
     },
     "metadata": {},
     "output_type": "display_data"
    },
    {
     "data": {
      "text/plain": [
       "\"Time of the next update: 447.34315068141206\""
      ]
     },
     "metadata": {},
     "output_type": "display_data"
    },
    {
     "data": {
      "text/plain": [
       "\"Next index to update: 6\""
      ]
     },
     "metadata": {},
     "output_type": "display_data"
    },
    {
     "data": {
      "text/plain": [
       "\"Time is: 447.34315068141206\""
      ]
     },
     "metadata": {},
     "output_type": "display_data"
    },
    {
     "data": {
      "text/plain": [
       "\"Residual: 0.09456477789861549\""
      ]
     },
     "metadata": {},
     "output_type": "display_data"
    },
    {
     "data": {
      "text/plain": [
       "\"New β is: 0.993006993006993\""
      ]
     },
     "metadata": {},
     "output_type": "display_data"
    },
    {
     "data": {
      "text/plain": [
       "\"Update queue: [449.472, 448.985, 450.079, 449.302, 448.935, 450.354]\""
      ]
     },
     "metadata": {},
     "output_type": "display_data"
    },
    {
     "data": {
      "text/plain": [
       "\"Time of the next update: 448.93487878166286\""
      ]
     },
     "metadata": {},
     "output_type": "display_data"
    },
    {
     "data": {
      "text/plain": [
       "\"Next index to update: 6\""
      ]
     },
     "metadata": {},
     "output_type": "display_data"
    },
    {
     "data": {
      "text/plain": [
       "\"Time is: 448.93487878166286\""
      ]
     },
     "metadata": {},
     "output_type": "display_data"
    },
    {
     "data": {
      "text/plain": [
       "\"Residual: 0.09430149570573568\""
      ]
     },
     "metadata": {},
     "output_type": "display_data"
    },
    {
     "data": {
      "text/plain": [
       "\"New β is: 0.9930313588850174\""
      ]
     },
     "metadata": {},
     "output_type": "display_data"
    },
    {
     "data": {
      "text/plain": [
       "\"Update queue: [450.838, 450.503, 451.211, 450.714, 450.503, 451.781]\""
      ]
     },
     "metadata": {},
     "output_type": "display_data"
    },
    {
     "data": {
      "text/plain": [
       "\"Time of the next update: 450.5025569088303\""
      ]
     },
     "metadata": {},
     "output_type": "display_data"
    },
    {
     "data": {
      "text/plain": [
       "\"Next index to update: 2\""
      ]
     },
     "metadata": {},
     "output_type": "display_data"
    },
    {
     "data": {
      "text/plain": [
       "\"Time is: 450.5025569088303\""
      ]
     },
     "metadata": {},
     "output_type": "display_data"
    },
    {
     "data": {
      "text/plain": [
       "\"Residual: 0.09402605515116907\""
      ]
     },
     "metadata": {},
     "output_type": "display_data"
    },
    {
     "data": {
      "text/plain": [
       "\"New β is: 0.9930555555555556\""
      ]
     },
     "metadata": {},
     "output_type": "display_data"
    },
    {
     "data": {
      "text/plain": [
       "\"Update queue: [452.146, 452.087, 452.334, 452.121, 452.075, 453.217]\""
      ]
     },
     "metadata": {},
     "output_type": "display_data"
    },
    {
     "data": {
      "text/plain": [
       "\"Time of the next update: 452.07527556806235\""
      ]
     },
     "metadata": {},
     "output_type": "display_data"
    },
    {
     "data": {
      "text/plain": [
       "\"Next index to update: 6\""
      ]
     },
     "metadata": {},
     "output_type": "display_data"
    },
    {
     "data": {
      "text/plain": [
       "\"Time is: 452.07527556806235\""
      ]
     },
     "metadata": {},
     "output_type": "display_data"
    },
    {
     "data": {
      "text/plain": [
       "\"Residual: 0.09385166908006742\""
      ]
     },
     "metadata": {},
     "output_type": "display_data"
    },
    {
     "data": {
      "text/plain": [
       "\"New β is: 0.9930795847750865\""
      ]
     },
     "metadata": {},
     "output_type": "display_data"
    },
    {
     "data": {
      "text/plain": [
       "\"Update queue: [454.603, 453.637, 454.918, 454.978, 453.612, 454.651]\""
      ]
     },
     "metadata": {},
     "output_type": "display_data"
    },
    {
     "data": {
      "text/plain": [
       "\"Time of the next update: 453.6121053060248\""
      ]
     },
     "metadata": {},
     "output_type": "display_data"
    },
    {
     "data": {
      "text/plain": [
       "\"Next index to update: 6\""
      ]
     },
     "metadata": {},
     "output_type": "display_data"
    },
    {
     "data": {
      "text/plain": [
       "\"Time is: 453.6121053060248\""
      ]
     },
     "metadata": {},
     "output_type": "display_data"
    },
    {
     "data": {
      "text/plain": [
       "\"Residual: 0.09351778301533614\""
      ]
     },
     "metadata": {},
     "output_type": "display_data"
    },
    {
     "data": {
      "text/plain": [
       "\"New β is: 0.993103448275862\""
      ]
     },
     "metadata": {},
     "output_type": "display_data"
    },
    {
     "data": {
      "text/plain": [
       "\"Update queue: [455.96, 455.284, 456.283, 456.422, 455.198, 456.005]\""
      ]
     },
     "metadata": {},
     "output_type": "display_data"
    },
    {
     "data": {
      "text/plain": [
       "\"Time of the next update: 455.197629913696\""
      ]
     },
     "metadata": {},
     "output_type": "display_data"
    },
    {
     "data": {
      "text/plain": [
       "\"Next index to update: 6\""
      ]
     },
     "metadata": {},
     "output_type": "display_data"
    },
    {
     "data": {
      "text/plain": [
       "\"Time is: 455.197629913696\""
      ]
     },
     "metadata": {},
     "output_type": "display_data"
    },
    {
     "data": {
      "text/plain": [
       "\"Residual: 0.09331223856146553\""
      ]
     },
     "metadata": {},
     "output_type": "display_data"
    },
    {
     "data": {
      "text/plain": [
       "\"New β is: 0.993127147766323\""
      ]
     },
     "metadata": {},
     "output_type": "display_data"
    },
    {
     "data": {
      "text/plain": [
       "\"Update queue: [457.312, 456.802, 457.372, 457.807, 456.747, 457.48]\""
      ]
     },
     "metadata": {},
     "output_type": "display_data"
    },
    {
     "data": {
      "text/plain": [
       "\"Time of the next update: 456.7474422363081\""
      ]
     },
     "metadata": {},
     "output_type": "display_data"
    },
    {
     "data": {
      "text/plain": [
       "\"Next index to update: 6\""
      ]
     },
     "metadata": {},
     "output_type": "display_data"
    },
    {
     "data": {
      "text/plain": [
       "\"Time is: 456.7474422363081\""
      ]
     },
     "metadata": {},
     "output_type": "display_data"
    },
    {
     "data": {
      "text/plain": [
       "\"Residual: 0.09312240814818862\""
      ]
     },
     "metadata": {},
     "output_type": "display_data"
    },
    {
     "data": {
      "text/plain": [
       "\"New β is: 0.9931506849315068\""
      ]
     },
     "metadata": {},
     "output_type": "display_data"
    },
    {
     "data": {
      "text/plain": [
       "\"Update queue: [458.774, 458.41, 458.87, 459.225, 458.336, 458.912]\""
      ]
     },
     "metadata": {},
     "output_type": "display_data"
    },
    {
     "data": {
      "text/plain": [
       "\"Time of the next update: 458.3364371853808\""
      ]
     },
     "metadata": {},
     "output_type": "display_data"
    },
    {
     "data": {
      "text/plain": [
       "\"Next index to update: 6\""
      ]
     },
     "metadata": {},
     "output_type": "display_data"
    },
    {
     "data": {
      "text/plain": [
       "\"Time is: 458.3364371853808\""
      ]
     },
     "metadata": {},
     "output_type": "display_data"
    },
    {
     "data": {
      "text/plain": [
       "\"Residual: 0.0929024485554406\""
      ]
     },
     "metadata": {},
     "output_type": "display_data"
    },
    {
     "data": {
      "text/plain": [
       "\"New β is: 0.9931740614334471\""
      ]
     },
     "metadata": {},
     "output_type": "display_data"
    },
    {
     "data": {
      "text/plain": [
       "\"Update queue: [460.113, 459.968, 460.211, 460.607, 459.975, 460.349]\""
      ]
     },
     "metadata": {},
     "output_type": "display_data"
    },
    {
     "data": {
      "text/plain": [
       "\"Time of the next update: 459.96808984742086\""
      ]
     },
     "metadata": {},
     "output_type": "display_data"
    },
    {
     "data": {
      "text/plain": [
       "\"Next index to update: 2\""
      ]
     },
     "metadata": {},
     "output_type": "display_data"
    },
    {
     "data": {
      "text/plain": [
       "\"Time is: 459.96808984742086\""
      ]
     },
     "metadata": {},
     "output_type": "display_data"
    },
    {
     "data": {
      "text/plain": [
       "\"Residual: 0.09271129230083752\""
      ]
     },
     "metadata": {},
     "output_type": "display_data"
    },
    {
     "data": {
      "text/plain": [
       "\"New β is: 0.9931972789115646\""
      ]
     },
     "metadata": {},
     "output_type": "display_data"
    },
    {
     "data": {
      "text/plain": [
       "\"Update queue: [462.746, 461.557, 462.903, 462.048, 461.469, 461.804]\""
      ]
     },
     "metadata": {},
     "output_type": "display_data"
    },
    {
     "data": {
      "text/plain": [
       "\"Time of the next update: 461.46879706317543\""
      ]
     },
     "metadata": {},
     "output_type": "display_data"
    },
    {
     "data": {
      "text/plain": [
       "\"Next index to update: 6\""
      ]
     },
     "metadata": {},
     "output_type": "display_data"
    },
    {
     "data": {
      "text/plain": [
       "\"Time is: 461.46879706317543\""
      ]
     },
     "metadata": {},
     "output_type": "display_data"
    },
    {
     "data": {
      "text/plain": [
       "\"Residual: 0.09251468750662985\""
      ]
     },
     "metadata": {},
     "output_type": "display_data"
    },
    {
     "data": {
      "text/plain": [
       "\"New β is: 0.9932203389830508\""
      ]
     },
     "metadata": {},
     "output_type": "display_data"
    },
    {
     "data": {
      "text/plain": [
       "\"Update queue: [463.949, 463.115, 464.055, 463.513, 463.051, 463.241]\""
      ]
     },
     "metadata": {},
     "output_type": "display_data"
    },
    {
     "data": {
      "text/plain": [
       "\"Time of the next update: 463.0505682040621\""
      ]
     },
     "metadata": {},
     "output_type": "display_data"
    },
    {
     "data": {
      "text/plain": [
       "\"Next index to update: 6\""
      ]
     },
     "metadata": {},
     "output_type": "display_data"
    },
    {
     "data": {
      "text/plain": [
       "\"Time is: 463.0505682040621\""
      ]
     },
     "metadata": {},
     "output_type": "display_data"
    },
    {
     "data": {
      "text/plain": [
       "\"Residual: 0.09230635869567469\""
      ]
     },
     "metadata": {},
     "output_type": "display_data"
    },
    {
     "data": {
      "text/plain": [
       "\"New β is: 0.9932432432432432\""
      ]
     },
     "metadata": {},
     "output_type": "display_data"
    },
    {
     "data": {
      "text/plain": [
       "\"Update queue: [465.461, 464.702, 465.323, 464.887, 464.644, 464.714]\""
      ]
     },
     "metadata": {},
     "output_type": "display_data"
    },
    {
     "data": {
      "text/plain": [
       "\"Time of the next update: 464.6438994650044\""
      ]
     },
     "metadata": {},
     "output_type": "display_data"
    },
    {
     "data": {
      "text/plain": [
       "\"Next index to update: 6\""
      ]
     },
     "metadata": {},
     "output_type": "display_data"
    },
    {
     "data": {
      "text/plain": [
       "\"Time is: 464.6438994650044\""
      ]
     },
     "metadata": {},
     "output_type": "display_data"
    },
    {
     "data": {
      "text/plain": [
       "\"Residual: 0.09210996947693421\""
      ]
     },
     "metadata": {},
     "output_type": "display_data"
    },
    {
     "data": {
      "text/plain": [
       "\"New β is: 0.9932659932659933\""
      ]
     },
     "metadata": {},
     "output_type": "display_data"
    },
    {
     "data": {
      "text/plain": [
       "\"Update queue: [466.718, 466.302, 466.899, 466.296, 466.199, 467.55]\""
      ]
     },
     "metadata": {},
     "output_type": "display_data"
    },
    {
     "data": {
      "text/plain": [
       "\"Time of the next update: 466.19854572751774\""
      ]
     },
     "metadata": {},
     "output_type": "display_data"
    },
    {
     "data": {
      "text/plain": [
       "\"Next index to update: 6\""
      ]
     },
     "metadata": {},
     "output_type": "display_data"
    },
    {
     "data": {
      "text/plain": [
       "\"Time is: 466.19854572751774\""
      ]
     },
     "metadata": {},
     "output_type": "display_data"
    },
    {
     "data": {
      "text/plain": [
       "\"Residual: 0.09178072552721939\""
      ]
     },
     "metadata": {},
     "output_type": "display_data"
    },
    {
     "data": {
      "text/plain": [
       "\"New β is: 0.9932885906040269\""
      ]
     },
     "metadata": {},
     "output_type": "display_data"
    },
    {
     "data": {
      "text/plain": [
       "\"Update queue: [468.087, 467.882, 468.22, 469.161, 467.801, 468.941]\""
      ]
     },
     "metadata": {},
     "output_type": "display_data"
    },
    {
     "data": {
      "text/plain": [
       "\"Time of the next update: 467.8010739962705\""
      ]
     },
     "metadata": {},
     "output_type": "display_data"
    },
    {
     "data": {
      "text/plain": [
       "\"Next index to update: 6\""
      ]
     },
     "metadata": {},
     "output_type": "display_data"
    },
    {
     "data": {
      "text/plain": [
       "\"Time is: 467.8010739962705\""
      ]
     },
     "metadata": {},
     "output_type": "display_data"
    },
    {
     "data": {
      "text/plain": [
       "\"Residual: 0.09150994342399049\""
      ]
     },
     "metadata": {},
     "output_type": "display_data"
    },
    {
     "data": {
      "text/plain": [
       "\"New β is: 0.9933110367892977\""
      ]
     },
     "metadata": {},
     "output_type": "display_data"
    },
    {
     "data": {
      "text/plain": [
       "\"Update queue: [469.469, 469.443, 469.392, 470.597, 469.409, 470.334]\""
      ]
     },
     "metadata": {},
     "output_type": "display_data"
    },
    {
     "data": {
      "text/plain": [
       "\"Time of the next update: 469.39213117951516\""
      ]
     },
     "metadata": {},
     "output_type": "display_data"
    },
    {
     "data": {
      "text/plain": [
       "\"Next index to update: 3\""
      ]
     },
     "metadata": {},
     "output_type": "display_data"
    },
    {
     "data": {
      "text/plain": [
       "\"Time is: 469.39213117951516\""
      ]
     },
     "metadata": {},
     "output_type": "display_data"
    },
    {
     "data": {
      "text/plain": [
       "\"Residual: 0.09122638636145233\""
      ]
     },
     "metadata": {},
     "output_type": "display_data"
    },
    {
     "data": {
      "text/plain": [
       "\"New β is: 0.9933333333333333\""
      ]
     },
     "metadata": {},
     "output_type": "display_data"
    },
    {
     "data": {
      "text/plain": [
       "\"Update queue: [471.934, 470.973, 471.942, 472.012, 470.982, 471.742]\""
      ]
     },
     "metadata": {},
     "output_type": "display_data"
    },
    {
     "data": {
      "text/plain": [
       "\"Time of the next update: 470.97309073801136\""
      ]
     },
     "metadata": {},
     "output_type": "display_data"
    },
    {
     "data": {
      "text/plain": [
       "\"Next index to update: 2\""
      ]
     },
     "metadata": {},
     "output_type": "display_data"
    },
    {
     "data": {
      "text/plain": [
       "\"Time is: 470.97309073801136\""
      ]
     },
     "metadata": {},
     "output_type": "display_data"
    },
    {
     "data": {
      "text/plain": [
       "\"Residual: 0.09105687944755342\""
      ]
     },
     "metadata": {},
     "output_type": "display_data"
    },
    {
     "data": {
      "text/plain": [
       "\"New β is: 0.9933554817275747\""
      ]
     },
     "metadata": {},
     "output_type": "display_data"
    },
    {
     "data": {
      "text/plain": [
       "\"Update queue: [473.363, 472.654, 473.391, 473.383, 472.633, 473.192]\""
      ]
     },
     "metadata": {},
     "output_type": "display_data"
    },
    {
     "data": {
      "text/plain": [
       "\"Time of the next update: 472.63320781324995\""
      ]
     },
     "metadata": {},
     "output_type": "display_data"
    },
    {
     "data": {
      "text/plain": [
       "\"Next index to update: 6\""
      ]
     },
     "metadata": {},
     "output_type": "display_data"
    },
    {
     "data": {
      "text/plain": [
       "\"Time is: 472.63320781324995\""
      ]
     },
     "metadata": {},
     "output_type": "display_data"
    },
    {
     "data": {
      "text/plain": [
       "\"Residual: 0.09084307608067368\""
      ]
     },
     "metadata": {},
     "output_type": "display_data"
    },
    {
     "data": {
      "text/plain": [
       "\"New β is: 0.9933774834437086\""
      ]
     },
     "metadata": {},
     "output_type": "display_data"
    },
    {
     "data": {
      "text/plain": [
       "\"Update queue: [474.637, 474.302, 474.573, 474.779, 474.22, 474.64]\""
      ]
     },
     "metadata": {},
     "output_type": "display_data"
    },
    {
     "data": {
      "text/plain": [
       "\"Time of the next update: 474.2201371376744\""
      ]
     },
     "metadata": {},
     "output_type": "display_data"
    },
    {
     "data": {
      "text/plain": [
       "\"Next index to update: 6\""
      ]
     },
     "metadata": {},
     "output_type": "display_data"
    },
    {
     "data": {
      "text/plain": [
       "\"Time is: 474.2201371376744\""
      ]
     },
     "metadata": {},
     "output_type": "display_data"
    },
    {
     "data": {
      "text/plain": [
       "\"Residual: 0.09062657106864909\""
      ]
     },
     "metadata": {},
     "output_type": "display_data"
    },
    {
     "data": {
      "text/plain": [
       "\"New β is: 0.9933993399339934\""
      ]
     },
     "metadata": {},
     "output_type": "display_data"
    },
    {
     "data": {
      "text/plain": [
       "\"Update queue: [475.822, 475.851, 475.791, 476.213, 475.78, 476.097]\""
      ]
     },
     "metadata": {},
     "output_type": "display_data"
    },
    {
     "data": {
      "text/plain": [
       "\"Time of the next update: 475.7803486150145\""
      ]
     },
     "metadata": {},
     "output_type": "display_data"
    },
    {
     "data": {
      "text/plain": [
       "\"Next index to update: 6\""
      ]
     },
     "metadata": {},
     "output_type": "display_data"
    },
    {
     "data": {
      "text/plain": [
       "\"Time is: 475.7803486150145\""
      ]
     },
     "metadata": {},
     "output_type": "display_data"
    },
    {
     "data": {
      "text/plain": [
       "\"Residual: 0.09041749077724234\""
      ]
     },
     "metadata": {},
     "output_type": "display_data"
    },
    {
     "data": {
      "text/plain": [
       "\"New β is: 0.993421052631579\""
      ]
     },
     "metadata": {},
     "output_type": "display_data"
    },
    {
     "data": {
      "text/plain": [
       "\"Update queue: [478.496, 477.373, 478.358, 477.621, 477.322, 477.557]\""
      ]
     },
     "metadata": {},
     "output_type": "display_data"
    },
    {
     "data": {
      "text/plain": [
       "\"Time of the next update: 477.32249724027054\""
      ]
     },
     "metadata": {},
     "output_type": "display_data"
    },
    {
     "data": {
      "text/plain": [
       "\"Next index to update: 6\""
      ]
     },
     "metadata": {},
     "output_type": "display_data"
    },
    {
     "data": {
      "text/plain": [
       "\"Time is: 477.32249724027054\""
      ]
     },
     "metadata": {},
     "output_type": "display_data"
    },
    {
     "data": {
      "text/plain": [
       "\"Residual: 0.09019690834216436\""
      ]
     },
     "metadata": {},
     "output_type": "display_data"
    },
    {
     "data": {
      "text/plain": [
       "\"New β is: 0.9934426229508196\""
      ]
     },
     "metadata": {},
     "output_type": "display_data"
    },
    {
     "data": {
      "text/plain": [
       "\"Update queue: [479.858, 478.97, 479.863, 479.054, 478.921, 478.965]\""
      ]
     },
     "metadata": {},
     "output_type": "display_data"
    },
    {
     "data": {
      "text/plain": [
       "\"Time of the next update: 478.92142484924636\""
      ]
     },
     "metadata": {},
     "output_type": "display_data"
    },
    {
     "data": {
      "text/plain": [
       "\"Next index to update: 6\""
      ]
     },
     "metadata": {},
     "output_type": "display_data"
    },
    {
     "data": {
      "text/plain": [
       "\"Time is: 478.92142484924636\""
      ]
     },
     "metadata": {},
     "output_type": "display_data"
    },
    {
     "data": {
      "text/plain": [
       "\"Residual: 0.08998605939560986\""
      ]
     },
     "metadata": {},
     "output_type": "display_data"
    },
    {
     "data": {
      "text/plain": [
       "\"New β is: 0.9934640522875817\""
      ]
     },
     "metadata": {},
     "output_type": "display_data"
    },
    {
     "data": {
      "text/plain": [
       "\"Update queue: [481.224, 480.502, 481.141, 480.474, 480.471, 481.703]\""
      ]
     },
     "metadata": {},
     "output_type": "display_data"
    },
    {
     "data": {
      "text/plain": [
       "\"Time of the next update: 480.47057032090896\""
      ]
     },
     "metadata": {},
     "output_type": "display_data"
    },
    {
     "data": {
      "text/plain": [
       "\"Next index to update: 6\""
      ]
     },
     "metadata": {},
     "output_type": "display_data"
    },
    {
     "data": {
      "text/plain": [
       "\"Time is: 480.47057032090896\""
      ]
     },
     "metadata": {},
     "output_type": "display_data"
    },
    {
     "data": {
      "text/plain": [
       "\"Residual: 0.08966340206467954\""
      ]
     },
     "metadata": {},
     "output_type": "display_data"
    },
    {
     "data": {
      "text/plain": [
       "\"New β is: 0.993485342019544\""
      ]
     },
     "metadata": {},
     "output_type": "display_data"
    },
    {
     "data": {
      "text/plain": [
       "\"Update queue: [482.457, 482.029, 482.732, 483.285, 482.015, 483.139]\""
      ]
     },
     "metadata": {},
     "output_type": "display_data"
    },
    {
     "data": {
      "text/plain": [
       "\"Time of the next update: 482.0154796027976\""
      ]
     },
     "metadata": {},
     "output_type": "display_data"
    },
    {
     "data": {
      "text/plain": [
       "\"Next index to update: 6\""
      ]
     },
     "metadata": {},
     "output_type": "display_data"
    },
    {
     "data": {
      "text/plain": [
       "\"Time is: 482.0154796027976\""
      ]
     },
     "metadata": {},
     "output_type": "display_data"
    },
    {
     "data": {
      "text/plain": [
       "\"Residual: 0.08938973861199435\""
      ]
     },
     "metadata": {},
     "output_type": "display_data"
    },
    {
     "data": {
      "text/plain": [
       "\"New β is: 0.9935064935064936\""
      ]
     },
     "metadata": {},
     "output_type": "display_data"
    },
    {
     "data": {
      "text/plain": [
       "\"Update queue: [484.543, 483.656, 484.073, 484.678, 483.608, 484.501]\""
      ]
     },
     "metadata": {},
     "output_type": "display_data"
    },
    {
     "data": {
      "text/plain": [
       "\"Time of the next update: 483.607775301455\""
      ]
     },
     "metadata": {},
     "output_type": "display_data"
    },
    {
     "data": {
      "text/plain": [
       "\"Next index to update: 6\""
      ]
     },
     "metadata": {},
     "output_type": "display_data"
    },
    {
     "data": {
      "text/plain": [
       "\"Time is: 483.607775301455\""
      ]
     },
     "metadata": {},
     "output_type": "display_data"
    },
    {
     "data": {
      "text/plain": [
       "\"Residual: 0.08919210100906456\""
      ]
     },
     "metadata": {},
     "output_type": "display_data"
    },
    {
     "data": {
      "text/plain": [
       "\"New β is: 0.9935275080906149\""
      ]
     },
     "metadata": {},
     "output_type": "display_data"
    },
    {
     "data": {
      "text/plain": [
       "\"Update queue: [485.92, 485.258, 485.423, 486.114, 485.208, 485.872]\""
      ]
     },
     "metadata": {},
     "output_type": "display_data"
    },
    {
     "data": {
      "text/plain": [
       "\"Time of the next update: 485.2083588258944\""
      ]
     },
     "metadata": {},
     "output_type": "display_data"
    },
    {
     "data": {
      "text/plain": [
       "\"Next index to update: 6\""
      ]
     },
     "metadata": {},
     "output_type": "display_data"
    },
    {
     "data": {
      "text/plain": [
       "\"Time is: 485.2083588258944\""
      ]
     },
     "metadata": {},
     "output_type": "display_data"
    },
    {
     "data": {
      "text/plain": [
       "\"Residual: 0.08896815292955086\""
      ]
     },
     "metadata": {},
     "output_type": "display_data"
    },
    {
     "data": {
      "text/plain": [
       "\"New β is: 0.9935483870967742\""
      ]
     },
     "metadata": {},
     "output_type": "display_data"
    },
    {
     "data": {
      "text/plain": [
       "\"Update queue: [487.329, 486.725, 487.936, 487.47, 486.721, 487.273]\""
      ]
     },
     "metadata": {},
     "output_type": "display_data"
    },
    {
     "data": {
      "text/plain": [
       "\"Time of the next update: 486.7205760164279\""
      ]
     },
     "metadata": {},
     "output_type": "display_data"
    },
    {
     "data": {
      "text/plain": [
       "\"Next index to update: 6\""
      ]
     },
     "metadata": {},
     "output_type": "display_data"
    },
    {
     "data": {
      "text/plain": [
       "\"Time is: 486.7205760164279\""
      ]
     },
     "metadata": {},
     "output_type": "display_data"
    },
    {
     "data": {
      "text/plain": [
       "\"Residual: 0.08876648533312077\""
      ]
     },
     "metadata": {},
     "output_type": "display_data"
    },
    {
     "data": {
      "text/plain": [
       "\"New β is: 0.9935691318327974\""
      ]
     },
     "metadata": {},
     "output_type": "display_data"
    },
    {
     "data": {
      "text/plain": [
       "\"Update queue: [488.657, 488.323, 489.327, 488.883, 488.282, 488.684]\""
      ]
     },
     "metadata": {},
     "output_type": "display_data"
    },
    {
     "data": {
      "text/plain": [
       "\"Time of the next update: 488.2821362383833\""
      ]
     },
     "metadata": {},
     "output_type": "display_data"
    },
    {
     "data": {
      "text/plain": [
       "\"Next index to update: 6\""
      ]
     },
     "metadata": {},
     "output_type": "display_data"
    },
    {
     "data": {
      "text/plain": [
       "\"Time is: 488.2821362383833\""
      ]
     },
     "metadata": {},
     "output_type": "display_data"
    },
    {
     "data": {
      "text/plain": [
       "\"Residual: 0.08855637309418299\""
      ]
     },
     "metadata": {},
     "output_type": "display_data"
    },
    {
     "data": {
      "text/plain": [
       "\"New β is: 0.9935897435897436\""
      ]
     },
     "metadata": {},
     "output_type": "display_data"
    },
    {
     "data": {
      "text/plain": [
       "\"Update queue: [490.183, 489.822, 490.708, 490.325, 489.816, 490.106]\""
      ]
     },
     "metadata": {},
     "output_type": "display_data"
    },
    {
     "data": {
      "text/plain": [
       "\"Time of the next update: 489.8155359588408\""
      ]
     },
     "metadata": {},
     "output_type": "display_data"
    },
    {
     "data": {
      "text/plain": [
       "\"Next index to update: 6\""
      ]
     },
     "metadata": {},
     "output_type": "display_data"
    },
    {
     "data": {
      "text/plain": [
       "\"Time is: 489.8155359588408\""
      ]
     },
     "metadata": {},
     "output_type": "display_data"
    },
    {
     "data": {
      "text/plain": [
       "\"Residual: 0.08836631723204086\""
      ]
     },
     "metadata": {},
     "output_type": "display_data"
    },
    {
     "data": {
      "text/plain": [
       "\"New β is: 0.9936102236421726\""
      ]
     },
     "metadata": {},
     "output_type": "display_data"
    },
    {
     "data": {
      "text/plain": [
       "\"Update queue: [491.61, 491.404, 492.154, 491.776, 491.414, 491.572]\""
      ]
     },
     "metadata": {},
     "output_type": "display_data"
    },
    {
     "data": {
      "text/plain": [
       "\"Time of the next update: 491.4042260478008\""
      ]
     },
     "metadata": {},
     "output_type": "display_data"
    },
    {
     "data": {
      "text/plain": [
       "\"Next index to update: 2\""
      ]
     },
     "metadata": {},
     "output_type": "display_data"
    },
    {
     "data": {
      "text/plain": [
       "\"Time is: 491.4042260478008\""
      ]
     },
     "metadata": {},
     "output_type": "display_data"
    },
    {
     "data": {
      "text/plain": [
       "\"Residual: 0.08815539423714411\""
      ]
     },
     "metadata": {},
     "output_type": "display_data"
    },
    {
     "data": {
      "text/plain": [
       "\"New β is: 0.9936305732484076\""
      ]
     },
     "metadata": {},
     "output_type": "display_data"
    },
    {
     "data": {
      "text/plain": [
       "\"Update queue: [493.962, 492.964, 493.446, 493.191, 492.944, 493.0]\""
      ]
     },
     "metadata": {},
     "output_type": "display_data"
    },
    {
     "data": {
      "text/plain": [
       "\"Time of the next update: 492.9437363337876\""
      ]
     },
     "metadata": {},
     "output_type": "display_data"
    },
    {
     "data": {
      "text/plain": [
       "\"Next index to update: 6\""
      ]
     },
     "metadata": {},
     "output_type": "display_data"
    },
    {
     "data": {
      "text/plain": [
       "\"Time is: 492.9437363337876\""
      ]
     },
     "metadata": {},
     "output_type": "display_data"
    },
    {
     "data": {
      "text/plain": [
       "\"Residual: 0.08795947307639079\""
      ]
     },
     "metadata": {},
     "output_type": "display_data"
    },
    {
     "data": {
      "text/plain": [
       "\"New β is: 0.9936507936507937\""
      ]
     },
     "metadata": {},
     "output_type": "display_data"
    },
    {
     "data": {
      "text/plain": [
       "\"Update queue: [495.473, 494.46, 494.734, 494.603, 494.459, 495.813]\""
      ]
     },
     "metadata": {},
     "output_type": "display_data"
    },
    {
     "data": {
      "text/plain": [
       "\"Time of the next update: 494.4593490939567\""
      ]
     },
     "metadata": {},
     "output_type": "display_data"
    },
    {
     "data": {
      "text/plain": [
       "\"Next index to update: 6\""
      ]
     },
     "metadata": {},
     "output_type": "display_data"
    },
    {
     "data": {
      "text/plain": [
       "\"Time is: 494.4593490939567\""
      ]
     },
     "metadata": {},
     "output_type": "display_data"
    },
    {
     "data": {
      "text/plain": [
       "\"Residual: 0.08766876943938226\""
      ]
     },
     "metadata": {},
     "output_type": "display_data"
    },
    {
     "data": {
      "text/plain": [
       "\"New β is: 0.9936708860759493\""
      ]
     },
     "metadata": {},
     "output_type": "display_data"
    },
    {
     "data": {
      "text/plain": [
       "\"Update queue: [496.516, 496.018, 496.027, 496.037, 496.028, 497.264]\""
      ]
     },
     "metadata": {},
     "output_type": "display_data"
    },
    {
     "data": {
      "text/plain": [
       "\"Time of the next update: 496.01758775172516\""
      ]
     },
     "metadata": {},
     "output_type": "display_data"
    },
    {
     "data": {
      "text/plain": [
       "\"Next index to update: 2\""
      ]
     },
     "metadata": {},
     "output_type": "display_data"
    },
    {
     "data": {
      "text/plain": [
       "\"Time is: 496.01758775172516\""
      ]
     },
     "metadata": {},
     "output_type": "display_data"
    },
    {
     "data": {
      "text/plain": [
       "\"Residual: 0.08741535247018217\""
      ]
     },
     "metadata": {},
     "output_type": "display_data"
    },
    {
     "data": {
      "text/plain": [
       "\"New β is: 0.9936908517350158\""
      ]
     },
     "metadata": {},
     "output_type": "display_data"
    },
    {
     "data": {
      "text/plain": [
       "\"Update queue: [497.936, 497.618, 498.652, 498.91, 497.57, 498.703]\""
      ]
     },
     "metadata": {},
     "output_type": "display_data"
    },
    {
     "data": {
      "text/plain": [
       "\"Time of the next update: 497.5701225356827\""
      ]
     },
     "metadata": {},
     "output_type": "display_data"
    },
    {
     "data": {
      "text/plain": [
       "\"Next index to update: 6\""
      ]
     },
     "metadata": {},
     "output_type": "display_data"
    },
    {
     "data": {
      "text/plain": [
       "\"Time is: 497.5701225356827\""
      ]
     },
     "metadata": {},
     "output_type": "display_data"
    },
    {
     "data": {
      "text/plain": [
       "\"Residual: 0.08712864873086537\""
      ]
     },
     "metadata": {},
     "output_type": "display_data"
    },
    {
     "data": {
      "text/plain": [
       "\"New β is: 0.9937106918238994\""
      ]
     },
     "metadata": {},
     "output_type": "display_data"
    },
    {
     "data": {
      "text/plain": [
       "\"Update queue: [500.287, 499.244, 500.075, 500.334, 499.149, 500.184]\""
      ]
     },
     "metadata": {},
     "output_type": "display_data"
    },
    {
     "data": {
      "text/plain": [
       "\"Time of the next update: 499.14854031004086\""
      ]
     },
     "metadata": {},
     "output_type": "display_data"
    },
    {
     "data": {
      "text/plain": [
       "\"Next index to update: 6\""
      ]
     },
     "metadata": {},
     "output_type": "display_data"
    },
    {
     "data": {
      "text/plain": [
       "\"Time is: 499.14854031004086\""
      ]
     },
     "metadata": {},
     "output_type": "display_data"
    },
    {
     "data": {
      "text/plain": [
       "\"Residual: 0.08689856676074953\""
      ]
     },
     "metadata": {},
     "output_type": "display_data"
    },
    {
     "data": {
      "text/plain": [
       "\"New β is: 0.9937304075235109\""
      ]
     },
     "metadata": {},
     "output_type": "display_data"
    },
    {
     "data": {
      "text/plain": [
       "\"Update queue: [501.629, 500.704, 501.261, 501.747, 500.692, 501.606]\""
      ]
     },
     "metadata": {},
     "output_type": "display_data"
    },
    {
     "data": {
      "text/plain": [
       "\"Time of the next update: 500.69160091995775\""
      ]
     },
     "metadata": {},
     "output_type": "display_data"
    },
    {
     "data": {
      "text/plain": [
       "\"Next index to update: 6\""
      ]
     },
     "metadata": {},
     "output_type": "display_data"
    },
    {
     "data": {
      "text/plain": [
       "\"Time is: 500.69160091995775\""
      ]
     },
     "metadata": {},
     "output_type": "display_data"
    },
    {
     "data": {
      "text/plain": [
       "\"Residual: 0.08669566646832114\""
      ]
     },
     "metadata": {},
     "output_type": "display_data"
    },
    {
     "data": {
      "text/plain": [
       "\"New β is: 0.99375\""
      ]
     },
     "metadata": {},
     "output_type": "display_data"
    },
    {
     "data": {
      "text/plain": [
       "\"Update queue: [502.949, 502.26, 502.512, 503.151, 502.28, 503.067]\""
      ]
     },
     "metadata": {},
     "output_type": "display_data"
    },
    {
     "data": {
      "text/plain": [
       "\"Time of the next update: 502.2602639589002\""
      ]
     },
     "metadata": {},
     "output_type": "display_data"
    },
    {
     "data": {
      "text/plain": [
       "\"Next index to update: 2\""
      ]
     },
     "metadata": {},
     "output_type": "display_data"
    },
    {
     "data": {
      "text/plain": [
       "\"Time is: 502.2602639589002\""
      ]
     },
     "metadata": {},
     "output_type": "display_data"
    },
    {
     "data": {
      "text/plain": [
       "\"Residual: 0.08648025565101905\""
      ]
     },
     "metadata": {},
     "output_type": "display_data"
    },
    {
     "data": {
      "text/plain": [
       "\"New β is: 0.9937694704049844\""
      ]
     },
     "metadata": {},
     "output_type": "display_data"
    },
    {
     "data": {
      "text/plain": [
       "\"Update queue: [504.247, 503.931, 503.921, 504.605, 503.866, 504.423]\""
      ]
     },
     "metadata": {},
     "output_type": "display_data"
    },
    {
     "data": {
      "text/plain": [
       "\"Time of the next update: 503.86632412449205\""
      ]
     },
     "metadata": {},
     "output_type": "display_data"
    },
    {
     "data": {
      "text/plain": [
       "\"Next index to update: 6\""
      ]
     },
     "metadata": {},
     "output_type": "display_data"
    },
    {
     "data": {
      "text/plain": [
       "\"Time is: 503.86632412449205\""
      ]
     },
     "metadata": {},
     "output_type": "display_data"
    },
    {
     "data": {
      "text/plain": [
       "\"Residual: 0.08627602013574504\""
      ]
     },
     "metadata": {},
     "output_type": "display_data"
    },
    {
     "data": {
      "text/plain": [
       "\"New β is: 0.9937888198757764\""
      ]
     },
     "metadata": {},
     "output_type": "display_data"
    },
    {
     "data": {
      "text/plain": [
       "\"Update queue: [505.556, 505.403, 506.67, 506.056, 505.417, 505.774]\""
      ]
     },
     "metadata": {},
     "output_type": "display_data"
    },
    {
     "data": {
      "text/plain": [
       "\"Time of the next update: 505.40293734665306\""
      ]
     },
     "metadata": {},
     "output_type": "display_data"
    },
    {
     "data": {
      "text/plain": [
       "\"Next index to update: 2\""
      ]
     },
     "metadata": {},
     "output_type": "display_data"
    },
    {
     "data": {
      "text/plain": [
       "\"Time is: 505.40293734665306\""
      ]
     },
     "metadata": {},
     "output_type": "display_data"
    },
    {
     "data": {
      "text/plain": [
       "\"Residual: 0.08608333007494656\""
      ]
     },
     "metadata": {},
     "output_type": "display_data"
    },
    {
     "data": {
      "text/plain": [
       "\"New β is: 0.9938080495356038\""
      ]
     },
     "metadata": {},
     "output_type": "display_data"
    },
    {
     "data": {
      "text/plain": [
       "\"Update queue: [506.986, 507.026, 508.052, 507.519, 506.952, 507.186]\""
      ]
     },
     "metadata": {},
     "output_type": "display_data"
    },
    {
     "data": {
      "text/plain": [
       "\"Time of the next update: 506.9516164154735\""
      ]
     },
     "metadata": {},
     "output_type": "display_data"
    },
    {
     "data": {
      "text/plain": [
       "\"Next index to update: 6\""
      ]
     },
     "metadata": {},
     "output_type": "display_data"
    },
    {
     "data": {
      "text/plain": [
       "\"Time is: 506.9516164154735\""
      ]
     },
     "metadata": {},
     "output_type": "display_data"
    },
    {
     "data": {
      "text/plain": [
       "\"Residual: 0.08588268865792101\""
      ]
     },
     "metadata": {},
     "output_type": "display_data"
    },
    {
     "data": {
      "text/plain": [
       "\"New β is: 0.9938271604938271\""
      ]
     },
     "metadata": {},
     "output_type": "display_data"
    },
    {
     "data": {
      "text/plain": [
       "\"Update queue: [509.421, 508.537, 509.354, 508.975, 508.506, 508.692]\""
      ]
     },
     "metadata": {},
     "output_type": "display_data"
    },
    {
     "data": {
      "text/plain": [
       "\"Time of the next update: 508.50626674907176\""
      ]
     },
     "metadata": {},
     "output_type": "display_data"
    },
    {
     "data": {
      "text/plain": [
       "\"Next index to update: 6\""
      ]
     },
     "metadata": {},
     "output_type": "display_data"
    },
    {
     "data": {
      "text/plain": [
       "\"Time is: 508.50626674907176\""
      ]
     },
     "metadata": {},
     "output_type": "display_data"
    },
    {
     "data": {
      "text/plain": [
       "\"Residual: 0.08568886560466699\""
      ]
     },
     "metadata": {},
     "output_type": "display_data"
    },
    {
     "data": {
      "text/plain": [
       "\"New β is: 0.9938461538461538\""
      ]
     },
     "metadata": {},
     "output_type": "display_data"
    },
    {
     "data": {
      "text/plain": [
       "\"Update queue: [510.591, 510.082, 510.56, 510.372, 510.02, 510.122]\""
      ]
     },
     "metadata": {},
     "output_type": "display_data"
    },
    {
     "data": {
      "text/plain": [
       "\"Time of the next update: 510.0195024344989\""
      ]
     },
     "metadata": {},
     "output_type": "display_data"
    },
    {
     "data": {
      "text/plain": [
       "\"Next index to update: 6\""
      ]
     },
     "metadata": {},
     "output_type": "display_data"
    },
    {
     "data": {
      "text/plain": [
       "\"Time is: 510.0195024344989\""
      ]
     },
     "metadata": {},
     "output_type": "display_data"
    },
    {
     "data": {
      "text/plain": [
       "\"Residual: 0.08550899020792628\""
      ]
     },
     "metadata": {},
     "output_type": "display_data"
    },
    {
     "data": {
      "text/plain": [
       "\"New β is: 0.9938650306748467\""
      ]
     },
     "metadata": {},
     "output_type": "display_data"
    },
    {
     "data": {
      "text/plain": [
       "\"Update queue: [511.986, 511.655, 511.858, 511.761, 511.605, 512.976]\""
      ]
     },
     "metadata": {},
     "output_type": "display_data"
    },
    {
     "data": {
      "text/plain": [
       "\"Time of the next update: 511.60455546614463\""
      ]
     },
     "metadata": {},
     "output_type": "display_data"
    },
    {
     "data": {
      "text/plain": [
       "\"Next index to update: 6\""
      ]
     },
     "metadata": {},
     "output_type": "display_data"
    },
    {
     "data": {
      "text/plain": [
       "\"Time is: 511.60455546614463\""
      ]
     },
     "metadata": {},
     "output_type": "display_data"
    },
    {
     "data": {
      "text/plain": [
       "\"Residual: 0.08527661929080868\""
      ]
     },
     "metadata": {},
     "output_type": "display_data"
    },
    {
     "data": {
      "text/plain": [
       "\"New β is: 0.9938837920489296\""
      ]
     },
     "metadata": {},
     "output_type": "display_data"
    },
    {
     "data": {
      "text/plain": [
       "\"Update queue: [513.275, 513.232, 513.26, 514.503, 513.186, 514.36]\""
      ]
     },
     "metadata": {},
     "output_type": "display_data"
    },
    {
     "data": {
      "text/plain": [
       "\"Time of the next update: 513.1863329325088\""
      ]
     },
     "metadata": {},
     "output_type": "display_data"
    },
    {
     "data": {
      "text/plain": [
       "\"Next index to update: 6\""
      ]
     },
     "metadata": {},
     "output_type": "display_data"
    },
    {
     "data": {
      "text/plain": [
       "\"Time is: 513.1863329325088\""
      ]
     },
     "metadata": {},
     "output_type": "display_data"
    },
    {
     "data": {
      "text/plain": [
       "\"Residual: 0.08496511151316215\""
      ]
     },
     "metadata": {},
     "output_type": "display_data"
    },
    {
     "data": {
      "text/plain": [
       "\"New β is: 0.9939024390243902\""
      ]
     },
     "metadata": {},
     "output_type": "display_data"
    },
    {
     "data": {
      "text/plain": [
       "\"Update queue: [515.916, 514.707, 515.784, 515.959, 514.699, 515.708]\""
      ]
     },
     "metadata": {},
     "output_type": "display_data"
    },
    {
     "data": {
      "text/plain": [
       "\"Time of the next update: 514.6994735670771\""
      ]
     },
     "metadata": {},
     "output_type": "display_data"
    },
    {
     "data": {
      "text/plain": [
       "\"Next index to update: 6\""
      ]
     },
     "metadata": {},
     "output_type": "display_data"
    },
    {
     "data": {
      "text/plain": [
       "\"Time is: 514.6994735670771\""
      ]
     },
     "metadata": {},
     "output_type": "display_data"
    },
    {
     "data": {
      "text/plain": [
       "\"Residual: 0.0847425738697216\""
      ]
     },
     "metadata": {},
     "output_type": "display_data"
    },
    {
     "data": {
      "text/plain": [
       "\"New β is: 0.993920972644377\""
      ]
     },
     "metadata": {},
     "output_type": "display_data"
    },
    {
     "data": {
      "text/plain": [
       "\"Update queue: [517.198, 516.296, 517.17, 517.382, 516.278, 517.165]\""
      ]
     },
     "metadata": {},
     "output_type": "display_data"
    },
    {
     "data": {
      "text/plain": [
       "\"Time of the next update: 516.2780668510139\""
      ]
     },
     "metadata": {},
     "output_type": "display_data"
    },
    {
     "data": {
      "text/plain": [
       "\"Next index to update: 6\""
      ]
     },
     "metadata": {},
     "output_type": "display_data"
    },
    {
     "data": {
      "text/plain": [
       "\"Time is: 516.2780668510139\""
      ]
     },
     "metadata": {},
     "output_type": "display_data"
    },
    {
     "data": {
      "text/plain": [
       "\"Residual: 0.08457686819575538\""
      ]
     },
     "metadata": {},
     "output_type": "display_data"
    },
    {
     "data": {
      "text/plain": [
       "\"New β is: 0.9939393939393939\""
      ]
     },
     "metadata": {},
     "output_type": "display_data"
    },
    {
     "data": {
      "text/plain": [
       "\"Update queue: [518.457, 517.979, 518.366, 518.802, 517.905, 518.569]\""
      ]
     },
     "metadata": {},
     "output_type": "display_data"
    },
    {
     "data": {
      "text/plain": [
       "\"Time of the next update: 517.905348500635\""
      ]
     },
     "metadata": {},
     "output_type": "display_data"
    },
    {
     "data": {
      "text/plain": [
       "\"Next index to update: 6\""
      ]
     },
     "metadata": {},
     "output_type": "display_data"
    },
    {
     "data": {
      "text/plain": [
       "\"Time is: 517.905348500635\""
      ]
     },
     "metadata": {},
     "output_type": "display_data"
    },
    {
     "data": {
      "text/plain": [
       "\"Residual: 0.08435544690052563\""
      ]
     },
     "metadata": {},
     "output_type": "display_data"
    },
    {
     "data": {
      "text/plain": [
       "\"New β is: 0.9939577039274925\""
      ]
     },
     "metadata": {},
     "output_type": "display_data"
    },
    {
     "data": {
      "text/plain": [
       "\"Update queue: [519.605, 519.501, 519.703, 520.204, 519.496, 519.986]\""
      ]
     },
     "metadata": {},
     "output_type": "display_data"
    },
    {
     "data": {
      "text/plain": [
       "\"Time of the next update: 519.4962400770837\""
      ]
     },
     "metadata": {},
     "output_type": "display_data"
    },
    {
     "data": {
      "text/plain": [
       "\"Next index to update: 6\""
      ]
     },
     "metadata": {},
     "output_type": "display_data"
    },
    {
     "data": {
      "text/plain": [
       "\"Time is: 519.4962400770837\""
      ]
     },
     "metadata": {},
     "output_type": "display_data"
    },
    {
     "data": {
      "text/plain": [
       "\"Residual: 0.08419651181169116\""
      ]
     },
     "metadata": {},
     "output_type": "display_data"
    },
    {
     "data": {
      "text/plain": [
       "\"New β is: 0.9939759036144579\""
      ]
     },
     "metadata": {},
     "output_type": "display_data"
    },
    {
     "data": {
      "text/plain": [
       "\"Update queue: [522.33, 521.154, 522.179, 521.567, 521.064, 521.428]\""
      ]
     },
     "metadata": {},
     "output_type": "display_data"
    },
    {
     "data": {
      "text/plain": [
       "\"Time of the next update: 521.0644583282756\""
      ]
     },
     "metadata": {},
     "output_type": "display_data"
    },
    {
     "data": {
      "text/plain": [
       "\"Next index to update: 6\""
      ]
     },
     "metadata": {},
     "output_type": "display_data"
    },
    {
     "data": {
      "text/plain": [
       "\"Time is: 521.0644583282756\""
      ]
     },
     "metadata": {},
     "output_type": "display_data"
    },
    {
     "data": {
      "text/plain": [
       "\"Residual: 0.08401889419200852\""
      ]
     },
     "metadata": {},
     "output_type": "display_data"
    },
    {
     "data": {
      "text/plain": [
       "\"New β is: 0.993993993993994\""
      ]
     },
     "metadata": {},
     "output_type": "display_data"
    },
    {
     "data": {
      "text/plain": [
       "\"Update queue: [523.706, 522.668, 523.392, 523.021, 522.622, 522.863]\""
      ]
     },
     "metadata": {},
     "output_type": "display_data"
    },
    {
     "data": {
      "text/plain": [
       "\"Time of the next update: 522.6218190799357\""
      ]
     },
     "metadata": {},
     "output_type": "display_data"
    },
    {
     "data": {
      "text/plain": [
       "\"Next index to update: 6\""
      ]
     },
     "metadata": {},
     "output_type": "display_data"
    },
    {
     "data": {
      "text/plain": [
       "\"Time is: 522.6218190799357\""
      ]
     },
     "metadata": {},
     "output_type": "display_data"
    },
    {
     "data": {
      "text/plain": [
       "\"Residual: 0.08382651276662867\""
      ]
     },
     "metadata": {},
     "output_type": "display_data"
    },
    {
     "data": {
      "text/plain": [
       "\"New β is: 0.9940119760479041\""
      ]
     },
     "metadata": {},
     "output_type": "display_data"
    },
    {
     "data": {
      "text/plain": [
       "\"Update queue: [524.969, 524.229, 524.633, 524.416, 524.208, 524.203]\""
      ]
     },
     "metadata": {},
     "output_type": "display_data"
    },
    {
     "data": {
      "text/plain": [
       "\"Time of the next update: 524.2029652169435\""
      ]
     },
     "metadata": {},
     "output_type": "display_data"
    },
    {
     "data": {
      "text/plain": [
       "\"Next index to update: 1\""
      ]
     },
     "metadata": {},
     "output_type": "display_data"
    },
    {
     "data": {
      "text/plain": [
       "\"Time is: 524.2029652169435\""
      ]
     },
     "metadata": {},
     "output_type": "display_data"
    },
    {
     "data": {
      "text/plain": [
       "\"Residual: 0.08359437626114405\""
      ]
     },
     "metadata": {},
     "output_type": "display_data"
    },
    {
     "data": {
      "text/plain": [
       "\"New β is: 0.9940298507462687\""
      ]
     },
     "metadata": {},
     "output_type": "display_data"
    },
    {
     "data": {
      "text/plain": [
       "\"Update queue: [526.179, 525.802, 526.098, 525.839, 525.783, 527.08]\""
      ]
     },
     "metadata": {},
     "output_type": "display_data"
    },
    {
     "data": {
      "text/plain": [
       "\"Time of the next update: 525.7826457886322\""
      ]
     },
     "metadata": {},
     "output_type": "display_data"
    },
    {
     "data": {
      "text/plain": [
       "\"Next index to update: 6\""
      ]
     },
     "metadata": {},
     "output_type": "display_data"
    },
    {
     "data": {
      "text/plain": [
       "\"Time is: 525.7826457886322\""
      ]
     },
     "metadata": {},
     "output_type": "display_data"
    },
    {
     "data": {
      "text/plain": [
       "\"Residual: 0.08332463489663175\""
      ]
     },
     "metadata": {},
     "output_type": "display_data"
    },
    {
     "data": {
      "text/plain": [
       "\"New β is: 0.9940476190476191\""
      ]
     },
     "metadata": {},
     "output_type": "display_data"
    },
    {
     "data": {
      "text/plain": [
       "\"Update queue: [527.427, 527.374, 528.653, 528.606, 527.335, 528.523]\""
      ]
     },
     "metadata": {},
     "output_type": "display_data"
    },
    {
     "data": {
      "text/plain": [
       "\"Time of the next update: 527.3351471900143\""
      ]
     },
     "metadata": {},
     "output_type": "display_data"
    },
    {
     "data": {
      "text/plain": [
       "\"Next index to update: 6\""
      ]
     },
     "metadata": {},
     "output_type": "display_data"
    },
    {
     "data": {
      "text/plain": [
       "\"Time is: 527.3351471900143\""
      ]
     },
     "metadata": {},
     "output_type": "display_data"
    },
    {
     "data": {
      "text/plain": [
       "\"Residual: 0.08302041614734601\""
      ]
     },
     "metadata": {},
     "output_type": "display_data"
    },
    {
     "data": {
      "text/plain": [
       "\"New β is: 0.9940652818991098\""
      ]
     },
     "metadata": {},
     "output_type": "display_data"
    },
    {
     "data": {
      "text/plain": [
       "\"Update queue: [529.747, 528.924, 530.054, 530.067, 528.879, 529.947]\""
      ]
     },
     "metadata": {},
     "output_type": "display_data"
    },
    {
     "data": {
      "text/plain": [
       "\"Time of the next update: 528.8786706528642\""
      ]
     },
     "metadata": {},
     "output_type": "display_data"
    },
    {
     "data": {
      "text/plain": [
       "\"Next index to update: 6\""
      ]
     },
     "metadata": {},
     "output_type": "display_data"
    },
    {
     "data": {
      "text/plain": [
       "\"Time is: 528.8786706528642\""
      ]
     },
     "metadata": {},
     "output_type": "display_data"
    },
    {
     "data": {
      "text/plain": [
       "\"Residual: 0.08286687074313673\""
      ]
     },
     "metadata": {},
     "output_type": "display_data"
    },
    {
     "data": {
      "text/plain": [
       "\"New β is: 0.9940828402366864\""
      ]
     },
     "metadata": {},
     "output_type": "display_data"
    },
    {
     "data": {
      "text/plain": [
       "\"Update queue: [531.347, 530.49, 531.492, 531.397, 530.481, 531.424]\""
      ]
     },
     "metadata": {},
     "output_type": "display_data"
    },
    {
     "data": {
      "text/plain": [
       "\"Time of the next update: 530.4809681441543\""
      ]
     },
     "metadata": {},
     "output_type": "display_data"
    },
    {
     "data": {
      "text/plain": [
       "\"Next index to update: 6\""
      ]
     },
     "metadata": {},
     "output_type": "display_data"
    },
    {
     "data": {
      "text/plain": [
       "\"Time is: 530.4809681441543\""
      ]
     },
     "metadata": {},
     "output_type": "display_data"
    },
    {
     "data": {
      "text/plain": [
       "\"Residual: 0.0826685915820694\""
      ]
     },
     "metadata": {},
     "output_type": "display_data"
    },
    {
     "data": {
      "text/plain": [
       "\"New β is: 0.9941002949852508\""
      ]
     },
     "metadata": {},
     "output_type": "display_data"
    },
    {
     "data": {
      "text/plain": [
       "\"Update queue: [532.625, 532.059, 532.845, 532.754, 532.066, 532.842]\""
      ]
     },
     "metadata": {},
     "output_type": "display_data"
    },
    {
     "data": {
      "text/plain": [
       "\"Time of the next update: 532.0588969346161\""
      ]
     },
     "metadata": {},
     "output_type": "display_data"
    },
    {
     "data": {
      "text/plain": [
       "\"Next index to update: 2\""
      ]
     },
     "metadata": {},
     "output_type": "display_data"
    },
    {
     "data": {
      "text/plain": [
       "\"Time is: 532.0588969346161\""
      ]
     },
     "metadata": {},
     "output_type": "display_data"
    },
    {
     "data": {
      "text/plain": [
       "\"Residual: 0.08250629773668589\""
      ]
     },
     "metadata": {},
     "output_type": "display_data"
    },
    {
     "data": {
      "text/plain": [
       "\"New β is: 0.9941176470588236\""
      ]
     },
     "metadata": {},
     "output_type": "display_data"
    },
    {
     "data": {
      "text/plain": [
       "\"Update queue: [533.997, 533.627, 534.095, 534.291, 533.631, 534.286]\""
      ]
     },
     "metadata": {},
     "output_type": "display_data"
    },
    {
     "data": {
      "text/plain": [
       "\"Time of the next update: 533.6272484069004\""
      ]
     },
     "metadata": {},
     "output_type": "display_data"
    },
    {
     "data": {
      "text/plain": [
       "\"Next index to update: 2\""
      ]
     },
     "metadata": {},
     "output_type": "display_data"
    },
    {
     "data": {
      "text/plain": [
       "\"Time is: 533.6272484069004\""
      ]
     },
     "metadata": {},
     "output_type": "display_data"
    },
    {
     "data": {
      "text/plain": [
       "\"Residual: 0.08232968396608131\""
      ]
     },
     "metadata": {},
     "output_type": "display_data"
    },
    {
     "data": {
      "text/plain": [
       "\"New β is: 0.9941348973607038\""
      ]
     },
     "metadata": {},
     "output_type": "display_data"
    },
    {
     "data": {
      "text/plain": [
       "\"Update queue: [535.314, 535.193, 535.386, 535.759, 535.204, 535.709]\""
      ]
     },
     "metadata": {},
     "output_type": "display_data"
    },
    {
     "data": {
      "text/plain": [
       "\"Time of the next update: 535.1933645512916\""
      ]
     },
     "metadata": {},
     "output_type": "display_data"
    },
    {
     "data": {
      "text/plain": [
       "\"Next index to update: 2\""
      ]
     },
     "metadata": {},
     "output_type": "display_data"
    },
    {
     "data": {
      "text/plain": [
       "\"Time is: 535.1933645512916\""
      ]
     },
     "metadata": {},
     "output_type": "display_data"
    },
    {
     "data": {
      "text/plain": [
       "\"Residual: 0.08218227504221932\""
      ]
     },
     "metadata": {},
     "output_type": "display_data"
    },
    {
     "data": {
      "text/plain": [
       "\"New β is: 0.9941520467836258\""
      ]
     },
     "metadata": {},
     "output_type": "display_data"
    },
    {
     "data": {
      "text/plain": [
       "\"Update queue: [537.875, 536.796, 536.776, 537.107, 536.769, 537.107]\""
      ]
     },
     "metadata": {},
     "output_type": "display_data"
    },
    {
     "data": {
      "text/plain": [
       "\"Time of the next update: 536.7693899739423\""
      ]
     },
     "metadata": {},
     "output_type": "display_data"
    },
    {
     "data": {
      "text/plain": [
       "\"Next index to update: 6\""
      ]
     },
     "metadata": {},
     "output_type": "display_data"
    },
    {
     "data": {
      "text/plain": [
       "\"Time is: 536.7693899739423\""
      ]
     },
     "metadata": {},
     "output_type": "display_data"
    },
    {
     "data": {
      "text/plain": [
       "\"Residual: 0.08202094701450124\""
      ]
     },
     "metadata": {},
     "output_type": "display_data"
    },
    {
     "data": {
      "text/plain": [
       "\"New β is: 0.9941690962099126\""
      ]
     },
     "metadata": {},
     "output_type": "display_data"
    },
    {
     "data": {
      "text/plain": [
       "\"Update queue: [539.097, 538.378, 539.3, 538.499, 538.326, 538.485]\""
      ]
     },
     "metadata": {},
     "output_type": "display_data"
    },
    {
     "data": {
      "text/plain": [
       "\"Time of the next update: 538.3258438411094\""
      ]
     },
     "metadata": {},
     "output_type": "display_data"
    },
    {
     "data": {
      "text/plain": [
       "\"Next index to update: 6\""
      ]
     },
     "metadata": {},
     "output_type": "display_data"
    },
    {
     "data": {
      "text/plain": [
       "\"Time is: 538.3258438411094\""
      ]
     },
     "metadata": {},
     "output_type": "display_data"
    },
    {
     "data": {
      "text/plain": [
       "\"Residual: 0.08186896815732245\""
      ]
     },
     "metadata": {},
     "output_type": "display_data"
    },
    {
     "data": {
      "text/plain": [
       "\"New β is: 0.9941860465116279\""
      ]
     },
     "metadata": {},
     "output_type": "display_data"
    },
    {
     "data": {
      "text/plain": [
       "\"Update queue: [540.37, 539.943, 540.623, 539.91, 539.907, 539.929]\""
      ]
     },
     "metadata": {},
     "output_type": "display_data"
    },
    {
     "data": {
      "text/plain": [
       "\"Time of the next update: 539.9067083245014\""
      ]
     },
     "metadata": {},
     "output_type": "display_data"
    },
    {
     "data": {
      "text/plain": [
       "\"Next index to update: 6\""
      ]
     },
     "metadata": {},
     "output_type": "display_data"
    },
    {
     "data": {
      "text/plain": [
       "\"Time is: 539.9067083245014\""
      ]
     },
     "metadata": {},
     "output_type": "display_data"
    },
    {
     "data": {
      "text/plain": [
       "\"Residual: 0.08172500737852675\""
      ]
     },
     "metadata": {},
     "output_type": "display_data"
    },
    {
     "data": {
      "text/plain": [
       "\"New β is: 0.9942028985507246\""
      ]
     },
     "metadata": {},
     "output_type": "display_data"
    },
    {
     "data": {
      "text/plain": [
       "\"Update queue: [541.595, 541.455, 541.843, 542.758, 541.477, 542.772]\""
      ]
     },
     "metadata": {},
     "output_type": "display_data"
    },
    {
     "data": {
      "text/plain": [
       "\"Time of the next update: 541.4551823483683\""
      ]
     },
     "metadata": {},
     "output_type": "display_data"
    },
    {
     "data": {
      "text/plain": [
       "\"Next index to update: 2\""
      ]
     },
     "metadata": {},
     "output_type": "display_data"
    },
    {
     "data": {
      "text/plain": [
       "\"Time is: 541.4551823483683\""
      ]
     },
     "metadata": {},
     "output_type": "display_data"
    },
    {
     "data": {
      "text/plain": [
       "\"Residual: 0.08142828517425937\""
      ]
     },
     "metadata": {},
     "output_type": "display_data"
    },
    {
     "data": {
      "text/plain": [
       "\"New β is: 0.9942196531791907\""
      ]
     },
     "metadata": {},
     "output_type": "display_data"
    },
    {
     "data": {
      "text/plain": [
       "\"Update queue: [544.511, 543.037, 543.256, 544.2, 543.024, 544.169]\""
      ]
     },
     "metadata": {},
     "output_type": "display_data"
    },
    {
     "data": {
      "text/plain": [
       "\"Time of the next update: 543.024321240267\""
      ]
     },
     "metadata": {},
     "output_type": "display_data"
    },
    {
     "data": {
      "text/plain": [
       "\"Next index to update: 6\""
      ]
     },
     "metadata": {},
     "output_type": "display_data"
    },
    {
     "data": {
      "text/plain": [
       "\"Time is: 543.024321240267\""
      ]
     },
     "metadata": {},
     "output_type": "display_data"
    },
    {
     "data": {
      "text/plain": [
       "\"Residual: 0.08130847451757897\""
      ]
     },
     "metadata": {},
     "output_type": "display_data"
    },
    {
     "data": {
      "text/plain": [
       "\"New β is: 0.9942363112391931\""
      ]
     },
     "metadata": {},
     "output_type": "display_data"
    },
    {
     "data": {
      "text/plain": [
       "\"Update queue: [545.875, 544.622, 545.788, 545.651, 544.551, 545.615]\""
      ]
     },
     "metadata": {},
     "output_type": "display_data"
    },
    {
     "data": {
      "text/plain": [
       "\"Time of the next update: 544.5507711002375\""
      ]
     },
     "metadata": {},
     "output_type": "display_data"
    },
    {
     "data": {
      "text/plain": [
       "\"Next index to update: 6\""
      ]
     },
     "metadata": {},
     "output_type": "display_data"
    },
    {
     "data": {
      "text/plain": [
       "\"Time is: 544.5507711002375\""
      ]
     },
     "metadata": {},
     "output_type": "display_data"
    },
    {
     "data": {
      "text/plain": [
       "\"Residual: 0.08116693250925766\""
      ]
     },
     "metadata": {},
     "output_type": "display_data"
    },
    {
     "data": {
      "text/plain": [
       "\"New β is: 0.9942528735632183\""
      ]
     },
     "metadata": {},
     "output_type": "display_data"
    },
    {
     "data": {
      "text/plain": [
       "\"Update queue: [547.266, 546.168, 547.217, 547.1, 546.127, 547.006]\""
      ]
     },
     "metadata": {},
     "output_type": "display_data"
    },
    {
     "data": {
      "text/plain": [
       "\"Time of the next update: 546.1269654772348\""
      ]
     },
     "metadata": {},
     "output_type": "display_data"
    },
    {
     "data": {
      "text/plain": [
       "\"Next index to update: 6\""
      ]
     },
     "metadata": {},
     "output_type": "display_data"
    },
    {
     "data": {
      "text/plain": [
       "\"Time is: 546.1269654772348\""
      ]
     },
     "metadata": {},
     "output_type": "display_data"
    },
    {
     "data": {
      "text/plain": [
       "\"Residual: 0.08099526685472291\""
      ]
     },
     "metadata": {},
     "output_type": "display_data"
    },
    {
     "data": {
      "text/plain": [
       "\"New β is: 0.994269340974212\""
      ]
     },
     "metadata": {},
     "output_type": "display_data"
    },
    {
     "data": {
      "text/plain": [
       "\"Update queue: [548.806, 547.767, 548.479, 548.504, 547.721, 548.422]\""
      ]
     },
     "metadata": {},
     "output_type": "display_data"
    },
    {
     "data": {
      "text/plain": [
       "\"Time of the next update: 547.7207313951369\""
      ]
     },
     "metadata": {},
     "output_type": "display_data"
    },
    {
     "data": {
      "text/plain": [
       "\"Next index to update: 6\""
      ]
     },
     "metadata": {},
     "output_type": "display_data"
    },
    {
     "data": {
      "text/plain": [
       "\"Time is: 547.7207313951369\""
      ]
     },
     "metadata": {},
     "output_type": "display_data"
    },
    {
     "data": {
      "text/plain": [
       "\"Residual: 0.0808599054968814\""
      ]
     },
     "metadata": {},
     "output_type": "display_data"
    },
    {
     "data": {
      "text/plain": [
       "\"New β is: 0.9942857142857143\""
      ]
     },
     "metadata": {},
     "output_type": "display_data"
    },
    {
     "data": {
      "text/plain": [
       "\"Update queue: [550.127, 549.437, 549.841, 549.947, 549.354, 549.848]\""
      ]
     },
     "metadata": {},
     "output_type": "display_data"
    },
    {
     "data": {
      "text/plain": [
       "\"Time of the next update: 549.3541191278964\""
      ]
     },
     "metadata": {},
     "output_type": "display_data"
    },
    {
     "data": {
      "text/plain": [
       "\"Next index to update: 6\""
      ]
     },
     "metadata": {},
     "output_type": "display_data"
    },
    {
     "data": {
      "text/plain": [
       "\"Time is: 549.3541191278964\""
      ]
     },
     "metadata": {},
     "output_type": "display_data"
    },
    {
     "data": {
      "text/plain": [
       "\"Residual: 0.08070680024704416\""
      ]
     },
     "metadata": {},
     "output_type": "display_data"
    },
    {
     "data": {
      "text/plain": [
       "\"New β is: 0.9943019943019943\""
      ]
     },
     "metadata": {},
     "output_type": "display_data"
    },
    {
     "data": {
      "text/plain": [
       "\"Update queue: [551.461, 550.985, 551.248, 551.371, 550.913, 551.282]\""
      ]
     },
     "metadata": {},
     "output_type": "display_data"
    },
    {
     "data": {
      "text/plain": [
       "\"Time of the next update: 550.9128586359457\""
      ]
     },
     "metadata": {},
     "output_type": "display_data"
    },
    {
     "data": {
      "text/plain": [
       "\"Next index to update: 6\""
      ]
     },
     "metadata": {},
     "output_type": "display_data"
    },
    {
     "data": {
      "text/plain": [
       "\"Time is: 550.9128586359457\""
      ]
     },
     "metadata": {},
     "output_type": "display_data"
    },
    {
     "data": {
      "text/plain": [
       "\"Residual: 0.08056813775835364\""
      ]
     },
     "metadata": {},
     "output_type": "display_data"
    },
    {
     "data": {
      "text/plain": [
       "\"New β is: 0.9943181818181818\""
      ]
     },
     "metadata": {},
     "output_type": "display_data"
    },
    {
     "data": {
      "text/plain": [
       "\"Update queue: [553.067, 552.53, 553.794, 552.766, 552.503, 552.675]\""
      ]
     },
     "metadata": {},
     "output_type": "display_data"
    },
    {
     "data": {
      "text/plain": [
       "\"Time of the next update: 552.5028473100559\""
      ]
     },
     "metadata": {},
     "output_type": "display_data"
    },
    {
     "data": {
      "text/plain": [
       "\"Next index to update: 6\""
      ]
     },
     "metadata": {},
     "output_type": "display_data"
    },
    {
     "data": {
      "text/plain": [
       "\"Time is: 552.5028473100559\""
      ]
     },
     "metadata": {},
     "output_type": "display_data"
    },
    {
     "data": {
      "text/plain": [
       "\"Residual: 0.08040924999937096\""
      ]
     },
     "metadata": {},
     "output_type": "display_data"
    },
    {
     "data": {
      "text/plain": [
       "\"New β is: 0.9943342776203966\""
      ]
     },
     "metadata": {},
     "output_type": "display_data"
    },
    {
     "data": {
      "text/plain": [
       "\"Update queue: [554.512, 554.147, 555.246, 554.163, 554.082, 555.48]\""
      ]
     },
     "metadata": {},
     "output_type": "display_data"
    },
    {
     "data": {
      "text/plain": [
       "\"Time of the next update: 554.0816669003087\""
      ]
     },
     "metadata": {},
     "output_type": "display_data"
    },
    {
     "data": {
      "text/plain": [
       "\"Next index to update: 6\""
      ]
     },
     "metadata": {},
     "output_type": "display_data"
    },
    {
     "data": {
      "text/plain": [
       "\"Time is: 554.0816669003087\""
      ]
     },
     "metadata": {},
     "output_type": "display_data"
    },
    {
     "data": {
      "text/plain": [
       "\"Residual: 0.08020371561479488\""
      ]
     },
     "metadata": {},
     "output_type": "display_data"
    },
    {
     "data": {
      "text/plain": [
       "\"New β is: 0.9943502824858758\""
      ]
     },
     "metadata": {},
     "output_type": "display_data"
    },
    {
     "data": {
      "text/plain": [
       "\"Update queue: [555.777, 555.698, 556.28, 557.05, 555.605, 556.849]\""
      ]
     },
     "metadata": {},
     "output_type": "display_data"
    },
    {
     "data": {
      "text/plain": [
       "\"Time of the next update: 555.6046076590289\""
      ]
     },
     "metadata": {},
     "output_type": "display_data"
    },
    {
     "data": {
      "text/plain": [
       "\"Next index to update: 6\""
      ]
     },
     "metadata": {},
     "output_type": "display_data"
    },
    {
     "data": {
      "text/plain": [
       "\"Time is: 555.6046076590289\""
      ]
     },
     "metadata": {},
     "output_type": "display_data"
    },
    {
     "data": {
      "text/plain": [
       "\"Residual: 0.07994502224240824\""
      ]
     },
     "metadata": {},
     "output_type": "display_data"
    },
    {
     "data": {
      "text/plain": [
       "\"New β is: 0.9943661971830986\""
      ]
     },
     "metadata": {},
     "output_type": "display_data"
    },
    {
     "data": {
      "text/plain": [
       "\"Update queue: [558.177, 557.249, 557.427, 558.44, 557.223, 558.265]\""
      ]
     },
     "metadata": {},
     "output_type": "display_data"
    },
    {
     "data": {
      "text/plain": [
       "\"Time of the next update: 557.2233519550916\""
      ]
     },
     "metadata": {},
     "output_type": "display_data"
    },
    {
     "data": {
      "text/plain": [
       "\"Next index to update: 6\""
      ]
     },
     "metadata": {},
     "output_type": "display_data"
    },
    {
     "data": {
      "text/plain": [
       "\"Time is: 557.2233519550916\""
      ]
     },
     "metadata": {},
     "output_type": "display_data"
    },
    {
     "data": {
      "text/plain": [
       "\"Residual: 0.0797431467495342\""
      ]
     },
     "metadata": {},
     "output_type": "display_data"
    },
    {
     "data": {
      "text/plain": [
       "\"New β is: 0.9943820224719101\""
      ]
     },
     "metadata": {},
     "output_type": "display_data"
    },
    {
     "data": {
      "text/plain": [
       "\"Update queue: [559.551, 558.817, 559.998, 559.771, 558.768, 559.687]\""
      ]
     },
     "metadata": {},
     "output_type": "display_data"
    },
    {
     "data": {
      "text/plain": [
       "\"Time of the next update: 558.7676356006526\""
      ]
     },
     "metadata": {},
     "output_type": "display_data"
    },
    {
     "data": {
      "text/plain": [
       "\"Next index to update: 6\""
      ]
     },
     "metadata": {},
     "output_type": "display_data"
    },
    {
     "data": {
      "text/plain": [
       "\"Time is: 558.7676356006526\""
      ]
     },
     "metadata": {},
     "output_type": "display_data"
    },
    {
     "data": {
      "text/plain": [
       "\"Residual: 0.0796064660270429\""
      ]
     },
     "metadata": {},
     "output_type": "display_data"
    },
    {
     "data": {
      "text/plain": [
       "\"New β is: 0.9943977591036415\""
      ]
     },
     "metadata": {},
     "output_type": "display_data"
    },
    {
     "data": {
      "text/plain": [
       "\"Update queue: [560.976, 560.389, 561.38, 561.186, 560.374, 561.091]\""
      ]
     },
     "metadata": {},
     "output_type": "display_data"
    },
    {
     "data": {
      "text/plain": [
       "\"Time of the next update: 560.3740901183812\""
      ]
     },
     "metadata": {},
     "output_type": "display_data"
    },
    {
     "data": {
      "text/plain": [
       "\"Next index to update: 6\""
      ]
     },
     "metadata": {},
     "output_type": "display_data"
    },
    {
     "data": {
      "text/plain": [
       "\"Time is: 560.3740901183812\""
      ]
     },
     "metadata": {},
     "output_type": "display_data"
    },
    {
     "data": {
      "text/plain": [
       "\"Residual: 0.07943652294396683\""
      ]
     },
     "metadata": {},
     "output_type": "display_data"
    },
    {
     "data": {
      "text/plain": [
       "\"New β is: 0.994413407821229\""
      ]
     },
     "metadata": {},
     "output_type": "display_data"
    },
    {
     "data": {
      "text/plain": [
       "\"Update queue: [562.251, 561.998, 562.798, 562.597, 562.016, 562.621]\""
      ]
     },
     "metadata": {},
     "output_type": "display_data"
    },
    {
     "data": {
      "text/plain": [
       "\"Time of the next update: 561.9979806967962\""
      ]
     },
     "metadata": {},
     "output_type": "display_data"
    },
    {
     "data": {
      "text/plain": [
       "\"Next index to update: 2\""
      ]
     },
     "metadata": {},
     "output_type": "display_data"
    },
    {
     "data": {
      "text/plain": [
       "\"Time is: 561.9979806967962\""
      ]
     },
     "metadata": {},
     "output_type": "display_data"
    },
    {
     "data": {
      "text/plain": [
       "\"Residual: 0.07926130516309765\""
      ]
     },
     "metadata": {},
     "output_type": "display_data"
    },
    {
     "data": {
      "text/plain": [
       "\"New β is: 0.9944289693593314\""
      ]
     },
     "metadata": {},
     "output_type": "display_data"
    },
    {
     "data": {
      "text/plain": [
       "\"Update queue: [565.081, 563.627, 564.121, 564.006, 563.574, 564.002]\""
      ]
     },
     "metadata": {},
     "output_type": "display_data"
    },
    {
     "data": {
      "text/plain": [
       "\"Time of the next update: 563.5743318298187\""
      ]
     },
     "metadata": {},
     "output_type": "display_data"
    },
    {
     "data": {
      "text/plain": [
       "\"Next index to update: 6\""
      ]
     },
     "metadata": {},
     "output_type": "display_data"
    },
    {
     "data": {
      "text/plain": [
       "\"Time is: 563.5743318298187\""
      ]
     },
     "metadata": {},
     "output_type": "display_data"
    },
    {
     "data": {
      "text/plain": [
       "\"Residual: 0.07909489124355282\""
      ]
     },
     "metadata": {},
     "output_type": "display_data"
    },
    {
     "data": {
      "text/plain": [
       "\"New β is: 0.9944444444444445\""
      ]
     },
     "metadata": {},
     "output_type": "display_data"
    },
    {
     "data": {
      "text/plain": [
       "\"Update queue: [566.438, 565.179, 565.522, 565.443, 565.127, 565.379]\""
      ]
     },
     "metadata": {},
     "output_type": "display_data"
    },
    {
     "data": {
      "text/plain": [
       "\"Time of the next update: 565.1273007569489\""
      ]
     },
     "metadata": {},
     "output_type": "display_data"
    },
    {
     "data": {
      "text/plain": [
       "\"Next index to update: 6\""
      ]
     },
     "metadata": {},
     "output_type": "display_data"
    },
    {
     "data": {
      "text/plain": [
       "\"Time is: 565.1273007569489\""
      ]
     },
     "metadata": {},
     "output_type": "display_data"
    },
    {
     "data": {
      "text/plain": [
       "\"Residual: 0.07894088694136751\""
      ]
     },
     "metadata": {},
     "output_type": "display_data"
    },
    {
     "data": {
      "text/plain": [
       "\"New β is: 0.9944598337950139\""
      ]
     },
     "metadata": {},
     "output_type": "display_data"
    },
    {
     "data": {
      "text/plain": [
       "\"Update queue: [567.766, 566.783, 566.927, 566.88, 566.709, 566.739]\""
      ]
     },
     "metadata": {},
     "output_type": "display_data"
    },
    {
     "data": {
      "text/plain": [
       "\"Time of the next update: 566.7088417795574\""
      ]
     },
     "metadata": {},
     "output_type": "display_data"
    },
    {
     "data": {
      "text/plain": [
       "\"Next index to update: 6\""
      ]
     },
     "metadata": {},
     "output_type": "display_data"
    },
    {
     "data": {
      "text/plain": [
       "\"Time is: 566.7088417795574\""
      ]
     },
     "metadata": {},
     "output_type": "display_data"
    },
    {
     "data": {
      "text/plain": [
       "\"Residual: 0.07879103184940071\""
      ]
     },
     "metadata": {},
     "output_type": "display_data"
    },
    {
     "data": {
      "text/plain": [
       "\"New β is: 0.994475138121547\""
      ]
     },
     "metadata": {},
     "output_type": "display_data"
    },
    {
     "data": {
      "text/plain": [
       "\"Update queue: [569.203, 568.302, 568.378, 568.31, 568.295, 569.614]\""
      ]
     },
     "metadata": {},
     "output_type": "display_data"
    },
    {
     "data": {
      "text/plain": [
       "\"Time of the next update: 568.2951014402752\""
      ]
     },
     "metadata": {},
     "output_type": "display_data"
    },
    {
     "data": {
      "text/plain": [
       "\"Next index to update: 6\""
      ]
     },
     "metadata": {},
     "output_type": "display_data"
    },
    {
     "data": {
      "text/plain": [
       "\"Time is: 568.2951014402752\""
      ]
     },
     "metadata": {},
     "output_type": "display_data"
    },
    {
     "data": {
      "text/plain": [
       "\"Residual: 0.07855518651860208\""
      ]
     },
     "metadata": {},
     "output_type": "display_data"
    },
    {
     "data": {
      "text/plain": [
       "\"New β is: 0.9944903581267217\""
      ]
     },
     "metadata": {},
     "output_type": "display_data"
    },
    {
     "data": {
      "text/plain": [
       "\"Update queue: [570.536, 569.886, 569.929, 571.126, 569.823, 571.04]\""
      ]
     },
     "metadata": {},
     "output_type": "display_data"
    },
    {
     "data": {
      "text/plain": [
       "\"Time of the next update: 569.8227324421771\""
      ]
     },
     "metadata": {},
     "output_type": "display_data"
    },
    {
     "data": {
      "text/plain": [
       "\"Next index to update: 6\""
      ]
     },
     "metadata": {},
     "output_type": "display_data"
    },
    {
     "data": {
      "text/plain": [
       "\"Time is: 569.8227324421771\""
      ]
     },
     "metadata": {},
     "output_type": "display_data"
    },
    {
     "data": {
      "text/plain": [
       "\"Residual: 0.07829800011527496\""
      ]
     },
     "metadata": {},
     "output_type": "display_data"
    },
    {
     "data": {
      "text/plain": [
       "\"New β is: 0.9945054945054945\""
      ]
     },
     "metadata": {},
     "output_type": "display_data"
    },
    {
     "data": {
      "text/plain": [
       "\"Update queue: [571.925, 571.435, 572.593, 572.478, 571.393, 572.497]\""
      ]
     },
     "metadata": {},
     "output_type": "display_data"
    },
    {
     "data": {
      "text/plain": [
       "\"Time of the next update: 571.393286206839\""
      ]
     },
     "metadata": {},
     "output_type": "display_data"
    },
    {
     "data": {
      "text/plain": [
       "\"Next index to update: 6\""
      ]
     },
     "metadata": {},
     "output_type": "display_data"
    },
    {
     "data": {
      "text/plain": [
       "\"Time is: 571.393286206839\""
      ]
     },
     "metadata": {},
     "output_type": "display_data"
    },
    {
     "data": {
      "text/plain": [
       "\"Residual: 0.07820429258236081\""
      ]
     },
     "metadata": {},
     "output_type": "display_data"
    },
    {
     "data": {
      "text/plain": [
       "\"New β is: 0.9945205479452055\""
      ]
     },
     "metadata": {},
     "output_type": "display_data"
    },
    {
     "data": {
      "text/plain": [
       "\"Update queue: [573.05, 573.036, 573.713, 573.937, 572.943, 573.948]\""
      ]
     },
     "metadata": {},
     "output_type": "display_data"
    },
    {
     "data": {
      "text/plain": [
       "\"Time of the next update: 572.9427864924498\""
      ]
     },
     "metadata": {},
     "output_type": "display_data"
    },
    {
     "data": {
      "text/plain": [
       "\"Next index to update: 6\""
      ]
     },
     "metadata": {},
     "output_type": "display_data"
    },
    {
     "data": {
      "text/plain": [
       "\"Time is: 572.9427864924498\""
      ]
     },
     "metadata": {},
     "output_type": "display_data"
    },
    {
     "data": {
      "text/plain": [
       "\"Residual: 0.07801380345336706\""
      ]
     },
     "metadata": {},
     "output_type": "display_data"
    },
    {
     "data": {
      "text/plain": [
       "\"New β is: 0.994535519125683\""
      ]
     },
     "metadata": {},
     "output_type": "display_data"
    },
    {
     "data": {
      "text/plain": [
       "\"Update queue: [575.684, 574.522, 575.129, 575.343, 574.479, 575.32]\""
      ]
     },
     "metadata": {},
     "output_type": "display_data"
    },
    {
     "data": {
      "text/plain": [
       "\"Time of the next update: 574.4794493456545\""
      ]
     },
     "metadata": {},
     "output_type": "display_data"
    },
    {
     "data": {
      "text/plain": [
       "\"Next index to update: 6\""
      ]
     },
     "metadata": {},
     "output_type": "display_data"
    },
    {
     "data": {
      "text/plain": [
       "\"Time is: 574.4794493456545\""
      ]
     },
     "metadata": {},
     "output_type": "display_data"
    },
    {
     "data": {
      "text/plain": [
       "\"Residual: 0.07789377131859765\""
      ]
     },
     "metadata": {},
     "output_type": "display_data"
    },
    {
     "data": {
      "text/plain": [
       "\"New β is: 0.9945504087193461\""
      ]
     },
     "metadata": {},
     "output_type": "display_data"
    },
    {
     "data": {
      "text/plain": [
       "\"Update queue: [576.978, 576.124, 576.459, 576.805, 576.053, 576.738]\""
      ]
     },
     "metadata": {},
     "output_type": "display_data"
    },
    {
     "data": {
      "text/plain": [
       "\"Time of the next update: 576.0534575240154\""
      ]
     },
     "metadata": {},
     "output_type": "display_data"
    },
    {
     "data": {
      "text/plain": [
       "\"Next index to update: 6\""
      ]
     },
     "metadata": {},
     "output_type": "display_data"
    },
    {
     "data": {
      "text/plain": [
       "\"Time is: 576.0534575240154\""
      ]
     },
     "metadata": {},
     "output_type": "display_data"
    },
    {
     "data": {
      "text/plain": [
       "\"Residual: 0.07775556886307187\""
      ]
     },
     "metadata": {},
     "output_type": "display_data"
    },
    {
     "data": {
      "text/plain": [
       "\"New β is: 0.9945652173913043\""
      ]
     },
     "metadata": {},
     "output_type": "display_data"
    },
    {
     "data": {
      "text/plain": [
       "\"Update queue: [578.182, 577.61, 577.954, 578.23, 577.618, 578.204]\""
      ]
     },
     "metadata": {},
     "output_type": "display_data"
    },
    {
     "data": {
      "text/plain": [
       "\"Time of the next update: 577.6101707625181\""
      ]
     },
     "metadata": {},
     "output_type": "display_data"
    },
    {
     "data": {
      "text/plain": [
       "\"Next index to update: 2\""
      ]
     },
     "metadata": {},
     "output_type": "display_data"
    },
    {
     "data": {
      "text/plain": [
       "\"Time is: 577.6101707625181\""
      ]
     },
     "metadata": {},
     "output_type": "display_data"
    },
    {
     "data": {
      "text/plain": [
       "\"Residual: 0.07762961960099467\""
      ]
     },
     "metadata": {},
     "output_type": "display_data"
    },
    {
     "data": {
      "text/plain": [
       "\"New β is: 0.994579945799458\""
      ]
     },
     "metadata": {},
     "output_type": "display_data"
    },
    {
     "data": {
      "text/plain": [
       "\"Update queue: [579.5, 579.232, 579.253, 579.649, 579.158, 579.652]\""
      ]
     },
     "metadata": {},
     "output_type": "display_data"
    },
    {
     "data": {
      "text/plain": [
       "\"Time of the next update: 579.1580095571584\""
      ]
     },
     "metadata": {},
     "output_type": "display_data"
    },
    {
     "data": {
      "text/plain": [
       "\"Next index to update: 6\""
      ]
     },
     "metadata": {},
     "output_type": "display_data"
    },
    {
     "data": {
      "text/plain": [
       "\"Time is: 579.1580095571584\""
      ]
     },
     "metadata": {},
     "output_type": "display_data"
    },
    {
     "data": {
      "text/plain": [
       "\"Residual: 0.07749665894335434\""
      ]
     },
     "metadata": {},
     "output_type": "display_data"
    },
    {
     "data": {
      "text/plain": [
       "\"New β is: 0.9945945945945946\""
      ]
     },
     "metadata": {},
     "output_type": "display_data"
    },
    {
     "data": {
      "text/plain": [
       "\"Update queue: [580.774, 580.716, 581.843, 581.09, 580.737, 581.073]\""
      ]
     },
     "metadata": {},
     "output_type": "display_data"
    },
    {
     "data": {
      "text/plain": [
       "\"Time of the next update: 580.7155708897955\""
      ]
     },
     "metadata": {},
     "output_type": "display_data"
    },
    {
     "data": {
      "text/plain": [
       "\"Next index to update: 2\""
      ]
     },
     "metadata": {},
     "output_type": "display_data"
    },
    {
     "data": {
      "text/plain": [
       "\"Time is: 580.7155708897955\""
      ]
     },
     "metadata": {},
     "output_type": "display_data"
    },
    {
     "data": {
      "text/plain": [
       "\"Residual: 0.07737738548325088\""
      ]
     },
     "metadata": {},
     "output_type": "display_data"
    },
    {
     "data": {
      "text/plain": [
       "\"New β is: 0.9946091644204852\""
      ]
     },
     "metadata": {},
     "output_type": "display_data"
    },
    {
     "data": {
      "text/plain": [
       "\"Update queue: [583.395, 582.269, 583.218, 582.525, 582.246, 582.471]\""
      ]
     },
     "metadata": {},
     "output_type": "display_data"
    },
    {
     "data": {
      "text/plain": [
       "\"Time of the next update: 582.2459603502859\""
      ]
     },
     "metadata": {},
     "output_type": "display_data"
    },
    {
     "data": {
      "text/plain": [
       "\"Next index to update: 6\""
      ]
     },
     "metadata": {},
     "output_type": "display_data"
    },
    {
     "data": {
      "text/plain": [
       "\"Time is: 582.2459603502859\""
      ]
     },
     "metadata": {},
     "output_type": "display_data"
    },
    {
     "data": {
      "text/plain": [
       "\"Residual: 0.07725158132066083\""
      ]
     },
     "metadata": {},
     "output_type": "display_data"
    },
    {
     "data": {
      "text/plain": [
       "\"New β is: 0.9946236559139785\""
      ]
     },
     "metadata": {},
     "output_type": "display_data"
    },
    {
     "data": {
      "text/plain": [
       "\"Update queue: [584.712, 583.914, 584.448, 583.856, 583.837, 583.88]\""
      ]
     },
     "metadata": {},
     "output_type": "display_data"
    },
    {
     "data": {
      "text/plain": [
       "\"Time of the next update: 583.8372082014226\""
      ]
     },
     "metadata": {},
     "output_type": "display_data"
    },
    {
     "data": {
      "text/plain": [
       "\"Next index to update: 6\""
      ]
     },
     "metadata": {},
     "output_type": "display_data"
    },
    {
     "data": {
      "text/plain": [
       "\"Time is: 583.8372082014226\""
      ]
     },
     "metadata": {},
     "output_type": "display_data"
    },
    {
     "data": {
      "text/plain": [
       "\"Residual: 0.07711586168342943\""
      ]
     },
     "metadata": {},
     "output_type": "display_data"
    },
    {
     "data": {
      "text/plain": [
       "\"New β is: 0.9946380697050938\""
      ]
     },
     "metadata": {},
     "output_type": "display_data"
    },
    {
     "data": {
      "text/plain": [
       "\"Update queue: [586.176, 585.453, 585.736, 586.593, 585.437, 586.822]\""
      ]
     },
     "metadata": {},
     "output_type": "display_data"
    },
    {
     "data": {
      "text/plain": [
       "\"Time of the next update: 585.4367006752743\""
      ]
     },
     "metadata": {},
     "output_type": "display_data"
    },
    {
     "data": {
      "text/plain": [
       "\"Next index to update: 6\""
      ]
     },
     "metadata": {},
     "output_type": "display_data"
    },
    {
     "data": {
      "text/plain": [
       "\"Time is: 585.4367006752743\""
      ]
     },
     "metadata": {},
     "output_type": "display_data"
    },
    {
     "data": {
      "text/plain": [
       "\"Residual: 0.0768498146122358\""
      ]
     },
     "metadata": {},
     "output_type": "display_data"
    },
    {
     "data": {
      "text/plain": [
       "\"New β is: 0.9946524064171123\""
      ]
     },
     "metadata": {},
     "output_type": "display_data"
    },
    {
     "data": {
      "text/plain": [
       "\"Update queue: [587.536, 587.065, 588.376, 587.971, 587.054, 588.2]\""
      ]
     },
     "metadata": {},
     "output_type": "display_data"
    },
    {
     "data": {
      "text/plain": [
       "\"Time of the next update: 587.0538541197828\""
      ]
     },
     "metadata": {},
     "output_type": "display_data"
    },
    {
     "data": {
      "text/plain": [
       "\"Next index to update: 6\""
      ]
     },
     "metadata": {},
     "output_type": "display_data"
    },
    {
     "data": {
      "text/plain": [
       "\"Time is: 587.0538541197828\""
      ]
     },
     "metadata": {},
     "output_type": "display_data"
    },
    {
     "data": {
      "text/plain": [
       "\"Residual: 0.07672193820509839\""
      ]
     },
     "metadata": {},
     "output_type": "display_data"
    },
    {
     "data": {
      "text/plain": [
       "\"New β is: 0.9946666666666667\""
      ]
     },
     "metadata": {},
     "output_type": "display_data"
    },
    {
     "data": {
      "text/plain": [
       "\"Update queue: [588.967, 588.71, 589.743, 589.324, 588.645, 589.61]\""
      ]
     },
     "metadata": {},
     "output_type": "display_data"
    },
    {
     "data": {
      "text/plain": [
       "\"Time of the next update: 588.6449217432913\""
      ]
     },
     "metadata": {},
     "output_type": "display_data"
    },
    {
     "data": {
      "text/plain": [
       "\"Next index to update: 6\""
      ]
     },
     "metadata": {},
     "output_type": "display_data"
    },
    {
     "data": {
      "text/plain": [
       "\"Time is: 588.6449217432913\""
      ]
     },
     "metadata": {},
     "output_type": "display_data"
    },
    {
     "data": {
      "text/plain": [
       "\"Residual: 0.07656604436381062\""
      ]
     },
     "metadata": {},
     "output_type": "display_data"
    },
    {
     "data": {
      "text/plain": [
       "\"New β is: 0.9946808510638298\""
      ]
     },
     "metadata": {},
     "output_type": "display_data"
    },
    {
     "data": {
      "text/plain": [
       "\"Update queue: [590.315, 590.335, 590.983, 590.721, 590.218, 591.007]\""
      ]
     },
     "metadata": {},
     "output_type": "display_data"
    },
    {
     "data": {
      "text/plain": [
       "\"Time of the next update: 590.2176513593868\""
      ]
     },
     "metadata": {},
     "output_type": "display_data"
    },
    {
     "data": {
      "text/plain": [
       "\"Next index to update: 6\""
      ]
     },
     "metadata": {},
     "output_type": "display_data"
    },
    {
     "data": {
      "text/plain": [
       "\"Time is: 590.2176513593868\""
      ]
     },
     "metadata": {},
     "output_type": "display_data"
    },
    {
     "data": {
      "text/plain": [
       "\"Residual: 0.07642877112590467\""
      ]
     },
     "metadata": {},
     "output_type": "display_data"
    },
    {
     "data": {
      "text/plain": [
       "\"New β is: 0.9946949602122016\""
      ]
     },
     "metadata": {},
     "output_type": "display_data"
    },
    {
     "data": {
      "text/plain": [
       "\"Update queue: [591.802, 591.797, 592.218, 592.137, 591.785, 592.466]\""
      ]
     },
     "metadata": {},
     "output_type": "display_data"
    },
    {
     "data": {
      "text/plain": [
       "\"Time of the next update: 591.7849179875604\""
      ]
     },
     "metadata": {},
     "output_type": "display_data"
    },
    {
     "data": {
      "text/plain": [
       "\"Next index to update: 6\""
      ]
     },
     "metadata": {},
     "output_type": "display_data"
    },
    {
     "data": {
      "text/plain": [
       "\"Time is: 591.7849179875604\""
      ]
     },
     "metadata": {},
     "output_type": "display_data"
    },
    {
     "data": {
      "text/plain": [
       "\"Residual: 0.07627001270289505\""
      ]
     },
     "metadata": {},
     "output_type": "display_data"
    },
    {
     "data": {
      "text/plain": [
       "\"New β is: 0.9947089947089947\""
      ]
     },
     "metadata": {},
     "output_type": "display_data"
    },
    {
     "data": {
      "text/plain": [
       "\"Update queue: [594.575, 593.401, 593.704, 593.595, 593.362, 593.913]\""
      ]
     },
     "metadata": {},
     "output_type": "display_data"
    },
    {
     "data": {
      "text/plain": [
       "\"Time of the next update: 593.3617396776568\""
      ]
     },
     "metadata": {},
     "output_type": "display_data"
    },
    {
     "data": {
      "text/plain": [
       "\"Next index to update: 6\""
      ]
     },
     "metadata": {},
     "output_type": "display_data"
    },
    {
     "data": {
      "text/plain": [
       "\"Time is: 593.3617396776568\""
      ]
     },
     "metadata": {},
     "output_type": "display_data"
    },
    {
     "data": {
      "text/plain": [
       "\"Residual: 0.07612058822785299\""
      ]
     },
     "metadata": {},
     "output_type": "display_data"
    },
    {
     "data": {
      "text/plain": [
       "\"New β is: 0.9947229551451188\""
      ]
     },
     "metadata": {},
     "output_type": "display_data"
    },
    {
     "data": {
      "text/plain": [
       "\"Update queue: [595.942, 594.967, 595.027, 595.063, 594.896, 595.358]\""
      ]
     },
     "metadata": {},
     "output_type": "display_data"
    },
    {
     "data": {
      "text/plain": [
       "\"Time of the next update: 594.8958427079795\""
      ]
     },
     "metadata": {},
     "output_type": "display_data"
    },
    {
     "data": {
      "text/plain": [
       "\"Next index to update: 6\""
      ]
     },
     "metadata": {},
     "output_type": "display_data"
    },
    {
     "data": {
      "text/plain": [
       "\"Time is: 594.8958427079795\""
      ]
     },
     "metadata": {},
     "output_type": "display_data"
    },
    {
     "data": {
      "text/plain": [
       "\"Residual: 0.07597723584511282\""
      ]
     },
     "metadata": {},
     "output_type": "display_data"
    },
    {
     "data": {
      "text/plain": [
       "\"New β is: 0.9947368421052631\""
      ]
     },
     "metadata": {},
     "output_type": "display_data"
    },
    {
     "data": {
      "text/plain": [
       "\"Update queue: [597.337, 596.528, 596.54, 597.894, 596.5, 596.753]\""
      ]
     },
     "metadata": {},
     "output_type": "display_data"
    },
    {
     "data": {
      "text/plain": [
       "\"Time of the next update: 596.500234943449\""
      ]
     },
     "metadata": {},
     "output_type": "display_data"
    },
    {
     "data": {
      "text/plain": [
       "\"Next index to update: 6\""
      ]
     },
     "metadata": {},
     "output_type": "display_data"
    },
    {
     "data": {
      "text/plain": [
       "\"Time is: 596.500234943449\""
      ]
     },
     "metadata": {},
     "output_type": "display_data"
    },
    {
     "data": {
      "text/plain": [
       "\"Residual: 0.07580810386165275\""
      ]
     },
     "metadata": {},
     "output_type": "display_data"
    },
    {
     "data": {
      "text/plain": [
       "\"New β is: 0.994750656167979\""
      ]
     },
     "metadata": {},
     "output_type": "display_data"
    },
    {
     "data": {
      "text/plain": [
       "\"Update queue: [598.646, 598.09, 599.288, 599.293, 598.08, 598.185]\""
      ]
     },
     "metadata": {},
     "output_type": "display_data"
    },
    {
     "data": {
      "text/plain": [
       "\"Time of the next update: 598.0798229556498\""
      ]
     },
     "metadata": {},
     "output_type": "display_data"
    },
    {
     "data": {
      "text/plain": [
       "\"Next index to update: 6\""
      ]
     },
     "metadata": {},
     "output_type": "display_data"
    },
    {
     "data": {
      "text/plain": [
       "\"Time is: 598.0798229556498\""
      ]
     },
     "metadata": {},
     "output_type": "display_data"
    },
    {
     "data": {
      "text/plain": [
       "\"Residual: 0.07561820177275493\""
      ]
     },
     "metadata": {},
     "output_type": "display_data"
    },
    {
     "data": {
      "text/plain": [
       "\"New β is: 0.9947643979057592\""
      ]
     },
     "metadata": {},
     "output_type": "display_data"
    },
    {
     "data": {
      "text/plain": [
       "\"Update queue: [599.875, 599.723, 600.488, 600.762, 599.625, 600.973]\""
      ]
     },
     "metadata": {},
     "output_type": "display_data"
    },
    {
     "data": {
      "text/plain": [
       "\"Time of the next update: 599.625066454184\""
      ]
     },
     "metadata": {},
     "output_type": "display_data"
    },
    {
     "data": {
      "text/plain": [
       "\"Next index to update: 6\""
      ]
     },
     "metadata": {},
     "output_type": "display_data"
    },
    {
     "data": {
      "text/plain": [
       "\"Time is: 599.625066454184\""
      ]
     },
     "metadata": {},
     "output_type": "display_data"
    },
    {
     "data": {
      "text/plain": [
       "\"Residual: 0.0754628937128862\""
      ]
     },
     "metadata": {},
     "output_type": "display_data"
    },
    {
     "data": {
      "text/plain": [
       "\"New β is: 0.9947780678851175\""
      ]
     },
     "metadata": {},
     "output_type": "display_data"
    },
    {
     "data": {
      "text/plain": [
       "(AsynchronousProximalGradient.AsInPGM(Any[U[i,j] ∀ i ∈ {1,2,…,18,19}, j ∈ {1,2,…,92,93}, U[i,j] ∀ i ∈ {1,2,3,4,5}, j ∈ {1,2,…,92,93}, U[i,j] ∀ i ∈ {1,2,…,17,18}, j ∈ {1,2,…,92,93}, U[i,j] ∀ i ∈ {1,2,…,17,18}, j ∈ {1,2,…,92,93}, U[i,j] ∀ i ∈ {1,2,…,18,19}, j ∈ {1,2,…,92,93}], Any[Y[i,j] ∀ i ∈ {1,2,…,18,19}, j ∈ {1,2,…,92,93}, Y[i,j] ∀ i ∈ {1,2,3,4,5}, j ∈ {1,2,…,92,93}, Y[i,j] ∀ i ∈ {1,2,…,17,18}, j ∈ {1,2,…,92,93}, Y[i,j] ∀ i ∈ {1,2,…,17,18}, j ∈ {1,2,…,92,93}, Y[i,j] ∀ i ∈ {1,2,…,18,19}, j ∈ {1,2,…,92,93}], Any[X[i,j] ∀ i ∈ {1,2,…,56,57}, j ∈ {1,2,…,92,93}, X[i,j] ∀ i ∈ {1,2,…,14,15}, j ∈ {1,2,…,92,93}, X[i,j] ∀ i ∈ {1,2,…,53,54}, j ∈ {1,2,…,92,93}, X[i,j] ∀ i ∈ {1,2,…,53,54}, j ∈ {1,2,…,92,93}, X[i,j] ∀ i ∈ {1,2,…,56,57}, j ∈ {1,2,…,92,93}], Any[p_CB[i] ∀ i ∈ {1,2,…,92,93}, p_CB[i] ∀ i ∈ {1,2,…,92,93}, p_CB[i] ∀ i ∈ {1,2,…,92,93}, p_CB[i] ∀ i ∈ {1,2,…,92,93}, p_CB[i] ∀ i ∈ {1,2,…,92,93}], [0.0155594 0.00188381 … 0.0104732 0.0155593; 0.0121759 0.00186018 … 0.0104031 0.0121759; … ; 0.0416887 0.00157458 … 0.0165679 0.0398343; 0.0285569 0.00158066 … 0.0166018 0.0286684], [0.0155594 0.00188381 … 0.0104732 0.0155593; 0.0121759 0.00186018 … 0.0104031 0.0121759; … ; 0.0416887 0.00157458 … 0.0165679 0.0398343; 0.0285569 0.00158066 … 0.0166018 0.0286684], [-0.169592, -0.0731702, -0.138791, -0.00388258, -0.0147193, 0.0135071, 0.0444382, 0.080473, -0.0759479, -0.0380877  …  0.0252424, 0.00100541, 0.0315694, 0.028675, 0.0862024, -0.00291007, 0.0236139, 0.0901794, 0.194019, -0.0110466], [-0.169592, -0.0731702, -0.138791, -0.00388259, -0.0147193, 0.0135071, 0.0444382, 0.080473, -0.0759479, -0.0380877  …  0.0252422, 0.00100558, 0.0315695, 0.0286752, 0.0862019, -0.00290974, 0.0236143, 0.0901796, 0.194016, -0.0110465], [0.0, 1.76638, 1.62661, 1.58299, 1.61356, 1.68291, 1.69108, 1.7514, 1.80795, 1.85054  …  0.0754471, 0.0754519, 0.0754541, 0.0754555, 0.0754535, 0.0754533, 0.0754489, 0.075443, 0.0754366, 0.0754306], [0.0155593 0.0155594 … 0.0155592 0.0155594; 0.0121759 0.0121759 … 0.0121758 0.0121759; … ; 0.0398343 0.0398343 … 0.0398359 0.0398343; 0.0286684 0.0286684 … 0.0286683 0.0286684], [-0.169592 -0.169592 … -0.169592 -0.169592; -0.0731702 -0.0731702 … -0.0731702 -0.0731702; … ; 0.193992 0.194007 … 0.193983 0.194019; -0.0110452 -0.0110459 … -0.0110448 -0.0110466], [0.0155592 0.0155594 … 0.0155592 0.0; 0.0121758 0.0121759 … 0.0121758 0.0; … ; 0.0398343 0.0398343 … 0.0398505 0.0; 0.0286684 0.0286684 … 0.0286673 0.0], [0.0 0.0 … 0.0 -0.169592; 0.0 0.0 … 0.0 -0.0731702; … ; 0.0 0.0 … 0.0 0.194016; 0.0 0.0 … 0.0 -0.0110465]), [0.0, 0.025132, 0.0415413, 0.0616535, 0.0814183, 0.0964118, 0.0977025, 0.125697, 0.143278, 0.159637  …  599.848, 599.866, 599.875, 599.887, 599.909, 599.919, 599.929, 599.952, 599.977, 600.001], [0, 5, 5, 5, 5, 5, 2, 5, 5, 5  …  5, 5, 1, 5, 5, 2, 5, 5, 5, 5], [422.0, 6089.0, 452.0, 454.0, 422.0, 30283.0])"
      ]
     },
     "execution_count": 12,
     "metadata": {},
     "output_type": "execute_result"
    }
   ],
   "source": [
    "############################################################################\n",
    "## Solve one optimal control instance: Asynchronous Inertial PGM           #\n",
    "############################################################################\n",
    "\n",
    "# initialize AsInPGM (call to constructor)\n",
    "async_pgm_u, async_pgm_y, async_pgm_x, async_pgm_v, async_pgm_P_CB, async_pgm_P_CB_prev, async_pgm_P_BESS, async_pgm_P_BESS_prev, async_pgm_RES, async_pgm_P_CB_local, async_pgm_P_BESS_local, async_pgm_P_CB_local_prev, async_pgm_P_BESS_local_prev = AsynchronousProximalGradient.setupAsInPGM(AgentCB, N, T)\n",
    "async_pgm_init = AsynchronousProximalGradient.AsInPGM(async_pgm_u, async_pgm_y, async_pgm_x, async_pgm_v, async_pgm_P_CB, async_pgm_P_CB_prev, async_pgm_P_BESS, async_pgm_P_BESS_prev, async_pgm_RES, async_pgm_P_CB_local, async_pgm_P_BESS_local, async_pgm_P_CB_local_prev, async_pgm_P_BESS_local_prev)\n",
    "\n",
    "# reset times\n",
    "UpdateQueue  = Dict{Int64,Float64}(zip(1:N+1, abs.(rndUpdate)))\n",
    "ExecTimesTot = UpdateQueue\n",
    "\n",
    "# solve\n",
    "η = 0.9  # under-relaxation\n",
    "β = 0.0  # heavy-ball acceleration\n",
    "as_agg_in_pgm, T4, UpdateSequence, NoUpdates4 = AsynchronousProximalGradient.AlgoAsInPGM(false, true, async_pgm_init, N, T, Tend, ExecTimesTot, ExecTimesMean, ExecTimesVar, optimizationModelProxCB, optimizationModelProxBESS, AgentBESS, AgentCB, Master, p_BESS_opt, v_p_CB_opt, η, β, δ, α)"
   ]
  },
  {
   "cell_type": "code",
   "execution_count": 14,
   "metadata": {
    "collapsed": false,
    "scrolled": true
   },
   "outputs": [
    {
     "ename": "LoadError",
     "evalue": "\u001b[91mUndefVarError: as_pgm not defined\u001b[39m",
     "output_type": "error",
     "traceback": [
      "\u001b[91mUndefVarError: as_pgm not defined\u001b[39m",
      "",
      "Stacktrace:",
      " [1] \u001b[1minclude_string\u001b[22m\u001b[22m\u001b[1m(\u001b[22m\u001b[22m::String, ::String\u001b[1m)\u001b[22m\u001b[22m at \u001b[1m./loading.jl:522\u001b[22m\u001b[22m"
     ]
    }
   ],
   "source": [
    "# compare all outputs\n",
    "[vec(as_pgm.P_CB) vec(as_agg_pgm.P_CB) vec(as_agg_in_pgm.P_CB) pgm.P_CB v_p_CB_opt]"
   ]
  },
  {
   "cell_type": "code",
   "execution_count": 15,
   "metadata": {
    "collapsed": false
   },
   "outputs": [
    {
     "data": {
      "text/plain": [
       "38122×6 Array{Int64,2}:\n",
       "   0     0    0    0      1    0\n",
       "   0     0    0    0      2    0\n",
       "   0     0    0    0      3    0\n",
       "   0     0    0    0      4    0\n",
       "   0     0    0    0      5    0\n",
       "   0     1    0    0      5    0\n",
       "   0     1    0    0      6    0\n",
       "   0     1    0    0      7    0\n",
       "   0     1    0    0      8    0\n",
       "   0     1    0    0      9    0\n",
       "   0     1    0    0     10    0\n",
       "   0     1    0    0     11    0\n",
       "   0     1    0    0     12    0\n",
       "   ⋮                           ⋮\n",
       " 453  6087  452  422  30275  422\n",
       " 453  6088  452  422  30275  422\n",
       " 453  6088  452  422  30276  422\n",
       " 453  6088  452  422  30277  422\n",
       " 454  6088  452  422  30277  422\n",
       " 454  6088  452  422  30278  422\n",
       " 454  6088  452  422  30279  422\n",
       " 454  6089  452  422  30279  422\n",
       " 454  6089  452  422  30280  422\n",
       " 454  6089  452  422  30281  422\n",
       " 454  6089  452  422  30282  422\n",
       " 454  6089  452  422  30283  422"
      ]
     },
     "execution_count": 15,
     "metadata": {},
     "output_type": "execute_result"
    }
   ],
   "source": [
    "UpdateSequence\n",
    "UpdateSequenceMat = Array{Int64, 2}(length(UpdateSequence)-1,N+1)\n",
    "for i = 1:length(UpdateSequence)-1\n",
    "    UpdateSequenceMat[i,UpdateSequence[i+1]] = 1\n",
    "end\n",
    "cumsum(UpdateSequenceMat,1)"
   ]
  },
  {
   "cell_type": "code",
   "execution_count": 18,
   "metadata": {
    "collapsed": false,
    "scrolled": true
   },
   "outputs": [
    {
     "name": "stderr",
     "output_type": "stream",
     "text": [
      "\u001b[1m\u001b[33mWARNING: \u001b[39m\u001b[22m\u001b[33mtype ExecStats not present in workspace; reconstructing\u001b[39m\n"
     ]
    }
   ],
   "source": [
    "AgentCB_N5 = load(\"/Users/georgios/Documents/Research/GitHub/AsInFBS/data/AgentCB_N5.jld\", \"AgentCB_N5\")\n",
    "Stats_N5 = load(\"/Users/georgios/Documents/Research/GitHub/AsInFBS/data/Stats_N5.jld\", \"Stats_N5\")\n",
    "UpdateSequence_N5 = load(\"/Users/georgios/Documents/Research/GitHub/AsInFBS/data/UpdateSequence_N5.jld\", \"UpdateSequence_N5\");"
   ]
  },
  {
   "cell_type": "code",
   "execution_count": 19,
   "metadata": {
    "collapsed": false,
    "scrolled": true
   },
   "outputs": [
    {
     "data": {
      "text/plain": [
       "4-element Array{Array{Float64,1},1}:\n",
       " [1.11771, 1.04152, 0.998107, 0.96708, 0.943847, 0.925719, 0.910476, 0.89682, 0.884503, 0.873267  …  0.354915, 0.354569, 0.354225, 0.353882, 0.353539, 0.353197, 0.352856, 0.352516, 0.352177, 0.351839]\n",
       " [1.76638, 1.62661, 1.58299, 1.61356, 1.61303, 1.68237, 1.74733, 1.80478, 1.80476, 1.84847  …  0.127754, 0.127725, 0.127725, 0.127721, 0.127717, 0.127717, 0.127714, 0.127711, 0.127686, 0.127683]      \n",
       " [1.76638, 1.62661, 1.58299, 1.58282, 1.61379, 1.67987, 1.74499, 1.80239, 1.80837, 1.84702  …  0.127045, 0.127043, 0.127043, 0.127042, 0.127041, 0.12704, 0.12704, 0.127039, 0.127038, 0.127037]        \n",
       " [1.76638, 1.58522, 1.84057, 1.84004, 2.03994, 2.1574, 2.21358, 2.22915, 2.2291, 2.20139  …  0.106301, 0.106313, 0.106316, 0.106312, 0.1063, 0.1063, 0.106285, 0.106269, 0.106254, 0.106254]            "
      ]
     },
     "execution_count": 19,
     "metadata": {},
     "output_type": "execute_result"
    }
   ],
   "source": [
    "t_vals = Stats_N5.updateInstants\n",
    "y_vals = Stats_N5.values"
   ]
  },
  {
   "cell_type": "code",
   "execution_count": 20,
   "metadata": {
    "collapsed": false,
    "scrolled": true
   },
   "outputs": [],
   "source": [
    "## Plotting residuals\n",
    "using Plots\n",
    "pgfplots()\n",
    "using LaTeXStrings\n",
    "\n",
    "# t = max(length(T1), max(length(T2), max(length(T3), length(T4))))\n",
    "# t_vals = Vector[T1[2:end], T2[2:end], T3[2:end], T4[2:end]]\n",
    "# y_vals = Vector[pgm.RES[2:end], as_pgm.RES[2:end], as_agg_pgm.RES[2:end], as_agg_in_pgm.RES[2:end]]\n",
    "labels = [\"Sync PGM\", \"Async PGM\", \"Async 'Aggregated' PGM\", \"Async Inertial PGM\"]\n",
    "\n",
    "Plot_N5 = plot(t_vals, y_vals, color=[:black :orange :green :blue], xaxis = (\"t [s]\", font(12, \"Helvetica\")), \n",
    "                 yaxis = (L\"$\\|z-z^\\ast\\| / \\|z^\\ast\\|$\"),\n",
    "                 titlefont = font(16, \"Helvetica\"),\n",
    "                 legendfont = font(12, \"Helvetica\"),\n",
    "                 linewidth = 2,\n",
    "#                  leg = false,\n",
    "                 label = labels,\n",
    "                 title = (\"Convergence to optimizer for N=5\"),\n",
    "                 layout=1)\n",
    "yaxis!(:log10, font(12, \"Helvetica\"))\n",
    "savefig(\"convergence_N5.pdf\")"
   ]
  },
  {
   "cell_type": "code",
   "execution_count": 16,
   "metadata": {
    "collapsed": true
   },
   "outputs": [],
   "source": [
    "# ## some book-keeping\n",
    "\n",
    "# t_vals = [T1[2:end], T2[2:end], T3[2:end], T4[2:end]];\n",
    "# y_vals = [pgm.RES[2:end], as_pgm.RES[2:end], as_agg_pgm.RES[2:end], as_agg_in_pgm.RES[2:end]];\n",
    "# NoUpdates = [NoUpdates2, NoUpdates3, NoUpdates4];\n",
    "# [pgm.RES[2:end], as_pgm.RES[2:end], as_agg_pgm.RES[2:end], as_agg_in_pgm.RES[2:end]];\n",
    "\n",
    "# type ExecStats\n",
    "#     updateInstants::Array{Array{Float64,1},1}\n",
    "#     values::Array{Array{Float64,1},1}\n",
    "#     NoUpdates::Array{Array{Float64,1},1}\n",
    "# end\n",
    "\n",
    "# Stats_N5 = ExecStats(t_vals, y_vals, NoUpdates);\n",
    "# save(\"/Users/georgios/Documents/Research/GitHub/AsInFBS/data/Stats_N5.jld\", \"Stats_N5\", Stats_N5);\n",
    "\n",
    "# save(\"/Users/georgios/Documents/Research/GitHub/AsInFBS/data/AgentCB_N5.jld\", \"AgentCB_N5\", AgentCB);\n",
    "\n",
    "# save(\"/Users/georgios/Documents/Research/GitHub/AsInFBS/data/UpdateSequence_N5.jld\", \"UpdateSequence_N5\", UpdateSequence);"
   ]
  },
  {
   "cell_type": "code",
   "execution_count": null,
   "metadata": {
    "collapsed": false,
    "scrolled": true
   },
   "outputs": [],
   "source": [
    "using Plots\n",
    "pyplot()\n",
    "using Interpolations\n",
    "\n",
    "knots = (t_vals[4],)\n",
    "itp = interpolate(knots, y_vals[4], Gridded(Linear()))\n",
    "\n",
    "# interpolate on async data points\n",
    "as_agg_pgm_res = y_vals[3] \n",
    "as_agg_in_pgm_res  = itp[t_vals[3]]\n",
    "\n",
    "using Plots\n",
    "pyplot()\n",
    "using LaTeXStrings\n",
    "\n",
    "labels = [\"Async PGM\" \"Async Inertial PGM\"]\n",
    "\n",
    "Plot_N5 = plot([t_vals[3][1] t_vals[3][1]], [as_agg_pgm_res[1] as_agg_in_pgm_res[1]], color=[:black :blue], xaxis = (\"t [s]\", font(12, \"Helvetica\")), \n",
    "                 yaxis = (L\"$\\|z-z^\\ast\\| / \\|z^\\ast\\|$\"),\n",
    "                 titlefont = font(16, \"Helvetica\"),\n",
    "                 legendfont = font(12, \"Helvetica\"),\n",
    "                 linewidth = 2,\n",
    "#                  leg = false,\n",
    "                 label = labels,\n",
    "                 title = (\"Convergence to optimizer for N=5\"),\n",
    "                 layout=1)\n",
    "yaxis!(:log10, font(12, \"Helvetica\"))\n",
    "\n",
    "# build an animated gif, saving every 10th frame\n",
    "@gif for i = 2:length(t_vals[3])\n",
    "    push!(Plot_N5, 1, t_vals[3][i], as_agg_pgm_res[i])\n",
    "    push!(Plot_N5, 2, t_vals[3][i], as_agg_in_pgm_res[i])\n",
    "end every 30\n",
    "\n",
    "# gif(anim, \"/Users/georgios/Documents/Research/GitHub/AsInFBS/syncVSasin_fps15.gif\", fps = 15)"
   ]
  },
  {
   "cell_type": "code",
   "execution_count": null,
   "metadata": {
    "collapsed": false,
    "scrolled": true
   },
   "outputs": [],
   "source": []
  },
  {
   "cell_type": "code",
   "execution_count": 92,
   "metadata": {
    "collapsed": false,
    "scrolled": true
   },
   "outputs": [
    {
     "data": {
      "text/plain": [
       "6-element Array{Int64,1}:\n",
       "  1\n",
       " 18\n",
       "  1\n",
       "  1\n",
       " 78\n",
       "  1"
      ]
     },
     "execution_count": 92,
     "metadata": {},
     "output_type": "execute_result"
    }
   ],
   "source": [
    "UpdateSequence_N5[100,:]"
   ]
  },
  {
   "cell_type": "code",
   "execution_count": 30,
   "metadata": {
    "collapsed": false,
    "scrolled": true
   },
   "outputs": [],
   "source": [
    "using Plots\n",
    "pyplot()\n",
    "using LaTeXStrings"
   ]
  },
  {
   "cell_type": "code",
   "execution_count": 26,
   "metadata": {
    "collapsed": false,
    "scrolled": true
   },
   "outputs": [
    {
     "data": {
      "image/svg+xml": [
       "<?xml version=\"1.0\" encoding=\"UTF-8\"?>\n",
       "<svg xmlns=\"http://www.w3.org/2000/svg\" xmlns:xlink=\"http://www.w3.org/1999/xlink\" width=\"453.855pt\" height=\"294.533pt\" viewBox=\"0 0 453.855 294.533\" version=\"1.1\">\n",
       "<defs>\n",
       "<g>\n",
       "<symbol overflow=\"visible\" id=\"glyph-1522851466872247-0-0\">\n",
       "<path style=\"stroke:none;\" d=\"\"/>\n",
       "</symbol>\n",
       "<symbol overflow=\"visible\" id=\"glyph-1522851466872247-0-1\">\n",
       "<path style=\"stroke:none;\" d=\"M 4.171875 0 L 4.171875 -0.3125 L 3.859375 -0.3125 C 2.953125 -0.3125 2.9375 -0.421875 2.9375 -0.78125 L 2.9375 -6.375 C 2.9375 -6.625 2.9375 -6.640625 2.703125 -6.640625 C 2.078125 -6 1.203125 -6 0.890625 -6 L 0.890625 -5.6875 C 1.09375 -5.6875 1.671875 -5.6875 2.1875 -5.953125 L 2.1875 -0.78125 C 2.1875 -0.421875 2.15625 -0.3125 1.265625 -0.3125 L 0.953125 -0.3125 L 0.953125 0 C 1.296875 -0.03125 2.15625 -0.03125 2.5625 -0.03125 C 2.953125 -0.03125 3.828125 -0.03125 4.171875 0 Z M 4.171875 0 \"/>\n",
       "</symbol>\n",
       "<symbol overflow=\"visible\" id=\"glyph-1522851466872247-0-2\">\n",
       "<path style=\"stroke:none;\" d=\"M 4.46875 -1.734375 L 4.234375 -1.734375 C 4.171875 -1.4375 4.109375 -1 4 -0.84375 C 3.9375 -0.765625 3.28125 -0.765625 3.0625 -0.765625 L 1.265625 -0.765625 L 2.328125 -1.796875 C 3.875 -3.171875 4.46875 -3.703125 4.46875 -4.703125 C 4.46875 -5.84375 3.578125 -6.640625 2.359375 -6.640625 C 1.234375 -6.640625 0.5 -5.71875 0.5 -4.828125 C 0.5 -4.28125 1 -4.28125 1.03125 -4.28125 C 1.203125 -4.28125 1.546875 -4.390625 1.546875 -4.8125 C 1.546875 -5.0625 1.359375 -5.328125 1.015625 -5.328125 C 0.9375 -5.328125 0.921875 -5.328125 0.890625 -5.3125 C 1.109375 -5.96875 1.65625 -6.328125 2.234375 -6.328125 C 3.140625 -6.328125 3.5625 -5.515625 3.5625 -4.703125 C 3.5625 -3.90625 3.078125 -3.125 2.515625 -2.5 L 0.609375 -0.375 C 0.5 -0.265625 0.5 -0.234375 0.5 0 L 4.203125 0 Z M 4.46875 -1.734375 \"/>\n",
       "</symbol>\n",
       "<symbol overflow=\"visible\" id=\"glyph-1522851466872247-0-3\">\n",
       "<path style=\"stroke:none;\" d=\"M 4.5625 -1.703125 C 4.5625 -2.515625 3.921875 -3.296875 2.890625 -3.515625 C 3.703125 -3.78125 4.28125 -4.46875 4.28125 -5.265625 C 4.28125 -6.078125 3.40625 -6.640625 2.453125 -6.640625 C 1.453125 -6.640625 0.6875 -6.046875 0.6875 -5.28125 C 0.6875 -4.953125 0.90625 -4.765625 1.203125 -4.765625 C 1.5 -4.765625 1.703125 -4.984375 1.703125 -5.28125 C 1.703125 -5.765625 1.234375 -5.765625 1.09375 -5.765625 C 1.390625 -6.265625 2.046875 -6.390625 2.40625 -6.390625 C 2.828125 -6.390625 3.375 -6.171875 3.375 -5.28125 C 3.375 -5.15625 3.34375 -4.578125 3.09375 -4.140625 C 2.796875 -3.65625 2.453125 -3.625 2.203125 -3.625 C 2.125 -3.609375 1.890625 -3.59375 1.8125 -3.59375 C 1.734375 -3.578125 1.671875 -3.5625 1.671875 -3.46875 C 1.671875 -3.359375 1.734375 -3.359375 1.90625 -3.359375 L 2.34375 -3.359375 C 3.15625 -3.359375 3.53125 -2.6875 3.53125 -1.703125 C 3.53125 -0.34375 2.84375 -0.0625 2.40625 -0.0625 C 1.96875 -0.0625 1.21875 -0.234375 0.875 -0.8125 C 1.21875 -0.765625 1.53125 -0.984375 1.53125 -1.359375 C 1.53125 -1.71875 1.265625 -1.921875 0.984375 -1.921875 C 0.734375 -1.921875 0.421875 -1.78125 0.421875 -1.34375 C 0.421875 -0.4375 1.34375 0.21875 2.4375 0.21875 C 3.65625 0.21875 4.5625 -0.6875 4.5625 -1.703125 Z M 4.5625 -1.703125 \"/>\n",
       "</symbol>\n",
       "<symbol overflow=\"visible\" id=\"glyph-1522851466872247-0-4\">\n",
       "<path style=\"stroke:none;\" d=\"M 4.6875 -1.640625 L 4.6875 -1.953125 L 3.703125 -1.953125 L 3.703125 -6.484375 C 3.703125 -6.6875 3.703125 -6.75 3.53125 -6.75 C 3.453125 -6.75 3.421875 -6.75 3.34375 -6.625 L 0.28125 -1.953125 L 0.28125 -1.640625 L 2.9375 -1.640625 L 2.9375 -0.78125 C 2.9375 -0.421875 2.90625 -0.3125 2.171875 -0.3125 L 1.96875 -0.3125 L 1.96875 0 C 2.375 -0.03125 2.890625 -0.03125 3.3125 -0.03125 C 3.734375 -0.03125 4.25 -0.03125 4.671875 0 L 4.671875 -0.3125 L 4.453125 -0.3125 C 3.71875 -0.3125 3.703125 -0.421875 3.703125 -0.78125 L 3.703125 -1.640625 Z M 2.984375 -1.953125 L 0.5625 -1.953125 L 2.984375 -5.671875 Z M 2.984375 -1.953125 \"/>\n",
       "</symbol>\n",
       "<symbol overflow=\"visible\" id=\"glyph-1522851466872247-0-5\">\n",
       "<path style=\"stroke:none;\" d=\"M 4.46875 -2 C 4.46875 -3.1875 3.65625 -4.1875 2.578125 -4.1875 C 2.109375 -4.1875 1.671875 -4.03125 1.3125 -3.671875 L 1.3125 -5.625 C 1.515625 -5.5625 1.84375 -5.5 2.15625 -5.5 C 3.390625 -5.5 4.09375 -6.40625 4.09375 -6.53125 C 4.09375 -6.59375 4.0625 -6.640625 3.984375 -6.640625 C 3.984375 -6.640625 3.953125 -6.640625 3.90625 -6.609375 C 3.703125 -6.515625 3.21875 -6.3125 2.546875 -6.3125 C 2.15625 -6.3125 1.6875 -6.390625 1.21875 -6.59375 C 1.140625 -6.625 1.109375 -6.625 1.109375 -6.625 C 1 -6.625 1 -6.546875 1 -6.390625 L 1 -3.4375 C 1 -3.265625 1 -3.1875 1.140625 -3.1875 C 1.21875 -3.1875 1.234375 -3.203125 1.28125 -3.265625 C 1.390625 -3.421875 1.75 -3.96875 2.5625 -3.96875 C 3.078125 -3.96875 3.328125 -3.515625 3.40625 -3.328125 C 3.5625 -2.953125 3.59375 -2.578125 3.59375 -2.078125 C 3.59375 -1.71875 3.59375 -1.125 3.34375 -0.703125 C 3.109375 -0.3125 2.734375 -0.0625 2.28125 -0.0625 C 1.5625 -0.0625 0.984375 -0.59375 0.8125 -1.171875 C 0.84375 -1.171875 0.875 -1.15625 0.984375 -1.15625 C 1.3125 -1.15625 1.484375 -1.40625 1.484375 -1.640625 C 1.484375 -1.890625 1.3125 -2.140625 0.984375 -2.140625 C 0.84375 -2.140625 0.5 -2.0625 0.5 -1.609375 C 0.5 -0.75 1.1875 0.21875 2.296875 0.21875 C 3.453125 0.21875 4.46875 -0.734375 4.46875 -2 Z M 4.46875 -2 \"/>\n",
       "</symbol>\n",
       "<symbol overflow=\"visible\" id=\"glyph-1522851466872247-0-6\">\n",
       "<path style=\"stroke:none;\" d=\"M 4.5625 -2.03125 C 4.5625 -3.296875 3.671875 -4.25 2.5625 -4.25 C 1.890625 -4.25 1.515625 -3.75 1.3125 -3.265625 L 1.3125 -3.515625 C 1.3125 -6.03125 2.546875 -6.390625 3.0625 -6.390625 C 3.296875 -6.390625 3.71875 -6.328125 3.9375 -5.984375 C 3.78125 -5.984375 3.390625 -5.984375 3.390625 -5.546875 C 3.390625 -5.234375 3.625 -5.078125 3.84375 -5.078125 C 4 -5.078125 4.3125 -5.171875 4.3125 -5.5625 C 4.3125 -6.15625 3.875 -6.640625 3.046875 -6.640625 C 1.765625 -6.640625 0.421875 -5.359375 0.421875 -3.15625 C 0.421875 -0.484375 1.578125 0.21875 2.5 0.21875 C 3.609375 0.21875 4.5625 -0.71875 4.5625 -2.03125 Z M 3.65625 -2.046875 C 3.65625 -1.5625 3.65625 -1.0625 3.484375 -0.703125 C 3.1875 -0.109375 2.734375 -0.0625 2.5 -0.0625 C 1.875 -0.0625 1.578125 -0.65625 1.515625 -0.8125 C 1.328125 -1.28125 1.328125 -2.078125 1.328125 -2.25 C 1.328125 -3.03125 1.65625 -4.03125 2.546875 -4.03125 C 2.71875 -4.03125 3.171875 -4.03125 3.484375 -3.40625 C 3.65625 -3.046875 3.65625 -2.53125 3.65625 -2.046875 Z M 3.65625 -2.046875 \"/>\n",
       "</symbol>\n",
       "<symbol overflow=\"visible\" id=\"glyph-1522851466872247-0-7\">\n",
       "<path style=\"stroke:none;\" d=\"M 4.828125 -6.421875 L 2.40625 -6.421875 C 1.203125 -6.421875 1.171875 -6.546875 1.140625 -6.734375 L 0.890625 -6.734375 L 0.5625 -4.6875 L 0.8125 -4.6875 C 0.84375 -4.84375 0.921875 -5.46875 1.0625 -5.59375 C 1.125 -5.65625 1.90625 -5.65625 2.03125 -5.65625 L 4.09375 -5.65625 L 2.984375 -4.078125 C 2.078125 -2.734375 1.75 -1.34375 1.75 -0.328125 C 1.75 -0.234375 1.75 0.21875 2.21875 0.21875 C 2.671875 0.21875 2.671875 -0.234375 2.671875 -0.328125 L 2.671875 -0.84375 C 2.671875 -1.390625 2.703125 -1.9375 2.78125 -2.46875 C 2.828125 -2.703125 2.953125 -3.5625 3.40625 -4.171875 L 4.75 -6.078125 C 4.828125 -6.1875 4.828125 -6.203125 4.828125 -6.421875 Z M 4.828125 -6.421875 \"/>\n",
       "</symbol>\n",
       "<symbol overflow=\"visible\" id=\"glyph-1522851466872247-0-8\">\n",
       "<path style=\"stroke:none;\" d=\"M 4.578125 -3.1875 C 4.578125 -3.984375 4.53125 -4.78125 4.1875 -5.515625 C 3.734375 -6.484375 2.90625 -6.640625 2.5 -6.640625 C 1.890625 -6.640625 1.171875 -6.375 0.75 -5.453125 C 0.4375 -4.765625 0.390625 -3.984375 0.390625 -3.1875 C 0.390625 -2.4375 0.421875 -1.546875 0.84375 -0.78125 C 1.265625 0.015625 2 0.21875 2.484375 0.21875 C 3.015625 0.21875 3.78125 0.015625 4.21875 -0.9375 C 4.53125 -1.625 4.578125 -2.40625 4.578125 -3.1875 Z M 3.765625 -3.3125 C 3.765625 -2.5625 3.765625 -1.890625 3.65625 -1.25 C 3.5 -0.296875 2.9375 0 2.484375 0 C 2.09375 0 1.5 -0.25 1.328125 -1.203125 C 1.21875 -1.796875 1.21875 -2.71875 1.21875 -3.3125 C 1.21875 -3.953125 1.21875 -4.609375 1.296875 -5.140625 C 1.484375 -6.328125 2.234375 -6.421875 2.484375 -6.421875 C 2.8125 -6.421875 3.46875 -6.234375 3.65625 -5.25 C 3.765625 -4.6875 3.765625 -3.9375 3.765625 -3.3125 Z M 3.765625 -3.3125 \"/>\n",
       "</symbol>\n",
       "<symbol overflow=\"visible\" id=\"glyph-1522851466872247-0-9\">\n",
       "<path style=\"stroke:none;\" d=\"M 7.328125 -2.40625 L 7.328125 -2.71875 L 6.109375 -2.6875 C 5.71875 -2.6875 4.859375 -2.6875 4.5 -2.71875 L 4.5 -2.40625 L 4.828125 -2.40625 C 5.71875 -2.40625 5.75 -2.296875 5.75 -1.9375 L 5.75 -1.296875 C 5.75 -0.171875 4.484375 -0.09375 4.203125 -0.09375 C 3.5625 -0.09375 1.578125 -0.4375 1.578125 -3.40625 C 1.578125 -6.390625 3.546875 -6.71875 4.140625 -6.71875 C 5.21875 -6.71875 6.125 -5.828125 6.3125 -4.359375 C 6.34375 -4.21875 6.34375 -4.1875 6.484375 -4.1875 C 6.640625 -4.1875 6.640625 -4.21875 6.640625 -4.421875 L 6.640625 -6.78125 C 6.640625 -6.953125 6.640625 -7.03125 6.53125 -7.03125 C 6.484375 -7.03125 6.453125 -7.03125 6.375 -6.90625 L 5.875 -6.171875 C 5.546875 -6.484375 5.015625 -7.03125 4.03125 -7.03125 C 2.171875 -7.03125 0.5625 -5.453125 0.5625 -3.40625 C 0.5625 -1.359375 2.15625 0.21875 4.046875 0.21875 C 4.78125 0.21875 5.578125 -0.046875 5.90625 -0.625 C 6.046875 -0.40625 6.4375 -0.015625 6.546875 -0.015625 C 6.640625 -0.015625 6.640625 -0.09375 6.640625 -0.234375 L 6.640625 -1.96875 C 6.640625 -2.359375 6.671875 -2.40625 7.328125 -2.40625 Z M 7.328125 -2.40625 \"/>\n",
       "</symbol>\n",
       "<symbol overflow=\"visible\" id=\"glyph-1522851466872247-0-10\">\n",
       "<path style=\"stroke:none;\" d=\"M 3.625 -3.796875 C 3.625 -4.109375 3.3125 -4.40625 2.890625 -4.40625 C 2.15625 -4.40625 1.796875 -3.734375 1.671875 -3.3125 L 1.671875 -4.40625 L 0.28125 -4.296875 L 0.28125 -3.984375 C 0.984375 -3.984375 1.0625 -3.921875 1.0625 -3.421875 L 1.0625 -0.75 C 1.0625 -0.3125 0.953125 -0.3125 0.28125 -0.3125 L 0.28125 0 L 1.421875 -0.03125 C 1.8125 -0.03125 2.28125 -0.03125 2.6875 0 L 2.6875 -0.3125 L 2.46875 -0.3125 C 1.734375 -0.3125 1.71875 -0.421875 1.71875 -0.78125 L 1.71875 -2.3125 C 1.71875 -3.296875 2.140625 -4.1875 2.890625 -4.1875 C 2.953125 -4.1875 2.984375 -4.1875 3 -4.171875 C 2.96875 -4.171875 2.765625 -4.046875 2.765625 -3.78125 C 2.765625 -3.515625 2.984375 -3.359375 3.203125 -3.359375 C 3.375 -3.359375 3.625 -3.484375 3.625 -3.796875 Z M 3.625 -3.796875 \"/>\n",
       "</symbol>\n",
       "<symbol overflow=\"visible\" id=\"glyph-1522851466872247-0-11\">\n",
       "<path style=\"stroke:none;\" d=\"M 4.6875 -2.140625 C 4.6875 -3.40625 3.703125 -4.46875 2.5 -4.46875 C 1.25 -4.46875 0.28125 -3.375 0.28125 -2.140625 C 0.28125 -0.84375 1.3125 0.109375 2.484375 0.109375 C 3.6875 0.109375 4.6875 -0.875 4.6875 -2.140625 Z M 3.875 -2.21875 C 3.875 -1.859375 3.875 -1.3125 3.65625 -0.875 C 3.421875 -0.421875 2.984375 -0.140625 2.5 -0.140625 C 2.0625 -0.140625 1.625 -0.34375 1.359375 -0.8125 C 1.109375 -1.25 1.109375 -1.859375 1.109375 -2.21875 C 1.109375 -2.609375 1.109375 -3.140625 1.34375 -3.578125 C 1.609375 -4.03125 2.078125 -4.25 2.484375 -4.25 C 2.921875 -4.25 3.34375 -4.03125 3.609375 -3.59375 C 3.875 -3.171875 3.875 -2.59375 3.875 -2.21875 Z M 3.875 -2.21875 \"/>\n",
       "</symbol>\n",
       "<symbol overflow=\"visible\" id=\"glyph-1522851466872247-0-12\">\n",
       "<path style=\"stroke:none;\" d=\"M 5.328125 0 L 5.328125 -0.3125 C 4.640625 -0.3125 4.5625 -0.375 4.5625 -0.875 L 4.5625 -4.40625 L 3.09375 -4.296875 L 3.09375 -3.984375 C 3.78125 -3.984375 3.875 -3.921875 3.875 -3.421875 L 3.875 -1.65625 C 3.875 -0.78125 3.390625 -0.109375 2.65625 -0.109375 C 1.828125 -0.109375 1.78125 -0.578125 1.78125 -1.09375 L 1.78125 -4.40625 L 0.3125 -4.296875 L 0.3125 -3.984375 C 1.09375 -3.984375 1.09375 -3.953125 1.09375 -3.078125 L 1.09375 -1.578125 C 1.09375 -0.796875 1.09375 0.109375 2.609375 0.109375 C 3.171875 0.109375 3.609375 -0.171875 3.890625 -0.78125 L 3.890625 0.109375 Z M 5.328125 0 \"/>\n",
       "</symbol>\n",
       "<symbol overflow=\"visible\" id=\"glyph-1522851466872247-0-13\">\n",
       "<path style=\"stroke:none;\" d=\"M 5.1875 -2.15625 C 5.1875 -3.421875 4.234375 -4.40625 3.109375 -4.40625 C 2.328125 -4.40625 1.90625 -3.96875 1.71875 -3.75 L 1.71875 -4.40625 L 0.28125 -4.296875 L 0.28125 -3.984375 C 0.984375 -3.984375 1.0625 -3.921875 1.0625 -3.484375 L 1.0625 1.171875 C 1.0625 1.625 0.953125 1.625 0.28125 1.625 L 0.28125 1.9375 L 1.390625 1.90625 L 2.515625 1.9375 L 2.515625 1.625 C 1.859375 1.625 1.75 1.625 1.75 1.171875 L 1.75 -0.59375 C 1.796875 -0.421875 2.21875 0.109375 2.96875 0.109375 C 4.15625 0.109375 5.1875 -0.875 5.1875 -2.15625 Z M 4.359375 -2.15625 C 4.359375 -0.953125 3.671875 -0.109375 2.9375 -0.109375 C 2.53125 -0.109375 2.15625 -0.3125 1.890625 -0.71875 C 1.75 -0.921875 1.75 -0.9375 1.75 -1.140625 L 1.75 -3.359375 C 2.03125 -3.875 2.515625 -4.15625 3.03125 -4.15625 C 3.765625 -4.15625 4.359375 -3.28125 4.359375 -2.15625 Z M 4.359375 -2.15625 \"/>\n",
       "</symbol>\n",
       "<symbol overflow=\"visible\" id=\"glyph-1522851466872247-0-14\">\n",
       "<path style=\"stroke:none;\" d=\"M 3.59375 -1.28125 C 3.59375 -1.796875 3.296875 -2.109375 3.171875 -2.21875 C 2.84375 -2.546875 2.453125 -2.625 2.03125 -2.703125 C 1.46875 -2.8125 0.8125 -2.9375 0.8125 -3.515625 C 0.8125 -3.875 1.0625 -4.28125 1.921875 -4.28125 C 3.015625 -4.28125 3.078125 -3.375 3.09375 -3.078125 C 3.09375 -2.984375 3.203125 -2.984375 3.203125 -2.984375 C 3.34375 -2.984375 3.34375 -3.03125 3.34375 -3.21875 L 3.34375 -4.234375 C 3.34375 -4.390625 3.34375 -4.46875 3.234375 -4.46875 C 3.1875 -4.46875 3.15625 -4.46875 3.03125 -4.34375 C 3 -4.3125 2.90625 -4.21875 2.859375 -4.1875 C 2.484375 -4.46875 2.078125 -4.46875 1.921875 -4.46875 C 0.703125 -4.46875 0.328125 -3.796875 0.328125 -3.234375 C 0.328125 -2.890625 0.484375 -2.609375 0.75 -2.390625 C 1.078125 -2.140625 1.359375 -2.078125 2.078125 -1.9375 C 2.296875 -1.890625 3.109375 -1.734375 3.109375 -1.015625 C 3.109375 -0.515625 2.765625 -0.109375 1.984375 -0.109375 C 1.140625 -0.109375 0.78125 -0.671875 0.59375 -1.53125 C 0.5625 -1.65625 0.5625 -1.6875 0.453125 -1.6875 C 0.328125 -1.6875 0.328125 -1.625 0.328125 -1.453125 L 0.328125 -0.125 C 0.328125 0.046875 0.328125 0.109375 0.4375 0.109375 C 0.484375 0.109375 0.5 0.09375 0.6875 -0.09375 C 0.703125 -0.109375 0.703125 -0.125 0.890625 -0.3125 C 1.328125 0.09375 1.78125 0.109375 1.984375 0.109375 C 3.125 0.109375 3.59375 -0.5625 3.59375 -1.28125 Z M 3.59375 -1.28125 \"/>\n",
       "</symbol>\n",
       "<symbol overflow=\"visible\" id=\"glyph-1522851466872247-0-15\">\n",
       "<path style=\"stroke:none;\" d=\"M 6.5 -2.578125 L 6.25 -2.578125 C 6 -1.03125 5.765625 -0.3125 4.0625 -0.3125 L 2.734375 -0.3125 C 2.265625 -0.3125 2.25 -0.375 2.25 -0.703125 L 2.25 -3.375 L 3.140625 -3.375 C 4.109375 -3.375 4.21875 -3.046875 4.21875 -2.203125 L 4.46875 -2.203125 L 4.46875 -4.84375 L 4.21875 -4.84375 C 4.21875 -3.984375 4.109375 -3.671875 3.140625 -3.671875 L 2.25 -3.671875 L 2.25 -6.078125 C 2.25 -6.40625 2.265625 -6.46875 2.734375 -6.46875 L 4.015625 -6.46875 C 5.546875 -6.46875 5.8125 -5.921875 5.96875 -4.53125 L 6.21875 -4.53125 L 5.9375 -6.78125 L 0.328125 -6.78125 L 0.328125 -6.46875 L 0.5625 -6.46875 C 1.328125 -6.46875 1.359375 -6.359375 1.359375 -6 L 1.359375 -0.78125 C 1.359375 -0.421875 1.328125 -0.3125 0.5625 -0.3125 L 0.328125 -0.3125 L 0.328125 0 L 6.078125 0 Z M 6.5 -2.578125 \"/>\n",
       "</symbol>\n",
       "<symbol overflow=\"visible\" id=\"glyph-1522851466872247-0-16\">\n",
       "<path style=\"stroke:none;\" d=\"M 5.0625 -3.984375 L 5.0625 -4.296875 C 4.828125 -4.28125 4.546875 -4.265625 4.3125 -4.265625 L 3.453125 -4.296875 L 3.453125 -3.984375 C 3.8125 -3.984375 3.921875 -3.75 3.921875 -3.5625 C 3.921875 -3.46875 3.90625 -3.421875 3.875 -3.3125 L 2.84375 -0.78125 L 1.734375 -3.5625 C 1.671875 -3.6875 1.671875 -3.734375 1.671875 -3.734375 C 1.671875 -3.984375 2.0625 -3.984375 2.25 -3.984375 L 2.25 -4.296875 L 1.15625 -4.265625 C 0.890625 -4.265625 0.484375 -4.28125 0.1875 -4.296875 L 0.1875 -3.984375 C 0.8125 -3.984375 0.859375 -3.921875 0.984375 -3.625 L 2.421875 -0.078125 C 2.484375 0.0625 2.5 0.109375 2.625 0.109375 C 2.765625 0.109375 2.796875 0.015625 2.84375 -0.078125 L 4.140625 -3.3125 C 4.234375 -3.546875 4.40625 -3.984375 5.0625 -3.984375 Z M 5.0625 -3.984375 \"/>\n",
       "</symbol>\n",
       "<symbol overflow=\"visible\" id=\"glyph-1522851466872247-0-17\">\n",
       "<path style=\"stroke:none;\" d=\"M 2.546875 0 L 2.546875 -0.3125 C 1.875 -0.3125 1.765625 -0.3125 1.765625 -0.75 L 1.765625 -6.921875 L 0.328125 -6.8125 L 0.328125 -6.5 C 1.03125 -6.5 1.109375 -6.4375 1.109375 -5.9375 L 1.109375 -0.75 C 1.109375 -0.3125 1 -0.3125 0.328125 -0.3125 L 0.328125 0 L 1.4375 -0.03125 Z M 2.546875 0 \"/>\n",
       "</symbol>\n",
       "<symbol overflow=\"visible\" id=\"glyph-1522851466872247-0-18\">\n",
       "<path style=\"stroke:none;\" d=\"M 3.3125 -1.234375 L 3.3125 -1.796875 L 3.0625 -1.796875 L 3.0625 -1.25 C 3.0625 -0.515625 2.765625 -0.140625 2.390625 -0.140625 C 1.71875 -0.140625 1.71875 -1.046875 1.71875 -1.21875 L 1.71875 -3.984375 L 3.15625 -3.984375 L 3.15625 -4.296875 L 1.71875 -4.296875 L 1.71875 -6.125 L 1.46875 -6.125 C 1.46875 -5.3125 1.171875 -4.25 0.1875 -4.203125 L 0.1875 -3.984375 L 1.03125 -3.984375 L 1.03125 -1.234375 C 1.03125 -0.015625 1.96875 0.109375 2.328125 0.109375 C 3.03125 0.109375 3.3125 -0.59375 3.3125 -1.234375 Z M 3.3125 -1.234375 \"/>\n",
       "</symbol>\n",
       "<symbol overflow=\"visible\" id=\"glyph-1522851466872247-0-19\">\n",
       "<path style=\"stroke:none;\" d=\"M 2.46875 0 L 2.46875 -0.3125 C 1.796875 -0.3125 1.765625 -0.359375 1.765625 -0.75 L 1.765625 -4.40625 L 0.375 -4.296875 L 0.375 -3.984375 C 1.015625 -3.984375 1.109375 -3.921875 1.109375 -3.4375 L 1.109375 -0.75 C 1.109375 -0.3125 1 -0.3125 0.328125 -0.3125 L 0.328125 0 L 1.421875 -0.03125 C 1.78125 -0.03125 2.125 -0.015625 2.46875 0 Z M 1.90625 -6.015625 C 1.90625 -6.296875 1.6875 -6.546875 1.390625 -6.546875 C 1.046875 -6.546875 0.84375 -6.265625 0.84375 -6.015625 C 0.84375 -5.75 1.078125 -5.5 1.375 -5.5 C 1.71875 -5.5 1.90625 -5.765625 1.90625 -6.015625 Z M 1.90625 -6.015625 \"/>\n",
       "</symbol>\n",
       "<symbol overflow=\"visible\" id=\"glyph-1522851466872247-0-20\">\n",
       "<path style=\"stroke:none;\" d=\"M 5.328125 0 L 5.328125 -0.3125 C 4.8125 -0.3125 4.5625 -0.3125 4.5625 -0.609375 L 4.5625 -2.515625 C 4.5625 -3.375 4.5625 -3.671875 4.25 -4.03125 C 4.109375 -4.203125 3.78125 -4.40625 3.203125 -4.40625 C 2.46875 -4.40625 2 -3.984375 1.71875 -3.359375 L 1.71875 -4.40625 L 0.3125 -4.296875 L 0.3125 -3.984375 C 1.015625 -3.984375 1.09375 -3.921875 1.09375 -3.421875 L 1.09375 -0.75 C 1.09375 -0.3125 0.984375 -0.3125 0.3125 -0.3125 L 0.3125 0 L 1.453125 -0.03125 L 2.5625 0 L 2.5625 -0.3125 C 1.890625 -0.3125 1.78125 -0.3125 1.78125 -0.75 L 1.78125 -2.59375 C 1.78125 -3.625 2.5 -4.1875 3.125 -4.1875 C 3.765625 -4.1875 3.875 -3.65625 3.875 -3.078125 L 3.875 -0.75 C 3.875 -0.3125 3.765625 -0.3125 3.09375 -0.3125 L 3.09375 0 L 4.21875 -0.03125 Z M 5.328125 0 \"/>\n",
       "</symbol>\n",
       "<symbol overflow=\"visible\" id=\"glyph-1522851466872247-0-21\">\n",
       "<path style=\"stroke:none;\" d=\"M 3.5625 -6.328125 C 3.5625 -6.703125 3.1875 -7.03125 2.65625 -7.03125 C 1.96875 -7.03125 1.109375 -6.5 1.109375 -5.4375 L 1.109375 -4.296875 L 0.328125 -4.296875 L 0.328125 -3.984375 L 1.109375 -3.984375 L 1.109375 -0.75 C 1.109375 -0.3125 1 -0.3125 0.34375 -0.3125 L 0.34375 0 L 1.46875 -0.03125 C 1.875 -0.03125 2.34375 -0.03125 2.734375 0 L 2.734375 -0.3125 L 2.53125 -0.3125 C 1.796875 -0.3125 1.78125 -0.421875 1.78125 -0.78125 L 1.78125 -3.984375 L 2.90625 -3.984375 L 2.90625 -4.296875 L 1.75 -4.296875 L 1.75 -5.453125 C 1.75 -6.328125 2.21875 -6.8125 2.65625 -6.8125 C 2.6875 -6.8125 2.84375 -6.8125 2.984375 -6.734375 C 2.875 -6.703125 2.6875 -6.5625 2.6875 -6.3125 C 2.6875 -6.09375 2.84375 -5.890625 3.125 -5.890625 C 3.40625 -5.890625 3.5625 -6.09375 3.5625 -6.328125 Z M 3.5625 -6.328125 \"/>\n",
       "</symbol>\n",
       "<symbol overflow=\"visible\" id=\"glyph-1522851466872247-0-22\">\n",
       "<path style=\"stroke:none;\" d=\"M 5.25 0 L 5.25 -0.3125 C 4.5625 -0.3125 4.46875 -0.375 4.46875 -0.875 L 4.46875 -6.921875 L 3.046875 -6.8125 L 3.046875 -6.5 C 3.734375 -6.5 3.8125 -6.4375 3.8125 -5.9375 L 3.8125 -3.78125 C 3.53125 -4.140625 3.09375 -4.40625 2.5625 -4.40625 C 1.390625 -4.40625 0.34375 -3.421875 0.34375 -2.140625 C 0.34375 -0.875 1.3125 0.109375 2.453125 0.109375 C 3.09375 0.109375 3.53125 -0.234375 3.78125 -0.546875 L 3.78125 0.109375 Z M 3.78125 -1.171875 C 3.78125 -1 3.78125 -0.984375 3.671875 -0.8125 C 3.375 -0.328125 2.9375 -0.109375 2.5 -0.109375 C 2.046875 -0.109375 1.6875 -0.375 1.453125 -0.75 C 1.203125 -1.15625 1.171875 -1.71875 1.171875 -2.140625 C 1.171875 -2.5 1.1875 -3.09375 1.46875 -3.546875 C 1.6875 -3.859375 2.0625 -4.1875 2.609375 -4.1875 C 2.953125 -4.1875 3.375 -4.03125 3.671875 -3.59375 C 3.78125 -3.421875 3.78125 -3.40625 3.78125 -3.21875 Z M 3.78125 -1.171875 \"/>\n",
       "</symbol>\n",
       "<symbol overflow=\"visible\" id=\"glyph-1522851466872247-0-23\">\n",
       "<path style=\"stroke:none;\" d=\"M 4.8125 -0.890625 L 4.8125 -1.453125 L 4.5625 -1.453125 L 4.5625 -0.890625 C 4.5625 -0.3125 4.3125 -0.25 4.203125 -0.25 C 3.875 -0.25 3.84375 -0.703125 3.84375 -0.75 L 3.84375 -2.734375 C 3.84375 -3.15625 3.84375 -3.546875 3.484375 -3.921875 C 3.09375 -4.3125 2.59375 -4.46875 2.109375 -4.46875 C 1.296875 -4.46875 0.609375 -4 0.609375 -3.34375 C 0.609375 -3.046875 0.8125 -2.875 1.0625 -2.875 C 1.34375 -2.875 1.53125 -3.078125 1.53125 -3.328125 C 1.53125 -3.453125 1.46875 -3.78125 1.015625 -3.78125 C 1.28125 -4.140625 1.78125 -4.25 2.09375 -4.25 C 2.578125 -4.25 3.15625 -3.859375 3.15625 -2.96875 L 3.15625 -2.609375 C 2.640625 -2.578125 1.9375 -2.546875 1.3125 -2.25 C 0.5625 -1.90625 0.3125 -1.390625 0.3125 -0.953125 C 0.3125 -0.140625 1.28125 0.109375 1.90625 0.109375 C 2.578125 0.109375 3.03125 -0.296875 3.21875 -0.75 C 3.265625 -0.359375 3.53125 0.0625 4 0.0625 C 4.203125 0.0625 4.8125 -0.078125 4.8125 -0.890625 Z M 3.15625 -1.390625 C 3.15625 -0.453125 2.4375 -0.109375 1.984375 -0.109375 C 1.5 -0.109375 1.09375 -0.453125 1.09375 -0.953125 C 1.09375 -1.5 1.5 -2.328125 3.15625 -2.390625 Z M 3.15625 -1.390625 \"/>\n",
       "</symbol>\n",
       "<symbol overflow=\"visible\" id=\"glyph-1522851466872247-0-24\">\n",
       "<path style=\"stroke:none;\" d=\"M 4.140625 -1.1875 C 4.140625 -1.28125 4.0625 -1.3125 4 -1.3125 C 3.921875 -1.3125 3.890625 -1.25 3.875 -1.171875 C 3.53125 -0.140625 2.625 -0.140625 2.53125 -0.140625 C 2.03125 -0.140625 1.640625 -0.4375 1.40625 -0.8125 C 1.109375 -1.28125 1.109375 -1.9375 1.109375 -2.296875 L 3.890625 -2.296875 C 4.109375 -2.296875 4.140625 -2.296875 4.140625 -2.515625 C 4.140625 -3.5 3.59375 -4.46875 2.359375 -4.46875 C 1.203125 -4.46875 0.28125 -3.4375 0.28125 -2.1875 C 0.28125 -0.859375 1.328125 0.109375 2.46875 0.109375 C 3.6875 0.109375 4.140625 -1 4.140625 -1.1875 Z M 3.484375 -2.515625 L 1.109375 -2.515625 C 1.171875 -4 2.015625 -4.25 2.359375 -4.25 C 3.375 -4.25 3.484375 -2.90625 3.484375 -2.515625 Z M 3.484375 -2.515625 \"/>\n",
       "</symbol>\n",
       "<symbol overflow=\"visible\" id=\"glyph-1522851466872247-0-25\">\n",
       "<path style=\"stroke:none;\" d=\"M 2.046875 -5.875 C 2.046875 -6.46875 1.8125 -6.921875 1.390625 -6.921875 C 1.03125 -6.921875 0.859375 -6.65625 0.859375 -6.390625 C 0.859375 -6.125 1.03125 -5.859375 1.390625 -5.859375 C 1.578125 -5.859375 1.71875 -5.96875 1.78125 -6.015625 C 1.796875 -6.046875 1.8125 -6.046875 1.8125 -6.046875 C 1.8125 -6.046875 1.828125 -5.90625 1.828125 -5.875 C 1.828125 -5.546875 1.765625 -4.828125 1.140625 -4.21875 C 1.015625 -4.09375 1.015625 -4.078125 1.015625 -4.046875 C 1.015625 -3.984375 1.0625 -3.9375 1.109375 -3.9375 C 1.21875 -3.9375 2.046875 -4.6875 2.046875 -5.875 Z M 2.046875 -5.875 \"/>\n",
       "</symbol>\n",
       "<symbol overflow=\"visible\" id=\"glyph-1522851466872247-0-26\">\n",
       "<path style=\"stroke:none;\" d=\"M 5.1875 -2.15625 C 5.1875 -3.421875 4.21875 -4.40625 3.078125 -4.40625 C 2.296875 -4.40625 1.875 -3.9375 1.71875 -3.765625 L 1.71875 -6.921875 L 0.28125 -6.8125 L 0.28125 -6.5 C 0.984375 -6.5 1.0625 -6.4375 1.0625 -5.9375 L 1.0625 0 L 1.3125 0 L 1.671875 -0.625 C 1.8125 -0.390625 2.234375 0.109375 2.96875 0.109375 C 4.15625 0.109375 5.1875 -0.875 5.1875 -2.15625 Z M 4.359375 -2.15625 C 4.359375 -1.796875 4.34375 -1.203125 4.0625 -0.75 C 3.84375 -0.4375 3.46875 -0.109375 2.9375 -0.109375 C 2.484375 -0.109375 2.125 -0.34375 1.890625 -0.71875 C 1.75 -0.921875 1.75 -0.953125 1.75 -1.140625 L 1.75 -3.1875 C 1.75 -3.375 1.75 -3.390625 1.859375 -3.546875 C 2.25 -4.109375 2.796875 -4.1875 3.03125 -4.1875 C 3.484375 -4.1875 3.84375 -3.921875 4.078125 -3.546875 C 4.34375 -3.140625 4.359375 -2.578125 4.359375 -2.15625 Z M 4.359375 -2.15625 \"/>\n",
       "</symbol>\n",
       "<symbol overflow=\"visible\" id=\"glyph-1522851466872247-0-27\">\n",
       "<path style=\"stroke:none;\" d=\"M 8.109375 0 L 8.109375 -0.3125 C 7.59375 -0.3125 7.34375 -0.3125 7.328125 -0.609375 L 7.328125 -2.515625 C 7.328125 -3.375 7.328125 -3.671875 7.015625 -4.03125 C 6.875 -4.203125 6.546875 -4.40625 5.96875 -4.40625 C 5.140625 -4.40625 4.6875 -3.8125 4.53125 -3.421875 C 4.390625 -4.296875 3.65625 -4.40625 3.203125 -4.40625 C 2.46875 -4.40625 2 -3.984375 1.71875 -3.359375 L 1.71875 -4.40625 L 0.3125 -4.296875 L 0.3125 -3.984375 C 1.015625 -3.984375 1.09375 -3.921875 1.09375 -3.421875 L 1.09375 -0.75 C 1.09375 -0.3125 0.984375 -0.3125 0.3125 -0.3125 L 0.3125 0 L 1.453125 -0.03125 L 2.5625 0 L 2.5625 -0.3125 C 1.890625 -0.3125 1.78125 -0.3125 1.78125 -0.75 L 1.78125 -2.59375 C 1.78125 -3.625 2.5 -4.1875 3.125 -4.1875 C 3.765625 -4.1875 3.875 -3.65625 3.875 -3.078125 L 3.875 -0.75 C 3.875 -0.3125 3.765625 -0.3125 3.09375 -0.3125 L 3.09375 0 L 4.21875 -0.03125 L 5.328125 0 L 5.328125 -0.3125 C 4.671875 -0.3125 4.5625 -0.3125 4.5625 -0.75 L 4.5625 -2.59375 C 4.5625 -3.625 5.265625 -4.1875 5.90625 -4.1875 C 6.53125 -4.1875 6.640625 -3.65625 6.640625 -3.078125 L 6.640625 -0.75 C 6.640625 -0.3125 6.53125 -0.3125 5.859375 -0.3125 L 5.859375 0 L 6.984375 -0.03125 Z M 8.109375 0 \"/>\n",
       "</symbol>\n",
       "<symbol overflow=\"visible\" id=\"glyph-1522851466872247-0-28\">\n",
       "<path style=\"stroke:none;\" d=\"M 1.90625 -0.53125 C 1.90625 -0.8125 1.671875 -1.0625 1.390625 -1.0625 C 1.09375 -1.0625 0.859375 -0.8125 0.859375 -0.53125 C 0.859375 -0.234375 1.09375 0 1.390625 0 C 1.671875 0 1.90625 -0.234375 1.90625 -0.53125 Z M 1.90625 -0.53125 \"/>\n",
       "</symbol>\n",
       "<symbol overflow=\"visible\" id=\"glyph-1522851466872247-0-29\">\n",
       "<path style=\"stroke:none;\" d=\"M 4.5625 -1.671875 C 4.5625 -2.03125 4.453125 -2.484375 4.0625 -2.90625 C 3.875 -3.109375 3.71875 -3.203125 3.078125 -3.609375 C 3.796875 -3.984375 4.28125 -4.5 4.28125 -5.15625 C 4.28125 -6.078125 3.40625 -6.640625 2.5 -6.640625 C 1.5 -6.640625 0.6875 -5.90625 0.6875 -4.96875 C 0.6875 -4.796875 0.703125 -4.34375 1.125 -3.875 C 1.234375 -3.765625 1.609375 -3.515625 1.859375 -3.34375 C 1.28125 -3.046875 0.421875 -2.5 0.421875 -1.5 C 0.421875 -0.453125 1.4375 0.21875 2.484375 0.21875 C 3.609375 0.21875 4.5625 -0.609375 4.5625 -1.671875 Z M 3.84375 -5.15625 C 3.84375 -4.578125 3.453125 -4.109375 2.859375 -3.765625 L 1.625 -4.5625 C 1.171875 -4.859375 1.125 -5.1875 1.125 -5.359375 C 1.125 -5.96875 1.78125 -6.390625 2.484375 -6.390625 C 3.203125 -6.390625 3.84375 -5.875 3.84375 -5.15625 Z M 4.0625 -1.3125 C 4.0625 -0.578125 3.3125 -0.0625 2.5 -0.0625 C 1.640625 -0.0625 0.921875 -0.671875 0.921875 -1.5 C 0.921875 -2.078125 1.234375 -2.71875 2.078125 -3.1875 L 3.3125 -2.40625 C 3.59375 -2.21875 4.0625 -1.921875 4.0625 -1.3125 Z M 4.0625 -1.3125 \"/>\n",
       "</symbol>\n",
       "<symbol overflow=\"visible\" id=\"glyph-1522851466872247-1-0\">\n",
       "<path style=\"stroke:none;\" d=\"\"/>\n",
       "</symbol>\n",
       "<symbol overflow=\"visible\" id=\"glyph-1522851466872247-1-1\">\n",
       "<path style=\"stroke:none;\" d=\"M -6.5 -7.140625 L -6.8125 -7.140625 L -6.78125 -5.96875 L -6.8125 -4.8125 L -6.5 -4.8125 C -6.5 -5.828125 -6.03125 -5.828125 -5.765625 -5.828125 L -1.5 -5.828125 L -6.671875 -2.3125 C -6.796875 -2.21875 -6.8125 -2.21875 -6.8125 -2.03125 L -6.8125 -0.328125 L -6.5 -0.328125 L -6.5 -0.625 C -6.5 -0.765625 -6.484375 -0.96875 -6.484375 -1.109375 C -6.453125 -1.34375 -6.4375 -1.359375 -6.25 -1.359375 L -1.046875 -1.359375 C -0.78125 -1.359375 -0.3125 -1.359375 -0.3125 -0.328125 L 0 -0.328125 L -0.03125 -1.5 L 0 -2.65625 L -0.3125 -2.65625 C -0.3125 -1.640625 -0.78125 -1.640625 -1.046875 -1.640625 L -6.234375 -1.640625 C -6.1875 -1.6875 -6.171875 -1.6875 -6.109375 -1.734375 L -0.125 -5.796875 C -0.015625 -5.890625 0 -5.90625 0 -5.96875 C 0 -6.109375 -0.0625 -6.109375 -0.265625 -6.109375 L -5.765625 -6.109375 C -6.03125 -6.109375 -6.5 -6.109375 -6.5 -7.140625 Z M -6.5 -7.140625 \"/>\n",
       "</symbol>\n",
       "<symbol overflow=\"visible\" id=\"glyph-1522851466872247-1-2\">\n",
       "<path style=\"stroke:none;\" d=\"M -2.140625 -4.6875 C -3.40625 -4.6875 -4.46875 -3.703125 -4.46875 -2.5 C -4.46875 -1.25 -3.375 -0.28125 -2.140625 -0.28125 C -0.84375 -0.28125 0.109375 -1.3125 0.109375 -2.484375 C 0.109375 -3.6875 -0.875 -4.6875 -2.140625 -4.6875 Z M -2.21875 -3.875 C -1.859375 -3.875 -1.3125 -3.875 -0.875 -3.65625 C -0.421875 -3.421875 -0.140625 -2.984375 -0.140625 -2.5 C -0.140625 -2.0625 -0.34375 -1.625 -0.8125 -1.359375 C -1.25 -1.109375 -1.859375 -1.109375 -2.21875 -1.109375 C -2.609375 -1.109375 -3.140625 -1.109375 -3.578125 -1.34375 C -4.03125 -1.609375 -4.25 -2.078125 -4.25 -2.484375 C -4.25 -2.921875 -4.03125 -3.34375 -3.59375 -3.609375 C -3.171875 -3.875 -2.59375 -3.875 -2.21875 -3.875 Z M -2.21875 -3.875 \"/>\n",
       "</symbol>\n",
       "<symbol overflow=\"visible\" id=\"glyph-1522851466872247-1-3\">\n",
       "<path style=\"stroke:none;\" d=\"M -0.53125 -1.90625 C -0.8125 -1.90625 -1.0625 -1.671875 -1.0625 -1.390625 C -1.0625 -1.09375 -0.8125 -0.859375 -0.53125 -0.859375 C -0.234375 -0.859375 0 -1.09375 0 -1.390625 C 0 -1.671875 -0.234375 -1.90625 -0.53125 -1.90625 Z M -0.53125 -1.90625 \"/>\n",
       "</symbol>\n",
       "<symbol overflow=\"visible\" id=\"glyph-1522851466872247-1-4\">\n",
       "<path style=\"stroke:none;\" d=\"M -6.328125 -3.5625 C -6.703125 -3.5625 -7.03125 -3.1875 -7.03125 -2.65625 C -7.03125 -1.96875 -6.5 -1.109375 -5.4375 -1.109375 L -4.296875 -1.109375 L -4.296875 -0.328125 L -3.984375 -0.328125 L -3.984375 -1.109375 L -0.75 -1.109375 C -0.3125 -1.109375 -0.3125 -1 -0.3125 -0.34375 L 0 -0.34375 L -0.03125 -1.46875 C -0.03125 -1.875 -0.03125 -2.34375 0 -2.734375 L -0.3125 -2.734375 L -0.3125 -2.53125 C -0.3125 -1.796875 -0.421875 -1.78125 -0.78125 -1.78125 L -3.984375 -1.78125 L -3.984375 -2.90625 L -4.296875 -2.90625 L -4.296875 -1.75 L -5.453125 -1.75 C -6.328125 -1.75 -6.8125 -2.21875 -6.8125 -2.65625 C -6.8125 -2.6875 -6.8125 -2.84375 -6.734375 -2.984375 C -6.703125 -2.875 -6.5625 -2.6875 -6.3125 -2.6875 C -6.09375 -2.6875 -5.890625 -2.84375 -5.890625 -3.125 C -5.890625 -3.40625 -6.09375 -3.5625 -6.328125 -3.5625 Z M -6.328125 -3.5625 \"/>\n",
       "</symbol>\n",
       "<symbol overflow=\"visible\" id=\"glyph-1522851466872247-1-5\">\n",
       "<path style=\"stroke:none;\" d=\"M 0 -5.328125 L -0.3125 -5.328125 C -0.3125 -4.640625 -0.375 -4.5625 -0.875 -4.5625 L -4.40625 -4.5625 L -4.296875 -3.09375 L -3.984375 -3.09375 C -3.984375 -3.78125 -3.921875 -3.875 -3.421875 -3.875 L -1.65625 -3.875 C -0.78125 -3.875 -0.109375 -3.390625 -0.109375 -2.65625 C -0.109375 -1.828125 -0.578125 -1.78125 -1.09375 -1.78125 L -4.40625 -1.78125 L -4.296875 -0.3125 L -3.984375 -0.3125 C -3.984375 -1.09375 -3.953125 -1.09375 -3.078125 -1.09375 L -1.578125 -1.09375 C -0.796875 -1.09375 0.109375 -1.09375 0.109375 -2.609375 C 0.109375 -3.171875 -0.171875 -3.609375 -0.78125 -3.890625 L 0.109375 -3.890625 Z M 0 -5.328125 \"/>\n",
       "</symbol>\n",
       "<symbol overflow=\"visible\" id=\"glyph-1522851466872247-1-6\">\n",
       "<path style=\"stroke:none;\" d=\"M -2.15625 -5.1875 C -3.421875 -5.1875 -4.40625 -4.234375 -4.40625 -3.109375 C -4.40625 -2.328125 -3.96875 -1.90625 -3.75 -1.71875 L -4.40625 -1.71875 L -4.296875 -0.28125 L -3.984375 -0.28125 C -3.984375 -0.984375 -3.921875 -1.0625 -3.484375 -1.0625 L 1.171875 -1.0625 C 1.625 -1.0625 1.625 -0.953125 1.625 -0.28125 L 1.9375 -0.28125 L 1.90625 -1.390625 L 1.9375 -2.515625 L 1.625 -2.515625 C 1.625 -1.859375 1.625 -1.75 1.171875 -1.75 L -0.59375 -1.75 C -0.421875 -1.796875 0.109375 -2.21875 0.109375 -2.96875 C 0.109375 -4.15625 -0.875 -5.1875 -2.15625 -5.1875 Z M -2.15625 -4.359375 C -0.953125 -4.359375 -0.109375 -3.671875 -0.109375 -2.9375 C -0.109375 -2.53125 -0.3125 -2.15625 -0.71875 -1.890625 C -0.921875 -1.75 -0.9375 -1.75 -1.140625 -1.75 L -3.359375 -1.75 C -3.875 -2.03125 -4.15625 -2.515625 -4.15625 -3.03125 C -4.15625 -3.765625 -3.28125 -4.359375 -2.15625 -4.359375 Z M -2.15625 -4.359375 \"/>\n",
       "</symbol>\n",
       "<symbol overflow=\"visible\" id=\"glyph-1522851466872247-1-7\">\n",
       "<path style=\"stroke:none;\" d=\"M 0 -5.25 L -0.3125 -5.25 C -0.3125 -4.5625 -0.375 -4.46875 -0.875 -4.46875 L -6.921875 -4.46875 L -6.8125 -3.046875 L -6.5 -3.046875 C -6.5 -3.734375 -6.4375 -3.8125 -5.9375 -3.8125 L -3.78125 -3.8125 C -4.140625 -3.53125 -4.40625 -3.09375 -4.40625 -2.5625 C -4.40625 -1.390625 -3.421875 -0.34375 -2.140625 -0.34375 C -0.875 -0.34375 0.109375 -1.3125 0.109375 -2.453125 C 0.109375 -3.09375 -0.234375 -3.53125 -0.546875 -3.78125 L 0.109375 -3.78125 Z M -1.171875 -3.78125 C -1 -3.78125 -0.984375 -3.78125 -0.8125 -3.671875 C -0.328125 -3.375 -0.109375 -2.9375 -0.109375 -2.5 C -0.109375 -2.046875 -0.375 -1.6875 -0.75 -1.453125 C -1.15625 -1.203125 -1.71875 -1.171875 -2.140625 -1.171875 C -2.5 -1.171875 -3.09375 -1.1875 -3.546875 -1.46875 C -3.859375 -1.6875 -4.1875 -2.0625 -4.1875 -2.609375 C -4.1875 -2.953125 -4.03125 -3.375 -3.59375 -3.671875 C -3.421875 -3.78125 -3.40625 -3.78125 -3.21875 -3.78125 Z M -1.171875 -3.78125 \"/>\n",
       "</symbol>\n",
       "<symbol overflow=\"visible\" id=\"glyph-1522851466872247-1-8\">\n",
       "<path style=\"stroke:none;\" d=\"M -0.890625 -4.8125 L -1.453125 -4.8125 L -1.453125 -4.5625 L -0.890625 -4.5625 C -0.3125 -4.5625 -0.25 -4.3125 -0.25 -4.203125 C -0.25 -3.875 -0.703125 -3.84375 -0.75 -3.84375 L -2.734375 -3.84375 C -3.15625 -3.84375 -3.546875 -3.84375 -3.921875 -3.484375 C -4.3125 -3.09375 -4.46875 -2.59375 -4.46875 -2.109375 C -4.46875 -1.296875 -4 -0.609375 -3.34375 -0.609375 C -3.046875 -0.609375 -2.875 -0.8125 -2.875 -1.0625 C -2.875 -1.34375 -3.078125 -1.53125 -3.328125 -1.53125 C -3.453125 -1.53125 -3.78125 -1.46875 -3.78125 -1.015625 C -4.140625 -1.28125 -4.25 -1.78125 -4.25 -2.09375 C -4.25 -2.578125 -3.859375 -3.15625 -2.96875 -3.15625 L -2.609375 -3.15625 C -2.578125 -2.640625 -2.546875 -1.9375 -2.25 -1.3125 C -1.90625 -0.5625 -1.390625 -0.3125 -0.953125 -0.3125 C -0.140625 -0.3125 0.109375 -1.28125 0.109375 -1.90625 C 0.109375 -2.578125 -0.296875 -3.03125 -0.75 -3.21875 C -0.359375 -3.265625 0.0625 -3.53125 0.0625 -4 C 0.0625 -4.203125 -0.078125 -4.8125 -0.890625 -4.8125 Z M -1.390625 -3.15625 C -0.453125 -3.15625 -0.109375 -2.4375 -0.109375 -1.984375 C -0.109375 -1.5 -0.453125 -1.09375 -0.953125 -1.09375 C -1.5 -1.09375 -2.328125 -1.5 -2.390625 -3.15625 Z M -1.390625 -3.15625 \"/>\n",
       "</symbol>\n",
       "<symbol overflow=\"visible\" id=\"glyph-1522851466872247-1-9\">\n",
       "<path style=\"stroke:none;\" d=\"M -1.234375 -3.3125 L -1.796875 -3.3125 L -1.796875 -3.0625 L -1.25 -3.0625 C -0.515625 -3.0625 -0.140625 -2.765625 -0.140625 -2.390625 C -0.140625 -1.71875 -1.046875 -1.71875 -1.21875 -1.71875 L -3.984375 -1.71875 L -3.984375 -3.15625 L -4.296875 -3.15625 L -4.296875 -1.71875 L -6.125 -1.71875 L -6.125 -1.46875 C -5.3125 -1.46875 -4.25 -1.171875 -4.203125 -0.1875 L -3.984375 -0.1875 L -3.984375 -1.03125 L -1.234375 -1.03125 C -0.015625 -1.03125 0.109375 -1.96875 0.109375 -2.328125 C 0.109375 -3.03125 -0.59375 -3.3125 -1.234375 -3.3125 Z M -1.234375 -3.3125 \"/>\n",
       "</symbol>\n",
       "<symbol overflow=\"visible\" id=\"glyph-1522851466872247-1-10\">\n",
       "<path style=\"stroke:none;\" d=\"M -1.1875 -4.140625 C -1.28125 -4.140625 -1.3125 -4.0625 -1.3125 -4 C -1.3125 -3.921875 -1.25 -3.890625 -1.171875 -3.875 C -0.140625 -3.53125 -0.140625 -2.625 -0.140625 -2.53125 C -0.140625 -2.03125 -0.4375 -1.640625 -0.8125 -1.40625 C -1.28125 -1.109375 -1.9375 -1.109375 -2.296875 -1.109375 L -2.296875 -3.890625 C -2.296875 -4.109375 -2.296875 -4.140625 -2.515625 -4.140625 C -3.5 -4.140625 -4.46875 -3.59375 -4.46875 -2.359375 C -4.46875 -1.203125 -3.4375 -0.28125 -2.1875 -0.28125 C -0.859375 -0.28125 0.109375 -1.328125 0.109375 -2.46875 C 0.109375 -3.6875 -1 -4.140625 -1.1875 -4.140625 Z M -2.515625 -3.484375 L -2.515625 -1.109375 C -4 -1.171875 -4.25 -2.015625 -4.25 -2.359375 C -4.25 -3.375 -2.90625 -3.484375 -2.515625 -3.484375 Z M -2.515625 -3.484375 \"/>\n",
       "</symbol>\n",
       "<symbol overflow=\"visible\" id=\"glyph-1522851466872247-1-11\">\n",
       "<path style=\"stroke:none;\" d=\"M -1.28125 -3.59375 C -1.796875 -3.59375 -2.109375 -3.296875 -2.21875 -3.171875 C -2.546875 -2.84375 -2.625 -2.453125 -2.703125 -2.03125 C -2.8125 -1.46875 -2.9375 -0.8125 -3.515625 -0.8125 C -3.875 -0.8125 -4.28125 -1.0625 -4.28125 -1.921875 C -4.28125 -3.015625 -3.375 -3.078125 -3.078125 -3.09375 C -2.984375 -3.09375 -2.984375 -3.203125 -2.984375 -3.203125 C -2.984375 -3.34375 -3.03125 -3.34375 -3.21875 -3.34375 L -4.234375 -3.34375 C -4.390625 -3.34375 -4.46875 -3.34375 -4.46875 -3.234375 C -4.46875 -3.1875 -4.46875 -3.15625 -4.34375 -3.03125 C -4.3125 -3 -4.21875 -2.90625 -4.1875 -2.859375 C -4.46875 -2.484375 -4.46875 -2.078125 -4.46875 -1.921875 C -4.46875 -0.703125 -3.796875 -0.328125 -3.234375 -0.328125 C -2.890625 -0.328125 -2.609375 -0.484375 -2.390625 -0.75 C -2.140625 -1.078125 -2.078125 -1.359375 -1.9375 -2.078125 C -1.890625 -2.296875 -1.734375 -3.109375 -1.015625 -3.109375 C -0.515625 -3.109375 -0.109375 -2.765625 -0.109375 -1.984375 C -0.109375 -1.140625 -0.671875 -0.78125 -1.53125 -0.59375 C -1.65625 -0.5625 -1.6875 -0.5625 -1.6875 -0.453125 C -1.6875 -0.328125 -1.625 -0.328125 -1.453125 -0.328125 L -0.125 -0.328125 C 0.046875 -0.328125 0.109375 -0.328125 0.109375 -0.4375 C 0.109375 -0.484375 0.09375 -0.5 -0.09375 -0.6875 C -0.109375 -0.703125 -0.125 -0.703125 -0.3125 -0.890625 C 0.09375 -1.328125 0.109375 -1.78125 0.109375 -1.984375 C 0.109375 -3.125 -0.5625 -3.59375 -1.28125 -3.59375 Z M -1.28125 -3.59375 \"/>\n",
       "</symbol>\n",
       "</g>\n",
       "<clipPath id=\"clip-1522851466872247-1\">\n",
       "  <path d=\"M 52 21.773438 L 234 21.773438 L 234 264.941406 L 52 264.941406 Z M 52 21.773438 \"/>\n",
       "</clipPath>\n",
       "<clipPath id=\"clip-1522851466872247-2\">\n",
       "  <path d=\"M 52 21.773438 L 235 21.773438 L 235 264.941406 L 52 264.941406 Z M 52 21.773438 \"/>\n",
       "</clipPath>\n",
       "</defs>\n",
       "<g id=\"surface1\">\n",
       "<path style=\" stroke:none;fill-rule:nonzero;fill:rgb(100%,100%,100%);fill-opacity:1;\" d=\"M 47.542969 264.941406 L 239.113281 264.941406 L 239.113281 21.773438 L 47.542969 21.773438 Z M 47.542969 264.941406 \"/>\n",
       "<path style=\"fill:none;stroke-width:0.3985;stroke-linecap:butt;stroke-linejoin:miter;stroke:rgb(75%,75%,75%);stroke-opacity:1;stroke-miterlimit:10;\" d=\"M 5.420844 0.00059375 L 5.420844 243.168562 M 35.541938 0.00059375 L 35.541938 243.168562 M 65.663031 0.00059375 L 65.663031 243.168562 M 95.784125 0.00059375 L 95.784125 243.168562 M 125.905219 0.00059375 L 125.905219 243.168562 M 156.026313 0.00059375 L 156.026313 243.168562 M 186.147406 0.00059375 L 186.147406 243.168562 \" transform=\"matrix(1,0,0,-1,47.544,264.942)\"/>\n",
       "<path style=\"fill:none;stroke-width:0.3985;stroke-linecap:butt;stroke-linejoin:miter;stroke:rgb(75%,75%,75%);stroke-opacity:1;stroke-miterlimit:10;\" d=\"M -0.00103125 0.00059375 L 191.569281 0.00059375 M -0.00103125 80.297469 L 191.569281 80.297469 M -0.00103125 160.59825 L 191.569281 160.59825 M -0.00103125 240.895125 L 191.569281 240.895125 \" transform=\"matrix(1,0,0,-1,47.544,264.942)\"/>\n",
       "<path style=\"fill:none;stroke-width:0.19925;stroke-linecap:butt;stroke-linejoin:miter;stroke:rgb(50%,50%,50%);stroke-opacity:1;stroke-miterlimit:10;\" d=\"M 5.420844 0.00059375 L 5.420844 4.250594 M 35.541938 0.00059375 L 35.541938 4.250594 M 65.663031 0.00059375 L 65.663031 4.250594 M 95.784125 0.00059375 L 95.784125 4.250594 M 125.905219 0.00059375 L 125.905219 4.250594 M 156.026313 0.00059375 L 156.026313 4.250594 M 186.147406 0.00059375 L 186.147406 4.250594 \" transform=\"matrix(1,0,0,-1,47.544,264.942)\"/>\n",
       "<path style=\"fill:none;stroke-width:0.19925;stroke-linecap:butt;stroke-linejoin:miter;stroke:rgb(50%,50%,50%);stroke-opacity:1;stroke-miterlimit:10;\" d=\"M -0.00103125 0.00059375 L 4.252875 0.00059375 M -0.00103125 80.297469 L 4.252875 80.297469 M -0.00103125 160.59825 L 4.252875 160.59825 M -0.00103125 240.895125 L 4.252875 240.895125 \" transform=\"matrix(1,0,0,-1,47.544,264.942)\"/>\n",
       "<path style=\"fill:none;stroke-width:0.3985;stroke-linecap:butt;stroke-linejoin:miter;stroke:rgb(0%,0%,0%);stroke-opacity:1;stroke-miterlimit:10;\" d=\"M -0.00103125 0.00059375 L 191.569281 0.00059375 \" transform=\"matrix(1,0,0,-1,47.544,264.942)\"/>\n",
       "<path style=\"fill:none;stroke-width:0.3985;stroke-linecap:butt;stroke-linejoin:miter;stroke:rgb(0%,0%,0%);stroke-opacity:1;stroke-miterlimit:10;\" d=\"M -0.00103125 0.00059375 L -0.00103125 243.168562 \" transform=\"matrix(1,0,0,-1,47.544,264.942)\"/>\n",
       "<g style=\"fill:rgb(0%,0%,0%);fill-opacity:1;\">\n",
       "  <use xlink:href=\"#glyph-1522851466872247-0-1\" x=\"50.475\" y=\"275.097\"/>\n",
       "</g>\n",
       "<g style=\"fill:rgb(0%,0%,0%);fill-opacity:1;\">\n",
       "  <use xlink:href=\"#glyph-1522851466872247-0-2\" x=\"80.595\" y=\"275.097\"/>\n",
       "</g>\n",
       "<g style=\"fill:rgb(0%,0%,0%);fill-opacity:1;\">\n",
       "  <use xlink:href=\"#glyph-1522851466872247-0-3\" x=\"110.716\" y=\"275.097\"/>\n",
       "</g>\n",
       "<g style=\"fill:rgb(0%,0%,0%);fill-opacity:1;\">\n",
       "  <use xlink:href=\"#glyph-1522851466872247-0-4\" x=\"140.837\" y=\"275.207\"/>\n",
       "</g>\n",
       "<g style=\"fill:rgb(0%,0%,0%);fill-opacity:1;\">\n",
       "  <use xlink:href=\"#glyph-1522851466872247-0-5\" x=\"170.958\" y=\"275.097\"/>\n",
       "</g>\n",
       "<g style=\"fill:rgb(0%,0%,0%);fill-opacity:1;\">\n",
       "  <use xlink:href=\"#glyph-1522851466872247-0-6\" x=\"201.079\" y=\"275.097\"/>\n",
       "</g>\n",
       "<g style=\"fill:rgb(0%,0%,0%);fill-opacity:1;\">\n",
       "  <use xlink:href=\"#glyph-1522851466872247-0-7\" x=\"231.2\" y=\"275.197\"/>\n",
       "</g>\n",
       "<g style=\"fill:rgb(0%,0%,0%);fill-opacity:1;\">\n",
       "  <use xlink:href=\"#glyph-1522851466872247-0-8\" x=\"39.042\" y=\"268.15\"/>\n",
       "</g>\n",
       "<g style=\"fill:rgb(0%,0%,0%);fill-opacity:1;\">\n",
       "  <use xlink:href=\"#glyph-1522851466872247-0-1\" x=\"19.117\" y=\"187.853\"/>\n",
       "  <use xlink:href=\"#glyph-1522851466872247-0-8\" x=\"24.09832\" y=\"187.853\"/>\n",
       "  <use xlink:href=\"#glyph-1522851466872247-0-8\" x=\"29.07964\" y=\"187.853\"/>\n",
       "  <use xlink:href=\"#glyph-1522851466872247-0-8\" x=\"34.06096\" y=\"187.853\"/>\n",
       "  <use xlink:href=\"#glyph-1522851466872247-0-8\" x=\"39.04228\" y=\"187.853\"/>\n",
       "</g>\n",
       "<g style=\"fill:rgb(0%,0%,0%);fill-opacity:1;\">\n",
       "  <use xlink:href=\"#glyph-1522851466872247-0-2\" x=\"19.117\" y=\"107.555\"/>\n",
       "  <use xlink:href=\"#glyph-1522851466872247-0-8\" x=\"24.09832\" y=\"107.555\"/>\n",
       "  <use xlink:href=\"#glyph-1522851466872247-0-8\" x=\"29.07964\" y=\"107.555\"/>\n",
       "  <use xlink:href=\"#glyph-1522851466872247-0-8\" x=\"34.06096\" y=\"107.555\"/>\n",
       "  <use xlink:href=\"#glyph-1522851466872247-0-8\" x=\"39.04228\" y=\"107.555\"/>\n",
       "</g>\n",
       "<g style=\"fill:rgb(0%,0%,0%);fill-opacity:1;\">\n",
       "  <use xlink:href=\"#glyph-1522851466872247-0-3\" x=\"19.117\" y=\"27.258\"/>\n",
       "  <use xlink:href=\"#glyph-1522851466872247-0-8\" x=\"24.09832\" y=\"27.258\"/>\n",
       "  <use xlink:href=\"#glyph-1522851466872247-0-8\" x=\"29.07964\" y=\"27.258\"/>\n",
       "  <use xlink:href=\"#glyph-1522851466872247-0-8\" x=\"34.06096\" y=\"27.258\"/>\n",
       "  <use xlink:href=\"#glyph-1522851466872247-0-8\" x=\"39.04228\" y=\"27.258\"/>\n",
       "</g>\n",
       "<g clip-path=\"url(#clip-1522851466872247-1)\" clip-rule=\"nonzero\">\n",
       "<path style=\" stroke:none;fill-rule:nonzero;fill:rgb(5.880737%,52.941895%,74.900818%);fill-opacity:1;\" d=\"M 52.964844 261.296875 L 52.964844 264.941406 L 83.085938 264.941406 L 83.085938 261.296875 L 52.964844 261.296875 M 83.085938 216.046875 L 83.085938 264.941406 L 113.207031 264.941406 L 113.207031 216.046875 L 83.085938 216.046875 M 113.207031 261.3125 L 113.207031 264.941406 L 143.332031 264.941406 L 143.332031 261.3125 L 113.207031 261.3125 M 143.332031 261.554688 L 143.332031 264.941406 L 173.453125 264.941406 L 173.453125 261.554688 L 143.332031 261.554688 M 173.453125 21.777344 L 173.453125 264.941406 L 203.574219 264.941406 L 203.574219 21.777344 L 173.453125 21.777344 M 203.574219 261.554688 L 203.574219 264.941406 L 233.695312 264.941406 L 233.695312 261.554688 L 203.574219 261.554688 \"/>\n",
       "</g>\n",
       "<g clip-path=\"url(#clip-1522851466872247-2)\" clip-rule=\"nonzero\">\n",
       "<path style=\"fill:none;stroke-width:0.99628;stroke-linecap:butt;stroke-linejoin:miter;stroke:rgb(0%,0%,0%);stroke-opacity:1;stroke-miterlimit:10;\" d=\"M 5.420844 3.645125 L 5.420844 0.00059375 L 35.541938 0.00059375 L 35.541938 3.645125 L 5.420844 3.645125 M 35.541938 48.895125 L 35.541938 0.00059375 L 65.663031 0.00059375 L 65.663031 48.895125 L 35.541938 48.895125 M 65.663031 3.6295 L 65.663031 0.00059375 L 95.788031 0.00059375 L 95.788031 3.6295 L 65.663031 3.6295 M 95.788031 3.387312 L 95.788031 0.00059375 L 125.909125 0.00059375 L 125.909125 3.387312 L 95.788031 3.387312 M 125.909125 243.164656 L 125.909125 0.00059375 L 156.030219 0.00059375 L 156.030219 243.164656 L 125.909125 243.164656 M 156.030219 3.387312 L 156.030219 0.00059375 L 186.151313 0.00059375 L 186.151313 3.387312 L 156.030219 3.387312 \" transform=\"matrix(1,0,0,-1,47.544,264.942)\"/>\n",
       "</g>\n",
       "<g style=\"fill:rgb(0%,0%,0%);fill-opacity:1;\">\n",
       "  <use xlink:href=\"#glyph-1522851466872247-0-9\" x=\"127.472\" y=\"289.28\"/>\n",
       "  <use xlink:href=\"#glyph-1522851466872247-0-10\" x=\"135.292672\" y=\"289.28\"/>\n",
       "  <use xlink:href=\"#glyph-1522851466872247-0-11\" x=\"139.198027\" y=\"289.28\"/>\n",
       "  <use xlink:href=\"#glyph-1522851466872247-0-12\" x=\"144.179347\" y=\"289.28\"/>\n",
       "  <use xlink:href=\"#glyph-1522851466872247-0-13\" x=\"149.718575\" y=\"289.28\"/>\n",
       "  <use xlink:href=\"#glyph-1522851466872247-0-14\" x=\"155.257803\" y=\"289.28\"/>\n",
       "</g>\n",
       "<g style=\"fill:rgb(0%,0%,0%);fill-opacity:1;\">\n",
       "  <use xlink:href=\"#glyph-1522851466872247-1-1\" x=\"10.344\" y=\"175.908\"/>\n",
       "  <use xlink:href=\"#glyph-1522851466872247-1-2\" x=\"10.344\" y=\"168.43602\"/>\n",
       "  <use xlink:href=\"#glyph-1522851466872247-1-3\" x=\"10.344\" y=\"163.4547\"/>\n",
       "</g>\n",
       "<g style=\"fill:rgb(0%,0%,0%);fill-opacity:1;\">\n",
       "  <use xlink:href=\"#glyph-1522851466872247-1-2\" x=\"10.344\" y=\"156.261674\"/>\n",
       "  <use xlink:href=\"#glyph-1522851466872247-1-4\" x=\"10.344\" y=\"151.280354\"/>\n",
       "</g>\n",
       "<g style=\"fill:rgb(0%,0%,0%);fill-opacity:1;\">\n",
       "  <use xlink:href=\"#glyph-1522851466872247-1-5\" x=\"10.344\" y=\"144.914227\"/>\n",
       "  <use xlink:href=\"#glyph-1522851466872247-1-6\" x=\"10.344\" y=\"139.374999\"/>\n",
       "</g>\n",
       "<g style=\"fill:rgb(0%,0%,0%);fill-opacity:1;\">\n",
       "  <use xlink:href=\"#glyph-1522851466872247-1-7\" x=\"10.344\" y=\"133.556817\"/>\n",
       "  <use xlink:href=\"#glyph-1522851466872247-1-8\" x=\"10.344\" y=\"128.01759\"/>\n",
       "  <use xlink:href=\"#glyph-1522851466872247-1-9\" x=\"10.344\" y=\"123.03627\"/>\n",
       "  <use xlink:href=\"#glyph-1522851466872247-1-10\" x=\"10.344\" y=\"119.160803\"/>\n",
       "  <use xlink:href=\"#glyph-1522851466872247-1-11\" x=\"10.344\" y=\"114.73739\"/>\n",
       "</g>\n",
       "<g style=\"fill:rgb(0%,0%,0%);fill-opacity:1;\">\n",
       "  <use xlink:href=\"#glyph-1522851466872247-0-15\" x=\"52.12\" y=\"10.348\"/>\n",
       "  <use xlink:href=\"#glyph-1522851466872247-0-16\" x=\"58.904558\" y=\"10.348\"/>\n",
       "</g>\n",
       "<g style=\"fill:rgb(0%,0%,0%);fill-opacity:1;\">\n",
       "  <use xlink:href=\"#glyph-1522851466872247-0-11\" x=\"63.885878\" y=\"10.348\"/>\n",
       "  <use xlink:href=\"#glyph-1522851466872247-0-17\" x=\"68.867198\" y=\"10.348\"/>\n",
       "  <use xlink:href=\"#glyph-1522851466872247-0-12\" x=\"71.636812\" y=\"10.348\"/>\n",
       "  <use xlink:href=\"#glyph-1522851466872247-0-18\" x=\"77.17604\" y=\"10.348\"/>\n",
       "  <use xlink:href=\"#glyph-1522851466872247-0-19\" x=\"81.051507\" y=\"10.348\"/>\n",
       "  <use xlink:href=\"#glyph-1522851466872247-0-11\" x=\"83.82112\" y=\"10.348\"/>\n",
       "  <use xlink:href=\"#glyph-1522851466872247-0-20\" x=\"88.80244\" y=\"10.348\"/>\n",
       "</g>\n",
       "<g style=\"fill:rgb(0%,0%,0%);fill-opacity:1;\">\n",
       "  <use xlink:href=\"#glyph-1522851466872247-0-11\" x=\"97.659227\" y=\"10.348\"/>\n",
       "  <use xlink:href=\"#glyph-1522851466872247-0-21\" x=\"102.640547\" y=\"10.348\"/>\n",
       "</g>\n",
       "<g style=\"fill:rgb(0%,0%,0%);fill-opacity:1;\">\n",
       "  <use xlink:href=\"#glyph-1522851466872247-0-12\" x=\"109.006674\" y=\"10.348\"/>\n",
       "  <use xlink:href=\"#glyph-1522851466872247-0-13\" x=\"114.545902\" y=\"10.348\"/>\n",
       "</g>\n",
       "<g style=\"fill:rgb(0%,0%,0%);fill-opacity:1;\">\n",
       "  <use xlink:href=\"#glyph-1522851466872247-0-22\" x=\"120.364084\" y=\"10.348\"/>\n",
       "  <use xlink:href=\"#glyph-1522851466872247-0-23\" x=\"125.903312\" y=\"10.348\"/>\n",
       "  <use xlink:href=\"#glyph-1522851466872247-0-18\" x=\"130.884632\" y=\"10.348\"/>\n",
       "  <use xlink:href=\"#glyph-1522851466872247-0-24\" x=\"134.760099\" y=\"10.348\"/>\n",
       "  <use xlink:href=\"#glyph-1522851466872247-0-14\" x=\"139.183511\" y=\"10.348\"/>\n",
       "  <use xlink:href=\"#glyph-1522851466872247-0-25\" x=\"143.108791\" y=\"10.348\"/>\n",
       "</g>\n",
       "<g style=\"fill:rgb(0%,0%,0%);fill-opacity:1;\">\n",
       "  <use xlink:href=\"#glyph-1522851466872247-0-22\" x=\"149.195964\" y=\"10.348\"/>\n",
       "  <use xlink:href=\"#glyph-1522851466872247-0-19\" x=\"154.735192\" y=\"10.348\"/>\n",
       "  <use xlink:href=\"#glyph-1522851466872247-0-14\" x=\"157.504806\" y=\"10.348\"/>\n",
       "  <use xlink:href=\"#glyph-1522851466872247-0-18\" x=\"161.430086\" y=\"10.348\"/>\n",
       "  <use xlink:href=\"#glyph-1522851466872247-0-10\" x=\"165.305553\" y=\"10.348\"/>\n",
       "  <use xlink:href=\"#glyph-1522851466872247-0-19\" x=\"169.210908\" y=\"10.348\"/>\n",
       "  <use xlink:href=\"#glyph-1522851466872247-0-26\" x=\"171.980522\" y=\"10.348\"/>\n",
       "  <use xlink:href=\"#glyph-1522851466872247-0-12\" x=\"177.51975\" y=\"10.348\"/>\n",
       "  <use xlink:href=\"#glyph-1522851466872247-0-18\" x=\"183.058978\" y=\"10.348\"/>\n",
       "  <use xlink:href=\"#glyph-1522851466872247-0-19\" x=\"186.934444\" y=\"10.348\"/>\n",
       "  <use xlink:href=\"#glyph-1522851466872247-0-11\" x=\"189.704058\" y=\"10.348\"/>\n",
       "  <use xlink:href=\"#glyph-1522851466872247-0-20\" x=\"194.685378\" y=\"10.348\"/>\n",
       "</g>\n",
       "<g style=\"fill:rgb(0%,0%,0%);fill-opacity:1;\">\n",
       "  <use xlink:href=\"#glyph-1522851466872247-0-19\" x=\"203.542165\" y=\"10.348\"/>\n",
       "  <use xlink:href=\"#glyph-1522851466872247-0-20\" x=\"206.311779\" y=\"10.348\"/>\n",
       "</g>\n",
       "<g style=\"fill:rgb(0%,0%,0%);fill-opacity:1;\">\n",
       "  <use xlink:href=\"#glyph-1522851466872247-0-18\" x=\"215.168566\" y=\"10.348\"/>\n",
       "  <use xlink:href=\"#glyph-1522851466872247-0-19\" x=\"219.044033\" y=\"10.348\"/>\n",
       "  <use xlink:href=\"#glyph-1522851466872247-0-27\" x=\"221.813647\" y=\"10.348\"/>\n",
       "  <use xlink:href=\"#glyph-1522851466872247-0-24\" x=\"230.112526\" y=\"10.348\"/>\n",
       "</g>\n",
       "<path style=\" stroke:none;fill-rule:nonzero;fill:rgb(100%,100%,100%);fill-opacity:1;\" d=\"M 283.945312 264.941406 L 434.710938 264.941406 L 434.710938 21.769531 L 283.945312 21.769531 Z M 283.945312 264.941406 \"/>\n",
       "<path style=\"fill:none;stroke-width:0.3985;stroke-linecap:butt;stroke-linejoin:miter;stroke:rgb(75%,75%,75%);stroke-opacity:1;stroke-miterlimit:10;\" d=\"M 0.0013125 0.00059375 L 0.0013125 243.172469 M 30.153656 0.00059375 L 30.153656 243.172469 M 60.306 0.00059375 L 60.306 243.172469 M 90.46225 0.00059375 L 90.46225 243.172469 M 120.614594 0.00059375 L 120.614594 243.172469 M 150.766937 0.00059375 L 150.766937 243.172469 \" transform=\"matrix(1,0,0,-1,283.944,264.942)\"/>\n",
       "<path style=\"fill:none;stroke-width:0.3985;stroke-linecap:butt;stroke-linejoin:miter;stroke:rgb(75%,75%,75%);stroke-opacity:1;stroke-miterlimit:10;\" d=\"M 0.0013125 0.00059375 L 150.766937 0.00059375 M 0.0013125 48.633406 L 150.766937 48.633406 M 0.0013125 97.270125 L 150.766937 97.270125 M 0.0013125 145.902937 L 150.766937 145.902937 M 0.0013125 194.53575 L 150.766937 194.53575 M 0.0013125 243.172469 L 150.766937 243.172469 \" transform=\"matrix(1,0,0,-1,283.944,264.942)\"/>\n",
       "<path style=\"fill:none;stroke-width:0.19925;stroke-linecap:butt;stroke-linejoin:miter;stroke:rgb(50%,50%,50%);stroke-opacity:1;stroke-miterlimit:10;\" d=\"M 0.0013125 0.00059375 L 0.0013125 4.2545 M 30.153656 0.00059375 L 30.153656 4.2545 M 60.306 0.00059375 L 60.306 4.2545 M 90.46225 0.00059375 L 90.46225 4.2545 M 120.614594 0.00059375 L 120.614594 4.2545 M 150.766937 0.00059375 L 150.766937 4.2545 \" transform=\"matrix(1,0,0,-1,283.944,264.942)\"/>\n",
       "<path style=\"fill:none;stroke-width:0.19925;stroke-linecap:butt;stroke-linejoin:miter;stroke:rgb(50%,50%,50%);stroke-opacity:1;stroke-miterlimit:10;\" d=\"M 0.0013125 0.00059375 L 4.251312 0.00059375 M 0.0013125 48.633406 L 4.251312 48.633406 M 0.0013125 97.270125 L 4.251312 97.270125 M 0.0013125 145.902937 L 4.251312 145.902937 M 0.0013125 194.53575 L 4.251312 194.53575 M 0.0013125 243.172469 L 4.251312 243.172469 \" transform=\"matrix(1,0,0,-1,283.944,264.942)\"/>\n",
       "<path style=\"fill:none;stroke-width:0.3985;stroke-linecap:butt;stroke-linejoin:miter;stroke:rgb(0%,0%,0%);stroke-opacity:1;stroke-miterlimit:10;\" d=\"M 0.0013125 0.00059375 L 150.766937 0.00059375 \" transform=\"matrix(1,0,0,-1,283.944,264.942)\"/>\n",
       "<path style=\"fill:none;stroke-width:0.3985;stroke-linecap:butt;stroke-linejoin:miter;stroke:rgb(0%,0%,0%);stroke-opacity:1;stroke-miterlimit:10;\" d=\"M 0.0013125 0.00059375 L 0.0013125 243.172469 \" transform=\"matrix(1,0,0,-1,283.944,264.942)\"/>\n",
       "<g style=\"fill:rgb(0%,0%,0%);fill-opacity:1;\">\n",
       "  <use xlink:href=\"#glyph-1522851466872247-0-8\" x=\"277.577\" y=\"275.097\"/>\n",
       "  <use xlink:href=\"#glyph-1522851466872247-0-28\" x=\"282.55832\" y=\"275.097\"/>\n",
       "  <use xlink:href=\"#glyph-1522851466872247-0-8\" x=\"285.327934\" y=\"275.097\"/>\n",
       "</g>\n",
       "<g style=\"fill:rgb(0%,0%,0%);fill-opacity:1;\">\n",
       "  <use xlink:href=\"#glyph-1522851466872247-0-8\" x=\"307.731\" y=\"275.097\"/>\n",
       "  <use xlink:href=\"#glyph-1522851466872247-0-28\" x=\"312.71232\" y=\"275.097\"/>\n",
       "  <use xlink:href=\"#glyph-1522851466872247-0-2\" x=\"315.481934\" y=\"275.097\"/>\n",
       "</g>\n",
       "<g style=\"fill:rgb(0%,0%,0%);fill-opacity:1;\">\n",
       "  <use xlink:href=\"#glyph-1522851466872247-0-8\" x=\"337.884\" y=\"275.207\"/>\n",
       "  <use xlink:href=\"#glyph-1522851466872247-0-28\" x=\"342.86532\" y=\"275.207\"/>\n",
       "  <use xlink:href=\"#glyph-1522851466872247-0-4\" x=\"345.634934\" y=\"275.207\"/>\n",
       "</g>\n",
       "<g style=\"fill:rgb(0%,0%,0%);fill-opacity:1;\">\n",
       "  <use xlink:href=\"#glyph-1522851466872247-0-8\" x=\"368.037\" y=\"275.097\"/>\n",
       "  <use xlink:href=\"#glyph-1522851466872247-0-28\" x=\"373.01832\" y=\"275.097\"/>\n",
       "  <use xlink:href=\"#glyph-1522851466872247-0-6\" x=\"375.787934\" y=\"275.097\"/>\n",
       "</g>\n",
       "<g style=\"fill:rgb(0%,0%,0%);fill-opacity:1;\">\n",
       "  <use xlink:href=\"#glyph-1522851466872247-0-8\" x=\"398.191\" y=\"275.097\"/>\n",
       "  <use xlink:href=\"#glyph-1522851466872247-0-28\" x=\"403.17232\" y=\"275.097\"/>\n",
       "  <use xlink:href=\"#glyph-1522851466872247-0-29\" x=\"405.941934\" y=\"275.097\"/>\n",
       "</g>\n",
       "<g style=\"fill:rgb(0%,0%,0%);fill-opacity:1;\">\n",
       "  <use xlink:href=\"#glyph-1522851466872247-0-1\" x=\"428.344\" y=\"275.097\"/>\n",
       "  <use xlink:href=\"#glyph-1522851466872247-0-28\" x=\"433.32532\" y=\"275.097\"/>\n",
       "  <use xlink:href=\"#glyph-1522851466872247-0-8\" x=\"436.094934\" y=\"275.097\"/>\n",
       "</g>\n",
       "<g style=\"fill:rgb(0%,0%,0%);fill-opacity:1;\">\n",
       "  <use xlink:href=\"#glyph-1522851466872247-0-8\" x=\"267.692\" y=\"268.15\"/>\n",
       "  <use xlink:href=\"#glyph-1522851466872247-0-28\" x=\"272.67332\" y=\"268.15\"/>\n",
       "  <use xlink:href=\"#glyph-1522851466872247-0-8\" x=\"275.442934\" y=\"268.15\"/>\n",
       "</g>\n",
       "<g style=\"fill:rgb(0%,0%,0%);fill-opacity:1;\">\n",
       "  <use xlink:href=\"#glyph-1522851466872247-0-8\" x=\"267.692\" y=\"219.517\"/>\n",
       "  <use xlink:href=\"#glyph-1522851466872247-0-28\" x=\"272.67332\" y=\"219.517\"/>\n",
       "  <use xlink:href=\"#glyph-1522851466872247-0-2\" x=\"275.442934\" y=\"219.517\"/>\n",
       "</g>\n",
       "<g style=\"fill:rgb(0%,0%,0%);fill-opacity:1;\">\n",
       "  <use xlink:href=\"#glyph-1522851466872247-0-8\" x=\"267.692\" y=\"170.938\"/>\n",
       "  <use xlink:href=\"#glyph-1522851466872247-0-28\" x=\"272.67332\" y=\"170.938\"/>\n",
       "  <use xlink:href=\"#glyph-1522851466872247-0-4\" x=\"275.442934\" y=\"170.938\"/>\n",
       "</g>\n",
       "<g style=\"fill:rgb(0%,0%,0%);fill-opacity:1;\">\n",
       "  <use xlink:href=\"#glyph-1522851466872247-0-8\" x=\"267.692\" y=\"122.249\"/>\n",
       "  <use xlink:href=\"#glyph-1522851466872247-0-28\" x=\"272.67332\" y=\"122.249\"/>\n",
       "  <use xlink:href=\"#glyph-1522851466872247-0-6\" x=\"275.442934\" y=\"122.249\"/>\n",
       "</g>\n",
       "<g style=\"fill:rgb(0%,0%,0%);fill-opacity:1;\">\n",
       "  <use xlink:href=\"#glyph-1522851466872247-0-8\" x=\"267.692\" y=\"73.616\"/>\n",
       "  <use xlink:href=\"#glyph-1522851466872247-0-28\" x=\"272.67332\" y=\"73.616\"/>\n",
       "  <use xlink:href=\"#glyph-1522851466872247-0-29\" x=\"275.442934\" y=\"73.616\"/>\n",
       "</g>\n",
       "<g style=\"fill:rgb(0%,0%,0%);fill-opacity:1;\">\n",
       "  <use xlink:href=\"#glyph-1522851466872247-0-1\" x=\"267.692\" y=\"24.982\"/>\n",
       "  <use xlink:href=\"#glyph-1522851466872247-0-28\" x=\"272.67332\" y=\"24.982\"/>\n",
       "  <use xlink:href=\"#glyph-1522851466872247-0-8\" x=\"275.442934\" y=\"24.982\"/>\n",
       "</g>\n",
       "<g style=\"fill:rgb(0%,0%,0%);fill-opacity:1;\">\n",
       "  <use xlink:href=\"#glyph-1522851466872247-0-15\" x=\"268.119\" y=\"10.344\"/>\n",
       "  <use xlink:href=\"#glyph-1522851466872247-0-16\" x=\"274.903558\" y=\"10.344\"/>\n",
       "</g>\n",
       "<g style=\"fill:rgb(0%,0%,0%);fill-opacity:1;\">\n",
       "  <use xlink:href=\"#glyph-1522851466872247-0-11\" x=\"279.884878\" y=\"10.344\"/>\n",
       "  <use xlink:href=\"#glyph-1522851466872247-0-17\" x=\"284.866198\" y=\"10.344\"/>\n",
       "  <use xlink:href=\"#glyph-1522851466872247-0-12\" x=\"287.635812\" y=\"10.344\"/>\n",
       "  <use xlink:href=\"#glyph-1522851466872247-0-18\" x=\"293.17504\" y=\"10.344\"/>\n",
       "  <use xlink:href=\"#glyph-1522851466872247-0-19\" x=\"297.050507\" y=\"10.344\"/>\n",
       "  <use xlink:href=\"#glyph-1522851466872247-0-11\" x=\"299.82012\" y=\"10.344\"/>\n",
       "  <use xlink:href=\"#glyph-1522851466872247-0-20\" x=\"304.80144\" y=\"10.344\"/>\n",
       "</g>\n",
       "<g style=\"fill:rgb(0%,0%,0%);fill-opacity:1;\">\n",
       "  <use xlink:href=\"#glyph-1522851466872247-0-11\" x=\"313.658227\" y=\"10.344\"/>\n",
       "  <use xlink:href=\"#glyph-1522851466872247-0-21\" x=\"318.639547\" y=\"10.344\"/>\n",
       "</g>\n",
       "<g style=\"fill:rgb(0%,0%,0%);fill-opacity:1;\">\n",
       "  <use xlink:href=\"#glyph-1522851466872247-0-12\" x=\"325.005674\" y=\"10.344\"/>\n",
       "  <use xlink:href=\"#glyph-1522851466872247-0-13\" x=\"330.544902\" y=\"10.344\"/>\n",
       "</g>\n",
       "<g style=\"fill:rgb(0%,0%,0%);fill-opacity:1;\">\n",
       "  <use xlink:href=\"#glyph-1522851466872247-0-22\" x=\"336.363084\" y=\"10.344\"/>\n",
       "  <use xlink:href=\"#glyph-1522851466872247-0-23\" x=\"341.902312\" y=\"10.344\"/>\n",
       "  <use xlink:href=\"#glyph-1522851466872247-0-18\" x=\"346.883632\" y=\"10.344\"/>\n",
       "  <use xlink:href=\"#glyph-1522851466872247-0-24\" x=\"350.759099\" y=\"10.344\"/>\n",
       "  <use xlink:href=\"#glyph-1522851466872247-0-14\" x=\"355.182511\" y=\"10.344\"/>\n",
       "  <use xlink:href=\"#glyph-1522851466872247-0-25\" x=\"359.107791\" y=\"10.344\"/>\n",
       "</g>\n",
       "<g style=\"fill:rgb(0%,0%,0%);fill-opacity:1;\">\n",
       "  <use xlink:href=\"#glyph-1522851466872247-0-22\" x=\"365.194964\" y=\"10.344\"/>\n",
       "  <use xlink:href=\"#glyph-1522851466872247-0-19\" x=\"370.734192\" y=\"10.344\"/>\n",
       "  <use xlink:href=\"#glyph-1522851466872247-0-14\" x=\"373.503806\" y=\"10.344\"/>\n",
       "  <use xlink:href=\"#glyph-1522851466872247-0-18\" x=\"377.429086\" y=\"10.344\"/>\n",
       "  <use xlink:href=\"#glyph-1522851466872247-0-10\" x=\"381.304553\" y=\"10.344\"/>\n",
       "  <use xlink:href=\"#glyph-1522851466872247-0-19\" x=\"385.209908\" y=\"10.344\"/>\n",
       "  <use xlink:href=\"#glyph-1522851466872247-0-26\" x=\"387.979522\" y=\"10.344\"/>\n",
       "  <use xlink:href=\"#glyph-1522851466872247-0-12\" x=\"393.51875\" y=\"10.344\"/>\n",
       "  <use xlink:href=\"#glyph-1522851466872247-0-18\" x=\"399.057978\" y=\"10.344\"/>\n",
       "  <use xlink:href=\"#glyph-1522851466872247-0-19\" x=\"402.933444\" y=\"10.344\"/>\n",
       "  <use xlink:href=\"#glyph-1522851466872247-0-11\" x=\"405.703058\" y=\"10.344\"/>\n",
       "  <use xlink:href=\"#glyph-1522851466872247-0-20\" x=\"410.684378\" y=\"10.344\"/>\n",
       "</g>\n",
       "<g style=\"fill:rgb(0%,0%,0%);fill-opacity:1;\">\n",
       "  <use xlink:href=\"#glyph-1522851466872247-0-19\" x=\"419.541165\" y=\"10.344\"/>\n",
       "  <use xlink:href=\"#glyph-1522851466872247-0-20\" x=\"422.310779\" y=\"10.344\"/>\n",
       "</g>\n",
       "<g style=\"fill:rgb(0%,0%,0%);fill-opacity:1;\">\n",
       "  <use xlink:href=\"#glyph-1522851466872247-0-18\" x=\"431.167566\" y=\"10.344\"/>\n",
       "  <use xlink:href=\"#glyph-1522851466872247-0-19\" x=\"435.043033\" y=\"10.344\"/>\n",
       "  <use xlink:href=\"#glyph-1522851466872247-0-27\" x=\"437.812647\" y=\"10.344\"/>\n",
       "  <use xlink:href=\"#glyph-1522851466872247-0-24\" x=\"446.111526\" y=\"10.344\"/>\n",
       "</g>\n",
       "</g>\n",
       "</svg>\n",
       "\n"
      ]
     },
     "execution_count": 26,
     "metadata": {},
     "output_type": "execute_result"
    }
   ],
   "source": [
    "l = @layout([a{0.5w} b{0.5w}])\n",
    "Hist_N5 = plot(UpdateSequence_N5[2:end], nbins=6, xaxis = (\"Groups\", font(12, \"Helvetica\")),\n",
    "                    yaxis = (\"No. of updates\", font(12, \"Helvetica\")),\n",
    "                    titlefont = font(16, \"Helvetica\"),\n",
    "                    color=\"#0f87bf\",\n",
    "                    layout=l, t=[:histogram],\n",
    "                    leg = false\n",
    ")\n",
    "title!(\"Evolution of updates' distribution in time\")\n",
    "\n",
    "# # build an animated gif, saving every 10th frame\n",
    "# @gif for i = 2:1000\n",
    "#     histogram(UpdateSequence[2:i], nbins=6, xaxis = (\"Groups\", font(10, \"Helvetica\")),\n",
    "#                     yaxis = (\"No. of updates\", font(10, \"Helvetica\")),\n",
    "#                     titlefont = font(12, \"Helvetica\"),\n",
    "#                     color=\"#0f87bf\",\n",
    "# #                     layout=1,t=[:histogram],\n",
    "# leg = false\n",
    "# )\n",
    "# title!(\"Evolution of updates' distribution in time\")\n",
    "# end every 30"
   ]
  },
  {
   "cell_type": "code",
   "execution_count": 33,
   "metadata": {
    "collapsed": false,
    "scrolled": true
   },
   "outputs": [
    {
     "data": {
      "text/plain": [
       "42990×6 Array{Int64,2}:\n",
       "   0     0    0    0      1    0\n",
       "   0     0    0    0      2    0\n",
       "   0     0    0    0      3    0\n",
       "   0     0    0    0      4    0\n",
       "   0     1    0    0      4    0\n",
       "   0     1    0    0      5    0\n",
       "   0     1    0    0      6    0\n",
       "   0     1    0    0      7    0\n",
       "   0     1    0    0      8    0\n",
       "   0     2    0    0      8    0\n",
       "   0     2    0    0      9    0\n",
       "   0     2    0    0     10    0\n",
       "   0     2    0    0     11    0\n",
       "   ⋮                           ⋮\n",
       " 565  7523  567  471  33382  471\n",
       " 565  7523  567  471  33383  471\n",
       " 565  7524  567  471  33383  471\n",
       " 565  7524  567  471  33384  471\n",
       " 565  7524  567  471  33385  471\n",
       " 566  7524  567  471  33385  471\n",
       " 566  7524  567  471  33386  471\n",
       " 566  7524  567  471  33387  471\n",
       " 566  7525  567  471  33387  471\n",
       " 566  7525  567  471  33388  471\n",
       " 566  7525  567  471  33389  471\n",
       " 566  7525  567  471  33390  471"
      ]
     },
     "execution_count": 33,
     "metadata": {},
     "output_type": "execute_result"
    }
   ],
   "source": [
    "UpdateSequence_N5"
   ]
  },
  {
   "cell_type": "code",
   "execution_count": 30,
   "metadata": {
    "collapsed": false
   },
   "outputs": [
    {
     "data": {
      "text/plain": [
       "45604×2 Array{Float64,2}:\n",
       "   0.0        0.0\n",
       "   0.0172079  5.0\n",
       "   0.0332971  5.0\n",
       "   0.051051   5.0\n",
       "   0.0646333  5.0\n",
       "   0.0796165  2.0\n",
       "   0.0806668  5.0\n",
       "   0.0973868  5.0\n",
       "   0.111072   5.0\n",
       "   0.127379   5.0\n",
       "   0.143607   5.0\n",
       "   0.155456   2.0\n",
       "   0.159786   5.0\n",
       "   ⋮             \n",
       " 599.858      5.0\n",
       " 599.865      2.0\n",
       " 599.874      5.0\n",
       " 599.891      5.0\n",
       " 599.907      5.0\n",
       " 599.923      5.0\n",
       " 599.937      5.0\n",
       " 599.944      2.0\n",
       " 599.955      5.0\n",
       " 599.974      5.0\n",
       " 599.989      5.0\n",
       " 600.007      5.0"
      ]
     },
     "execution_count": 30,
     "metadata": {},
     "output_type": "execute_result"
    }
   ],
   "source": [
    "[T4 UpdateSequence]"
   ]
  },
  {
   "cell_type": "code",
   "execution_count": null,
   "metadata": {
    "collapsed": true
   },
   "outputs": [],
   "source": []
  }
 ],
 "metadata": {
  "kernelspec": {
   "display_name": "Julia 0.6.2",
   "language": "julia",
   "name": "julia-0.6"
  },
  "language_info": {
   "file_extension": ".jl",
   "mimetype": "application/julia",
   "name": "julia",
   "version": "0.6.2"
  }
 },
 "nbformat": 4,
 "nbformat_minor": 0
}

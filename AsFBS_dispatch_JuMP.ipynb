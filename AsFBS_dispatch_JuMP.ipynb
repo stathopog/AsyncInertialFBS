{
 "cells": [
  {
   "cell_type": "markdown",
   "metadata": {},
   "source": [
    "$\\Large{\\textbf{Asynchronous Inertial Forward-Backward Splitting for Load Sharing}}$"
   ]
  },
  {
   "cell_type": "markdown",
   "metadata": {},
   "source": [
    "$\\textbf{Goal}$\n",
    "\n",
    "A collection of $N$ controllable buildings, represented as linear dynamical systems, along with an energy storage \n",
    "system, represented as a one-state linear battery model, cooperate in order to track a signal. The signal corresponds\n",
    "to the deviation of the planned power consumption of the buildings to their real-time consumption in addition to power deviations that are caused by uncontrollable loads. The mix of battery + buildings compensates for the aggregate deviation.  \n",
    "\n",
    "$\\textbf{Problem formulation}$\n",
    "\n",
    "Track power residual signal for $T$ time instants (15 mins intervals) while operating the buildings and the battery within constraints. \n",
    "\n",
    "Can be formulated as\n",
    "\n",
    "\\begin{equation}\n",
    "\\begin{aligned}\n",
    "&{\\text{minimize}} && \\sum_{t=0}^T\\left(\\frac{\\alpha}{2}\\|p^\\mathrm{bess}(t) + \\sum_{i=1}^N(p_i^\\mathrm{cb}(t)-\\hat{p}_i^\\mathrm{cb}(t))-r(t)\\|^2_2 + \\sum_{i=1}^N g^\\mathrm{cb}_i(p^{\\mathrm{cb}}_i,u_i,x_i,y_i) + g^\\mathrm{bess}(p^\\mathrm{bess})\\right)\\enspace,\n",
    "\\end{aligned}\n",
    "\\end{equation}\n",
    "with variables $p^\\mathrm{bess}\\in\\mathbb{R}^T$ denoting the battery's power (generation or consumption), $p_i^\\mathrm{cb}$ the $i^\\mathrm{th}$ building's power consumption and $u_i,x_i,y_i$ being variables local to building $i$.\n",
    "\n",
    "\n",
    "\n",
    "\n"
   ]
  },
  {
   "cell_type": "markdown",
   "metadata": {},
   "source": [
    "The problem comprises three types of terms:\n",
    "* Tracking term $\\frac{\\alpha}{2}\\|p^\\mathrm{bess}(t) + \\sum_{i=1}^N(p_i^\\mathrm{cb}(t)-\\hat{p}_i^\\mathrm{cb}(t))-r(t)\\|^2_2$: The signal $r$ is generated from the coordinator and should be tracked by the buildings and the battery, who can vary their consumption within a zone that is centered around their planned consumption (denoted by $p^{\\mathrm{cb}}_i$ for building $i$) and defined by their operational constraints.\n",
    "* Building (CB) $i$'s objective: \\begin{equation}\n",
    "g^\\mathrm{cb}_i(p^{\\mathrm{cb}}_i,u_i,x_i,y_i) := \\Big\\{\\frac{1}{2}\\|y_i(t)-T_i^\\mathrm{ref}(t)\\|^2_2\n",
    "                                             \\;\\mid\\;(p^{\\mathrm{cb}}_i,u_i,x_i,y_i)\\in\\mathcal{C}^\\mathrm{cb}_i \\Big\\}\\enspace,\n",
    "\\end{equation}\n",
    "where the zones' temperatures $y_i$ have to remain close to a reference $T_i^\\mathrm{ref}$ while respecting operational and comfort constraints encoded in the convex set $\\mathcal{C}^\\mathrm{cb}_i$.\n",
    "* Battery (BESS) objective: \\begin{equation}\n",
    "g^\\mathrm{bess}(p^\\mathrm{bess}) := \\Big\\{\\frac{1}{2}\\sum_{t=1}^T\\|SOC(t)-SOC^\\mathrm{ref}(t)\\|^2_2\n",
    "                                             \\;\\mid\\;p^\\mathrm{bess}\\in\\mathcal{C}^\\mathrm{bess} \\Big\\}\\enspace,\n",
    "\\end{equation}\n",
    "where the battery's state of charge $SOC$ needs to remain close to a reference value $SOC^\\mathrm{ref}$ while respecting power and capacity constraints encoded in the convex set $\\mathcal{C}^\\mathrm{bess}$."
   ]
  },
  {
   "cell_type": "markdown",
   "metadata": {},
   "source": [
    "$\\textbf{Code}$\n",
    "\n",
    "The code is organized in modules. The *battery* and *building* modules parse the data that have been generated in MATLAB. The *agentBESS* and *agentCB* modules contain all the information regarding the buildings in the form of *types* and *functions*. These are standalone entities containing private information. \n",
    "\n",
    "In the algorithm that follows, a *master* module acts as the coordinator. Its responsibility is to enforce the tracking part of the objective as described above.\n",
    "\n",
    "Finally, the *pgm* and *async_inert_pgm* modules are the Proximal Gradient Method versions (synchronous and asynchronous) that solve the optimization problem.\n",
    "\n",
    "The following cells set up the simulation, namely they perform the data parsing and initiate the constructors."
   ]
  },
  {
   "cell_type": "code",
   "execution_count": 12,
   "metadata": {
    "collapsed": false
   },
   "outputs": [
    {
     "name": "stderr",
     "output_type": "stream",
     "text": [
      "WARNING: replacing module Buildings\n",
      "WARNING: replacing module Batteries\n",
      "WARNING: replacing module AgentsBESS\n",
      "WARNING: using Batteries.Batteries in module AgentsBESS conflicts with an existing identifier.\n",
      "WARNING: using Buildings.Buildings in module AgentsCB conflicts with an existing identifier.\n",
      "WARNING: using Buildings.Buildings in module AgentsCB conflicts with an existing identifier.\n",
      "WARNING: using Batteries.Batteries in module AgentsBESS conflicts with an existing identifier.\n",
      "WARNING: using AgentsCB.AgentsCB in module ProximalGradient conflicts with an existing identifier.\n",
      "WARNING: using AgentsBESS.AgentsBESS in module ProximalGradient conflicts with an existing identifier.\n",
      "WARNING: using Masters.Masters in module ProximalGradient conflicts with an existing identifier.\n",
      "WARNING: using Buildings.Buildings in module AgentsCB conflicts with an existing identifier.\n",
      "WARNING: using Batteries.Batteries in module AgentsBESS conflicts with an existing identifier.\n",
      "WARNING: using AgentsCB.AgentsCB in module AsynchronousProximalGradient conflicts with an existing identifier.\n",
      "WARNING: using AgentsBESS.AgentsBESS in module AsynchronousProximalGradient conflicts with an existing identifier.\n",
      "WARNING: using Masters.Masters in module AsynchronousProximalGradient conflicts with an existing identifier.\n"
     ]
    },
    {
     "data": {
      "text/plain": [
       "1-element Array{Any,1}:\n",
       " #undef"
      ]
     },
     "execution_count": 12,
     "metadata": {},
     "output_type": "execute_result"
    }
   ],
   "source": [
    "###################################################\n",
    "## Packages, initial data parsing and set globals #\n",
    "###################################################\n",
    "\n",
    "# set up state-space models for two agents\n",
    "include(\"building.jl\")\n",
    "using Buildings\n",
    "\n",
    "include(\"battery.jl\")\n",
    "using Batteries\n",
    "\n",
    "include(\"agentBESS.jl\")\n",
    "using AgentsBESS\n",
    "\n",
    "include(\"parseData.jl\")\n",
    "using parseData\n",
    "\n",
    "include(\"agentCB.jl\")\n",
    "using AgentsCB\n",
    "\n",
    "include(\"master.jl\")\n",
    "using Masters\n",
    "\n",
    "include(\"pgm.jl\")\n",
    "using ProximalGradient\n",
    "\n",
    "include(\"async_inert_pgm.jl\")\n",
    "using AsynchronousProximalGradient\n",
    "\n",
    "# general purpose packages\n",
    "# using Plots\n",
    "using JuMP\n",
    "using Gurobi\n",
    "using ECOS\n",
    "using Distributions\n",
    "using JLD\n",
    "using DataFrames\n",
    "using BenchmarkTools, Compat\n",
    "\n",
    "# global variables\n",
    "const N = 5   # agents\n",
    "const T = 93  # time horizon\n",
    "const δ = 0.01  # cost regularizer\n",
    "const α = 1000.0  # tracking cost regularizer\n",
    "Tref = 22.0  # reference temperature\n",
    "Tend = 300.0  # simulation time in seconds\n",
    "\n",
    "# initialize array of contructors for three (types of) builings and one battery\n",
    "Building = Array{Buildings.Building}(3)\n",
    "Battery = Array{Batteries.Battery}(1)\n",
    "\n",
    "# initialize array of constructors for initial states and disturbance signals\n",
    "x0 = Array{Any}(3)\n",
    "w = Array{Any}(3)\n",
    "ref = Array{Any}(1)\n",
    "\n",
    "# initialize array of constructors for preconditioners\n",
    "Γ_BESS = Array{Any}(1)\n",
    "Γ_CB = Array{Any}(1)"
   ]
  },
  {
   "cell_type": "code",
   "execution_count": 13,
   "metadata": {
    "collapsed": false
   },
   "outputs": [
    {
     "name": "stdout",
     "output_type": "stream",
     "text": [
      "\n",
      "(15,5)\n",
      "\n",
      "\n",
      "(54,18)\n",
      "\n",
      "\n",
      "(57,19)\n",
      "\n"
     ]
    }
   ],
   "source": [
    "#####################################################\n",
    "## Parsing of signals and building / battery module #\n",
    "#####################################################\n",
    "\n",
    "# parse initial states, disturbance and reference signals and preconditioning matrices\n",
    "x0, w, ref   = parseData.parseSignals(x0, w, ref)\n",
    "Γ_BESS, Γ_CB = parseData.parsePreconditioners(Γ_BESS, Γ_CB)\n",
    "\n",
    "# parse building and battery data\n",
    "building = Buildings.parseBuildings(Building)\n",
    "battery  = Batteries.parseBattery(Battery, N, T);"
   ]
  },
  {
   "cell_type": "code",
   "execution_count": 14,
   "metadata": {
    "collapsed": false
   },
   "outputs": [],
   "source": [
    "#####################################################\n",
    "## Aggregator CB constuctors                        # \n",
    "#####################################################\n",
    "\n",
    "# initalize consumptions, state-space, constraints and optimization data structures\n",
    "consume, ss, con, data = Array{Any}(1,N), Array{Any}(1,N), Array{Any}(1,N), Array{Any}(1,N)\n",
    "AgentCB = Array{Any}(N)\n",
    "\n",
    "# construct aggregators\n",
    "types = convert(Array,readtable(string(\"data/type\", \".dat\"), separator = ',', header = false))\n",
    "for i in 1:N\n",
    "    consume[i], ss[i], con[i], data[i] =  AgentsCB.setupAggregator(1, building[types[i]], Γ_CB, δ)\n",
    "    AgentCB[i]   = AgentsCB.Aggregator(1, consume[i], ss[i], con[i], data[i])\n",
    "end"
   ]
  },
  {
   "cell_type": "code",
   "execution_count": 15,
   "metadata": {
    "collapsed": false
   },
   "outputs": [
    {
     "data": {
      "text/plain": [
       "AgentsBESS.BESS"
      ]
     },
     "execution_count": 15,
     "metadata": {},
     "output_type": "execute_result"
    }
   ],
   "source": [
    "##############################################\n",
    "## BESS constructor                          # \n",
    "##############################################\n",
    "\n",
    "# initialize data structure and parameters\n",
    "data   = Array{Any}(1)\n",
    "SOC0   = 0.5*battery.SoCMax\n",
    "SOCref = 0.8*battery.SoCMax\n",
    "AgentBESS = Array{Any}(1)\n",
    "\n",
    "# BESS aggregator (currently one battery)\n",
    "system, data = AgentsBESS.setupBESS(battery, SOC0, SOCref, Γ_BESS)\n",
    "AgentBESS = AgentsBESS.BESS(system, data)\n",
    "typeof(AgentBESS)"
   ]
  },
  {
   "cell_type": "code",
   "execution_count": 16,
   "metadata": {
    "collapsed": false
   },
   "outputs": [
    {
     "data": {
      "text/plain": [
       "Masters.Master(5,[1.0 1.0 … 0.0 0.0; 0.0 0.0 … 0.0 0.0; … ; 0.0 0.0 … 0.0 0.0; 0.0 0.0 … 1.0 1.0],[1.0 0.0 … 0.0 0.0; 0.0 0.0 … 0.0 0.0; … ; 0.0 0.0 … 0.0 0.0; 0.0 0.0 … 0.0 1.0],[-0.2253,-0.13693,-0.21021,-0.08137,-0.10065,-0.024183,-0.022123,0.0049664,-0.15601,-0.12624  …  0.031261,0.0028789,0.036412,0.02905,0.09532,-0.002768,0.023753,0.087993,0.21606,-0.013234],[-0.130526,-0.0426833,-0.115994,0.0127743,-0.00656897,0.0698937,0.0719555,0.0990496,-0.0619228,-0.032148  …  0.124922,0.0965801,0.130181,0.122883,0.189206,0.0911706,0.117757,0.182086,0.310238,0.0809617])"
      ]
     },
     "execution_count": 16,
     "metadata": {},
     "output_type": "execute_result"
    }
   ],
   "source": [
    "##############################################\n",
    "## Master constructor                        # \n",
    "##############################################\n",
    "\n",
    "# dispatch plan corresponds to the baseline consumption\n",
    "p_CB_hat = zeros(T,N)  # baseline consumption per building\n",
    "p_CB_tot = zeros(T)    # total baseline consumption\n",
    "for i in 1:N\n",
    "    p_CB_hat[:,i] = AgentCB[i].consumption.baseline_electrical\n",
    "    p_CB_tot = p_CB_tot + p_CB_hat[:,i]\n",
    "end\n",
    "\n",
    "# intialize selection matrices\n",
    "S = Array{Any}(1)\n",
    "E = Array{Any}(1)\n",
    "Master = Array{Any}(1)\n",
    "\n",
    "# constructor for the master\n",
    "Master = Masters.setupMaster(S, E, ref, N, p_CB_tot)"
   ]
  },
  {
   "cell_type": "code",
   "execution_count": 17,
   "metadata": {
    "collapsed": false
   },
   "outputs": [],
   "source": [
    "# night and day times\n",
    "night_times = collect([0:6*4-1; 22*4:24*4-1])\n",
    "day_times = collect(6*4:22*4-1);\n",
    "\n",
    "# initialize model\n",
    "X0 = Array{Any}(N)  # initial state \n",
    "W  = Array{Any}(N)  # exogenous inputs\n",
    "\n",
    "for i in 1:N\n",
    "    if AgentCB[i].system.Nx == 15\n",
    "        X0[i] = x0[1]\n",
    "        W[i] = w[1]\n",
    "    elseif AgentCB[i].system.Nx == 54\n",
    "        X0[i] = x0[2]\n",
    "        W[i] = w[2]\n",
    "    elseif AgentCB[i].system.Nx == 57\n",
    "        X0[i] = x0[3]\n",
    "        W[i] = w[3]\n",
    "    end\n",
    "end"
   ]
  },
  {
   "cell_type": "markdown",
   "metadata": {},
   "source": [
    "$\\textbf{Solve the optimization problem centrally}$\n",
    "\n",
    "The problem is solved centrally using the Gurobi optimizer with JuMP. The optimizers is used for verification of the distributed solution."
   ]
  },
  {
   "cell_type": "code",
   "execution_count": 18,
   "metadata": {
    "collapsed": false
   },
   "outputs": [
    {
     "name": "stdout",
     "output_type": "stream",
     "text": [
      "Academic license - for non-commercial use only\n",
      "Optimize a model with 59613 rows, 37293 columns and 2008986 nonzeros\n",
      "Model has 13578 quadratic objective terms\n",
      "Coefficient statistics:\n",
      "  Matrix range     [7e-10, 2e+01]\n",
      "  Objective range  [2e-01, 3e+02]\n",
      "  QObjective range [1e-06, 2e+03]\n",
      "  Bounds range     [0e+00, 0e+00]\n",
      "  RHS range        [3e-05, 2e+04]\n",
      "Presolve removed 29669 rows and 651 columns\n",
      "Presolve time: 0.75s\n",
      "Presolved: 29944 rows, 36732 columns, 1941834 nonzeros\n",
      "Presolved model has 13578 quadratic objective terms\n",
      "Ordering time: 0.64s\n",
      "\n",
      "Barrier statistics:\n",
      " Free vars  : 14796\n",
      " AA' NZ     : 2.648e+06\n",
      " Factor NZ  : 3.750e+06 (roughly 60 MBytes of memory)\n",
      " Factor Ops : 5.169e+08 (less than 1 second per iteration)\n",
      " Threads    : 4\n",
      "\n",
      "                  Objective                Residual\n",
      "Iter       Primal          Dual         Primal    Dual     Compl     Time\n",
      "   0   2.74256722e+15 -2.74301942e+15  1.19e+07 9.25e+05  1.08e+09     2s\n",
      "   1   3.21936452e+14 -3.22261904e+14  4.06e+06 3.16e+05  4.10e+08     2s\n",
      "   2   1.32748607e+13 -1.34883965e+13  8.22e+05 6.40e+04  1.03e+08     2s\n",
      "   3   4.49426170e+11 -5.39567863e+11  1.51e+05 1.18e+04  2.10e+07     3s\n",
      "   4   1.89602454e+10 -5.02044571e+10  3.11e+04 2.42e+03  4.73e+06     3s\n",
      "   5   1.64368179e+08 -7.00068597e+09  2.92e+03 2.27e+02  5.63e+05     3s\n",
      "   6   1.14011863e+06 -1.10550768e+09  2.64e+02 2.05e+01  6.45e+04     3s\n",
      "   7  -2.47427361e+04 -1.86894449e+08  1.48e+01 1.15e+00  6.89e+03     3s\n",
      "   8  -2.07657515e+04 -6.95741590e+07  4.07e+00 3.17e-01  2.27e+03     3s\n",
      "   9  -1.81540691e+04 -2.60769129e+07  1.19e-01 9.30e-03  7.20e+02     3s\n",
      "  10  -1.81338732e+04 -9.67049324e+06  4.41e-02 3.43e-03  2.64e+02     3s\n",
      "  11  -1.81738739e+04 -5.77010067e+05  1.39e-03 7.40e-05  1.52e+01     4s\n",
      "  12  -1.83812440e+04 -6.91739246e+04  1.98e-04 7.35e-06  1.38e+00     4s\n",
      "  13  -1.84786684e+04 -2.37914551e+04  1.92e-05 7.67e-07  1.45e-01     4s\n",
      "  14  -1.85348779e+04 -1.91912720e+04  6.38e-07 2.14e-07  1.79e-02     4s\n",
      "  15  -1.85528430e+04 -1.86096594e+04  3.73e-08 3.92e-08  1.54e-03     4s\n",
      "  16  -1.85556378e+04 -1.85644582e+04  2.28e-08 3.05e-09  2.40e-04     5s\n",
      "  17  -1.85560683e+04 -1.85586201e+04  1.40e-09 1.99e-09  6.95e-05     5s\n",
      "  18  -1.85561317e+04 -1.85565729e+04  1.40e-09 7.90e-11  1.20e-05     5s\n",
      "  19  -1.85561401e+04 -1.85561774e+04  1.52e-09 1.27e-10  1.01e-06     5s\n",
      "  20  -1.85561409e+04 -1.85561421e+04  1.89e-09 5.28e-10  2.93e-08     5s\n",
      "  21  -1.85561409e+04 -1.85561409e+04  1.46e-09 4.59e-11  4.52e-11     5s\n",
      "\n",
      "Barrier solved model in 21 iterations and 5.28 seconds\n",
      "Optimal objective -1.85561409e+04\n",
      "\n"
     ]
    },
    {
     "data": {
      "text/plain": [
       "38.623334148"
      ]
     },
     "execution_count": 18,
     "metadata": {},
     "output_type": "execute_result"
    }
   ],
   "source": [
    "##################################################\n",
    "## Solve one optimal control instance centrally  #\n",
    "##################################################\n",
    "\n",
    "t = 0\n",
    "t0 = time_ns() \n",
    "\n",
    "agentModel = Model(solver=GurobiSolver())\n",
    "\n",
    "@variable(agentModel, U[j=1:N,1:AgentCB[j].system.Nu,1:T])  # activation inputs for heating CBs\n",
    "@variable(agentModel, X[j=1:N,1:AgentCB[j].system.Nx,1:T])  # internal states for CBs\n",
    "@variable(agentModel, Y[j=1:N,1:AgentCB[j].system.Ny,1:T])  # temperatures for CBs\n",
    "@variable(agentModel, p_CB[1:T,1:N])                        # total power consumption for CBs\n",
    "@variable(agentModel, p_BESS[1:T])                          # total power consumption for BESS\n",
    "\n",
    "X0  # initial states\n",
    "\n",
    "# dynamics & equality contraints\n",
    "for j = 1:N\n",
    "    for i = 1:AgentCB[j].system.Nx\n",
    "        @constraint(agentModel, X[j,i,1] == (sum(AgentCB[j].system.A[i,l]*X0[j][l] for l = 1:AgentCB[j].system.Nx) + sum(AgentCB[j].system.Bu[i,l]*U[j,l,1] for l = 1:AgentCB[j].system.Nu) + sum(AgentCB[j].system.Bw[i,l]*W[j][l,1] for l = 1:AgentCB[j].system.Nw) ) )\n",
    "    end\n",
    "    for i = 1:AgentCB[j].system.Ny\n",
    "        @constraint(agentModel, Y[j,i,1] == sum(AgentCB[j].system.C[i,l]*X[j,l,1] for l = 1:AgentCB[j].system.Nx) )\n",
    "    end\n",
    "end\n",
    "\n",
    "for j = 1:N\n",
    "    for t = 1:T-1\n",
    "        for i = 1:AgentCB[j].system.Nx\n",
    "            @constraint(agentModel, X[j,i,t+1] == (sum(AgentCB[j].system.A[i,l]*X[j,l,t] for l = 1:AgentCB[j].system.Nx) + sum(AgentCB[j].system.Bu[i,l]*U[j,l,t+1] for l = 1:AgentCB[j].system.Nu) + sum(AgentCB[j].system.Bw[i,l]*W[j][l,t+1] for l = 1:AgentCB[j].system.Nw) ) )\n",
    "        end\n",
    "\n",
    "        for i = 1:AgentCB[j].system.Ny\n",
    "            @constraint(agentModel, Y[j,i,t+1] == sum(AgentCB[j].system.C[i,l]*X[j,l,t+1] for l = 1:AgentCB[j].system.Nx) )\n",
    "        end\n",
    "\n",
    "        temp = 0\n",
    "        for s = 1:AgentCB[j].system.Nu\n",
    "            temp = temp + U[j,s,t]\n",
    "        end\n",
    "        @constraint(agentModel, p_CB[t,j] == temp/(1000*AgentCB[j].consumption.COP))\n",
    "\n",
    "    end\n",
    "    temp = 0\n",
    "    for s = 1:AgentCB[j].system.Nu\n",
    "        temp = temp + U[j,s,T]\n",
    "    end\n",
    "    @constraint(agentModel, p_CB[T,j] == temp/(1000*AgentCB[j].consumption.COP))\n",
    "end\n",
    "                                \n",
    "# inequality constraints\n",
    "for j = 1:N\n",
    "    for t = 1:T\n",
    "        if (t-1) in night_times\n",
    "            for i = 1:AgentCB[j].system.Ny\n",
    "                @constraint(agentModel, Y[j,i,t] >= AgentCB[j].constraints.outputNightMin[i])\n",
    "                @constraint(agentModel, AgentCB[j].constraints.outputNightMax[i] >= Y[j,i,t])\n",
    "            end\n",
    "        elseif (t-1) in day_times\n",
    "            for i = 1:AgentCB[j].system.Ny\n",
    "                @constraint(agentModel, Y[j,i,t] >= AgentCB[j].constraints.outputDayMin[i])\n",
    "                @constraint(agentModel, AgentCB[j].constraints.outputDayMax[i] >= Y[j,i,t])\n",
    "            end\n",
    "        end\n",
    "\n",
    "        for i = 1:AgentCB[j].system.Nu # for all rows do the following\n",
    "            @constraint(agentModel, 0*AgentCB[j].constraints.inputMin[i] <= U[j,i,t])\n",
    "            @constraint(agentModel, U[j,i,t] <= AgentCB[j].constraints.inputMax[i])\n",
    "        end\n",
    "    end\n",
    "end\n",
    "   \n",
    "v_p_CB = vec(p_CB)  \n",
    "SE = Master.S*Master.E\n",
    "M = [eye(T) SE]\n",
    "\n",
    "for i = 1:T                                \n",
    "    @constraint(agentModel, p_BESS[i] <= AgentBESS.system.pMax)  \n",
    "    @constraint(agentModel, p_BESS[i] >= AgentBESS.system.pMin) \n",
    "    @constraint(agentModel, AgentBESS.system.AA_bess[i]*SOC0 + dot(AgentBESS.system.BB_bess[i,:],p_BESS) <= AgentBESS.system.SoCMax) \n",
    "    @constraint(agentModel, AgentBESS.system.AA_bess[i]*SOC0 + dot(AgentBESS.system.BB_bess[i,:],p_BESS) >= AgentBESS.system.SoCMin)\n",
    "end\n",
    "     \n",
    "obj = 0;                                \n",
    "obj = dot(p_BESS, 0.5*δ*(AgentBESS.system.BB_bess'*AgentBESS.system.BB_bess)*p_BESS) + δ*dot(p_BESS, (AgentBESS.system.BB_bess'*AgentBESS.data.c_bess)) + 0.5*δ*dot(AgentBESS.data.c_bess, AgentBESS.data.c_bess)   \n",
    "obj += dot([p_BESS;v_p_CB], 0.5*α*(M'*M)*[p_BESS;v_p_CB]) - α*dot([p_BESS;v_p_CB], (M'*Master.ϵ_unc)) + 0.5*α*dot(Master.ϵ_unc, Master.ϵ_unc)  \n",
    "                                    \n",
    "for j = 1:N                                    \n",
    "    obj += 0.5*δ*vecdot(p_CB[:,j]-AgentCB[j].consumption.baseline_electrical, p_CB[:,j]-AgentCB[j].consumption.baseline_electrical)\n",
    "    for t = 1:T\n",
    "        for i = 1:AgentCB[j].system.Ny\n",
    "            obj += 0.5*δ*(Y[j,i,t]-Tref)*(Y[j,i,t]-Tref) \n",
    "        end\n",
    "    end\n",
    "end\n",
    "\n",
    "@objective( agentModel, Min, obj )\n",
    "solve(agentModel)  # solve optimization\n",
    "gc()               # run garbage collector\n",
    "                                \n",
    "t = (time_ns()-t0)/1e9  # time solution"
   ]
  },
  {
   "cell_type": "code",
   "execution_count": 19,
   "metadata": {
    "collapsed": false
   },
   "outputs": [
    {
     "data": {
      "text/plain": [
       "93×5 Array{Float64,2}:\n",
       " 0.0155582   0.00188379  0.0104733   0.0104733   0.0155582 \n",
       " 0.0121758   0.00186016  0.0104032   0.0104032   0.0121758 \n",
       " 0.00979207  0.00183404  0.00987013  0.00987013  0.00979207\n",
       " 0.00837487  0.00180503  0.00924747  0.00924747  0.00837487\n",
       " 0.00716721  0.00171804  0.00737395  0.00737395  0.00716721\n",
       " 0.0237828   0.00190389  0.0116301   0.0116301   0.0237828 \n",
       " 0.0119359   0.00182878  0.00998431  0.00998431  0.0119359 \n",
       " 0.00917755  0.00180043  0.00929151  0.00929151  0.00917755\n",
       " 0.00889068  0.00176892  0.00843478  0.00843478  0.00889068\n",
       " 0.0078217   0.00168033  0.00674537  0.00674537  0.0078217 \n",
       " 0.00959299  0.00176264  0.00837313  0.00837313  0.00959299\n",
       " 0.0336161   0.00205431  0.0168066   0.0168066   0.0336161 \n",
       " 0.0170707   0.00193285  0.0124818   0.0124818   0.0170707 \n",
       " ⋮                                                         \n",
       " 0.031967    0.00152941  0.0165186   0.0165186   0.031967  \n",
       " 0.0318465   0.00153329  0.0164959   0.0164959   0.0318465 \n",
       " 0.0317358   0.0015371   0.0164774   0.0164774   0.0317358 \n",
       " 0.0315827   0.00154112  0.0164658   0.0164658   0.0315827 \n",
       " 0.0315598   0.00154567  0.0164655   0.0164655   0.0315598 \n",
       " 0.0314755   0.0015502   0.0164695   0.0164695   0.0314755 \n",
       " 0.0315262   0.00155471  0.0164781   0.0164781   0.0315262 \n",
       " 0.0312969   0.00155935  0.0164906   0.0164906   0.0312969 \n",
       " 0.0306294   0.00156431  0.0165115   0.0165115   0.0306294 \n",
       " 0.0290815   0.00156921  0.0165231   0.0165231   0.0290815 \n",
       " 0.0377055   0.0015752   0.0166177   0.0166177   0.0377055 \n",
       " 0.0290996   0.00158048  0.0165875   0.0165875   0.0290996 "
      ]
     },
     "execution_count": 19,
     "metadata": {},
     "output_type": "execute_result"
    }
   ],
   "source": [
    "# get optimizers\n",
    "v_p_CB_opt = getvalue(v_p_CB)  # \n",
    "p_BESS_opt = getvalue(p_BESS)\n",
    "p_CB_opt   = getvalue(p_CB)"
   ]
  },
  {
   "cell_type": "code",
   "execution_count": 20,
   "metadata": {
    "collapsed": false
   },
   "outputs": [
    {
     "name": "stdout",
     "output_type": "stream",
     "text": [
      "Academic license - for non-commercial use only\n",
      "Academic license - for non-commercial use only\n",
      "Academic license - for non-commercial use only\n",
      "Academic license - for non-commercial use only\n",
      "Academic license - for non-commercial use only\n",
      "Academic license - for non-commercial use only\n"
     ]
    }
   ],
   "source": [
    "#################################################\n",
    "## Parses agents' optimization problems once    #\n",
    "#################################################\n",
    "\n",
    "optimizationModelProxCB = Array{Any}(N)  # initialize N prox minimization problems\n",
    "\n",
    "for i in 1:N\n",
    "    optimizationModelProxCB[i] = AgentsCB.setupProxCB(AgentCB[i], Tref, T, X0[i], W[i], night_times, day_times, δ);\n",
    "end\n",
    "\n",
    "optimizationModelProxBESS = Array{Any}(1)\n",
    "optimizationModelProxBESS = AgentsBESS.setupProxBESS(AgentBESS, T, SOC0, δ);"
   ]
  },
  {
   "cell_type": "markdown",
   "metadata": {},
   "source": [
    "$\\textbf{The Async simulation}$\n",
    "\n",
    "In order to simulate the asycn implementation we have each agent execute its optimization step several times and consequently \n",
    "fit a normal distribution $\\mathrm{SolveTime(i)}\\sim\\mathcal{N}(\\mu_i,\\sigma_i)$ to the sampled execution times. \n",
    "In this way we can estimate the time it will take to perform one local update by drawing a sample from its corresponding distribution.\n",
    "\n",
    "First initialize with $t_i=\\mathrm{SolveTime(i)}$, $t=0$ and some $T_{\\mathrm{end}}>t$.\n",
    "\n",
    "The algorithm reads as follows:\n",
    "1. $j\\leftarrow \\mathrm{argmin}_i\\;t_i$\n",
    "2. $t\\leftarrow t + t_j$\n",
    "3. $t_j\\leftarrow t + \\mathrm{SolveTime(j)}$\n",
    "\n",
    "Repeat until $t\\geq T_{\\mathrm{end}}$.\n"
   ]
  },
  {
   "cell_type": "code",
   "execution_count": 11,
   "metadata": {
    "collapsed": false
   },
   "outputs": [
    {
     "ename": "LoadError",
     "evalue": "UndefVarError: BenchmarkTools not defined",
     "output_type": "error",
     "traceback": [
      "UndefVarError: BenchmarkTools not defined",
      "",
      " in include_string(::String, ::String) at ./loading.jl:441",
      " in include_string(::String, ::String) at /Applications/Julia-0.5.app/Contents/Resources/julia/lib/julia/sys.dylib:?"
     ]
    }
   ],
   "source": [
    "#################################################\n",
    "## Benchmark proximal minimization problems     #\n",
    "#################################################\n",
    "\n",
    "# timings in Julia\n",
    "bench_small    = BenchmarkTools.Trial           # run trial for small building\n",
    "bench_med      = BenchmarkTools.Trial           # run trial for medium building\n",
    "bench_large    = BenchmarkTools.Trial           # run trial for large building\n",
    "TimeCB_small   = Distributions.Normal{Float64}  # fit normal distribution to solve times of small CB\n",
    "TimeCB_med     = Distributions.Normal{Float64}  # fit normal distribution to solve times of medium CB\n",
    "TimeCB_large   = Distributions.Normal{Float64}  # fit normal distribution to solve times of large CB\n",
    "\n",
    "point = randn(T,1)\n",
    "\n",
    "# solve a group of proximal optimization problems per type of agent \n",
    "# and fit normal distributions to the execution times (in sec)\n",
    "i = 1\n",
    "for i in 1:N\n",
    "    if AgentCB[i].system.Nx == 15\n",
    "        bench_small = @benchmark AgentsCB.solveProxCB(optimizationModelProxCB[i], point, sparse(AgentCB[i].data.Γ))\n",
    "        TimeCB_small = fit(Normal, getfield(bench_small, :times)/1e9)\n",
    "        break;\n",
    "    end\n",
    "end\n",
    "\n",
    "for i in 1:N\n",
    "    if AgentCB[i].system.Nx == 54\n",
    "        bench_med = @benchmark AgentsCB.solveProxCB(optimizationModelProxCB[i], point, sparse(AgentCB[i].data.Γ))\n",
    "        TimeCB_med = fit(Normal, getfield(bench_med, :times)/1e9)\n",
    "        break;\n",
    "    end\n",
    "end\n",
    "\n",
    "for i in 1:N\n",
    "    if AgentCB[i].system.Nx == 57\n",
    "        bench_large = @benchmark AgentsCB.solveProxCB(optimizationModelProxCB[i], point, sparse(AgentCB[i].data.Γ))\n",
    "        TimeCB_large = fit(Normal, getfield(bench_large, :times)/1e9)\n",
    "        break;\n",
    "    end\n",
    "end\n",
    "\n",
    "# similarly benchmark BESS solve time (in sec)\n",
    "point      = randn(T)\n",
    "bench_BESS = BenchmarkTools.Trial\n",
    "TimeBESS   = Distributions.Normal{Float64}\n",
    "bench_BESS = @benchmark AgentsBESS.solveProxBESS(optimizationModelProxBESS, point, sparse(AgentBESS.data.Γ))\n",
    "TimeBESS   = fit(Normal, getfield(bench_BESS, :times)/1e9)"
   ]
  },
  {
   "cell_type": "code",
   "execution_count": null,
   "metadata": {
    "collapsed": false
   },
   "outputs": [],
   "source": [
    "#################################################\n",
    "## Generate execution times for simulation      #\n",
    "#################################################\n",
    "\n",
    "execTimesMean = zeros(N+1)  # mean execution time per agent\n",
    "execTimesVar = zeros(N+1)   # variance of execution time per agent\n",
    "rndUpdate = zeros(N+1)      # sample solve time normal distribution \n",
    "\n",
    "# means and variances of solve time for each type of building\n",
    "CB_small_μ = TimeCB_small.μ\n",
    "CB_small_σ = TimeCB_small.σ\n",
    "CB_medium_μ = TimeCB_med.μ\n",
    "CB_medium_σ = TimeCB_med.σ\n",
    "CB_large_μ = TimeCB_large.μ\n",
    "CB_large_σ = TimeCB_large.σ\n",
    "BESS_μ = TimeBESS.μ\n",
    "BESS_σ = TimeBESS.σ\n",
    "\n",
    "# execution time per building agent; samples are to be used to emulate the async updates\n",
    "for i in 1:N\n",
    "    if AgentCB[i].system.Nx == 15\n",
    "        rndUpdate[i] = CB_small_μ + CB_small_σ*randn()\n",
    "        execTimesMean[i] = CB_small_μ\n",
    "        execTimesVar[i] = TimeCB_small.σ\n",
    "    elseif AgentCB[i].system.Nx == 54\n",
    "        rndUpdate[i] = CB_medium_μ + CB_medium_σ*randn()\n",
    "        execTimesMean[i] = CB_medium_μ\n",
    "        execTimesVar[i] = CB_medium_σ\n",
    "    elseif AgentCB[i].system.Nx == 57\n",
    "        rndUpdate[i] = CB_large_μ + CB_large_σ*randn()\n",
    "        execTimesMean[i] = CB_large_μ\n",
    "        execTimesVar[i] = CB_large_σ\n",
    "    end\n",
    "end\n",
    "\n",
    "# execution time for battery agent\n",
    "rndUpdate[N+1]     = BESS_μ + BESS_σ*randn() \n",
    "execTimesMean[N+1] = BESS_μ\n",
    "execTimesVar[N+1]  = BESS_σ\n",
    "\n",
    "# Generate next update times for agent\n",
    "UpdateQueue = Dict{Int64,Float64}(zip(1:N+1, abs(rndUpdate)));\n",
    "\n",
    "ExecTimesTot  = UpdateQueue\n",
    "ExecTimesMean = execTimesMean\n",
    "ExecTimesVar  = execTimesVar"
   ]
  },
  {
   "cell_type": "markdown",
   "metadata": {},
   "source": [
    "$\\textbf{The Synchronous Proximal Gradient Method}$\n",
    "\n",
    "The problem is first solved using the regular PGM. \n",
    "\n",
    "The gradient of the tracking term $\\nabla f(p^\\mathrm{cb},p^\\mathrm{bess})$, where $f(p^\\mathrm{cb},p^\\mathrm{bess}):=\\frac{\\alpha}{2}\\|p^\\mathrm{bess}(t) + \\sum_{i=1}^N(p_i^\\mathrm{cb}(t)-\\hat{p}_i^\\mathrm{cb}(t))-r(t)\\|^2_2$, is communicated to the agents (CBs and BESS). Each agent subsequently solves a $\\textit{proximal minimization problem of the form}$\n",
    "\n",
    "\\begin{align}\n",
    "&{\\text{minimize}} && g_i(z_i) + \\frac{1}{2\\gamma}\\|z_i-y\\|_2^2\\enspace,\n",
    "\\end{align}\n",
    "with variable $z=(p^\\mathrm{cb},p^\\mathrm{bess})$, $\\gamma>0$ an admissible stepsize and $y = z_i^k - γ∇_if(z^k)$."
   ]
  },
  {
   "cell_type": "code",
   "execution_count": null,
   "metadata": {
    "collapsed": false
   },
   "outputs": [],
   "source": [
    "#########################################################\n",
    "## Solve one optimal control instance: Synchronous PGM  #\n",
    "#########################################################\n",
    "\n",
    "# initialize PGM (call to constructor)\n",
    "pgm_u, pgm_y, pgm_x, pgm_v, pgm_P_CB, pgm_P_CB_prev, pgm_P_BESS, pgm_P_BESS_prev, pgm_RES = ProximalGradient.setupPGM(AgentCB, N, T)\n",
    "pgm_init = ProximalGradient.PGM(pgm_u, pgm_y, pgm_x, pgm_v, pgm_P_CB, pgm_P_CB_prev, pgm_P_BESS, pgm_P_BESS_prev, pgm_RES)\n",
    "\n",
    "# solve\n",
    "β = 0.0  # heavy-ball acceleration\n",
    "η = 0.9  # under-relaxation\n",
    "pgm, T1 = ProximalGradient.AlgoPGM(pgm_init, N, T, Tend, SOC0, ExecTimesTot, optimizationModelProxCB, optimizationModelProxBESS, AgentBESS, AgentCB, Master, p_BESS_opt, v_p_CB_opt, η, β, δ, α);"
   ]
  },
  {
   "cell_type": "markdown",
   "metadata": {},
   "source": [
    "$\\textbf{The Asynchronous Proximal Gradient Method}$\n",
    "\n",
    "At each global clock count $k$ one agent $i_k$ updates. The update corresponds to the solution of the prox problem\n",
    "\n",
    "\\begin{align}\n",
    "&{\\text{minimize}} && g_{i_k}(z_{i_k}) + \\frac{1}{2\\gamma}\\|z_{i_k}-y_{i_k}\\|_2^2\\enspace,\n",
    "\\end{align}\n",
    "where $y_{i_k} = z_{i_k}^k - γ∇_if(z^{i_k}_\\mathrm{read})$ and $z^{i_k}_\\mathrm{read}$ corresponds to an outdated version of the decision vector $z$, when agent $i_k$ last read it. "
   ]
  },
  {
   "cell_type": "code",
   "execution_count": null,
   "metadata": {
    "collapsed": false
   },
   "outputs": [],
   "source": [
    "############################################################################\n",
    "## Solve one optimal control instance: Coordinate descent asynchronous PGM #\n",
    "############################################################################\n",
    "\n",
    "include(\"async_inert_pgm.jl\")\n",
    "using AsynchronousProximalGradient\n",
    "\n",
    "# initialize AsInPGM (call to constructor)\n",
    "async_pgm_u, async_pgm_y, async_pgm_x, async_pgm_v, async_pgm_P_CB, async_pgm_P_CB_prev, async_pgm_P_BESS, async_pgm_P_BESS_prev, async_pgm_RES, async_pgm_P_CB_local, async_pgm_P_BESS_local, async_pgm_P_CB_local_prev, async_pgm_P_BESS_local_prev = AsynchronousProximalGradient.setupAsInPGM(AgentCB, N, T)\n",
    "async_pgm_init = AsynchronousProximalGradient.AsInPGM(async_pgm_u, async_pgm_y, async_pgm_x, async_pgm_v, async_pgm_P_CB, async_pgm_P_CB_prev, async_pgm_P_BESS, async_pgm_P_BESS_prev, async_pgm_RES, async_pgm_P_CB_local, async_pgm_P_BESS_local, async_pgm_P_CB_local_prev, async_pgm_P_BESS_local_prev)\n",
    "\n",
    "# reset times\n",
    "UpdateQueue  = Dict{Int64,Float64}(zip(1:N+1, abs(rndUpdate)))\n",
    "ExecTimesTot = UpdateQueue\n",
    "\n",
    "# solve\n",
    "η = 0.9  # under-relaxation\n",
    "β = 0.0  # heavy-ball acceleration\n",
    "as_pgm, T2, NoUpdates2 = AsynchronousProximalGradient.AlgoAsInPGM(true, false, async_pgm_init, N, T, Tend, ExecTimesTot, ExecTimesMean, ExecTimesVar, optimizationModelProxCB, optimizationModelProxBESS, AgentBESS, AgentCB, Master, p_BESS_opt, v_p_CB_opt, η, β, δ, α);"
   ]
  },
  {
   "cell_type": "markdown",
   "metadata": {},
   "source": [
    "$\\textbf{The Asynchronous 'Aggregated' Proximal Gradient Method}$\n",
    "\n",
    "Similar to the previous algorithm, with the difference that $\\textit{all}$ coordinates of the decision vector $z$ are updated at each iteration $k$. For the coordinates $j\\neq i_k$, the last-computed values are used to perform the update."
   ]
  },
  {
   "cell_type": "code",
   "execution_count": null,
   "metadata": {
    "collapsed": false
   },
   "outputs": [],
   "source": [
    "############################################################################\n",
    "## Solve one optimal control instance: 'Aggregated' Asynchronous PGM       #\n",
    "############################################################################\n",
    "\n",
    "# Initialize AsInPGM (call to constructor)\n",
    "async_pgm_u, async_pgm_y, async_pgm_x, async_pgm_v, async_pgm_P_CB, async_pgm_P_CB_prev, async_pgm_P_BESS, async_pgm_P_BESS_prev, async_pgm_RES, async_pgm_P_CB_local, async_pgm_P_BESS_local, async_pgm_P_CB_local_prev, async_pgm_P_BESS_local_prev = AsynchronousProximalGradient.setupAsInPGM(AgentCB, N, T)\n",
    "async_pgm_init = AsynchronousProximalGradient.AsInPGM(async_pgm_u, async_pgm_y, async_pgm_x, async_pgm_v, async_pgm_P_CB, async_pgm_P_CB_prev, async_pgm_P_BESS, async_pgm_P_BESS_prev, async_pgm_RES, async_pgm_P_CB_local, async_pgm_P_BESS_local, async_pgm_P_CB_local_prev, async_pgm_P_BESS_local_prev)\n",
    "\n",
    "s# solve\n",
    "η = 0.9  # under-relaxation\n",
    "β = 0.0  # heavy-ball acceleration\n",
    "UpdateQueue  = Dict{Int64,Float64}(zip(1:N+1, abs(rndUpdate)))\n",
    "ExecTimesTot = UpdateQueue\n",
    "as_agg_pgm, T3, NoUpdates3 = AsynchronousProximalGradient.AlgoAsInPGM(false, false, async_pgm_init, N, T, Tend, ExecTimesTot, ExecTimesMean, ExecTimesVar, optimizationModelProxCB, optimizationModelProxBESS, AgentBESS, AgentCB, Master, p_BESS_opt, v_p_CB_opt, η, β, δ, α);"
   ]
  },
  {
   "cell_type": "markdown",
   "metadata": {},
   "source": [
    "$\\textbf{The Asynchronous Inertial Proximal Gradient Method}$\n",
    "\n",
    "At each global clock count $k$ one agent $i_k$ updates. The update corresponds to the solution of the prox problem\n",
    "\n",
    "\\begin{align}\n",
    "&{\\text{minimize}} && g_{i_k}(z_{i_k}) + \\frac{1}{2\\gamma}\\|z_{i_k}-y_{i_k}\\|_2^2\\enspace,\n",
    "\\end{align}\n",
    "where $y_{i_k} = z_{i_k}^k - γ∇_if(z^{i_k}_\\mathrm{read}) + \\beta (z^{i_k}_{i_k,\\mathrm{write}}-z^{i_k,\\mathrm{prev}}_{i,k\\mathrm{write}})$ and $\\beta\\in [0,1)$.\n",
    "\n",
    "* $z^{i_k}_\\mathrm{read}$ corresponds to an outdated version of the decision vector $z$, when agent $i_k$ last received it from the coordinator.\n",
    "* $z^{i_k}_\\mathrm{write}$ corresponds to an outdated version of the decision vector $z$, when agent $i_k$ last updated the coordinator.\n",
    "* $z^{i_k,\\mathrm{prev}}_\\mathrm{write}$ corresponds to an outdated version of the decision vector $z$, the second most recent time that agent $i_k$ updated the coordinator."
   ]
  },
  {
   "cell_type": "code",
   "execution_count": null,
   "metadata": {
    "collapsed": false
   },
   "outputs": [],
   "source": [
    "############################################################################\n",
    "## Solve one optimal control instance: Asynchronous Inertial PGM           #\n",
    "############################################################################\n",
    "\n",
    "# initialize AsInPGM (call to constructor)\n",
    "async_pgm_u, async_pgm_y, async_pgm_x, async_pgm_v, async_pgm_P_CB, async_pgm_P_CB_prev, async_pgm_P_BESS, async_pgm_P_BESS_prev, async_pgm_RES, async_pgm_P_CB_local, async_pgm_P_BESS_local, async_pgm_P_CB_local_prev, async_pgm_P_BESS_local_prev = AsynchronousProximalGradient.setupAsInPGM(AgentCB, N, T)\n",
    "async_pgm_init = AsynchronousProximalGradient.AsInPGM(async_pgm_u, async_pgm_y, async_pgm_x, async_pgm_v, async_pgm_P_CB, async_pgm_P_CB_prev, async_pgm_P_BESS, async_pgm_P_BESS_prev, async_pgm_RES, async_pgm_P_CB_local, async_pgm_P_BESS_local, async_pgm_P_CB_local_prev, async_pgm_P_BESS_local_prev)\n",
    "\n",
    "# reset times\n",
    "UpdateQueue  = Dict{Int64,Float64}(zip(1:N+1, abs(rndUpdate)))\n",
    "ExecTimesTot = UpdateQueue\n",
    "\n",
    "# solve\n",
    "η = 0.9  # under-relaxation\n",
    "β = 0.0  # heavy-ball acceleration\n",
    "as_agg_in_pgm, T4, NoUpdates4 = AsynchronousProximalGradient.AlgoAsInPGM(false, true, async_pgm_init, N, T, Tend, ExecTimesTot, ExecTimesMean, ExecTimesVar, optimizationModelProxCB, optimizationModelProxBESS, AgentBESS, AgentCB, Master, p_BESS_opt, v_p_CB_opt, η, β, δ, α)"
   ]
  },
  {
   "cell_type": "code",
   "execution_count": null,
   "metadata": {
    "collapsed": false
   },
   "outputs": [],
   "source": [
    "# compare all outputs\n",
    "[vec(as_pgm.P_CB) vec(as_agg_pgm.P_CB) vec(as_agg_in_pgm.P_CB) pgm.P_CB v_p_CB_opt]"
   ]
  },
  {
   "cell_type": "code",
   "execution_count": 1,
   "metadata": {
    "collapsed": false
   },
   "outputs": [
    {
     "ename": "LoadError",
     "evalue": "UndefVarError: pyplot not defined",
     "output_type": "error",
     "traceback": [
      "UndefVarError: pyplot not defined",
      "",
      " in include_string(::String, ::String) at ./loading.jl:441",
      " in include_string(::String, ::String) at /Applications/Julia-0.5.app/Contents/Resources/julia/lib/julia/sys.dylib:?"
     ]
    }
   ],
   "source": [
    "## Plotting residuals\n",
    "pyplot()\n",
    "using LaTeXStrings\n",
    "\n",
    "t = max(length(T1), max(length(T2), max(length(T3), length(T4))))\n",
    "t_vals = Vector[T1[2:end], T2[2:end], T3[2:end], T4[2:end]]\n",
    "y_vals = Vector[pgm.RES[2:end], as_pgm.RES[2:end], as_agg_pgm.RES[2:end], as_agg_in_pgm.RES[2:end]]\n",
    "labels = [\"Sync PGM\", \"Async PGM\", \"Async 'Aggregated' PGM\", \"Async Inertial PGM\"]\n",
    "\n",
    "Plot_N10 = plot(t_vals, y_vals, color=[:black :orange :green :blue], xaxis = (\"t [s]\", font(12, \"Helvetica\")), \n",
    "                 yaxis = (L\"$\\|z-z^\\ast\\| / \\|z^\\ast\\|$\"),\n",
    "                 titlefont = font(12, \"Helvetica\"),\n",
    "                 legendfont = font(9, \"Helvetica\"),\n",
    "                 linewidth = 2,\n",
    "#                  leg = false,\n",
    "                 label = labels',\n",
    "                 title = (\"Convergence to optimizer for N=5\"),\n",
    "                 layout=1)\n",
    "yaxis!(:log10, font(12, \"Helvetica\"))"
   ]
  },
  {
   "cell_type": "code",
   "execution_count": null,
   "metadata": {
    "collapsed": true
   },
   "outputs": [],
   "source": []
  }
 ],
 "metadata": {
  "kernelspec": {
   "display_name": "Julia 0.5.2",
   "language": "julia",
   "name": "julia-0.5"
  },
  "language_info": {
   "file_extension": ".jl",
   "mimetype": "application/julia",
   "name": "julia",
   "version": "0.5.2"
  }
 },
 "nbformat": 4,
 "nbformat_minor": 1
}
